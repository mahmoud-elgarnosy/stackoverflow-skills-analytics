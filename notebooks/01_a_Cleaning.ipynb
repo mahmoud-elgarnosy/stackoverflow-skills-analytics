{
 "cells": [
  {
   "cell_type": "markdown",
   "id": "59c660e8",
   "metadata": {},
   "source": [
    "### Preprocessing Data"
   ]
  },
  {
   "cell_type": "code",
   "execution_count": 1,
   "id": "822571b0",
   "metadata": {},
   "outputs": [],
   "source": [
    "import pandas as pd\n",
    "import numpy as np\n",
    "import matplotlib.pyplot as plt \n",
    "import pickle"
   ]
  },
  {
   "cell_type": "code",
   "execution_count": 2,
   "id": "e45ac5df",
   "metadata": {},
   "outputs": [],
   "source": [
    "df = pd.read_csv('../data/raw/survey_results_public.csv')\n",
    "df_copy = df.copy()"
   ]
  },
  {
   "cell_type": "code",
   "execution_count": 3,
   "id": "0d44876e",
   "metadata": {},
   "outputs": [],
   "source": [
    "replace_dict = {'Less than 1 year' : 0, 'More than 50 years' : 51 }\n",
    "replace_column = ['YearsCodePro', 'YearsCode']\n",
    "\n",
    "for column in replace_column:\n",
    "    df[column] = df[column].replace(replace_dict).astype('float64')\n",
    "\n"
   ]
  },
  {
   "cell_type": "code",
   "execution_count": 4,
   "id": "7f9eddcb",
   "metadata": {},
   "outputs": [
    {
     "data": {
      "text/plain": [
       "array([nan, 10.,  4.,  5.,  6.,  2., 30.,  9., 18., 12., 21.,  1., 16.,\n",
       "        0., 15.,  3., 35.,  7.,  8., 17., 14., 26., 25., 20., 50., 34.,\n",
       "       11., 24., 22., 13., 31., 23., 39., 41., 27., 28., 19., 33., 51.,\n",
       "       37., 29., 32., 43., 40., 38., 45., 42., 46., 36., 44., 47., 48.,\n",
       "       49.])"
      ]
     },
     "execution_count": 4,
     "metadata": {},
     "output_type": "execute_result"
    }
   ],
   "source": [
    "df.YearsCodePro.unique()"
   ]
  },
  {
   "cell_type": "code",
   "execution_count": 5,
   "id": "03fa292a",
   "metadata": {},
   "outputs": [
    {
     "data": {
      "text/plain": [
       "22223"
      ]
     },
     "execution_count": 5,
     "metadata": {},
     "output_type": "execute_result"
    }
   ],
   "source": [
    "np.isnan(df['YearsCodePro'].values).sum()"
   ]
  },
  {
   "cell_type": "code",
   "execution_count": 6,
   "id": "279344b2",
   "metadata": {},
   "outputs": [
    {
     "data": {
      "text/plain": [
       "0        C++;HTML/CSS;JavaScript;Objective-C;PHP;Swift\n",
       "1                                    JavaScript;Python\n",
       "2                             Assembly;C;Python;R;Rust\n",
       "3                                JavaScript;TypeScript\n",
       "4                       Bash/Shell;HTML/CSS;Python;SQL\n",
       "                             ...                      \n",
       "83434                               Clojure;Kotlin;SQL\n",
       "83435                                              NaN\n",
       "83436                               Groovy;Java;Python\n",
       "83437             Bash/Shell;JavaScript;Node.js;Python\n",
       "83438           Delphi;Elixir;HTML/CSS;Java;JavaScript\n",
       "Name: LanguageHaveWorkedWith, Length: 83439, dtype: object"
      ]
     },
     "execution_count": 6,
     "metadata": {},
     "output_type": "execute_result"
    }
   ],
   "source": [
    "df['LanguageHaveWorkedWith']"
   ]
  },
  {
   "cell_type": "code",
   "execution_count": 7,
   "id": "2628bef7",
   "metadata": {},
   "outputs": [],
   "source": [
    "# ['NEWSOSites','CompFreq']"
   ]
  },
  {
   "cell_type": "code",
   "execution_count": 8,
   "id": "26479c96",
   "metadata": {},
   "outputs": [],
   "source": [
    "to_split = ['LanguageHaveWorkedWith', 'LanguageWantToWorkWith',\n",
    "       'DatabaseHaveWorkedWith', 'DatabaseWantToWorkWith',\n",
    "       'PlatformHaveWorkedWith', 'PlatformWantToWorkWith',\n",
    "       'WebframeHaveWorkedWith', 'WebframeWantToWorkWith',\n",
    "       'MiscTechHaveWorkedWith', 'MiscTechWantToWorkWith',\n",
    "       'ToolsTechHaveWorkedWith', 'ToolsTechWantToWorkWith',\n",
    "       'NEWCollabToolsHaveWorkedWith', 'NEWCollabToolsWantToWorkWith','DevType']"
   ]
  },
  {
   "cell_type": "code",
   "execution_count": 9,
   "id": "c4d444cd",
   "metadata": {},
   "outputs": [],
   "source": [
    "def split_by(column_name,dele = ';'):\n",
    "    splitable_col = df[column_name].str\n",
    "    if splitable_col.contains(';').any():\n",
    "        df[column_name] = splitable_col.split(';')\n",
    "        \n",
    "    "
   ]
  },
  {
   "cell_type": "code",
   "execution_count": 10,
   "id": "4b6001c0",
   "metadata": {},
   "outputs": [],
   "source": [
    "for column in to_split:\n",
    "    split_by(column)"
   ]
  },
  {
   "cell_type": "code",
   "execution_count": 11,
   "id": "0fd453d3",
   "metadata": {
    "scrolled": false
   },
   "outputs": [
    {
     "data": {
      "text/plain": [
       "0        [C++, HTML/CSS, JavaScript, Objective-C, PHP, ...\n",
       "1                                     [JavaScript, Python]\n",
       "2                           [Assembly, C, Python, R, Rust]\n",
       "3                                 [JavaScript, TypeScript]\n",
       "4                      [Bash/Shell, HTML/CSS, Python, SQL]\n",
       "                               ...                        \n",
       "83434                               [Clojure, Kotlin, SQL]\n",
       "83435                                                  NaN\n",
       "83436                               [Groovy, Java, Python]\n",
       "83437            [Bash/Shell, JavaScript, Node.js, Python]\n",
       "83438         [Delphi, Elixir, HTML/CSS, Java, JavaScript]\n",
       "Name: LanguageHaveWorkedWith, Length: 83439, dtype: object"
      ]
     },
     "execution_count": 11,
     "metadata": {},
     "output_type": "execute_result"
    }
   ],
   "source": [
    "df['LanguageHaveWorkedWith']"
   ]
  },
  {
   "cell_type": "code",
   "execution_count": null,
   "id": "42ae6ceb",
   "metadata": {},
   "outputs": [],
   "source": []
  },
  {
   "cell_type": "code",
   "execution_count": 12,
   "id": "19bb7bb6",
   "metadata": {},
   "outputs": [],
   "source": [
    "df.to_pickle('../data/processed/01_a_cleaning.pkl')"
   ]
  },
  {
   "cell_type": "code",
   "execution_count": null,
   "id": "2336337d",
   "metadata": {},
   "outputs": [],
   "source": []
  }
 ],
 "metadata": {
  "kernelspec": {
   "display_name": "Python 3 (ipykernel)",
   "language": "python",
   "name": "python3"
  },
  "language_info": {
   "codemirror_mode": {
    "name": "ipython",
    "version": 3
   },
   "file_extension": ".py",
   "mimetype": "text/x-python",
   "name": "python",
   "nbconvert_exporter": "python",
   "pygments_lexer": "ipython3",
   "version": "3.9.7"
  }
 },
 "nbformat": 4,
 "nbformat_minor": 5
}
