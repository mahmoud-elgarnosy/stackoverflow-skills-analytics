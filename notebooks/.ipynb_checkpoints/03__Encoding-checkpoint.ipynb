{
 "cells": [
  {
   "cell_type": "code",
   "execution_count": 1,
   "id": "5c7943ec",
   "metadata": {},
   "outputs": [],
   "source": [
    "import pandas as pd\n",
    "import numpy as np\n",
    "#import sklearn.preprocessing.LabelBinarizer\n",
    "from sklearn.preprocessing import MultiLabelBinarizer\n",
    "from sklearn.preprocessing import OrdinalEncoder"
   ]
  },
  {
   "cell_type": "code",
   "execution_count": 2,
   "id": "b95d23b3",
   "metadata": {},
   "outputs": [],
   "source": [
    "df = pd.read_pickle('../data/processed/02__cleaning.pkl')\n",
    "df.reset_index(drop = 'index', inplace = True)"
   ]
  },
  {
   "cell_type": "code",
   "execution_count": 3,
   "id": "b04e4914",
   "metadata": {},
   "outputs": [
    {
     "name": "stdout",
     "output_type": "stream",
     "text": [
      "<class 'pandas.core.frame.DataFrame'>\n",
      "RangeIndex: 56463 entries, 0 to 56462\n",
      "Data columns (total 17 columns):\n",
      " #   Column                        Non-Null Count  Dtype  \n",
      "---  ------                        --------------  -----  \n",
      " 0   YearsCodePro                  52954 non-null  float64\n",
      " 1   OrgSize                       52786 non-null  object \n",
      " 2   LanguageHaveWorkedWith        56463 non-null  object \n",
      " 3   LanguageWantToWorkWith        55211 non-null  object \n",
      " 4   DatabaseHaveWorkedWith        52494 non-null  object \n",
      " 5   DatabaseWantToWorkWith        47412 non-null  object \n",
      " 6   PlatformHaveWorkedWith        41552 non-null  object \n",
      " 7   PlatformWantToWorkWith        35618 non-null  object \n",
      " 8   WebframeHaveWorkedWith        47936 non-null  object \n",
      " 9   WebframeWantToWorkWith        43130 non-null  object \n",
      " 10  MiscTechHaveWorkedWith        34184 non-null  object \n",
      " 11  MiscTechWantToWorkWith        29431 non-null  object \n",
      " 12  ToolsTechHaveWorkedWith       53203 non-null  object \n",
      " 13  ToolsTechWantToWorkWith       50871 non-null  object \n",
      " 14  NEWCollabToolsHaveWorkedWith  56258 non-null  object \n",
      " 15  NEWCollabToolsWantToWorkWith  53703 non-null  object \n",
      " 16  DevType                       56463 non-null  object \n",
      "dtypes: float64(1), object(16)\n",
      "memory usage: 7.3+ MB\n"
     ]
    }
   ],
   "source": [
    "df.info()"
   ]
  },
  {
   "cell_type": "code",
   "execution_count": 4,
   "id": "9efd3ab7",
   "metadata": {},
   "outputs": [],
   "source": [
    "X_COL =['YearsCodePro', 'OrgSize', 'LanguageHaveWorkedWith', 'LanguageWantToWorkWith',\n",
    "       'DatabaseHaveWorkedWith', 'DatabaseWantToWorkWith',\n",
    "       'PlatformHaveWorkedWith', 'PlatformWantToWorkWith',\n",
    "       'WebframeHaveWorkedWith', 'WebframeWantToWorkWith',\n",
    "       'MiscTechHaveWorkedWith', 'MiscTechWantToWorkWith',\n",
    "       'ToolsTechHaveWorkedWith', 'ToolsTechWantToWorkWith',\n",
    "       'NEWCollabToolsHaveWorkedWith', 'NEWCollabToolsWantToWorkWith' ]\n",
    "Y_COL = ['DevType']"
   ]
  },
  {
   "cell_type": "code",
   "execution_count": 5,
   "id": "26c435f3",
   "metadata": {},
   "outputs": [],
   "source": [
    "df_encoded = {}"
   ]
  },
  {
   "cell_type": "code",
   "execution_count": 6,
   "id": "23b8cff7",
   "metadata": {},
   "outputs": [],
   "source": [
    "df2 = df.copy()"
   ]
  },
  {
   "cell_type": "code",
   "execution_count": 7,
   "id": "d9d8c3cb",
   "metadata": {},
   "outputs": [],
   "source": [
    "labels = ['0' ,'I don’t know', 'Just me - I am a freelancer, sole proprietor, etc.','2 to 9 employees',\n",
    "         '10 to 19 employees', '20 to 99 employees','100 to 499 employees', '500 to 999 employees', '1,000 to 4,999 employees',\n",
    "         '5,000 to 9,999 employees', '10,000 or more employees']\n",
    "\n",
    "orde = OrdinalEncoder(categories= [labels])\n",
    "\n",
    "df_encoded['OrgSize'] = pd.DataFrame(orde.fit_transform(df2.OrgSize.fillna('0').values[:,np.newaxis]))\n"
   ]
  },
  {
   "cell_type": "code",
   "execution_count": 8,
   "id": "611ece42",
   "metadata": {},
   "outputs": [],
   "source": [
    "for col in X_COL[2:] + Y_COL:\n",
    "    #create boolean mask matched non NaNs values\n",
    "    mlb = MultiLabelBinarizer()\n",
    "    mask = df2['LanguageWantToWorkWith'].notnull()\n",
    "\n",
    "    #filter by boolean indexing\n",
    "    arr = mlb.fit_transform(df2.loc[mask, 'LanguageWantToWorkWith'])\n",
    "\n",
    "    #create DataFrame and add missing (NaN)s index values\n",
    "    df_encoded[col] = (pd.DataFrame(arr, index=df2.index[mask], columns=mlb.classes_)\n",
    "               .reindex(df2[col].index, fill_value=0))\n",
    "\n",
    "    "
   ]
  },
  {
   "cell_type": "code",
   "execution_count": 11,
   "id": "47902ce8",
   "metadata": {},
   "outputs": [],
   "source": [
    "df_encoded = pd.concat(df_encoded, axis = 1)"
   ]
  },
  {
   "cell_type": "code",
   "execution_count": 13,
   "id": "a4bbcc95",
   "metadata": {},
   "outputs": [],
   "source": [
    "df_encoded = pd.concat([df2.YearsCodePro,df_encoded], axis = 1)"
   ]
  },
  {
   "cell_type": "code",
   "execution_count": 14,
   "id": "c20f6c32",
   "metadata": {},
   "outputs": [],
   "source": [
    "df_encoded.to_pickle('../data/processed/03__encoded.pkl')"
   ]
  },
  {
   "cell_type": "code",
   "execution_count": null,
   "id": "9f5d5532",
   "metadata": {},
   "outputs": [],
   "source": []
  }
 ],
 "metadata": {
  "kernelspec": {
   "display_name": "Python 3",
   "language": "python",
   "name": "python3"
  },
  "language_info": {
   "codemirror_mode": {
    "name": "ipython",
    "version": 3
   },
   "file_extension": ".py",
   "mimetype": "text/x-python",
   "name": "python",
   "nbconvert_exporter": "python",
   "pygments_lexer": "ipython3",
   "version": "3.8.8"
  }
 },
 "nbformat": 4,
 "nbformat_minor": 5
}
