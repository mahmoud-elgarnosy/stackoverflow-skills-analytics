{
 "cells": [
  {
   "cell_type": "code",
   "execution_count": 90,
   "id": "ef99c0b2",
   "metadata": {},
   "outputs": [],
   "source": [
    "import pandas as pd\n",
    "import numpy as np\n",
    "#import sklearn.preprocessing.LabelBinarizer\n",
    "from sklearn.preprocessing import MultiLabelBinarizer\n",
    "from sklearn.preprocessing import OrdinalEncoder\n",
    "from sklearn.preprocessing import StandardScaler\n",
    "import itertools\n",
    "import plotly.express as px\n",
    "import plotly.figure_factory as ff\n",
    "import plotly.graph_objects as go\n",
    "\n"
   ]
  },
  {
   "cell_type": "code",
   "execution_count": 91,
   "id": "ff183db5",
   "metadata": {},
   "outputs": [],
   "source": [
    "encoded_df = pd.read_csv('../data/processed/02_b_encoded.csv',index_col = 0, header = [0,1])\n",
    "\n"
   ]
  },
  {
   "cell_type": "code",
   "execution_count": 92,
   "id": "ec3edd97",
   "metadata": {},
   "outputs": [
    {
     "data": {
      "text/plain": [
       "0"
      ]
     },
     "execution_count": 92,
     "metadata": {},
     "output_type": "execute_result"
    }
   ],
   "source": [
    "mask = ~ (encoded_df.columns.get_level_values(level = 0)=='DevType')\n",
    "non_DevType = encoded_df.iloc[:,mask].values\n",
    "np.isnan(non_DevType).sum()"
   ]
  },
  {
   "cell_type": "code",
   "execution_count": 93,
   "id": "927e15e8",
   "metadata": {},
   "outputs": [
    {
     "data": {
      "text/html": [
       "<div>\n",
       "<style scoped>\n",
       "    .dataframe tbody tr th:only-of-type {\n",
       "        vertical-align: middle;\n",
       "    }\n",
       "\n",
       "    .dataframe tbody tr th {\n",
       "        vertical-align: top;\n",
       "    }\n",
       "\n",
       "    .dataframe thead tr th {\n",
       "        text-align: left;\n",
       "    }\n",
       "</style>\n",
       "<table border=\"1\" class=\"dataframe\">\n",
       "  <thead>\n",
       "    <tr>\n",
       "      <th></th>\n",
       "      <th colspan=\"10\" halign=\"left\">LanguageHaveWorkedWith</th>\n",
       "      <th>...</th>\n",
       "      <th colspan=\"10\" halign=\"left\">DevType</th>\n",
       "    </tr>\n",
       "    <tr>\n",
       "      <th></th>\n",
       "      <th>APL</th>\n",
       "      <th>Assembly</th>\n",
       "      <th>Bash/Shell</th>\n",
       "      <th>C</th>\n",
       "      <th>C#</th>\n",
       "      <th>C++</th>\n",
       "      <th>COBOL</th>\n",
       "      <th>Clojure</th>\n",
       "      <th>Crystal</th>\n",
       "      <th>Dart</th>\n",
       "      <th>...</th>\n",
       "      <th>Engineer, data</th>\n",
       "      <th>Engineer, site reliability</th>\n",
       "      <th>Engineering manager</th>\n",
       "      <th>Marketing or sales professional</th>\n",
       "      <th>Other (please specify):</th>\n",
       "      <th>Product manager</th>\n",
       "      <th>Scientist</th>\n",
       "      <th>Senior Executive (C-Suite, VP, etc.)</th>\n",
       "      <th>Student</th>\n",
       "      <th>System administrator</th>\n",
       "    </tr>\n",
       "  </thead>\n",
       "  <tbody>\n",
       "    <tr>\n",
       "      <th>0</th>\n",
       "      <td>0.0</td>\n",
       "      <td>0.0</td>\n",
       "      <td>19.5</td>\n",
       "      <td>0.0</td>\n",
       "      <td>0.0</td>\n",
       "      <td>0.0</td>\n",
       "      <td>0.0</td>\n",
       "      <td>0.0</td>\n",
       "      <td>0.0</td>\n",
       "      <td>0.0</td>\n",
       "      <td>...</td>\n",
       "      <td>1</td>\n",
       "      <td>0</td>\n",
       "      <td>0</td>\n",
       "      <td>0</td>\n",
       "      <td>1</td>\n",
       "      <td>0</td>\n",
       "      <td>0</td>\n",
       "      <td>0</td>\n",
       "      <td>0</td>\n",
       "      <td>0</td>\n",
       "    </tr>\n",
       "    <tr>\n",
       "      <th>1</th>\n",
       "      <td>0.0</td>\n",
       "      <td>0.0</td>\n",
       "      <td>0.0</td>\n",
       "      <td>0.0</td>\n",
       "      <td>0.0</td>\n",
       "      <td>0.0</td>\n",
       "      <td>0.0</td>\n",
       "      <td>0.0</td>\n",
       "      <td>0.0</td>\n",
       "      <td>0.0</td>\n",
       "      <td>...</td>\n",
       "      <td>0</td>\n",
       "      <td>0</td>\n",
       "      <td>0</td>\n",
       "      <td>0</td>\n",
       "      <td>0</td>\n",
       "      <td>0</td>\n",
       "      <td>0</td>\n",
       "      <td>0</td>\n",
       "      <td>0</td>\n",
       "      <td>0</td>\n",
       "    </tr>\n",
       "    <tr>\n",
       "      <th>2</th>\n",
       "      <td>0.0</td>\n",
       "      <td>0.0</td>\n",
       "      <td>0.0</td>\n",
       "      <td>0.0</td>\n",
       "      <td>0.0</td>\n",
       "      <td>9.0</td>\n",
       "      <td>0.0</td>\n",
       "      <td>0.0</td>\n",
       "      <td>0.0</td>\n",
       "      <td>0.0</td>\n",
       "      <td>...</td>\n",
       "      <td>0</td>\n",
       "      <td>0</td>\n",
       "      <td>0</td>\n",
       "      <td>0</td>\n",
       "      <td>0</td>\n",
       "      <td>0</td>\n",
       "      <td>0</td>\n",
       "      <td>0</td>\n",
       "      <td>0</td>\n",
       "      <td>0</td>\n",
       "    </tr>\n",
       "    <tr>\n",
       "      <th>3</th>\n",
       "      <td>0.0</td>\n",
       "      <td>0.0</td>\n",
       "      <td>0.0</td>\n",
       "      <td>0.0</td>\n",
       "      <td>31.5</td>\n",
       "      <td>0.0</td>\n",
       "      <td>0.0</td>\n",
       "      <td>0.0</td>\n",
       "      <td>0.0</td>\n",
       "      <td>0.0</td>\n",
       "      <td>...</td>\n",
       "      <td>0</td>\n",
       "      <td>0</td>\n",
       "      <td>0</td>\n",
       "      <td>0</td>\n",
       "      <td>0</td>\n",
       "      <td>0</td>\n",
       "      <td>0</td>\n",
       "      <td>0</td>\n",
       "      <td>0</td>\n",
       "      <td>0</td>\n",
       "    </tr>\n",
       "    <tr>\n",
       "      <th>4</th>\n",
       "      <td>0.0</td>\n",
       "      <td>0.0</td>\n",
       "      <td>10.0</td>\n",
       "      <td>0.0</td>\n",
       "      <td>0.0</td>\n",
       "      <td>5.0</td>\n",
       "      <td>0.0</td>\n",
       "      <td>5.0</td>\n",
       "      <td>0.0</td>\n",
       "      <td>0.0</td>\n",
       "      <td>...</td>\n",
       "      <td>0</td>\n",
       "      <td>0</td>\n",
       "      <td>0</td>\n",
       "      <td>0</td>\n",
       "      <td>0</td>\n",
       "      <td>0</td>\n",
       "      <td>0</td>\n",
       "      <td>0</td>\n",
       "      <td>0</td>\n",
       "      <td>0</td>\n",
       "    </tr>\n",
       "  </tbody>\n",
       "</table>\n",
       "<p>5 rows × 150 columns</p>\n",
       "</div>"
      ],
      "text/plain": [
       "  LanguageHaveWorkedWith                                                    \\\n",
       "                     APL Assembly Bash/Shell    C    C#  C++ COBOL Clojure   \n",
       "0                    0.0      0.0       19.5  0.0   0.0  0.0   0.0     0.0   \n",
       "1                    0.0      0.0        0.0  0.0   0.0  0.0   0.0     0.0   \n",
       "2                    0.0      0.0        0.0  0.0   0.0  9.0   0.0     0.0   \n",
       "3                    0.0      0.0        0.0  0.0  31.5  0.0   0.0     0.0   \n",
       "4                    0.0      0.0       10.0  0.0   0.0  5.0   0.0     5.0   \n",
       "\n",
       "                ...        DevType                             \\\n",
       "  Crystal Dart  ... Engineer, data Engineer, site reliability   \n",
       "0     0.0  0.0  ...              1                          0   \n",
       "1     0.0  0.0  ...              0                          0   \n",
       "2     0.0  0.0  ...              0                          0   \n",
       "3     0.0  0.0  ...              0                          0   \n",
       "4     0.0  0.0  ...              0                          0   \n",
       "\n",
       "                                                                               \\\n",
       "  Engineering manager Marketing or sales professional Other (please specify):   \n",
       "0                   0                               0                       1   \n",
       "1                   0                               0                       0   \n",
       "2                   0                               0                       0   \n",
       "3                   0                               0                       0   \n",
       "4                   0                               0                       0   \n",
       "\n",
       "                                                                          \\\n",
       "  Product manager Scientist Senior Executive (C-Suite, VP, etc.) Student   \n",
       "0               0         0                                    0       0   \n",
       "1               0         0                                    0       0   \n",
       "2               0         0                                    0       0   \n",
       "3               0         0                                    0       0   \n",
       "4               0         0                                    0       0   \n",
       "\n",
       "                        \n",
       "  System administrator  \n",
       "0                    0  \n",
       "1                    0  \n",
       "2                    0  \n",
       "3                    0  \n",
       "4                    0  \n",
       "\n",
       "[5 rows x 150 columns]"
      ]
     },
     "execution_count": 93,
     "metadata": {},
     "output_type": "execute_result"
    }
   ],
   "source": [
    "encoded_df.head()\n"
   ]
  },
  {
   "cell_type": "code",
   "execution_count": 94,
   "id": "bb86c4fc",
   "metadata": {},
   "outputs": [
    {
     "data": {
      "text/html": [
       "<div>\n",
       "<style scoped>\n",
       "    .dataframe tbody tr th:only-of-type {\n",
       "        vertical-align: middle;\n",
       "    }\n",
       "\n",
       "    .dataframe tbody tr th {\n",
       "        vertical-align: top;\n",
       "    }\n",
       "\n",
       "    .dataframe thead th {\n",
       "        text-align: right;\n",
       "    }\n",
       "</style>\n",
       "<table border=\"1\" class=\"dataframe\">\n",
       "  <thead>\n",
       "    <tr style=\"text-align: right;\">\n",
       "      <th></th>\n",
       "      <th>job</th>\n",
       "      <th>freq</th>\n",
       "      <th>work</th>\n",
       "    </tr>\n",
       "  </thead>\n",
       "  <tbody>\n",
       "    <tr>\n",
       "      <th>0</th>\n",
       "      <td>Developer, full-stack</td>\n",
       "      <td>30360</td>\n",
       "      <td>DevType</td>\n",
       "    </tr>\n",
       "    <tr>\n",
       "      <th>1</th>\n",
       "      <td>Developer, back-end</td>\n",
       "      <td>26380</td>\n",
       "      <td>DevType</td>\n",
       "    </tr>\n",
       "    <tr>\n",
       "      <th>2</th>\n",
       "      <td>Developer, front-end</td>\n",
       "      <td>16424</td>\n",
       "      <td>DevType</td>\n",
       "    </tr>\n",
       "    <tr>\n",
       "      <th>3</th>\n",
       "      <td>Developer, desktop or enterprise applications</td>\n",
       "      <td>9481</td>\n",
       "      <td>DevType</td>\n",
       "    </tr>\n",
       "    <tr>\n",
       "      <th>4</th>\n",
       "      <td>Developer, mobile</td>\n",
       "      <td>8419</td>\n",
       "      <td>DevType</td>\n",
       "    </tr>\n",
       "    <tr>\n",
       "      <th>5</th>\n",
       "      <td>DevOps specialist</td>\n",
       "      <td>6560</td>\n",
       "      <td>DevType</td>\n",
       "    </tr>\n",
       "    <tr>\n",
       "      <th>6</th>\n",
       "      <td>System administrator</td>\n",
       "      <td>5307</td>\n",
       "      <td>DevType</td>\n",
       "    </tr>\n",
       "    <tr>\n",
       "      <th>7</th>\n",
       "      <td>Database administrator</td>\n",
       "      <td>5056</td>\n",
       "      <td>DevType</td>\n",
       "    </tr>\n",
       "    <tr>\n",
       "      <th>8</th>\n",
       "      <td>Designer</td>\n",
       "      <td>3850</td>\n",
       "      <td>DevType</td>\n",
       "    </tr>\n",
       "    <tr>\n",
       "      <th>9</th>\n",
       "      <td>Data scientist or machine learning specialist</td>\n",
       "      <td>3778</td>\n",
       "      <td>DevType</td>\n",
       "    </tr>\n",
       "    <tr>\n",
       "      <th>10</th>\n",
       "      <td>Engineer, data</td>\n",
       "      <td>3708</td>\n",
       "      <td>DevType</td>\n",
       "    </tr>\n",
       "    <tr>\n",
       "      <th>11</th>\n",
       "      <td>Developer, embedded applications or devices</td>\n",
       "      <td>3536</td>\n",
       "      <td>DevType</td>\n",
       "    </tr>\n",
       "    <tr>\n",
       "      <th>12</th>\n",
       "      <td>Engineering manager</td>\n",
       "      <td>3406</td>\n",
       "      <td>DevType</td>\n",
       "    </tr>\n",
       "    <tr>\n",
       "      <th>13</th>\n",
       "      <td>Student</td>\n",
       "      <td>3215</td>\n",
       "      <td>DevType</td>\n",
       "    </tr>\n",
       "    <tr>\n",
       "      <th>14</th>\n",
       "      <td>Data or business analyst</td>\n",
       "      <td>3159</td>\n",
       "      <td>DevType</td>\n",
       "    </tr>\n",
       "    <tr>\n",
       "      <th>15</th>\n",
       "      <td>Developer, QA or test</td>\n",
       "      <td>3152</td>\n",
       "      <td>DevType</td>\n",
       "    </tr>\n",
       "    <tr>\n",
       "      <th>16</th>\n",
       "      <td>Product manager</td>\n",
       "      <td>2687</td>\n",
       "      <td>DevType</td>\n",
       "    </tr>\n",
       "    <tr>\n",
       "      <th>17</th>\n",
       "      <td>Other (please specify):</td>\n",
       "      <td>2468</td>\n",
       "      <td>DevType</td>\n",
       "    </tr>\n",
       "    <tr>\n",
       "      <th>18</th>\n",
       "      <td>Engineer, site reliability</td>\n",
       "      <td>2198</td>\n",
       "      <td>DevType</td>\n",
       "    </tr>\n",
       "    <tr>\n",
       "      <th>19</th>\n",
       "      <td>Academic researcher</td>\n",
       "      <td>2153</td>\n",
       "      <td>DevType</td>\n",
       "    </tr>\n",
       "    <tr>\n",
       "      <th>20</th>\n",
       "      <td>Educator</td>\n",
       "      <td>1947</td>\n",
       "      <td>DevType</td>\n",
       "    </tr>\n",
       "    <tr>\n",
       "      <th>21</th>\n",
       "      <td>Senior Executive (C-Suite, VP, etc.)</td>\n",
       "      <td>1865</td>\n",
       "      <td>DevType</td>\n",
       "    </tr>\n",
       "    <tr>\n",
       "      <th>22</th>\n",
       "      <td>Developer, game or graphics</td>\n",
       "      <td>1689</td>\n",
       "      <td>DevType</td>\n",
       "    </tr>\n",
       "    <tr>\n",
       "      <th>23</th>\n",
       "      <td>Scientist</td>\n",
       "      <td>1533</td>\n",
       "      <td>DevType</td>\n",
       "    </tr>\n",
       "    <tr>\n",
       "      <th>24</th>\n",
       "      <td>Marketing or sales professional</td>\n",
       "      <td>481</td>\n",
       "      <td>DevType</td>\n",
       "    </tr>\n",
       "  </tbody>\n",
       "</table>\n",
       "</div>"
      ],
      "text/plain": [
       "                                              job   freq     work\n",
       "0                           Developer, full-stack  30360  DevType\n",
       "1                             Developer, back-end  26380  DevType\n",
       "2                            Developer, front-end  16424  DevType\n",
       "3   Developer, desktop or enterprise applications   9481  DevType\n",
       "4                               Developer, mobile   8419  DevType\n",
       "5                               DevOps specialist   6560  DevType\n",
       "6                            System administrator   5307  DevType\n",
       "7                          Database administrator   5056  DevType\n",
       "8                                        Designer   3850  DevType\n",
       "9   Data scientist or machine learning specialist   3778  DevType\n",
       "10                                 Engineer, data   3708  DevType\n",
       "11    Developer, embedded applications or devices   3536  DevType\n",
       "12                            Engineering manager   3406  DevType\n",
       "13                                        Student   3215  DevType\n",
       "14                       Data or business analyst   3159  DevType\n",
       "15                          Developer, QA or test   3152  DevType\n",
       "16                                Product manager   2687  DevType\n",
       "17                        Other (please specify):   2468  DevType\n",
       "18                     Engineer, site reliability   2198  DevType\n",
       "19                            Academic researcher   2153  DevType\n",
       "20                                       Educator   1947  DevType\n",
       "21           Senior Executive (C-Suite, VP, etc.)   1865  DevType\n",
       "22                    Developer, game or graphics   1689  DevType\n",
       "23                                      Scientist   1533  DevType\n",
       "24                Marketing or sales professional    481  DevType"
      ]
     },
     "execution_count": 94,
     "metadata": {},
     "output_type": "execute_result"
    }
   ],
   "source": [
    "job_freq = encoded_df.DevType.sum().sort_values(ascending=False).reset_index()\n",
    "job_freq.columns = ['job','freq']\n",
    "job_freq['work'] = 'DevType'\n",
    "job_freq"
   ]
  },
  {
   "cell_type": "code",
   "execution_count": 95,
   "id": "3aff1209",
   "metadata": {},
   "outputs": [
    {
     "name": "stderr",
     "output_type": "stream",
     "text": [
      "/home/ayah/anaconda3/lib/python3.9/site-packages/plotly/express/_core.py:1637: FutureWarning:\n",
      "\n",
      "The frame.append method is deprecated and will be removed from pandas in a future version. Use pandas.concat instead.\n",
      "\n",
      "/home/ayah/anaconda3/lib/python3.9/site-packages/plotly/express/_core.py:1637: FutureWarning:\n",
      "\n",
      "The frame.append method is deprecated and will be removed from pandas in a future version. Use pandas.concat instead.\n",
      "\n"
     ]
    },
    {
     "data": {
      "application/vnd.plotly.v1+json": {
       "config": {
        "plotlyServerURL": "https://plot.ly"
       },
       "data": [
        {
         "branchvalues": "total",
         "customdata": [
          [
           2153
          ],
          [
           3159
          ],
          [
           3778
          ],
          [
           5056
          ],
          [
           3850
          ],
          [
           6560
          ],
          [
           3152
          ],
          [
           26380
          ],
          [
           9481
          ],
          [
           3536
          ],
          [
           16424
          ],
          [
           30360
          ],
          [
           1689
          ],
          [
           8419
          ],
          [
           1947
          ],
          [
           3708
          ],
          [
           2198
          ],
          [
           3406
          ],
          [
           481
          ],
          [
           2468
          ],
          [
           2687
          ],
          [
           1533
          ],
          [
           1865
          ],
          [
           3215
          ],
          [
           5307
          ],
          [
           14904.538151454075
          ]
         ],
         "domain": {
          "x": [
           0,
           1
          ],
          "y": [
           0,
           1
          ]
         },
         "hovertemplate": "labels=%{label}<br>freq_sum=%{value}<br>parent=%{parent}<br>id=%{id}<br>freq=%{color}<extra></extra>",
         "ids": [
          "DevType/Academic researcher",
          "DevType/Data or business analyst",
          "DevType/Data scientist or machine learning specialist",
          "DevType/Database administrator",
          "DevType/Designer",
          "DevType/DevOps specialist",
          "DevType/Developer, QA or test",
          "DevType/Developer, back-end",
          "DevType/Developer, desktop or enterprise applications",
          "DevType/Developer, embedded applications or devices",
          "DevType/Developer, front-end",
          "DevType/Developer, full-stack",
          "DevType/Developer, game or graphics",
          "DevType/Developer, mobile",
          "DevType/Educator",
          "DevType/Engineer, data",
          "DevType/Engineer, site reliability",
          "DevType/Engineering manager",
          "DevType/Marketing or sales professional",
          "DevType/Other (please specify):",
          "DevType/Product manager",
          "DevType/Scientist",
          "DevType/Senior Executive (C-Suite, VP, etc.)",
          "DevType/Student",
          "DevType/System administrator",
          "DevType"
         ],
         "labels": [
          "Academic researcher",
          "Data or business analyst",
          "Data scientist or machine learning specialist",
          "Database administrator",
          "Designer",
          "DevOps specialist",
          "Developer, QA or test",
          "Developer, back-end",
          "Developer, desktop or enterprise applications",
          "Developer, embedded applications or devices",
          "Developer, front-end",
          "Developer, full-stack",
          "Developer, game or graphics",
          "Developer, mobile",
          "Educator",
          "Engineer, data",
          "Engineer, site reliability",
          "Engineering manager",
          "Marketing or sales professional",
          "Other (please specify):",
          "Product manager",
          "Scientist",
          "Senior Executive (C-Suite, VP, etc.)",
          "Student",
          "System administrator",
          "DevType"
         ],
         "marker": {
          "coloraxis": "coloraxis",
          "colors": [
           2153,
           3159,
           3778,
           5056,
           3850,
           6560,
           3152,
           26380,
           9481,
           3536,
           16424,
           30360,
           1689,
           8419,
           1947,
           3708,
           2198,
           3406,
           481,
           2468,
           2687,
           1533,
           1865,
           3215,
           5307,
           14904.538151454075
          ]
         },
         "name": "",
         "parents": [
          "DevType",
          "DevType",
          "DevType",
          "DevType",
          "DevType",
          "DevType",
          "DevType",
          "DevType",
          "DevType",
          "DevType",
          "DevType",
          "DevType",
          "DevType",
          "DevType",
          "DevType",
          "DevType",
          "DevType",
          "DevType",
          "DevType",
          "DevType",
          "DevType",
          "DevType",
          "DevType",
          "DevType",
          "DevType",
          ""
         ],
         "type": "treemap",
         "values": [
          2153,
          3159,
          3778,
          5056,
          3850,
          6560,
          3152,
          26380,
          9481,
          3536,
          16424,
          30360,
          1689,
          8419,
          1947,
          3708,
          2198,
          3406,
          481,
          2468,
          2687,
          1533,
          1865,
          3215,
          5307,
          152812
         ]
        }
       ],
       "layout": {
        "coloraxis": {
         "colorbar": {
          "title": {
           "text": "freq"
          }
         },
         "colorscale": [
          [
           0,
           "rgb(247,251,255)"
          ],
          [
           0.125,
           "rgb(222,235,247)"
          ],
          [
           0.25,
           "rgb(198,219,239)"
          ],
          [
           0.375,
           "rgb(158,202,225)"
          ],
          [
           0.5,
           "rgb(107,174,214)"
          ],
          [
           0.625,
           "rgb(66,146,198)"
          ],
          [
           0.75,
           "rgb(33,113,181)"
          ],
          [
           0.875,
           "rgb(8,81,156)"
          ],
          [
           1,
           "rgb(8,48,107)"
          ]
         ]
        },
        "height": 600,
        "legend": {
         "tracegroupgap": 0
        },
        "margin": {
         "t": 60
        },
        "template": {
         "data": {
          "bar": [
           {
            "error_x": {
             "color": "#2a3f5f"
            },
            "error_y": {
             "color": "#2a3f5f"
            },
            "marker": {
             "line": {
              "color": "#E5ECF6",
              "width": 0.5
             },
             "pattern": {
              "fillmode": "overlay",
              "size": 10,
              "solidity": 0.2
             }
            },
            "type": "bar"
           }
          ],
          "barpolar": [
           {
            "marker": {
             "line": {
              "color": "#E5ECF6",
              "width": 0.5
             },
             "pattern": {
              "fillmode": "overlay",
              "size": 10,
              "solidity": 0.2
             }
            },
            "type": "barpolar"
           }
          ],
          "carpet": [
           {
            "aaxis": {
             "endlinecolor": "#2a3f5f",
             "gridcolor": "white",
             "linecolor": "white",
             "minorgridcolor": "white",
             "startlinecolor": "#2a3f5f"
            },
            "baxis": {
             "endlinecolor": "#2a3f5f",
             "gridcolor": "white",
             "linecolor": "white",
             "minorgridcolor": "white",
             "startlinecolor": "#2a3f5f"
            },
            "type": "carpet"
           }
          ],
          "choropleth": [
           {
            "colorbar": {
             "outlinewidth": 0,
             "ticks": ""
            },
            "type": "choropleth"
           }
          ],
          "contour": [
           {
            "colorbar": {
             "outlinewidth": 0,
             "ticks": ""
            },
            "colorscale": [
             [
              0,
              "#0d0887"
             ],
             [
              0.1111111111111111,
              "#46039f"
             ],
             [
              0.2222222222222222,
              "#7201a8"
             ],
             [
              0.3333333333333333,
              "#9c179e"
             ],
             [
              0.4444444444444444,
              "#bd3786"
             ],
             [
              0.5555555555555556,
              "#d8576b"
             ],
             [
              0.6666666666666666,
              "#ed7953"
             ],
             [
              0.7777777777777778,
              "#fb9f3a"
             ],
             [
              0.8888888888888888,
              "#fdca26"
             ],
             [
              1,
              "#f0f921"
             ]
            ],
            "type": "contour"
           }
          ],
          "contourcarpet": [
           {
            "colorbar": {
             "outlinewidth": 0,
             "ticks": ""
            },
            "type": "contourcarpet"
           }
          ],
          "heatmap": [
           {
            "colorbar": {
             "outlinewidth": 0,
             "ticks": ""
            },
            "colorscale": [
             [
              0,
              "#0d0887"
             ],
             [
              0.1111111111111111,
              "#46039f"
             ],
             [
              0.2222222222222222,
              "#7201a8"
             ],
             [
              0.3333333333333333,
              "#9c179e"
             ],
             [
              0.4444444444444444,
              "#bd3786"
             ],
             [
              0.5555555555555556,
              "#d8576b"
             ],
             [
              0.6666666666666666,
              "#ed7953"
             ],
             [
              0.7777777777777778,
              "#fb9f3a"
             ],
             [
              0.8888888888888888,
              "#fdca26"
             ],
             [
              1,
              "#f0f921"
             ]
            ],
            "type": "heatmap"
           }
          ],
          "heatmapgl": [
           {
            "colorbar": {
             "outlinewidth": 0,
             "ticks": ""
            },
            "colorscale": [
             [
              0,
              "#0d0887"
             ],
             [
              0.1111111111111111,
              "#46039f"
             ],
             [
              0.2222222222222222,
              "#7201a8"
             ],
             [
              0.3333333333333333,
              "#9c179e"
             ],
             [
              0.4444444444444444,
              "#bd3786"
             ],
             [
              0.5555555555555556,
              "#d8576b"
             ],
             [
              0.6666666666666666,
              "#ed7953"
             ],
             [
              0.7777777777777778,
              "#fb9f3a"
             ],
             [
              0.8888888888888888,
              "#fdca26"
             ],
             [
              1,
              "#f0f921"
             ]
            ],
            "type": "heatmapgl"
           }
          ],
          "histogram": [
           {
            "marker": {
             "pattern": {
              "fillmode": "overlay",
              "size": 10,
              "solidity": 0.2
             }
            },
            "type": "histogram"
           }
          ],
          "histogram2d": [
           {
            "colorbar": {
             "outlinewidth": 0,
             "ticks": ""
            },
            "colorscale": [
             [
              0,
              "#0d0887"
             ],
             [
              0.1111111111111111,
              "#46039f"
             ],
             [
              0.2222222222222222,
              "#7201a8"
             ],
             [
              0.3333333333333333,
              "#9c179e"
             ],
             [
              0.4444444444444444,
              "#bd3786"
             ],
             [
              0.5555555555555556,
              "#d8576b"
             ],
             [
              0.6666666666666666,
              "#ed7953"
             ],
             [
              0.7777777777777778,
              "#fb9f3a"
             ],
             [
              0.8888888888888888,
              "#fdca26"
             ],
             [
              1,
              "#f0f921"
             ]
            ],
            "type": "histogram2d"
           }
          ],
          "histogram2dcontour": [
           {
            "colorbar": {
             "outlinewidth": 0,
             "ticks": ""
            },
            "colorscale": [
             [
              0,
              "#0d0887"
             ],
             [
              0.1111111111111111,
              "#46039f"
             ],
             [
              0.2222222222222222,
              "#7201a8"
             ],
             [
              0.3333333333333333,
              "#9c179e"
             ],
             [
              0.4444444444444444,
              "#bd3786"
             ],
             [
              0.5555555555555556,
              "#d8576b"
             ],
             [
              0.6666666666666666,
              "#ed7953"
             ],
             [
              0.7777777777777778,
              "#fb9f3a"
             ],
             [
              0.8888888888888888,
              "#fdca26"
             ],
             [
              1,
              "#f0f921"
             ]
            ],
            "type": "histogram2dcontour"
           }
          ],
          "mesh3d": [
           {
            "colorbar": {
             "outlinewidth": 0,
             "ticks": ""
            },
            "type": "mesh3d"
           }
          ],
          "parcoords": [
           {
            "line": {
             "colorbar": {
              "outlinewidth": 0,
              "ticks": ""
             }
            },
            "type": "parcoords"
           }
          ],
          "pie": [
           {
            "automargin": true,
            "type": "pie"
           }
          ],
          "scatter": [
           {
            "marker": {
             "colorbar": {
              "outlinewidth": 0,
              "ticks": ""
             }
            },
            "type": "scatter"
           }
          ],
          "scatter3d": [
           {
            "line": {
             "colorbar": {
              "outlinewidth": 0,
              "ticks": ""
             }
            },
            "marker": {
             "colorbar": {
              "outlinewidth": 0,
              "ticks": ""
             }
            },
            "type": "scatter3d"
           }
          ],
          "scattercarpet": [
           {
            "marker": {
             "colorbar": {
              "outlinewidth": 0,
              "ticks": ""
             }
            },
            "type": "scattercarpet"
           }
          ],
          "scattergeo": [
           {
            "marker": {
             "colorbar": {
              "outlinewidth": 0,
              "ticks": ""
             }
            },
            "type": "scattergeo"
           }
          ],
          "scattergl": [
           {
            "marker": {
             "colorbar": {
              "outlinewidth": 0,
              "ticks": ""
             }
            },
            "type": "scattergl"
           }
          ],
          "scattermapbox": [
           {
            "marker": {
             "colorbar": {
              "outlinewidth": 0,
              "ticks": ""
             }
            },
            "type": "scattermapbox"
           }
          ],
          "scatterpolar": [
           {
            "marker": {
             "colorbar": {
              "outlinewidth": 0,
              "ticks": ""
             }
            },
            "type": "scatterpolar"
           }
          ],
          "scatterpolargl": [
           {
            "marker": {
             "colorbar": {
              "outlinewidth": 0,
              "ticks": ""
             }
            },
            "type": "scatterpolargl"
           }
          ],
          "scatterternary": [
           {
            "marker": {
             "colorbar": {
              "outlinewidth": 0,
              "ticks": ""
             }
            },
            "type": "scatterternary"
           }
          ],
          "surface": [
           {
            "colorbar": {
             "outlinewidth": 0,
             "ticks": ""
            },
            "colorscale": [
             [
              0,
              "#0d0887"
             ],
             [
              0.1111111111111111,
              "#46039f"
             ],
             [
              0.2222222222222222,
              "#7201a8"
             ],
             [
              0.3333333333333333,
              "#9c179e"
             ],
             [
              0.4444444444444444,
              "#bd3786"
             ],
             [
              0.5555555555555556,
              "#d8576b"
             ],
             [
              0.6666666666666666,
              "#ed7953"
             ],
             [
              0.7777777777777778,
              "#fb9f3a"
             ],
             [
              0.8888888888888888,
              "#fdca26"
             ],
             [
              1,
              "#f0f921"
             ]
            ],
            "type": "surface"
           }
          ],
          "table": [
           {
            "cells": {
             "fill": {
              "color": "#EBF0F8"
             },
             "line": {
              "color": "white"
             }
            },
            "header": {
             "fill": {
              "color": "#C8D4E3"
             },
             "line": {
              "color": "white"
             }
            },
            "type": "table"
           }
          ]
         },
         "layout": {
          "annotationdefaults": {
           "arrowcolor": "#2a3f5f",
           "arrowhead": 0,
           "arrowwidth": 1
          },
          "autotypenumbers": "strict",
          "coloraxis": {
           "colorbar": {
            "outlinewidth": 0,
            "ticks": ""
           }
          },
          "colorscale": {
           "diverging": [
            [
             0,
             "#8e0152"
            ],
            [
             0.1,
             "#c51b7d"
            ],
            [
             0.2,
             "#de77ae"
            ],
            [
             0.3,
             "#f1b6da"
            ],
            [
             0.4,
             "#fde0ef"
            ],
            [
             0.5,
             "#f7f7f7"
            ],
            [
             0.6,
             "#e6f5d0"
            ],
            [
             0.7,
             "#b8e186"
            ],
            [
             0.8,
             "#7fbc41"
            ],
            [
             0.9,
             "#4d9221"
            ],
            [
             1,
             "#276419"
            ]
           ],
           "sequential": [
            [
             0,
             "#0d0887"
            ],
            [
             0.1111111111111111,
             "#46039f"
            ],
            [
             0.2222222222222222,
             "#7201a8"
            ],
            [
             0.3333333333333333,
             "#9c179e"
            ],
            [
             0.4444444444444444,
             "#bd3786"
            ],
            [
             0.5555555555555556,
             "#d8576b"
            ],
            [
             0.6666666666666666,
             "#ed7953"
            ],
            [
             0.7777777777777778,
             "#fb9f3a"
            ],
            [
             0.8888888888888888,
             "#fdca26"
            ],
            [
             1,
             "#f0f921"
            ]
           ],
           "sequentialminus": [
            [
             0,
             "#0d0887"
            ],
            [
             0.1111111111111111,
             "#46039f"
            ],
            [
             0.2222222222222222,
             "#7201a8"
            ],
            [
             0.3333333333333333,
             "#9c179e"
            ],
            [
             0.4444444444444444,
             "#bd3786"
            ],
            [
             0.5555555555555556,
             "#d8576b"
            ],
            [
             0.6666666666666666,
             "#ed7953"
            ],
            [
             0.7777777777777778,
             "#fb9f3a"
            ],
            [
             0.8888888888888888,
             "#fdca26"
            ],
            [
             1,
             "#f0f921"
            ]
           ]
          },
          "colorway": [
           "#636efa",
           "#EF553B",
           "#00cc96",
           "#ab63fa",
           "#FFA15A",
           "#19d3f3",
           "#FF6692",
           "#B6E880",
           "#FF97FF",
           "#FECB52"
          ],
          "font": {
           "color": "#2a3f5f"
          },
          "geo": {
           "bgcolor": "white",
           "lakecolor": "white",
           "landcolor": "#E5ECF6",
           "showlakes": true,
           "showland": true,
           "subunitcolor": "white"
          },
          "hoverlabel": {
           "align": "left"
          },
          "hovermode": "closest",
          "mapbox": {
           "style": "light"
          },
          "paper_bgcolor": "white",
          "plot_bgcolor": "#E5ECF6",
          "polar": {
           "angularaxis": {
            "gridcolor": "white",
            "linecolor": "white",
            "ticks": ""
           },
           "bgcolor": "#E5ECF6",
           "radialaxis": {
            "gridcolor": "white",
            "linecolor": "white",
            "ticks": ""
           }
          },
          "scene": {
           "xaxis": {
            "backgroundcolor": "#E5ECF6",
            "gridcolor": "white",
            "gridwidth": 2,
            "linecolor": "white",
            "showbackground": true,
            "ticks": "",
            "zerolinecolor": "white"
           },
           "yaxis": {
            "backgroundcolor": "#E5ECF6",
            "gridcolor": "white",
            "gridwidth": 2,
            "linecolor": "white",
            "showbackground": true,
            "ticks": "",
            "zerolinecolor": "white"
           },
           "zaxis": {
            "backgroundcolor": "#E5ECF6",
            "gridcolor": "white",
            "gridwidth": 2,
            "linecolor": "white",
            "showbackground": true,
            "ticks": "",
            "zerolinecolor": "white"
           }
          },
          "shapedefaults": {
           "line": {
            "color": "#2a3f5f"
           }
          },
          "ternary": {
           "aaxis": {
            "gridcolor": "white",
            "linecolor": "white",
            "ticks": ""
           },
           "baxis": {
            "gridcolor": "white",
            "linecolor": "white",
            "ticks": ""
           },
           "bgcolor": "#E5ECF6",
           "caxis": {
            "gridcolor": "white",
            "linecolor": "white",
            "ticks": ""
           }
          },
          "title": {
           "x": 0.05
          },
          "xaxis": {
           "automargin": true,
           "gridcolor": "white",
           "linecolor": "white",
           "ticks": "",
           "title": {
            "standoff": 15
           },
           "zerolinecolor": "white",
           "zerolinewidth": 2
          },
          "yaxis": {
           "automargin": true,
           "gridcolor": "white",
           "linecolor": "white",
           "ticks": "",
           "title": {
            "standoff": 15
           },
           "zerolinecolor": "white",
           "zerolinewidth": 2
          }
         }
        },
        "width": 1000
       }
      },
      "text/html": [
       "<div>                            <div id=\"f77eeb75-8616-470b-9994-4da80523163c\" class=\"plotly-graph-div\" style=\"height:600px; width:1000px;\"></div>            <script type=\"text/javascript\">                require([\"plotly\"], function(Plotly) {                    window.PLOTLYENV=window.PLOTLYENV || {};                                    if (document.getElementById(\"f77eeb75-8616-470b-9994-4da80523163c\")) {                    Plotly.newPlot(                        \"f77eeb75-8616-470b-9994-4da80523163c\",                        [{\"branchvalues\":\"total\",\"customdata\":[[2153.0],[3159.0],[3778.0],[5056.0],[3850.0],[6560.0],[3152.0],[26380.0],[9481.0],[3536.0],[16424.0],[30360.0],[1689.0],[8419.0],[1947.0],[3708.0],[2198.0],[3406.0],[481.0],[2468.0],[2687.0],[1533.0],[1865.0],[3215.0],[5307.0],[14904.538151454075]],\"domain\":{\"x\":[0.0,1.0],\"y\":[0.0,1.0]},\"hovertemplate\":\"labels=%{label}<br>freq_sum=%{value}<br>parent=%{parent}<br>id=%{id}<br>freq=%{color}<extra></extra>\",\"ids\":[\"DevType/Academic researcher\",\"DevType/Data or business analyst\",\"DevType/Data scientist or machine learning specialist\",\"DevType/Database administrator\",\"DevType/Designer\",\"DevType/DevOps specialist\",\"DevType/Developer, QA or test\",\"DevType/Developer, back-end\",\"DevType/Developer, desktop or enterprise applications\",\"DevType/Developer, embedded applications or devices\",\"DevType/Developer, front-end\",\"DevType/Developer, full-stack\",\"DevType/Developer, game or graphics\",\"DevType/Developer, mobile\",\"DevType/Educator\",\"DevType/Engineer, data\",\"DevType/Engineer, site reliability\",\"DevType/Engineering manager\",\"DevType/Marketing or sales professional\",\"DevType/Other (please specify):\",\"DevType/Product manager\",\"DevType/Scientist\",\"DevType/Senior Executive (C-Suite, VP, etc.)\",\"DevType/Student\",\"DevType/System administrator\",\"DevType\"],\"labels\":[\"Academic researcher\",\"Data or business analyst\",\"Data scientist or machine learning specialist\",\"Database administrator\",\"Designer\",\"DevOps specialist\",\"Developer, QA or test\",\"Developer, back-end\",\"Developer, desktop or enterprise applications\",\"Developer, embedded applications or devices\",\"Developer, front-end\",\"Developer, full-stack\",\"Developer, game or graphics\",\"Developer, mobile\",\"Educator\",\"Engineer, data\",\"Engineer, site reliability\",\"Engineering manager\",\"Marketing or sales professional\",\"Other (please specify):\",\"Product manager\",\"Scientist\",\"Senior Executive (C-Suite, VP, etc.)\",\"Student\",\"System administrator\",\"DevType\"],\"marker\":{\"coloraxis\":\"coloraxis\",\"colors\":[2153.0,3159.0,3778.0,5056.0,3850.0,6560.0,3152.0,26380.0,9481.0,3536.0,16424.0,30360.0,1689.0,8419.0,1947.0,3708.0,2198.0,3406.0,481.0,2468.0,2687.0,1533.0,1865.0,3215.0,5307.0,14904.538151454075]},\"name\":\"\",\"parents\":[\"DevType\",\"DevType\",\"DevType\",\"DevType\",\"DevType\",\"DevType\",\"DevType\",\"DevType\",\"DevType\",\"DevType\",\"DevType\",\"DevType\",\"DevType\",\"DevType\",\"DevType\",\"DevType\",\"DevType\",\"DevType\",\"DevType\",\"DevType\",\"DevType\",\"DevType\",\"DevType\",\"DevType\",\"DevType\",\"\"],\"values\":[2153,3159,3778,5056,3850,6560,3152,26380,9481,3536,16424,30360,1689,8419,1947,3708,2198,3406,481,2468,2687,1533,1865,3215,5307,152812],\"type\":\"treemap\"}],                        {\"template\":{\"data\":{\"bar\":[{\"error_x\":{\"color\":\"#2a3f5f\"},\"error_y\":{\"color\":\"#2a3f5f\"},\"marker\":{\"line\":{\"color\":\"#E5ECF6\",\"width\":0.5},\"pattern\":{\"fillmode\":\"overlay\",\"size\":10,\"solidity\":0.2}},\"type\":\"bar\"}],\"barpolar\":[{\"marker\":{\"line\":{\"color\":\"#E5ECF6\",\"width\":0.5},\"pattern\":{\"fillmode\":\"overlay\",\"size\":10,\"solidity\":0.2}},\"type\":\"barpolar\"}],\"carpet\":[{\"aaxis\":{\"endlinecolor\":\"#2a3f5f\",\"gridcolor\":\"white\",\"linecolor\":\"white\",\"minorgridcolor\":\"white\",\"startlinecolor\":\"#2a3f5f\"},\"baxis\":{\"endlinecolor\":\"#2a3f5f\",\"gridcolor\":\"white\",\"linecolor\":\"white\",\"minorgridcolor\":\"white\",\"startlinecolor\":\"#2a3f5f\"},\"type\":\"carpet\"}],\"choropleth\":[{\"colorbar\":{\"outlinewidth\":0,\"ticks\":\"\"},\"type\":\"choropleth\"}],\"contour\":[{\"colorbar\":{\"outlinewidth\":0,\"ticks\":\"\"},\"colorscale\":[[0.0,\"#0d0887\"],[0.1111111111111111,\"#46039f\"],[0.2222222222222222,\"#7201a8\"],[0.3333333333333333,\"#9c179e\"],[0.4444444444444444,\"#bd3786\"],[0.5555555555555556,\"#d8576b\"],[0.6666666666666666,\"#ed7953\"],[0.7777777777777778,\"#fb9f3a\"],[0.8888888888888888,\"#fdca26\"],[1.0,\"#f0f921\"]],\"type\":\"contour\"}],\"contourcarpet\":[{\"colorbar\":{\"outlinewidth\":0,\"ticks\":\"\"},\"type\":\"contourcarpet\"}],\"heatmap\":[{\"colorbar\":{\"outlinewidth\":0,\"ticks\":\"\"},\"colorscale\":[[0.0,\"#0d0887\"],[0.1111111111111111,\"#46039f\"],[0.2222222222222222,\"#7201a8\"],[0.3333333333333333,\"#9c179e\"],[0.4444444444444444,\"#bd3786\"],[0.5555555555555556,\"#d8576b\"],[0.6666666666666666,\"#ed7953\"],[0.7777777777777778,\"#fb9f3a\"],[0.8888888888888888,\"#fdca26\"],[1.0,\"#f0f921\"]],\"type\":\"heatmap\"}],\"heatmapgl\":[{\"colorbar\":{\"outlinewidth\":0,\"ticks\":\"\"},\"colorscale\":[[0.0,\"#0d0887\"],[0.1111111111111111,\"#46039f\"],[0.2222222222222222,\"#7201a8\"],[0.3333333333333333,\"#9c179e\"],[0.4444444444444444,\"#bd3786\"],[0.5555555555555556,\"#d8576b\"],[0.6666666666666666,\"#ed7953\"],[0.7777777777777778,\"#fb9f3a\"],[0.8888888888888888,\"#fdca26\"],[1.0,\"#f0f921\"]],\"type\":\"heatmapgl\"}],\"histogram\":[{\"marker\":{\"pattern\":{\"fillmode\":\"overlay\",\"size\":10,\"solidity\":0.2}},\"type\":\"histogram\"}],\"histogram2d\":[{\"colorbar\":{\"outlinewidth\":0,\"ticks\":\"\"},\"colorscale\":[[0.0,\"#0d0887\"],[0.1111111111111111,\"#46039f\"],[0.2222222222222222,\"#7201a8\"],[0.3333333333333333,\"#9c179e\"],[0.4444444444444444,\"#bd3786\"],[0.5555555555555556,\"#d8576b\"],[0.6666666666666666,\"#ed7953\"],[0.7777777777777778,\"#fb9f3a\"],[0.8888888888888888,\"#fdca26\"],[1.0,\"#f0f921\"]],\"type\":\"histogram2d\"}],\"histogram2dcontour\":[{\"colorbar\":{\"outlinewidth\":0,\"ticks\":\"\"},\"colorscale\":[[0.0,\"#0d0887\"],[0.1111111111111111,\"#46039f\"],[0.2222222222222222,\"#7201a8\"],[0.3333333333333333,\"#9c179e\"],[0.4444444444444444,\"#bd3786\"],[0.5555555555555556,\"#d8576b\"],[0.6666666666666666,\"#ed7953\"],[0.7777777777777778,\"#fb9f3a\"],[0.8888888888888888,\"#fdca26\"],[1.0,\"#f0f921\"]],\"type\":\"histogram2dcontour\"}],\"mesh3d\":[{\"colorbar\":{\"outlinewidth\":0,\"ticks\":\"\"},\"type\":\"mesh3d\"}],\"parcoords\":[{\"line\":{\"colorbar\":{\"outlinewidth\":0,\"ticks\":\"\"}},\"type\":\"parcoords\"}],\"pie\":[{\"automargin\":true,\"type\":\"pie\"}],\"scatter\":[{\"marker\":{\"colorbar\":{\"outlinewidth\":0,\"ticks\":\"\"}},\"type\":\"scatter\"}],\"scatter3d\":[{\"line\":{\"colorbar\":{\"outlinewidth\":0,\"ticks\":\"\"}},\"marker\":{\"colorbar\":{\"outlinewidth\":0,\"ticks\":\"\"}},\"type\":\"scatter3d\"}],\"scattercarpet\":[{\"marker\":{\"colorbar\":{\"outlinewidth\":0,\"ticks\":\"\"}},\"type\":\"scattercarpet\"}],\"scattergeo\":[{\"marker\":{\"colorbar\":{\"outlinewidth\":0,\"ticks\":\"\"}},\"type\":\"scattergeo\"}],\"scattergl\":[{\"marker\":{\"colorbar\":{\"outlinewidth\":0,\"ticks\":\"\"}},\"type\":\"scattergl\"}],\"scattermapbox\":[{\"marker\":{\"colorbar\":{\"outlinewidth\":0,\"ticks\":\"\"}},\"type\":\"scattermapbox\"}],\"scatterpolar\":[{\"marker\":{\"colorbar\":{\"outlinewidth\":0,\"ticks\":\"\"}},\"type\":\"scatterpolar\"}],\"scatterpolargl\":[{\"marker\":{\"colorbar\":{\"outlinewidth\":0,\"ticks\":\"\"}},\"type\":\"scatterpolargl\"}],\"scatterternary\":[{\"marker\":{\"colorbar\":{\"outlinewidth\":0,\"ticks\":\"\"}},\"type\":\"scatterternary\"}],\"surface\":[{\"colorbar\":{\"outlinewidth\":0,\"ticks\":\"\"},\"colorscale\":[[0.0,\"#0d0887\"],[0.1111111111111111,\"#46039f\"],[0.2222222222222222,\"#7201a8\"],[0.3333333333333333,\"#9c179e\"],[0.4444444444444444,\"#bd3786\"],[0.5555555555555556,\"#d8576b\"],[0.6666666666666666,\"#ed7953\"],[0.7777777777777778,\"#fb9f3a\"],[0.8888888888888888,\"#fdca26\"],[1.0,\"#f0f921\"]],\"type\":\"surface\"}],\"table\":[{\"cells\":{\"fill\":{\"color\":\"#EBF0F8\"},\"line\":{\"color\":\"white\"}},\"header\":{\"fill\":{\"color\":\"#C8D4E3\"},\"line\":{\"color\":\"white\"}},\"type\":\"table\"}]},\"layout\":{\"annotationdefaults\":{\"arrowcolor\":\"#2a3f5f\",\"arrowhead\":0,\"arrowwidth\":1},\"autotypenumbers\":\"strict\",\"coloraxis\":{\"colorbar\":{\"outlinewidth\":0,\"ticks\":\"\"}},\"colorscale\":{\"diverging\":[[0,\"#8e0152\"],[0.1,\"#c51b7d\"],[0.2,\"#de77ae\"],[0.3,\"#f1b6da\"],[0.4,\"#fde0ef\"],[0.5,\"#f7f7f7\"],[0.6,\"#e6f5d0\"],[0.7,\"#b8e186\"],[0.8,\"#7fbc41\"],[0.9,\"#4d9221\"],[1,\"#276419\"]],\"sequential\":[[0.0,\"#0d0887\"],[0.1111111111111111,\"#46039f\"],[0.2222222222222222,\"#7201a8\"],[0.3333333333333333,\"#9c179e\"],[0.4444444444444444,\"#bd3786\"],[0.5555555555555556,\"#d8576b\"],[0.6666666666666666,\"#ed7953\"],[0.7777777777777778,\"#fb9f3a\"],[0.8888888888888888,\"#fdca26\"],[1.0,\"#f0f921\"]],\"sequentialminus\":[[0.0,\"#0d0887\"],[0.1111111111111111,\"#46039f\"],[0.2222222222222222,\"#7201a8\"],[0.3333333333333333,\"#9c179e\"],[0.4444444444444444,\"#bd3786\"],[0.5555555555555556,\"#d8576b\"],[0.6666666666666666,\"#ed7953\"],[0.7777777777777778,\"#fb9f3a\"],[0.8888888888888888,\"#fdca26\"],[1.0,\"#f0f921\"]]},\"colorway\":[\"#636efa\",\"#EF553B\",\"#00cc96\",\"#ab63fa\",\"#FFA15A\",\"#19d3f3\",\"#FF6692\",\"#B6E880\",\"#FF97FF\",\"#FECB52\"],\"font\":{\"color\":\"#2a3f5f\"},\"geo\":{\"bgcolor\":\"white\",\"lakecolor\":\"white\",\"landcolor\":\"#E5ECF6\",\"showlakes\":true,\"showland\":true,\"subunitcolor\":\"white\"},\"hoverlabel\":{\"align\":\"left\"},\"hovermode\":\"closest\",\"mapbox\":{\"style\":\"light\"},\"paper_bgcolor\":\"white\",\"plot_bgcolor\":\"#E5ECF6\",\"polar\":{\"angularaxis\":{\"gridcolor\":\"white\",\"linecolor\":\"white\",\"ticks\":\"\"},\"bgcolor\":\"#E5ECF6\",\"radialaxis\":{\"gridcolor\":\"white\",\"linecolor\":\"white\",\"ticks\":\"\"}},\"scene\":{\"xaxis\":{\"backgroundcolor\":\"#E5ECF6\",\"gridcolor\":\"white\",\"gridwidth\":2,\"linecolor\":\"white\",\"showbackground\":true,\"ticks\":\"\",\"zerolinecolor\":\"white\"},\"yaxis\":{\"backgroundcolor\":\"#E5ECF6\",\"gridcolor\":\"white\",\"gridwidth\":2,\"linecolor\":\"white\",\"showbackground\":true,\"ticks\":\"\",\"zerolinecolor\":\"white\"},\"zaxis\":{\"backgroundcolor\":\"#E5ECF6\",\"gridcolor\":\"white\",\"gridwidth\":2,\"linecolor\":\"white\",\"showbackground\":true,\"ticks\":\"\",\"zerolinecolor\":\"white\"}},\"shapedefaults\":{\"line\":{\"color\":\"#2a3f5f\"}},\"ternary\":{\"aaxis\":{\"gridcolor\":\"white\",\"linecolor\":\"white\",\"ticks\":\"\"},\"baxis\":{\"gridcolor\":\"white\",\"linecolor\":\"white\",\"ticks\":\"\"},\"bgcolor\":\"#E5ECF6\",\"caxis\":{\"gridcolor\":\"white\",\"linecolor\":\"white\",\"ticks\":\"\"}},\"title\":{\"x\":0.05},\"xaxis\":{\"automargin\":true,\"gridcolor\":\"white\",\"linecolor\":\"white\",\"ticks\":\"\",\"title\":{\"standoff\":15},\"zerolinecolor\":\"white\",\"zerolinewidth\":2},\"yaxis\":{\"automargin\":true,\"gridcolor\":\"white\",\"linecolor\":\"white\",\"ticks\":\"\",\"title\":{\"standoff\":15},\"zerolinecolor\":\"white\",\"zerolinewidth\":2}}},\"coloraxis\":{\"colorbar\":{\"title\":{\"text\":\"freq\"}},\"colorscale\":[[0.0,\"rgb(247,251,255)\"],[0.125,\"rgb(222,235,247)\"],[0.25,\"rgb(198,219,239)\"],[0.375,\"rgb(158,202,225)\"],[0.5,\"rgb(107,174,214)\"],[0.625,\"rgb(66,146,198)\"],[0.75,\"rgb(33,113,181)\"],[0.875,\"rgb(8,81,156)\"],[1.0,\"rgb(8,48,107)\"]]},\"legend\":{\"tracegroupgap\":0},\"margin\":{\"t\":60},\"width\":1000,\"height\":600},                        {\"responsive\": true}                    ).then(function(){\n",
       "                            \n",
       "var gd = document.getElementById('f77eeb75-8616-470b-9994-4da80523163c');\n",
       "var x = new MutationObserver(function (mutations, observer) {{\n",
       "        var display = window.getComputedStyle(gd).display;\n",
       "        if (!display || display === 'none') {{\n",
       "            console.log([gd, 'removed!']);\n",
       "            Plotly.purge(gd);\n",
       "            observer.disconnect();\n",
       "        }}\n",
       "}});\n",
       "\n",
       "// Listen for the removal of the full notebook cells\n",
       "var notebookContainer = gd.closest('#notebook-container');\n",
       "if (notebookContainer) {{\n",
       "    x.observe(notebookContainer, {childList: true});\n",
       "}}\n",
       "\n",
       "// Listen for the clearing of the current output cell\n",
       "var outputEl = gd.closest('.output');\n",
       "if (outputEl) {{\n",
       "    x.observe(outputEl, {childList: true});\n",
       "}}\n",
       "\n",
       "                        })                };                });            </script>        </div>"
      ]
     },
     "metadata": {},
     "output_type": "display_data"
    }
   ],
   "source": [
    "fig = px.treemap(job_freq,path = ['work','job'],color = 'freq', values = 'freq',color_continuous_scale='Blues')\n",
    "fig.update_layout(width = 1000, height = 600)\n",
    "fig.show()\n",
    "fig.write_html('../reports/figures/job_freq_treemap.html')"
   ]
  },
  {
   "cell_type": "code",
   "execution_count": 96,
   "id": "635d677c",
   "metadata": {},
   "outputs": [],
   "source": [
    "# skills_freq = encoded_df.drop('DevType', axis=1).sum().reset_index()\n",
    "skills_freq = encoded_df._drop_axis('DevType', axis=1,level = 0).sum().reset_index()\n",
    "skills_freq.columns = ['group', 'skill', 'freq']\n"
   ]
  },
  {
   "cell_type": "code",
   "execution_count": 97,
   "id": "7d3d002a",
   "metadata": {
    "scrolled": true
   },
   "outputs": [
    {
     "data": {
      "text/html": [
       "<div>\n",
       "<style scoped>\n",
       "    .dataframe tbody tr th:only-of-type {\n",
       "        vertical-align: middle;\n",
       "    }\n",
       "\n",
       "    .dataframe tbody tr th {\n",
       "        vertical-align: top;\n",
       "    }\n",
       "\n",
       "    .dataframe thead th {\n",
       "        text-align: right;\n",
       "    }\n",
       "</style>\n",
       "<table border=\"1\" class=\"dataframe\">\n",
       "  <thead>\n",
       "    <tr style=\"text-align: right;\">\n",
       "      <th></th>\n",
       "      <th>group</th>\n",
       "      <th>skill</th>\n",
       "      <th>freq</th>\n",
       "    </tr>\n",
       "  </thead>\n",
       "  <tbody>\n",
       "    <tr>\n",
       "      <th>95</th>\n",
       "      <td>ToolsTechHaveWorkedWith</td>\n",
       "      <td>Git</td>\n",
       "      <td>1082499.5</td>\n",
       "    </tr>\n",
       "    <tr>\n",
       "      <th>122</th>\n",
       "      <td>NEWCollabToolsHaveWorkedWith</td>\n",
       "      <td>Visual Studio Code</td>\n",
       "      <td>841371.0</td>\n",
       "    </tr>\n",
       "    <tr>\n",
       "      <th>19</th>\n",
       "      <td>LanguageHaveWorkedWith</td>\n",
       "      <td>JavaScript</td>\n",
       "      <td>774407.0</td>\n",
       "    </tr>\n",
       "    <tr>\n",
       "      <th>93</th>\n",
       "      <td>ToolsTechHaveWorkedWith</td>\n",
       "      <td>Docker</td>\n",
       "      <td>698353.5</td>\n",
       "    </tr>\n",
       "    <tr>\n",
       "      <th>16</th>\n",
       "      <td>LanguageHaveWorkedWith</td>\n",
       "      <td>HTML/CSS</td>\n",
       "      <td>626356.0</td>\n",
       "    </tr>\n",
       "    <tr>\n",
       "      <th>...</th>\n",
       "      <td>...</td>\n",
       "      <td>...</td>\n",
       "      <td>...</td>\n",
       "    </tr>\n",
       "    <tr>\n",
       "      <th>119</th>\n",
       "      <td>NEWCollabToolsHaveWorkedWith</td>\n",
       "      <td>TextMate</td>\n",
       "      <td>12701.5</td>\n",
       "    </tr>\n",
       "    <tr>\n",
       "      <th>97</th>\n",
       "      <td>ToolsTechHaveWorkedWith</td>\n",
       "      <td>Pulumi</td>\n",
       "      <td>12640.0</td>\n",
       "    </tr>\n",
       "    <tr>\n",
       "      <th>8</th>\n",
       "      <td>LanguageHaveWorkedWith</td>\n",
       "      <td>Crystal</td>\n",
       "      <td>10710.5</td>\n",
       "    </tr>\n",
       "    <tr>\n",
       "      <th>6</th>\n",
       "      <td>LanguageHaveWorkedWith</td>\n",
       "      <td>COBOL</td>\n",
       "      <td>6979.0</td>\n",
       "    </tr>\n",
       "    <tr>\n",
       "      <th>0</th>\n",
       "      <td>LanguageHaveWorkedWith</td>\n",
       "      <td>APL</td>\n",
       "      <td>6494.0</td>\n",
       "    </tr>\n",
       "  </tbody>\n",
       "</table>\n",
       "<p>125 rows × 3 columns</p>\n",
       "</div>"
      ],
      "text/plain": [
       "                            group               skill       freq\n",
       "95        ToolsTechHaveWorkedWith                 Git  1082499.5\n",
       "122  NEWCollabToolsHaveWorkedWith  Visual Studio Code   841371.0\n",
       "19         LanguageHaveWorkedWith          JavaScript   774407.0\n",
       "93        ToolsTechHaveWorkedWith              Docker   698353.5\n",
       "16         LanguageHaveWorkedWith            HTML/CSS   626356.0\n",
       "..                            ...                 ...        ...\n",
       "119  NEWCollabToolsHaveWorkedWith            TextMate    12701.5\n",
       "97        ToolsTechHaveWorkedWith              Pulumi    12640.0\n",
       "8          LanguageHaveWorkedWith             Crystal    10710.5\n",
       "6          LanguageHaveWorkedWith               COBOL     6979.0\n",
       "0          LanguageHaveWorkedWith                 APL     6494.0\n",
       "\n",
       "[125 rows x 3 columns]"
      ]
     },
     "execution_count": 97,
     "metadata": {},
     "output_type": "execute_result"
    }
   ],
   "source": [
    "skills_freq.sort_values('freq',ascending=False)"
   ]
  },
  {
   "cell_type": "code",
   "execution_count": 98,
   "id": "67ade388",
   "metadata": {},
   "outputs": [
    {
     "name": "stderr",
     "output_type": "stream",
     "text": [
      "/home/ayah/anaconda3/lib/python3.9/site-packages/plotly/express/_core.py:1637: FutureWarning:\n",
      "\n",
      "The frame.append method is deprecated and will be removed from pandas in a future version. Use pandas.concat instead.\n",
      "\n",
      "/home/ayah/anaconda3/lib/python3.9/site-packages/plotly/express/_core.py:1637: FutureWarning:\n",
      "\n",
      "The frame.append method is deprecated and will be removed from pandas in a future version. Use pandas.concat instead.\n",
      "\n"
     ]
    },
    {
     "data": {
      "application/vnd.plotly.v1+json": {
       "config": {
        "plotlyServerURL": "https://plot.ly"
       },
       "data": [
        {
         "branchvalues": "total",
         "customdata": [
          [
           298350
          ],
          [
           263814
          ],
          [
           6494
          ],
          [
           167103.5
          ],
          [
           238764.5
          ],
          [
           556899
          ],
          [
           210606.5
          ],
          [
           255743.5
          ],
          [
           113386
          ],
          [
           126879
          ],
          [
           59191.5
          ],
          [
           42733.5
          ],
          [
           100131
          ],
          [
           348412.5
          ],
          [
           161895.5
          ],
          [
           382951.5
          ],
          [
           203047
          ],
          [
           6979
          ],
          [
           53110
          ],
          [
           22665
          ],
          [
           40300
          ],
          [
           54452.5
          ],
          [
           27642.5
          ],
          [
           10710.5
          ],
          [
           70643
          ],
          [
           31901.5
          ],
          [
           34312.5
          ],
          [
           154080.5
          ],
          [
           121331.5
          ],
          [
           698353.5
          ],
          [
           25526.5
          ],
          [
           114868.5
          ],
          [
           152300.5
          ],
          [
           220130
          ],
          [
           39613.5
          ],
          [
           76924
          ],
          [
           17387
          ],
          [
           203961.5
          ],
          [
           26316
          ],
          [
           47027.5
          ],
          [
           146915.5
          ],
          [
           134864.5
          ],
          [
           15379
          ],
          [
           97552.5
          ],
          [
           41716
          ],
          [
           1082499.5
          ],
          [
           187278.5
          ],
          [
           275511.5
          ],
          [
           46908.5
          ],
          [
           626356
          ],
          [
           43207
          ],
          [
           27786.5
          ],
          [
           144826
          ],
          [
           22548.5
          ],
          [
           26622
          ],
          [
           121625.5
          ],
          [
           342163.5
          ],
          [
           370286.5
          ],
          [
           774407
          ],
          [
           18671.5
          ],
          [
           58928
          ],
          [
           122956
          ],
          [
           324681
          ],
          [
           19642.5
          ],
          [
           89325.5
          ],
          [
           193886.5
          ],
          [
           29478
          ],
          [
           336753
          ],
          [
           349158
          ],
          [
           301711
          ],
          [
           460327.5
          ],
          [
           54206
          ],
          [
           59734
          ],
          [
           420124
          ],
          [
           350596.5
          ],
          [
           189563.5
          ],
          [
           34979.5
          ],
          [
           140947.5
          ],
          [
           18260.5
          ],
          [
           226965
          ],
          [
           88483
          ],
          [
           171742
          ],
          [
           38632.5
          ],
          [
           518283
          ],
          [
           145446
          ],
          [
           12640
          ],
          [
           29726.5
          ],
          [
           180835
          ],
          [
           516890.5
          ],
          [
           58030.5
          ],
          [
           54714
          ],
          [
           37286
          ],
          [
           112679
          ],
          [
           408459
          ],
          [
           312572.5
          ],
          [
           59522.5
          ],
          [
           102950.5
          ],
          [
           85712.5
          ],
          [
           22755.5
          ],
          [
           135004.5
          ],
          [
           622515
          ],
          [
           332568.5
          ],
          [
           48596
          ],
          [
           167551.5
          ],
          [
           204010.5
          ],
          [
           47220.5
          ],
          [
           74428
          ],
          [
           40825.5
          ],
          [
           122662.5
          ],
          [
           147064
          ],
          [
           12701.5
          ],
          [
           74534
          ],
          [
           458129
          ],
          [
           79517.5
          ],
          [
           37957.5
          ],
          [
           50844
          ],
          [
           317028
          ],
          [
           394374
          ],
          [
           841371
          ],
          [
           222642
          ],
          [
           100111
          ],
          [
           56994.5
          ],
          [
           144106.5
          ],
          [
           205417.5
          ],
          [
           300523.5
          ],
          [
           327238.1443398235
          ],
          [
           411162.8740891931
          ],
          [
           175751.85933849605
          ],
          [
           368723.59156786895
          ],
          [
           361197.2313956255
          ],
          [
           646753.614568383
          ],
          [
           219909.36632997563
          ]
         ],
         "domain": {
          "x": [
           0,
           1
          ],
          "y": [
           0,
           1
          ]
         },
         "hovertemplate": "labels=%{label}<br>freq_sum=%{value}<br>parent=%{parent}<br>id=%{id}<br>freq=%{color}<extra></extra>",
         "ids": [
          "MiscTechHaveWorkedWith/.NET Core / .NET 5",
          "MiscTechHaveWorkedWith/.NET Framework",
          "LanguageHaveWorkedWith/APL",
          "WebframeHaveWorkedWith/ASP.NET",
          "WebframeHaveWorkedWith/ASP.NET Core ",
          "PlatformHaveWorkedWith/AWS",
          "NEWCollabToolsHaveWorkedWith/Android Studio",
          "WebframeHaveWorkedWith/Angular",
          "WebframeHaveWorkedWith/Angular.js",
          "ToolsTechHaveWorkedWith/Ansible",
          "MiscTechHaveWorkedWith/Apache Spark",
          "LanguageHaveWorkedWith/Assembly",
          "NEWCollabToolsHaveWorkedWith/Atom",
          "LanguageHaveWorkedWith/Bash/Shell",
          "LanguageHaveWorkedWith/C",
          "LanguageHaveWorkedWith/C#",
          "LanguageHaveWorkedWith/C++",
          "LanguageHaveWorkedWith/COBOL",
          "DatabaseHaveWorkedWith/Cassandra",
          "ToolsTechHaveWorkedWith/Chef",
          "LanguageHaveWorkedWith/Clojure",
          "MiscTechHaveWorkedWith/Cordova",
          "DatabaseHaveWorkedWith/Couchbase",
          "LanguageHaveWorkedWith/Crystal",
          "LanguageHaveWorkedWith/Dart",
          "LanguageHaveWorkedWith/Delphi",
          "ToolsTechHaveWorkedWith/Deno",
          "PlatformHaveWorkedWith/DigitalOcean",
          "WebframeHaveWorkedWith/Django",
          "ToolsTechHaveWorkedWith/Docker",
          "WebframeHaveWorkedWith/Drupal",
          "DatabaseHaveWorkedWith/DynamoDB",
          "NEWCollabToolsHaveWorkedWith/Eclipse",
          "DatabaseHaveWorkedWith/Elasticsearch",
          "LanguageHaveWorkedWith/Elixir",
          "NEWCollabToolsHaveWorkedWith/Emacs",
          "LanguageHaveWorkedWith/Erlang",
          "WebframeHaveWorkedWith/Express",
          "LanguageHaveWorkedWith/F#",
          "WebframeHaveWorkedWith/FastAPI",
          "DatabaseHaveWorkedWith/Firebase",
          "WebframeHaveWorkedWith/Flask",
          "ToolsTechHaveWorkedWith/Flow",
          "MiscTechHaveWorkedWith/Flutter",
          "WebframeHaveWorkedWith/Gatsby",
          "ToolsTechHaveWorkedWith/Git",
          "LanguageHaveWorkedWith/Go",
          "PlatformHaveWorkedWith/Google Cloud Platform",
          "LanguageHaveWorkedWith/Groovy",
          "LanguageHaveWorkedWith/HTML/CSS",
          "MiscTechHaveWorkedWith/Hadoop",
          "LanguageHaveWorkedWith/Haskell",
          "PlatformHaveWorkedWith/Heroku",
          "PlatformHaveWorkedWith/IBM Cloud or Watson",
          "DatabaseHaveWorkedWith/IBM DB2",
          "NEWCollabToolsHaveWorkedWith/IPython/Jupyter",
          "NEWCollabToolsHaveWorkedWith/IntelliJ",
          "LanguageHaveWorkedWith/Java",
          "LanguageHaveWorkedWith/JavaScript",
          "LanguageHaveWorkedWith/Julia",
          "MiscTechHaveWorkedWith/Keras",
          "LanguageHaveWorkedWith/Kotlin",
          "ToolsTechHaveWorkedWith/Kubernetes",
          "LanguageHaveWorkedWith/LISP",
          "WebframeHaveWorkedWith/Laravel",
          "DatabaseHaveWorkedWith/MariaDB",
          "LanguageHaveWorkedWith/Matlab",
          "PlatformHaveWorkedWith/Microsoft Azure",
          "DatabaseHaveWorkedWith/Microsoft SQL Server",
          "DatabaseHaveWorkedWith/MongoDB",
          "DatabaseHaveWorkedWith/MySQL",
          "NEWCollabToolsHaveWorkedWith/Neovim",
          "NEWCollabToolsHaveWorkedWith/NetBeans",
          "LanguageHaveWorkedWith/Node.js",
          "NEWCollabToolsHaveWorkedWith/Notepad++",
          "MiscTechHaveWorkedWith/NumPy",
          "LanguageHaveWorkedWith/Objective-C",
          "DatabaseHaveWorkedWith/Oracle",
          "PlatformHaveWorkedWith/Oracle Cloud Infrastructure",
          "LanguageHaveWorkedWith/PHP",
          "NEWCollabToolsHaveWorkedWith/PHPStorm",
          "MiscTechHaveWorkedWith/Pandas",
          "LanguageHaveWorkedWith/Perl",
          "DatabaseHaveWorkedWith/PostgreSQL",
          "LanguageHaveWorkedWith/PowerShell",
          "ToolsTechHaveWorkedWith/Pulumi",
          "ToolsTechHaveWorkedWith/Puppet",
          "NEWCollabToolsHaveWorkedWith/PyCharm",
          "LanguageHaveWorkedWith/Python",
          "MiscTechHaveWorkedWith/Qt",
          "LanguageHaveWorkedWith/R",
          "NEWCollabToolsHaveWorkedWith/RStudio",
          "MiscTechHaveWorkedWith/React Native",
          "WebframeHaveWorkedWith/React.js",
          "DatabaseHaveWorkedWith/Redis",
          "NEWCollabToolsHaveWorkedWith/Rider",
          "LanguageHaveWorkedWith/Ruby",
          "WebframeHaveWorkedWith/Ruby on Rails",
          "NEWCollabToolsHaveWorkedWith/RubyMine",
          "LanguageHaveWorkedWith/Rust",
          "LanguageHaveWorkedWith/SQL",
          "DatabaseHaveWorkedWith/SQLite",
          "LanguageHaveWorkedWith/Scala",
          "WebframeHaveWorkedWith/Spring",
          "NEWCollabToolsHaveWorkedWith/Sublime Text",
          "WebframeHaveWorkedWith/Svelte",
          "LanguageHaveWorkedWith/Swift",
          "WebframeHaveWorkedWith/Symfony",
          "MiscTechHaveWorkedWith/TensorFlow",
          "ToolsTechHaveWorkedWith/Terraform",
          "NEWCollabToolsHaveWorkedWith/TextMate",
          "MiscTechHaveWorkedWith/Torch/PyTorch",
          "LanguageHaveWorkedWith/TypeScript",
          "ToolsTechHaveWorkedWith/Unity 3D",
          "ToolsTechHaveWorkedWith/Unreal Engine",
          "LanguageHaveWorkedWith/VBA",
          "NEWCollabToolsHaveWorkedWith/Vim",
          "NEWCollabToolsHaveWorkedWith/Visual Studio",
          "NEWCollabToolsHaveWorkedWith/Visual Studio Code",
          "WebframeHaveWorkedWith/Vue.js",
          "NEWCollabToolsHaveWorkedWith/Webstorm",
          "ToolsTechHaveWorkedWith/Xamarin",
          "NEWCollabToolsHaveWorkedWith/Xcode",
          "ToolsTechHaveWorkedWith/Yarn",
          "WebframeHaveWorkedWith/jQuery",
          "DatabaseHaveWorkedWith",
          "LanguageHaveWorkedWith",
          "MiscTechHaveWorkedWith",
          "NEWCollabToolsHaveWorkedWith",
          "PlatformHaveWorkedWith",
          "ToolsTechHaveWorkedWith",
          "WebframeHaveWorkedWith"
         ],
         "labels": [
          ".NET Core / .NET 5",
          ".NET Framework",
          "APL",
          "ASP.NET",
          "ASP.NET Core ",
          "AWS",
          "Android Studio",
          "Angular",
          "Angular.js",
          "Ansible",
          "Apache Spark",
          "Assembly",
          "Atom",
          "Bash/Shell",
          "C",
          "C#",
          "C++",
          "COBOL",
          "Cassandra",
          "Chef",
          "Clojure",
          "Cordova",
          "Couchbase",
          "Crystal",
          "Dart",
          "Delphi",
          "Deno",
          "DigitalOcean",
          "Django",
          "Docker",
          "Drupal",
          "DynamoDB",
          "Eclipse",
          "Elasticsearch",
          "Elixir",
          "Emacs",
          "Erlang",
          "Express",
          "F#",
          "FastAPI",
          "Firebase",
          "Flask",
          "Flow",
          "Flutter",
          "Gatsby",
          "Git",
          "Go",
          "Google Cloud Platform",
          "Groovy",
          "HTML/CSS",
          "Hadoop",
          "Haskell",
          "Heroku",
          "IBM Cloud or Watson",
          "IBM DB2",
          "IPython/Jupyter",
          "IntelliJ",
          "Java",
          "JavaScript",
          "Julia",
          "Keras",
          "Kotlin",
          "Kubernetes",
          "LISP",
          "Laravel",
          "MariaDB",
          "Matlab",
          "Microsoft Azure",
          "Microsoft SQL Server",
          "MongoDB",
          "MySQL",
          "Neovim",
          "NetBeans",
          "Node.js",
          "Notepad++",
          "NumPy",
          "Objective-C",
          "Oracle",
          "Oracle Cloud Infrastructure",
          "PHP",
          "PHPStorm",
          "Pandas",
          "Perl",
          "PostgreSQL",
          "PowerShell",
          "Pulumi",
          "Puppet",
          "PyCharm",
          "Python",
          "Qt",
          "R",
          "RStudio",
          "React Native",
          "React.js",
          "Redis",
          "Rider",
          "Ruby",
          "Ruby on Rails",
          "RubyMine",
          "Rust",
          "SQL",
          "SQLite",
          "Scala",
          "Spring",
          "Sublime Text",
          "Svelte",
          "Swift",
          "Symfony",
          "TensorFlow",
          "Terraform",
          "TextMate",
          "Torch/PyTorch",
          "TypeScript",
          "Unity 3D",
          "Unreal Engine",
          "VBA",
          "Vim",
          "Visual Studio",
          "Visual Studio Code",
          "Vue.js",
          "Webstorm",
          "Xamarin",
          "Xcode",
          "Yarn",
          "jQuery",
          "DatabaseHaveWorkedWith",
          "LanguageHaveWorkedWith",
          "MiscTechHaveWorkedWith",
          "NEWCollabToolsHaveWorkedWith",
          "PlatformHaveWorkedWith",
          "ToolsTechHaveWorkedWith",
          "WebframeHaveWorkedWith"
         ],
         "marker": {
          "coloraxis": "coloraxis",
          "colors": [
           298350,
           263814,
           6494,
           167103.5,
           238764.5,
           556899,
           210606.5,
           255743.5,
           113386,
           126879,
           59191.5,
           42733.5,
           100131,
           348412.5,
           161895.5,
           382951.5,
           203047,
           6979,
           53110,
           22665,
           40300,
           54452.5,
           27642.5,
           10710.5,
           70643,
           31901.5,
           34312.5,
           154080.5,
           121331.5,
           698353.5,
           25526.5,
           114868.5,
           152300.5,
           220130,
           39613.5,
           76924,
           17387,
           203961.5,
           26316,
           47027.5,
           146915.5,
           134864.5,
           15379,
           97552.5,
           41716,
           1082499.5,
           187278.5,
           275511.5,
           46908.5,
           626356,
           43207,
           27786.5,
           144826,
           22548.5,
           26622,
           121625.5,
           342163.5,
           370286.5,
           774407,
           18671.5,
           58928,
           122956,
           324681,
           19642.5,
           89325.5,
           193886.5,
           29478,
           336753,
           349158,
           301711,
           460327.5,
           54206,
           59734,
           420124,
           350596.5,
           189563.5,
           34979.5,
           140947.5,
           18260.5,
           226965,
           88483,
           171742,
           38632.5,
           518283,
           145446,
           12640,
           29726.5,
           180835,
           516890.5,
           58030.5,
           54714,
           37286,
           112679,
           408459,
           312572.5,
           59522.5,
           102950.5,
           85712.5,
           22755.5,
           135004.5,
           622515,
           332568.5,
           48596,
           167551.5,
           204010.5,
           47220.5,
           74428,
           40825.5,
           122662.5,
           147064,
           12701.5,
           74534,
           458129,
           79517.5,
           37957.5,
           50844,
           317028,
           394374,
           841371,
           222642,
           100111,
           56994.5,
           144106.5,
           205417.5,
           300523.5,
           327238.1443398235,
           411162.8740891931,
           175751.85933849605,
           368723.59156786895,
           361197.2313956255,
           646753.614568383,
           219909.36632997563
          ]
         },
         "name": "",
         "parents": [
          "MiscTechHaveWorkedWith",
          "MiscTechHaveWorkedWith",
          "LanguageHaveWorkedWith",
          "WebframeHaveWorkedWith",
          "WebframeHaveWorkedWith",
          "PlatformHaveWorkedWith",
          "NEWCollabToolsHaveWorkedWith",
          "WebframeHaveWorkedWith",
          "WebframeHaveWorkedWith",
          "ToolsTechHaveWorkedWith",
          "MiscTechHaveWorkedWith",
          "LanguageHaveWorkedWith",
          "NEWCollabToolsHaveWorkedWith",
          "LanguageHaveWorkedWith",
          "LanguageHaveWorkedWith",
          "LanguageHaveWorkedWith",
          "LanguageHaveWorkedWith",
          "LanguageHaveWorkedWith",
          "DatabaseHaveWorkedWith",
          "ToolsTechHaveWorkedWith",
          "LanguageHaveWorkedWith",
          "MiscTechHaveWorkedWith",
          "DatabaseHaveWorkedWith",
          "LanguageHaveWorkedWith",
          "LanguageHaveWorkedWith",
          "LanguageHaveWorkedWith",
          "ToolsTechHaveWorkedWith",
          "PlatformHaveWorkedWith",
          "WebframeHaveWorkedWith",
          "ToolsTechHaveWorkedWith",
          "WebframeHaveWorkedWith",
          "DatabaseHaveWorkedWith",
          "NEWCollabToolsHaveWorkedWith",
          "DatabaseHaveWorkedWith",
          "LanguageHaveWorkedWith",
          "NEWCollabToolsHaveWorkedWith",
          "LanguageHaveWorkedWith",
          "WebframeHaveWorkedWith",
          "LanguageHaveWorkedWith",
          "WebframeHaveWorkedWith",
          "DatabaseHaveWorkedWith",
          "WebframeHaveWorkedWith",
          "ToolsTechHaveWorkedWith",
          "MiscTechHaveWorkedWith",
          "WebframeHaveWorkedWith",
          "ToolsTechHaveWorkedWith",
          "LanguageHaveWorkedWith",
          "PlatformHaveWorkedWith",
          "LanguageHaveWorkedWith",
          "LanguageHaveWorkedWith",
          "MiscTechHaveWorkedWith",
          "LanguageHaveWorkedWith",
          "PlatformHaveWorkedWith",
          "PlatformHaveWorkedWith",
          "DatabaseHaveWorkedWith",
          "NEWCollabToolsHaveWorkedWith",
          "NEWCollabToolsHaveWorkedWith",
          "LanguageHaveWorkedWith",
          "LanguageHaveWorkedWith",
          "LanguageHaveWorkedWith",
          "MiscTechHaveWorkedWith",
          "LanguageHaveWorkedWith",
          "ToolsTechHaveWorkedWith",
          "LanguageHaveWorkedWith",
          "WebframeHaveWorkedWith",
          "DatabaseHaveWorkedWith",
          "LanguageHaveWorkedWith",
          "PlatformHaveWorkedWith",
          "DatabaseHaveWorkedWith",
          "DatabaseHaveWorkedWith",
          "DatabaseHaveWorkedWith",
          "NEWCollabToolsHaveWorkedWith",
          "NEWCollabToolsHaveWorkedWith",
          "LanguageHaveWorkedWith",
          "NEWCollabToolsHaveWorkedWith",
          "MiscTechHaveWorkedWith",
          "LanguageHaveWorkedWith",
          "DatabaseHaveWorkedWith",
          "PlatformHaveWorkedWith",
          "LanguageHaveWorkedWith",
          "NEWCollabToolsHaveWorkedWith",
          "MiscTechHaveWorkedWith",
          "LanguageHaveWorkedWith",
          "DatabaseHaveWorkedWith",
          "LanguageHaveWorkedWith",
          "ToolsTechHaveWorkedWith",
          "ToolsTechHaveWorkedWith",
          "NEWCollabToolsHaveWorkedWith",
          "LanguageHaveWorkedWith",
          "MiscTechHaveWorkedWith",
          "LanguageHaveWorkedWith",
          "NEWCollabToolsHaveWorkedWith",
          "MiscTechHaveWorkedWith",
          "WebframeHaveWorkedWith",
          "DatabaseHaveWorkedWith",
          "NEWCollabToolsHaveWorkedWith",
          "LanguageHaveWorkedWith",
          "WebframeHaveWorkedWith",
          "NEWCollabToolsHaveWorkedWith",
          "LanguageHaveWorkedWith",
          "LanguageHaveWorkedWith",
          "DatabaseHaveWorkedWith",
          "LanguageHaveWorkedWith",
          "WebframeHaveWorkedWith",
          "NEWCollabToolsHaveWorkedWith",
          "WebframeHaveWorkedWith",
          "LanguageHaveWorkedWith",
          "WebframeHaveWorkedWith",
          "MiscTechHaveWorkedWith",
          "ToolsTechHaveWorkedWith",
          "NEWCollabToolsHaveWorkedWith",
          "MiscTechHaveWorkedWith",
          "LanguageHaveWorkedWith",
          "ToolsTechHaveWorkedWith",
          "ToolsTechHaveWorkedWith",
          "LanguageHaveWorkedWith",
          "NEWCollabToolsHaveWorkedWith",
          "NEWCollabToolsHaveWorkedWith",
          "NEWCollabToolsHaveWorkedWith",
          "WebframeHaveWorkedWith",
          "NEWCollabToolsHaveWorkedWith",
          "ToolsTechHaveWorkedWith",
          "NEWCollabToolsHaveWorkedWith",
          "ToolsTechHaveWorkedWith",
          "WebframeHaveWorkedWith",
          "",
          "",
          "",
          "",
          "",
          "",
          ""
         ],
         "type": "treemap",
         "values": [
          298350,
          263814,
          6494,
          167103.5,
          238764.5,
          556899,
          210606.5,
          255743.5,
          113386,
          126879,
          59191.5,
          42733.5,
          100131,
          348412.5,
          161895.5,
          382951.5,
          203047,
          6979,
          53110,
          22665,
          40300,
          54452.5,
          27642.5,
          10710.5,
          70643,
          31901.5,
          34312.5,
          154080.5,
          121331.5,
          698353.5,
          25526.5,
          114868.5,
          152300.5,
          220130,
          39613.5,
          76924,
          17387,
          203961.5,
          26316,
          47027.5,
          146915.5,
          134864.5,
          15379,
          97552.5,
          41716,
          1082499.5,
          187278.5,
          275511.5,
          46908.5,
          626356,
          43207,
          27786.5,
          144826,
          22548.5,
          26622,
          121625.5,
          342163.5,
          370286.5,
          774407,
          18671.5,
          58928,
          122956,
          324681,
          19642.5,
          89325.5,
          193886.5,
          29478,
          336753,
          349158,
          301711,
          460327.5,
          54206,
          59734,
          420124,
          350596.5,
          189563.5,
          34979.5,
          140947.5,
          18260.5,
          226965,
          88483,
          171742,
          38632.5,
          518283,
          145446,
          12640,
          29726.5,
          180835,
          516890.5,
          58030.5,
          54714,
          37286,
          112679,
          408459,
          312572.5,
          59522.5,
          102950.5,
          85712.5,
          22755.5,
          135004.5,
          622515,
          332568.5,
          48596,
          167551.5,
          204010.5,
          47220.5,
          74428,
          40825.5,
          122662.5,
          147064,
          12701.5,
          74534,
          458129,
          79517.5,
          37957.5,
          50844,
          317028,
          394374,
          841371,
          222642,
          100111,
          56994.5,
          144106.5,
          205417.5,
          300523.5,
          3198743,
          6543374,
          1604707,
          3870872,
          1508879,
          2874087,
          2711685
         ]
        }
       ],
       "layout": {
        "coloraxis": {
         "colorbar": {
          "title": {
           "text": "freq"
          }
         },
         "colorscale": [
          [
           0,
           "rgb(247,251,255)"
          ],
          [
           0.125,
           "rgb(222,235,247)"
          ],
          [
           0.25,
           "rgb(198,219,239)"
          ],
          [
           0.375,
           "rgb(158,202,225)"
          ],
          [
           0.5,
           "rgb(107,174,214)"
          ],
          [
           0.625,
           "rgb(66,146,198)"
          ],
          [
           0.75,
           "rgb(33,113,181)"
          ],
          [
           0.875,
           "rgb(8,81,156)"
          ],
          [
           1,
           "rgb(8,48,107)"
          ]
         ]
        },
        "height": 750,
        "legend": {
         "tracegroupgap": 0
        },
        "margin": {
         "t": 60
        },
        "template": {
         "data": {
          "bar": [
           {
            "error_x": {
             "color": "#2a3f5f"
            },
            "error_y": {
             "color": "#2a3f5f"
            },
            "marker": {
             "line": {
              "color": "#E5ECF6",
              "width": 0.5
             },
             "pattern": {
              "fillmode": "overlay",
              "size": 10,
              "solidity": 0.2
             }
            },
            "type": "bar"
           }
          ],
          "barpolar": [
           {
            "marker": {
             "line": {
              "color": "#E5ECF6",
              "width": 0.5
             },
             "pattern": {
              "fillmode": "overlay",
              "size": 10,
              "solidity": 0.2
             }
            },
            "type": "barpolar"
           }
          ],
          "carpet": [
           {
            "aaxis": {
             "endlinecolor": "#2a3f5f",
             "gridcolor": "white",
             "linecolor": "white",
             "minorgridcolor": "white",
             "startlinecolor": "#2a3f5f"
            },
            "baxis": {
             "endlinecolor": "#2a3f5f",
             "gridcolor": "white",
             "linecolor": "white",
             "minorgridcolor": "white",
             "startlinecolor": "#2a3f5f"
            },
            "type": "carpet"
           }
          ],
          "choropleth": [
           {
            "colorbar": {
             "outlinewidth": 0,
             "ticks": ""
            },
            "type": "choropleth"
           }
          ],
          "contour": [
           {
            "colorbar": {
             "outlinewidth": 0,
             "ticks": ""
            },
            "colorscale": [
             [
              0,
              "#0d0887"
             ],
             [
              0.1111111111111111,
              "#46039f"
             ],
             [
              0.2222222222222222,
              "#7201a8"
             ],
             [
              0.3333333333333333,
              "#9c179e"
             ],
             [
              0.4444444444444444,
              "#bd3786"
             ],
             [
              0.5555555555555556,
              "#d8576b"
             ],
             [
              0.6666666666666666,
              "#ed7953"
             ],
             [
              0.7777777777777778,
              "#fb9f3a"
             ],
             [
              0.8888888888888888,
              "#fdca26"
             ],
             [
              1,
              "#f0f921"
             ]
            ],
            "type": "contour"
           }
          ],
          "contourcarpet": [
           {
            "colorbar": {
             "outlinewidth": 0,
             "ticks": ""
            },
            "type": "contourcarpet"
           }
          ],
          "heatmap": [
           {
            "colorbar": {
             "outlinewidth": 0,
             "ticks": ""
            },
            "colorscale": [
             [
              0,
              "#0d0887"
             ],
             [
              0.1111111111111111,
              "#46039f"
             ],
             [
              0.2222222222222222,
              "#7201a8"
             ],
             [
              0.3333333333333333,
              "#9c179e"
             ],
             [
              0.4444444444444444,
              "#bd3786"
             ],
             [
              0.5555555555555556,
              "#d8576b"
             ],
             [
              0.6666666666666666,
              "#ed7953"
             ],
             [
              0.7777777777777778,
              "#fb9f3a"
             ],
             [
              0.8888888888888888,
              "#fdca26"
             ],
             [
              1,
              "#f0f921"
             ]
            ],
            "type": "heatmap"
           }
          ],
          "heatmapgl": [
           {
            "colorbar": {
             "outlinewidth": 0,
             "ticks": ""
            },
            "colorscale": [
             [
              0,
              "#0d0887"
             ],
             [
              0.1111111111111111,
              "#46039f"
             ],
             [
              0.2222222222222222,
              "#7201a8"
             ],
             [
              0.3333333333333333,
              "#9c179e"
             ],
             [
              0.4444444444444444,
              "#bd3786"
             ],
             [
              0.5555555555555556,
              "#d8576b"
             ],
             [
              0.6666666666666666,
              "#ed7953"
             ],
             [
              0.7777777777777778,
              "#fb9f3a"
             ],
             [
              0.8888888888888888,
              "#fdca26"
             ],
             [
              1,
              "#f0f921"
             ]
            ],
            "type": "heatmapgl"
           }
          ],
          "histogram": [
           {
            "marker": {
             "pattern": {
              "fillmode": "overlay",
              "size": 10,
              "solidity": 0.2
             }
            },
            "type": "histogram"
           }
          ],
          "histogram2d": [
           {
            "colorbar": {
             "outlinewidth": 0,
             "ticks": ""
            },
            "colorscale": [
             [
              0,
              "#0d0887"
             ],
             [
              0.1111111111111111,
              "#46039f"
             ],
             [
              0.2222222222222222,
              "#7201a8"
             ],
             [
              0.3333333333333333,
              "#9c179e"
             ],
             [
              0.4444444444444444,
              "#bd3786"
             ],
             [
              0.5555555555555556,
              "#d8576b"
             ],
             [
              0.6666666666666666,
              "#ed7953"
             ],
             [
              0.7777777777777778,
              "#fb9f3a"
             ],
             [
              0.8888888888888888,
              "#fdca26"
             ],
             [
              1,
              "#f0f921"
             ]
            ],
            "type": "histogram2d"
           }
          ],
          "histogram2dcontour": [
           {
            "colorbar": {
             "outlinewidth": 0,
             "ticks": ""
            },
            "colorscale": [
             [
              0,
              "#0d0887"
             ],
             [
              0.1111111111111111,
              "#46039f"
             ],
             [
              0.2222222222222222,
              "#7201a8"
             ],
             [
              0.3333333333333333,
              "#9c179e"
             ],
             [
              0.4444444444444444,
              "#bd3786"
             ],
             [
              0.5555555555555556,
              "#d8576b"
             ],
             [
              0.6666666666666666,
              "#ed7953"
             ],
             [
              0.7777777777777778,
              "#fb9f3a"
             ],
             [
              0.8888888888888888,
              "#fdca26"
             ],
             [
              1,
              "#f0f921"
             ]
            ],
            "type": "histogram2dcontour"
           }
          ],
          "mesh3d": [
           {
            "colorbar": {
             "outlinewidth": 0,
             "ticks": ""
            },
            "type": "mesh3d"
           }
          ],
          "parcoords": [
           {
            "line": {
             "colorbar": {
              "outlinewidth": 0,
              "ticks": ""
             }
            },
            "type": "parcoords"
           }
          ],
          "pie": [
           {
            "automargin": true,
            "type": "pie"
           }
          ],
          "scatter": [
           {
            "marker": {
             "colorbar": {
              "outlinewidth": 0,
              "ticks": ""
             }
            },
            "type": "scatter"
           }
          ],
          "scatter3d": [
           {
            "line": {
             "colorbar": {
              "outlinewidth": 0,
              "ticks": ""
             }
            },
            "marker": {
             "colorbar": {
              "outlinewidth": 0,
              "ticks": ""
             }
            },
            "type": "scatter3d"
           }
          ],
          "scattercarpet": [
           {
            "marker": {
             "colorbar": {
              "outlinewidth": 0,
              "ticks": ""
             }
            },
            "type": "scattercarpet"
           }
          ],
          "scattergeo": [
           {
            "marker": {
             "colorbar": {
              "outlinewidth": 0,
              "ticks": ""
             }
            },
            "type": "scattergeo"
           }
          ],
          "scattergl": [
           {
            "marker": {
             "colorbar": {
              "outlinewidth": 0,
              "ticks": ""
             }
            },
            "type": "scattergl"
           }
          ],
          "scattermapbox": [
           {
            "marker": {
             "colorbar": {
              "outlinewidth": 0,
              "ticks": ""
             }
            },
            "type": "scattermapbox"
           }
          ],
          "scatterpolar": [
           {
            "marker": {
             "colorbar": {
              "outlinewidth": 0,
              "ticks": ""
             }
            },
            "type": "scatterpolar"
           }
          ],
          "scatterpolargl": [
           {
            "marker": {
             "colorbar": {
              "outlinewidth": 0,
              "ticks": ""
             }
            },
            "type": "scatterpolargl"
           }
          ],
          "scatterternary": [
           {
            "marker": {
             "colorbar": {
              "outlinewidth": 0,
              "ticks": ""
             }
            },
            "type": "scatterternary"
           }
          ],
          "surface": [
           {
            "colorbar": {
             "outlinewidth": 0,
             "ticks": ""
            },
            "colorscale": [
             [
              0,
              "#0d0887"
             ],
             [
              0.1111111111111111,
              "#46039f"
             ],
             [
              0.2222222222222222,
              "#7201a8"
             ],
             [
              0.3333333333333333,
              "#9c179e"
             ],
             [
              0.4444444444444444,
              "#bd3786"
             ],
             [
              0.5555555555555556,
              "#d8576b"
             ],
             [
              0.6666666666666666,
              "#ed7953"
             ],
             [
              0.7777777777777778,
              "#fb9f3a"
             ],
             [
              0.8888888888888888,
              "#fdca26"
             ],
             [
              1,
              "#f0f921"
             ]
            ],
            "type": "surface"
           }
          ],
          "table": [
           {
            "cells": {
             "fill": {
              "color": "#EBF0F8"
             },
             "line": {
              "color": "white"
             }
            },
            "header": {
             "fill": {
              "color": "#C8D4E3"
             },
             "line": {
              "color": "white"
             }
            },
            "type": "table"
           }
          ]
         },
         "layout": {
          "annotationdefaults": {
           "arrowcolor": "#2a3f5f",
           "arrowhead": 0,
           "arrowwidth": 1
          },
          "autotypenumbers": "strict",
          "coloraxis": {
           "colorbar": {
            "outlinewidth": 0,
            "ticks": ""
           }
          },
          "colorscale": {
           "diverging": [
            [
             0,
             "#8e0152"
            ],
            [
             0.1,
             "#c51b7d"
            ],
            [
             0.2,
             "#de77ae"
            ],
            [
             0.3,
             "#f1b6da"
            ],
            [
             0.4,
             "#fde0ef"
            ],
            [
             0.5,
             "#f7f7f7"
            ],
            [
             0.6,
             "#e6f5d0"
            ],
            [
             0.7,
             "#b8e186"
            ],
            [
             0.8,
             "#7fbc41"
            ],
            [
             0.9,
             "#4d9221"
            ],
            [
             1,
             "#276419"
            ]
           ],
           "sequential": [
            [
             0,
             "#0d0887"
            ],
            [
             0.1111111111111111,
             "#46039f"
            ],
            [
             0.2222222222222222,
             "#7201a8"
            ],
            [
             0.3333333333333333,
             "#9c179e"
            ],
            [
             0.4444444444444444,
             "#bd3786"
            ],
            [
             0.5555555555555556,
             "#d8576b"
            ],
            [
             0.6666666666666666,
             "#ed7953"
            ],
            [
             0.7777777777777778,
             "#fb9f3a"
            ],
            [
             0.8888888888888888,
             "#fdca26"
            ],
            [
             1,
             "#f0f921"
            ]
           ],
           "sequentialminus": [
            [
             0,
             "#0d0887"
            ],
            [
             0.1111111111111111,
             "#46039f"
            ],
            [
             0.2222222222222222,
             "#7201a8"
            ],
            [
             0.3333333333333333,
             "#9c179e"
            ],
            [
             0.4444444444444444,
             "#bd3786"
            ],
            [
             0.5555555555555556,
             "#d8576b"
            ],
            [
             0.6666666666666666,
             "#ed7953"
            ],
            [
             0.7777777777777778,
             "#fb9f3a"
            ],
            [
             0.8888888888888888,
             "#fdca26"
            ],
            [
             1,
             "#f0f921"
            ]
           ]
          },
          "colorway": [
           "#636efa",
           "#EF553B",
           "#00cc96",
           "#ab63fa",
           "#FFA15A",
           "#19d3f3",
           "#FF6692",
           "#B6E880",
           "#FF97FF",
           "#FECB52"
          ],
          "font": {
           "color": "#2a3f5f"
          },
          "geo": {
           "bgcolor": "white",
           "lakecolor": "white",
           "landcolor": "#E5ECF6",
           "showlakes": true,
           "showland": true,
           "subunitcolor": "white"
          },
          "hoverlabel": {
           "align": "left"
          },
          "hovermode": "closest",
          "mapbox": {
           "style": "light"
          },
          "paper_bgcolor": "white",
          "plot_bgcolor": "#E5ECF6",
          "polar": {
           "angularaxis": {
            "gridcolor": "white",
            "linecolor": "white",
            "ticks": ""
           },
           "bgcolor": "#E5ECF6",
           "radialaxis": {
            "gridcolor": "white",
            "linecolor": "white",
            "ticks": ""
           }
          },
          "scene": {
           "xaxis": {
            "backgroundcolor": "#E5ECF6",
            "gridcolor": "white",
            "gridwidth": 2,
            "linecolor": "white",
            "showbackground": true,
            "ticks": "",
            "zerolinecolor": "white"
           },
           "yaxis": {
            "backgroundcolor": "#E5ECF6",
            "gridcolor": "white",
            "gridwidth": 2,
            "linecolor": "white",
            "showbackground": true,
            "ticks": "",
            "zerolinecolor": "white"
           },
           "zaxis": {
            "backgroundcolor": "#E5ECF6",
            "gridcolor": "white",
            "gridwidth": 2,
            "linecolor": "white",
            "showbackground": true,
            "ticks": "",
            "zerolinecolor": "white"
           }
          },
          "shapedefaults": {
           "line": {
            "color": "#2a3f5f"
           }
          },
          "ternary": {
           "aaxis": {
            "gridcolor": "white",
            "linecolor": "white",
            "ticks": ""
           },
           "baxis": {
            "gridcolor": "white",
            "linecolor": "white",
            "ticks": ""
           },
           "bgcolor": "#E5ECF6",
           "caxis": {
            "gridcolor": "white",
            "linecolor": "white",
            "ticks": ""
           }
          },
          "title": {
           "x": 0.05
          },
          "xaxis": {
           "automargin": true,
           "gridcolor": "white",
           "linecolor": "white",
           "ticks": "",
           "title": {
            "standoff": 15
           },
           "zerolinecolor": "white",
           "zerolinewidth": 2
          },
          "yaxis": {
           "automargin": true,
           "gridcolor": "white",
           "linecolor": "white",
           "ticks": "",
           "title": {
            "standoff": 15
           },
           "zerolinecolor": "white",
           "zerolinewidth": 2
          }
         }
        },
        "width": 1500
       }
      },
      "text/html": [
       "<div>                            <div id=\"b44b96f2-6cde-4c88-8414-c3642b5abc94\" class=\"plotly-graph-div\" style=\"height:750px; width:1500px;\"></div>            <script type=\"text/javascript\">                require([\"plotly\"], function(Plotly) {                    window.PLOTLYENV=window.PLOTLYENV || {};                                    if (document.getElementById(\"b44b96f2-6cde-4c88-8414-c3642b5abc94\")) {                    Plotly.newPlot(                        \"b44b96f2-6cde-4c88-8414-c3642b5abc94\",                        [{\"branchvalues\":\"total\",\"customdata\":[[298350.0],[263814.0],[6494.0],[167103.5],[238764.5],[556899.0],[210606.5],[255743.5],[113386.0],[126879.0],[59191.5],[42733.5],[100131.0],[348412.5],[161895.5],[382951.5],[203047.0],[6979.0],[53110.0],[22665.0],[40300.0],[54452.5],[27642.5],[10710.5],[70643.0],[31901.5],[34312.5],[154080.5],[121331.5],[698353.5],[25526.5],[114868.5],[152300.5],[220130.0],[39613.5],[76924.0],[17387.0],[203961.5],[26316.0],[47027.5],[146915.5],[134864.5],[15379.0],[97552.5],[41716.0],[1082499.5],[187278.5],[275511.5],[46908.5],[626356.0],[43207.0],[27786.5],[144826.0],[22548.5],[26622.0],[121625.5],[342163.5],[370286.5],[774407.0],[18671.5],[58928.0],[122956.0],[324681.0],[19642.5],[89325.5],[193886.5],[29478.0],[336753.0],[349158.0],[301711.0],[460327.5],[54206.0],[59734.0],[420124.0],[350596.5],[189563.5],[34979.5],[140947.5],[18260.5],[226965.0],[88483.0],[171742.0],[38632.5],[518283.0],[145446.0],[12640.0],[29726.5],[180835.0],[516890.5],[58030.5],[54714.0],[37286.0],[112679.0],[408459.0],[312572.5],[59522.5],[102950.5],[85712.5],[22755.5],[135004.5],[622515.0],[332568.5],[48596.0],[167551.5],[204010.5],[47220.5],[74428.0],[40825.5],[122662.5],[147064.0],[12701.5],[74534.0],[458129.0],[79517.5],[37957.5],[50844.0],[317028.0],[394374.0],[841371.0],[222642.0],[100111.0],[56994.5],[144106.5],[205417.5],[300523.5],[327238.1443398235],[411162.8740891931],[175751.85933849605],[368723.59156786895],[361197.2313956255],[646753.614568383],[219909.36632997563]],\"domain\":{\"x\":[0.0,1.0],\"y\":[0.0,1.0]},\"hovertemplate\":\"labels=%{label}<br>freq_sum=%{value}<br>parent=%{parent}<br>id=%{id}<br>freq=%{color}<extra></extra>\",\"ids\":[\"MiscTechHaveWorkedWith/.NET Core / .NET 5\",\"MiscTechHaveWorkedWith/.NET Framework\",\"LanguageHaveWorkedWith/APL\",\"WebframeHaveWorkedWith/ASP.NET\",\"WebframeHaveWorkedWith/ASP.NET Core \",\"PlatformHaveWorkedWith/AWS\",\"NEWCollabToolsHaveWorkedWith/Android Studio\",\"WebframeHaveWorkedWith/Angular\",\"WebframeHaveWorkedWith/Angular.js\",\"ToolsTechHaveWorkedWith/Ansible\",\"MiscTechHaveWorkedWith/Apache Spark\",\"LanguageHaveWorkedWith/Assembly\",\"NEWCollabToolsHaveWorkedWith/Atom\",\"LanguageHaveWorkedWith/Bash/Shell\",\"LanguageHaveWorkedWith/C\",\"LanguageHaveWorkedWith/C#\",\"LanguageHaveWorkedWith/C++\",\"LanguageHaveWorkedWith/COBOL\",\"DatabaseHaveWorkedWith/Cassandra\",\"ToolsTechHaveWorkedWith/Chef\",\"LanguageHaveWorkedWith/Clojure\",\"MiscTechHaveWorkedWith/Cordova\",\"DatabaseHaveWorkedWith/Couchbase\",\"LanguageHaveWorkedWith/Crystal\",\"LanguageHaveWorkedWith/Dart\",\"LanguageHaveWorkedWith/Delphi\",\"ToolsTechHaveWorkedWith/Deno\",\"PlatformHaveWorkedWith/DigitalOcean\",\"WebframeHaveWorkedWith/Django\",\"ToolsTechHaveWorkedWith/Docker\",\"WebframeHaveWorkedWith/Drupal\",\"DatabaseHaveWorkedWith/DynamoDB\",\"NEWCollabToolsHaveWorkedWith/Eclipse\",\"DatabaseHaveWorkedWith/Elasticsearch\",\"LanguageHaveWorkedWith/Elixir\",\"NEWCollabToolsHaveWorkedWith/Emacs\",\"LanguageHaveWorkedWith/Erlang\",\"WebframeHaveWorkedWith/Express\",\"LanguageHaveWorkedWith/F#\",\"WebframeHaveWorkedWith/FastAPI\",\"DatabaseHaveWorkedWith/Firebase\",\"WebframeHaveWorkedWith/Flask\",\"ToolsTechHaveWorkedWith/Flow\",\"MiscTechHaveWorkedWith/Flutter\",\"WebframeHaveWorkedWith/Gatsby\",\"ToolsTechHaveWorkedWith/Git\",\"LanguageHaveWorkedWith/Go\",\"PlatformHaveWorkedWith/Google Cloud Platform\",\"LanguageHaveWorkedWith/Groovy\",\"LanguageHaveWorkedWith/HTML/CSS\",\"MiscTechHaveWorkedWith/Hadoop\",\"LanguageHaveWorkedWith/Haskell\",\"PlatformHaveWorkedWith/Heroku\",\"PlatformHaveWorkedWith/IBM Cloud or Watson\",\"DatabaseHaveWorkedWith/IBM DB2\",\"NEWCollabToolsHaveWorkedWith/IPython/Jupyter\",\"NEWCollabToolsHaveWorkedWith/IntelliJ\",\"LanguageHaveWorkedWith/Java\",\"LanguageHaveWorkedWith/JavaScript\",\"LanguageHaveWorkedWith/Julia\",\"MiscTechHaveWorkedWith/Keras\",\"LanguageHaveWorkedWith/Kotlin\",\"ToolsTechHaveWorkedWith/Kubernetes\",\"LanguageHaveWorkedWith/LISP\",\"WebframeHaveWorkedWith/Laravel\",\"DatabaseHaveWorkedWith/MariaDB\",\"LanguageHaveWorkedWith/Matlab\",\"PlatformHaveWorkedWith/Microsoft Azure\",\"DatabaseHaveWorkedWith/Microsoft SQL Server\",\"DatabaseHaveWorkedWith/MongoDB\",\"DatabaseHaveWorkedWith/MySQL\",\"NEWCollabToolsHaveWorkedWith/Neovim\",\"NEWCollabToolsHaveWorkedWith/NetBeans\",\"LanguageHaveWorkedWith/Node.js\",\"NEWCollabToolsHaveWorkedWith/Notepad++\",\"MiscTechHaveWorkedWith/NumPy\",\"LanguageHaveWorkedWith/Objective-C\",\"DatabaseHaveWorkedWith/Oracle\",\"PlatformHaveWorkedWith/Oracle Cloud Infrastructure\",\"LanguageHaveWorkedWith/PHP\",\"NEWCollabToolsHaveWorkedWith/PHPStorm\",\"MiscTechHaveWorkedWith/Pandas\",\"LanguageHaveWorkedWith/Perl\",\"DatabaseHaveWorkedWith/PostgreSQL\",\"LanguageHaveWorkedWith/PowerShell\",\"ToolsTechHaveWorkedWith/Pulumi\",\"ToolsTechHaveWorkedWith/Puppet\",\"NEWCollabToolsHaveWorkedWith/PyCharm\",\"LanguageHaveWorkedWith/Python\",\"MiscTechHaveWorkedWith/Qt\",\"LanguageHaveWorkedWith/R\",\"NEWCollabToolsHaveWorkedWith/RStudio\",\"MiscTechHaveWorkedWith/React Native\",\"WebframeHaveWorkedWith/React.js\",\"DatabaseHaveWorkedWith/Redis\",\"NEWCollabToolsHaveWorkedWith/Rider\",\"LanguageHaveWorkedWith/Ruby\",\"WebframeHaveWorkedWith/Ruby on Rails\",\"NEWCollabToolsHaveWorkedWith/RubyMine\",\"LanguageHaveWorkedWith/Rust\",\"LanguageHaveWorkedWith/SQL\",\"DatabaseHaveWorkedWith/SQLite\",\"LanguageHaveWorkedWith/Scala\",\"WebframeHaveWorkedWith/Spring\",\"NEWCollabToolsHaveWorkedWith/Sublime Text\",\"WebframeHaveWorkedWith/Svelte\",\"LanguageHaveWorkedWith/Swift\",\"WebframeHaveWorkedWith/Symfony\",\"MiscTechHaveWorkedWith/TensorFlow\",\"ToolsTechHaveWorkedWith/Terraform\",\"NEWCollabToolsHaveWorkedWith/TextMate\",\"MiscTechHaveWorkedWith/Torch/PyTorch\",\"LanguageHaveWorkedWith/TypeScript\",\"ToolsTechHaveWorkedWith/Unity 3D\",\"ToolsTechHaveWorkedWith/Unreal Engine\",\"LanguageHaveWorkedWith/VBA\",\"NEWCollabToolsHaveWorkedWith/Vim\",\"NEWCollabToolsHaveWorkedWith/Visual Studio\",\"NEWCollabToolsHaveWorkedWith/Visual Studio Code\",\"WebframeHaveWorkedWith/Vue.js\",\"NEWCollabToolsHaveWorkedWith/Webstorm\",\"ToolsTechHaveWorkedWith/Xamarin\",\"NEWCollabToolsHaveWorkedWith/Xcode\",\"ToolsTechHaveWorkedWith/Yarn\",\"WebframeHaveWorkedWith/jQuery\",\"DatabaseHaveWorkedWith\",\"LanguageHaveWorkedWith\",\"MiscTechHaveWorkedWith\",\"NEWCollabToolsHaveWorkedWith\",\"PlatformHaveWorkedWith\",\"ToolsTechHaveWorkedWith\",\"WebframeHaveWorkedWith\"],\"labels\":[\".NET Core / .NET 5\",\".NET Framework\",\"APL\",\"ASP.NET\",\"ASP.NET Core \",\"AWS\",\"Android Studio\",\"Angular\",\"Angular.js\",\"Ansible\",\"Apache Spark\",\"Assembly\",\"Atom\",\"Bash/Shell\",\"C\",\"C#\",\"C++\",\"COBOL\",\"Cassandra\",\"Chef\",\"Clojure\",\"Cordova\",\"Couchbase\",\"Crystal\",\"Dart\",\"Delphi\",\"Deno\",\"DigitalOcean\",\"Django\",\"Docker\",\"Drupal\",\"DynamoDB\",\"Eclipse\",\"Elasticsearch\",\"Elixir\",\"Emacs\",\"Erlang\",\"Express\",\"F#\",\"FastAPI\",\"Firebase\",\"Flask\",\"Flow\",\"Flutter\",\"Gatsby\",\"Git\",\"Go\",\"Google Cloud Platform\",\"Groovy\",\"HTML/CSS\",\"Hadoop\",\"Haskell\",\"Heroku\",\"IBM Cloud or Watson\",\"IBM DB2\",\"IPython/Jupyter\",\"IntelliJ\",\"Java\",\"JavaScript\",\"Julia\",\"Keras\",\"Kotlin\",\"Kubernetes\",\"LISP\",\"Laravel\",\"MariaDB\",\"Matlab\",\"Microsoft Azure\",\"Microsoft SQL Server\",\"MongoDB\",\"MySQL\",\"Neovim\",\"NetBeans\",\"Node.js\",\"Notepad++\",\"NumPy\",\"Objective-C\",\"Oracle\",\"Oracle Cloud Infrastructure\",\"PHP\",\"PHPStorm\",\"Pandas\",\"Perl\",\"PostgreSQL\",\"PowerShell\",\"Pulumi\",\"Puppet\",\"PyCharm\",\"Python\",\"Qt\",\"R\",\"RStudio\",\"React Native\",\"React.js\",\"Redis\",\"Rider\",\"Ruby\",\"Ruby on Rails\",\"RubyMine\",\"Rust\",\"SQL\",\"SQLite\",\"Scala\",\"Spring\",\"Sublime Text\",\"Svelte\",\"Swift\",\"Symfony\",\"TensorFlow\",\"Terraform\",\"TextMate\",\"Torch/PyTorch\",\"TypeScript\",\"Unity 3D\",\"Unreal Engine\",\"VBA\",\"Vim\",\"Visual Studio\",\"Visual Studio Code\",\"Vue.js\",\"Webstorm\",\"Xamarin\",\"Xcode\",\"Yarn\",\"jQuery\",\"DatabaseHaveWorkedWith\",\"LanguageHaveWorkedWith\",\"MiscTechHaveWorkedWith\",\"NEWCollabToolsHaveWorkedWith\",\"PlatformHaveWorkedWith\",\"ToolsTechHaveWorkedWith\",\"WebframeHaveWorkedWith\"],\"marker\":{\"coloraxis\":\"coloraxis\",\"colors\":[298350.0,263814.0,6494.0,167103.5,238764.5,556899.0,210606.5,255743.5,113386.0,126879.0,59191.5,42733.5,100131.0,348412.5,161895.5,382951.5,203047.0,6979.0,53110.0,22665.0,40300.0,54452.5,27642.5,10710.5,70643.0,31901.5,34312.5,154080.5,121331.5,698353.5,25526.5,114868.5,152300.5,220130.0,39613.5,76924.0,17387.0,203961.5,26316.0,47027.5,146915.5,134864.5,15379.0,97552.5,41716.0,1082499.5,187278.5,275511.5,46908.5,626356.0,43207.0,27786.5,144826.0,22548.5,26622.0,121625.5,342163.5,370286.5,774407.0,18671.5,58928.0,122956.0,324681.0,19642.5,89325.5,193886.5,29478.0,336753.0,349158.0,301711.0,460327.5,54206.0,59734.0,420124.0,350596.5,189563.5,34979.5,140947.5,18260.5,226965.0,88483.0,171742.0,38632.5,518283.0,145446.0,12640.0,29726.5,180835.0,516890.5,58030.5,54714.0,37286.0,112679.0,408459.0,312572.5,59522.5,102950.5,85712.5,22755.5,135004.5,622515.0,332568.5,48596.0,167551.5,204010.5,47220.5,74428.0,40825.5,122662.5,147064.0,12701.5,74534.0,458129.0,79517.5,37957.5,50844.0,317028.0,394374.0,841371.0,222642.0,100111.0,56994.5,144106.5,205417.5,300523.5,327238.1443398235,411162.8740891931,175751.85933849605,368723.59156786895,361197.2313956255,646753.614568383,219909.36632997563]},\"name\":\"\",\"parents\":[\"MiscTechHaveWorkedWith\",\"MiscTechHaveWorkedWith\",\"LanguageHaveWorkedWith\",\"WebframeHaveWorkedWith\",\"WebframeHaveWorkedWith\",\"PlatformHaveWorkedWith\",\"NEWCollabToolsHaveWorkedWith\",\"WebframeHaveWorkedWith\",\"WebframeHaveWorkedWith\",\"ToolsTechHaveWorkedWith\",\"MiscTechHaveWorkedWith\",\"LanguageHaveWorkedWith\",\"NEWCollabToolsHaveWorkedWith\",\"LanguageHaveWorkedWith\",\"LanguageHaveWorkedWith\",\"LanguageHaveWorkedWith\",\"LanguageHaveWorkedWith\",\"LanguageHaveWorkedWith\",\"DatabaseHaveWorkedWith\",\"ToolsTechHaveWorkedWith\",\"LanguageHaveWorkedWith\",\"MiscTechHaveWorkedWith\",\"DatabaseHaveWorkedWith\",\"LanguageHaveWorkedWith\",\"LanguageHaveWorkedWith\",\"LanguageHaveWorkedWith\",\"ToolsTechHaveWorkedWith\",\"PlatformHaveWorkedWith\",\"WebframeHaveWorkedWith\",\"ToolsTechHaveWorkedWith\",\"WebframeHaveWorkedWith\",\"DatabaseHaveWorkedWith\",\"NEWCollabToolsHaveWorkedWith\",\"DatabaseHaveWorkedWith\",\"LanguageHaveWorkedWith\",\"NEWCollabToolsHaveWorkedWith\",\"LanguageHaveWorkedWith\",\"WebframeHaveWorkedWith\",\"LanguageHaveWorkedWith\",\"WebframeHaveWorkedWith\",\"DatabaseHaveWorkedWith\",\"WebframeHaveWorkedWith\",\"ToolsTechHaveWorkedWith\",\"MiscTechHaveWorkedWith\",\"WebframeHaveWorkedWith\",\"ToolsTechHaveWorkedWith\",\"LanguageHaveWorkedWith\",\"PlatformHaveWorkedWith\",\"LanguageHaveWorkedWith\",\"LanguageHaveWorkedWith\",\"MiscTechHaveWorkedWith\",\"LanguageHaveWorkedWith\",\"PlatformHaveWorkedWith\",\"PlatformHaveWorkedWith\",\"DatabaseHaveWorkedWith\",\"NEWCollabToolsHaveWorkedWith\",\"NEWCollabToolsHaveWorkedWith\",\"LanguageHaveWorkedWith\",\"LanguageHaveWorkedWith\",\"LanguageHaveWorkedWith\",\"MiscTechHaveWorkedWith\",\"LanguageHaveWorkedWith\",\"ToolsTechHaveWorkedWith\",\"LanguageHaveWorkedWith\",\"WebframeHaveWorkedWith\",\"DatabaseHaveWorkedWith\",\"LanguageHaveWorkedWith\",\"PlatformHaveWorkedWith\",\"DatabaseHaveWorkedWith\",\"DatabaseHaveWorkedWith\",\"DatabaseHaveWorkedWith\",\"NEWCollabToolsHaveWorkedWith\",\"NEWCollabToolsHaveWorkedWith\",\"LanguageHaveWorkedWith\",\"NEWCollabToolsHaveWorkedWith\",\"MiscTechHaveWorkedWith\",\"LanguageHaveWorkedWith\",\"DatabaseHaveWorkedWith\",\"PlatformHaveWorkedWith\",\"LanguageHaveWorkedWith\",\"NEWCollabToolsHaveWorkedWith\",\"MiscTechHaveWorkedWith\",\"LanguageHaveWorkedWith\",\"DatabaseHaveWorkedWith\",\"LanguageHaveWorkedWith\",\"ToolsTechHaveWorkedWith\",\"ToolsTechHaveWorkedWith\",\"NEWCollabToolsHaveWorkedWith\",\"LanguageHaveWorkedWith\",\"MiscTechHaveWorkedWith\",\"LanguageHaveWorkedWith\",\"NEWCollabToolsHaveWorkedWith\",\"MiscTechHaveWorkedWith\",\"WebframeHaveWorkedWith\",\"DatabaseHaveWorkedWith\",\"NEWCollabToolsHaveWorkedWith\",\"LanguageHaveWorkedWith\",\"WebframeHaveWorkedWith\",\"NEWCollabToolsHaveWorkedWith\",\"LanguageHaveWorkedWith\",\"LanguageHaveWorkedWith\",\"DatabaseHaveWorkedWith\",\"LanguageHaveWorkedWith\",\"WebframeHaveWorkedWith\",\"NEWCollabToolsHaveWorkedWith\",\"WebframeHaveWorkedWith\",\"LanguageHaveWorkedWith\",\"WebframeHaveWorkedWith\",\"MiscTechHaveWorkedWith\",\"ToolsTechHaveWorkedWith\",\"NEWCollabToolsHaveWorkedWith\",\"MiscTechHaveWorkedWith\",\"LanguageHaveWorkedWith\",\"ToolsTechHaveWorkedWith\",\"ToolsTechHaveWorkedWith\",\"LanguageHaveWorkedWith\",\"NEWCollabToolsHaveWorkedWith\",\"NEWCollabToolsHaveWorkedWith\",\"NEWCollabToolsHaveWorkedWith\",\"WebframeHaveWorkedWith\",\"NEWCollabToolsHaveWorkedWith\",\"ToolsTechHaveWorkedWith\",\"NEWCollabToolsHaveWorkedWith\",\"ToolsTechHaveWorkedWith\",\"WebframeHaveWorkedWith\",\"\",\"\",\"\",\"\",\"\",\"\",\"\"],\"values\":[298350.0,263814.0,6494.0,167103.5,238764.5,556899.0,210606.5,255743.5,113386.0,126879.0,59191.5,42733.5,100131.0,348412.5,161895.5,382951.5,203047.0,6979.0,53110.0,22665.0,40300.0,54452.5,27642.5,10710.5,70643.0,31901.5,34312.5,154080.5,121331.5,698353.5,25526.5,114868.5,152300.5,220130.0,39613.5,76924.0,17387.0,203961.5,26316.0,47027.5,146915.5,134864.5,15379.0,97552.5,41716.0,1082499.5,187278.5,275511.5,46908.5,626356.0,43207.0,27786.5,144826.0,22548.5,26622.0,121625.5,342163.5,370286.5,774407.0,18671.5,58928.0,122956.0,324681.0,19642.5,89325.5,193886.5,29478.0,336753.0,349158.0,301711.0,460327.5,54206.0,59734.0,420124.0,350596.5,189563.5,34979.5,140947.5,18260.5,226965.0,88483.0,171742.0,38632.5,518283.0,145446.0,12640.0,29726.5,180835.0,516890.5,58030.5,54714.0,37286.0,112679.0,408459.0,312572.5,59522.5,102950.5,85712.5,22755.5,135004.5,622515.0,332568.5,48596.0,167551.5,204010.5,47220.5,74428.0,40825.5,122662.5,147064.0,12701.5,74534.0,458129.0,79517.5,37957.5,50844.0,317028.0,394374.0,841371.0,222642.0,100111.0,56994.5,144106.5,205417.5,300523.5,3198743.0,6543374.0,1604707.0,3870872.0,1508879.0,2874087.0,2711685.0],\"type\":\"treemap\"}],                        {\"template\":{\"data\":{\"bar\":[{\"error_x\":{\"color\":\"#2a3f5f\"},\"error_y\":{\"color\":\"#2a3f5f\"},\"marker\":{\"line\":{\"color\":\"#E5ECF6\",\"width\":0.5},\"pattern\":{\"fillmode\":\"overlay\",\"size\":10,\"solidity\":0.2}},\"type\":\"bar\"}],\"barpolar\":[{\"marker\":{\"line\":{\"color\":\"#E5ECF6\",\"width\":0.5},\"pattern\":{\"fillmode\":\"overlay\",\"size\":10,\"solidity\":0.2}},\"type\":\"barpolar\"}],\"carpet\":[{\"aaxis\":{\"endlinecolor\":\"#2a3f5f\",\"gridcolor\":\"white\",\"linecolor\":\"white\",\"minorgridcolor\":\"white\",\"startlinecolor\":\"#2a3f5f\"},\"baxis\":{\"endlinecolor\":\"#2a3f5f\",\"gridcolor\":\"white\",\"linecolor\":\"white\",\"minorgridcolor\":\"white\",\"startlinecolor\":\"#2a3f5f\"},\"type\":\"carpet\"}],\"choropleth\":[{\"colorbar\":{\"outlinewidth\":0,\"ticks\":\"\"},\"type\":\"choropleth\"}],\"contour\":[{\"colorbar\":{\"outlinewidth\":0,\"ticks\":\"\"},\"colorscale\":[[0.0,\"#0d0887\"],[0.1111111111111111,\"#46039f\"],[0.2222222222222222,\"#7201a8\"],[0.3333333333333333,\"#9c179e\"],[0.4444444444444444,\"#bd3786\"],[0.5555555555555556,\"#d8576b\"],[0.6666666666666666,\"#ed7953\"],[0.7777777777777778,\"#fb9f3a\"],[0.8888888888888888,\"#fdca26\"],[1.0,\"#f0f921\"]],\"type\":\"contour\"}],\"contourcarpet\":[{\"colorbar\":{\"outlinewidth\":0,\"ticks\":\"\"},\"type\":\"contourcarpet\"}],\"heatmap\":[{\"colorbar\":{\"outlinewidth\":0,\"ticks\":\"\"},\"colorscale\":[[0.0,\"#0d0887\"],[0.1111111111111111,\"#46039f\"],[0.2222222222222222,\"#7201a8\"],[0.3333333333333333,\"#9c179e\"],[0.4444444444444444,\"#bd3786\"],[0.5555555555555556,\"#d8576b\"],[0.6666666666666666,\"#ed7953\"],[0.7777777777777778,\"#fb9f3a\"],[0.8888888888888888,\"#fdca26\"],[1.0,\"#f0f921\"]],\"type\":\"heatmap\"}],\"heatmapgl\":[{\"colorbar\":{\"outlinewidth\":0,\"ticks\":\"\"},\"colorscale\":[[0.0,\"#0d0887\"],[0.1111111111111111,\"#46039f\"],[0.2222222222222222,\"#7201a8\"],[0.3333333333333333,\"#9c179e\"],[0.4444444444444444,\"#bd3786\"],[0.5555555555555556,\"#d8576b\"],[0.6666666666666666,\"#ed7953\"],[0.7777777777777778,\"#fb9f3a\"],[0.8888888888888888,\"#fdca26\"],[1.0,\"#f0f921\"]],\"type\":\"heatmapgl\"}],\"histogram\":[{\"marker\":{\"pattern\":{\"fillmode\":\"overlay\",\"size\":10,\"solidity\":0.2}},\"type\":\"histogram\"}],\"histogram2d\":[{\"colorbar\":{\"outlinewidth\":0,\"ticks\":\"\"},\"colorscale\":[[0.0,\"#0d0887\"],[0.1111111111111111,\"#46039f\"],[0.2222222222222222,\"#7201a8\"],[0.3333333333333333,\"#9c179e\"],[0.4444444444444444,\"#bd3786\"],[0.5555555555555556,\"#d8576b\"],[0.6666666666666666,\"#ed7953\"],[0.7777777777777778,\"#fb9f3a\"],[0.8888888888888888,\"#fdca26\"],[1.0,\"#f0f921\"]],\"type\":\"histogram2d\"}],\"histogram2dcontour\":[{\"colorbar\":{\"outlinewidth\":0,\"ticks\":\"\"},\"colorscale\":[[0.0,\"#0d0887\"],[0.1111111111111111,\"#46039f\"],[0.2222222222222222,\"#7201a8\"],[0.3333333333333333,\"#9c179e\"],[0.4444444444444444,\"#bd3786\"],[0.5555555555555556,\"#d8576b\"],[0.6666666666666666,\"#ed7953\"],[0.7777777777777778,\"#fb9f3a\"],[0.8888888888888888,\"#fdca26\"],[1.0,\"#f0f921\"]],\"type\":\"histogram2dcontour\"}],\"mesh3d\":[{\"colorbar\":{\"outlinewidth\":0,\"ticks\":\"\"},\"type\":\"mesh3d\"}],\"parcoords\":[{\"line\":{\"colorbar\":{\"outlinewidth\":0,\"ticks\":\"\"}},\"type\":\"parcoords\"}],\"pie\":[{\"automargin\":true,\"type\":\"pie\"}],\"scatter\":[{\"marker\":{\"colorbar\":{\"outlinewidth\":0,\"ticks\":\"\"}},\"type\":\"scatter\"}],\"scatter3d\":[{\"line\":{\"colorbar\":{\"outlinewidth\":0,\"ticks\":\"\"}},\"marker\":{\"colorbar\":{\"outlinewidth\":0,\"ticks\":\"\"}},\"type\":\"scatter3d\"}],\"scattercarpet\":[{\"marker\":{\"colorbar\":{\"outlinewidth\":0,\"ticks\":\"\"}},\"type\":\"scattercarpet\"}],\"scattergeo\":[{\"marker\":{\"colorbar\":{\"outlinewidth\":0,\"ticks\":\"\"}},\"type\":\"scattergeo\"}],\"scattergl\":[{\"marker\":{\"colorbar\":{\"outlinewidth\":0,\"ticks\":\"\"}},\"type\":\"scattergl\"}],\"scattermapbox\":[{\"marker\":{\"colorbar\":{\"outlinewidth\":0,\"ticks\":\"\"}},\"type\":\"scattermapbox\"}],\"scatterpolar\":[{\"marker\":{\"colorbar\":{\"outlinewidth\":0,\"ticks\":\"\"}},\"type\":\"scatterpolar\"}],\"scatterpolargl\":[{\"marker\":{\"colorbar\":{\"outlinewidth\":0,\"ticks\":\"\"}},\"type\":\"scatterpolargl\"}],\"scatterternary\":[{\"marker\":{\"colorbar\":{\"outlinewidth\":0,\"ticks\":\"\"}},\"type\":\"scatterternary\"}],\"surface\":[{\"colorbar\":{\"outlinewidth\":0,\"ticks\":\"\"},\"colorscale\":[[0.0,\"#0d0887\"],[0.1111111111111111,\"#46039f\"],[0.2222222222222222,\"#7201a8\"],[0.3333333333333333,\"#9c179e\"],[0.4444444444444444,\"#bd3786\"],[0.5555555555555556,\"#d8576b\"],[0.6666666666666666,\"#ed7953\"],[0.7777777777777778,\"#fb9f3a\"],[0.8888888888888888,\"#fdca26\"],[1.0,\"#f0f921\"]],\"type\":\"surface\"}],\"table\":[{\"cells\":{\"fill\":{\"color\":\"#EBF0F8\"},\"line\":{\"color\":\"white\"}},\"header\":{\"fill\":{\"color\":\"#C8D4E3\"},\"line\":{\"color\":\"white\"}},\"type\":\"table\"}]},\"layout\":{\"annotationdefaults\":{\"arrowcolor\":\"#2a3f5f\",\"arrowhead\":0,\"arrowwidth\":1},\"autotypenumbers\":\"strict\",\"coloraxis\":{\"colorbar\":{\"outlinewidth\":0,\"ticks\":\"\"}},\"colorscale\":{\"diverging\":[[0,\"#8e0152\"],[0.1,\"#c51b7d\"],[0.2,\"#de77ae\"],[0.3,\"#f1b6da\"],[0.4,\"#fde0ef\"],[0.5,\"#f7f7f7\"],[0.6,\"#e6f5d0\"],[0.7,\"#b8e186\"],[0.8,\"#7fbc41\"],[0.9,\"#4d9221\"],[1,\"#276419\"]],\"sequential\":[[0.0,\"#0d0887\"],[0.1111111111111111,\"#46039f\"],[0.2222222222222222,\"#7201a8\"],[0.3333333333333333,\"#9c179e\"],[0.4444444444444444,\"#bd3786\"],[0.5555555555555556,\"#d8576b\"],[0.6666666666666666,\"#ed7953\"],[0.7777777777777778,\"#fb9f3a\"],[0.8888888888888888,\"#fdca26\"],[1.0,\"#f0f921\"]],\"sequentialminus\":[[0.0,\"#0d0887\"],[0.1111111111111111,\"#46039f\"],[0.2222222222222222,\"#7201a8\"],[0.3333333333333333,\"#9c179e\"],[0.4444444444444444,\"#bd3786\"],[0.5555555555555556,\"#d8576b\"],[0.6666666666666666,\"#ed7953\"],[0.7777777777777778,\"#fb9f3a\"],[0.8888888888888888,\"#fdca26\"],[1.0,\"#f0f921\"]]},\"colorway\":[\"#636efa\",\"#EF553B\",\"#00cc96\",\"#ab63fa\",\"#FFA15A\",\"#19d3f3\",\"#FF6692\",\"#B6E880\",\"#FF97FF\",\"#FECB52\"],\"font\":{\"color\":\"#2a3f5f\"},\"geo\":{\"bgcolor\":\"white\",\"lakecolor\":\"white\",\"landcolor\":\"#E5ECF6\",\"showlakes\":true,\"showland\":true,\"subunitcolor\":\"white\"},\"hoverlabel\":{\"align\":\"left\"},\"hovermode\":\"closest\",\"mapbox\":{\"style\":\"light\"},\"paper_bgcolor\":\"white\",\"plot_bgcolor\":\"#E5ECF6\",\"polar\":{\"angularaxis\":{\"gridcolor\":\"white\",\"linecolor\":\"white\",\"ticks\":\"\"},\"bgcolor\":\"#E5ECF6\",\"radialaxis\":{\"gridcolor\":\"white\",\"linecolor\":\"white\",\"ticks\":\"\"}},\"scene\":{\"xaxis\":{\"backgroundcolor\":\"#E5ECF6\",\"gridcolor\":\"white\",\"gridwidth\":2,\"linecolor\":\"white\",\"showbackground\":true,\"ticks\":\"\",\"zerolinecolor\":\"white\"},\"yaxis\":{\"backgroundcolor\":\"#E5ECF6\",\"gridcolor\":\"white\",\"gridwidth\":2,\"linecolor\":\"white\",\"showbackground\":true,\"ticks\":\"\",\"zerolinecolor\":\"white\"},\"zaxis\":{\"backgroundcolor\":\"#E5ECF6\",\"gridcolor\":\"white\",\"gridwidth\":2,\"linecolor\":\"white\",\"showbackground\":true,\"ticks\":\"\",\"zerolinecolor\":\"white\"}},\"shapedefaults\":{\"line\":{\"color\":\"#2a3f5f\"}},\"ternary\":{\"aaxis\":{\"gridcolor\":\"white\",\"linecolor\":\"white\",\"ticks\":\"\"},\"baxis\":{\"gridcolor\":\"white\",\"linecolor\":\"white\",\"ticks\":\"\"},\"bgcolor\":\"#E5ECF6\",\"caxis\":{\"gridcolor\":\"white\",\"linecolor\":\"white\",\"ticks\":\"\"}},\"title\":{\"x\":0.05},\"xaxis\":{\"automargin\":true,\"gridcolor\":\"white\",\"linecolor\":\"white\",\"ticks\":\"\",\"title\":{\"standoff\":15},\"zerolinecolor\":\"white\",\"zerolinewidth\":2},\"yaxis\":{\"automargin\":true,\"gridcolor\":\"white\",\"linecolor\":\"white\",\"ticks\":\"\",\"title\":{\"standoff\":15},\"zerolinecolor\":\"white\",\"zerolinewidth\":2}}},\"coloraxis\":{\"colorbar\":{\"title\":{\"text\":\"freq\"}},\"colorscale\":[[0.0,\"rgb(247,251,255)\"],[0.125,\"rgb(222,235,247)\"],[0.25,\"rgb(198,219,239)\"],[0.375,\"rgb(158,202,225)\"],[0.5,\"rgb(107,174,214)\"],[0.625,\"rgb(66,146,198)\"],[0.75,\"rgb(33,113,181)\"],[0.875,\"rgb(8,81,156)\"],[1.0,\"rgb(8,48,107)\"]]},\"legend\":{\"tracegroupgap\":0},\"margin\":{\"t\":60},\"width\":1500,\"height\":750},                        {\"responsive\": true}                    ).then(function(){\n",
       "                            \n",
       "var gd = document.getElementById('b44b96f2-6cde-4c88-8414-c3642b5abc94');\n",
       "var x = new MutationObserver(function (mutations, observer) {{\n",
       "        var display = window.getComputedStyle(gd).display;\n",
       "        if (!display || display === 'none') {{\n",
       "            console.log([gd, 'removed!']);\n",
       "            Plotly.purge(gd);\n",
       "            observer.disconnect();\n",
       "        }}\n",
       "}});\n",
       "\n",
       "// Listen for the removal of the full notebook cells\n",
       "var notebookContainer = gd.closest('#notebook-container');\n",
       "if (notebookContainer) {{\n",
       "    x.observe(notebookContainer, {childList: true});\n",
       "}}\n",
       "\n",
       "// Listen for the clearing of the current output cell\n",
       "var outputEl = gd.closest('.output');\n",
       "if (outputEl) {{\n",
       "    x.observe(outputEl, {childList: true});\n",
       "}}\n",
       "\n",
       "                        })                };                });            </script>        </div>"
      ]
     },
     "metadata": {},
     "output_type": "display_data"
    }
   ],
   "source": [
    "fig = px.treemap(skills_freq,path = ['group','skill'],color = 'freq', values = 'freq',color_continuous_scale='Blues')\n",
    "fig.update_layout(width = 1500, height = 750)\n",
    "fig.show()\n",
    "fig.write_html('../reports/figures/skills_freq.treemap.html')"
   ]
  },
  {
   "cell_type": "code",
   "execution_count": 99,
   "id": "b52e1944",
   "metadata": {
    "scrolled": true
   },
   "outputs": [],
   "source": [
    "jobs   = encoded_df.DevType.columns.tolist()\n",
    "skills = encoded_df._drop_axis('DevType', axis=1,level = 0).columns.droplevel(level = 0).tolist()"
   ]
  },
  {
   "cell_type": "code",
   "execution_count": 100,
   "id": "ae62d1d4",
   "metadata": {},
   "outputs": [],
   "source": [
    "#\n",
    "job_skill = {}\n",
    "mask = ~ (encoded_df.columns.get_level_values(level = 0)=='DevType')\n",
    "non_DevType = encoded_df.iloc[:,mask].values\n",
    "\n",
    "# non_DevType.shape()\n",
    "\n",
    "for job in jobs:\n",
    "    job_skill[job] = ((encoded_df['DevType'][job].values.reshape(1,-1)) @ non_DevType )[0]\n",
    "    \n",
    "job_skill = pd.DataFrame(job_skill,index = skills)\n",
    "# job_skill\n",
    "# job_skill = encoded_df['DevType'].values.reshape(len(jobs),-1) @ non_DevType\n",
    "# job_skill = pd.DataFrame(job_skill,columns = skills,index = jobs)\n",
    "     "
   ]
  },
  {
   "cell_type": "code",
   "execution_count": 101,
   "id": "1444c89f",
   "metadata": {},
   "outputs": [
    {
     "data": {
      "text/html": [
       "<div>\n",
       "<style scoped>\n",
       "    .dataframe tbody tr th:only-of-type {\n",
       "        vertical-align: middle;\n",
       "    }\n",
       "\n",
       "    .dataframe tbody tr th {\n",
       "        vertical-align: top;\n",
       "    }\n",
       "\n",
       "    .dataframe thead th {\n",
       "        text-align: right;\n",
       "    }\n",
       "</style>\n",
       "<table border=\"1\" class=\"dataframe\">\n",
       "  <thead>\n",
       "    <tr style=\"text-align: right;\">\n",
       "      <th></th>\n",
       "      <th>APL</th>\n",
       "      <th>Assembly</th>\n",
       "      <th>Bash/Shell</th>\n",
       "      <th>C</th>\n",
       "      <th>C#</th>\n",
       "      <th>C++</th>\n",
       "      <th>COBOL</th>\n",
       "      <th>Clojure</th>\n",
       "      <th>Crystal</th>\n",
       "      <th>Dart</th>\n",
       "      <th>...</th>\n",
       "      <th>RStudio</th>\n",
       "      <th>Rider</th>\n",
       "      <th>RubyMine</th>\n",
       "      <th>Sublime Text</th>\n",
       "      <th>TextMate</th>\n",
       "      <th>Vim</th>\n",
       "      <th>Visual Studio</th>\n",
       "      <th>Visual Studio Code</th>\n",
       "      <th>Webstorm</th>\n",
       "      <th>Xcode</th>\n",
       "    </tr>\n",
       "  </thead>\n",
       "  <tbody>\n",
       "    <tr>\n",
       "      <th>Academic researcher</th>\n",
       "      <td>972.0</td>\n",
       "      <td>4312.5</td>\n",
       "      <td>18134.5</td>\n",
       "      <td>14484.5</td>\n",
       "      <td>9480.5</td>\n",
       "      <td>17373.5</td>\n",
       "      <td>777.5</td>\n",
       "      <td>1716.0</td>\n",
       "      <td>663.0</td>\n",
       "      <td>2723.5</td>\n",
       "      <td>...</td>\n",
       "      <td>7465.0</td>\n",
       "      <td>1639.0</td>\n",
       "      <td>858.0</td>\n",
       "      <td>8900.5</td>\n",
       "      <td>1068.0</td>\n",
       "      <td>15675.0</td>\n",
       "      <td>11155.0</td>\n",
       "      <td>26763.0</td>\n",
       "      <td>3180.5</td>\n",
       "      <td>5007.5</td>\n",
       "    </tr>\n",
       "    <tr>\n",
       "      <th>Data or business analyst</th>\n",
       "      <td>1434.5</td>\n",
       "      <td>3308.5</td>\n",
       "      <td>23809.5</td>\n",
       "      <td>10572.0</td>\n",
       "      <td>27781.0</td>\n",
       "      <td>12231.0</td>\n",
       "      <td>1065.0</td>\n",
       "      <td>2580.0</td>\n",
       "      <td>1184.0</td>\n",
       "      <td>3693.0</td>\n",
       "      <td>...</td>\n",
       "      <td>10394.5</td>\n",
       "      <td>3272.5</td>\n",
       "      <td>1220.0</td>\n",
       "      <td>13759.5</td>\n",
       "      <td>946.5</td>\n",
       "      <td>19465.5</td>\n",
       "      <td>30235.5</td>\n",
       "      <td>50195.5</td>\n",
       "      <td>5016.0</td>\n",
       "      <td>7887.0</td>\n",
       "    </tr>\n",
       "    <tr>\n",
       "      <th>Data scientist or machine learning specialist</th>\n",
       "      <td>924.0</td>\n",
       "      <td>4249.0</td>\n",
       "      <td>29302.0</td>\n",
       "      <td>16468.5</td>\n",
       "      <td>15117.0</td>\n",
       "      <td>22106.0</td>\n",
       "      <td>833.0</td>\n",
       "      <td>3340.5</td>\n",
       "      <td>874.0</td>\n",
       "      <td>3368.5</td>\n",
       "      <td>...</td>\n",
       "      <td>16400.0</td>\n",
       "      <td>1557.0</td>\n",
       "      <td>1144.5</td>\n",
       "      <td>15921.5</td>\n",
       "      <td>1264.5</td>\n",
       "      <td>27481.5</td>\n",
       "      <td>18226.5</td>\n",
       "      <td>50262.5</td>\n",
       "      <td>3967.0</td>\n",
       "      <td>7248.5</td>\n",
       "    </tr>\n",
       "    <tr>\n",
       "      <th>Database administrator</th>\n",
       "      <td>1173.0</td>\n",
       "      <td>6413.5</td>\n",
       "      <td>46648.5</td>\n",
       "      <td>20348.0</td>\n",
       "      <td>53973.0</td>\n",
       "      <td>23545.0</td>\n",
       "      <td>1789.5</td>\n",
       "      <td>2947.5</td>\n",
       "      <td>2357.0</td>\n",
       "      <td>8240.5</td>\n",
       "      <td>...</td>\n",
       "      <td>4826.0</td>\n",
       "      <td>6670.5</td>\n",
       "      <td>2212.5</td>\n",
       "      <td>22667.0</td>\n",
       "      <td>1983.0</td>\n",
       "      <td>36924.5</td>\n",
       "      <td>54814.0</td>\n",
       "      <td>82781.5</td>\n",
       "      <td>10282.5</td>\n",
       "      <td>16362.0</td>\n",
       "    </tr>\n",
       "    <tr>\n",
       "      <th>Designer</th>\n",
       "      <td>1159.0</td>\n",
       "      <td>5644.5</td>\n",
       "      <td>25714.5</td>\n",
       "      <td>16591.5</td>\n",
       "      <td>35476.5</td>\n",
       "      <td>20225.0</td>\n",
       "      <td>1452.5</td>\n",
       "      <td>1934.0</td>\n",
       "      <td>1280.0</td>\n",
       "      <td>6892.5</td>\n",
       "      <td>...</td>\n",
       "      <td>3130.0</td>\n",
       "      <td>3746.5</td>\n",
       "      <td>1216.0</td>\n",
       "      <td>17076.5</td>\n",
       "      <td>1336.5</td>\n",
       "      <td>18518.5</td>\n",
       "      <td>38791.5</td>\n",
       "      <td>60971.0</td>\n",
       "      <td>8097.0</td>\n",
       "      <td>14131.0</td>\n",
       "    </tr>\n",
       "  </tbody>\n",
       "</table>\n",
       "<p>5 rows × 125 columns</p>\n",
       "</div>"
      ],
      "text/plain": [
       "                                                  APL  Assembly  Bash/Shell  \\\n",
       "Academic researcher                             972.0    4312.5     18134.5   \n",
       "Data or business analyst                       1434.5    3308.5     23809.5   \n",
       "Data scientist or machine learning specialist   924.0    4249.0     29302.0   \n",
       "Database administrator                         1173.0    6413.5     46648.5   \n",
       "Designer                                       1159.0    5644.5     25714.5   \n",
       "\n",
       "                                                     C       C#      C++  \\\n",
       "Academic researcher                            14484.5   9480.5  17373.5   \n",
       "Data or business analyst                       10572.0  27781.0  12231.0   \n",
       "Data scientist or machine learning specialist  16468.5  15117.0  22106.0   \n",
       "Database administrator                         20348.0  53973.0  23545.0   \n",
       "Designer                                       16591.5  35476.5  20225.0   \n",
       "\n",
       "                                                COBOL  Clojure  Crystal  \\\n",
       "Academic researcher                             777.5   1716.0    663.0   \n",
       "Data or business analyst                       1065.0   2580.0   1184.0   \n",
       "Data scientist or machine learning specialist   833.0   3340.5    874.0   \n",
       "Database administrator                         1789.5   2947.5   2357.0   \n",
       "Designer                                       1452.5   1934.0   1280.0   \n",
       "\n",
       "                                                 Dart  ...  RStudio   Rider  \\\n",
       "Academic researcher                            2723.5  ...   7465.0  1639.0   \n",
       "Data or business analyst                       3693.0  ...  10394.5  3272.5   \n",
       "Data scientist or machine learning specialist  3368.5  ...  16400.0  1557.0   \n",
       "Database administrator                         8240.5  ...   4826.0  6670.5   \n",
       "Designer                                       6892.5  ...   3130.0  3746.5   \n",
       "\n",
       "                                               RubyMine  Sublime Text  \\\n",
       "Academic researcher                               858.0        8900.5   \n",
       "Data or business analyst                         1220.0       13759.5   \n",
       "Data scientist or machine learning specialist    1144.5       15921.5   \n",
       "Database administrator                           2212.5       22667.0   \n",
       "Designer                                         1216.0       17076.5   \n",
       "\n",
       "                                               TextMate      Vim  \\\n",
       "Academic researcher                              1068.0  15675.0   \n",
       "Data or business analyst                          946.5  19465.5   \n",
       "Data scientist or machine learning specialist    1264.5  27481.5   \n",
       "Database administrator                           1983.0  36924.5   \n",
       "Designer                                         1336.5  18518.5   \n",
       "\n",
       "                                               Visual Studio  \\\n",
       "Academic researcher                                  11155.0   \n",
       "Data or business analyst                             30235.5   \n",
       "Data scientist or machine learning specialist        18226.5   \n",
       "Database administrator                               54814.0   \n",
       "Designer                                             38791.5   \n",
       "\n",
       "                                               Visual Studio Code  Webstorm  \\\n",
       "Academic researcher                                       26763.0    3180.5   \n",
       "Data or business analyst                                  50195.5    5016.0   \n",
       "Data scientist or machine learning specialist             50262.5    3967.0   \n",
       "Database administrator                                    82781.5   10282.5   \n",
       "Designer                                                  60971.0    8097.0   \n",
       "\n",
       "                                                 Xcode  \n",
       "Academic researcher                             5007.5  \n",
       "Data or business analyst                        7887.0  \n",
       "Data scientist or machine learning specialist   7248.5  \n",
       "Database administrator                         16362.0  \n",
       "Designer                                       14131.0  \n",
       "\n",
       "[5 rows x 125 columns]"
      ]
     },
     "execution_count": 101,
     "metadata": {},
     "output_type": "execute_result"
    }
   ],
   "source": [
    "job_skill = job_skill.T\n",
    "job_skill.head()"
   ]
  },
  {
   "cell_type": "code",
   "execution_count": 102,
   "id": "d3bdab49",
   "metadata": {},
   "outputs": [
    {
     "data": {
      "application/vnd.plotly.v1+json": {
       "config": {
        "plotlyServerURL": "https://plot.ly"
       },
       "data": [
        {
         "hoverinfo": "text",
         "marker": {
          "color": "rgb(61,153,112)"
         },
         "mode": "lines",
         "type": "scatter",
         "x": [
          0,
          361104.2749265785,
          361104.2749265785,
          0
         ],
         "xaxis": "x",
         "y": [
          -5,
          -5,
          -15,
          -15
         ],
         "yaxis": "y"
        },
        {
         "hoverinfo": "text",
         "marker": {
          "color": "rgb(255,65,54)"
         },
         "mode": "lines",
         "type": "scatter",
         "x": [
          0,
          65002.367645340426,
          65002.367645340426,
          0
         ],
         "xaxis": "x",
         "y": [
          -25,
          -25,
          -35,
          -35
         ],
         "yaxis": "y"
        },
        {
         "hoverinfo": "text",
         "marker": {
          "color": "rgb(255,65,54)"
         },
         "mode": "lines",
         "type": "scatter",
         "x": [
          0,
          31508.616813500397,
          31508.616813500397,
          0
         ],
         "xaxis": "x",
         "y": [
          -85,
          -85,
          -95,
          -95
         ],
         "yaxis": "y"
        },
        {
         "hoverinfo": "text",
         "marker": {
          "color": "rgb(255,65,54)"
         },
         "mode": "lines",
         "type": "scatter",
         "x": [
          0,
          48557.000568919,
          48557.000568919,
          31508.616813500397
         ],
         "xaxis": "x",
         "y": [
          -75,
          -75,
          -90,
          -90
         ],
         "yaxis": "y"
        },
        {
         "hoverinfo": "text",
         "marker": {
          "color": "rgb(255,65,54)"
         },
         "mode": "lines",
         "type": "scatter",
         "x": [
          0,
          59069.449239856636,
          59069.449239856636,
          48557.000568919
         ],
         "xaxis": "x",
         "y": [
          -65,
          -65,
          -82.5,
          -82.5
         ],
         "yaxis": "y"
        },
        {
         "hoverinfo": "text",
         "marker": {
          "color": "rgb(255,65,54)"
         },
         "mode": "lines",
         "type": "scatter",
         "x": [
          0,
          75112.53541686633,
          75112.53541686633,
          59069.449239856636
         ],
         "xaxis": "x",
         "y": [
          -55,
          -55,
          -73.75,
          -73.75
         ],
         "yaxis": "y"
        },
        {
         "hoverinfo": "text",
         "marker": {
          "color": "rgb(255,65,54)"
         },
         "mode": "lines",
         "type": "scatter",
         "x": [
          0,
          91737.00981065385,
          91737.00981065385,
          75112.53541686633
         ],
         "xaxis": "x",
         "y": [
          -45,
          -45,
          -64.375,
          -64.375
         ],
         "yaxis": "y"
        },
        {
         "hoverinfo": "text",
         "marker": {
          "color": "rgb(255,65,54)"
         },
         "mode": "lines",
         "type": "scatter",
         "x": [
          65002.367645340426,
          130142.15282048318,
          130142.15282048318,
          91737.00981065385
         ],
         "xaxis": "x",
         "y": [
          -30,
          -30,
          -54.6875,
          -54.6875
         ],
         "yaxis": "y"
        },
        {
         "hoverinfo": "text",
         "marker": {
          "color": "rgb(255,65,54)"
         },
         "mode": "lines",
         "type": "scatter",
         "x": [
          0,
          25637.383246930644,
          25637.383246930644,
          0
         ],
         "xaxis": "x",
         "y": [
          -115,
          -115,
          -125,
          -125
         ],
         "yaxis": "y"
        },
        {
         "hoverinfo": "text",
         "marker": {
          "color": "rgb(255,65,54)"
         },
         "mode": "lines",
         "type": "scatter",
         "x": [
          0,
          26757.091854310325,
          26757.091854310325,
          0
         ],
         "xaxis": "x",
         "y": [
          -135,
          -135,
          -145,
          -145
         ],
         "yaxis": "y"
        },
        {
         "hoverinfo": "text",
         "marker": {
          "color": "rgb(255,65,54)"
         },
         "mode": "lines",
         "type": "scatter",
         "x": [
          25637.383246930644,
          49773.34038167421,
          49773.34038167421,
          26757.091854310325
         ],
         "xaxis": "x",
         "y": [
          -120,
          -120,
          -140,
          -140
         ],
         "yaxis": "y"
        },
        {
         "hoverinfo": "text",
         "marker": {
          "color": "rgb(255,65,54)"
         },
         "mode": "lines",
         "type": "scatter",
         "x": [
          0,
          25708.921734487427,
          25708.921734487427,
          0
         ],
         "xaxis": "x",
         "y": [
          -175,
          -175,
          -185,
          -185
         ],
         "yaxis": "y"
        },
        {
         "hoverinfo": "text",
         "marker": {
          "color": "rgb(255,65,54)"
         },
         "mode": "lines",
         "type": "scatter",
         "x": [
          0,
          30974.84568968827,
          30974.84568968827,
          25708.921734487427
         ],
         "xaxis": "x",
         "y": [
          -165,
          -165,
          -180,
          -180
         ],
         "yaxis": "y"
        },
        {
         "hoverinfo": "text",
         "marker": {
          "color": "rgb(255,65,54)"
         },
         "mode": "lines",
         "type": "scatter",
         "x": [
          0,
          54448.67706152281,
          54448.67706152281,
          30974.84568968827
         ],
         "xaxis": "x",
         "y": [
          -155,
          -155,
          -172.5,
          -172.5
         ],
         "yaxis": "y"
        },
        {
         "hoverinfo": "text",
         "marker": {
          "color": "rgb(255,65,54)"
         },
         "mode": "lines",
         "type": "scatter",
         "x": [
          49773.34038167421,
          88598.89480687668,
          88598.89480687668,
          54448.67706152281
         ],
         "xaxis": "x",
         "y": [
          -130,
          -130,
          -163.75,
          -163.75
         ],
         "yaxis": "y"
        },
        {
         "hoverinfo": "text",
         "marker": {
          "color": "rgb(255,65,54)"
         },
         "mode": "lines",
         "type": "scatter",
         "x": [
          0,
          131808.1504858482,
          131808.1504858482,
          88598.89480687668
         ],
         "xaxis": "x",
         "y": [
          -105,
          -105,
          -146.875,
          -146.875
         ],
         "yaxis": "y"
        },
        {
         "hoverinfo": "text",
         "marker": {
          "color": "rgb(255,65,54)"
         },
         "mode": "lines",
         "type": "scatter",
         "x": [
          130142.15282048318,
          230669.24123027327,
          230669.24123027327,
          131808.1504858482
         ],
         "xaxis": "x",
         "y": [
          -42.34375,
          -42.34375,
          -125.9375,
          -125.9375
         ],
         "yaxis": "y"
        },
        {
         "hoverinfo": "text",
         "marker": {
          "color": "rgb(255,65,54)"
         },
         "mode": "lines",
         "type": "scatter",
         "x": [
          0,
          53779.587349662695,
          53779.587349662695,
          0
         ],
         "xaxis": "x",
         "y": [
          -235,
          -235,
          -245,
          -245
         ],
         "yaxis": "y"
        },
        {
         "hoverinfo": "text",
         "marker": {
          "color": "rgb(255,65,54)"
         },
         "mode": "lines",
         "type": "scatter",
         "x": [
          0,
          166532.2775027412,
          166532.2775027412,
          53779.587349662695
         ],
         "xaxis": "x",
         "y": [
          -225,
          -225,
          -240,
          -240
         ],
         "yaxis": "y"
        },
        {
         "hoverinfo": "text",
         "marker": {
          "color": "rgb(255,65,54)"
         },
         "mode": "lines",
         "type": "scatter",
         "x": [
          0,
          183286.07274422134,
          183286.07274422134,
          166532.2775027412
         ],
         "xaxis": "x",
         "y": [
          -215,
          -215,
          -232.5,
          -232.5
         ],
         "yaxis": "y"
        },
        {
         "hoverinfo": "text",
         "marker": {
          "color": "rgb(255,65,54)"
         },
         "mode": "lines",
         "type": "scatter",
         "x": [
          0,
          306054.1966204679,
          306054.1966204679,
          183286.07274422134
         ],
         "xaxis": "x",
         "y": [
          -205,
          -205,
          -223.75,
          -223.75
         ],
         "yaxis": "y"
        },
        {
         "hoverinfo": "text",
         "marker": {
          "color": "rgb(255,65,54)"
         },
         "mode": "lines",
         "type": "scatter",
         "x": [
          0,
          589191.4505241484,
          589191.4505241484,
          306054.1966204679
         ],
         "xaxis": "x",
         "y": [
          -195,
          -195,
          -214.375,
          -214.375
         ],
         "yaxis": "y"
        },
        {
         "hoverinfo": "text",
         "marker": {
          "color": "rgb(255,65,54)"
         },
         "mode": "lines",
         "type": "scatter",
         "x": [
          230669.24123027327,
          885016.0116674444,
          885016.0116674444,
          589191.4505241484
         ],
         "xaxis": "x",
         "y": [
          -84.140625,
          -84.140625,
          -204.6875,
          -204.6875
         ],
         "yaxis": "y"
        },
        {
         "hoverinfo": "text",
         "marker": {
          "color": "rgb(0,116,217)"
         },
         "mode": "lines",
         "type": "scatter",
         "x": [
          361104.2749265785,
          1724536.6921276276,
          1724536.6921276276,
          885016.0116674444
         ],
         "xaxis": "x",
         "y": [
          -10,
          -10,
          -144.4140625,
          -144.4140625
         ],
         "yaxis": "y"
        }
       ],
       "layout": {
        "autosize": false,
        "height": null,
        "hovermode": "closest",
        "showlegend": false,
        "template": {
         "data": {
          "bar": [
           {
            "error_x": {
             "color": "#2a3f5f"
            },
            "error_y": {
             "color": "#2a3f5f"
            },
            "marker": {
             "line": {
              "color": "#E5ECF6",
              "width": 0.5
             },
             "pattern": {
              "fillmode": "overlay",
              "size": 10,
              "solidity": 0.2
             }
            },
            "type": "bar"
           }
          ],
          "barpolar": [
           {
            "marker": {
             "line": {
              "color": "#E5ECF6",
              "width": 0.5
             },
             "pattern": {
              "fillmode": "overlay",
              "size": 10,
              "solidity": 0.2
             }
            },
            "type": "barpolar"
           }
          ],
          "carpet": [
           {
            "aaxis": {
             "endlinecolor": "#2a3f5f",
             "gridcolor": "white",
             "linecolor": "white",
             "minorgridcolor": "white",
             "startlinecolor": "#2a3f5f"
            },
            "baxis": {
             "endlinecolor": "#2a3f5f",
             "gridcolor": "white",
             "linecolor": "white",
             "minorgridcolor": "white",
             "startlinecolor": "#2a3f5f"
            },
            "type": "carpet"
           }
          ],
          "choropleth": [
           {
            "colorbar": {
             "outlinewidth": 0,
             "ticks": ""
            },
            "type": "choropleth"
           }
          ],
          "contour": [
           {
            "colorbar": {
             "outlinewidth": 0,
             "ticks": ""
            },
            "colorscale": [
             [
              0,
              "#0d0887"
             ],
             [
              0.1111111111111111,
              "#46039f"
             ],
             [
              0.2222222222222222,
              "#7201a8"
             ],
             [
              0.3333333333333333,
              "#9c179e"
             ],
             [
              0.4444444444444444,
              "#bd3786"
             ],
             [
              0.5555555555555556,
              "#d8576b"
             ],
             [
              0.6666666666666666,
              "#ed7953"
             ],
             [
              0.7777777777777778,
              "#fb9f3a"
             ],
             [
              0.8888888888888888,
              "#fdca26"
             ],
             [
              1,
              "#f0f921"
             ]
            ],
            "type": "contour"
           }
          ],
          "contourcarpet": [
           {
            "colorbar": {
             "outlinewidth": 0,
             "ticks": ""
            },
            "type": "contourcarpet"
           }
          ],
          "heatmap": [
           {
            "colorbar": {
             "outlinewidth": 0,
             "ticks": ""
            },
            "colorscale": [
             [
              0,
              "#0d0887"
             ],
             [
              0.1111111111111111,
              "#46039f"
             ],
             [
              0.2222222222222222,
              "#7201a8"
             ],
             [
              0.3333333333333333,
              "#9c179e"
             ],
             [
              0.4444444444444444,
              "#bd3786"
             ],
             [
              0.5555555555555556,
              "#d8576b"
             ],
             [
              0.6666666666666666,
              "#ed7953"
             ],
             [
              0.7777777777777778,
              "#fb9f3a"
             ],
             [
              0.8888888888888888,
              "#fdca26"
             ],
             [
              1,
              "#f0f921"
             ]
            ],
            "type": "heatmap"
           }
          ],
          "heatmapgl": [
           {
            "colorbar": {
             "outlinewidth": 0,
             "ticks": ""
            },
            "colorscale": [
             [
              0,
              "#0d0887"
             ],
             [
              0.1111111111111111,
              "#46039f"
             ],
             [
              0.2222222222222222,
              "#7201a8"
             ],
             [
              0.3333333333333333,
              "#9c179e"
             ],
             [
              0.4444444444444444,
              "#bd3786"
             ],
             [
              0.5555555555555556,
              "#d8576b"
             ],
             [
              0.6666666666666666,
              "#ed7953"
             ],
             [
              0.7777777777777778,
              "#fb9f3a"
             ],
             [
              0.8888888888888888,
              "#fdca26"
             ],
             [
              1,
              "#f0f921"
             ]
            ],
            "type": "heatmapgl"
           }
          ],
          "histogram": [
           {
            "marker": {
             "pattern": {
              "fillmode": "overlay",
              "size": 10,
              "solidity": 0.2
             }
            },
            "type": "histogram"
           }
          ],
          "histogram2d": [
           {
            "colorbar": {
             "outlinewidth": 0,
             "ticks": ""
            },
            "colorscale": [
             [
              0,
              "#0d0887"
             ],
             [
              0.1111111111111111,
              "#46039f"
             ],
             [
              0.2222222222222222,
              "#7201a8"
             ],
             [
              0.3333333333333333,
              "#9c179e"
             ],
             [
              0.4444444444444444,
              "#bd3786"
             ],
             [
              0.5555555555555556,
              "#d8576b"
             ],
             [
              0.6666666666666666,
              "#ed7953"
             ],
             [
              0.7777777777777778,
              "#fb9f3a"
             ],
             [
              0.8888888888888888,
              "#fdca26"
             ],
             [
              1,
              "#f0f921"
             ]
            ],
            "type": "histogram2d"
           }
          ],
          "histogram2dcontour": [
           {
            "colorbar": {
             "outlinewidth": 0,
             "ticks": ""
            },
            "colorscale": [
             [
              0,
              "#0d0887"
             ],
             [
              0.1111111111111111,
              "#46039f"
             ],
             [
              0.2222222222222222,
              "#7201a8"
             ],
             [
              0.3333333333333333,
              "#9c179e"
             ],
             [
              0.4444444444444444,
              "#bd3786"
             ],
             [
              0.5555555555555556,
              "#d8576b"
             ],
             [
              0.6666666666666666,
              "#ed7953"
             ],
             [
              0.7777777777777778,
              "#fb9f3a"
             ],
             [
              0.8888888888888888,
              "#fdca26"
             ],
             [
              1,
              "#f0f921"
             ]
            ],
            "type": "histogram2dcontour"
           }
          ],
          "mesh3d": [
           {
            "colorbar": {
             "outlinewidth": 0,
             "ticks": ""
            },
            "type": "mesh3d"
           }
          ],
          "parcoords": [
           {
            "line": {
             "colorbar": {
              "outlinewidth": 0,
              "ticks": ""
             }
            },
            "type": "parcoords"
           }
          ],
          "pie": [
           {
            "automargin": true,
            "type": "pie"
           }
          ],
          "scatter": [
           {
            "marker": {
             "colorbar": {
              "outlinewidth": 0,
              "ticks": ""
             }
            },
            "type": "scatter"
           }
          ],
          "scatter3d": [
           {
            "line": {
             "colorbar": {
              "outlinewidth": 0,
              "ticks": ""
             }
            },
            "marker": {
             "colorbar": {
              "outlinewidth": 0,
              "ticks": ""
             }
            },
            "type": "scatter3d"
           }
          ],
          "scattercarpet": [
           {
            "marker": {
             "colorbar": {
              "outlinewidth": 0,
              "ticks": ""
             }
            },
            "type": "scattercarpet"
           }
          ],
          "scattergeo": [
           {
            "marker": {
             "colorbar": {
              "outlinewidth": 0,
              "ticks": ""
             }
            },
            "type": "scattergeo"
           }
          ],
          "scattergl": [
           {
            "marker": {
             "colorbar": {
              "outlinewidth": 0,
              "ticks": ""
             }
            },
            "type": "scattergl"
           }
          ],
          "scattermapbox": [
           {
            "marker": {
             "colorbar": {
              "outlinewidth": 0,
              "ticks": ""
             }
            },
            "type": "scattermapbox"
           }
          ],
          "scatterpolar": [
           {
            "marker": {
             "colorbar": {
              "outlinewidth": 0,
              "ticks": ""
             }
            },
            "type": "scatterpolar"
           }
          ],
          "scatterpolargl": [
           {
            "marker": {
             "colorbar": {
              "outlinewidth": 0,
              "ticks": ""
             }
            },
            "type": "scatterpolargl"
           }
          ],
          "scatterternary": [
           {
            "marker": {
             "colorbar": {
              "outlinewidth": 0,
              "ticks": ""
             }
            },
            "type": "scatterternary"
           }
          ],
          "surface": [
           {
            "colorbar": {
             "outlinewidth": 0,
             "ticks": ""
            },
            "colorscale": [
             [
              0,
              "#0d0887"
             ],
             [
              0.1111111111111111,
              "#46039f"
             ],
             [
              0.2222222222222222,
              "#7201a8"
             ],
             [
              0.3333333333333333,
              "#9c179e"
             ],
             [
              0.4444444444444444,
              "#bd3786"
             ],
             [
              0.5555555555555556,
              "#d8576b"
             ],
             [
              0.6666666666666666,
              "#ed7953"
             ],
             [
              0.7777777777777778,
              "#fb9f3a"
             ],
             [
              0.8888888888888888,
              "#fdca26"
             ],
             [
              1,
              "#f0f921"
             ]
            ],
            "type": "surface"
           }
          ],
          "table": [
           {
            "cells": {
             "fill": {
              "color": "#EBF0F8"
             },
             "line": {
              "color": "white"
             }
            },
            "header": {
             "fill": {
              "color": "#C8D4E3"
             },
             "line": {
              "color": "white"
             }
            },
            "type": "table"
           }
          ]
         },
         "layout": {
          "annotationdefaults": {
           "arrowcolor": "#2a3f5f",
           "arrowhead": 0,
           "arrowwidth": 1
          },
          "autotypenumbers": "strict",
          "coloraxis": {
           "colorbar": {
            "outlinewidth": 0,
            "ticks": ""
           }
          },
          "colorscale": {
           "diverging": [
            [
             0,
             "#8e0152"
            ],
            [
             0.1,
             "#c51b7d"
            ],
            [
             0.2,
             "#de77ae"
            ],
            [
             0.3,
             "#f1b6da"
            ],
            [
             0.4,
             "#fde0ef"
            ],
            [
             0.5,
             "#f7f7f7"
            ],
            [
             0.6,
             "#e6f5d0"
            ],
            [
             0.7,
             "#b8e186"
            ],
            [
             0.8,
             "#7fbc41"
            ],
            [
             0.9,
             "#4d9221"
            ],
            [
             1,
             "#276419"
            ]
           ],
           "sequential": [
            [
             0,
             "#0d0887"
            ],
            [
             0.1111111111111111,
             "#46039f"
            ],
            [
             0.2222222222222222,
             "#7201a8"
            ],
            [
             0.3333333333333333,
             "#9c179e"
            ],
            [
             0.4444444444444444,
             "#bd3786"
            ],
            [
             0.5555555555555556,
             "#d8576b"
            ],
            [
             0.6666666666666666,
             "#ed7953"
            ],
            [
             0.7777777777777778,
             "#fb9f3a"
            ],
            [
             0.8888888888888888,
             "#fdca26"
            ],
            [
             1,
             "#f0f921"
            ]
           ],
           "sequentialminus": [
            [
             0,
             "#0d0887"
            ],
            [
             0.1111111111111111,
             "#46039f"
            ],
            [
             0.2222222222222222,
             "#7201a8"
            ],
            [
             0.3333333333333333,
             "#9c179e"
            ],
            [
             0.4444444444444444,
             "#bd3786"
            ],
            [
             0.5555555555555556,
             "#d8576b"
            ],
            [
             0.6666666666666666,
             "#ed7953"
            ],
            [
             0.7777777777777778,
             "#fb9f3a"
            ],
            [
             0.8888888888888888,
             "#fdca26"
            ],
            [
             1,
             "#f0f921"
            ]
           ]
          },
          "colorway": [
           "#636efa",
           "#EF553B",
           "#00cc96",
           "#ab63fa",
           "#FFA15A",
           "#19d3f3",
           "#FF6692",
           "#B6E880",
           "#FF97FF",
           "#FECB52"
          ],
          "font": {
           "color": "#2a3f5f"
          },
          "geo": {
           "bgcolor": "white",
           "lakecolor": "white",
           "landcolor": "#E5ECF6",
           "showlakes": true,
           "showland": true,
           "subunitcolor": "white"
          },
          "hoverlabel": {
           "align": "left"
          },
          "hovermode": "closest",
          "mapbox": {
           "style": "light"
          },
          "paper_bgcolor": "white",
          "plot_bgcolor": "#E5ECF6",
          "polar": {
           "angularaxis": {
            "gridcolor": "white",
            "linecolor": "white",
            "ticks": ""
           },
           "bgcolor": "#E5ECF6",
           "radialaxis": {
            "gridcolor": "white",
            "linecolor": "white",
            "ticks": ""
           }
          },
          "scene": {
           "xaxis": {
            "backgroundcolor": "#E5ECF6",
            "gridcolor": "white",
            "gridwidth": 2,
            "linecolor": "white",
            "showbackground": true,
            "ticks": "",
            "zerolinecolor": "white"
           },
           "yaxis": {
            "backgroundcolor": "#E5ECF6",
            "gridcolor": "white",
            "gridwidth": 2,
            "linecolor": "white",
            "showbackground": true,
            "ticks": "",
            "zerolinecolor": "white"
           },
           "zaxis": {
            "backgroundcolor": "#E5ECF6",
            "gridcolor": "white",
            "gridwidth": 2,
            "linecolor": "white",
            "showbackground": true,
            "ticks": "",
            "zerolinecolor": "white"
           }
          },
          "shapedefaults": {
           "line": {
            "color": "#2a3f5f"
           }
          },
          "ternary": {
           "aaxis": {
            "gridcolor": "white",
            "linecolor": "white",
            "ticks": ""
           },
           "baxis": {
            "gridcolor": "white",
            "linecolor": "white",
            "ticks": ""
           },
           "bgcolor": "#E5ECF6",
           "caxis": {
            "gridcolor": "white",
            "linecolor": "white",
            "ticks": ""
           }
          },
          "title": {
           "x": 0.05
          },
          "xaxis": {
           "automargin": true,
           "gridcolor": "white",
           "linecolor": "white",
           "ticks": "",
           "title": {
            "standoff": 15
           },
           "zerolinecolor": "white",
           "zerolinewidth": 2
          },
          "yaxis": {
           "automargin": true,
           "gridcolor": "white",
           "linecolor": "white",
           "ticks": "",
           "title": {
            "standoff": 15
           },
           "zerolinecolor": "white",
           "zerolinewidth": 2
          }
         }
        },
        "width": null,
        "xaxis": {
         "mirror": "allticks",
         "rangemode": "tozero",
         "showgrid": false,
         "showline": true,
         "showticklabels": true,
         "ticks": "outside",
         "type": "linear",
         "zeroline": false
        },
        "yaxis": {
         "mirror": "allticks",
         "rangemode": "tozero",
         "showgrid": false,
         "showline": true,
         "showticklabels": true,
         "tickmode": "array",
         "ticks": "outside",
         "ticktext": [
          "Developer, back-end",
          "Developer, full-stack",
          "Data scientist or machine learning specialist",
          "Engineer, data",
          "Engineering manager",
          "Developer, embedded applications or devices",
          "Designer",
          "Data or business analyst",
          "Developer, QA or test",
          "Product manager",
          "Marketing or sales professional",
          "Academic researcher",
          "Scientist",
          "Developer, game or graphics",
          "Student",
          "Engineer, site reliability",
          "Senior Executive (C-Suite, VP, etc.)",
          "Educator",
          "Other (please specify):",
          "Developer, front-end",
          "Developer, desktop or enterprise applications",
          "Developer, mobile",
          "DevOps specialist",
          "Database administrator",
          "System administrator"
         ],
         "tickvals": [
          -5,
          -15,
          -25,
          -35,
          -45,
          -55,
          -65,
          -75,
          -85,
          -95,
          -105,
          -115,
          -125,
          -135,
          -145,
          -155,
          -165,
          -175,
          -185,
          -195,
          -205,
          -215,
          -225,
          -235,
          -245
         ],
         "type": "linear",
         "zeroline": false
        }
       }
      },
      "text/html": [
       "<div>                            <div id=\"43f69b12-a2b0-4c73-b9cb-df2165365839\" class=\"plotly-graph-div\" style=\"height:infpx; width:infpx;\"></div>            <script type=\"text/javascript\">                require([\"plotly\"], function(Plotly) {                    window.PLOTLYENV=window.PLOTLYENV || {};                                    if (document.getElementById(\"43f69b12-a2b0-4c73-b9cb-df2165365839\")) {                    Plotly.newPlot(                        \"43f69b12-a2b0-4c73-b9cb-df2165365839\",                        [{\"hoverinfo\":\"text\",\"marker\":{\"color\":\"rgb(61,153,112)\"},\"mode\":\"lines\",\"x\":[0.0,361104.2749265785,361104.2749265785,0.0],\"xaxis\":\"x\",\"y\":[-5.0,-5.0,-15.0,-15.0],\"yaxis\":\"y\",\"type\":\"scatter\"},{\"hoverinfo\":\"text\",\"marker\":{\"color\":\"rgb(255,65,54)\"},\"mode\":\"lines\",\"x\":[0.0,65002.367645340426,65002.367645340426,0.0],\"xaxis\":\"x\",\"y\":[-25.0,-25.0,-35.0,-35.0],\"yaxis\":\"y\",\"type\":\"scatter\"},{\"hoverinfo\":\"text\",\"marker\":{\"color\":\"rgb(255,65,54)\"},\"mode\":\"lines\",\"x\":[0.0,31508.616813500397,31508.616813500397,0.0],\"xaxis\":\"x\",\"y\":[-85.0,-85.0,-95.0,-95.0],\"yaxis\":\"y\",\"type\":\"scatter\"},{\"hoverinfo\":\"text\",\"marker\":{\"color\":\"rgb(255,65,54)\"},\"mode\":\"lines\",\"x\":[0.0,48557.000568919,48557.000568919,31508.616813500397],\"xaxis\":\"x\",\"y\":[-75.0,-75.0,-90.0,-90.0],\"yaxis\":\"y\",\"type\":\"scatter\"},{\"hoverinfo\":\"text\",\"marker\":{\"color\":\"rgb(255,65,54)\"},\"mode\":\"lines\",\"x\":[0.0,59069.449239856636,59069.449239856636,48557.000568919],\"xaxis\":\"x\",\"y\":[-65.0,-65.0,-82.5,-82.5],\"yaxis\":\"y\",\"type\":\"scatter\"},{\"hoverinfo\":\"text\",\"marker\":{\"color\":\"rgb(255,65,54)\"},\"mode\":\"lines\",\"x\":[0.0,75112.53541686633,75112.53541686633,59069.449239856636],\"xaxis\":\"x\",\"y\":[-55.0,-55.0,-73.75,-73.75],\"yaxis\":\"y\",\"type\":\"scatter\"},{\"hoverinfo\":\"text\",\"marker\":{\"color\":\"rgb(255,65,54)\"},\"mode\":\"lines\",\"x\":[0.0,91737.00981065385,91737.00981065385,75112.53541686633],\"xaxis\":\"x\",\"y\":[-45.0,-45.0,-64.375,-64.375],\"yaxis\":\"y\",\"type\":\"scatter\"},{\"hoverinfo\":\"text\",\"marker\":{\"color\":\"rgb(255,65,54)\"},\"mode\":\"lines\",\"x\":[65002.367645340426,130142.15282048318,130142.15282048318,91737.00981065385],\"xaxis\":\"x\",\"y\":[-30.0,-30.0,-54.6875,-54.6875],\"yaxis\":\"y\",\"type\":\"scatter\"},{\"hoverinfo\":\"text\",\"marker\":{\"color\":\"rgb(255,65,54)\"},\"mode\":\"lines\",\"x\":[0.0,25637.383246930644,25637.383246930644,0.0],\"xaxis\":\"x\",\"y\":[-115.0,-115.0,-125.0,-125.0],\"yaxis\":\"y\",\"type\":\"scatter\"},{\"hoverinfo\":\"text\",\"marker\":{\"color\":\"rgb(255,65,54)\"},\"mode\":\"lines\",\"x\":[0.0,26757.091854310325,26757.091854310325,0.0],\"xaxis\":\"x\",\"y\":[-135.0,-135.0,-145.0,-145.0],\"yaxis\":\"y\",\"type\":\"scatter\"},{\"hoverinfo\":\"text\",\"marker\":{\"color\":\"rgb(255,65,54)\"},\"mode\":\"lines\",\"x\":[25637.383246930644,49773.34038167421,49773.34038167421,26757.091854310325],\"xaxis\":\"x\",\"y\":[-120.0,-120.0,-140.0,-140.0],\"yaxis\":\"y\",\"type\":\"scatter\"},{\"hoverinfo\":\"text\",\"marker\":{\"color\":\"rgb(255,65,54)\"},\"mode\":\"lines\",\"x\":[0.0,25708.921734487427,25708.921734487427,0.0],\"xaxis\":\"x\",\"y\":[-175.0,-175.0,-185.0,-185.0],\"yaxis\":\"y\",\"type\":\"scatter\"},{\"hoverinfo\":\"text\",\"marker\":{\"color\":\"rgb(255,65,54)\"},\"mode\":\"lines\",\"x\":[0.0,30974.84568968827,30974.84568968827,25708.921734487427],\"xaxis\":\"x\",\"y\":[-165.0,-165.0,-180.0,-180.0],\"yaxis\":\"y\",\"type\":\"scatter\"},{\"hoverinfo\":\"text\",\"marker\":{\"color\":\"rgb(255,65,54)\"},\"mode\":\"lines\",\"x\":[0.0,54448.67706152281,54448.67706152281,30974.84568968827],\"xaxis\":\"x\",\"y\":[-155.0,-155.0,-172.5,-172.5],\"yaxis\":\"y\",\"type\":\"scatter\"},{\"hoverinfo\":\"text\",\"marker\":{\"color\":\"rgb(255,65,54)\"},\"mode\":\"lines\",\"x\":[49773.34038167421,88598.89480687668,88598.89480687668,54448.67706152281],\"xaxis\":\"x\",\"y\":[-130.0,-130.0,-163.75,-163.75],\"yaxis\":\"y\",\"type\":\"scatter\"},{\"hoverinfo\":\"text\",\"marker\":{\"color\":\"rgb(255,65,54)\"},\"mode\":\"lines\",\"x\":[0.0,131808.1504858482,131808.1504858482,88598.89480687668],\"xaxis\":\"x\",\"y\":[-105.0,-105.0,-146.875,-146.875],\"yaxis\":\"y\",\"type\":\"scatter\"},{\"hoverinfo\":\"text\",\"marker\":{\"color\":\"rgb(255,65,54)\"},\"mode\":\"lines\",\"x\":[130142.15282048318,230669.24123027327,230669.24123027327,131808.1504858482],\"xaxis\":\"x\",\"y\":[-42.34375,-42.34375,-125.9375,-125.9375],\"yaxis\":\"y\",\"type\":\"scatter\"},{\"hoverinfo\":\"text\",\"marker\":{\"color\":\"rgb(255,65,54)\"},\"mode\":\"lines\",\"x\":[0.0,53779.587349662695,53779.587349662695,0.0],\"xaxis\":\"x\",\"y\":[-235.0,-235.0,-245.0,-245.0],\"yaxis\":\"y\",\"type\":\"scatter\"},{\"hoverinfo\":\"text\",\"marker\":{\"color\":\"rgb(255,65,54)\"},\"mode\":\"lines\",\"x\":[0.0,166532.2775027412,166532.2775027412,53779.587349662695],\"xaxis\":\"x\",\"y\":[-225.0,-225.0,-240.0,-240.0],\"yaxis\":\"y\",\"type\":\"scatter\"},{\"hoverinfo\":\"text\",\"marker\":{\"color\":\"rgb(255,65,54)\"},\"mode\":\"lines\",\"x\":[0.0,183286.07274422134,183286.07274422134,166532.2775027412],\"xaxis\":\"x\",\"y\":[-215.0,-215.0,-232.5,-232.5],\"yaxis\":\"y\",\"type\":\"scatter\"},{\"hoverinfo\":\"text\",\"marker\":{\"color\":\"rgb(255,65,54)\"},\"mode\":\"lines\",\"x\":[0.0,306054.1966204679,306054.1966204679,183286.07274422134],\"xaxis\":\"x\",\"y\":[-205.0,-205.0,-223.75,-223.75],\"yaxis\":\"y\",\"type\":\"scatter\"},{\"hoverinfo\":\"text\",\"marker\":{\"color\":\"rgb(255,65,54)\"},\"mode\":\"lines\",\"x\":[0.0,589191.4505241484,589191.4505241484,306054.1966204679],\"xaxis\":\"x\",\"y\":[-195.0,-195.0,-214.375,-214.375],\"yaxis\":\"y\",\"type\":\"scatter\"},{\"hoverinfo\":\"text\",\"marker\":{\"color\":\"rgb(255,65,54)\"},\"mode\":\"lines\",\"x\":[230669.24123027327,885016.0116674444,885016.0116674444,589191.4505241484],\"xaxis\":\"x\",\"y\":[-84.140625,-84.140625,-204.6875,-204.6875],\"yaxis\":\"y\",\"type\":\"scatter\"},{\"hoverinfo\":\"text\",\"marker\":{\"color\":\"rgb(0,116,217)\"},\"mode\":\"lines\",\"x\":[361104.2749265785,1724536.6921276276,1724536.6921276276,885016.0116674444],\"xaxis\":\"x\",\"y\":[-10.0,-10.0,-144.4140625,-144.4140625],\"yaxis\":\"y\",\"type\":\"scatter\"}],                        {\"autosize\":false,\"height\":null,\"hovermode\":\"closest\",\"showlegend\":false,\"width\":null,\"xaxis\":{\"mirror\":\"allticks\",\"rangemode\":\"tozero\",\"showgrid\":false,\"showline\":true,\"showticklabels\":true,\"ticks\":\"outside\",\"type\":\"linear\",\"zeroline\":false},\"yaxis\":{\"mirror\":\"allticks\",\"rangemode\":\"tozero\",\"showgrid\":false,\"showline\":true,\"showticklabels\":true,\"tickmode\":\"array\",\"ticks\":\"outside\",\"ticktext\":[\"Developer, back-end\",\"Developer, full-stack\",\"Data scientist or machine learning specialist\",\"Engineer, data\",\"Engineering manager\",\"Developer, embedded applications or devices\",\"Designer\",\"Data or business analyst\",\"Developer, QA or test\",\"Product manager\",\"Marketing or sales professional\",\"Academic researcher\",\"Scientist\",\"Developer, game or graphics\",\"Student\",\"Engineer, site reliability\",\"Senior Executive (C-Suite, VP, etc.)\",\"Educator\",\"Other (please specify):\",\"Developer, front-end\",\"Developer, desktop or enterprise applications\",\"Developer, mobile\",\"DevOps specialist\",\"Database administrator\",\"System administrator\"],\"tickvals\":[-5.0,-15.0,-25.0,-35.0,-45.0,-55.0,-65.0,-75.0,-85.0,-95.0,-105.0,-115.0,-125.0,-135.0,-145.0,-155.0,-165.0,-175.0,-185.0,-195.0,-205.0,-215.0,-225.0,-235.0,-245.0],\"type\":\"linear\",\"zeroline\":false},\"template\":{\"data\":{\"bar\":[{\"error_x\":{\"color\":\"#2a3f5f\"},\"error_y\":{\"color\":\"#2a3f5f\"},\"marker\":{\"line\":{\"color\":\"#E5ECF6\",\"width\":0.5},\"pattern\":{\"fillmode\":\"overlay\",\"size\":10,\"solidity\":0.2}},\"type\":\"bar\"}],\"barpolar\":[{\"marker\":{\"line\":{\"color\":\"#E5ECF6\",\"width\":0.5},\"pattern\":{\"fillmode\":\"overlay\",\"size\":10,\"solidity\":0.2}},\"type\":\"barpolar\"}],\"carpet\":[{\"aaxis\":{\"endlinecolor\":\"#2a3f5f\",\"gridcolor\":\"white\",\"linecolor\":\"white\",\"minorgridcolor\":\"white\",\"startlinecolor\":\"#2a3f5f\"},\"baxis\":{\"endlinecolor\":\"#2a3f5f\",\"gridcolor\":\"white\",\"linecolor\":\"white\",\"minorgridcolor\":\"white\",\"startlinecolor\":\"#2a3f5f\"},\"type\":\"carpet\"}],\"choropleth\":[{\"colorbar\":{\"outlinewidth\":0,\"ticks\":\"\"},\"type\":\"choropleth\"}],\"contour\":[{\"colorbar\":{\"outlinewidth\":0,\"ticks\":\"\"},\"colorscale\":[[0.0,\"#0d0887\"],[0.1111111111111111,\"#46039f\"],[0.2222222222222222,\"#7201a8\"],[0.3333333333333333,\"#9c179e\"],[0.4444444444444444,\"#bd3786\"],[0.5555555555555556,\"#d8576b\"],[0.6666666666666666,\"#ed7953\"],[0.7777777777777778,\"#fb9f3a\"],[0.8888888888888888,\"#fdca26\"],[1.0,\"#f0f921\"]],\"type\":\"contour\"}],\"contourcarpet\":[{\"colorbar\":{\"outlinewidth\":0,\"ticks\":\"\"},\"type\":\"contourcarpet\"}],\"heatmap\":[{\"colorbar\":{\"outlinewidth\":0,\"ticks\":\"\"},\"colorscale\":[[0.0,\"#0d0887\"],[0.1111111111111111,\"#46039f\"],[0.2222222222222222,\"#7201a8\"],[0.3333333333333333,\"#9c179e\"],[0.4444444444444444,\"#bd3786\"],[0.5555555555555556,\"#d8576b\"],[0.6666666666666666,\"#ed7953\"],[0.7777777777777778,\"#fb9f3a\"],[0.8888888888888888,\"#fdca26\"],[1.0,\"#f0f921\"]],\"type\":\"heatmap\"}],\"heatmapgl\":[{\"colorbar\":{\"outlinewidth\":0,\"ticks\":\"\"},\"colorscale\":[[0.0,\"#0d0887\"],[0.1111111111111111,\"#46039f\"],[0.2222222222222222,\"#7201a8\"],[0.3333333333333333,\"#9c179e\"],[0.4444444444444444,\"#bd3786\"],[0.5555555555555556,\"#d8576b\"],[0.6666666666666666,\"#ed7953\"],[0.7777777777777778,\"#fb9f3a\"],[0.8888888888888888,\"#fdca26\"],[1.0,\"#f0f921\"]],\"type\":\"heatmapgl\"}],\"histogram\":[{\"marker\":{\"pattern\":{\"fillmode\":\"overlay\",\"size\":10,\"solidity\":0.2}},\"type\":\"histogram\"}],\"histogram2d\":[{\"colorbar\":{\"outlinewidth\":0,\"ticks\":\"\"},\"colorscale\":[[0.0,\"#0d0887\"],[0.1111111111111111,\"#46039f\"],[0.2222222222222222,\"#7201a8\"],[0.3333333333333333,\"#9c179e\"],[0.4444444444444444,\"#bd3786\"],[0.5555555555555556,\"#d8576b\"],[0.6666666666666666,\"#ed7953\"],[0.7777777777777778,\"#fb9f3a\"],[0.8888888888888888,\"#fdca26\"],[1.0,\"#f0f921\"]],\"type\":\"histogram2d\"}],\"histogram2dcontour\":[{\"colorbar\":{\"outlinewidth\":0,\"ticks\":\"\"},\"colorscale\":[[0.0,\"#0d0887\"],[0.1111111111111111,\"#46039f\"],[0.2222222222222222,\"#7201a8\"],[0.3333333333333333,\"#9c179e\"],[0.4444444444444444,\"#bd3786\"],[0.5555555555555556,\"#d8576b\"],[0.6666666666666666,\"#ed7953\"],[0.7777777777777778,\"#fb9f3a\"],[0.8888888888888888,\"#fdca26\"],[1.0,\"#f0f921\"]],\"type\":\"histogram2dcontour\"}],\"mesh3d\":[{\"colorbar\":{\"outlinewidth\":0,\"ticks\":\"\"},\"type\":\"mesh3d\"}],\"parcoords\":[{\"line\":{\"colorbar\":{\"outlinewidth\":0,\"ticks\":\"\"}},\"type\":\"parcoords\"}],\"pie\":[{\"automargin\":true,\"type\":\"pie\"}],\"scatter\":[{\"marker\":{\"colorbar\":{\"outlinewidth\":0,\"ticks\":\"\"}},\"type\":\"scatter\"}],\"scatter3d\":[{\"line\":{\"colorbar\":{\"outlinewidth\":0,\"ticks\":\"\"}},\"marker\":{\"colorbar\":{\"outlinewidth\":0,\"ticks\":\"\"}},\"type\":\"scatter3d\"}],\"scattercarpet\":[{\"marker\":{\"colorbar\":{\"outlinewidth\":0,\"ticks\":\"\"}},\"type\":\"scattercarpet\"}],\"scattergeo\":[{\"marker\":{\"colorbar\":{\"outlinewidth\":0,\"ticks\":\"\"}},\"type\":\"scattergeo\"}],\"scattergl\":[{\"marker\":{\"colorbar\":{\"outlinewidth\":0,\"ticks\":\"\"}},\"type\":\"scattergl\"}],\"scattermapbox\":[{\"marker\":{\"colorbar\":{\"outlinewidth\":0,\"ticks\":\"\"}},\"type\":\"scattermapbox\"}],\"scatterpolar\":[{\"marker\":{\"colorbar\":{\"outlinewidth\":0,\"ticks\":\"\"}},\"type\":\"scatterpolar\"}],\"scatterpolargl\":[{\"marker\":{\"colorbar\":{\"outlinewidth\":0,\"ticks\":\"\"}},\"type\":\"scatterpolargl\"}],\"scatterternary\":[{\"marker\":{\"colorbar\":{\"outlinewidth\":0,\"ticks\":\"\"}},\"type\":\"scatterternary\"}],\"surface\":[{\"colorbar\":{\"outlinewidth\":0,\"ticks\":\"\"},\"colorscale\":[[0.0,\"#0d0887\"],[0.1111111111111111,\"#46039f\"],[0.2222222222222222,\"#7201a8\"],[0.3333333333333333,\"#9c179e\"],[0.4444444444444444,\"#bd3786\"],[0.5555555555555556,\"#d8576b\"],[0.6666666666666666,\"#ed7953\"],[0.7777777777777778,\"#fb9f3a\"],[0.8888888888888888,\"#fdca26\"],[1.0,\"#f0f921\"]],\"type\":\"surface\"}],\"table\":[{\"cells\":{\"fill\":{\"color\":\"#EBF0F8\"},\"line\":{\"color\":\"white\"}},\"header\":{\"fill\":{\"color\":\"#C8D4E3\"},\"line\":{\"color\":\"white\"}},\"type\":\"table\"}]},\"layout\":{\"annotationdefaults\":{\"arrowcolor\":\"#2a3f5f\",\"arrowhead\":0,\"arrowwidth\":1},\"autotypenumbers\":\"strict\",\"coloraxis\":{\"colorbar\":{\"outlinewidth\":0,\"ticks\":\"\"}},\"colorscale\":{\"diverging\":[[0,\"#8e0152\"],[0.1,\"#c51b7d\"],[0.2,\"#de77ae\"],[0.3,\"#f1b6da\"],[0.4,\"#fde0ef\"],[0.5,\"#f7f7f7\"],[0.6,\"#e6f5d0\"],[0.7,\"#b8e186\"],[0.8,\"#7fbc41\"],[0.9,\"#4d9221\"],[1,\"#276419\"]],\"sequential\":[[0.0,\"#0d0887\"],[0.1111111111111111,\"#46039f\"],[0.2222222222222222,\"#7201a8\"],[0.3333333333333333,\"#9c179e\"],[0.4444444444444444,\"#bd3786\"],[0.5555555555555556,\"#d8576b\"],[0.6666666666666666,\"#ed7953\"],[0.7777777777777778,\"#fb9f3a\"],[0.8888888888888888,\"#fdca26\"],[1.0,\"#f0f921\"]],\"sequentialminus\":[[0.0,\"#0d0887\"],[0.1111111111111111,\"#46039f\"],[0.2222222222222222,\"#7201a8\"],[0.3333333333333333,\"#9c179e\"],[0.4444444444444444,\"#bd3786\"],[0.5555555555555556,\"#d8576b\"],[0.6666666666666666,\"#ed7953\"],[0.7777777777777778,\"#fb9f3a\"],[0.8888888888888888,\"#fdca26\"],[1.0,\"#f0f921\"]]},\"colorway\":[\"#636efa\",\"#EF553B\",\"#00cc96\",\"#ab63fa\",\"#FFA15A\",\"#19d3f3\",\"#FF6692\",\"#B6E880\",\"#FF97FF\",\"#FECB52\"],\"font\":{\"color\":\"#2a3f5f\"},\"geo\":{\"bgcolor\":\"white\",\"lakecolor\":\"white\",\"landcolor\":\"#E5ECF6\",\"showlakes\":true,\"showland\":true,\"subunitcolor\":\"white\"},\"hoverlabel\":{\"align\":\"left\"},\"hovermode\":\"closest\",\"mapbox\":{\"style\":\"light\"},\"paper_bgcolor\":\"white\",\"plot_bgcolor\":\"#E5ECF6\",\"polar\":{\"angularaxis\":{\"gridcolor\":\"white\",\"linecolor\":\"white\",\"ticks\":\"\"},\"bgcolor\":\"#E5ECF6\",\"radialaxis\":{\"gridcolor\":\"white\",\"linecolor\":\"white\",\"ticks\":\"\"}},\"scene\":{\"xaxis\":{\"backgroundcolor\":\"#E5ECF6\",\"gridcolor\":\"white\",\"gridwidth\":2,\"linecolor\":\"white\",\"showbackground\":true,\"ticks\":\"\",\"zerolinecolor\":\"white\"},\"yaxis\":{\"backgroundcolor\":\"#E5ECF6\",\"gridcolor\":\"white\",\"gridwidth\":2,\"linecolor\":\"white\",\"showbackground\":true,\"ticks\":\"\",\"zerolinecolor\":\"white\"},\"zaxis\":{\"backgroundcolor\":\"#E5ECF6\",\"gridcolor\":\"white\",\"gridwidth\":2,\"linecolor\":\"white\",\"showbackground\":true,\"ticks\":\"\",\"zerolinecolor\":\"white\"}},\"shapedefaults\":{\"line\":{\"color\":\"#2a3f5f\"}},\"ternary\":{\"aaxis\":{\"gridcolor\":\"white\",\"linecolor\":\"white\",\"ticks\":\"\"},\"baxis\":{\"gridcolor\":\"white\",\"linecolor\":\"white\",\"ticks\":\"\"},\"bgcolor\":\"#E5ECF6\",\"caxis\":{\"gridcolor\":\"white\",\"linecolor\":\"white\",\"ticks\":\"\"}},\"title\":{\"x\":0.05},\"xaxis\":{\"automargin\":true,\"gridcolor\":\"white\",\"linecolor\":\"white\",\"ticks\":\"\",\"title\":{\"standoff\":15},\"zerolinecolor\":\"white\",\"zerolinewidth\":2},\"yaxis\":{\"automargin\":true,\"gridcolor\":\"white\",\"linecolor\":\"white\",\"ticks\":\"\",\"title\":{\"standoff\":15},\"zerolinecolor\":\"white\",\"zerolinewidth\":2}}}},                        {\"responsive\": true}                    ).then(function(){\n",
       "                            \n",
       "var gd = document.getElementById('43f69b12-a2b0-4c73-b9cb-df2165365839');\n",
       "var x = new MutationObserver(function (mutations, observer) {{\n",
       "        var display = window.getComputedStyle(gd).display;\n",
       "        if (!display || display === 'none') {{\n",
       "            console.log([gd, 'removed!']);\n",
       "            Plotly.purge(gd);\n",
       "            observer.disconnect();\n",
       "        }}\n",
       "}});\n",
       "\n",
       "// Listen for the removal of the full notebook cells\n",
       "var notebookContainer = gd.closest('#notebook-container');\n",
       "if (notebookContainer) {{\n",
       "    x.observe(notebookContainer, {childList: true});\n",
       "}}\n",
       "\n",
       "// Listen for the clearing of the current output cell\n",
       "var outputEl = gd.closest('.output');\n",
       "if (outputEl) {{\n",
       "    x.observe(outputEl, {childList: true});\n",
       "}}\n",
       "\n",
       "                        })                };                });            </script>        </div>"
      ]
     },
     "metadata": {},
     "output_type": "display_data"
    }
   ],
   "source": [
    "fig = ff.create_dendrogram(job_skill, orientation = 'left', labels = job_skill.index)\n",
    "fig.show()\n",
    "fig.write_html('../reports/figures/jobs_dendogram.html')"
   ]
  },
  {
   "cell_type": "code",
   "execution_count": 103,
   "id": "b62e6cbf",
   "metadata": {},
   "outputs": [
    {
     "data": {
      "application/vnd.plotly.v1+json": {
       "config": {
        "plotlyServerURL": "https://plot.ly"
       },
       "data": [
        {
         "colorscale": [
          [
           0,
           "#000004"
          ],
          [
           0.1111111111111111,
           "#180f3d"
          ],
          [
           0.2222222222222222,
           "#440f76"
          ],
          [
           0.3333333333333333,
           "#721f81"
          ],
          [
           0.4444444444444444,
           "#9e2f7f"
          ],
          [
           0.5555555555555556,
           "#cd4071"
          ],
          [
           0.6666666666666666,
           "#f1605d"
          ],
          [
           0.7777777777777778,
           "#fd9668"
          ],
          [
           0.8888888888888888,
           "#feca8d"
          ],
          [
           1,
           "#fcfdbf"
          ]
         ],
         "type": "heatmap",
         "x": [
          "APL",
          "Assembly",
          "Bash/Shell",
          "C",
          "C#",
          "C++",
          "COBOL",
          "Clojure",
          "Crystal",
          "Dart",
          "Delphi",
          "Elixir",
          "Erlang",
          "F#",
          "Go",
          "Groovy",
          "HTML/CSS",
          "Haskell",
          "Java",
          "JavaScript",
          "Julia",
          "Kotlin",
          "LISP",
          "Matlab",
          "Node.js",
          "Objective-C",
          "PHP",
          "Perl",
          "PowerShell",
          "Python",
          "R",
          "Ruby",
          "Rust",
          "SQL",
          "Scala",
          "Swift",
          "TypeScript",
          "VBA",
          "Cassandra",
          "Couchbase",
          "DynamoDB",
          "Elasticsearch",
          "Firebase",
          "IBM DB2",
          "MariaDB",
          "Microsoft SQL Server",
          "MongoDB",
          "MySQL",
          "Oracle",
          "PostgreSQL",
          "Redis",
          "SQLite",
          "AWS",
          "DigitalOcean",
          "Google Cloud Platform",
          "Heroku",
          "IBM Cloud or Watson",
          "Microsoft Azure",
          "Oracle Cloud Infrastructure",
          "ASP.NET",
          "ASP.NET Core ",
          "Angular",
          "Angular.js",
          "Django",
          "Drupal",
          "Express",
          "FastAPI",
          "Flask",
          "Gatsby",
          "Laravel",
          "React.js",
          "Ruby on Rails",
          "Spring",
          "Svelte",
          "Symfony",
          "Vue.js",
          "jQuery",
          ".NET Core / .NET 5",
          ".NET Framework",
          "Apache Spark",
          "Cordova",
          "Flutter",
          "Hadoop",
          "Keras",
          "NumPy",
          "Pandas",
          "Qt",
          "React Native",
          "TensorFlow",
          "Torch/PyTorch",
          "Ansible",
          "Chef",
          "Deno",
          "Docker",
          "Flow",
          "Git",
          "Kubernetes",
          "Pulumi",
          "Puppet",
          "Terraform",
          "Unity 3D",
          "Unreal Engine",
          "Xamarin",
          "Yarn",
          "Android Studio",
          "Atom",
          "Eclipse",
          "Emacs",
          "IPython/Jupyter",
          "IntelliJ",
          "Neovim",
          "NetBeans",
          "Notepad++",
          "PHPStorm",
          "PyCharm",
          "RStudio",
          "Rider",
          "RubyMine",
          "Sublime Text",
          "TextMate",
          "Vim",
          "Visual Studio",
          "Visual Studio Code",
          "Webstorm",
          "Xcode"
         ],
         "y": [
          "Academic researcher",
          "Data or business analyst",
          "Data scientist or machine learning specialist",
          "Database administrator",
          "Designer",
          "DevOps specialist",
          "Developer, QA or test",
          "Developer, back-end",
          "Developer, desktop or enterprise applications",
          "Developer, embedded applications or devices",
          "Developer, front-end",
          "Developer, full-stack",
          "Developer, game or graphics",
          "Developer, mobile",
          "Educator",
          "Engineer, data",
          "Engineer, site reliability",
          "Engineering manager",
          "Marketing or sales professional",
          "Other (please specify):",
          "Product manager",
          "Scientist",
          "Senior Executive (C-Suite, VP, etc.)",
          "Student",
          "System administrator"
         ],
         "ygap": 1,
         "z": [
          [
           972,
           4312.5,
           18134.5,
           14484.5,
           9480.5,
           17373.5,
           777.5,
           1716,
           663,
           2723.5,
           1663.5,
           1136,
           1046.5,
           1164.5,
           5800,
           1532,
           20484.5,
           2758,
           13758.5,
           22668.5,
           4859.5,
           4020.5,
           2219,
           6614.5,
           11276,
           1902,
           7966.5,
           2814.5,
           4739,
           34403,
           10444,
           2964,
           7704,
           18381.5,
           2302.5,
           2843.5,
           9662,
           2494,
           1959.5,
           1801.5,
           1985,
           5545.5,
           4670.5,
           1295,
           8666.5,
           7763,
           11322.5,
           17061,
           4747.5,
           18534.5,
           7186.5,
           17812.5,
           15712.5,
           5566.5,
           11148,
           5284,
           1974.5,
           8826,
           1255.5,
           3493,
           4520.5,
           6252,
           3728.5,
           7203,
           1573,
           5434.5,
           3096.5,
           9688,
           1347.5,
           3031.5,
           10082.5,
           2304.5,
           4708.5,
           1650.5,
           1465.5,
           7032,
           10483,
           6790.5,
           6616,
           4172,
           2275.5,
           3855,
           3297,
           9848,
           25279.5,
           21012.5,
           6782,
           3373,
           14766.5,
           12082,
           4303,
           938.5,
           1139,
           24705,
           811.5,
           41124.5,
           8863,
           569.5,
           1427.5,
           2731.5,
           4673.5,
           2647.5,
           2256,
           4225.5,
           8228,
           6281.5,
           7479.5,
           7005,
           15251,
           10874,
           2585,
           4223,
           12464,
           2728.5,
           12544,
           7465,
           1639,
           858,
           8900.5,
           1068,
           15675,
           11155,
           26763,
           3180.5,
           5007.5
          ],
          [
           1434.5,
           3308.5,
           23809.5,
           10572,
           27781,
           12231,
           1065,
           2580,
           1184,
           3693,
           5081.5,
           1577,
           1113,
           2473.5,
           9168,
           2383.5,
           41870.5,
           1730,
           20658,
           46798,
           2966,
           5649,
           2021,
           3264.5,
           24183.5,
           2411,
           17009,
           3703,
           14242,
           43180,
           12888.5,
           4799,
           6206.5,
           56980.5,
           4274,
           3821.5,
           22148.5,
           9992,
           4108.5,
           2143,
           5937.5,
           12623,
           8586,
           3521.5,
           14915.5,
           36431.5,
           18133,
           33095.5,
           15458.5,
           33429,
           15336,
           25287,
           32512,
           9399.5,
           19257.5,
           7281.5,
           2974,
           26254,
           2270.5,
           14365,
           16961,
           14037,
           8152.5,
           10338,
           3143.5,
           10357.5,
           4378,
           12725.5,
           1983,
           5584.5,
           18510.5,
           4195,
           7988.5,
           2554.5,
           2980.5,
           12548,
           24548.5,
           21473,
           22096.5,
           9326.5,
           4195,
           5999.5,
           7135,
           8016.5,
           24373.5,
           26122,
           4343.5,
           6482.5,
           13948,
           9673.5,
           6231.5,
           1608,
           1592,
           37690.5,
           1492,
           63466.5,
           16875.5,
           876,
           1969.5,
           6265,
           5116.5,
           2972,
           4720,
           9212,
           13000.5,
           8262.5,
           12180.5,
           4755,
           17671.5,
           16628.5,
           2354.5,
           5991.5,
           31622.5,
           5424,
           16007.5,
           10394.5,
           3272.5,
           1220,
           13759.5,
           946.5,
           19465.5,
           30235.5,
           50195.5,
           5016,
           7887
          ],
          [
           924,
           4249,
           29302,
           16468.5,
           15117,
           22106,
           833,
           3340.5,
           874,
           3368.5,
           1934.5,
           1770,
           1159,
           2011.5,
           11099,
           2282.5,
           29829.5,
           3199,
           20875.5,
           35349.5,
           7369,
           5372,
           2896,
           7152,
           18329,
           2345,
           9037.5,
           3763.5,
           8754.5,
           68947,
           20791,
           4647,
           10105.5,
           43198.5,
           7748.5,
           3873,
           15992.5,
           5168.5,
           5298.5,
           1963,
           7349,
           15537.5,
           7330,
           2489,
           10822,
           19796.5,
           19801,
           28136,
           10312.5,
           38015.5,
           16763,
           27166,
           39920.5,
           8961.5,
           24612.5,
           8728,
           3589.5,
           22847.5,
           2084.5,
           5968.5,
           7463.5,
           9383,
           5620.5,
           13913.5,
           1763,
           7741.5,
           10222.5,
           23915.5,
           1658.5,
           3413.5,
           16689,
           3674.5,
           6270,
           2371.5,
           1529.5,
           10011.5,
           14291.5,
           11116.5,
           10401.5,
           16737.5,
           2721,
           5060.5,
           10705.5,
           28479,
           56789,
           53324.5,
           7743.5,
           5404,
           38348,
           31810,
           7567.5,
           1770.5,
           1576.5,
           49067,
           1365.5,
           71652.5,
           21967,
           919,
           2323,
           7983,
           6125.5,
           3489.5,
           2907.5,
           7929,
           10262,
           9853,
           10982,
           8555.5,
           39062.5,
           18370.5,
           4301.5,
           4517.5,
           23964.5,
           3314.5,
           29158.5,
           16400,
           1557,
           1144.5,
           15921.5,
           1264.5,
           27481.5,
           18226.5,
           50262.5,
           3967,
           7248.5
          ],
          [
           1173,
           6413.5,
           46648.5,
           20348,
           53973,
           23545,
           1789.5,
           2947.5,
           2357,
           8240.5,
           9056,
           4065.5,
           2259.5,
           3617,
           18471,
           3755,
           81245,
           2641,
           34638.5,
           89999.5,
           1601,
           9909.5,
           2723,
           3206.5,
           46970,
           4600.5,
           41772.5,
           8269.5,
           26022,
           54498.5,
           7449,
           10639,
           11670,
           98792,
           3408,
           7746.5,
           44151,
           12967,
           5389,
           3482.5,
           9713,
           22858,
           15618.5,
           4586.5,
           35696,
           58650,
           29745,
           61802.5,
           17954,
           58671.5,
           34458,
           44034,
           54936.5,
           19682.5,
           28725,
           12175.5,
           3187.5,
           40179.5,
           3102,
           28094.5,
           32545,
           25932,
           14995,
           14467.5,
           5398.5,
           20320,
           4853.5,
           14320,
           3586,
           15999.5,
           34583.5,
           9611,
           11868.5,
           4750,
           7205,
           27182.5,
           51228,
           40998.5,
           42481,
           5776,
           8414,
           11183.5,
           4956.5,
           5048,
           17782.5,
           17110.5,
           6925.5,
           11747.5,
           13193.5,
           7189.5,
           16091.5,
           3213.5,
           3672,
           66532.5,
           2053,
           106518.5,
           28739,
           1718.5,
           4375.5,
           12816.5,
           10251,
           5312,
           10137,
           19698.5,
           27023.5,
           13227,
           18103,
           7391,
           12236,
           26999.5,
           5329.5,
           11039.5,
           49830,
           15255,
           17741.5,
           4826,
           6670.5,
           2212.5,
           22667,
           1983,
           36924.5,
           54814,
           82781.5,
           10282.5,
           16362
          ],
          [
           1159,
           5644.5,
           25714.5,
           16591.5,
           35476.5,
           20225,
           1452.5,
           1934,
           1280,
           6892.5,
           5572,
           1960,
           1393,
           2382.5,
           9239,
           2632.5,
           60933,
           1651.5,
           26701.5,
           65783,
           1158.5,
           7120.5,
           2393.5,
           3096.5,
           36480.5,
           4354.5,
           26207.5,
           4369.5,
           14843.5,
           35320,
           4422.5,
           5555,
           7059.5,
           54000,
           2137,
           6416.5,
           34611,
           8305.5,
           3694,
           2752.5,
           5612,
           11153.5,
           15020.5,
           3390,
           18467.5,
           32752.5,
           21802.5,
           41559,
           13211,
           31681.5,
           16705,
           29295.5,
           33500,
           11774.5,
           20602.5,
           10495,
           2508.5,
           25352,
           1973.5,
           17723.5,
           20182,
           21957.5,
           12164,
           9332,
           3836,
           16413.5,
           3173,
           8307.5,
           4039,
           9261.5,
           28288.5,
           4593,
           8840.5,
           4866,
           3858.5,
           20991,
           32735,
           26906.5,
           27778,
           3445,
           7030.5,
           9155.5,
           2849.5,
           3673,
           11526.5,
           10070.5,
           6620,
           9387,
           9390,
           4878.5,
           6002,
           1661.5,
           3350,
           38648.5,
           1576,
           74245,
           15419,
           904.5,
           2547,
           4436.5,
           10044.5,
           4917,
           7173,
           14647.5,
           20900.5,
           10296.5,
           15998,
           5445.5,
           7228.5,
           18783.5,
           2132,
           8086,
           34579.5,
           8235,
           10567,
           3130,
           3746.5,
           1216,
           17076.5,
           1336.5,
           18518.5,
           38791.5,
           60971,
           8097,
           14131
          ],
          [
           1085,
           6750,
           83621,
           25625,
           56109,
           27838.5,
           1331,
           5628.5,
           2736,
           8852.5,
           4073,
           7123.5,
           3548.5,
           5677.5,
           44943.5,
           14446,
           89390,
           4994,
           54823.5,
           107882.5,
           1969,
           17467.5,
           4114,
           3280.5,
           67883,
           5622,
           34573.5,
           8980.5,
           36722,
           86492,
           6673,
           19345,
           24496,
           96491.5,
           7669,
           9238.5,
           69182,
           6662.5,
           10907.5,
           5347.5,
           24971.5,
           50929.5,
           17675.5,
           4408,
           38713,
           52861.5,
           46635,
           66208.5,
           21245.5,
           88602.5,
           64108,
           51456.5,
           95469,
           28507.5,
           46706,
           16461.5,
           4740,
           63111.5,
           4046,
           24931.5,
           40507,
           36587,
           17703,
           20387,
           4979,
           30819.5,
           9293.5,
           26669.5,
           6322.5,
           13700.5,
           53353.5,
           13892.5,
           28016.5,
           7143,
           8221.5,
           35474.5,
           43815,
           47545.5,
           37083,
           9742,
           8092.5,
           12495,
           7195.5,
           7036,
           24185,
           22833.5,
           8290,
           14490,
           17351,
           9569.5,
           46186,
           8727.5,
           5668.5,
           130279,
           2777,
           156247,
           78620,
           5372,
           9525.5,
           50851.5,
           10203,
           5830,
           9052,
           31503,
           25040.5,
           14445,
           21434,
           12539.5,
           17071,
           52357.5,
           11871.5,
           8162.5,
           50538.5,
           14333.5,
           28949.5,
           4050,
           11306.5,
           3802,
           29293,
           2318,
           65304.5,
           52554.5,
           118923,
           15930,
           18513
          ],
          [
           881.5,
           4006.5,
           29113,
           14120,
           28997,
           16508,
           894,
           1832,
           1005.5,
           4814,
           3315,
           2774.5,
           1806.5,
           2554,
           11816,
           5481.5,
           44772.5,
           2182.5,
           27074.5,
           52653,
           997.5,
           8990,
           1623.5,
           2199.5,
           30401.5,
           3805.5,
           18581.5,
           4071,
           14832.5,
           35246,
           3678.5,
           6648,
           7616,
           45942,
           2476,
           5623,
           29073,
           5538,
           3646.5,
           2434.5,
           6959,
           13903,
           10203.5,
           2722,
           16889,
           25670,
           20604,
           33287.5,
           11797,
           31354.5,
           19481,
           25581.5,
           32725,
           11578.5,
           18018,
           8566,
           2220.5,
           23684,
           2066,
           13111.5,
           17337,
           17384,
           10284.5,
           8671,
           2845.5,
           13406,
           3142.5,
           8791.5,
           3298,
           7024.5,
           24747.5,
           5704.5,
           12303.5,
           3655.5,
           4025,
           16030,
           24744.5,
           22582,
           21480,
           3457,
           4924,
           6687,
           2896.5,
           3094.5,
           10847,
           9370.5,
           5020,
           8740,
           7642.5,
           4203.5,
           9889,
           2221.5,
           2496,
           44595.5,
           1486,
           67273.5,
           20258,
           1232,
           2957,
           7975,
           6943.5,
           3712.5,
           5807.5,
           13023.5,
           16601.5,
           7409.5,
           13595.5,
           5046.5,
           7452.5,
           23368.5,
           3320,
           5924,
           28793,
           7611,
           13769.5,
           2138.5,
           4677.5,
           1967.5,
           13486,
           1369.5,
           22614.5,
           28865,
           51089,
           7591.5,
           10673.5
          ],
          [
           3380,
           20520,
           184157.5,
           79866,
           202221.5,
           100154,
           3898.5,
           23325.5,
           6165,
           33867.5,
           17665,
           23968,
           11383,
           15520,
           109697.5,
           26967.5,
           294379.5,
           15090,
           208821.5,
           372532.5,
           7080,
           64214.5,
           10909.5,
           10844.5,
           199347,
           14686.5,
           121674,
           21126.5,
           75847.5,
           250372,
           19476.5,
           54766,
           74680.5,
           340512.5,
           29656,
           29885.5,
           213326.5,
           24366,
           33533.5,
           15520,
           65107.5,
           129383.5,
           63799,
           15463,
           110712,
           186002,
           155442,
           240778,
           79061,
           287412.5,
           189378,
           166548.5,
           288704.5,
           80610.5,
           138089.5,
           69893,
           11515,
           173204.5,
           9810,
           91146.5,
           133739.5,
           121426.5,
           56677.5,
           64983,
           13682,
           95100,
           27658,
           70127.5,
           16856,
           49661.5,
           184633.5,
           46257.5,
           106641,
           21090,
           25011,
           109997.5,
           156083,
           163560.5,
           139954,
           31615.5,
           25979,
           45679,
           22836.5,
           24146,
           80421,
           73246.5,
           25234.5,
           49718,
           54118.5,
           30355,
           70049,
           12484.5,
           16145.5,
           379352.5,
           7655,
           539789,
           188340.5,
           7477,
           15379,
           83241.5,
           39002.5,
           18188,
           30756,
           93935,
           98887.5,
           48218.5,
           81801,
           41264,
           53367,
           198581,
           29752,
           33053,
           180019.5,
           51795,
           92597.5,
           12726,
           34931.5,
           12826.5,
           103676,
           6758,
           169498.5,
           204051,
           405218.5,
           47823.5,
           60899
          ],
          [
           2018,
           14241.5,
           66827,
           46782,
           132358.5,
           66038.5,
           2836.5,
           6029.5,
           2766.5,
           13928,
           20632,
           4555.5,
           3065.5,
           8895.5,
           28360,
           9629.5,
           128610,
           5214.5,
           79303,
           148175,
           2701,
           22628,
           4673,
           6527.5,
           74036.5,
           9707,
           41367,
           7937,
           47832.5,
           91366,
           8562,
           12147,
           25812,
           143630,
           7015,
           16165,
           88776,
           19093,
           9965,
           6139,
           16780.5,
           34307.5,
           25749,
           9128,
           39933.5,
           114907,
           55055.5,
           87723.5,
           42732,
           86580,
           46652,
           85605,
           84755,
           22935.5,
           43420,
           19050.5,
           5076,
           87625,
           5083,
           59574.5,
           80274.5,
           58417.5,
           27694,
           18053.5,
           5032,
           32527.5,
           6374.5,
           21299.5,
           5346,
           12953.5,
           64531,
           9448.5,
           35182,
           8236.5,
           6171,
           39044.5,
           70267.5,
           106370.5,
           103501.5,
           9086.5,
           13384,
           20064,
           7053.5,
           9282,
           30268.5,
           23797,
           22581,
           20326,
           23482.5,
           12287,
           19742,
           4344,
           6136,
           119709,
           3670,
           209079,
           52603,
           2538.5,
           5418.5,
           18113.5,
           22609.5,
           10822.5,
           25131.5,
           28299.5,
           48345,
           16721,
           40640,
           13937,
           19330,
           63012,
           7798.5,
           16567,
           106488,
           13102,
           31316,
           6389,
           17274.5,
           3171,
           35183,
           2413.5,
           52042.5,
           139096,
           170089,
           18246.5,
           32000
          ],
          [
           998.5,
           12584.5,
           34322,
           40589,
           35613,
           44684.5,
           1326,
           1929,
           1489,
           6604,
           7000,
           2623,
           1950,
           2450.5,
           12667,
           3368,
           40936,
           2498.5,
           27030.5,
           48752,
           1788,
           11008.5,
           2494,
           5853.5,
           27513,
           5081.5,
           18640.5,
           4768.5,
           13986,
           48607,
           3517.5,
           5238,
           14917,
           41006.5,
           2500.5,
           7845.5,
           26143,
           6385,
           3420.5,
           2848,
           5551,
           10820.5,
           12683.5,
           2511.5,
           18482,
           26448,
           20553,
           33971.5,
           10432.5,
           32431.5,
           16104.5,
           39534.5,
           32160.5,
           10838,
           19759.5,
           7759.5,
           2379.5,
           24871.5,
           2136.5,
           14526,
           17415.5,
           17168,
           10468,
           8764.5,
           2534,
           12848,
           3402.5,
           11906,
           2526.5,
           5980,
           20992,
           3953,
           8457,
           3232.5,
           3039.5,
           15161.5,
           23477.5,
           27031,
           28043,
           3350.5,
           6760,
           9595.5,
           2577,
           5877,
           19598,
           13251,
           16553,
           8986,
           13483.5,
           7532,
           9366,
           1803.5,
           2472.5,
           47366.5,
           1638,
           77918.5,
           17210,
           750.5,
           2420.5,
           6260,
           9954.5,
           5855,
           8816,
           10400,
           25908.5,
           7779,
           18908.5,
           8268.5,
           10331.5,
           20810,
           4936.5,
           7322,
           35276,
           5869,
           15791,
           2768,
           4164.5,
           1420,
           14676.5,
           1215,
           28932.5,
           40659,
           59472.5,
           6475.5,
           15015.5
          ],
          [
           2054,
           11041.5,
           87457,
           39627.5,
           121084,
           50028,
           2396.5,
           10052.5,
           2938.5,
           27038.5,
           12669,
           10087,
           4520.5,
           7528.5,
           42212,
           10215,
           251108,
           6794,
           96717.5,
           288729,
           2855.5,
           33897.5,
           5100.5,
           6613.5,
           169280.5,
           11945,
           87597,
           9460,
           43959.5,
           112027.5,
           10158,
           24126,
           32248,
           181760.5,
           8324,
           24757,
           191551,
           16378,
           11280,
           8412.5,
           27888,
           53243,
           62322,
           8450,
           65670,
           108480.5,
           98561,
           148110.5,
           39864.5,
           136240,
           80057.5,
           97235.5,
           146159,
           51065,
           81764.5,
           49801,
           6850.5,
           99603,
           5010.5,
           59926.5,
           77728,
           108854,
           48065,
           31378,
           10873,
           87506.5,
           10070,
           28093.5,
           20896.5,
           34876,
           166015,
           21525.5,
           41844.5,
           22417.5,
           14505.5,
           89733,
           117654.5,
           93007,
           86467.5,
           9085,
           26675,
           35778,
           7061.5,
           9848.5,
           30518.5,
           26735.5,
           12950.5,
           49978.5,
           28000,
           12933,
           24752,
           4819,
           16327.5,
           181955,
           6656,
           307537,
           75667,
           2740,
           7350.5,
           27165,
           29331,
           13545.5,
           21440,
           86880,
           78337.5,
           31122.5,
           43697.5,
           16171,
           19190.5,
           87199,
           12474,
           21262.5,
           107212.5,
           33360.5,
           36322.5,
           6267,
           16734,
           5376,
           61946,
           4249,
           75092,
           125664,
           264800.5,
           43400,
           54453
          ],
          [
           3030.5,
           20178.5,
           180474.5,
           71605,
           249216,
           92768,
           3980.5,
           24138.5,
           6560.5,
           44287.5,
           17861.5,
           25090,
           9561,
           16712,
           95719.5,
           24153,
           433963,
           14544.5,
           203126,
           523866.5,
           5947,
           65113,
           9686,
           12339.5,
           294774,
           18717.5,
           156885.5,
           19377,
           90644.5,
           241748.5,
           20782.5,
           64008.5,
           68805.5,
           387544.5,
           20923.5,
           39066.5,
           331105.5,
           29092.5,
           26056,
           15531,
           66035.5,
           127714.5,
           93600.5,
           15775,
           122872,
           227390,
           187225.5,
           275780,
           82218.5,
           301313,
           191067,
           184572,
           312253,
           98943.5,
           152784.5,
           93649,
           12279.5,
           201704.5,
           9313,
           122880,
           173653.5,
           187736.5,
           82421.5,
           66479,
           17607.5,
           149076.5,
           23081.5,
           63912.5,
           29416.5,
           66653.5,
           288842,
           56759.5,
           98875,
           33300,
           28754.5,
           159717.5,
           216369.5,
           200210.5,
           170784.5,
           21780.5,
           40399,
           60665.5,
           17523,
           22105.5,
           72767,
           64831.5,
           23060,
           79177,
           57062,
           28625,
           62587,
           12072.5,
           24707,
           392042,
           9821.5,
           591163,
           175972.5,
           6516.5,
           16842.5,
           74812.5,
           47323,
           22130.5,
           38910,
           144659.5,
           125599,
           53853,
           84698.5,
           36028.5,
           43840.5,
           183200.5,
           28034,
           36980.5,
           203047.5,
           62867,
           81172.5,
           12995.5,
           38102.5,
           15045.5,
           113972.5,
           7527.5,
           159940,
           243679.5,
           490735,
           69384,
           84973
          ],
          [
           625.5,
           4280.5,
           11589,
           10614.5,
           20333.5,
           16799,
           503,
           1145.5,
           531.5,
           3312,
           1904,
           1302,
           930.5,
           1364.5,
           4701,
           1582.5,
           19657,
           1200.5,
           11562,
           23075,
           1011.5,
           4453,
           1302,
           1563.5,
           14569.5,
           3078.5,
           8930.5,
           1695,
           5475,
           16218.5,
           1842.5,
           2751.5,
           6488,
           15425,
           1109.5,
           4460,
           13710.5,
           2193.5,
           1598.5,
           1255.5,
           3147.5,
           4701,
           6691.5,
           979,
           7277.5,
           8697,
           9863.5,
           14442,
           3722.5,
           13153,
           7936,
           14149.5,
           14556,
           5861,
           9535.5,
           5064,
           1425,
           9467.5,
           1063.5,
           5391.5,
           7320,
           7033.5,
           4274,
           3656.5,
           1441.5,
           7472.5,
           1525,
           4161.5,
           1614.5,
           3245.5,
           11607,
           2228.5,
           3812.5,
           2310.5,
           1786,
           8034.5,
           9924.5,
           12903.5,
           12809.5,
           1363,
           2967.5,
           4703.5,
           1256.5,
           2473,
           6541,
           4389,
           5021.5,
           4793.5,
           5948.5,
           3921.5,
           2732,
           955,
           1936,
           17013.5,
           963,
           32053.5,
           7241.5,
           608,
           1280.5,
           2517.5,
           17368,
           8468,
           3941.5,
           5061,
           11197.5,
           3658,
           5258.5,
           2661,
           3545.5,
           9445,
           1708.5,
           3082,
           13247.5,
           3159,
           5620,
           1423.5,
           5042,
           858,
           7342.5,
           885.5,
           9259,
           18897.5,
           25367,
           4026.5,
           8884.5
          ],
          [
           1255.5,
           7900.5,
           39052,
           26816,
           61893.5,
           32518.5,
           1652,
           3241,
           1657,
           33822,
           9102.5,
           4756,
           2379,
           3370.5,
           20021,
           6436.5,
           98950.5,
           2875,
           67411,
           119109,
           1686.5,
           44872,
           2437.5,
           4313.5,
           74698.5,
           21227,
           43460.5,
           4123.5,
           18061,
           55854,
           5135.5,
           12468,
           13850,
           85578.5,
           3469,
           41708.5,
           78992.5,
           8577.5,
           6246,
           5623,
           13668,
           24053,
           55286.5,
           3700,
           33591.5,
           52003,
           50486.5,
           78844,
           20018.5,
           62473.5,
           36410.5,
           80966,
           75857,
           27613.5,
           55927,
           26071,
           4480,
           53213.5,
           3213,
           29126.5,
           37174.5,
           49245.5,
           23286,
           15297,
           5461,
           39688,
           4837,
           13251.5,
           7453,
           19287.5,
           62804.5,
           10585,
           21537,
           8120,
           6952,
           36244.5,
           50300.5,
           46341.5,
           43879,
           4700,
           24634,
           43029,
           4131.5,
           6657,
           16707,
           14076.5,
           8751,
           40598.5,
           19316.5,
           8583.5,
           11041,
           2575.5,
           6029,
           82206,
           4053.5,
           153838,
           33333.5,
           1489.5,
           3864.5,
           11590.5,
           21274,
           9493.5,
           23905,
           34976.5,
           96457,
           18142.5,
           26980,
           7432,
           11131,
           54238,
           5506.5,
           14197.5,
           51208,
           15938.5,
           22235.5,
           3920,
           9623.5,
           3267.5,
           35597,
           3601,
           35058.5,
           63674,
           126585.5,
           19797.5,
           74253
          ],
          [
           970,
           3538.5,
           17444.5,
           11327.5,
           14504.5,
           12431,
           715.5,
           2288.5,
           687.5,
           3702,
           2620,
           1840.5,
           1101.5,
           1684.5,
           7071,
           2249,
           28097.5,
           2449.5,
           16813,
           31184,
           2358.5,
           5800.5,
           2137.5,
           2856.5,
           18587,
           2702.5,
           12643,
           2836.5,
           6436.5,
           24385,
           5391.5,
           4632.5,
           5741.5,
           24955.5,
           2361,
           4065,
           17045,
           3288.5,
           2267.5,
           1755,
           4118.5,
           7631.5,
           7410.5,
           1523.5,
           11412.5,
           12704,
           13851.5,
           20917.5,
           6341.5,
           21683,
           10857,
           18983.5,
           20440.5,
           7929,
           13167.5,
           8120,
           1838,
           12721,
           1467,
           6366,
           8650.5,
           9925.5,
           5521.5,
           6408.5,
           2089,
           9674,
           2426.5,
           7832,
           2641.5,
           4912,
           16194,
           3691.5,
           6637.5,
           2799.5,
           2417,
           10454,
           14649,
           11451,
           10304.5,
           3171,
           3645,
           5153.5,
           2518.5,
           4524.5,
           11723,
           10118.5,
           4309,
           5762.5,
           8242.5,
           5281.5,
           5348.5,
           1360.5,
           1971,
           26340,
           1170,
           41561,
           11565.5,
           879.5,
           1730,
           4463.5,
           5438,
           3192,
           3958,
           8850,
           10861,
           6030.5,
           7976.5,
           4753,
           8809.5,
           14110.5,
           2725,
           4522.5,
           15022,
           4704,
           8540.5,
           3738.5,
           2442,
           1220.5,
           9281,
           1171,
           14473,
           14895.5,
           31436,
           4916,
           7620.5
          ],
          [
           1154,
           4893.5,
           35331,
           15638.5,
           22036.5,
           19016,
           1160,
           4372,
           895.5,
           3948,
           3396.5,
           2541,
           1693,
           2478.5,
           16951.5,
           3831.5,
           37594,
           2899.5,
           29915.5,
           45916.5,
           3591,
           7051.5,
           2653.5,
           5186,
           25430.5,
           2589.5,
           14472,
           4449.5,
           12935.5,
           60871,
           9929,
           6547,
           11905,
           56155.5,
           12092,
           3810,
           22943.5,
           6827.5,
           7484,
           3173.5,
           11045.5,
           21214,
           8877.5,
           3112,
           15107.5,
           25728,
           22928,
           35032.5,
           12506,
           45514,
           24775.5,
           28710.5,
           46548.5,
           10609,
           26645,
           8938,
           2978.5,
           26793.5,
           2207,
           9403.5,
           11969,
           12480,
           8090.5,
           12949.5,
           1813.5,
           11540,
           8080,
           19115.5,
           2300.5,
           4976,
           22289,
           4897,
           11435.5,
           2967,
           2437,
           13476,
           20051.5,
           16712,
           15722.5,
           20184.5,
           3196.5,
           6133,
           13106,
           10910,
           34322,
           34947,
           6690.5,
           6742.5,
           18937.5,
           13505.5,
           12401,
           2496,
           2471,
           56267,
           1794,
           77319.5,
           29562,
           1355,
           3220,
           15343,
           5906.5,
           3232.5,
           3848.5,
           12054,
           12301.5,
           9658.5,
           12992,
           8350,
           24404,
           28422.5,
           5260,
           5335.5,
           29376.5,
           4732.5,
           25330.5,
           7391,
           3052,
           1437,
           16552,
           1325,
           31095.5,
           24230,
           56263,
           5716,
           8025.5
          ],
          [
           624.5,
           3219,
           30919,
           10324,
           13800.5,
           10442.5,
           649,
           2719.5,
           1181,
           2720,
           1274.5,
           3675,
           2110.5,
           1846.5,
           21088,
           4678,
           26857,
           2384,
           17960,
           33372,
           1139,
           5607,
           1894.5,
           1451,
           21145.5,
           1821.5,
           12432,
           4711.5,
           10335,
           32536.5,
           3022.5,
           8874.5,
           10737,
           31288,
           3322,
           2752.5,
           18984,
           2518,
           5170,
           2341.5,
           10511.5,
           19834.5,
           5459.5,
           1581,
           14799.5,
           13065,
           15115,
           24165,
           5730,
           31982.5,
           25563,
           18194.5,
           35289,
           10834.5,
           19379,
           6197,
           1898,
           17855.5,
           1876.5,
           5670,
           9037.5,
           8767,
           5196.5,
           7840,
           2196.5,
           10025,
           3472.5,
           10498,
           2485.5,
           4661.5,
           16987,
           6588.5,
           8066,
           2972.5,
           2806,
           11338,
           13980.5,
           11494,
           8815.5,
           3719,
           2212,
           3843,
           2926.5,
           2573,
           9078,
           8578,
           3128,
           4763,
           6130.5,
           3653,
           18732.5,
           3917.5,
           2306.5,
           43290.5,
           1104,
           52055.5,
           28923.5,
           2576.5,
           4416,
           22332.5,
           3316,
           2210,
           2021,
           10388.5,
           7807,
           5455.5,
           6625,
           5855,
           6065,
           16877,
           5686,
           2747,
           13203,
           5091.5,
           10062,
           1576,
           2900.5,
           1836,
           10416,
           1183,
           26507,
           12682,
           37344,
           4730.5,
           5530.5
          ],
          [
           868,
           4780.5,
           35841.5,
           15366.5,
           29904.5,
           17702,
           826.5,
           5027,
           1535.5,
           6240,
           3851,
           5692,
           2841.5,
           3576.5,
           21707,
           5752.5,
           50063.5,
           3048.5,
           31598.5,
           64324,
           2077,
           11143.5,
           2591.5,
           2379,
           39572.5,
           4558,
           18212,
           4023,
           12504.5,
           44604,
           4182,
           13219,
           13977,
           53528,
           5553.5,
           7320,
           39924,
           3836,
           6522.5,
           3478,
           15038,
           27271,
           12893,
           2957.5,
           17337,
           27694,
           27000.5,
           37514,
           10124,
           50537,
           38199,
           28363.5,
           59507,
           15510.5,
           29971,
           13482,
           2966.5,
           30922.5,
           2172,
           12936,
           19512,
           20808,
           10959.5,
           10035.5,
           2778,
           18982.5,
           4629,
           12737.5,
           4847.5,
           7356,
           36874,
           10918.5,
           14786,
           4731.5,
           3941.5,
           19653.5,
           22776.5,
           24093.5,
           19898,
           6470,
           6529,
           9204,
           4453.5,
           4463,
           15781.5,
           14467,
           5519.5,
           12063,
           11401,
           6398,
           14545,
           3608,
           3764,
           66424,
           1769.5,
           88321,
           36303.5,
           2311,
           4270,
           21941,
           6501,
           3424,
           5448.5,
           19409.5,
           18662.5,
           9423.5,
           12604,
           8629.5,
           10776.5,
           30265,
           5196.5,
           4672,
           25271.5,
           7367,
           15354,
           2769.5,
           6296.5,
           3259,
           19487.5,
           2106.5,
           30706.5,
           28519,
           67841,
           9992.5,
           15538
          ],
          [
           555,
           845,
           3642.5,
           2226,
           3780.5,
           2463.5,
           348.5,
           478,
           493.5,
           957.5,
           934.5,
           624,
           372,
           595,
           1635.5,
           619.5,
           7366,
           418.5,
           3017.5,
           7856.5,
           371,
           1257,
           537,
           639.5,
           4532,
           958.5,
           4678.5,
           962.5,
           1779,
           4682.5,
           1045.5,
           1473,
           992,
           6385,
           420,
           1396.5,
           3312,
           1140,
           753,
           762,
           1023.5,
           1551.5,
           2189,
           708,
           3136.5,
           3309.5,
           2892,
           5797,
           1633.5,
           3944,
           2227,
           3778.5,
           5463.5,
           2565,
           3694,
           1915.5,
           876,
           3432.5,
           1059.5,
           2204.5,
           2239.5,
           1976,
           1771,
           1413.5,
           1097.5,
           1857,
           706.5,
           1302.5,
           977.5,
           1722,
           3674,
           1269,
           1128,
           917.5,
           1068,
           2690,
           4879,
           2743.5,
           2980,
           839,
           1327,
           1405,
           956.5,
           821.5,
           1690.5,
           1657,
           1047.5,
           1651.5,
           1497.5,
           885,
           1519,
           772.5,
           549.5,
           4449,
           498,
           8198,
           2216.5,
           480.5,
           681.5,
           1142,
           1448,
           938.5,
           1160,
           1668.5,
           2806,
           1512,
           1924,
           894,
           1174.5,
           1972.5,
           496,
           1017,
           3428,
           1411.5,
           1463.5,
           828,
           692,
           498,
           2506.5,
           619.5,
           2486.5,
           3705,
           6126.5,
           944.5,
           2455.5
          ],
          [
           710.5,
           3824.5,
           21271.5,
           10249.5,
           18328.5,
           11205,
           712,
           1953.5,
           843.5,
           2475.5,
           1604.5,
           1527,
           1051.5,
           1734,
           10184,
           2929.5,
           28475,
           1629.5,
           17693,
           35037.5,
           1066.5,
           4455,
           1343.5,
           2227,
           19007,
           1546.5,
           9925.5,
           2923.5,
           10210,
           29513.5,
           3313,
           4632.5,
           7281,
           29294,
           2456,
           2960,
           18202.5,
           4373,
           2741.5,
           1822.5,
           6637,
           10452,
           4915,
           1841.5,
           9710,
           17170,
           12817,
           19498.5,
           7790,
           23242,
           13196.5,
           17254.5,
           26693,
           7166,
           13499.5,
           5268.5,
           2012.5,
           18373,
           1216.5,
           7724.5,
           10607,
           10408.5,
           4918.5,
           5632.5,
           1412.5,
           8564,
           2211.5,
           7754,
           1835.5,
           2650,
           15216.5,
           3137.5,
           7382.5,
           2292,
           1674.5,
           9253,
           13892.5,
           14736,
           13251,
           3003.5,
           2447.5,
           3193,
           2362.5,
           2702,
           11469.5,
           10396.5,
           3514,
           3342.5,
           6616.5,
           3833,
           7917.5,
           1552,
           1646.5,
           33089.5,
           681.5,
           51056,
           16727,
           917.5,
           2150.5,
           9008,
           3755,
           1666,
           2470,
           7284,
           7895.5,
           5539,
           8135,
           4495,
           7658.5,
           15058,
           2686,
           2465,
           19411,
           3064,
           9075,
           2090,
           2756,
           1010.5,
           9953.5,
           655,
           18273,
           19003.5,
           37803.5,
           3785.5,
           5748
          ],
          [
           866,
           3375,
           20158,
           10225.5,
           23379.5,
           12822.5,
           910,
           2303,
           1164,
           5839,
           4441,
           2429,
           1469,
           1979.5,
           9806,
           2361,
           42098,
           1419,
           18922.5,
           48956,
           1325.5,
           6275.5,
           1623,
           2336,
           28634.5,
           3978.5,
           19486.5,
           2897.5,
           10317,
           27310.5,
           3922.5,
           6740,
           5997.5,
           40297,
           1934.5,
           6570,
           26860,
           4727.5,
           3176,
           2441,
           6598.5,
           12590.5,
           10971,
           1801.5,
           15298,
           22767,
           18543.5,
           30722,
           7639.5,
           29183,
           19476,
           23177.5,
           32764.5,
           12067,
           19343,
           9096.5,
           1924.5,
           20598.5,
           1733,
           11199.5,
           15458,
           15863,
           8466,
           7587.5,
           2861,
           11829.5,
           2963,
           6808.5,
           3452,
           7588.5,
           22322,
           5638,
           7100,
           3128.5,
           3140,
           15933,
           22644.5,
           18685,
           17085.5,
           3444.5,
           6006.5,
           7768,
           3099.5,
           3288,
           10555.5,
           9599.5,
           4207.5,
           8753,
           8464.5,
           4914,
           6704.5,
           1822.5,
           2197,
           37038.5,
           1396,
           57824.5,
           16907.5,
           952.5,
           2193,
           6388,
           5428.5,
           2645.5,
           5724.5,
           12182.5,
           16239,
           7462.5,
           9788.5,
           3419,
           6639.5,
           14622,
           2392.5,
           4734,
           21993.5,
           6643,
           8673.5,
           2589.5,
           3300.5,
           1601.5,
           12024.5,
           1331.5,
           16402.5,
           23418.5,
           46777.5,
           6063,
           13447.5
          ],
          [
           914,
           4076,
           15866.5,
           12406.5,
           6998,
           15107,
           539.5,
           1474,
           711.5,
           1245,
           1612,
           1138.5,
           954.5,
           947,
           4374.5,
           1287,
           14931.5,
           2075,
           9683.5,
           15493,
           4901.5,
           2807.5,
           2326,
           5643,
           8141.5,
           1755,
           5613.5,
           3164.5,
           3823.5,
           28623,
           9020,
           2490,
           6581,
           13812.5,
           2083.5,
           2423,
           6469.5,
           2303.5,
           1440,
           1092.5,
           1566,
           3895.5,
           2612,
           1012.5,
           6538,
           5845,
           7513,
           11678,
           3435.5,
           14900.5,
           5533,
           14117,
           13648,
           4134.5,
           8282,
           3223.5,
           1604,
           7101.5,
           919,
           2510,
           2886.5,
           3552.5,
           2608,
           4968.5,
           1186.5,
           3414.5,
           2312.5,
           7744.5,
           955,
           1664.5,
           6597,
           1812.5,
           2618,
           1402,
           940,
           4587,
           7300,
           5191.5,
           5255.5,
           3204,
           1643,
           2138.5,
           2716.5,
           7636,
           21402.5,
           17439.5,
           6351,
           2123.5,
           11849,
           9755.5,
           3459.5,
           757.5,
           847.5,
           19399.5,
           742,
           33037.5,
           6720.5,
           439,
           1451.5,
           1989,
           3526,
           2266,
           1630,
           3262.5,
           5112,
           4912.5,
           6115,
           6597,
           13258.5,
           7422,
           2496.5,
           2826,
           10695,
           1453.5,
           9490.5,
           6369,
           1203,
           708.5,
           7007.5,
           990.5,
           13955,
           8962.5,
           19593,
           2038,
           4100
          ],
          [
           829.5,
           3666,
           18715,
           9224.5,
           17620.5,
           9924,
           808,
           3230.5,
           1022.5,
           4816.5,
           3247.5,
           3346,
           1867.5,
           1958,
           10031,
           2169.5,
           31873.5,
           1570,
           14880.5,
           39518,
           1277.5,
           5578,
           1777.5,
           1382.5,
           23262,
           3034.5,
           13539.5,
           2441.5,
           6963.5,
           22706.5,
           3247.5,
           7582,
           6786,
           32799.5,
           2357.5,
           5394.5,
           22459.5,
           3469,
           3470.5,
           2335,
           7166.5,
           13539,
           8605,
           1547.5,
           11777.5,
           16355,
           14758,
           22786,
           4763.5,
           27769,
           20559.5,
           17188,
           32195.5,
           10957.5,
           17861,
           8020.5,
           1946.5,
           17551.5,
           1141,
           7723,
           11873.5,
           12315.5,
           5841.5,
           6372.5,
           2238.5,
           10787.5,
           2656,
           6498,
           2945,
           4942.5,
           21177,
           6619.5,
           5901,
           3473.5,
           2452.5,
           11756,
           15800,
           14469.5,
           12353.5,
           3202,
           4688,
           6361,
           2553,
           3193.5,
           9479,
           8016,
           3548,
           7821.5,
           7723.5,
           4595.5,
           7519,
           1465,
           2061.5,
           33399,
           877.5,
           47456,
           16591,
           1384,
           2151,
           8906.5,
           4552,
           2394.5,
           3988.5,
           12405,
           11035,
           5365.5,
           7088,
           4732,
           5308,
           13471,
           2852.5,
           2820,
           12715,
           5305.5,
           8019,
           2188,
           3512,
           1775,
           9368.5,
           1336.5,
           14910,
           17006,
           35629,
           6025,
           11225.5
          ],
          [
           537.5,
           3305,
           10231.5,
           8967,
           10643,
           10939.5,
           425.5,
           751.5,
           507.5,
           4111.5,
           848,
           979,
           698,
           957,
           5232.5,
           1052,
           20040.5,
           1802.5,
           13238.5,
           22038,
           1090.5,
           4917.5,
           1102,
           3406.5,
           14455,
           1204.5,
           8544.5,
           927,
           4385,
           20619.5,
           3264.5,
           2315,
           4709,
           17044.5,
           1574.5,
           2597,
           12465,
           1877,
           1597,
           853,
           2316,
           4420.5,
           7141.5,
           770,
           7035,
           7688.5,
           12004.5,
           16054,
           4498,
           13616.5,
           6625,
           11423,
           12151,
           5192.5,
           9253,
           7202,
           1506.5,
           8041.5,
           811.5,
           4337,
           5395,
           7617,
           3534,
           6394.5,
           1110,
           8527,
           1942,
           6028.5,
           1681.5,
           3659.5,
           12838,
           2051,
           4748.5,
           1941.5,
           1482.5,
           7477,
           9604,
           7269,
           6954.5,
           2058,
           1928,
           5193.5,
           1872.5,
           5086,
           11919,
           9687,
           3432,
           5126.5,
           8242,
           5631,
           2551.5,
           806.5,
           1633.5,
           17187.5,
           819.5,
           28984,
           6839,
           418,
           900.5,
           2332,
           5067,
           2681,
           2030,
           6158.5,
           10158.5,
           4869,
           5464,
           2135,
           7425.5,
           12083,
           2086,
           3461,
           10399.5,
           3731.5,
           9320,
           2549,
           1901.5,
           620.5,
           6987.5,
           436,
           9024.5,
           11258.5,
           24763,
           4073,
           4484.5
          ],
          [
           1414.5,
           8530,
           64615.5,
           26704.5,
           42044.5,
           27840,
           1812,
           3692,
           2535.5,
           7530,
           6007,
           5079,
           2777.5,
           3125.5,
           25391.5,
           5778,
           80365,
           3432,
           37117,
           90038,
           1813.5,
           11159,
           3987.5,
           3744.5,
           47656.5,
           5317.5,
           45635.5,
           12293.5,
           26351.5,
           65518.5,
           6277,
           14645,
           16958,
           84780,
           3619,
           8120.5,
           41027,
           10436,
           5811,
           3716.5,
           10917,
           27489.5,
           13092,
           4196,
           44389.5,
           42934.5,
           31413,
           64523,
           16414,
           64210.5,
           38657.5,
           49825,
           59015,
           23931,
           30736.5,
           11847,
           3177.5,
           36769,
           3015,
           19699,
           23740.5,
           23306.5,
           13608,
           17325,
           5746,
           20030.5,
           5744.5,
           18672,
           3907.5,
           15904.5,
           34635,
           10651,
           12752,
           5388,
           8325.5,
           28342.5,
           47746.5,
           31713,
           32227,
           5249,
           7521,
           10083.5,
           4393,
           4882.5,
           18657.5,
           16293.5,
           9548.5,
           10372.5,
           12535.5,
           6875.5,
           29663.5,
           5102,
           3669.5,
           78088,
           1778,
           114967,
           35745,
           1785.5,
           7288.5,
           19881.5,
           9456.5,
           5528,
           7190.5,
           21459,
           25330.5,
           13369.5,
           18723.5,
           11203,
           12053.5,
           29644.5,
           8781,
           9886.5,
           43055,
           15551.5,
           20278,
           3715,
           5482,
           2944,
           22891,
           1979,
           51426,
           42364.5,
           83952.5,
           9916,
           16359
          ]
         ]
        }
       ],
       "layout": {
        "height": 700,
        "template": {
         "data": {
          "bar": [
           {
            "error_x": {
             "color": "#2a3f5f"
            },
            "error_y": {
             "color": "#2a3f5f"
            },
            "marker": {
             "line": {
              "color": "#E5ECF6",
              "width": 0.5
             },
             "pattern": {
              "fillmode": "overlay",
              "size": 10,
              "solidity": 0.2
             }
            },
            "type": "bar"
           }
          ],
          "barpolar": [
           {
            "marker": {
             "line": {
              "color": "#E5ECF6",
              "width": 0.5
             },
             "pattern": {
              "fillmode": "overlay",
              "size": 10,
              "solidity": 0.2
             }
            },
            "type": "barpolar"
           }
          ],
          "carpet": [
           {
            "aaxis": {
             "endlinecolor": "#2a3f5f",
             "gridcolor": "white",
             "linecolor": "white",
             "minorgridcolor": "white",
             "startlinecolor": "#2a3f5f"
            },
            "baxis": {
             "endlinecolor": "#2a3f5f",
             "gridcolor": "white",
             "linecolor": "white",
             "minorgridcolor": "white",
             "startlinecolor": "#2a3f5f"
            },
            "type": "carpet"
           }
          ],
          "choropleth": [
           {
            "colorbar": {
             "outlinewidth": 0,
             "ticks": ""
            },
            "type": "choropleth"
           }
          ],
          "contour": [
           {
            "colorbar": {
             "outlinewidth": 0,
             "ticks": ""
            },
            "colorscale": [
             [
              0,
              "#0d0887"
             ],
             [
              0.1111111111111111,
              "#46039f"
             ],
             [
              0.2222222222222222,
              "#7201a8"
             ],
             [
              0.3333333333333333,
              "#9c179e"
             ],
             [
              0.4444444444444444,
              "#bd3786"
             ],
             [
              0.5555555555555556,
              "#d8576b"
             ],
             [
              0.6666666666666666,
              "#ed7953"
             ],
             [
              0.7777777777777778,
              "#fb9f3a"
             ],
             [
              0.8888888888888888,
              "#fdca26"
             ],
             [
              1,
              "#f0f921"
             ]
            ],
            "type": "contour"
           }
          ],
          "contourcarpet": [
           {
            "colorbar": {
             "outlinewidth": 0,
             "ticks": ""
            },
            "type": "contourcarpet"
           }
          ],
          "heatmap": [
           {
            "colorbar": {
             "outlinewidth": 0,
             "ticks": ""
            },
            "colorscale": [
             [
              0,
              "#0d0887"
             ],
             [
              0.1111111111111111,
              "#46039f"
             ],
             [
              0.2222222222222222,
              "#7201a8"
             ],
             [
              0.3333333333333333,
              "#9c179e"
             ],
             [
              0.4444444444444444,
              "#bd3786"
             ],
             [
              0.5555555555555556,
              "#d8576b"
             ],
             [
              0.6666666666666666,
              "#ed7953"
             ],
             [
              0.7777777777777778,
              "#fb9f3a"
             ],
             [
              0.8888888888888888,
              "#fdca26"
             ],
             [
              1,
              "#f0f921"
             ]
            ],
            "type": "heatmap"
           }
          ],
          "heatmapgl": [
           {
            "colorbar": {
             "outlinewidth": 0,
             "ticks": ""
            },
            "colorscale": [
             [
              0,
              "#0d0887"
             ],
             [
              0.1111111111111111,
              "#46039f"
             ],
             [
              0.2222222222222222,
              "#7201a8"
             ],
             [
              0.3333333333333333,
              "#9c179e"
             ],
             [
              0.4444444444444444,
              "#bd3786"
             ],
             [
              0.5555555555555556,
              "#d8576b"
             ],
             [
              0.6666666666666666,
              "#ed7953"
             ],
             [
              0.7777777777777778,
              "#fb9f3a"
             ],
             [
              0.8888888888888888,
              "#fdca26"
             ],
             [
              1,
              "#f0f921"
             ]
            ],
            "type": "heatmapgl"
           }
          ],
          "histogram": [
           {
            "marker": {
             "pattern": {
              "fillmode": "overlay",
              "size": 10,
              "solidity": 0.2
             }
            },
            "type": "histogram"
           }
          ],
          "histogram2d": [
           {
            "colorbar": {
             "outlinewidth": 0,
             "ticks": ""
            },
            "colorscale": [
             [
              0,
              "#0d0887"
             ],
             [
              0.1111111111111111,
              "#46039f"
             ],
             [
              0.2222222222222222,
              "#7201a8"
             ],
             [
              0.3333333333333333,
              "#9c179e"
             ],
             [
              0.4444444444444444,
              "#bd3786"
             ],
             [
              0.5555555555555556,
              "#d8576b"
             ],
             [
              0.6666666666666666,
              "#ed7953"
             ],
             [
              0.7777777777777778,
              "#fb9f3a"
             ],
             [
              0.8888888888888888,
              "#fdca26"
             ],
             [
              1,
              "#f0f921"
             ]
            ],
            "type": "histogram2d"
           }
          ],
          "histogram2dcontour": [
           {
            "colorbar": {
             "outlinewidth": 0,
             "ticks": ""
            },
            "colorscale": [
             [
              0,
              "#0d0887"
             ],
             [
              0.1111111111111111,
              "#46039f"
             ],
             [
              0.2222222222222222,
              "#7201a8"
             ],
             [
              0.3333333333333333,
              "#9c179e"
             ],
             [
              0.4444444444444444,
              "#bd3786"
             ],
             [
              0.5555555555555556,
              "#d8576b"
             ],
             [
              0.6666666666666666,
              "#ed7953"
             ],
             [
              0.7777777777777778,
              "#fb9f3a"
             ],
             [
              0.8888888888888888,
              "#fdca26"
             ],
             [
              1,
              "#f0f921"
             ]
            ],
            "type": "histogram2dcontour"
           }
          ],
          "mesh3d": [
           {
            "colorbar": {
             "outlinewidth": 0,
             "ticks": ""
            },
            "type": "mesh3d"
           }
          ],
          "parcoords": [
           {
            "line": {
             "colorbar": {
              "outlinewidth": 0,
              "ticks": ""
             }
            },
            "type": "parcoords"
           }
          ],
          "pie": [
           {
            "automargin": true,
            "type": "pie"
           }
          ],
          "scatter": [
           {
            "marker": {
             "colorbar": {
              "outlinewidth": 0,
              "ticks": ""
             }
            },
            "type": "scatter"
           }
          ],
          "scatter3d": [
           {
            "line": {
             "colorbar": {
              "outlinewidth": 0,
              "ticks": ""
             }
            },
            "marker": {
             "colorbar": {
              "outlinewidth": 0,
              "ticks": ""
             }
            },
            "type": "scatter3d"
           }
          ],
          "scattercarpet": [
           {
            "marker": {
             "colorbar": {
              "outlinewidth": 0,
              "ticks": ""
             }
            },
            "type": "scattercarpet"
           }
          ],
          "scattergeo": [
           {
            "marker": {
             "colorbar": {
              "outlinewidth": 0,
              "ticks": ""
             }
            },
            "type": "scattergeo"
           }
          ],
          "scattergl": [
           {
            "marker": {
             "colorbar": {
              "outlinewidth": 0,
              "ticks": ""
             }
            },
            "type": "scattergl"
           }
          ],
          "scattermapbox": [
           {
            "marker": {
             "colorbar": {
              "outlinewidth": 0,
              "ticks": ""
             }
            },
            "type": "scattermapbox"
           }
          ],
          "scatterpolar": [
           {
            "marker": {
             "colorbar": {
              "outlinewidth": 0,
              "ticks": ""
             }
            },
            "type": "scatterpolar"
           }
          ],
          "scatterpolargl": [
           {
            "marker": {
             "colorbar": {
              "outlinewidth": 0,
              "ticks": ""
             }
            },
            "type": "scatterpolargl"
           }
          ],
          "scatterternary": [
           {
            "marker": {
             "colorbar": {
              "outlinewidth": 0,
              "ticks": ""
             }
            },
            "type": "scatterternary"
           }
          ],
          "surface": [
           {
            "colorbar": {
             "outlinewidth": 0,
             "ticks": ""
            },
            "colorscale": [
             [
              0,
              "#0d0887"
             ],
             [
              0.1111111111111111,
              "#46039f"
             ],
             [
              0.2222222222222222,
              "#7201a8"
             ],
             [
              0.3333333333333333,
              "#9c179e"
             ],
             [
              0.4444444444444444,
              "#bd3786"
             ],
             [
              0.5555555555555556,
              "#d8576b"
             ],
             [
              0.6666666666666666,
              "#ed7953"
             ],
             [
              0.7777777777777778,
              "#fb9f3a"
             ],
             [
              0.8888888888888888,
              "#fdca26"
             ],
             [
              1,
              "#f0f921"
             ]
            ],
            "type": "surface"
           }
          ],
          "table": [
           {
            "cells": {
             "fill": {
              "color": "#EBF0F8"
             },
             "line": {
              "color": "white"
             }
            },
            "header": {
             "fill": {
              "color": "#C8D4E3"
             },
             "line": {
              "color": "white"
             }
            },
            "type": "table"
           }
          ]
         },
         "layout": {
          "annotationdefaults": {
           "arrowcolor": "#2a3f5f",
           "arrowhead": 0,
           "arrowwidth": 1
          },
          "autotypenumbers": "strict",
          "coloraxis": {
           "colorbar": {
            "outlinewidth": 0,
            "ticks": ""
           }
          },
          "colorscale": {
           "diverging": [
            [
             0,
             "#8e0152"
            ],
            [
             0.1,
             "#c51b7d"
            ],
            [
             0.2,
             "#de77ae"
            ],
            [
             0.3,
             "#f1b6da"
            ],
            [
             0.4,
             "#fde0ef"
            ],
            [
             0.5,
             "#f7f7f7"
            ],
            [
             0.6,
             "#e6f5d0"
            ],
            [
             0.7,
             "#b8e186"
            ],
            [
             0.8,
             "#7fbc41"
            ],
            [
             0.9,
             "#4d9221"
            ],
            [
             1,
             "#276419"
            ]
           ],
           "sequential": [
            [
             0,
             "#0d0887"
            ],
            [
             0.1111111111111111,
             "#46039f"
            ],
            [
             0.2222222222222222,
             "#7201a8"
            ],
            [
             0.3333333333333333,
             "#9c179e"
            ],
            [
             0.4444444444444444,
             "#bd3786"
            ],
            [
             0.5555555555555556,
             "#d8576b"
            ],
            [
             0.6666666666666666,
             "#ed7953"
            ],
            [
             0.7777777777777778,
             "#fb9f3a"
            ],
            [
             0.8888888888888888,
             "#fdca26"
            ],
            [
             1,
             "#f0f921"
            ]
           ],
           "sequentialminus": [
            [
             0,
             "#0d0887"
            ],
            [
             0.1111111111111111,
             "#46039f"
            ],
            [
             0.2222222222222222,
             "#7201a8"
            ],
            [
             0.3333333333333333,
             "#9c179e"
            ],
            [
             0.4444444444444444,
             "#bd3786"
            ],
            [
             0.5555555555555556,
             "#d8576b"
            ],
            [
             0.6666666666666666,
             "#ed7953"
            ],
            [
             0.7777777777777778,
             "#fb9f3a"
            ],
            [
             0.8888888888888888,
             "#fdca26"
            ],
            [
             1,
             "#f0f921"
            ]
           ]
          },
          "colorway": [
           "#636efa",
           "#EF553B",
           "#00cc96",
           "#ab63fa",
           "#FFA15A",
           "#19d3f3",
           "#FF6692",
           "#B6E880",
           "#FF97FF",
           "#FECB52"
          ],
          "font": {
           "color": "#2a3f5f"
          },
          "geo": {
           "bgcolor": "white",
           "lakecolor": "white",
           "landcolor": "#E5ECF6",
           "showlakes": true,
           "showland": true,
           "subunitcolor": "white"
          },
          "hoverlabel": {
           "align": "left"
          },
          "hovermode": "closest",
          "mapbox": {
           "style": "light"
          },
          "paper_bgcolor": "white",
          "plot_bgcolor": "#E5ECF6",
          "polar": {
           "angularaxis": {
            "gridcolor": "white",
            "linecolor": "white",
            "ticks": ""
           },
           "bgcolor": "#E5ECF6",
           "radialaxis": {
            "gridcolor": "white",
            "linecolor": "white",
            "ticks": ""
           }
          },
          "scene": {
           "xaxis": {
            "backgroundcolor": "#E5ECF6",
            "gridcolor": "white",
            "gridwidth": 2,
            "linecolor": "white",
            "showbackground": true,
            "ticks": "",
            "zerolinecolor": "white"
           },
           "yaxis": {
            "backgroundcolor": "#E5ECF6",
            "gridcolor": "white",
            "gridwidth": 2,
            "linecolor": "white",
            "showbackground": true,
            "ticks": "",
            "zerolinecolor": "white"
           },
           "zaxis": {
            "backgroundcolor": "#E5ECF6",
            "gridcolor": "white",
            "gridwidth": 2,
            "linecolor": "white",
            "showbackground": true,
            "ticks": "",
            "zerolinecolor": "white"
           }
          },
          "shapedefaults": {
           "line": {
            "color": "#2a3f5f"
           }
          },
          "ternary": {
           "aaxis": {
            "gridcolor": "white",
            "linecolor": "white",
            "ticks": ""
           },
           "baxis": {
            "gridcolor": "white",
            "linecolor": "white",
            "ticks": ""
           },
           "bgcolor": "#E5ECF6",
           "caxis": {
            "gridcolor": "white",
            "linecolor": "white",
            "ticks": ""
           }
          },
          "title": {
           "x": 0.05
          },
          "xaxis": {
           "automargin": true,
           "gridcolor": "white",
           "linecolor": "white",
           "ticks": "",
           "title": {
            "standoff": 15
           },
           "zerolinecolor": "white",
           "zerolinewidth": 2
          },
          "yaxis": {
           "automargin": true,
           "gridcolor": "white",
           "linecolor": "white",
           "ticks": "",
           "title": {
            "standoff": 15
           },
           "zerolinecolor": "white",
           "zerolinewidth": 2
          }
         }
        },
        "width": 3000
       }
      },
      "text/html": [
       "<div>                            <div id=\"796cb445-5147-44d1-8e56-2abf00aeb89a\" class=\"plotly-graph-div\" style=\"height:700px; width:3000px;\"></div>            <script type=\"text/javascript\">                require([\"plotly\"], function(Plotly) {                    window.PLOTLYENV=window.PLOTLYENV || {};                                    if (document.getElementById(\"796cb445-5147-44d1-8e56-2abf00aeb89a\")) {                    Plotly.newPlot(                        \"796cb445-5147-44d1-8e56-2abf00aeb89a\",                        [{\"colorscale\":[[0.0,\"#000004\"],[0.1111111111111111,\"#180f3d\"],[0.2222222222222222,\"#440f76\"],[0.3333333333333333,\"#721f81\"],[0.4444444444444444,\"#9e2f7f\"],[0.5555555555555556,\"#cd4071\"],[0.6666666666666666,\"#f1605d\"],[0.7777777777777778,\"#fd9668\"],[0.8888888888888888,\"#feca8d\"],[1.0,\"#fcfdbf\"]],\"x\":[\"APL\",\"Assembly\",\"Bash/Shell\",\"C\",\"C#\",\"C++\",\"COBOL\",\"Clojure\",\"Crystal\",\"Dart\",\"Delphi\",\"Elixir\",\"Erlang\",\"F#\",\"Go\",\"Groovy\",\"HTML/CSS\",\"Haskell\",\"Java\",\"JavaScript\",\"Julia\",\"Kotlin\",\"LISP\",\"Matlab\",\"Node.js\",\"Objective-C\",\"PHP\",\"Perl\",\"PowerShell\",\"Python\",\"R\",\"Ruby\",\"Rust\",\"SQL\",\"Scala\",\"Swift\",\"TypeScript\",\"VBA\",\"Cassandra\",\"Couchbase\",\"DynamoDB\",\"Elasticsearch\",\"Firebase\",\"IBM DB2\",\"MariaDB\",\"Microsoft SQL Server\",\"MongoDB\",\"MySQL\",\"Oracle\",\"PostgreSQL\",\"Redis\",\"SQLite\",\"AWS\",\"DigitalOcean\",\"Google Cloud Platform\",\"Heroku\",\"IBM Cloud or Watson\",\"Microsoft Azure\",\"Oracle Cloud Infrastructure\",\"ASP.NET\",\"ASP.NET Core \",\"Angular\",\"Angular.js\",\"Django\",\"Drupal\",\"Express\",\"FastAPI\",\"Flask\",\"Gatsby\",\"Laravel\",\"React.js\",\"Ruby on Rails\",\"Spring\",\"Svelte\",\"Symfony\",\"Vue.js\",\"jQuery\",\".NET Core / .NET 5\",\".NET Framework\",\"Apache Spark\",\"Cordova\",\"Flutter\",\"Hadoop\",\"Keras\",\"NumPy\",\"Pandas\",\"Qt\",\"React Native\",\"TensorFlow\",\"Torch/PyTorch\",\"Ansible\",\"Chef\",\"Deno\",\"Docker\",\"Flow\",\"Git\",\"Kubernetes\",\"Pulumi\",\"Puppet\",\"Terraform\",\"Unity 3D\",\"Unreal Engine\",\"Xamarin\",\"Yarn\",\"Android Studio\",\"Atom\",\"Eclipse\",\"Emacs\",\"IPython/Jupyter\",\"IntelliJ\",\"Neovim\",\"NetBeans\",\"Notepad++\",\"PHPStorm\",\"PyCharm\",\"RStudio\",\"Rider\",\"RubyMine\",\"Sublime Text\",\"TextMate\",\"Vim\",\"Visual Studio\",\"Visual Studio Code\",\"Webstorm\",\"Xcode\"],\"y\":[\"Academic researcher\",\"Data or business analyst\",\"Data scientist or machine learning specialist\",\"Database administrator\",\"Designer\",\"DevOps specialist\",\"Developer, QA or test\",\"Developer, back-end\",\"Developer, desktop or enterprise applications\",\"Developer, embedded applications or devices\",\"Developer, front-end\",\"Developer, full-stack\",\"Developer, game or graphics\",\"Developer, mobile\",\"Educator\",\"Engineer, data\",\"Engineer, site reliability\",\"Engineering manager\",\"Marketing or sales professional\",\"Other (please specify):\",\"Product manager\",\"Scientist\",\"Senior Executive (C-Suite, VP, etc.)\",\"Student\",\"System administrator\"],\"ygap\":1,\"z\":[[972.0,4312.5,18134.5,14484.5,9480.5,17373.5,777.5,1716.0,663.0,2723.5,1663.5,1136.0,1046.5,1164.5,5800.0,1532.0,20484.5,2758.0,13758.5,22668.5,4859.5,4020.5,2219.0,6614.5,11276.0,1902.0,7966.5,2814.5,4739.0,34403.0,10444.0,2964.0,7704.0,18381.5,2302.5,2843.5,9662.0,2494.0,1959.5,1801.5,1985.0,5545.5,4670.5,1295.0,8666.5,7763.0,11322.5,17061.0,4747.5,18534.5,7186.5,17812.5,15712.5,5566.5,11148.0,5284.0,1974.5,8826.0,1255.5,3493.0,4520.5,6252.0,3728.5,7203.0,1573.0,5434.5,3096.5,9688.0,1347.5,3031.5,10082.5,2304.5,4708.5,1650.5,1465.5,7032.0,10483.0,6790.5,6616.0,4172.0,2275.5,3855.0,3297.0,9848.0,25279.5,21012.5,6782.0,3373.0,14766.5,12082.0,4303.0,938.5,1139.0,24705.0,811.5,41124.5,8863.0,569.5,1427.5,2731.5,4673.5,2647.5,2256.0,4225.5,8228.0,6281.5,7479.5,7005.0,15251.0,10874.0,2585.0,4223.0,12464.0,2728.5,12544.0,7465.0,1639.0,858.0,8900.5,1068.0,15675.0,11155.0,26763.0,3180.5,5007.5],[1434.5,3308.5,23809.5,10572.0,27781.0,12231.0,1065.0,2580.0,1184.0,3693.0,5081.5,1577.0,1113.0,2473.5,9168.0,2383.5,41870.5,1730.0,20658.0,46798.0,2966.0,5649.0,2021.0,3264.5,24183.5,2411.0,17009.0,3703.0,14242.0,43180.0,12888.5,4799.0,6206.5,56980.5,4274.0,3821.5,22148.5,9992.0,4108.5,2143.0,5937.5,12623.0,8586.0,3521.5,14915.5,36431.5,18133.0,33095.5,15458.5,33429.0,15336.0,25287.0,32512.0,9399.5,19257.5,7281.5,2974.0,26254.0,2270.5,14365.0,16961.0,14037.0,8152.5,10338.0,3143.5,10357.5,4378.0,12725.5,1983.0,5584.5,18510.5,4195.0,7988.5,2554.5,2980.5,12548.0,24548.5,21473.0,22096.5,9326.5,4195.0,5999.5,7135.0,8016.5,24373.5,26122.0,4343.5,6482.5,13948.0,9673.5,6231.5,1608.0,1592.0,37690.5,1492.0,63466.5,16875.5,876.0,1969.5,6265.0,5116.5,2972.0,4720.0,9212.0,13000.5,8262.5,12180.5,4755.0,17671.5,16628.5,2354.5,5991.5,31622.5,5424.0,16007.5,10394.5,3272.5,1220.0,13759.5,946.5,19465.5,30235.5,50195.5,5016.0,7887.0],[924.0,4249.0,29302.0,16468.5,15117.0,22106.0,833.0,3340.5,874.0,3368.5,1934.5,1770.0,1159.0,2011.5,11099.0,2282.5,29829.5,3199.0,20875.5,35349.5,7369.0,5372.0,2896.0,7152.0,18329.0,2345.0,9037.5,3763.5,8754.5,68947.0,20791.0,4647.0,10105.5,43198.5,7748.5,3873.0,15992.5,5168.5,5298.5,1963.0,7349.0,15537.5,7330.0,2489.0,10822.0,19796.5,19801.0,28136.0,10312.5,38015.5,16763.0,27166.0,39920.5,8961.5,24612.5,8728.0,3589.5,22847.5,2084.5,5968.5,7463.5,9383.0,5620.5,13913.5,1763.0,7741.5,10222.5,23915.5,1658.5,3413.5,16689.0,3674.5,6270.0,2371.5,1529.5,10011.5,14291.5,11116.5,10401.5,16737.5,2721.0,5060.5,10705.5,28479.0,56789.0,53324.5,7743.5,5404.0,38348.0,31810.0,7567.5,1770.5,1576.5,49067.0,1365.5,71652.5,21967.0,919.0,2323.0,7983.0,6125.5,3489.5,2907.5,7929.0,10262.0,9853.0,10982.0,8555.5,39062.5,18370.5,4301.5,4517.5,23964.5,3314.5,29158.5,16400.0,1557.0,1144.5,15921.5,1264.5,27481.5,18226.5,50262.5,3967.0,7248.5],[1173.0,6413.5,46648.5,20348.0,53973.0,23545.0,1789.5,2947.5,2357.0,8240.5,9056.0,4065.5,2259.5,3617.0,18471.0,3755.0,81245.0,2641.0,34638.5,89999.5,1601.0,9909.5,2723.0,3206.5,46970.0,4600.5,41772.5,8269.5,26022.0,54498.5,7449.0,10639.0,11670.0,98792.0,3408.0,7746.5,44151.0,12967.0,5389.0,3482.5,9713.0,22858.0,15618.5,4586.5,35696.0,58650.0,29745.0,61802.5,17954.0,58671.5,34458.0,44034.0,54936.5,19682.5,28725.0,12175.5,3187.5,40179.5,3102.0,28094.5,32545.0,25932.0,14995.0,14467.5,5398.5,20320.0,4853.5,14320.0,3586.0,15999.5,34583.5,9611.0,11868.5,4750.0,7205.0,27182.5,51228.0,40998.5,42481.0,5776.0,8414.0,11183.5,4956.5,5048.0,17782.5,17110.5,6925.5,11747.5,13193.5,7189.5,16091.5,3213.5,3672.0,66532.5,2053.0,106518.5,28739.0,1718.5,4375.5,12816.5,10251.0,5312.0,10137.0,19698.5,27023.5,13227.0,18103.0,7391.0,12236.0,26999.5,5329.5,11039.5,49830.0,15255.0,17741.5,4826.0,6670.5,2212.5,22667.0,1983.0,36924.5,54814.0,82781.5,10282.5,16362.0],[1159.0,5644.5,25714.5,16591.5,35476.5,20225.0,1452.5,1934.0,1280.0,6892.5,5572.0,1960.0,1393.0,2382.5,9239.0,2632.5,60933.0,1651.5,26701.5,65783.0,1158.5,7120.5,2393.5,3096.5,36480.5,4354.5,26207.5,4369.5,14843.5,35320.0,4422.5,5555.0,7059.5,54000.0,2137.0,6416.5,34611.0,8305.5,3694.0,2752.5,5612.0,11153.5,15020.5,3390.0,18467.5,32752.5,21802.5,41559.0,13211.0,31681.5,16705.0,29295.5,33500.0,11774.5,20602.5,10495.0,2508.5,25352.0,1973.5,17723.5,20182.0,21957.5,12164.0,9332.0,3836.0,16413.5,3173.0,8307.5,4039.0,9261.5,28288.5,4593.0,8840.5,4866.0,3858.5,20991.0,32735.0,26906.5,27778.0,3445.0,7030.5,9155.5,2849.5,3673.0,11526.5,10070.5,6620.0,9387.0,9390.0,4878.5,6002.0,1661.5,3350.0,38648.5,1576.0,74245.0,15419.0,904.5,2547.0,4436.5,10044.5,4917.0,7173.0,14647.5,20900.5,10296.5,15998.0,5445.5,7228.5,18783.5,2132.0,8086.0,34579.5,8235.0,10567.0,3130.0,3746.5,1216.0,17076.5,1336.5,18518.5,38791.5,60971.0,8097.0,14131.0],[1085.0,6750.0,83621.0,25625.0,56109.0,27838.5,1331.0,5628.5,2736.0,8852.5,4073.0,7123.5,3548.5,5677.5,44943.5,14446.0,89390.0,4994.0,54823.5,107882.5,1969.0,17467.5,4114.0,3280.5,67883.0,5622.0,34573.5,8980.5,36722.0,86492.0,6673.0,19345.0,24496.0,96491.5,7669.0,9238.5,69182.0,6662.5,10907.5,5347.5,24971.5,50929.5,17675.5,4408.0,38713.0,52861.5,46635.0,66208.5,21245.5,88602.5,64108.0,51456.5,95469.0,28507.5,46706.0,16461.5,4740.0,63111.5,4046.0,24931.5,40507.0,36587.0,17703.0,20387.0,4979.0,30819.5,9293.5,26669.5,6322.5,13700.5,53353.5,13892.5,28016.5,7143.0,8221.5,35474.5,43815.0,47545.5,37083.0,9742.0,8092.5,12495.0,7195.5,7036.0,24185.0,22833.5,8290.0,14490.0,17351.0,9569.5,46186.0,8727.5,5668.5,130279.0,2777.0,156247.0,78620.0,5372.0,9525.5,50851.5,10203.0,5830.0,9052.0,31503.0,25040.5,14445.0,21434.0,12539.5,17071.0,52357.5,11871.5,8162.5,50538.5,14333.5,28949.5,4050.0,11306.5,3802.0,29293.0,2318.0,65304.5,52554.5,118923.0,15930.0,18513.0],[881.5,4006.5,29113.0,14120.0,28997.0,16508.0,894.0,1832.0,1005.5,4814.0,3315.0,2774.5,1806.5,2554.0,11816.0,5481.5,44772.5,2182.5,27074.5,52653.0,997.5,8990.0,1623.5,2199.5,30401.5,3805.5,18581.5,4071.0,14832.5,35246.0,3678.5,6648.0,7616.0,45942.0,2476.0,5623.0,29073.0,5538.0,3646.5,2434.5,6959.0,13903.0,10203.5,2722.0,16889.0,25670.0,20604.0,33287.5,11797.0,31354.5,19481.0,25581.5,32725.0,11578.5,18018.0,8566.0,2220.5,23684.0,2066.0,13111.5,17337.0,17384.0,10284.5,8671.0,2845.5,13406.0,3142.5,8791.5,3298.0,7024.5,24747.5,5704.5,12303.5,3655.5,4025.0,16030.0,24744.5,22582.0,21480.0,3457.0,4924.0,6687.0,2896.5,3094.5,10847.0,9370.5,5020.0,8740.0,7642.5,4203.5,9889.0,2221.5,2496.0,44595.5,1486.0,67273.5,20258.0,1232.0,2957.0,7975.0,6943.5,3712.5,5807.5,13023.5,16601.5,7409.5,13595.5,5046.5,7452.5,23368.5,3320.0,5924.0,28793.0,7611.0,13769.5,2138.5,4677.5,1967.5,13486.0,1369.5,22614.5,28865.0,51089.0,7591.5,10673.5],[3380.0,20520.0,184157.5,79866.0,202221.5,100154.0,3898.5,23325.5,6165.0,33867.5,17665.0,23968.0,11383.0,15520.0,109697.5,26967.5,294379.5,15090.0,208821.5,372532.5,7080.0,64214.5,10909.5,10844.5,199347.0,14686.5,121674.0,21126.5,75847.5,250372.0,19476.5,54766.0,74680.5,340512.5,29656.0,29885.5,213326.5,24366.0,33533.5,15520.0,65107.5,129383.5,63799.0,15463.0,110712.0,186002.0,155442.0,240778.0,79061.0,287412.5,189378.0,166548.5,288704.5,80610.5,138089.5,69893.0,11515.0,173204.5,9810.0,91146.5,133739.5,121426.5,56677.5,64983.0,13682.0,95100.0,27658.0,70127.5,16856.0,49661.5,184633.5,46257.5,106641.0,21090.0,25011.0,109997.5,156083.0,163560.5,139954.0,31615.5,25979.0,45679.0,22836.5,24146.0,80421.0,73246.5,25234.5,49718.0,54118.5,30355.0,70049.0,12484.5,16145.5,379352.5,7655.0,539789.0,188340.5,7477.0,15379.0,83241.5,39002.5,18188.0,30756.0,93935.0,98887.5,48218.5,81801.0,41264.0,53367.0,198581.0,29752.0,33053.0,180019.5,51795.0,92597.5,12726.0,34931.5,12826.5,103676.0,6758.0,169498.5,204051.0,405218.5,47823.5,60899.0],[2018.0,14241.5,66827.0,46782.0,132358.5,66038.5,2836.5,6029.5,2766.5,13928.0,20632.0,4555.5,3065.5,8895.5,28360.0,9629.5,128610.0,5214.5,79303.0,148175.0,2701.0,22628.0,4673.0,6527.5,74036.5,9707.0,41367.0,7937.0,47832.5,91366.0,8562.0,12147.0,25812.0,143630.0,7015.0,16165.0,88776.0,19093.0,9965.0,6139.0,16780.5,34307.5,25749.0,9128.0,39933.5,114907.0,55055.5,87723.5,42732.0,86580.0,46652.0,85605.0,84755.0,22935.5,43420.0,19050.5,5076.0,87625.0,5083.0,59574.5,80274.5,58417.5,27694.0,18053.5,5032.0,32527.5,6374.5,21299.5,5346.0,12953.5,64531.0,9448.5,35182.0,8236.5,6171.0,39044.5,70267.5,106370.5,103501.5,9086.5,13384.0,20064.0,7053.5,9282.0,30268.5,23797.0,22581.0,20326.0,23482.5,12287.0,19742.0,4344.0,6136.0,119709.0,3670.0,209079.0,52603.0,2538.5,5418.5,18113.5,22609.5,10822.5,25131.5,28299.5,48345.0,16721.0,40640.0,13937.0,19330.0,63012.0,7798.5,16567.0,106488.0,13102.0,31316.0,6389.0,17274.5,3171.0,35183.0,2413.5,52042.5,139096.0,170089.0,18246.5,32000.0],[998.5,12584.5,34322.0,40589.0,35613.0,44684.5,1326.0,1929.0,1489.0,6604.0,7000.0,2623.0,1950.0,2450.5,12667.0,3368.0,40936.0,2498.5,27030.5,48752.0,1788.0,11008.5,2494.0,5853.5,27513.0,5081.5,18640.5,4768.5,13986.0,48607.0,3517.5,5238.0,14917.0,41006.5,2500.5,7845.5,26143.0,6385.0,3420.5,2848.0,5551.0,10820.5,12683.5,2511.5,18482.0,26448.0,20553.0,33971.5,10432.5,32431.5,16104.5,39534.5,32160.5,10838.0,19759.5,7759.5,2379.5,24871.5,2136.5,14526.0,17415.5,17168.0,10468.0,8764.5,2534.0,12848.0,3402.5,11906.0,2526.5,5980.0,20992.0,3953.0,8457.0,3232.5,3039.5,15161.5,23477.5,27031.0,28043.0,3350.5,6760.0,9595.5,2577.0,5877.0,19598.0,13251.0,16553.0,8986.0,13483.5,7532.0,9366.0,1803.5,2472.5,47366.5,1638.0,77918.5,17210.0,750.5,2420.5,6260.0,9954.5,5855.0,8816.0,10400.0,25908.5,7779.0,18908.5,8268.5,10331.5,20810.0,4936.5,7322.0,35276.0,5869.0,15791.0,2768.0,4164.5,1420.0,14676.5,1215.0,28932.5,40659.0,59472.5,6475.5,15015.5],[2054.0,11041.5,87457.0,39627.5,121084.0,50028.0,2396.5,10052.5,2938.5,27038.5,12669.0,10087.0,4520.5,7528.5,42212.0,10215.0,251108.0,6794.0,96717.5,288729.0,2855.5,33897.5,5100.5,6613.5,169280.5,11945.0,87597.0,9460.0,43959.5,112027.5,10158.0,24126.0,32248.0,181760.5,8324.0,24757.0,191551.0,16378.0,11280.0,8412.5,27888.0,53243.0,62322.0,8450.0,65670.0,108480.5,98561.0,148110.5,39864.5,136240.0,80057.5,97235.5,146159.0,51065.0,81764.5,49801.0,6850.5,99603.0,5010.5,59926.5,77728.0,108854.0,48065.0,31378.0,10873.0,87506.5,10070.0,28093.5,20896.5,34876.0,166015.0,21525.5,41844.5,22417.5,14505.5,89733.0,117654.5,93007.0,86467.5,9085.0,26675.0,35778.0,7061.5,9848.5,30518.5,26735.5,12950.5,49978.5,28000.0,12933.0,24752.0,4819.0,16327.5,181955.0,6656.0,307537.0,75667.0,2740.0,7350.5,27165.0,29331.0,13545.5,21440.0,86880.0,78337.5,31122.5,43697.5,16171.0,19190.5,87199.0,12474.0,21262.5,107212.5,33360.5,36322.5,6267.0,16734.0,5376.0,61946.0,4249.0,75092.0,125664.0,264800.5,43400.0,54453.0],[3030.5,20178.5,180474.5,71605.0,249216.0,92768.0,3980.5,24138.5,6560.5,44287.5,17861.5,25090.0,9561.0,16712.0,95719.5,24153.0,433963.0,14544.5,203126.0,523866.5,5947.0,65113.0,9686.0,12339.5,294774.0,18717.5,156885.5,19377.0,90644.5,241748.5,20782.5,64008.5,68805.5,387544.5,20923.5,39066.5,331105.5,29092.5,26056.0,15531.0,66035.5,127714.5,93600.5,15775.0,122872.0,227390.0,187225.5,275780.0,82218.5,301313.0,191067.0,184572.0,312253.0,98943.5,152784.5,93649.0,12279.5,201704.5,9313.0,122880.0,173653.5,187736.5,82421.5,66479.0,17607.5,149076.5,23081.5,63912.5,29416.5,66653.5,288842.0,56759.5,98875.0,33300.0,28754.5,159717.5,216369.5,200210.5,170784.5,21780.5,40399.0,60665.5,17523.0,22105.5,72767.0,64831.5,23060.0,79177.0,57062.0,28625.0,62587.0,12072.5,24707.0,392042.0,9821.5,591163.0,175972.5,6516.5,16842.5,74812.5,47323.0,22130.5,38910.0,144659.5,125599.0,53853.0,84698.5,36028.5,43840.5,183200.5,28034.0,36980.5,203047.5,62867.0,81172.5,12995.5,38102.5,15045.5,113972.5,7527.5,159940.0,243679.5,490735.0,69384.0,84973.0],[625.5,4280.5,11589.0,10614.5,20333.5,16799.0,503.0,1145.5,531.5,3312.0,1904.0,1302.0,930.5,1364.5,4701.0,1582.5,19657.0,1200.5,11562.0,23075.0,1011.5,4453.0,1302.0,1563.5,14569.5,3078.5,8930.5,1695.0,5475.0,16218.5,1842.5,2751.5,6488.0,15425.0,1109.5,4460.0,13710.5,2193.5,1598.5,1255.5,3147.5,4701.0,6691.5,979.0,7277.5,8697.0,9863.5,14442.0,3722.5,13153.0,7936.0,14149.5,14556.0,5861.0,9535.5,5064.0,1425.0,9467.5,1063.5,5391.5,7320.0,7033.5,4274.0,3656.5,1441.5,7472.5,1525.0,4161.5,1614.5,3245.5,11607.0,2228.5,3812.5,2310.5,1786.0,8034.5,9924.5,12903.5,12809.5,1363.0,2967.5,4703.5,1256.5,2473.0,6541.0,4389.0,5021.5,4793.5,5948.5,3921.5,2732.0,955.0,1936.0,17013.5,963.0,32053.5,7241.5,608.0,1280.5,2517.5,17368.0,8468.0,3941.5,5061.0,11197.5,3658.0,5258.5,2661.0,3545.5,9445.0,1708.5,3082.0,13247.5,3159.0,5620.0,1423.5,5042.0,858.0,7342.5,885.5,9259.0,18897.5,25367.0,4026.5,8884.5],[1255.5,7900.5,39052.0,26816.0,61893.5,32518.5,1652.0,3241.0,1657.0,33822.0,9102.5,4756.0,2379.0,3370.5,20021.0,6436.5,98950.5,2875.0,67411.0,119109.0,1686.5,44872.0,2437.5,4313.5,74698.5,21227.0,43460.5,4123.5,18061.0,55854.0,5135.5,12468.0,13850.0,85578.5,3469.0,41708.5,78992.5,8577.5,6246.0,5623.0,13668.0,24053.0,55286.5,3700.0,33591.5,52003.0,50486.5,78844.0,20018.5,62473.5,36410.5,80966.0,75857.0,27613.5,55927.0,26071.0,4480.0,53213.5,3213.0,29126.5,37174.5,49245.5,23286.0,15297.0,5461.0,39688.0,4837.0,13251.5,7453.0,19287.5,62804.5,10585.0,21537.0,8120.0,6952.0,36244.5,50300.5,46341.5,43879.0,4700.0,24634.0,43029.0,4131.5,6657.0,16707.0,14076.5,8751.0,40598.5,19316.5,8583.5,11041.0,2575.5,6029.0,82206.0,4053.5,153838.0,33333.5,1489.5,3864.5,11590.5,21274.0,9493.5,23905.0,34976.5,96457.0,18142.5,26980.0,7432.0,11131.0,54238.0,5506.5,14197.5,51208.0,15938.5,22235.5,3920.0,9623.5,3267.5,35597.0,3601.0,35058.5,63674.0,126585.5,19797.5,74253.0],[970.0,3538.5,17444.5,11327.5,14504.5,12431.0,715.5,2288.5,687.5,3702.0,2620.0,1840.5,1101.5,1684.5,7071.0,2249.0,28097.5,2449.5,16813.0,31184.0,2358.5,5800.5,2137.5,2856.5,18587.0,2702.5,12643.0,2836.5,6436.5,24385.0,5391.5,4632.5,5741.5,24955.5,2361.0,4065.0,17045.0,3288.5,2267.5,1755.0,4118.5,7631.5,7410.5,1523.5,11412.5,12704.0,13851.5,20917.5,6341.5,21683.0,10857.0,18983.5,20440.5,7929.0,13167.5,8120.0,1838.0,12721.0,1467.0,6366.0,8650.5,9925.5,5521.5,6408.5,2089.0,9674.0,2426.5,7832.0,2641.5,4912.0,16194.0,3691.5,6637.5,2799.5,2417.0,10454.0,14649.0,11451.0,10304.5,3171.0,3645.0,5153.5,2518.5,4524.5,11723.0,10118.5,4309.0,5762.5,8242.5,5281.5,5348.5,1360.5,1971.0,26340.0,1170.0,41561.0,11565.5,879.5,1730.0,4463.5,5438.0,3192.0,3958.0,8850.0,10861.0,6030.5,7976.5,4753.0,8809.5,14110.5,2725.0,4522.5,15022.0,4704.0,8540.5,3738.5,2442.0,1220.5,9281.0,1171.0,14473.0,14895.5,31436.0,4916.0,7620.5],[1154.0,4893.5,35331.0,15638.5,22036.5,19016.0,1160.0,4372.0,895.5,3948.0,3396.5,2541.0,1693.0,2478.5,16951.5,3831.5,37594.0,2899.5,29915.5,45916.5,3591.0,7051.5,2653.5,5186.0,25430.5,2589.5,14472.0,4449.5,12935.5,60871.0,9929.0,6547.0,11905.0,56155.5,12092.0,3810.0,22943.5,6827.5,7484.0,3173.5,11045.5,21214.0,8877.5,3112.0,15107.5,25728.0,22928.0,35032.5,12506.0,45514.0,24775.5,28710.5,46548.5,10609.0,26645.0,8938.0,2978.5,26793.5,2207.0,9403.5,11969.0,12480.0,8090.5,12949.5,1813.5,11540.0,8080.0,19115.5,2300.5,4976.0,22289.0,4897.0,11435.5,2967.0,2437.0,13476.0,20051.5,16712.0,15722.5,20184.5,3196.5,6133.0,13106.0,10910.0,34322.0,34947.0,6690.5,6742.5,18937.5,13505.5,12401.0,2496.0,2471.0,56267.0,1794.0,77319.5,29562.0,1355.0,3220.0,15343.0,5906.5,3232.5,3848.5,12054.0,12301.5,9658.5,12992.0,8350.0,24404.0,28422.5,5260.0,5335.5,29376.5,4732.5,25330.5,7391.0,3052.0,1437.0,16552.0,1325.0,31095.5,24230.0,56263.0,5716.0,8025.5],[624.5,3219.0,30919.0,10324.0,13800.5,10442.5,649.0,2719.5,1181.0,2720.0,1274.5,3675.0,2110.5,1846.5,21088.0,4678.0,26857.0,2384.0,17960.0,33372.0,1139.0,5607.0,1894.5,1451.0,21145.5,1821.5,12432.0,4711.5,10335.0,32536.5,3022.5,8874.5,10737.0,31288.0,3322.0,2752.5,18984.0,2518.0,5170.0,2341.5,10511.5,19834.5,5459.5,1581.0,14799.5,13065.0,15115.0,24165.0,5730.0,31982.5,25563.0,18194.5,35289.0,10834.5,19379.0,6197.0,1898.0,17855.5,1876.5,5670.0,9037.5,8767.0,5196.5,7840.0,2196.5,10025.0,3472.5,10498.0,2485.5,4661.5,16987.0,6588.5,8066.0,2972.5,2806.0,11338.0,13980.5,11494.0,8815.5,3719.0,2212.0,3843.0,2926.5,2573.0,9078.0,8578.0,3128.0,4763.0,6130.5,3653.0,18732.5,3917.5,2306.5,43290.5,1104.0,52055.5,28923.5,2576.5,4416.0,22332.5,3316.0,2210.0,2021.0,10388.5,7807.0,5455.5,6625.0,5855.0,6065.0,16877.0,5686.0,2747.0,13203.0,5091.5,10062.0,1576.0,2900.5,1836.0,10416.0,1183.0,26507.0,12682.0,37344.0,4730.5,5530.5],[868.0,4780.5,35841.5,15366.5,29904.5,17702.0,826.5,5027.0,1535.5,6240.0,3851.0,5692.0,2841.5,3576.5,21707.0,5752.5,50063.5,3048.5,31598.5,64324.0,2077.0,11143.5,2591.5,2379.0,39572.5,4558.0,18212.0,4023.0,12504.5,44604.0,4182.0,13219.0,13977.0,53528.0,5553.5,7320.0,39924.0,3836.0,6522.5,3478.0,15038.0,27271.0,12893.0,2957.5,17337.0,27694.0,27000.5,37514.0,10124.0,50537.0,38199.0,28363.5,59507.0,15510.5,29971.0,13482.0,2966.5,30922.5,2172.0,12936.0,19512.0,20808.0,10959.5,10035.5,2778.0,18982.5,4629.0,12737.5,4847.5,7356.0,36874.0,10918.5,14786.0,4731.5,3941.5,19653.5,22776.5,24093.5,19898.0,6470.0,6529.0,9204.0,4453.5,4463.0,15781.5,14467.0,5519.5,12063.0,11401.0,6398.0,14545.0,3608.0,3764.0,66424.0,1769.5,88321.0,36303.5,2311.0,4270.0,21941.0,6501.0,3424.0,5448.5,19409.5,18662.5,9423.5,12604.0,8629.5,10776.5,30265.0,5196.5,4672.0,25271.5,7367.0,15354.0,2769.5,6296.5,3259.0,19487.5,2106.5,30706.5,28519.0,67841.0,9992.5,15538.0],[555.0,845.0,3642.5,2226.0,3780.5,2463.5,348.5,478.0,493.5,957.5,934.5,624.0,372.0,595.0,1635.5,619.5,7366.0,418.5,3017.5,7856.5,371.0,1257.0,537.0,639.5,4532.0,958.5,4678.5,962.5,1779.0,4682.5,1045.5,1473.0,992.0,6385.0,420.0,1396.5,3312.0,1140.0,753.0,762.0,1023.5,1551.5,2189.0,708.0,3136.5,3309.5,2892.0,5797.0,1633.5,3944.0,2227.0,3778.5,5463.5,2565.0,3694.0,1915.5,876.0,3432.5,1059.5,2204.5,2239.5,1976.0,1771.0,1413.5,1097.5,1857.0,706.5,1302.5,977.5,1722.0,3674.0,1269.0,1128.0,917.5,1068.0,2690.0,4879.0,2743.5,2980.0,839.0,1327.0,1405.0,956.5,821.5,1690.5,1657.0,1047.5,1651.5,1497.5,885.0,1519.0,772.5,549.5,4449.0,498.0,8198.0,2216.5,480.5,681.5,1142.0,1448.0,938.5,1160.0,1668.5,2806.0,1512.0,1924.0,894.0,1174.5,1972.5,496.0,1017.0,3428.0,1411.5,1463.5,828.0,692.0,498.0,2506.5,619.5,2486.5,3705.0,6126.5,944.5,2455.5],[710.5,3824.5,21271.5,10249.5,18328.5,11205.0,712.0,1953.5,843.5,2475.5,1604.5,1527.0,1051.5,1734.0,10184.0,2929.5,28475.0,1629.5,17693.0,35037.5,1066.5,4455.0,1343.5,2227.0,19007.0,1546.5,9925.5,2923.5,10210.0,29513.5,3313.0,4632.5,7281.0,29294.0,2456.0,2960.0,18202.5,4373.0,2741.5,1822.5,6637.0,10452.0,4915.0,1841.5,9710.0,17170.0,12817.0,19498.5,7790.0,23242.0,13196.5,17254.5,26693.0,7166.0,13499.5,5268.5,2012.5,18373.0,1216.5,7724.5,10607.0,10408.5,4918.5,5632.5,1412.5,8564.0,2211.5,7754.0,1835.5,2650.0,15216.5,3137.5,7382.5,2292.0,1674.5,9253.0,13892.5,14736.0,13251.0,3003.5,2447.5,3193.0,2362.5,2702.0,11469.5,10396.5,3514.0,3342.5,6616.5,3833.0,7917.5,1552.0,1646.5,33089.5,681.5,51056.0,16727.0,917.5,2150.5,9008.0,3755.0,1666.0,2470.0,7284.0,7895.5,5539.0,8135.0,4495.0,7658.5,15058.0,2686.0,2465.0,19411.0,3064.0,9075.0,2090.0,2756.0,1010.5,9953.5,655.0,18273.0,19003.5,37803.5,3785.5,5748.0],[866.0,3375.0,20158.0,10225.5,23379.5,12822.5,910.0,2303.0,1164.0,5839.0,4441.0,2429.0,1469.0,1979.5,9806.0,2361.0,42098.0,1419.0,18922.5,48956.0,1325.5,6275.5,1623.0,2336.0,28634.5,3978.5,19486.5,2897.5,10317.0,27310.5,3922.5,6740.0,5997.5,40297.0,1934.5,6570.0,26860.0,4727.5,3176.0,2441.0,6598.5,12590.5,10971.0,1801.5,15298.0,22767.0,18543.5,30722.0,7639.5,29183.0,19476.0,23177.5,32764.5,12067.0,19343.0,9096.5,1924.5,20598.5,1733.0,11199.5,15458.0,15863.0,8466.0,7587.5,2861.0,11829.5,2963.0,6808.5,3452.0,7588.5,22322.0,5638.0,7100.0,3128.5,3140.0,15933.0,22644.5,18685.0,17085.5,3444.5,6006.5,7768.0,3099.5,3288.0,10555.5,9599.5,4207.5,8753.0,8464.5,4914.0,6704.5,1822.5,2197.0,37038.5,1396.0,57824.5,16907.5,952.5,2193.0,6388.0,5428.5,2645.5,5724.5,12182.5,16239.0,7462.5,9788.5,3419.0,6639.5,14622.0,2392.5,4734.0,21993.5,6643.0,8673.5,2589.5,3300.5,1601.5,12024.5,1331.5,16402.5,23418.5,46777.5,6063.0,13447.5],[914.0,4076.0,15866.5,12406.5,6998.0,15107.0,539.5,1474.0,711.5,1245.0,1612.0,1138.5,954.5,947.0,4374.5,1287.0,14931.5,2075.0,9683.5,15493.0,4901.5,2807.5,2326.0,5643.0,8141.5,1755.0,5613.5,3164.5,3823.5,28623.0,9020.0,2490.0,6581.0,13812.5,2083.5,2423.0,6469.5,2303.5,1440.0,1092.5,1566.0,3895.5,2612.0,1012.5,6538.0,5845.0,7513.0,11678.0,3435.5,14900.5,5533.0,14117.0,13648.0,4134.5,8282.0,3223.5,1604.0,7101.5,919.0,2510.0,2886.5,3552.5,2608.0,4968.5,1186.5,3414.5,2312.5,7744.5,955.0,1664.5,6597.0,1812.5,2618.0,1402.0,940.0,4587.0,7300.0,5191.5,5255.5,3204.0,1643.0,2138.5,2716.5,7636.0,21402.5,17439.5,6351.0,2123.5,11849.0,9755.5,3459.5,757.5,847.5,19399.5,742.0,33037.5,6720.5,439.0,1451.5,1989.0,3526.0,2266.0,1630.0,3262.5,5112.0,4912.5,6115.0,6597.0,13258.5,7422.0,2496.5,2826.0,10695.0,1453.5,9490.5,6369.0,1203.0,708.5,7007.5,990.5,13955.0,8962.5,19593.0,2038.0,4100.0],[829.5,3666.0,18715.0,9224.5,17620.5,9924.0,808.0,3230.5,1022.5,4816.5,3247.5,3346.0,1867.5,1958.0,10031.0,2169.5,31873.5,1570.0,14880.5,39518.0,1277.5,5578.0,1777.5,1382.5,23262.0,3034.5,13539.5,2441.5,6963.5,22706.5,3247.5,7582.0,6786.0,32799.5,2357.5,5394.5,22459.5,3469.0,3470.5,2335.0,7166.5,13539.0,8605.0,1547.5,11777.5,16355.0,14758.0,22786.0,4763.5,27769.0,20559.5,17188.0,32195.5,10957.5,17861.0,8020.5,1946.5,17551.5,1141.0,7723.0,11873.5,12315.5,5841.5,6372.5,2238.5,10787.5,2656.0,6498.0,2945.0,4942.5,21177.0,6619.5,5901.0,3473.5,2452.5,11756.0,15800.0,14469.5,12353.5,3202.0,4688.0,6361.0,2553.0,3193.5,9479.0,8016.0,3548.0,7821.5,7723.5,4595.5,7519.0,1465.0,2061.5,33399.0,877.5,47456.0,16591.0,1384.0,2151.0,8906.5,4552.0,2394.5,3988.5,12405.0,11035.0,5365.5,7088.0,4732.0,5308.0,13471.0,2852.5,2820.0,12715.0,5305.5,8019.0,2188.0,3512.0,1775.0,9368.5,1336.5,14910.0,17006.0,35629.0,6025.0,11225.5],[537.5,3305.0,10231.5,8967.0,10643.0,10939.5,425.5,751.5,507.5,4111.5,848.0,979.0,698.0,957.0,5232.5,1052.0,20040.5,1802.5,13238.5,22038.0,1090.5,4917.5,1102.0,3406.5,14455.0,1204.5,8544.5,927.0,4385.0,20619.5,3264.5,2315.0,4709.0,17044.5,1574.5,2597.0,12465.0,1877.0,1597.0,853.0,2316.0,4420.5,7141.5,770.0,7035.0,7688.5,12004.5,16054.0,4498.0,13616.5,6625.0,11423.0,12151.0,5192.5,9253.0,7202.0,1506.5,8041.5,811.5,4337.0,5395.0,7617.0,3534.0,6394.5,1110.0,8527.0,1942.0,6028.5,1681.5,3659.5,12838.0,2051.0,4748.5,1941.5,1482.5,7477.0,9604.0,7269.0,6954.5,2058.0,1928.0,5193.5,1872.5,5086.0,11919.0,9687.0,3432.0,5126.5,8242.0,5631.0,2551.5,806.5,1633.5,17187.5,819.5,28984.0,6839.0,418.0,900.5,2332.0,5067.0,2681.0,2030.0,6158.5,10158.5,4869.0,5464.0,2135.0,7425.5,12083.0,2086.0,3461.0,10399.5,3731.5,9320.0,2549.0,1901.5,620.5,6987.5,436.0,9024.5,11258.5,24763.0,4073.0,4484.5],[1414.5,8530.0,64615.5,26704.5,42044.5,27840.0,1812.0,3692.0,2535.5,7530.0,6007.0,5079.0,2777.5,3125.5,25391.5,5778.0,80365.0,3432.0,37117.0,90038.0,1813.5,11159.0,3987.5,3744.5,47656.5,5317.5,45635.5,12293.5,26351.5,65518.5,6277.0,14645.0,16958.0,84780.0,3619.0,8120.5,41027.0,10436.0,5811.0,3716.5,10917.0,27489.5,13092.0,4196.0,44389.5,42934.5,31413.0,64523.0,16414.0,64210.5,38657.5,49825.0,59015.0,23931.0,30736.5,11847.0,3177.5,36769.0,3015.0,19699.0,23740.5,23306.5,13608.0,17325.0,5746.0,20030.5,5744.5,18672.0,3907.5,15904.5,34635.0,10651.0,12752.0,5388.0,8325.5,28342.5,47746.5,31713.0,32227.0,5249.0,7521.0,10083.5,4393.0,4882.5,18657.5,16293.5,9548.5,10372.5,12535.5,6875.5,29663.5,5102.0,3669.5,78088.0,1778.0,114967.0,35745.0,1785.5,7288.5,19881.5,9456.5,5528.0,7190.5,21459.0,25330.5,13369.5,18723.5,11203.0,12053.5,29644.5,8781.0,9886.5,43055.0,15551.5,20278.0,3715.0,5482.0,2944.0,22891.0,1979.0,51426.0,42364.5,83952.5,9916.0,16359.0]],\"type\":\"heatmap\"}],                        {\"template\":{\"data\":{\"bar\":[{\"error_x\":{\"color\":\"#2a3f5f\"},\"error_y\":{\"color\":\"#2a3f5f\"},\"marker\":{\"line\":{\"color\":\"#E5ECF6\",\"width\":0.5},\"pattern\":{\"fillmode\":\"overlay\",\"size\":10,\"solidity\":0.2}},\"type\":\"bar\"}],\"barpolar\":[{\"marker\":{\"line\":{\"color\":\"#E5ECF6\",\"width\":0.5},\"pattern\":{\"fillmode\":\"overlay\",\"size\":10,\"solidity\":0.2}},\"type\":\"barpolar\"}],\"carpet\":[{\"aaxis\":{\"endlinecolor\":\"#2a3f5f\",\"gridcolor\":\"white\",\"linecolor\":\"white\",\"minorgridcolor\":\"white\",\"startlinecolor\":\"#2a3f5f\"},\"baxis\":{\"endlinecolor\":\"#2a3f5f\",\"gridcolor\":\"white\",\"linecolor\":\"white\",\"minorgridcolor\":\"white\",\"startlinecolor\":\"#2a3f5f\"},\"type\":\"carpet\"}],\"choropleth\":[{\"colorbar\":{\"outlinewidth\":0,\"ticks\":\"\"},\"type\":\"choropleth\"}],\"contour\":[{\"colorbar\":{\"outlinewidth\":0,\"ticks\":\"\"},\"colorscale\":[[0.0,\"#0d0887\"],[0.1111111111111111,\"#46039f\"],[0.2222222222222222,\"#7201a8\"],[0.3333333333333333,\"#9c179e\"],[0.4444444444444444,\"#bd3786\"],[0.5555555555555556,\"#d8576b\"],[0.6666666666666666,\"#ed7953\"],[0.7777777777777778,\"#fb9f3a\"],[0.8888888888888888,\"#fdca26\"],[1.0,\"#f0f921\"]],\"type\":\"contour\"}],\"contourcarpet\":[{\"colorbar\":{\"outlinewidth\":0,\"ticks\":\"\"},\"type\":\"contourcarpet\"}],\"heatmap\":[{\"colorbar\":{\"outlinewidth\":0,\"ticks\":\"\"},\"colorscale\":[[0.0,\"#0d0887\"],[0.1111111111111111,\"#46039f\"],[0.2222222222222222,\"#7201a8\"],[0.3333333333333333,\"#9c179e\"],[0.4444444444444444,\"#bd3786\"],[0.5555555555555556,\"#d8576b\"],[0.6666666666666666,\"#ed7953\"],[0.7777777777777778,\"#fb9f3a\"],[0.8888888888888888,\"#fdca26\"],[1.0,\"#f0f921\"]],\"type\":\"heatmap\"}],\"heatmapgl\":[{\"colorbar\":{\"outlinewidth\":0,\"ticks\":\"\"},\"colorscale\":[[0.0,\"#0d0887\"],[0.1111111111111111,\"#46039f\"],[0.2222222222222222,\"#7201a8\"],[0.3333333333333333,\"#9c179e\"],[0.4444444444444444,\"#bd3786\"],[0.5555555555555556,\"#d8576b\"],[0.6666666666666666,\"#ed7953\"],[0.7777777777777778,\"#fb9f3a\"],[0.8888888888888888,\"#fdca26\"],[1.0,\"#f0f921\"]],\"type\":\"heatmapgl\"}],\"histogram\":[{\"marker\":{\"pattern\":{\"fillmode\":\"overlay\",\"size\":10,\"solidity\":0.2}},\"type\":\"histogram\"}],\"histogram2d\":[{\"colorbar\":{\"outlinewidth\":0,\"ticks\":\"\"},\"colorscale\":[[0.0,\"#0d0887\"],[0.1111111111111111,\"#46039f\"],[0.2222222222222222,\"#7201a8\"],[0.3333333333333333,\"#9c179e\"],[0.4444444444444444,\"#bd3786\"],[0.5555555555555556,\"#d8576b\"],[0.6666666666666666,\"#ed7953\"],[0.7777777777777778,\"#fb9f3a\"],[0.8888888888888888,\"#fdca26\"],[1.0,\"#f0f921\"]],\"type\":\"histogram2d\"}],\"histogram2dcontour\":[{\"colorbar\":{\"outlinewidth\":0,\"ticks\":\"\"},\"colorscale\":[[0.0,\"#0d0887\"],[0.1111111111111111,\"#46039f\"],[0.2222222222222222,\"#7201a8\"],[0.3333333333333333,\"#9c179e\"],[0.4444444444444444,\"#bd3786\"],[0.5555555555555556,\"#d8576b\"],[0.6666666666666666,\"#ed7953\"],[0.7777777777777778,\"#fb9f3a\"],[0.8888888888888888,\"#fdca26\"],[1.0,\"#f0f921\"]],\"type\":\"histogram2dcontour\"}],\"mesh3d\":[{\"colorbar\":{\"outlinewidth\":0,\"ticks\":\"\"},\"type\":\"mesh3d\"}],\"parcoords\":[{\"line\":{\"colorbar\":{\"outlinewidth\":0,\"ticks\":\"\"}},\"type\":\"parcoords\"}],\"pie\":[{\"automargin\":true,\"type\":\"pie\"}],\"scatter\":[{\"marker\":{\"colorbar\":{\"outlinewidth\":0,\"ticks\":\"\"}},\"type\":\"scatter\"}],\"scatter3d\":[{\"line\":{\"colorbar\":{\"outlinewidth\":0,\"ticks\":\"\"}},\"marker\":{\"colorbar\":{\"outlinewidth\":0,\"ticks\":\"\"}},\"type\":\"scatter3d\"}],\"scattercarpet\":[{\"marker\":{\"colorbar\":{\"outlinewidth\":0,\"ticks\":\"\"}},\"type\":\"scattercarpet\"}],\"scattergeo\":[{\"marker\":{\"colorbar\":{\"outlinewidth\":0,\"ticks\":\"\"}},\"type\":\"scattergeo\"}],\"scattergl\":[{\"marker\":{\"colorbar\":{\"outlinewidth\":0,\"ticks\":\"\"}},\"type\":\"scattergl\"}],\"scattermapbox\":[{\"marker\":{\"colorbar\":{\"outlinewidth\":0,\"ticks\":\"\"}},\"type\":\"scattermapbox\"}],\"scatterpolar\":[{\"marker\":{\"colorbar\":{\"outlinewidth\":0,\"ticks\":\"\"}},\"type\":\"scatterpolar\"}],\"scatterpolargl\":[{\"marker\":{\"colorbar\":{\"outlinewidth\":0,\"ticks\":\"\"}},\"type\":\"scatterpolargl\"}],\"scatterternary\":[{\"marker\":{\"colorbar\":{\"outlinewidth\":0,\"ticks\":\"\"}},\"type\":\"scatterternary\"}],\"surface\":[{\"colorbar\":{\"outlinewidth\":0,\"ticks\":\"\"},\"colorscale\":[[0.0,\"#0d0887\"],[0.1111111111111111,\"#46039f\"],[0.2222222222222222,\"#7201a8\"],[0.3333333333333333,\"#9c179e\"],[0.4444444444444444,\"#bd3786\"],[0.5555555555555556,\"#d8576b\"],[0.6666666666666666,\"#ed7953\"],[0.7777777777777778,\"#fb9f3a\"],[0.8888888888888888,\"#fdca26\"],[1.0,\"#f0f921\"]],\"type\":\"surface\"}],\"table\":[{\"cells\":{\"fill\":{\"color\":\"#EBF0F8\"},\"line\":{\"color\":\"white\"}},\"header\":{\"fill\":{\"color\":\"#C8D4E3\"},\"line\":{\"color\":\"white\"}},\"type\":\"table\"}]},\"layout\":{\"annotationdefaults\":{\"arrowcolor\":\"#2a3f5f\",\"arrowhead\":0,\"arrowwidth\":1},\"autotypenumbers\":\"strict\",\"coloraxis\":{\"colorbar\":{\"outlinewidth\":0,\"ticks\":\"\"}},\"colorscale\":{\"diverging\":[[0,\"#8e0152\"],[0.1,\"#c51b7d\"],[0.2,\"#de77ae\"],[0.3,\"#f1b6da\"],[0.4,\"#fde0ef\"],[0.5,\"#f7f7f7\"],[0.6,\"#e6f5d0\"],[0.7,\"#b8e186\"],[0.8,\"#7fbc41\"],[0.9,\"#4d9221\"],[1,\"#276419\"]],\"sequential\":[[0.0,\"#0d0887\"],[0.1111111111111111,\"#46039f\"],[0.2222222222222222,\"#7201a8\"],[0.3333333333333333,\"#9c179e\"],[0.4444444444444444,\"#bd3786\"],[0.5555555555555556,\"#d8576b\"],[0.6666666666666666,\"#ed7953\"],[0.7777777777777778,\"#fb9f3a\"],[0.8888888888888888,\"#fdca26\"],[1.0,\"#f0f921\"]],\"sequentialminus\":[[0.0,\"#0d0887\"],[0.1111111111111111,\"#46039f\"],[0.2222222222222222,\"#7201a8\"],[0.3333333333333333,\"#9c179e\"],[0.4444444444444444,\"#bd3786\"],[0.5555555555555556,\"#d8576b\"],[0.6666666666666666,\"#ed7953\"],[0.7777777777777778,\"#fb9f3a\"],[0.8888888888888888,\"#fdca26\"],[1.0,\"#f0f921\"]]},\"colorway\":[\"#636efa\",\"#EF553B\",\"#00cc96\",\"#ab63fa\",\"#FFA15A\",\"#19d3f3\",\"#FF6692\",\"#B6E880\",\"#FF97FF\",\"#FECB52\"],\"font\":{\"color\":\"#2a3f5f\"},\"geo\":{\"bgcolor\":\"white\",\"lakecolor\":\"white\",\"landcolor\":\"#E5ECF6\",\"showlakes\":true,\"showland\":true,\"subunitcolor\":\"white\"},\"hoverlabel\":{\"align\":\"left\"},\"hovermode\":\"closest\",\"mapbox\":{\"style\":\"light\"},\"paper_bgcolor\":\"white\",\"plot_bgcolor\":\"#E5ECF6\",\"polar\":{\"angularaxis\":{\"gridcolor\":\"white\",\"linecolor\":\"white\",\"ticks\":\"\"},\"bgcolor\":\"#E5ECF6\",\"radialaxis\":{\"gridcolor\":\"white\",\"linecolor\":\"white\",\"ticks\":\"\"}},\"scene\":{\"xaxis\":{\"backgroundcolor\":\"#E5ECF6\",\"gridcolor\":\"white\",\"gridwidth\":2,\"linecolor\":\"white\",\"showbackground\":true,\"ticks\":\"\",\"zerolinecolor\":\"white\"},\"yaxis\":{\"backgroundcolor\":\"#E5ECF6\",\"gridcolor\":\"white\",\"gridwidth\":2,\"linecolor\":\"white\",\"showbackground\":true,\"ticks\":\"\",\"zerolinecolor\":\"white\"},\"zaxis\":{\"backgroundcolor\":\"#E5ECF6\",\"gridcolor\":\"white\",\"gridwidth\":2,\"linecolor\":\"white\",\"showbackground\":true,\"ticks\":\"\",\"zerolinecolor\":\"white\"}},\"shapedefaults\":{\"line\":{\"color\":\"#2a3f5f\"}},\"ternary\":{\"aaxis\":{\"gridcolor\":\"white\",\"linecolor\":\"white\",\"ticks\":\"\"},\"baxis\":{\"gridcolor\":\"white\",\"linecolor\":\"white\",\"ticks\":\"\"},\"bgcolor\":\"#E5ECF6\",\"caxis\":{\"gridcolor\":\"white\",\"linecolor\":\"white\",\"ticks\":\"\"}},\"title\":{\"x\":0.05},\"xaxis\":{\"automargin\":true,\"gridcolor\":\"white\",\"linecolor\":\"white\",\"ticks\":\"\",\"title\":{\"standoff\":15},\"zerolinecolor\":\"white\",\"zerolinewidth\":2},\"yaxis\":{\"automargin\":true,\"gridcolor\":\"white\",\"linecolor\":\"white\",\"ticks\":\"\",\"title\":{\"standoff\":15},\"zerolinecolor\":\"white\",\"zerolinewidth\":2}}},\"width\":3000,\"height\":700},                        {\"responsive\": true}                    ).then(function(){\n",
       "                            \n",
       "var gd = document.getElementById('796cb445-5147-44d1-8e56-2abf00aeb89a');\n",
       "var x = new MutationObserver(function (mutations, observer) {{\n",
       "        var display = window.getComputedStyle(gd).display;\n",
       "        if (!display || display === 'none') {{\n",
       "            console.log([gd, 'removed!']);\n",
       "            Plotly.purge(gd);\n",
       "            observer.disconnect();\n",
       "        }}\n",
       "}});\n",
       "\n",
       "// Listen for the removal of the full notebook cells\n",
       "var notebookContainer = gd.closest('#notebook-container');\n",
       "if (notebookContainer) {{\n",
       "    x.observe(notebookContainer, {childList: true});\n",
       "}}\n",
       "\n",
       "// Listen for the clearing of the current output cell\n",
       "var outputEl = gd.closest('.output');\n",
       "if (outputEl) {{\n",
       "    x.observe(outputEl, {childList: true});\n",
       "}}\n",
       "\n",
       "                        })                };                });            </script>        </div>"
      ]
     },
     "metadata": {},
     "output_type": "display_data"
    }
   ],
   "source": [
    "fig = go.Figure(data = go.Heatmap(z = job_skill, x =job_skill.columns , y = job_skill.index, colorscale= 'magma', ygap = 1))\n",
    "fig.update_layout(width = 3000, height = 700)\n",
    "fig.show()\n",
    "fig.write_html('../reports/figures/skills_heatmap.html')"
   ]
  },
  {
   "cell_type": "code",
   "execution_count": 104,
   "id": "8692540a",
   "metadata": {},
   "outputs": [],
   "source": [
    "ss = StandardScaler()\n",
    "std_job_skill = ss.fit_transform(job_skill)"
   ]
  },
  {
   "cell_type": "code",
   "execution_count": 105,
   "id": "db4b4e61",
   "metadata": {},
   "outputs": [
    {
     "data": {
      "application/vnd.plotly.v1+json": {
       "config": {
        "plotlyServerURL": "https://plot.ly"
       },
       "data": [
        {
         "colorscale": [
          [
           0,
           "#000004"
          ],
          [
           0.1111111111111111,
           "#180f3d"
          ],
          [
           0.2222222222222222,
           "#440f76"
          ],
          [
           0.3333333333333333,
           "#721f81"
          ],
          [
           0.4444444444444444,
           "#9e2f7f"
          ],
          [
           0.5555555555555556,
           "#cd4071"
          ],
          [
           0.6666666666666666,
           "#f1605d"
          ],
          [
           0.7777777777777778,
           "#fd9668"
          ],
          [
           0.8888888888888888,
           "#feca8d"
          ],
          [
           1,
           "#fcfdbf"
          ]
         ],
         "type": "heatmap",
         "x": [
          "APL",
          "Assembly",
          "Bash/Shell",
          "C",
          "C#",
          "C++",
          "COBOL",
          "Clojure",
          "Crystal",
          "Dart",
          "Delphi",
          "Elixir",
          "Erlang",
          "F#",
          "Go",
          "Groovy",
          "HTML/CSS",
          "Haskell",
          "Java",
          "JavaScript",
          "Julia",
          "Kotlin",
          "LISP",
          "Matlab",
          "Node.js",
          "Objective-C",
          "PHP",
          "Perl",
          "PowerShell",
          "Python",
          "R",
          "Ruby",
          "Rust",
          "SQL",
          "Scala",
          "Swift",
          "TypeScript",
          "VBA",
          "Cassandra",
          "Couchbase",
          "DynamoDB",
          "Elasticsearch",
          "Firebase",
          "IBM DB2",
          "MariaDB",
          "Microsoft SQL Server",
          "MongoDB",
          "MySQL",
          "Oracle",
          "PostgreSQL",
          "Redis",
          "SQLite",
          "AWS",
          "DigitalOcean",
          "Google Cloud Platform",
          "Heroku",
          "IBM Cloud or Watson",
          "Microsoft Azure",
          "Oracle Cloud Infrastructure",
          "ASP.NET",
          "ASP.NET Core ",
          "Angular",
          "Angular.js",
          "Django",
          "Drupal",
          "Express",
          "FastAPI",
          "Flask",
          "Gatsby",
          "Laravel",
          "React.js",
          "Ruby on Rails",
          "Spring",
          "Svelte",
          "Symfony",
          "Vue.js",
          "jQuery",
          ".NET Core / .NET 5",
          ".NET Framework",
          "Apache Spark",
          "Cordova",
          "Flutter",
          "Hadoop",
          "Keras",
          "NumPy",
          "Pandas",
          "Qt",
          "React Native",
          "TensorFlow",
          "Torch/PyTorch",
          "Ansible",
          "Chef",
          "Deno",
          "Docker",
          "Flow",
          "Git",
          "Kubernetes",
          "Pulumi",
          "Puppet",
          "Terraform",
          "Unity 3D",
          "Unreal Engine",
          "Xamarin",
          "Yarn",
          "Android Studio",
          "Atom",
          "Eclipse",
          "Emacs",
          "IPython/Jupyter",
          "IntelliJ",
          "Neovim",
          "NetBeans",
          "Notepad++",
          "PHPStorm",
          "PyCharm",
          "RStudio",
          "Rider",
          "RubyMine",
          "Sublime Text",
          "TextMate",
          "Vim",
          "Visual Studio",
          "Visual Studio Code",
          "Webstorm",
          "Xcode"
         ],
         "y": [
          "Academic researcher",
          "Data or business analyst",
          "Data scientist or machine learning specialist",
          "Database administrator",
          "Designer",
          "DevOps specialist",
          "Developer, QA or test",
          "Developer, back-end",
          "Developer, desktop or enterprise applications",
          "Developer, embedded applications or devices",
          "Developer, front-end",
          "Developer, full-stack",
          "Developer, game or graphics",
          "Developer, mobile",
          "Educator",
          "Engineer, data",
          "Engineer, site reliability",
          "Engineering manager",
          "Marketing or sales professional",
          "Other (please specify):",
          "Product manager",
          "Scientist",
          "Senior Executive (C-Suite, VP, etc.)",
          "Student",
          "System administrator"
         ],
         "ygap": 1,
         "z": [
          [
           -0.3521913315903834,
           -0.4893044661927163,
           -0.5974489733718342,
           -0.4315580687813961,
           -0.6693790916627471,
           -0.42121831894566397,
           -0.5867475500024246,
           -0.5063626199557512,
           -0.7039281104168577,
           -0.6165098757390448,
           -0.7648754778918571,
           -0.6035674579353452,
           -0.5808975407761977,
           -0.6595803826801683,
           -0.6323365799661192,
           -0.6604504059092308,
           -0.6023426025587342,
           -0.24200978548849786,
           -0.5782890238400569,
           -0.6021016756343232,
           1.1795714392320558,
           -0.6128205359380406,
           -0.35339079275655805,
           0.8136459378851421,
           -0.6299447586000729,
           -0.6827040276170573,
           -0.6531637744832128,
           -0.6006624237986236,
           -0.73452429409911,
           -0.45233563828511286,
           0.5224331218052592,
           -0.6111127391532386,
           -0.4716140252729425,
           -0.6603624576481593,
           -0.5121357471709159,
           -0.645037933329154,
           -0.6085673621297393,
           -0.78823844740229,
           -0.6374897322383244,
           -0.5633768103470762,
           -0.6904675192675779,
           -0.6455932686297985,
           -0.6403953643707255,
           -0.6713507753916554,
           -0.6440448428724329,
           -0.6952941587447284,
           -0.5775105888480772,
           -0.6154557335844718,
           -0.6401993485070524,
           -0.583274661551335,
           -0.6340842151068703,
           -0.5990433890197788,
           -0.6358389540332903,
           -0.6328301130816202,
           -0.6341891723633983,
           -0.5414326103530258,
           -0.5509953598596472,
           -0.6873370319920419,
           -0.6737945672764633,
           -0.6748663746032836,
           -0.6514482777663836,
           -0.6023124436971657,
           -0.6397403317342107,
           -0.49506595844799695,
           -0.649629436614309,
           -0.5997407058541514,
           -0.47789856744689474,
           -0.4418149163520013,
           -0.5986723161412935,
           -0.6082709902249187,
           -0.573864119526619,
           -0.5935862761935103,
           -0.5447344132230264,
           -0.612265817299089,
           -0.6329910020209598,
           -0.6005628335242518,
           -0.6251659122496499,
           -0.6670533334628247,
           -0.6896029765853454,
           -0.4580558375459701,
           -0.6684263084088403,
           -0.6231372836546871,
           -0.4634784926437049,
           0.2940055310378511,
           0.10056391418040063,
           0.008883043423086358,
           -0.25820497550191474,
           -0.6374206965255677,
           -0.14047374897998405,
           0.26047636856491435,
           -0.6747755372712905,
           -0.7469915909155287,
           -0.6184940040074828,
           -0.5750664554106855,
           -0.6642335113965604,
           -0.5695504463808585,
           -0.6249225665984773,
           -0.7176380101173933,
           -0.7100700078222407,
           -0.6861539850998458,
           -0.621864130201959,
           -0.6282777686493639,
           -0.7117646023648733,
           -0.6186247815387141,
           -0.6442729166596897,
           -0.5212652561412433,
           -0.5901834102746037,
           -0.26798474034953834,
           0.0031700617600562476,
           -0.5702369848077731,
           -0.5434209475129883,
           -0.5303404688876006,
           -0.654499875752373,
           -0.6223604197125638,
           -0.4270590509649631,
           0.5623287682815592,
           -0.6364351699272136,
           -0.5734012342404116,
           -0.5744215369722917,
           -0.535452640553471,
           -0.5594308420906522,
           -0.6594605513180554,
           -0.600620422462825,
           -0.5975459554707956,
           -0.675078884411297
          ],
          [
           0.31163005100213537,
           -0.6884473852068098,
           -0.4729614259385566,
           -0.6378142613508185,
           -0.36785823998441414,
           -0.6308101885661426,
           -0.2898523396365246,
           -0.36097507130735895,
           -0.36696877053521226,
           -0.5320601671448195,
           -0.14699368163024265,
           -0.532214224212732,
           -0.554718217078657,
           -0.33976576864420066,
           -0.5032279028420895,
           -0.5317873112075194,
           -0.386464320094435,
           -0.5306113114990958,
           -0.4469347281895851,
           -0.40169806055092516,
           0.1910439633150597,
           -0.5205023325028499,
           -0.43633064502268876,
           -0.3767988844532078,
           -0.43786147968048034,
           -0.5876557918246388,
           -0.406957049429961,
           -0.4244740882165072,
           -0.30207642085479314,
           -0.30541831012458764,
           0.9618143030824241,
           -0.48877151700355737,
           -0.5554017854001033,
           -0.246586849999533,
           -0.20883330689038793,
           -0.5573091576026905,
           -0.4443123650730839,
           0.2697334481830949,
           -0.3485857320653658,
           -0.47428362004323793,
           -0.45358363788645745,
           -0.42925946063172077,
           -0.4694191991136903,
           -0.11438913866676713,
           -0.4355518461190098,
           -0.1756838672345576,
           -0.4241129917464299,
           -0.37428047584859764,
           -0.12841409266133802,
           -0.3827509750240793,
           -0.46579551984251333,
           -0.4331951886711464,
           -0.4151636157665295,
           -0.466723074909519,
           -0.413832696053482,
           -0.4486754283587748,
           -0.19399705683384894,
           -0.33058997397703144,
           -0.23151775149084958,
           -0.3025788272025515,
           -0.35136658451094965,
           -0.4225562137924593,
           -0.4060984798114613,
           -0.30084445790057507,
           -0.2594701862289187,
           -0.45446237422560104,
           -0.27331842788717176,
           -0.255383337141674,
           -0.5042053506281108,
           -0.4430126775851952,
           -0.4455635298917757,
           -0.44926921199093317,
           -0.42106395983167655,
           -0.49343948584961833,
           -0.41414940897342206,
           -0.4489828573308009,
           -0.34230456379736324,
           -0.3668565362358897,
           -0.32541523402048694,
           0.24562996165608958,
           -0.4712860042131436,
           -0.4827981233472036,
           0.2776020527696315,
           0.02762555928710688,
           0.05341042945948743,
           0.2967312827068234,
           -0.63639463274722,
           -0.4708042159577224,
           -0.1997058309215838,
           -0.03500646536592283,
           -0.566089303563921,
           -0.5364806383045313,
           -0.5387984232203086,
           -0.44252345861379627,
           -0.36965255930693736,
           -0.41546415259225017,
           -0.4528861532819782,
           -0.5508681907947801,
           -0.5772614524017708,
           -0.5188064008747164,
           -0.5831237687267024,
           -0.5656422413535696,
           -0.4654771976509961,
           -0.4685682338652341,
           -0.498767997326513,
           -0.36558979446123924,
           -0.36801715292558157,
           -0.5094124343581314,
           0.1963506884019564,
           -0.45236373070694735,
           -0.5753300461204819,
           -0.333829590738983,
           -0.2727930897975475,
           -0.4430065030344701,
           -0.2632940405998652,
           1.298689535457877,
           -0.4646601376949504,
           -0.4692939192395444,
           -0.39886231485157997,
           -0.605050714740692,
           -0.4669433136230887,
           -0.3441116593660058,
           -0.4008988732079097,
           -0.4841963622136512,
           -0.5470726649799608
          ],
          [
           -0.4210852264324178,
           -0.5018996607717949,
           -0.35247722254167957,
           -0.32696706915002627,
           -0.5765115590551723,
           -0.22833673936784865,
           -0.5294338659143988,
           -0.23300373942413868,
           -0.5674628115396462,
           -0.56032621195021,
           -0.7158860200841047,
           -0.5009870720393435,
           -0.536609211212689,
           -0.4526415147745422,
           -0.4292050835052423,
           -0.5470485825696719,
           -0.5080106774849066,
           -0.11820309971936005,
           -0.4427939122893057,
           -0.49678170452540793,
           2.4896901087930283,
           -0.5362052138977211,
           -0.06980352010923238,
           1.004650144454355,
           -0.5249853655169905,
           -0.59998031748731,
           -0.624002878433223,
           -0.41247702090900235,
           -0.5517931107872555,
           0.1258929345731739,
           2.3822314783914016,
           -0.49890550379742743,
           -0.3372458743912217,
           -0.39432786465310865,
           0.32569589866613985,
           -0.5526894930322274,
           -0.525292124163363,
           -0.410865036526975,
           -0.18860631828880894,
           -0.5212434275240312,
           -0.36898867303650135,
           -0.34017364171114184,
           -0.5242643181439128,
           -0.37267024799461224,
           -0.5721282715006929,
           -0.4771896034702062,
           -0.3865434752695857,
           -0.44887642151207746,
           -0.37429654309379495,
           -0.32100322328637354,
           -0.4363277036400178,
           -0.3915029325396218,
           -0.31784683588919405,
           -0.48570426006980605,
           -0.26832324039781863,
           -0.38150483323753115,
           0.025845319866880247,
           -0.4003202271976037,
           -0.3125655226594448,
           -0.5900983628675852,
           -0.5804591355895625,
           -0.5300174204689531,
           -0.5398193588956389,
           -0.0793328230657084,
           -0.602427744431422,
           -0.5316608539209672,
           0.6597042998980809,
           0.431421394171433,
           -0.5524422197217815,
           -0.5835437378048739,
           -0.47329247199190233,
           -0.48900316169600666,
           -0.4858589824393091,
           -0.5174939312647214,
           -0.6237462086512948,
           -0.5186860135336088,
           -0.5485758553316211,
           -0.5786044082250436,
           -0.6005468931591466,
           1.2573702774745907,
           -0.6226716819336213,
           -0.5442476321038962,
           0.96703094474418,
           3.00376542931146,
           1.7405006987428893,
           1.8292083800971468,
           -0.10908487895019811,
           -0.5285935307325804,
           1.5660398005689897,
           2.680773378233819,
           -0.49079513284416687,
           -0.485385746894095,
           -0.5415253139536446,
           -0.32640352460587896,
           -0.42441301549993854,
           -0.35900768491014706,
           -0.3435665403770228,
           -0.5274714461589811,
           -0.49064185029635365,
           -0.4374414228928933,
           -0.49488669259005696,
           -0.4657535344950995,
           -0.646644373399333,
           -0.5071769876334232,
           -0.5822599243236642,
           -0.24060149471260397,
           -0.42465749741245734,
           -0.1016142338782834,
           1.903571008375882,
           -0.41668118510895646,
           -0.3057985277309376,
           -0.49761643517837356,
           -0.42536821659985735,
           -0.5833689913418115,
           0.3585259828767922,
           2.8082353921833847,
           -0.6450580977772568,
           -0.49100690897038823,
           -0.3207476743442783,
           -0.42289279217660736,
           -0.27135433375341744,
           -0.5425878441332899,
           -0.4003278140464852,
           -0.5489763803704174,
           -0.5754567494067391
          ],
          [
           -0.06369814693936444,
           -0.07257212271800455,
           0.02803788610173014,
           -0.12245054542527874,
           0.06368374778416581,
           -0.1696876969985985,
           0.4583235904855434,
           -0.2991348813440671,
           0.3916748104267263,
           -0.13594356081966322,
           0.5714882373989518,
           -0.12957811963512916,
           -0.10337092957143222,
           -0.060386080981764484,
           -0.14660734961024616,
           -0.3245513342452211,
           0.010996609153229177,
           -0.2748564572231671,
           -0.18077069741323587,
           -0.04289506931507614,
           -0.5215728862369338,
           -0.2789784112651279,
           -0.1422711688064072,
           -0.39740957092951357,
           -0.09876361912643841,
           -0.1787989897273885,
           0.2672967781460633,
           0.48105662020862994,
           0.2339896579432762,
           -0.11595906678575836,
           -0.015896449855656487,
           -0.09941307702855022,
           -0.24970934636521627,
           0.20162628555321535,
           -0.3420617691186087,
           -0.20522792577613652,
           -0.154878130280383,
           0.689507573198635,
           -0.1764398166528607,
           -0.12482438604033512,
           -0.22730783923891282,
           -0.11641219466770453,
           -0.1623345656900917,
           0.15202188451401258,
           0.2577732809468423,
           0.22702158515809395,
           -0.16256789262825536,
           0.057502125655892036,
           -0.009175916397405606,
           -0.042912836304132236,
           -0.0709226526917638,
           -0.01722673433496165,
           -0.12059924641250247,
           -0.021098584034560216,
           -0.15657578262304447,
           -0.22141452789326063,
           -0.11773979050467642,
           -0.045538266587312054,
           0.13080064488918763,
           0.16755747541319083,
           0.02454058221809523,
           -0.14789977773382304,
           -0.04472995092777841,
           -0.045011065074234156,
           0.30073937099429365,
           -0.16046778173130224,
           -0.19740905889720037,
           -0.15751826617842563,
           -0.2659196768002085,
           0.2311609715110523,
           -0.20088206605684028,
           -0.03582238854678729,
           -0.27477086252727495,
           -0.20485186339683858,
           0.19607917837266578,
           -0.046826011499934796,
           0.19422804052049106,
           0.03235971196806192,
           0.15414195329990688,
           -0.23907979294026563,
           -0.03797788053424582,
           -0.14354971717607065,
           -0.14304515102999157,
           -0.40412379705582746,
           -0.2896233650168249,
           -0.21093960648104165,
           -0.23594940206959925,
           -0.18868948040869366,
           -0.2543064489117329,
           -0.33975189176583964,
           -0.010400289120227153,
           -0.03166311116942106,
           -0.17286727965006052,
           -0.1481331683965633,
           -0.12680184053797558,
           -0.11854699565969412,
           -0.19816490655744937,
           -0.09245522903523148,
           0.012290917232270757,
           -0.2085254618479908,
           -0.1341116107251107,
           -0.11397156686309615,
           0.07597526636486124,
           -0.15300260924316494,
           -0.07123201329107332,
           0.024541871116943538,
           -0.08812358578038179,
           -0.22656647817739747,
           -0.23745773800252543,
           -0.23992763403831166,
           -0.16348810096953462,
           0.22709034869795294,
           0.08996632796858683,
           0.21113126541752023,
           -0.18130514844652904,
           -0.10101175555469356,
           -0.10733442020169638,
           -0.1838615707910343,
           -0.07702782811763478,
           -0.011318995439831168,
           -0.04094680669387328,
           0.062104254307296866,
           -0.12315956225002347,
           -0.15896855895091586,
           -0.17032228828936344
          ],
          [
           -0.08379219960162447,
           -0.22510290431346067,
           -0.4311730950380467,
           -0.3204828489107831,
           -0.24106641931882514,
           -0.3050002895391895,
           0.11031076998707973,
           -0.4696791875421522,
           -0.30488029332093597,
           -0.25336306281555343,
           -0.058324570727281304,
           -0.4702453160137279,
           -0.44448948572059077,
           -0.3619988701547225,
           -0.5005061937934535,
           -0.4941629887404307,
           -0.19404031563003296,
           -0.5526494630475705,
           -0.33187716086389096,
           -0.24402124866678704,
           -0.7525860407620305,
           -0.4370843181615031,
           -0.2802948118452459,
           -0.43649880390181756,
           -0.2548633715360504,
           -0.2247358581064356,
           -0.15650279890164073,
           -0.29230804920077214,
           -0.27470428618611414,
           -0.436986066686252,
           -0.5598879185140075,
           -0.4383682668972037,
           -0.5076749343894401,
           -0.2785373719974275,
           -0.5375968447445539,
           -0.3245318845861535,
           -0.280373078578184,
           0.03176737697680634,
           -0.40430965392283036,
           -0.31527249415688535,
           -0.4730917222354909,
           -0.4741768086858607,
           -0.1884471303239078,
           -0.14728402087171785,
           -0.31704214465186964,
           -0.24236493748468993,
           -0.341462307866466,
           -0.246980791178195,
           -0.23580251227792315,
           -0.4062774540738211,
           -0.4375254144597408,
           -0.3442524485417072,
           -0.4021854179506683,
           -0.36379998186001716,
           -0.3772855031763826,
           -0.2994512960240936,
           -0.360262899813848,
           -0.34905370167553607,
           -0.3609327409374774,
           -0.18757443721493577,
           -0.273671706171996,
           -0.23967127879435685,
           -0.1942417237110749,
           -0.36316880544466007,
           -0.0874324397202382,
           -0.27574907413571664,
           -0.46568601912358704,
           -0.5265453838745879,
           -0.1985813048450995,
           -0.20499669028544465,
           -0.29671170674874087,
           -0.4188866721588117,
           -0.388939805475143,
           -0.18960423679491537,
           -0.2873223999333309,
           -0.21696876396580703,
           -0.17767163719648565,
           -0.2557637865180248,
           -0.1917546507459,
           -0.557304955020002,
           -0.1800688473770415,
           -0.2762649501457963,
           -0.549886398863733,
           -0.6041087608326624,
           -0.6152218202199519,
           -0.6075442849344146,
           -0.28332973435930225,
           -0.31517225975598373,
           -0.5295529042139623,
           -0.6232730996604482,
           -0.5790234444173518,
           -0.5196586279017107,
           -0.22951623552968548,
           -0.4327451527394426,
           -0.3332898848388575,
           -0.34112796435482673,
           -0.4841586694748619,
           -0.5353610460943087,
           -0.43575418163549523,
           -0.6054046908862204,
           -0.1521700410741863,
           -0.19021512089033418,
           -0.2202892902795916,
           -0.3050001270008602,
           -0.2579112424324123,
           -0.2057493658609726,
           -0.1876045412621286,
           -0.43532095759682765,
           -0.637107392168737,
           -0.40822143118704474,
           -0.6061316705897545,
           -0.10109448512276623,
           -0.21387892814249002,
           -0.25596741574746523,
           -0.520537735963317,
           -0.5273192691682914,
           -0.4148154084154323,
           -0.4704442763113772,
           -0.27901667999370783,
           -0.3816494889545505,
           -0.4900499458507058,
           -0.20270419522503796,
           -0.3090563658358265,
           -0.29393207628324436,
           -0.2694998800765874
          ],
          [
           -0.19000362081642747,
           -0.0058275089249343525,
           0.8390715156130705,
           0.15573831800956925,
           0.09887669547329558,
           0.005301645192072383,
           -0.015159727611031064,
           0.15200402829290005,
           0.6367949444289213,
           -0.08263441006188516,
           -0.32930315837975643,
           0.3652023536613585,
           0.40407490871623697,
           0.4430348603636223,
           0.8681876192632326,
           1.2908769046931183,
           0.09321528542142876,
           0.3857266076629583,
           0.20351605636671538,
           0.10562926183709886,
           -0.32945347185222046,
           0.14947782549457225,
           0.4404022377702989,
           -0.37111317783905445,
           0.21245370506844358,
           0.011951055188044768,
           0.07128436856261186,
           0.6220469484009594,
           0.7209087617751389,
           0.4195769407912911,
           -0.15537683303057157,
           0.4810243507835067,
           0.4679279233449442,
           0.17696526362529846,
           0.3134653412214013,
           -0.07139220656971146,
           0.17439483102383682,
           -0.2000608204687508,
           0.5654479101756511,
           0.3617313970245501,
           0.6871748183332127,
           0.7416329471504569,
           -0.07251258332928935,
           0.10736989612174104,
           0.3584331259148496,
           0.12210628884309233,
           0.21785724723619249,
           0.12377286597110371,
           0.1480961562023674,
           0.36004627353153124,
           0.5413553784252597,
           0.14746766222503896,
           0.4118286918176521,
           0.36134196171779914,
           0.33201535129749393,
           -0.022387102597961592,
           0.4367773335048801,
           0.42387437596491545,
           0.5421398706050687,
           0.05924754969312868,
           0.21659479560982106,
           0.09812496595720421,
           0.09828590237394075,
           0.3217175385909856,
           0.19652300325365615,
           0.14937374638853615,
           0.511397667318305,
           0.6004526926554631,
           0.1408605767431817,
           0.0823443397998403,
           0.0848561953866823,
           0.29101892876785646,
           0.3340798939859924,
           0.10969615779628458,
           0.3429124980642975,
           0.18103859375679016,
           0.045150426779294484,
           0.16621896151308105,
           0.027150871980498214,
           0.3023534944077543,
           -0.07099721254722653,
           -0.05772327336946555,
           0.28928401550999283,
           -0.11498190033702892,
           0.04359979825651597,
           0.11147070243780115,
           -0.02432759058252975,
           -0.04173797760846355,
           0.04655779137195805,
           -0.04776553313790002,
           1.6856629000456695,
           1.7021044656745514,
           0.178373839647055,
           0.5025273487427766,
           0.1866097822583316,
           0.22441604527964934,
           0.8728302051605279,
           1.8954518994971254,
           1.2742172279618278,
           1.5928231630289855,
           -0.13830921196847937,
           -0.013986349176743471,
           -0.03247515332448807,
           0.20222500872767527,
           -0.13169010758917477,
           0.12025752600146898,
           0.06929734662327551,
           0.3258737363129321,
           0.148424653988215,
           0.2794971600339343,
           0.7421488755607165,
           -0.09259401456671916,
           0.104082216887291,
           0.1498162462304071,
           0.34864381536811445,
           -0.29606755187789635,
           0.38017647629586854,
           0.2732615706285192,
           0.16237439574979387,
           0.1805769292739058,
           0.6515201654494989,
           0.024760850236876485,
           0.18488423898315778,
           0.1897875445193771,
           -0.07470104224081184
          ],
          [
           -0.48208502915713575,
           -0.5499994195974102,
           -0.3566231514341711,
           -0.4507735019293972,
           -0.3478233034722504,
           -0.45649333365767647,
           -0.4664404473671991,
           -0.4868429953686985,
           -0.4824145328555073,
           -0.4344138305443797,
           -0.46632902191583125,
           -0.3384602618933913,
           -0.28170526994716083,
           -0.3200980250002775,
           -0.40171965550704475,
           -0.06367425497040648,
           -0.3571704467328248,
           -0.4035761067133024,
           -0.32477589957283715,
           -0.3530703158271101,
           -0.8366382845553425,
           -0.3311040410217493,
           -0.6028386817690875,
           -0.7552537309577877,
           -0.34532815964778407,
           -0.3272535033913821,
           -0.36414144808672205,
           -0.3515001912055687,
           -0.27520485722743665,
           -0.4382247453103694,
           -0.6936165333105756,
           -0.36549690133338814,
           -0.4765377801251563,
           -0.3649179478266622,
           -0.4854439016783105,
           -0.39571059986115237,
           -0.3532232907032597,
           -0.3587283846973138,
           -0.41069538682567613,
           -0.3982348207062867,
           -0.39236241465285476,
           -0.39013444837632844,
           -0.39878864176386153,
           -0.3143850194489581,
           -0.36970756237875047,
           -0.37073370074822953,
           -0.36845695145009777,
           -0.37139259973862926,
           -0.3033652376785244,
           -0.4106798338445024,
           -0.3802004966054117,
           -0.4266606652912986,
           -0.412365684456025,
           -0.37229384553904976,
           -0.4475131760320431,
           -0.3890275683980161,
           -0.46312984455764983,
           -0.383197269082527,
           -0.32062672570578354,
           -0.3455021569180425,
           -0.3422969557448998,
           -0.345273734474405,
           -0.2935025421307873,
           -0.4041194950337656,
           -0.33350231396839425,
           -0.36450076667540077,
           -0.47055507433745486,
           -0.4968390845041193,
           -0.3087308271822645,
           -0.34979999830544517,
           -0.3506168310839307,
           -0.33403694094423114,
           -0.2583694456903124,
           -0.3487184781882608,
           -0.2632714921825619,
           -0.3532973103573426,
           -0.33836294605916356,
           -0.34418204291903826,
           -0.3399187541452397,
           -0.5556667302473908,
           -0.39641479725369433,
           -0.4378071358389756,
           -0.5408111550819648,
           -0.6882478892289526,
           -0.6505869337606368,
           -0.6469794092124488,
           -0.5314755008520183,
           -0.34984049031632974,
           -0.6560135800758383,
           -0.7060843568343387,
           -0.35996023963615115,
           -0.3435777713488227,
           -0.3797591185147777,
           -0.3720441245194202,
           -0.3722498931975145,
           -0.3892083777979958,
           -0.3802604848834686,
           -0.35716490962397973,
           -0.33529014524731693,
           -0.43782030521178417,
           -0.42335257140098265,
           -0.42270970525946894,
           -0.3567768922019939,
           -0.3538704435398618,
           -0.3889800005703539,
           -0.43262218659301277,
           -0.3011451567228871,
           -0.4781341353343515,
           -0.619229903894502,
           -0.31430382408785523,
           -0.4416717610639308,
           -0.3413300059354951,
           -0.3291669891560139,
           -0.2974872985176861,
           -0.36911361420953437,
           -0.7765432666611465,
           -0.3169136300204295,
           -0.2543209414407925,
           -0.40874406979087086,
           -0.3627463083111077,
           -0.39010827150612326,
           -0.36676230564992307,
           -0.3932833305104055,
           -0.3251487580546889,
           -0.423200697469831
          ],
          [
           3.1039857263183412,
           2.7254453942862886,
           3.0444534209039453,
           3.01517400904038,
           2.506240726010736,
           2.9526503758755385,
           2.636243585830528,
           3.1299246861986845,
           2.854517739926353,
           2.096333573934549,
           2.127762194103527,
           3.09062082404811,
           3.4883141795189867,
           2.8477524605538522,
           3.3504629394798062,
           3.182896799358389,
           2.162455965455818,
           3.220085563502449,
           3.1353660196367144,
           2.303636544699209,
           2.338813720865903,
           2.7995233004622495,
           3.286956611883891,
           2.316804624001924,
           2.168838456560624,
           1.7046126138135416,
           2.4428330393395825,
           3.030582147028292,
           2.5013716960717316,
           3.1627479262016673,
           2.1459596179746154,
           2.842576628583974,
           3.2758390072190706,
           2.7928345232958964,
           3.696022153013422,
           1.780689626174966,
           2.070559042230585,
           2.2979126996027164,
           3.6072077556448745,
           3.015612739237711,
           3.0926324940100374,
           3.1396905342477632,
           1.9415390469178988,
           2.872791362096877,
           2.7606234400850713,
           2.5352487279944222,
           2.6685924866222774,
           2.749476452320705,
           2.910594565253614,
           3.03661239649529,
           3.1282042471615004,
           2.701190463017708,
           2.950136934780041,
           2.6192796110475642,
           2.8151457604308856,
           2.4587920562134644,
           2.856650773224523,
           2.6774521736494776,
           3.0537492954211056,
           2.326633490747164,
           2.465488848617116,
           2.0570753406521742,
           2.1566209742010654,
           3.0845571042729083,
           2.358608935188742,
           2.046299156961161,
           3.44312765010764,
           3.267759217535267,
           1.70666353698411,
           2.410136811729764,
           2.083349480538821,
           2.7616995862216567,
           3.2985700045555606,
           1.9429603665637267,
           2.7681540336891386,
           2.228934635429115,
           2.302892978984428,
           2.5382490265757656,
           2.447250821296706,
           3.2884959580504454,
           1.766017661636847,
           2.1138853513185896,
           3.309409291906552,
           2.3735582670968958,
           2.9704467814411464,
           2.9515320170500012,
           2.603613622127363,
           1.8458855558998337,
           2.7072976481682556,
           2.5022691127700996,
           3.0305317592413963,
           2.8834183550838373,
           2.021576046947771,
           3.0448205305755884,
           2.2982422352975393,
           2.869593974393893,
           3.228639414183048,
           3.040804165970538,
           2.708525123079393,
           3.126822951638563,
           2.3802078090397667,
           2.371375272769099,
           2.1369330576779424,
           2.0809636800102793,
           2.1197717631278694,
           2.7743237577276765,
           2.9222032086501684,
           3.4080469792239687,
           3.045216236138353,
           3.2746904472026017,
           3.2174227916183678,
           2.6731701994893533,
           2.6838132162983492,
           2.6424397853275727,
           3.358118444996454,
           1.8847366863954378,
           2.8645261160186837,
           2.8686109193172644,
           2.849886562657573,
           2.723913961300748,
           3.193835306235493,
           2.5285869244809307,
           2.6250583904697935,
           2.159340937353337,
           1.8095398387512422
          ],
          [
           1.149121460175616,
           1.480107927124948,
           0.470676119737394,
           1.271076916397115,
           1.3551710142103273,
           1.5622115955085107,
           1.539538495713708,
           0.2194813512188321,
           0.6565209710438736,
           0.3594744047601777,
           2.6641154092902477,
           -0.05029674883222564,
           0.21393034712357273,
           1.22925596652691,
           0.23247688675540995,
           0.5630955827544304,
           0.48911663388536836,
           0.4476299505475272,
           0.6695625061639072,
           0.44027202943476207,
           0.05269710241302436,
           0.4420219389899987,
           0.6745607095721528,
           0.7827299081706834,
           0.3040271667637148,
           0.7747644996124646,
           0.2562559346836255,
           0.41512232467564886,
           1.2265082667399902,
           0.5011623409797837,
           0.18415724405372558,
           0.0011267393211605273,
           0.5415604390894141,
           0.6822830563438862,
           0.2128516988458166,
           0.5499302526014034,
           0.43214619548370187,
           1.5538895193650883,
           0.43874152573497477,
           0.5682241060303713,
           0.1962663117189793,
           0.23355798331519767,
           0.28002887247525005,
           1.2880835387633185,
           0.3991541536853014,
           1.2466674044192232,
           0.4075179867405491,
           0.44738044152302814,
           1.1747485602476426,
           0.332817487335192,
           0.1808857220617264,
           0.9051728290730255,
           0.27109143331650176,
           0.11987355141387321,
           0.24272607561411208,
           0.09783735005941807,
           0.5567887690393155,
           0.9256599512834236,
           0.9940029819052474,
           1.2455203150172236,
           1.1758407050616495,
           0.6021928371113074,
           0.625934126279951,
           0.17715107239404493,
           0.20968979107309307,
           0.19977703511930275,
           0.04540513717797615,
           0.270860073607082,
           -0.004295980020977098,
           0.033990262423469975,
           0.25501279726654236,
           -0.04822732001090726,
           0.6042508189176135,
           0.25343132753079367,
           0.04671798549401628,
           0.2791423854555972,
           0.5771179942268869,
           1.3689485100827696,
           1.5896846131092766,
           0.21286546620386448,
           0.4724609378312725,
           0.4376029585574838,
           0.2618651938714588,
           0.21168444776680484,
           0.3602203548786744,
           0.16575033421192398,
           2.1920793775095992,
           0.27097267702859856,
           0.49027374790820605,
           0.2856264540769848,
           0.19533426942203494,
           0.32380011799672165,
           0.2606203827331564,
           0.39463936012908296,
           0.5731796429725613,
           0.5887830255607235,
           0.31421911433302613,
           0.3537152500660502,
           0.26786162443439265,
           0.04234199354765383,
           0.9466395344034648,
           0.9496742672308158,
           1.5747400756108965,
           0.10582349454498337,
           0.5788220752500112,
           0.2991153507282177,
           0.9769606392515079,
           0.4758271595916027,
           0.3287159308252538,
           0.49774037592015347,
           0.1783061049389322,
           0.8412910153456675,
           1.218799121696097,
           0.06787436220552398,
           0.46053926708718596,
           0.29186480327670583,
           1.0077573715282815,
           0.09179274254689714,
           0.37518440157218363,
           0.2352815884087174,
           0.32792971497150725,
           1.4550570234434643,
           0.6209859263480141,
           0.3328408448627031,
           0.5248543949776054
          ],
          [
           -0.3141561604796769,
           1.1514427709433215,
           -0.24235784137603136,
           0.9445990632131063,
           -0.23881743179093834,
           0.6918907819206254,
           -0.02032312257391628,
           -0.4705205506709045,
           -0.16970850438568863,
           -0.27849327522342754,
           0.1998191405253768,
           -0.36297276735592165,
           -0.22521304512615187,
           -0.3453851239710358,
           -0.36909748085367505,
           -0.38302769085069643,
           -0.39589751260181777,
           -0.31486201895128985,
           -0.32561358186990513,
           -0.38546943319134624,
           -0.42394698816644083,
           -0.21667708760821994,
           -0.2381965534980432,
           0.5432195170494751,
           -0.3883134434873536,
           -0.08897934057973955,
           -0.3625350121698692,
           -0.21318689456119486,
           -0.3137260741801162,
           -0.21457629805586595,
           -0.7225551179641341,
           -0.4595029630396827,
           -0.06803398267046412,
           -0.4178257825257424,
           -0.48167473617647283,
           -0.19634740553388716,
           -0.39176628845090716,
           -0.2392162220458306,
           -0.44107803179500543,
           -0.29035770741013117,
           -0.4767476151549718,
           -0.4843554251554276,
           -0.290495731576798,
           -0.36704184609642676,
           -0.31655836349441646,
           -0.3566326209290931,
           -0.3696056596876991,
           -0.3611045410968669,
           -0.3685627898773366,
           -0.396180252764919,
           -0.4499258514811834,
           -0.11706404485321328,
           -0.4197808592202493,
           -0.4043841825509049,
           -0.4001920337305795,
           -0.42647871597166487,
           -0.4063387188136759,
           -0.3588894235814468,
           -0.2899070059886547,
           -0.2970657389822132,
           -0.34040342952645586,
           -0.3502611905642466,
           -0.28381147526193,
           -0.3983269239648074,
           -0.41088824615244335,
           -0.3809674148673023,
           -0.429048374153664,
           -0.30568150312121745,
           -0.4234141692647515,
           -0.41741155629690274,
           -0.40778731807653323,
           -0.46774301761749953,
           -0.4033994453762353,
           -0.40431973726251536,
           -0.4056268650857622,
           -0.37716373699331285,
           -0.36384268929538316,
           -0.25321827306631334,
           -0.18552037202236477,
           -0.5702059751043157,
           -0.20785027602248876,
           -0.24747071814053037,
           -0.6025035037686663,
           -0.2835510443496484,
           -0.19513423531393534,
           -0.4283679809825747,
           1.2571902022482913,
           -0.3366590610770019,
           -0.233320127881722,
           -0.2977328464590878,
           -0.3894354277247974,
           -0.47500955356151414,
           -0.3838934367233839,
           -0.3437605278828502,
           -0.3064507679695605,
           -0.31579290033940943,
           -0.44570410270420985,
           -0.6191540385108909,
           -0.4667510123747747,
           -0.5190432023240232,
           -0.16004054340550256,
           -0.009160807782614482,
           -0.056064369035719805,
           -0.43281827324433886,
           -0.10522635274764575,
           -0.40358529457344616,
           -0.050056170274183666,
           -0.13240967751404617,
           -0.3894562934412773,
           -0.3667112827057999,
           -0.21789276800964297,
           -0.18598807342106635,
           -0.20000212273405324,
           -0.41339697125121955,
           -0.2735308313445003,
           -0.6183117927108164,
           -0.37085950791155353,
           -0.4117760656479051,
           -0.36573043448839976,
           -0.4512475631417715,
           -0.23595019081543178,
           -0.17183948750142208,
           -0.32182848752828314,
           -0.3940662988201333,
           -0.23018003250339167
          ],
          [
           1.2007918813071417,
           0.8453894601477574,
           0.9232185168384542,
           0.8939114391478029,
           1.1694112348465195,
           0.9096747693425072,
           1.0851597389798089,
           0.8964421246129085,
           0.7677628260527853,
           1.501483589416794,
           1.224620750533303,
           0.8446928483030005,
           0.7867260761449526,
           0.895270804275445,
           0.7634784887512709,
           0.6515656261459184,
           1.725657260711877,
           0.8910600189655616,
           1.00110383257961,
           1.6076202842445144,
           0.1333559326370412,
           1.0808797797102212,
           0.8536353906012987,
           0.8132905812217576,
           1.7214030968367477,
           1.1926779607194051,
           1.5149937725837448,
           0.7171311430116795,
           1.0502617537361767,
           0.8470131300636041,
           0.4710266919237828,
           0.7997782380301692,
           0.901665964417232,
           1.0910364128413585,
           0.414232827086857,
           1.320651766959047,
           1.7841109031678213,
           1.1708015363677131,
           0.6155254997821784,
           1.1613525632947235,
           0.8619684527539686,
           0.8123483501604961,
           1.8770436322621356,
           1.1184810282313293,
           1.2578323439468593,
           1.1301884976612793,
           1.3874224226418361,
           1.3556626011722988,
           1.037735749012689,
           1.0013868433352937,
           0.870715528755815,
           1.1632365783746204,
           1.0776838004067233,
           1.3388946654921725,
           1.2846471442207572,
           1.5257871497661595,
           1.1905991629555528,
           1.1708467920513714,
           0.9624117807777036,
           1.257573774977218,
           1.1144156793894529,
           1.7667753791265581,
           1.701774579606879,
           1.0026389141944032,
           1.6607691807585847,
           1.822214043976924,
           0.635359023828742,
           0.6878530445222963,
           2.3072831658684763,
           1.4530562079167475,
           1.7999175241889955,
           0.8737071864024882,
           0.8554564273687928,
           2.1174536796159087,
           1.2506356470482758,
           1.6720650872833231,
           1.530084523615,
           1.0957198433201512,
           1.1889498818764481,
           0.21266068810728805,
           1.8374996370055392,
           1.4659496897637307,
           0.26340991621729165,
           0.2940782528428609,
           0.3732318020974694,
           0.33129335234192914,
           0.698474499879535,
           1.8598439393016424,
           0.8171899729188071,
           0.364879894275997,
           0.4776874096211126,
           0.4731544159656892,
           2.0535950220101675,
           1.0299842739652205,
           1.865786142516447,
           1.267819294195528,
           0.8094263326458793,
           0.46335348365008466,
           0.7412677666342964,
           0.47102365722778927,
           1.5344348835139328,
           1.4752722358793453,
           1.205758762907456,
           1.8686606731244069,
           1.4932393184349875,
           1.4308468809576866,
           1.1214561363467292,
           0.7155380344428014,
           0.317582405761612,
           0.9931787974922575,
           0.8255555215954882,
           1.3630421198674847,
           1.233233788628491,
           1.4158399793537944,
           0.6972620978632399,
           0.2611988146795013,
           0.9509196580776919,
           0.7259270783947206,
           1.342151156381117,
           1.2866994087432373,
           0.8903334314767453,
           1.233062509845816,
           1.4282377139189906,
           1.8861718140774022,
           1.5229872808577212
          ],
          [
           2.6023520544997787,
           2.6577090328885666,
           2.963662647829626,
           2.579676908256738,
           3.280526765419354,
           2.6516206142777055,
           2.7209232632218456,
           3.2667303309338034,
           3.110309330949752,
           3.003982840104561,
           2.163284070336824,
           3.2721589833151667,
           2.771040077610427,
           3.138981658362006,
           2.814631262270873,
           2.757621074122962,
           3.5714640193394565,
           3.066941465799354,
           3.026933757751467,
           3.560516326088419,
           1.747315632556446,
           2.8504584590661914,
           2.7744469692191895,
           2.8480628357618745,
           3.588937705637514,
           2.4573423554230485,
           3.4015621628355817,
           2.683658688276562,
           3.174730759567065,
           3.0184000192411693,
           2.3807036649159032,
           3.4587830295204474,
           2.9471224190741157,
           3.297010651665289,
           2.3525838777155723,
           2.60424575086276,
           3.619895469438835,
           2.9648244313290864,
           2.601958960254787,
           3.018482505250426,
           3.148250012522796,
           3.0886751862366304,
           3.242866128748453,
           2.950838535085049,
           3.166332327990596,
           3.2853971747224673,
           3.3844742174027203,
           3.2759422835765015,
           3.061463946761675,
           3.2237539255544805,
           3.163082412239296,
           3.101105512717832,
           3.2594659745237724,
           3.4137592173113607,
           3.2144476186680424,
           3.561940799870749,
           3.129712506754511,
           3.2608404656754018,
           2.8371861649329775,
           3.4132768760894314,
           3.428268536298269,
           3.588178180084555,
           3.516222202930555,
           3.1772382413762394,
           3.3338207386830745,
           3.639152268305554,
           2.7125299062956447,
           2.8863033278917496,
           3.5737796980043006,
           3.5100464272308143,
           3.669729641307991,
           3.5634016799828125,
           3.005757583507627,
           3.54790451147306,
           3.3089022208663383,
           3.5952429052511556,
           3.5152722533414567,
           3.287590938264318,
           3.1725562182248326,
           1.9458342381644709,
           3.2470091628100413,
           3.094623437561584,
           2.283424018833659,
           2.076780580852073,
           2.5720883133905175,
           2.477465487336204,
           2.2663680163533564,
           3.4243884988321867,
           2.920308806622866,
           2.290026927717017,
           2.6099890182901953,
           2.7538731534770697,
           3.527787338138482,
           3.1743422554113,
           3.236096214286765,
           3.223905551562274,
           2.963086046333006,
           2.518186184047634,
           3.067132726138171,
           2.727623068397126,
           3.1078357495699533,
           3.1323631506232408,
           2.951960451361771,
           3.607393711588227,
           2.934157232539739,
           3.2171068919204995,
           3.0591372079415518,
           2.846271560565307,
           2.2849042180825534,
           2.959641427357654,
           2.9795927204354005,
           3.109583246664188,
           3.142614472501482,
           3.379151551404313,
           2.8179090488881116,
           1.9524783579277871,
           3.1979810454392568,
           3.506771504916503,
           3.2219066348053214,
           3.164701764486481,
           2.960609599638156,
           3.1835385014690494,
           3.3539387005885586,
           3.490789537419074,
           2.879733180161206
          ],
          [
           -0.8495191349813191,
           -0.4956516508624882,
           -0.7410319234554499,
           -0.635573778747828,
           -0.49056398807186447,
           -0.4446331034078837,
           -0.8702179334648231,
           -0.6023621529463852,
           -0.7889763891009965,
           -0.565247726685201,
           -0.7213995937488149,
           -0.5767088710919126,
           -0.6265637294816823,
           -0.6107164233163841,
           -0.6744655693245838,
           -0.6528197702281546,
           -0.6106956970476151,
           -0.6792635566572782,
           -0.6201065048743726,
           -0.5987255563806544,
           -0.8293293937907067,
           -0.5883024991030883,
           -0.7375112196658604,
           -0.9812605688703818,
           -0.5809324572929508,
           -0.46301002091807814,
           -0.6269162452654816,
           -0.8226577436457583,
           -0.7010315407888063,
           -0.7567241712616505,
           -1.0236242440182355,
           -0.6252803193749319,
           -0.5396513650489877,
           -0.6920557031729957,
           -0.695671030586929,
           -0.5000342871514154,
           -0.5553109367436128,
           -0.8306391615425152,
           -0.6860213022999522,
           -0.7058215597054822,
           -0.6207957894496012,
           -0.6714066067936101,
           -0.5521453758674774,
           -0.7503985531617271,
           -0.6903877413346677,
           -0.6783656130492614,
           -0.6103726539198492,
           -0.6548481686470091,
           -0.6891751572309678,
           -0.6557254466764769,
           -0.6186069002899324,
           -0.6803199905151351,
           -0.6510305388248322,
           -0.620067649543482,
           -0.6780050448647535,
           -0.5516486704475115,
           -0.7472640617232551,
           -0.6742056779803005,
           -0.7574567826763035,
           -0.6098564492224622,
           -0.5839205497595843,
           -0.5842675504832251,
           -0.6109311928951827,
           -0.7147809669620103,
           -0.682297976204044,
           -0.5395990767948409,
           -0.7287746418269999,
           -0.7810129813745113,
           -0.5589828121412623,
           -0.5944185503875113,
           -0.5506564487982946,
           -0.5993879672167295,
           -0.5785175614665171,
           -0.5255120797364223,
           -0.5866948102244345,
           -0.5730140796928641,
           -0.6363975117740608,
           -0.5420676006892334,
           -0.5438972963052865,
           -0.8415369530680549,
           -0.5973551489905428,
           -0.5676102248899869,
           -0.8574792359777104,
           -0.7786410928560821,
           -0.8746961006571624,
           -0.9276166543424882,
           -0.5312428641959315,
           -0.5613059801253026,
           -0.7786026415407986,
           -0.7406810598314306,
           -0.7633138173616599,
           -0.7418034942492382,
           -0.4782790417836907,
           -0.6535735949019083,
           -0.5986508306594878,
           -0.6321105023721068,
           -0.6597377983229956,
           -0.6966897620132477,
           -0.746090040380929,
           -0.6962890871301777,
           0.4882702236301971,
           0.49520477873174756,
           -0.5432916232069025,
           -0.5934824481222511,
           -0.5537382161966476,
           -0.727431118694242,
           -0.6951464516641332,
           -0.7341011415821288,
           -0.9310484158919835,
           -0.599508143050901,
           -0.6647585827818304,
           -0.657125265024198,
           -0.6388897148944975,
           -0.5937156928975316,
           -0.7544472224007761,
           -0.9562660686857469,
           -0.27858366415042035,
           -0.5734012342404116,
           -0.6307132159317625,
           -0.639992957748268,
           -0.7159801054194709,
           -0.5314980348253668,
           -0.6125189088710128,
           -0.5453020132776362,
           -0.5027294790508905
          ],
          [
           0.05471323482038215,
           0.2223736149054587,
           -0.13859993840521143,
           0.21852454813102157,
           0.19418269074846933,
           0.19604349250832714,
           0.3163302290061999,
           -0.24974686568630886,
           -0.06105366926070509,
           2.0923702302099105,
           0.5798941775762968,
           -0.01785610628940491,
           -0.056326881723971815,
           -0.12061091089762851,
           -0.08718975770340351,
           0.08062786533509479,
           0.18972254809326697,
           -0.20916311375382865,
           0.4431598271472522,
           0.19886912112692118,
           -0.4769364462100506,
           1.7030143351904183,
           -0.26186373356388354,
           -0.004029744562781212,
           0.31387873605635624,
           2.9259544334605225,
           0.31325718200449726,
           -0.3410895129635191,
           -0.12828725659929002,
           -0.09326948739398533,
           -0.4317313293339632,
           0.022528119326636092,
           -0.12773451025355637,
           0.05997950735520188,
           -0.3326773162364823,
           2.841239028438749,
           0.3034481004447568,
           0.07014672554965572,
           -0.06122775143730672,
           0.4336059912520975,
           0.009725873819235516,
           -0.07988532775739682,
           1.5698279993504074,
           -0.0697371502744956,
           0.18755828468062707,
           0.10654616413264421,
           0.30460724286602797,
           0.31382369194769405,
           0.08946852956408047,
           0.00827324286446195,
           -0.030603163458846828,
           0.802240218006425,
           0.15420883800725818,
           0.3225995426920077,
           0.5825742104199724,
           0.4238457586654953,
           0.34391134172228127,
           0.22126464563254375,
           0.17916786316722025,
           0.20289602847771948,
           0.136210386400084,
           0.390410673888961,
           0.39313727201334175,
           0.006378642965346855,
           0.31626624342287496,
           0.4110842651876015,
           -0.20004313794732556,
           -0.22309921840434654,
           0.3089092069755232,
           0.44399658919981483,
           0.22873005307995517,
           0.03853086219815327,
           0.08977419192829388,
           0.23811797840041385,
           0.159533354583209,
           0.2021982351035917,
           0.17557574229508166,
           0.14160210853428115,
           0.18703071426406642,
           -0.3859739475510749,
           1.6278807983166008,
           1.940465544923238,
           -0.3023446429440099,
           -0.1701050285344256,
           -0.3455986109520811,
           -0.3818627022804072,
           0.04716940838818409,
           1.3572349707451579,
           0.18879439131846304,
           -0.1687313102837607,
           -0.2950359247640279,
           -0.2322695155993185,
           0.2417960402514177,
           0.011846244047781786,
           0.7391925674786163,
           0.20780187100085792,
           -0.09951638225384185,
           -0.2170564969793699,
           -0.11292157690031247,
           -0.26658917721802294,
           0.829850024809322,
           0.6931484867189187,
           1.452146121925194,
           0.30675151396057065,
           2.045670200751906,
           0.41082290690092127,
           0.3313977642488184,
           -0.22216712908657424,
           -0.3256480261410504,
           0.3180166933272878,
           -0.13898523566139423,
           0.5779986626325495,
           0.11742108439762614,
           0.2566101754711196,
           0.031185094539106926,
           -0.3287444249732782,
           0.20319614005656703,
           0.11954510690486311,
           0.390142524222518,
           0.9155096797447254,
           -0.08647687610964257,
           0.20853601357435797,
           0.25019380352666737,
           0.42862140555016204,
           2.4031828511791167
          ],
          [
           -0.3550619105421349,
           -0.6428269953928243,
           -0.6125849042491843,
           -0.5979863882553046,
           -0.5866031697572284,
           -0.6226588275697215,
           -0.6507736475422014,
           -0.4100265417136163,
           -0.6880826136277975,
           -0.5312762090454405,
           -0.5919661923084064,
           -0.48958026256668086,
           -0.559245468545149,
           -0.5325340883343294,
           -0.5836141546025082,
           -0.5521104894076136,
           -0.5254941332610296,
           -0.32861831737008296,
           -0.5201367380129149,
           -0.5313775833720435,
           -0.12610968950753076,
           -0.511913933472803,
           -0.3875301763913543,
           -0.5217844031141172,
           -0.5211459321672903,
           -0.5332224701478411,
           -0.5258333072770716,
           -0.5962998538686217,
           -0.6572770811313916,
           -0.6200259417500942,
           -0.3857171823071871,
           -0.49987223280079,
           -0.5814193536532786,
           -0.5898901437363463,
           -0.5031359030134668,
           -0.5354666658957438,
           -0.5114469005697115,
           -0.6761340634275517,
           -0.5960832957314508,
           -0.5755080939462811,
           -0.5626011660919623,
           -0.5818317252198387,
           -0.5207491652124375,
           -0.6141912272256383,
           -0.552426700916136,
           -0.6057396145463311,
           -0.5205481744776101,
           -0.557450034531904,
           -0.5640359932817636,
           -0.5408866104565642,
           -0.5582877053862958,
           -0.5730606152411651,
           -0.57373276043674,
           -0.5304487205218527,
           -0.5793140377795305,
           -0.4097383084077462,
           -0.5997500055455116,
           -0.6076072987484991,
           -0.5816354081250767,
           -0.5764868562366259,
           -0.5518270894584424,
           -0.5174910550581241,
           -0.5450477818930061,
           -0.5442873243762032,
           -0.521439577843942,
           -0.47463254275456995,
           -0.5848581409974327,
           -0.5557299817065255,
           -0.40631943907747214,
           -0.486544293429384,
           -0.4808279242782392,
           -0.4877054150197603,
           -0.47200261304256486,
           -0.4612354469059012,
           -0.49554692559539404,
           -0.5065260897726221,
           -0.5413864250183231,
           -0.571765257625867,
           -0.6028288744277613,
           -0.594711087327959,
           -0.5277731973924263,
           -0.5381615785209649,
           -0.6137992859225695,
           -0.4802635269010443,
           -0.6049948227059789,
           -0.6048401621267779,
           -0.6417452758372191,
           -0.5093840088533161,
           -0.6125936055309882,
           -0.5738317120440366,
           -0.6158533400501057,
           -0.6143020882988881,
           -0.4721215465793836,
           -0.5583780106251236,
           -0.5090428114345767,
           -0.566540032486009,
           -0.5668971803909467,
           -0.5489638046034941,
           -0.6359471517065726,
           -0.6041259630599636,
           -0.5550085853987227,
           -0.5231774770852344,
           -0.5416423771931935,
           -0.4794617403843958,
           -0.5639974944272634,
           -0.5409899108013548,
           -0.5666955077214312,
           -0.5096270367528057,
           -0.5109274414474628,
           -0.5039416008652372,
           -0.5240401500941202,
           -0.49706084886752083,
           -0.6035352408137064,
           -0.4909140600770327,
           -0.6163569343189893,
           -0.3743663670256768,
           -0.5519935715908149,
           -0.4691501246055653,
           -0.5606737938117791,
           -0.47645180399969517,
           -0.5887594291419677,
           -0.5976402357945292,
           -0.5607911767712334,
           -0.49037176909227526,
           -0.5589197417219128
          ],
          [
           -0.09096864698100306,
           -0.3740633945321701,
           -0.22022428448437018,
           -0.37072237645548844,
           -0.462505191295372,
           -0.35427526676255533,
           -0.1917478353417055,
           -0.05943052596254539,
           -0.5535575796635323,
           -0.5098480209957453,
           -0.45159602999209764,
           -0.3762402620617137,
           -0.3263872735512341,
           -0.33854416966010603,
           -0.2048557566440832,
           -0.31299205445111544,
           -0.4296329105254915,
           -0.2022849645444321,
           -0.27068827670987744,
           -0.40901921460285395,
           0.517333729593445,
           -0.4409958662345938,
           -0.17138389472810459,
           0.30601894424026665,
           -0.41930421849026284,
           -0.5543235519642327,
           -0.4760337938546334,
           -0.27644415854622034,
           -0.3615306086264127,
           -0.009290424458887345,
           0.42986559946623704,
           -0.3722306688740518,
           -0.23656068283941808,
           -0.2554307287609029,
           0.9939150969205011,
           -0.5583407331863861,
           -0.43385445271493384,
           -0.17677923034183848,
           0.1052046134831785,
           -0.2054387222156968,
           -0.14744755538303855,
           -0.16666338228322408,
           -0.456690415517106,
           -0.216826053213743,
           -0.42914591630997523,
           -0.3696824634352348,
           -0.3161118937209695,
           -0.34514601738501044,
           -0.2694883124246161,
           -0.22005140459997075,
           -0.2708680839325928,
           -0.3572327411638157,
           -0.2307825695698339,
           -0.41430813552283585,
           -0.21309486157052904,
           -0.3717531395109766,
           -0.19238976082222703,
           -0.31954653595780386,
           -0.25918728627152593,
           -0.4724743999057094,
           -0.4717803791921221,
           -0.45850745977340057,
           -0.40937284572900434,
           -0.1390551600761437,
           -0.5898820315091283,
           -0.4195666547149854,
           0.3176731262681889,
           0.13681346653042195,
           -0.45700903032844825,
           -0.48240150768361734,
           -0.38804291077273734,
           -0.39567990806593495,
           -0.291096870551194,
           -0.4392183998729517,
           -0.4926579276673737,
           -0.4234813674998505,
           -0.43274055853554766,
           -0.4641994241362771,
           -0.47536728150657637,
           1.727950343407174,
           -0.5738359358304415,
           -0.47406169159106043,
           1.4305441936406662,
           0.4484666448785775,
           0.571187960084217,
           0.7938955280691836,
           -0.2723958115232169,
           -0.45687262407875806,
           0.16136744073096604,
           0.4351161086938522,
           -0.21838916415110463,
           -0.25726670862780887,
           -0.384157329374997,
           -0.2529131255501936,
           -0.2389200868145551,
           -0.3199240296017573,
           -0.18049427090572034,
           -0.29023933775878746,
           -0.2708461414178269,
           -0.08886968951325488,
           -0.5140382482629264,
           -0.5153601000267455,
           -0.5525873734659895,
           -0.38304517992198134,
           -0.5200792469051176,
           -0.25588613746715255,
           -0.32966618125173947,
           -0.12366462993106825,
           0.7336729643228789,
           -0.2107793777892066,
           -0.17310928254532987,
           -0.40672251472286375,
           -0.3175415534692618,
           -0.48901771927743126,
           0.17752628324416772,
           0.5437280866734187,
           -0.48784740099902996,
           -0.4068870480926158,
           -0.29796724842390193,
           -0.3882369609969623,
           -0.18317337401676673,
           -0.4433662790362468,
           -0.34918392601472936,
           -0.4409685140632829,
           -0.5409157414198843
          ],
          [
           -0.8509544244571948,
           -0.7061996673300781,
           -0.3170064975725853,
           -0.6508881363047399,
           -0.5982023435274285,
           -0.7037037342766387,
           -0.7194468005485748,
           -0.3375010400151706,
           -0.3689090354481584,
           -0.6168147483332478,
           -0.8351961387302913,
           -0.19276051820356555,
           -0.16202836161554604,
           -0.4929542812496641,
           -0.04628745411333828,
           -0.18508446823267902,
           -0.5380162042138474,
           -0.34700683872581656,
           -0.4982998835870737,
           -0.5132055072907955,
           -0.7627662814699161,
           -0.5228832748082094,
           -0.4893199950816056,
           -1.0212381935011474,
           -0.4830715514494303,
           -0.6977362142207699,
           -0.5315783577593759,
           -0.22448991665256304,
           -0.4798701534408761,
           -0.48357879574342666,
           -0.8115277850666894,
           -0.21705399609291667,
           -0.30191233815061935,
           -0.5220066743346797,
           -0.3552923092475082,
           -0.65320083577405,
           -0.4859401181012172,
           -0.7848520342929209,
           -0.20588140624703377,
           -0.42249738790469654,
           -0.17945160159619944,
           -0.20882975291315672,
           -0.6059424989926637,
           -0.5998075334858309,
           -0.43942209537863486,
           -0.5991965685120018,
           -0.49208949098330995,
           -0.5086043175156421,
           -0.5932542440472994,
           -0.40222511061518174,
           -0.25460606202687086,
           -0.590567368880214,
           -0.37868542210798045,
           -0.4045358586880305,
           -0.4105312210091938,
           -0.4990359609609101,
           -0.5783193920572195,
           -0.5025052922429866,
           -0.403199589342605,
           -0.6003198338847963,
           -0.5424921258082794,
           -0.5442409063547975,
           -0.5622117967833526,
           -0.45560213202097694,
           -0.49473335726678225,
           -0.4642744898596642,
           -0.41787349333495105,
           -0.3920998285625807,
           -0.4295088122010859,
           -0.5027594157624239,
           -0.4687559774841682,
           -0.26655411377941857,
           -0.41814186832624073,
           -0.43849545205992946,
           -0.4393559158953992,
           -0.48223372230434614,
           -0.5548301569468258,
           -0.5708860843051956,
           -0.6378584631800027,
           -0.519898822712045,
           -0.6749480116213574,
           -0.6239225808911945,
           -0.5350184462850913,
           -0.7640967318541304,
           -0.7426559342808304,
           -0.6916256034843661,
           -0.8249078697296552,
           -0.5629402630187965,
           -0.7654319159288607,
           -0.7736215376850448,
           0.138440957040604,
           0.18969567992563818,
           -0.41309755683524024,
           -0.3853642593482632,
           -0.5376134842309251,
           -0.49416250987547505,
           -0.1942035064629852,
           0.37439144300001204,
           0.02221480375354203,
           0.24215505647274815,
           -0.740577540365979,
           -0.7127247430466213,
           -0.7352538637722438,
           -0.43316433767795864,
           -0.6571084475217677,
           -0.5861758726721283,
           -0.6305665344832273,
           -0.3913811172872637,
           -0.7299665779145956,
           -0.44727353978783096,
           -0.11413628468505978,
           -0.6943495478513322,
           -0.6397763162450725,
           -0.4651304790298202,
           -0.5444157005177777,
           -0.9179335829392412,
           -0.5037787859902684,
           -0.2921389301772953,
           -0.5196654140819976,
           -0.46957792012935234,
           -0.2951319611090804,
           -0.6342233846813959,
           -0.510435691313086,
           -0.5018271488521229,
           -0.6518292741447268
          ],
          [
           -0.501461437081458,
           -0.3964768903973021,
           -0.2090258892483018,
           -0.38506146511462785,
           -0.33287124353410186,
           -0.4078297085090422,
           -0.5361462793661496,
           0.050788043904001975,
           -0.13963439823502352,
           -0.3102000250205374,
           -0.36943474374256463,
           0.13358749181573323,
           0.12574736203711973,
           -0.07028103275293078,
           -0.022558751280863702,
           -0.022725695176908207,
           -0.3037611138740103,
           -0.16045458771993884,
           -0.2386469288470259,
           -0.2561387344997582,
           -0.2730706002393155,
           -0.20902405876956429,
           -0.1973549595791152,
           -0.6914672098802552,
           -0.20884969743809334,
           -0.1867352373131995,
           -0.37420209336260557,
           -0.3610185255982998,
           -0.38114389215459327,
           -0.28158211606048966,
           -0.6031160527325219,
           0.07259801460424403,
           -0.12062863677365693,
           -0.2835971426342355,
           -0.011990561600539807,
           -0.24348592459754423,
           -0.2104826529695659,
           -0.5988815143700699,
           -0.024056064118636155,
           -0.12599838122735496,
           0.09183363283052837,
           0.018477398365925532,
           -0.2813476006557537,
           -0.25547441291461664,
           -0.3547603928243364,
           -0.33404914348096454,
           -0.22438416239486147,
           -0.3078217227658099,
           -0.383303313771315,
           -0.152427081700484,
           0.006329695180370593,
           -0.36493216259949374,
           -0.06056194568639573,
           -0.20189653948825348,
           -0.12271868052277247,
           -0.1607450619230534,
           -0.19667588351988544,
           -0.2350268777902586,
           -0.27443821095378845,
           -0.351511765506051,
           -0.2898330127497976,
           -0.2662133194206202,
           -0.25785420351237504,
           -0.31958512900602803,
           -0.35027133619126205,
           -0.19993757018411276,
           -0.23324849809435824,
           -0.25464681732257144,
           -0.07839791913714009,
           -0.32834166276291943,
           -0.1660134732046086,
           0.06398959846451639,
           -0.16476825650006058,
           -0.20728359694973153,
           -0.27533305853204665,
           -0.25372333578573825,
           -0.37794000579782194,
           -0.31327807840287875,
           -0.37713622184574075,
           -0.1443357935909147,
           -0.23157489715778748,
           -0.27309104048157945,
           -0.2401695685242355,
           -0.48920830891724454,
           -0.39376698855606035,
           -0.3598635365224467,
           -0.45400749437507354,
           -0.17178402949402724,
           -0.3840236228644728,
           -0.4368557585112237,
           -0.0975578003613197,
           0.09237956367006882,
           -0.15668186368445342,
           -0.149240627882333,
           -0.24952586686774506,
           -0.24404987504462836,
           -0.03574750268441877,
           0.22993014763246292,
           -0.013560194570053178,
           0.2236135029920242,
           -0.4620492078632875,
           -0.47839645294771743,
           -0.39266048728814723,
           -0.16169935892282716,
           -0.3261438269201335,
           -0.27435344362303393,
           -0.3480028134260472,
           -0.09367394527533413,
           -0.35394074753933735,
           -0.17303822379133166,
           -0.18189985851745932,
           -0.4804488181730236,
           -0.3993280376065668,
           -0.31372263729322125,
           -0.2941935452262811,
           -0.6179347518674081,
           -0.14666338381043004,
           0.11710059812721844,
           -0.19190548745758187,
           0.05942472605911366,
           -0.1926649051007615,
           -0.372480746813174,
           -0.25050149361215135,
           -0.1768772388989256,
           -0.20695264939768818
          ],
          [
           -0.9507070430305571,
           -1.1770814300187813,
           -0.915347394059598,
           -1.0777923273404417,
           -0.7632928565635148,
           -1.0289022812288602,
           -1.0297668378179763,
           -0.7146841306348133,
           -0.8135530779983142,
           -0.7703398761283193,
           -0.8966589271237813,
           -0.6864084004885832,
           -0.846430681136968,
           -0.7987205069685438,
           -0.7919782325442135,
           -0.7983307041068957,
           -0.7347656479392591,
           -0.8988028497898537,
           -0.7827786954947736,
           -0.7251203186486953,
           -1.163711146272796,
           -0.7694808707204476,
           -1.0579606488759108,
           -1.3096101258377357,
           -0.7303057605782819,
           -0.8588887240220611,
           -0.7426885421885036,
           -0.9679114924514985,
           -0.869223410673158,
           -0.9498241254213655,
           -1.1668792251914408,
           -0.7105191490852139,
           -0.8471622362736128,
           -0.7889631746915216,
           -0.8017461168529316,
           -0.7748370524254659,
           -0.6920991149275418,
           -0.9792885869891946,
           -0.7996873479706066,
           -0.8345696985486569,
           -0.7480927822525107,
           -0.7676755334329525,
           -0.7487537743018539,
           -0.8181895271354279,
           -0.8285489670597317,
           -0.7760128720795924,
           -0.7673965652617674,
           -0.7848777987026162,
           -0.7889902444741475,
           -0.7797056158147158,
           -0.7364988152864614,
           -0.9104372807440023,
           -0.7704680526312265,
           -0.7629032346766011,
           -0.8367339870146243,
           -0.69785442139064,
           -0.9433541751411273,
           -0.7977407075373689,
           -0.7591997454971334,
           -0.7189882017579785,
           -0.7064690841902126,
           -0.7010456022164367,
           -0.7431205137276063,
           -0.8537407199852535,
           -0.7677578820509554,
           -0.7053131680522295,
           -0.8594409268286646,
           -0.9564888282756884,
           -0.6536727523960182,
           -0.6930362704449413,
           -0.6714215861468009,
           -0.6726343163848717,
           -0.679735040774163,
           -0.7086150440164143,
           -0.6904098358403632,
           -0.7198812266772546,
           -0.7378640030908297,
           -0.7497978550618307,
           -0.7751419857882668,
           -0.9130727681387464,
           -0.7658410406462033,
           -0.7834688027749178,
           -0.9154063239464443,
           -1.0188412148033135,
           -1.1271441995962237,
           -1.0815263108104731,
           -1.1475749117222152,
           -0.7296639096780183,
           -1.1007064860393454,
           -1.1132090337699763,
           -0.8316759648789216,
           -0.7991869876794205,
           -0.7222038160914546,
           -0.7818194447540137,
           -0.7999442071792154,
           -0.7966349666758462,
           -0.7676295895136862,
           -0.7660638304100934,
           -0.8928655472017066,
           -0.7614331658344837,
           -0.9039341887537429,
           -0.9581517783520216,
           -0.8213145193966952,
           -0.6955714560400855,
           -0.80957991982878,
           -0.8960729868241202,
           -0.8527327918322496,
           -0.9237023572768772,
           -1.1202784368661398,
           -0.752572334773626,
           -0.832610131855956,
           -0.8865824114063835,
           -0.8345297589837222,
           -0.7099913261362513,
           -0.9509794197683319,
           -1.1059512835188232,
           -0.7360194708295419,
           -0.6769333707053623,
           -0.8054414312385667,
           -0.7923640502075338,
           -0.8812279055900484,
           -0.782588836480539,
           -0.7765109058171004,
           -0.7356280532768292,
           -0.7885263134749436
          ],
          [
           -0.7275195295318833,
           -0.5860990324067378,
           -0.5286353282091573,
           -0.654815570514688,
           -0.5235985667781871,
           -0.6726266704777831,
           -0.654388024016221,
           -0.46639787134001837,
           -0.5871888381545985,
           -0.6381122766997129,
           -0.775541079407198,
           -0.5403041600089467,
           -0.5789291705733751,
           -0.5204402583917928,
           -0.46428062969541073,
           -0.449285784833903,
           -0.5216835070742591,
           -0.5588257602968244,
           -0.5033830920715546,
           -0.49937296948763343,
           -0.8006158943582088,
           -0.5881891208980711,
           -0.7201273617413936,
           -0.7454814227147116,
           -0.5148956918305692,
           -0.7490884044818997,
           -0.5998246564982175,
           -0.5790478727817966,
           -0.4855584607286315,
           -0.5341804914286571,
           -0.759312512757008,
           -0.49987223280079,
           -0.4952816196193792,
           -0.5433820613045847,
           -0.488520771475729,
           -0.634587624155194,
           -0.4962204432683798,
           -0.5231105210479371,
           -0.5323604031851584,
           -0.5578981661409836,
           -0.4116607346540492,
           -0.49561914938676516,
           -0.6297189060881703,
           -0.5346431470646168,
           -0.609229281644685,
           -0.5247943414457356,
           -0.5438489327481709,
           -0.5787932439071389,
           -0.4948248138314305,
           -0.5198978946691264,
           -0.5099765939597097,
           -0.6114245912131747,
           -0.49160099743707214,
           -0.5635141184152294,
           -0.5702927232552205,
           -0.5421523782233191,
           -0.5374226379837289,
           -0.4919121890456737,
           -0.6907884547795557,
           -0.5299680342035229,
           -0.5046336621159516,
           -0.5063385490794506,
           -0.5768936310587877,
           -0.5923625666169686,
           -0.6895024450109057,
           -0.5073887784051268,
           -0.6191809892263367,
           -0.560517360530692,
           -0.5261312002161429,
           -0.6329658771313247,
           -0.4957085396517631,
           -0.5299966890574369,
           -0.44391283018385885,
           -0.5279438132893153,
           -0.6028009736731477,
           -0.5395296342628931,
           -0.5565998628700991,
           -0.5046005051048058,
           -0.533510752696076,
           -0.6175779747789911,
           -0.6507612225418646,
           -0.6664595145353372,
           -0.6439213716663111,
           -0.7453345061616129,
           -0.6181884301858371,
           -0.5891787841992158,
           -0.7650427035632874,
           -0.6390549794190615,
           -0.7302617365475321,
           -0.7515385357720074,
           -0.4710698635687822,
           -0.5540887239598201,
           -0.5292103235450305,
           -0.48948586501035296,
           -0.7205090790257316,
           -0.5010557714743343,
           -0.45607459726044935,
           -0.5282876116695323,
           -0.5329102558499165,
           -0.38889712578499525,
           -0.7021869789943365,
           -0.817728523782868,
           -0.6903743813385868,
           -0.526586688475576,
           -0.6544102421030172,
           -0.5796140851656769,
           -0.559204898959504,
           -0.5373107456657911,
           -0.6027889994994468,
           -0.48453332764244944,
           -0.5294390865179478,
           -0.7256846157834272,
           -0.5160904469334063,
           -0.600036828896203,
           -0.5910841183697632,
           -0.7887342539313467,
           -0.5189740673845518,
           -0.5295438708767866,
           -0.5363758771877456,
           -0.7720288104244363,
           -0.4960401023574429,
           -0.5297461424458738,
           -0.5065192482582419,
           -0.5601847438551201,
           -0.6421604591677115
          ],
          [
           -0.5043320160332093,
           -0.67525714206494,
           -0.5530612108641272,
           -0.6560807842199061,
           -0.44037779019682266,
           -0.606702538419227,
           -0.4499175834859664,
           -0.4075865886402347,
           -0.3799038699548532,
           -0.3451297136706501,
           -0.26277872858915546,
           -0.39436171824523447,
           -0.4145702586376871,
           -0.4604597482727476,
           -0.4787708553346278,
           -0.5351870993822564,
           -0.38416785000836806,
           -0.6179216953408233,
           -0.47997558333871093,
           -0.3837751445621988,
           -0.6654014152124459,
           -0.48498660978123675,
           -0.6030481258404666,
           -0.7067475464057922,
           -0.37162381363584684,
           -0.2949483073361986,
           -0.33950035478584367,
           -0.584203637244526,
           -0.4806892696903129,
           -0.5710562888466402,
           -0.6497592994256797,
           -0.3593631724844668,
           -0.5670957031741111,
           -0.4254315182605205,
           -0.5687501514434161,
           -0.31076259309943355,
           -0.38233443541846235,
           -0.4730903774116315,
           -0.4739477516843904,
           -0.3965390498805914,
           -0.4139681424802789,
           -0.43025286914601785,
           -0.3652746060507279,
           -0.5446491948836132,
           -0.42279003282757366,
           -0.4233499407417425,
           -0.41486701661828573,
           -0.409980340155941,
           -0.5020158959904054,
           -0.4399145973675435,
           -0.3803037475381465,
           -0.4800019019811257,
           -0.41184681925994554,
           -0.3511241904002364,
           -0.41150943583713107,
           -0.3643929325792676,
           -0.5688542044332239,
           -0.44635672785607045,
           -0.46572838053988147,
           -0.4109743598825568,
           -0.38762097822204783,
           -0.38039373777370605,
           -0.3895418069864654,
           -0.4712451715387518,
           -0.3296516496061061,
           -0.4110234743358537,
           -0.4992106615797258,
           -0.618548984610812,
           -0.2858387537140818,
           -0.31329169892087644,
           -0.38754054728698156,
           -0.33911342058954796,
           -0.4545643250262541,
           -0.417990023181481,
           -0.39110965049746016,
           -0.3559628755659656,
           -0.38059456468273195,
           -0.4238596808412835,
           -0.44330191584552525,
           -0.5573732143855274,
           -0.2852377306781061,
           -0.3670649431169473,
           -0.5016138255564547,
           -0.6601045506901763,
           -0.6657582812177518,
           -0.634078489984349,
           -0.6574870228991008,
           -0.34914391072238155,
           -0.5965282149493937,
           -0.6189178409498214,
           -0.5394320110860439,
           -0.46903538164275543,
           -0.43236172040300086,
           -0.4491784225282833,
           -0.4112099015561715,
           -0.454375390151794,
           -0.4521990811788733,
           -0.5092437497566726,
           -0.522496300858459,
           -0.5129810852217687,
           -0.5558393606448061,
           -0.6286638119608942,
           -0.36507309942246946,
           -0.37917828603327336,
           -0.4000319719183427,
           -0.4284572196727502,
           -0.48106154509296317,
           -0.6527668340005672,
           -0.6841156091041136,
           -0.4934642058747824,
           -0.570069543963932,
           -0.4735595479184495,
           -0.4646376831612771,
           -0.3618963474304648,
           -0.6100682822680125,
           -0.6631796530763985,
           -0.46171572330713073,
           -0.3595786135134924,
           -0.4615491332050343,
           -0.38451360723385997,
           -0.5416799709759833,
           -0.4567781721113281,
           -0.4300314137116246,
           -0.41953985219445744,
           -0.29988440898136887
          ],
          [
           -0.435438121191175,
           -0.5362141278927492,
           -0.6472001200817327,
           -0.5411044887582037,
           -0.7102810076918972,
           -0.5135936174376066,
           -0.832525150235761,
           -0.5470845953873611,
           -0.6725604943242285,
           -0.7452967701759318,
           -0.7741852826044004,
           -0.6031629611455345,
           -0.6171155525081338,
           -0.7127199384882835,
           -0.6869815975552832,
           -0.6974703215896997,
           -0.6583966614067774,
           -0.43375574099943015,
           -0.6558698274889695,
           -0.661696617097301,
           1.2014981115259633,
           -0.6815844172809246,
           -0.30856976148142684,
           0.4684169394070206,
           -0.6765908974940077,
           -0.7101541075020976,
           -0.7172306170654966,
           -0.5312579021849592,
           -0.7761854566746307,
           -0.5490864821688812,
           0.2664794289688172,
           -0.6427147769183333,
           -0.5344478513983526,
           -0.7093414662065823,
           -0.5458274714526484,
           -0.6827577188025467,
           -0.6505634441465873,
           -0.815118101457907,
           -0.7073294847231322,
           -0.7483462742575339,
           -0.715579308337455,
           -0.6960278547402652,
           -0.7302828464755926,
           -0.7420184881133176,
           -0.7150605803647775,
           -0.7300574891985893,
           -0.6633145894587116,
           -0.6964215518134288,
           -0.702888383673664,
           -0.6321989676267351,
           -0.6682292985622497,
           -0.6810411178830301,
           -0.6629578704207856,
           -0.6948873211855725,
           -0.7120659417208458,
           -0.6371153004652431,
           -0.6833293981498505,
           -0.7226371411007684,
           -0.8204213145787874,
           -0.7085270312529267,
           -0.6908625687337385,
           -0.6646440997829403,
           -0.6989165738407751,
           -0.6334991141013349,
           -0.7456476157126556,
           -0.6593511527137231,
           -0.6030572326164795,
           -0.5611004387208148,
           -0.6570173735196163,
           -0.6967583045134036,
           -0.6269243598175832,
           -0.6311445917648766,
           -0.623555475056751,
           -0.6449299139420022,
           -0.7088994225796932,
           -0.667751564813771,
           -0.6891769799062301,
           -0.6997463134570947,
           -0.7216095282961745,
           -0.5902059692032781,
           -0.7333865805650154,
           -0.7354675091934121,
           -0.575567407863205,
           -0.027715734325319097,
           -0.10121760928867278,
           -0.19240509807036554,
           -0.32504924135089014,
           -0.7043727121131291,
           -0.351603375204318,
           -0.024946431161094657,
           -0.7223134362249675,
           -0.80390343919423,
           -0.6697771426376402,
           -0.6292196932148436,
           -0.6943192956290788,
           -0.6253241397775319,
           -0.6709241910016722,
           -0.7886444095353412,
           -0.7041891861800058,
           -0.7213190003219085,
           -0.7222130349262411,
           -0.7019155303237723,
           -0.774335996581954,
           -0.6476039162844398,
           -0.7392741379571602,
           -0.6288471375344414,
           -0.6546688087329617,
           -0.31176362886309655,
           -0.1558517926435736,
           -0.6409465987022992,
           -0.5556723801670586,
           -0.6855712841398588,
           -0.6897447698909582,
           -0.7071967186421018,
           -0.5714379910977266,
           0.28683759203126247,
           -0.6822839082518336,
           -0.6163958298001619,
           -0.6428170108299799,
           -0.5798464738827683,
           -0.6013985373720687,
           -0.6956966271863434,
           -0.6617322760063112,
           -0.6680999790590753,
           -0.715421181384361
          ],
          [
           -0.556720081902673,
           -0.6175374314742018,
           -0.5847150489163245,
           -0.7088507391750478,
           -0.5352636449448088,
           -0.7248361376598605,
           -0.5552508407288248,
           -0.2515137282566886,
           -0.47141969834881253,
           -0.4341960644056633,
           -0.47853119314100945,
           -0.2459922957426579,
           -0.257691153472725,
           -0.4657126239043544,
           -0.47014572102557,
           -0.5641230742916842,
           -0.4873777770193204,
           -0.575529836948216,
           -0.5569281252648225,
           -0.46216090966952017,
           -0.6904604692626259,
           -0.5245272587809577,
           -0.5383299077843192,
           -1.0455801249429912,
           -0.45157480460973887,
           -0.4712263713598589,
           -0.5014236496591297,
           -0.6746278139754714,
           -0.6332951776062149,
           -0.6481221859471367,
           -0.7710856636564369,
           -0.30322621932368665,
           -0.5229777406630819,
           -0.5058036164585457,
           -0.5036743552280151,
           -0.4162075581980613,
           -0.44022128237700253,
           -0.6506654148341717,
           -0.4343562076867467,
           -0.4241931587303918,
           -0.37992638545953855,
           -0.4012606237364556,
           -0.4685895356888701,
           -0.6081875985342405,
           -0.5402487614354191,
           -0.5395660381714377,
           -0.5001304486465195,
           -0.5293458860346336,
           -0.6394348480781913,
           -0.45895118756859354,
           -0.35792927041452777,
           -0.6129001287505597,
           -0.41932110524903965,
           -0.3992055258690458,
           -0.4517792795872138,
           -0.4143587537686614,
           -0.5609963128208502,
           -0.5087281006912631,
           -0.7236868780227221,
           -0.5300193983794889,
           -0.47408396841328637,
           -0.46230577702700676,
           -0.5281478287702032,
           -0.5465176191193315,
           -0.4842992989947756,
           -0.44177302167628624,
           -0.5482204960275097,
           -0.6376064349300898,
           -0.3612042163658263,
           -0.4845699970974171,
           -0.4049710379291144,
           -0.2641876345462634,
           -0.49977190844583597,
           -0.3726414785464507,
           -0.49041895427315796,
           -0.4707470598589396,
           -0.5182394759536911,
           -0.5100493351038509,
           -0.5546249608257849,
           -0.5904790066653799,
           -0.4206529383269865,
           -0.4591410440974227,
           -0.6071376708061651,
           -0.6738489718370205,
           -0.7217855729418832,
           -0.7232863746904451,
           -0.7597696060253172,
           -0.39905651778105583,
           -0.6501518835122836,
           -0.6579924860015015,
           -0.49352849158661305,
           -0.5814441427457152,
           -0.4562000232653896,
           -0.4863267985509454,
           -0.6356628386002119,
           -0.5258839273081447,
           -0.4589946536986451,
           -0.2744601378881324,
           -0.53278773873237,
           -0.3937041952059237,
           -0.6324893083492359,
           -0.6771122475579493,
           -0.5385937709254284,
           -0.3724826915567168,
           -0.5586925481802288,
           -0.5932484580084233,
           -0.6086854502133704,
           -0.5118803618968859,
           -0.7903829110556484,
           -0.5170409050615146,
           -0.5063897810162225,
           -0.686237987712882,
           -0.6494990456626133,
           -0.45089128846439186,
           -0.6410150699925561,
           -0.7641009188286741,
           -0.43947487891342174,
           -0.3096818755227453,
           -0.5575123548458267,
           -0.3816494889545505,
           -0.5780967065617473,
           -0.5627593974273585,
           -0.5250531011913396,
           -0.4218865068083346,
           -0.3986619118729921
          ],
          [
           -0.9758246088583822,
           -0.6891416085300661,
           -0.7708102222467581,
           -0.7224254278872846,
           -0.6502256264527221,
           -0.6834476022005321,
           -0.950250555389544,
           -0.6686615674920641,
           -0.8044985084045656,
           -0.49560611552369194,
           -0.9122957835827133,
           -0.6289698563354592,
           -0.7180929439129338,
           -0.7102767405200944,
           -0.6540910853900761,
           -0.7329792203036188,
           -0.6068245046168165,
           -0.5102576046549632,
           -0.5881889055326789,
           -0.6073381902454872,
           -0.7880863673331188,
           -0.5619704109878619,
           -0.8212888482175076,
           -0.3263382382525971,
           -0.582636391860938,
           -0.812951855643014,
           -0.6374261480435358,
           -0.9749510939294559,
           -0.7506335803380334,
           -0.6830562709273139,
           -0.7680300367054401,
           -0.6543821959244337,
           -0.6391895455272643,
           -0.6746949011681005,
           -0.624133807796949,
           -0.6671495317101084,
           -0.5716949994380478,
           -0.8752974844223197,
           -0.6862229570231999,
           -0.8108289069889226,
           -0.670629805229083,
           -0.6799804864323894,
           -0.5324954526480505,
           -0.8026801530159834,
           -0.6984785641403494,
           -0.6966444549484889,
           -0.5621494316315258,
           -0.6306020421403996,
           -0.6521207770696055,
           -0.6494853762675754,
           -0.6456792948529819,
           -0.7408170295479195,
           -0.68262220456081,
           -0.6490377917344681,
           -0.6856813140006499,
           -0.4523671409838276,
           -0.7181541450683251,
           -0.7033955623462292,
           -0.8672634403885937,
           -0.6459654649264791,
           -0.6303541544793874,
           -0.5707944920183058,
           -0.6500123344916644,
           -0.5451546612207532,
           -0.7646525075652391,
           -0.508480652926812,
           -0.6622042803783815,
           -0.6664227728524763,
           -0.5490232736843257,
           -0.5676199050945833,
           -0.5319167684660102,
           -0.6129379692775375,
           -0.5432262369621562,
           -0.5740153057373678,
           -0.6305353537821425,
           -0.5883342096290224,
           -0.6428428611878007,
           -0.6572699745339577,
           -0.6816395677252824,
           -0.746656434987653,
           -0.704115944099387,
           -0.5355439210659407,
           -0.7385356153485766,
           -0.3985969398750858,
           -0.5947938480864436,
           -0.6291490994495947,
           -0.7777601740960391,
           -0.5434628259110905,
           -0.6126297888431089,
           -0.5309538833295555,
           -0.7734864205165368,
           -0.7884963642458523,
           -0.5314973931923446,
           -0.6517975769247292,
           -0.6607703995424575,
           -0.6532799535754069,
           -0.6683798771198619,
           -0.8000707266830569,
           -0.8392030497163138,
           -0.7050744208994607,
           -0.5874525450089263,
           -0.621811543181231,
           -0.7343542750374934,
           -0.5604558641311463,
           -0.5854154526947452,
           -0.6322655537803173,
           -0.6854346529223285,
           -0.790541571381471,
           -0.6213847797132714,
           -0.5454722330121525,
           -0.6124996468845254,
           -0.6150118226615595,
           -0.6956322013312929,
           -0.5556225312213273,
           -0.5794997593284901,
           -0.6733597558484212,
           -0.6088312850414045,
           -0.6417036853804833,
           -0.643539625450769,
           -0.8974771910581927,
           -0.7217018638749896,
           -0.6577499771550598,
           -0.6176669645948992,
           -0.542430449079076,
           -0.6983284946778673
          ],
          [
           0.282924261484621,
           0.34723463833112794,
           0.42216436446890176,
           0.21264657612552876,
           -0.1328514003945722,
           0.005362780399545542,
           0.48155886781852686,
           -0.17385591147285412,
           0.5071205727470213,
           -0.19783269744286797,
           0.020311643834977997,
           0.034404878954141696,
           0.10055222344099031,
           -0.18046926111826417,
           0.11868261477124065,
           -0.01887260191220634,
           0.002113560029102027,
           -0.05279049703407862,
           -0.13358443438407516,
           -0.04257531386300664,
           -0.41063436570228273,
           -0.2081453776806816,
           0.3874128877113821,
           -0.20622768602860841,
           -0.0885474524808215,
           -0.044909824573824475,
           0.3724774891088182,
           1.2790103201325873,
           0.24898403595379945,
           0.06850361480578633,
           -0.22655496671261585,
           0.16767081176252488,
           0.04616355884508534,
           0.05141970469950023,
           -0.30960079275584357,
           -0.17167929374986107,
           -0.1959731217355539,
           0.33238209070642255,
           -0.11970762117915734,
           -0.06377663631530395,
           -0.15514890358227296,
           0.025156160223584308,
           -0.2726579679431627,
           0.05433784268106001,
           0.5478251080033129,
           -0.057818414710336205,
           -0.12499837615141114,
           0.09842122439114699,
           -0.08275908267528817,
           0.03165836109587913,
           0.01579780571214649,
           0.11126706835671413,
           -0.06702477293882862,
           0.16301457841630648,
           -0.10191802911205158,
           -0.23666896307979954,
           -0.12131155941939177,
           -0.11535039886641427,
           0.09289120353613502,
           -0.11992781746786565,
           -0.18783587116138858,
           -0.20852276830733707,
           -0.11798068524442702,
           0.13201858016157383,
           0.38706878169720554,
           -0.16901096211043395,
           -0.05516879019044016,
           0.10959292154942438,
           -0.21812875718968414,
           0.2250115239196799,
           -0.2000980745563426,
           0.04356917282358046,
           -0.24145901936530617,
           -0.12098991708626083,
           0.35793528729000307,
           -0.01494914921124679,
           0.12421404993098939,
           -0.15749061056901997,
           -0.08708934493077419,
           -0.3110251642041099,
           -0.1296925414598812,
           -0.21553529718923545,
           -0.25185153126459686,
           -0.4281947145140574,
           -0.24408329975104226,
           -0.2569660301026902,
           0.1708545638743973,
           -0.2623661682301399,
           -0.30192368766258526,
           -0.3782744617696938,
           0.7544892954669749,
           0.5621381345450951,
           -0.17330710073608246,
           -0.030186181412122703,
           -0.24584631052276076,
           -0.06028014161470898,
           -0.04773905798392139,
           -0.055999836230614566,
           0.7260756440585231,
           0.12607498602254522,
           -0.20359065630545242,
           -0.07227888921782166,
           -0.21854008996202146,
           -0.1000246583398938,
           -0.12284853051078375,
           0.03574013123274393,
           -0.058799152109871626,
           0.1824656860718278,
           -0.25202310233309627,
           -0.18574833833986973,
           0.314317772539203,
           0.09897214541530888,
           -0.04501623720321381,
           0.23085986356074217,
           -0.06137157004575787,
           -0.3802733402390728,
           -0.232314295198969,
           0.026509978720386514,
           -0.06893454436479687,
           -0.013610290063278773,
           0.31288722419186,
           -0.14365220020684277,
           -0.11317881183169398,
           -0.18160142516107297,
           -0.17045565125456366
          ]
         ]
        }
       ],
       "layout": {
        "height": 700,
        "template": {
         "data": {
          "bar": [
           {
            "error_x": {
             "color": "#2a3f5f"
            },
            "error_y": {
             "color": "#2a3f5f"
            },
            "marker": {
             "line": {
              "color": "#E5ECF6",
              "width": 0.5
             },
             "pattern": {
              "fillmode": "overlay",
              "size": 10,
              "solidity": 0.2
             }
            },
            "type": "bar"
           }
          ],
          "barpolar": [
           {
            "marker": {
             "line": {
              "color": "#E5ECF6",
              "width": 0.5
             },
             "pattern": {
              "fillmode": "overlay",
              "size": 10,
              "solidity": 0.2
             }
            },
            "type": "barpolar"
           }
          ],
          "carpet": [
           {
            "aaxis": {
             "endlinecolor": "#2a3f5f",
             "gridcolor": "white",
             "linecolor": "white",
             "minorgridcolor": "white",
             "startlinecolor": "#2a3f5f"
            },
            "baxis": {
             "endlinecolor": "#2a3f5f",
             "gridcolor": "white",
             "linecolor": "white",
             "minorgridcolor": "white",
             "startlinecolor": "#2a3f5f"
            },
            "type": "carpet"
           }
          ],
          "choropleth": [
           {
            "colorbar": {
             "outlinewidth": 0,
             "ticks": ""
            },
            "type": "choropleth"
           }
          ],
          "contour": [
           {
            "colorbar": {
             "outlinewidth": 0,
             "ticks": ""
            },
            "colorscale": [
             [
              0,
              "#0d0887"
             ],
             [
              0.1111111111111111,
              "#46039f"
             ],
             [
              0.2222222222222222,
              "#7201a8"
             ],
             [
              0.3333333333333333,
              "#9c179e"
             ],
             [
              0.4444444444444444,
              "#bd3786"
             ],
             [
              0.5555555555555556,
              "#d8576b"
             ],
             [
              0.6666666666666666,
              "#ed7953"
             ],
             [
              0.7777777777777778,
              "#fb9f3a"
             ],
             [
              0.8888888888888888,
              "#fdca26"
             ],
             [
              1,
              "#f0f921"
             ]
            ],
            "type": "contour"
           }
          ],
          "contourcarpet": [
           {
            "colorbar": {
             "outlinewidth": 0,
             "ticks": ""
            },
            "type": "contourcarpet"
           }
          ],
          "heatmap": [
           {
            "colorbar": {
             "outlinewidth": 0,
             "ticks": ""
            },
            "colorscale": [
             [
              0,
              "#0d0887"
             ],
             [
              0.1111111111111111,
              "#46039f"
             ],
             [
              0.2222222222222222,
              "#7201a8"
             ],
             [
              0.3333333333333333,
              "#9c179e"
             ],
             [
              0.4444444444444444,
              "#bd3786"
             ],
             [
              0.5555555555555556,
              "#d8576b"
             ],
             [
              0.6666666666666666,
              "#ed7953"
             ],
             [
              0.7777777777777778,
              "#fb9f3a"
             ],
             [
              0.8888888888888888,
              "#fdca26"
             ],
             [
              1,
              "#f0f921"
             ]
            ],
            "type": "heatmap"
           }
          ],
          "heatmapgl": [
           {
            "colorbar": {
             "outlinewidth": 0,
             "ticks": ""
            },
            "colorscale": [
             [
              0,
              "#0d0887"
             ],
             [
              0.1111111111111111,
              "#46039f"
             ],
             [
              0.2222222222222222,
              "#7201a8"
             ],
             [
              0.3333333333333333,
              "#9c179e"
             ],
             [
              0.4444444444444444,
              "#bd3786"
             ],
             [
              0.5555555555555556,
              "#d8576b"
             ],
             [
              0.6666666666666666,
              "#ed7953"
             ],
             [
              0.7777777777777778,
              "#fb9f3a"
             ],
             [
              0.8888888888888888,
              "#fdca26"
             ],
             [
              1,
              "#f0f921"
             ]
            ],
            "type": "heatmapgl"
           }
          ],
          "histogram": [
           {
            "marker": {
             "pattern": {
              "fillmode": "overlay",
              "size": 10,
              "solidity": 0.2
             }
            },
            "type": "histogram"
           }
          ],
          "histogram2d": [
           {
            "colorbar": {
             "outlinewidth": 0,
             "ticks": ""
            },
            "colorscale": [
             [
              0,
              "#0d0887"
             ],
             [
              0.1111111111111111,
              "#46039f"
             ],
             [
              0.2222222222222222,
              "#7201a8"
             ],
             [
              0.3333333333333333,
              "#9c179e"
             ],
             [
              0.4444444444444444,
              "#bd3786"
             ],
             [
              0.5555555555555556,
              "#d8576b"
             ],
             [
              0.6666666666666666,
              "#ed7953"
             ],
             [
              0.7777777777777778,
              "#fb9f3a"
             ],
             [
              0.8888888888888888,
              "#fdca26"
             ],
             [
              1,
              "#f0f921"
             ]
            ],
            "type": "histogram2d"
           }
          ],
          "histogram2dcontour": [
           {
            "colorbar": {
             "outlinewidth": 0,
             "ticks": ""
            },
            "colorscale": [
             [
              0,
              "#0d0887"
             ],
             [
              0.1111111111111111,
              "#46039f"
             ],
             [
              0.2222222222222222,
              "#7201a8"
             ],
             [
              0.3333333333333333,
              "#9c179e"
             ],
             [
              0.4444444444444444,
              "#bd3786"
             ],
             [
              0.5555555555555556,
              "#d8576b"
             ],
             [
              0.6666666666666666,
              "#ed7953"
             ],
             [
              0.7777777777777778,
              "#fb9f3a"
             ],
             [
              0.8888888888888888,
              "#fdca26"
             ],
             [
              1,
              "#f0f921"
             ]
            ],
            "type": "histogram2dcontour"
           }
          ],
          "mesh3d": [
           {
            "colorbar": {
             "outlinewidth": 0,
             "ticks": ""
            },
            "type": "mesh3d"
           }
          ],
          "parcoords": [
           {
            "line": {
             "colorbar": {
              "outlinewidth": 0,
              "ticks": ""
             }
            },
            "type": "parcoords"
           }
          ],
          "pie": [
           {
            "automargin": true,
            "type": "pie"
           }
          ],
          "scatter": [
           {
            "marker": {
             "colorbar": {
              "outlinewidth": 0,
              "ticks": ""
             }
            },
            "type": "scatter"
           }
          ],
          "scatter3d": [
           {
            "line": {
             "colorbar": {
              "outlinewidth": 0,
              "ticks": ""
             }
            },
            "marker": {
             "colorbar": {
              "outlinewidth": 0,
              "ticks": ""
             }
            },
            "type": "scatter3d"
           }
          ],
          "scattercarpet": [
           {
            "marker": {
             "colorbar": {
              "outlinewidth": 0,
              "ticks": ""
             }
            },
            "type": "scattercarpet"
           }
          ],
          "scattergeo": [
           {
            "marker": {
             "colorbar": {
              "outlinewidth": 0,
              "ticks": ""
             }
            },
            "type": "scattergeo"
           }
          ],
          "scattergl": [
           {
            "marker": {
             "colorbar": {
              "outlinewidth": 0,
              "ticks": ""
             }
            },
            "type": "scattergl"
           }
          ],
          "scattermapbox": [
           {
            "marker": {
             "colorbar": {
              "outlinewidth": 0,
              "ticks": ""
             }
            },
            "type": "scattermapbox"
           }
          ],
          "scatterpolar": [
           {
            "marker": {
             "colorbar": {
              "outlinewidth": 0,
              "ticks": ""
             }
            },
            "type": "scatterpolar"
           }
          ],
          "scatterpolargl": [
           {
            "marker": {
             "colorbar": {
              "outlinewidth": 0,
              "ticks": ""
             }
            },
            "type": "scatterpolargl"
           }
          ],
          "scatterternary": [
           {
            "marker": {
             "colorbar": {
              "outlinewidth": 0,
              "ticks": ""
             }
            },
            "type": "scatterternary"
           }
          ],
          "surface": [
           {
            "colorbar": {
             "outlinewidth": 0,
             "ticks": ""
            },
            "colorscale": [
             [
              0,
              "#0d0887"
             ],
             [
              0.1111111111111111,
              "#46039f"
             ],
             [
              0.2222222222222222,
              "#7201a8"
             ],
             [
              0.3333333333333333,
              "#9c179e"
             ],
             [
              0.4444444444444444,
              "#bd3786"
             ],
             [
              0.5555555555555556,
              "#d8576b"
             ],
             [
              0.6666666666666666,
              "#ed7953"
             ],
             [
              0.7777777777777778,
              "#fb9f3a"
             ],
             [
              0.8888888888888888,
              "#fdca26"
             ],
             [
              1,
              "#f0f921"
             ]
            ],
            "type": "surface"
           }
          ],
          "table": [
           {
            "cells": {
             "fill": {
              "color": "#EBF0F8"
             },
             "line": {
              "color": "white"
             }
            },
            "header": {
             "fill": {
              "color": "#C8D4E3"
             },
             "line": {
              "color": "white"
             }
            },
            "type": "table"
           }
          ]
         },
         "layout": {
          "annotationdefaults": {
           "arrowcolor": "#2a3f5f",
           "arrowhead": 0,
           "arrowwidth": 1
          },
          "autotypenumbers": "strict",
          "coloraxis": {
           "colorbar": {
            "outlinewidth": 0,
            "ticks": ""
           }
          },
          "colorscale": {
           "diverging": [
            [
             0,
             "#8e0152"
            ],
            [
             0.1,
             "#c51b7d"
            ],
            [
             0.2,
             "#de77ae"
            ],
            [
             0.3,
             "#f1b6da"
            ],
            [
             0.4,
             "#fde0ef"
            ],
            [
             0.5,
             "#f7f7f7"
            ],
            [
             0.6,
             "#e6f5d0"
            ],
            [
             0.7,
             "#b8e186"
            ],
            [
             0.8,
             "#7fbc41"
            ],
            [
             0.9,
             "#4d9221"
            ],
            [
             1,
             "#276419"
            ]
           ],
           "sequential": [
            [
             0,
             "#0d0887"
            ],
            [
             0.1111111111111111,
             "#46039f"
            ],
            [
             0.2222222222222222,
             "#7201a8"
            ],
            [
             0.3333333333333333,
             "#9c179e"
            ],
            [
             0.4444444444444444,
             "#bd3786"
            ],
            [
             0.5555555555555556,
             "#d8576b"
            ],
            [
             0.6666666666666666,
             "#ed7953"
            ],
            [
             0.7777777777777778,
             "#fb9f3a"
            ],
            [
             0.8888888888888888,
             "#fdca26"
            ],
            [
             1,
             "#f0f921"
            ]
           ],
           "sequentialminus": [
            [
             0,
             "#0d0887"
            ],
            [
             0.1111111111111111,
             "#46039f"
            ],
            [
             0.2222222222222222,
             "#7201a8"
            ],
            [
             0.3333333333333333,
             "#9c179e"
            ],
            [
             0.4444444444444444,
             "#bd3786"
            ],
            [
             0.5555555555555556,
             "#d8576b"
            ],
            [
             0.6666666666666666,
             "#ed7953"
            ],
            [
             0.7777777777777778,
             "#fb9f3a"
            ],
            [
             0.8888888888888888,
             "#fdca26"
            ],
            [
             1,
             "#f0f921"
            ]
           ]
          },
          "colorway": [
           "#636efa",
           "#EF553B",
           "#00cc96",
           "#ab63fa",
           "#FFA15A",
           "#19d3f3",
           "#FF6692",
           "#B6E880",
           "#FF97FF",
           "#FECB52"
          ],
          "font": {
           "color": "#2a3f5f"
          },
          "geo": {
           "bgcolor": "white",
           "lakecolor": "white",
           "landcolor": "#E5ECF6",
           "showlakes": true,
           "showland": true,
           "subunitcolor": "white"
          },
          "hoverlabel": {
           "align": "left"
          },
          "hovermode": "closest",
          "mapbox": {
           "style": "light"
          },
          "paper_bgcolor": "white",
          "plot_bgcolor": "#E5ECF6",
          "polar": {
           "angularaxis": {
            "gridcolor": "white",
            "linecolor": "white",
            "ticks": ""
           },
           "bgcolor": "#E5ECF6",
           "radialaxis": {
            "gridcolor": "white",
            "linecolor": "white",
            "ticks": ""
           }
          },
          "scene": {
           "xaxis": {
            "backgroundcolor": "#E5ECF6",
            "gridcolor": "white",
            "gridwidth": 2,
            "linecolor": "white",
            "showbackground": true,
            "ticks": "",
            "zerolinecolor": "white"
           },
           "yaxis": {
            "backgroundcolor": "#E5ECF6",
            "gridcolor": "white",
            "gridwidth": 2,
            "linecolor": "white",
            "showbackground": true,
            "ticks": "",
            "zerolinecolor": "white"
           },
           "zaxis": {
            "backgroundcolor": "#E5ECF6",
            "gridcolor": "white",
            "gridwidth": 2,
            "linecolor": "white",
            "showbackground": true,
            "ticks": "",
            "zerolinecolor": "white"
           }
          },
          "shapedefaults": {
           "line": {
            "color": "#2a3f5f"
           }
          },
          "ternary": {
           "aaxis": {
            "gridcolor": "white",
            "linecolor": "white",
            "ticks": ""
           },
           "baxis": {
            "gridcolor": "white",
            "linecolor": "white",
            "ticks": ""
           },
           "bgcolor": "#E5ECF6",
           "caxis": {
            "gridcolor": "white",
            "linecolor": "white",
            "ticks": ""
           }
          },
          "title": {
           "x": 0.05
          },
          "xaxis": {
           "automargin": true,
           "gridcolor": "white",
           "linecolor": "white",
           "ticks": "",
           "title": {
            "standoff": 15
           },
           "zerolinecolor": "white",
           "zerolinewidth": 2
          },
          "yaxis": {
           "automargin": true,
           "gridcolor": "white",
           "linecolor": "white",
           "ticks": "",
           "title": {
            "standoff": 15
           },
           "zerolinecolor": "white",
           "zerolinewidth": 2
          }
         }
        },
        "width": 3000
       }
      },
      "text/html": [
       "<div>                            <div id=\"fbab834c-33e0-421b-b276-fb935b9a57d1\" class=\"plotly-graph-div\" style=\"height:700px; width:3000px;\"></div>            <script type=\"text/javascript\">                require([\"plotly\"], function(Plotly) {                    window.PLOTLYENV=window.PLOTLYENV || {};                                    if (document.getElementById(\"fbab834c-33e0-421b-b276-fb935b9a57d1\")) {                    Plotly.newPlot(                        \"fbab834c-33e0-421b-b276-fb935b9a57d1\",                        [{\"colorscale\":[[0.0,\"#000004\"],[0.1111111111111111,\"#180f3d\"],[0.2222222222222222,\"#440f76\"],[0.3333333333333333,\"#721f81\"],[0.4444444444444444,\"#9e2f7f\"],[0.5555555555555556,\"#cd4071\"],[0.6666666666666666,\"#f1605d\"],[0.7777777777777778,\"#fd9668\"],[0.8888888888888888,\"#feca8d\"],[1.0,\"#fcfdbf\"]],\"x\":[\"APL\",\"Assembly\",\"Bash/Shell\",\"C\",\"C#\",\"C++\",\"COBOL\",\"Clojure\",\"Crystal\",\"Dart\",\"Delphi\",\"Elixir\",\"Erlang\",\"F#\",\"Go\",\"Groovy\",\"HTML/CSS\",\"Haskell\",\"Java\",\"JavaScript\",\"Julia\",\"Kotlin\",\"LISP\",\"Matlab\",\"Node.js\",\"Objective-C\",\"PHP\",\"Perl\",\"PowerShell\",\"Python\",\"R\",\"Ruby\",\"Rust\",\"SQL\",\"Scala\",\"Swift\",\"TypeScript\",\"VBA\",\"Cassandra\",\"Couchbase\",\"DynamoDB\",\"Elasticsearch\",\"Firebase\",\"IBM DB2\",\"MariaDB\",\"Microsoft SQL Server\",\"MongoDB\",\"MySQL\",\"Oracle\",\"PostgreSQL\",\"Redis\",\"SQLite\",\"AWS\",\"DigitalOcean\",\"Google Cloud Platform\",\"Heroku\",\"IBM Cloud or Watson\",\"Microsoft Azure\",\"Oracle Cloud Infrastructure\",\"ASP.NET\",\"ASP.NET Core \",\"Angular\",\"Angular.js\",\"Django\",\"Drupal\",\"Express\",\"FastAPI\",\"Flask\",\"Gatsby\",\"Laravel\",\"React.js\",\"Ruby on Rails\",\"Spring\",\"Svelte\",\"Symfony\",\"Vue.js\",\"jQuery\",\".NET Core / .NET 5\",\".NET Framework\",\"Apache Spark\",\"Cordova\",\"Flutter\",\"Hadoop\",\"Keras\",\"NumPy\",\"Pandas\",\"Qt\",\"React Native\",\"TensorFlow\",\"Torch/PyTorch\",\"Ansible\",\"Chef\",\"Deno\",\"Docker\",\"Flow\",\"Git\",\"Kubernetes\",\"Pulumi\",\"Puppet\",\"Terraform\",\"Unity 3D\",\"Unreal Engine\",\"Xamarin\",\"Yarn\",\"Android Studio\",\"Atom\",\"Eclipse\",\"Emacs\",\"IPython/Jupyter\",\"IntelliJ\",\"Neovim\",\"NetBeans\",\"Notepad++\",\"PHPStorm\",\"PyCharm\",\"RStudio\",\"Rider\",\"RubyMine\",\"Sublime Text\",\"TextMate\",\"Vim\",\"Visual Studio\",\"Visual Studio Code\",\"Webstorm\",\"Xcode\"],\"y\":[\"Academic researcher\",\"Data or business analyst\",\"Data scientist or machine learning specialist\",\"Database administrator\",\"Designer\",\"DevOps specialist\",\"Developer, QA or test\",\"Developer, back-end\",\"Developer, desktop or enterprise applications\",\"Developer, embedded applications or devices\",\"Developer, front-end\",\"Developer, full-stack\",\"Developer, game or graphics\",\"Developer, mobile\",\"Educator\",\"Engineer, data\",\"Engineer, site reliability\",\"Engineering manager\",\"Marketing or sales professional\",\"Other (please specify):\",\"Product manager\",\"Scientist\",\"Senior Executive (C-Suite, VP, etc.)\",\"Student\",\"System administrator\"],\"ygap\":1,\"z\":[[-0.3521913315903834,-0.4893044661927163,-0.5974489733718342,-0.4315580687813961,-0.6693790916627471,-0.42121831894566397,-0.5867475500024246,-0.5063626199557512,-0.7039281104168577,-0.6165098757390448,-0.7648754778918571,-0.6035674579353452,-0.5808975407761977,-0.6595803826801683,-0.6323365799661192,-0.6604504059092308,-0.6023426025587342,-0.24200978548849786,-0.5782890238400569,-0.6021016756343232,1.1795714392320558,-0.6128205359380406,-0.35339079275655805,0.8136459378851421,-0.6299447586000729,-0.6827040276170573,-0.6531637744832128,-0.6006624237986236,-0.73452429409911,-0.45233563828511286,0.5224331218052592,-0.6111127391532386,-0.4716140252729425,-0.6603624576481593,-0.5121357471709159,-0.645037933329154,-0.6085673621297393,-0.78823844740229,-0.6374897322383244,-0.5633768103470762,-0.6904675192675779,-0.6455932686297985,-0.6403953643707255,-0.6713507753916554,-0.6440448428724329,-0.6952941587447284,-0.5775105888480772,-0.6154557335844718,-0.6401993485070524,-0.583274661551335,-0.6340842151068703,-0.5990433890197788,-0.6358389540332903,-0.6328301130816202,-0.6341891723633983,-0.5414326103530258,-0.5509953598596472,-0.6873370319920419,-0.6737945672764633,-0.6748663746032836,-0.6514482777663836,-0.6023124436971657,-0.6397403317342107,-0.49506595844799695,-0.649629436614309,-0.5997407058541514,-0.47789856744689474,-0.4418149163520013,-0.5986723161412935,-0.6082709902249187,-0.573864119526619,-0.5935862761935103,-0.5447344132230264,-0.612265817299089,-0.6329910020209598,-0.6005628335242518,-0.6251659122496499,-0.6670533334628247,-0.6896029765853454,-0.4580558375459701,-0.6684263084088403,-0.6231372836546871,-0.4634784926437049,0.2940055310378511,0.10056391418040063,0.008883043423086358,-0.25820497550191474,-0.6374206965255677,-0.14047374897998405,0.26047636856491435,-0.6747755372712905,-0.7469915909155287,-0.6184940040074828,-0.5750664554106855,-0.6642335113965604,-0.5695504463808585,-0.6249225665984773,-0.7176380101173933,-0.7100700078222407,-0.6861539850998458,-0.621864130201959,-0.6282777686493639,-0.7117646023648733,-0.6186247815387141,-0.6442729166596897,-0.5212652561412433,-0.5901834102746037,-0.26798474034953834,0.0031700617600562476,-0.5702369848077731,-0.5434209475129883,-0.5303404688876006,-0.654499875752373,-0.6223604197125638,-0.4270590509649631,0.5623287682815592,-0.6364351699272136,-0.5734012342404116,-0.5744215369722917,-0.535452640553471,-0.5594308420906522,-0.6594605513180554,-0.600620422462825,-0.5975459554707956,-0.675078884411297],[0.31163005100213537,-0.6884473852068098,-0.4729614259385566,-0.6378142613508185,-0.36785823998441414,-0.6308101885661426,-0.2898523396365246,-0.36097507130735895,-0.36696877053521226,-0.5320601671448195,-0.14699368163024265,-0.532214224212732,-0.554718217078657,-0.33976576864420066,-0.5032279028420895,-0.5317873112075194,-0.386464320094435,-0.5306113114990958,-0.4469347281895851,-0.40169806055092516,0.1910439633150597,-0.5205023325028499,-0.43633064502268876,-0.3767988844532078,-0.43786147968048034,-0.5876557918246388,-0.406957049429961,-0.4244740882165072,-0.30207642085479314,-0.30541831012458764,0.9618143030824241,-0.48877151700355737,-0.5554017854001033,-0.246586849999533,-0.20883330689038793,-0.5573091576026905,-0.4443123650730839,0.2697334481830949,-0.3485857320653658,-0.47428362004323793,-0.45358363788645745,-0.42925946063172077,-0.4694191991136903,-0.11438913866676713,-0.4355518461190098,-0.1756838672345576,-0.4241129917464299,-0.37428047584859764,-0.12841409266133802,-0.3827509750240793,-0.46579551984251333,-0.4331951886711464,-0.4151636157665295,-0.466723074909519,-0.413832696053482,-0.4486754283587748,-0.19399705683384894,-0.33058997397703144,-0.23151775149084958,-0.3025788272025515,-0.35136658451094965,-0.4225562137924593,-0.4060984798114613,-0.30084445790057507,-0.2594701862289187,-0.45446237422560104,-0.27331842788717176,-0.255383337141674,-0.5042053506281108,-0.4430126775851952,-0.4455635298917757,-0.44926921199093317,-0.42106395983167655,-0.49343948584961833,-0.41414940897342206,-0.4489828573308009,-0.34230456379736324,-0.3668565362358897,-0.32541523402048694,0.24562996165608958,-0.4712860042131436,-0.4827981233472036,0.2776020527696315,0.02762555928710688,0.05341042945948743,0.2967312827068234,-0.63639463274722,-0.4708042159577224,-0.1997058309215838,-0.03500646536592283,-0.566089303563921,-0.5364806383045313,-0.5387984232203086,-0.44252345861379627,-0.36965255930693736,-0.41546415259225017,-0.4528861532819782,-0.5508681907947801,-0.5772614524017708,-0.5188064008747164,-0.5831237687267024,-0.5656422413535696,-0.4654771976509961,-0.4685682338652341,-0.498767997326513,-0.36558979446123924,-0.36801715292558157,-0.5094124343581314,0.1963506884019564,-0.45236373070694735,-0.5753300461204819,-0.333829590738983,-0.2727930897975475,-0.4430065030344701,-0.2632940405998652,1.298689535457877,-0.4646601376949504,-0.4692939192395444,-0.39886231485157997,-0.605050714740692,-0.4669433136230887,-0.3441116593660058,-0.4008988732079097,-0.4841963622136512,-0.5470726649799608],[-0.4210852264324178,-0.5018996607717949,-0.35247722254167957,-0.32696706915002627,-0.5765115590551723,-0.22833673936784865,-0.5294338659143988,-0.23300373942413868,-0.5674628115396462,-0.56032621195021,-0.7158860200841047,-0.5009870720393435,-0.536609211212689,-0.4526415147745422,-0.4292050835052423,-0.5470485825696719,-0.5080106774849066,-0.11820309971936005,-0.4427939122893057,-0.49678170452540793,2.4896901087930283,-0.5362052138977211,-0.06980352010923238,1.004650144454355,-0.5249853655169905,-0.59998031748731,-0.624002878433223,-0.41247702090900235,-0.5517931107872555,0.1258929345731739,2.3822314783914016,-0.49890550379742743,-0.3372458743912217,-0.39432786465310865,0.32569589866613985,-0.5526894930322274,-0.525292124163363,-0.410865036526975,-0.18860631828880894,-0.5212434275240312,-0.36898867303650135,-0.34017364171114184,-0.5242643181439128,-0.37267024799461224,-0.5721282715006929,-0.4771896034702062,-0.3865434752695857,-0.44887642151207746,-0.37429654309379495,-0.32100322328637354,-0.4363277036400178,-0.3915029325396218,-0.31784683588919405,-0.48570426006980605,-0.26832324039781863,-0.38150483323753115,0.025845319866880247,-0.4003202271976037,-0.3125655226594448,-0.5900983628675852,-0.5804591355895625,-0.5300174204689531,-0.5398193588956389,-0.0793328230657084,-0.602427744431422,-0.5316608539209672,0.6597042998980809,0.431421394171433,-0.5524422197217815,-0.5835437378048739,-0.47329247199190233,-0.48900316169600666,-0.4858589824393091,-0.5174939312647214,-0.6237462086512948,-0.5186860135336088,-0.5485758553316211,-0.5786044082250436,-0.6005468931591466,1.2573702774745907,-0.6226716819336213,-0.5442476321038962,0.96703094474418,3.00376542931146,1.7405006987428893,1.8292083800971468,-0.10908487895019811,-0.5285935307325804,1.5660398005689897,2.680773378233819,-0.49079513284416687,-0.485385746894095,-0.5415253139536446,-0.32640352460587896,-0.42441301549993854,-0.35900768491014706,-0.3435665403770228,-0.5274714461589811,-0.49064185029635365,-0.4374414228928933,-0.49488669259005696,-0.4657535344950995,-0.646644373399333,-0.5071769876334232,-0.5822599243236642,-0.24060149471260397,-0.42465749741245734,-0.1016142338782834,1.903571008375882,-0.41668118510895646,-0.3057985277309376,-0.49761643517837356,-0.42536821659985735,-0.5833689913418115,0.3585259828767922,2.8082353921833847,-0.6450580977772568,-0.49100690897038823,-0.3207476743442783,-0.42289279217660736,-0.27135433375341744,-0.5425878441332899,-0.4003278140464852,-0.5489763803704174,-0.5754567494067391],[-0.06369814693936444,-0.07257212271800455,0.02803788610173014,-0.12245054542527874,0.06368374778416581,-0.1696876969985985,0.4583235904855434,-0.2991348813440671,0.3916748104267263,-0.13594356081966322,0.5714882373989518,-0.12957811963512916,-0.10337092957143222,-0.060386080981764484,-0.14660734961024616,-0.3245513342452211,0.010996609153229177,-0.2748564572231671,-0.18077069741323587,-0.04289506931507614,-0.5215728862369338,-0.2789784112651279,-0.1422711688064072,-0.39740957092951357,-0.09876361912643841,-0.1787989897273885,0.2672967781460633,0.48105662020862994,0.2339896579432762,-0.11595906678575836,-0.015896449855656487,-0.09941307702855022,-0.24970934636521627,0.20162628555321535,-0.3420617691186087,-0.20522792577613652,-0.154878130280383,0.689507573198635,-0.1764398166528607,-0.12482438604033512,-0.22730783923891282,-0.11641219466770453,-0.1623345656900917,0.15202188451401258,0.2577732809468423,0.22702158515809395,-0.16256789262825536,0.057502125655892036,-0.009175916397405606,-0.042912836304132236,-0.0709226526917638,-0.01722673433496165,-0.12059924641250247,-0.021098584034560216,-0.15657578262304447,-0.22141452789326063,-0.11773979050467642,-0.045538266587312054,0.13080064488918763,0.16755747541319083,0.02454058221809523,-0.14789977773382304,-0.04472995092777841,-0.045011065074234156,0.30073937099429365,-0.16046778173130224,-0.19740905889720037,-0.15751826617842563,-0.2659196768002085,0.2311609715110523,-0.20088206605684028,-0.03582238854678729,-0.27477086252727495,-0.20485186339683858,0.19607917837266578,-0.046826011499934796,0.19422804052049106,0.03235971196806192,0.15414195329990688,-0.23907979294026563,-0.03797788053424582,-0.14354971717607065,-0.14304515102999157,-0.40412379705582746,-0.2896233650168249,-0.21093960648104165,-0.23594940206959925,-0.18868948040869366,-0.2543064489117329,-0.33975189176583964,-0.010400289120227153,-0.03166311116942106,-0.17286727965006052,-0.1481331683965633,-0.12680184053797558,-0.11854699565969412,-0.19816490655744937,-0.09245522903523148,0.012290917232270757,-0.2085254618479908,-0.1341116107251107,-0.11397156686309615,0.07597526636486124,-0.15300260924316494,-0.07123201329107332,0.024541871116943538,-0.08812358578038179,-0.22656647817739747,-0.23745773800252543,-0.23992763403831166,-0.16348810096953462,0.22709034869795294,0.08996632796858683,0.21113126541752023,-0.18130514844652904,-0.10101175555469356,-0.10733442020169638,-0.1838615707910343,-0.07702782811763478,-0.011318995439831168,-0.04094680669387328,0.062104254307296866,-0.12315956225002347,-0.15896855895091586,-0.17032228828936344],[-0.08379219960162447,-0.22510290431346067,-0.4311730950380467,-0.3204828489107831,-0.24106641931882514,-0.3050002895391895,0.11031076998707973,-0.4696791875421522,-0.30488029332093597,-0.25336306281555343,-0.058324570727281304,-0.4702453160137279,-0.44448948572059077,-0.3619988701547225,-0.5005061937934535,-0.4941629887404307,-0.19404031563003296,-0.5526494630475705,-0.33187716086389096,-0.24402124866678704,-0.7525860407620305,-0.4370843181615031,-0.2802948118452459,-0.43649880390181756,-0.2548633715360504,-0.2247358581064356,-0.15650279890164073,-0.29230804920077214,-0.27470428618611414,-0.436986066686252,-0.5598879185140075,-0.4383682668972037,-0.5076749343894401,-0.2785373719974275,-0.5375968447445539,-0.3245318845861535,-0.280373078578184,0.03176737697680634,-0.40430965392283036,-0.31527249415688535,-0.4730917222354909,-0.4741768086858607,-0.1884471303239078,-0.14728402087171785,-0.31704214465186964,-0.24236493748468993,-0.341462307866466,-0.246980791178195,-0.23580251227792315,-0.4062774540738211,-0.4375254144597408,-0.3442524485417072,-0.4021854179506683,-0.36379998186001716,-0.3772855031763826,-0.2994512960240936,-0.360262899813848,-0.34905370167553607,-0.3609327409374774,-0.18757443721493577,-0.273671706171996,-0.23967127879435685,-0.1942417237110749,-0.36316880544466007,-0.0874324397202382,-0.27574907413571664,-0.46568601912358704,-0.5265453838745879,-0.1985813048450995,-0.20499669028544465,-0.29671170674874087,-0.4188866721588117,-0.388939805475143,-0.18960423679491537,-0.2873223999333309,-0.21696876396580703,-0.17767163719648565,-0.2557637865180248,-0.1917546507459,-0.557304955020002,-0.1800688473770415,-0.2762649501457963,-0.549886398863733,-0.6041087608326624,-0.6152218202199519,-0.6075442849344146,-0.28332973435930225,-0.31517225975598373,-0.5295529042139623,-0.6232730996604482,-0.5790234444173518,-0.5196586279017107,-0.22951623552968548,-0.4327451527394426,-0.3332898848388575,-0.34112796435482673,-0.4841586694748619,-0.5353610460943087,-0.43575418163549523,-0.6054046908862204,-0.1521700410741863,-0.19021512089033418,-0.2202892902795916,-0.3050001270008602,-0.2579112424324123,-0.2057493658609726,-0.1876045412621286,-0.43532095759682765,-0.637107392168737,-0.40822143118704474,-0.6061316705897545,-0.10109448512276623,-0.21387892814249002,-0.25596741574746523,-0.520537735963317,-0.5273192691682914,-0.4148154084154323,-0.4704442763113772,-0.27901667999370783,-0.3816494889545505,-0.4900499458507058,-0.20270419522503796,-0.3090563658358265,-0.29393207628324436,-0.2694998800765874],[-0.19000362081642747,-0.0058275089249343525,0.8390715156130705,0.15573831800956925,0.09887669547329558,0.005301645192072383,-0.015159727611031064,0.15200402829290005,0.6367949444289213,-0.08263441006188516,-0.32930315837975643,0.3652023536613585,0.40407490871623697,0.4430348603636223,0.8681876192632326,1.2908769046931183,0.09321528542142876,0.3857266076629583,0.20351605636671538,0.10562926183709886,-0.32945347185222046,0.14947782549457225,0.4404022377702989,-0.37111317783905445,0.21245370506844358,0.011951055188044768,0.07128436856261186,0.6220469484009594,0.7209087617751389,0.4195769407912911,-0.15537683303057157,0.4810243507835067,0.4679279233449442,0.17696526362529846,0.3134653412214013,-0.07139220656971146,0.17439483102383682,-0.2000608204687508,0.5654479101756511,0.3617313970245501,0.6871748183332127,0.7416329471504569,-0.07251258332928935,0.10736989612174104,0.3584331259148496,0.12210628884309233,0.21785724723619249,0.12377286597110371,0.1480961562023674,0.36004627353153124,0.5413553784252597,0.14746766222503896,0.4118286918176521,0.36134196171779914,0.33201535129749393,-0.022387102597961592,0.4367773335048801,0.42387437596491545,0.5421398706050687,0.05924754969312868,0.21659479560982106,0.09812496595720421,0.09828590237394075,0.3217175385909856,0.19652300325365615,0.14937374638853615,0.511397667318305,0.6004526926554631,0.1408605767431817,0.0823443397998403,0.0848561953866823,0.29101892876785646,0.3340798939859924,0.10969615779628458,0.3429124980642975,0.18103859375679016,0.045150426779294484,0.16621896151308105,0.027150871980498214,0.3023534944077543,-0.07099721254722653,-0.05772327336946555,0.28928401550999283,-0.11498190033702892,0.04359979825651597,0.11147070243780115,-0.02432759058252975,-0.04173797760846355,0.04655779137195805,-0.04776553313790002,1.6856629000456695,1.7021044656745514,0.178373839647055,0.5025273487427766,0.1866097822583316,0.22441604527964934,0.8728302051605279,1.8954518994971254,1.2742172279618278,1.5928231630289855,-0.13830921196847937,-0.013986349176743471,-0.03247515332448807,0.20222500872767527,-0.13169010758917477,0.12025752600146898,0.06929734662327551,0.3258737363129321,0.148424653988215,0.2794971600339343,0.7421488755607165,-0.09259401456671916,0.104082216887291,0.1498162462304071,0.34864381536811445,-0.29606755187789635,0.38017647629586854,0.2732615706285192,0.16237439574979387,0.1805769292739058,0.6515201654494989,0.024760850236876485,0.18488423898315778,0.1897875445193771,-0.07470104224081184],[-0.48208502915713575,-0.5499994195974102,-0.3566231514341711,-0.4507735019293972,-0.3478233034722504,-0.45649333365767647,-0.4664404473671991,-0.4868429953686985,-0.4824145328555073,-0.4344138305443797,-0.46632902191583125,-0.3384602618933913,-0.28170526994716083,-0.3200980250002775,-0.40171965550704475,-0.06367425497040648,-0.3571704467328248,-0.4035761067133024,-0.32477589957283715,-0.3530703158271101,-0.8366382845553425,-0.3311040410217493,-0.6028386817690875,-0.7552537309577877,-0.34532815964778407,-0.3272535033913821,-0.36414144808672205,-0.3515001912055687,-0.27520485722743665,-0.4382247453103694,-0.6936165333105756,-0.36549690133338814,-0.4765377801251563,-0.3649179478266622,-0.4854439016783105,-0.39571059986115237,-0.3532232907032597,-0.3587283846973138,-0.41069538682567613,-0.3982348207062867,-0.39236241465285476,-0.39013444837632844,-0.39878864176386153,-0.3143850194489581,-0.36970756237875047,-0.37073370074822953,-0.36845695145009777,-0.37139259973862926,-0.3033652376785244,-0.4106798338445024,-0.3802004966054117,-0.4266606652912986,-0.412365684456025,-0.37229384553904976,-0.4475131760320431,-0.3890275683980161,-0.46312984455764983,-0.383197269082527,-0.32062672570578354,-0.3455021569180425,-0.3422969557448998,-0.345273734474405,-0.2935025421307873,-0.4041194950337656,-0.33350231396839425,-0.36450076667540077,-0.47055507433745486,-0.4968390845041193,-0.3087308271822645,-0.34979999830544517,-0.3506168310839307,-0.33403694094423114,-0.2583694456903124,-0.3487184781882608,-0.2632714921825619,-0.3532973103573426,-0.33836294605916356,-0.34418204291903826,-0.3399187541452397,-0.5556667302473908,-0.39641479725369433,-0.4378071358389756,-0.5408111550819648,-0.6882478892289526,-0.6505869337606368,-0.6469794092124488,-0.5314755008520183,-0.34984049031632974,-0.6560135800758383,-0.7060843568343387,-0.35996023963615115,-0.3435777713488227,-0.3797591185147777,-0.3720441245194202,-0.3722498931975145,-0.3892083777979958,-0.3802604848834686,-0.35716490962397973,-0.33529014524731693,-0.43782030521178417,-0.42335257140098265,-0.42270970525946894,-0.3567768922019939,-0.3538704435398618,-0.3889800005703539,-0.43262218659301277,-0.3011451567228871,-0.4781341353343515,-0.619229903894502,-0.31430382408785523,-0.4416717610639308,-0.3413300059354951,-0.3291669891560139,-0.2974872985176861,-0.36911361420953437,-0.7765432666611465,-0.3169136300204295,-0.2543209414407925,-0.40874406979087086,-0.3627463083111077,-0.39010827150612326,-0.36676230564992307,-0.3932833305104055,-0.3251487580546889,-0.423200697469831],[3.1039857263183412,2.7254453942862886,3.0444534209039453,3.01517400904038,2.506240726010736,2.9526503758755385,2.636243585830528,3.1299246861986845,2.854517739926353,2.096333573934549,2.127762194103527,3.09062082404811,3.4883141795189867,2.8477524605538522,3.3504629394798062,3.182896799358389,2.162455965455818,3.220085563502449,3.1353660196367144,2.303636544699209,2.338813720865903,2.7995233004622495,3.286956611883891,2.316804624001924,2.168838456560624,1.7046126138135416,2.4428330393395825,3.030582147028292,2.5013716960717316,3.1627479262016673,2.1459596179746154,2.842576628583974,3.2758390072190706,2.7928345232958964,3.696022153013422,1.780689626174966,2.070559042230585,2.2979126996027164,3.6072077556448745,3.015612739237711,3.0926324940100374,3.1396905342477632,1.9415390469178988,2.872791362096877,2.7606234400850713,2.5352487279944222,2.6685924866222774,2.749476452320705,2.910594565253614,3.03661239649529,3.1282042471615004,2.701190463017708,2.950136934780041,2.6192796110475642,2.8151457604308856,2.4587920562134644,2.856650773224523,2.6774521736494776,3.0537492954211056,2.326633490747164,2.465488848617116,2.0570753406521742,2.1566209742010654,3.0845571042729083,2.358608935188742,2.046299156961161,3.44312765010764,3.267759217535267,1.70666353698411,2.410136811729764,2.083349480538821,2.7616995862216567,3.2985700045555606,1.9429603665637267,2.7681540336891386,2.228934635429115,2.302892978984428,2.5382490265757656,2.447250821296706,3.2884959580504454,1.766017661636847,2.1138853513185896,3.309409291906552,2.3735582670968958,2.9704467814411464,2.9515320170500012,2.603613622127363,1.8458855558998337,2.7072976481682556,2.5022691127700996,3.0305317592413963,2.8834183550838373,2.021576046947771,3.0448205305755884,2.2982422352975393,2.869593974393893,3.228639414183048,3.040804165970538,2.708525123079393,3.126822951638563,2.3802078090397667,2.371375272769099,2.1369330576779424,2.0809636800102793,2.1197717631278694,2.7743237577276765,2.9222032086501684,3.4080469792239687,3.045216236138353,3.2746904472026017,3.2174227916183678,2.6731701994893533,2.6838132162983492,2.6424397853275727,3.358118444996454,1.8847366863954378,2.8645261160186837,2.8686109193172644,2.849886562657573,2.723913961300748,3.193835306235493,2.5285869244809307,2.6250583904697935,2.159340937353337,1.8095398387512422],[1.149121460175616,1.480107927124948,0.470676119737394,1.271076916397115,1.3551710142103273,1.5622115955085107,1.539538495713708,0.2194813512188321,0.6565209710438736,0.3594744047601777,2.6641154092902477,-0.05029674883222564,0.21393034712357273,1.22925596652691,0.23247688675540995,0.5630955827544304,0.48911663388536836,0.4476299505475272,0.6695625061639072,0.44027202943476207,0.05269710241302436,0.4420219389899987,0.6745607095721528,0.7827299081706834,0.3040271667637148,0.7747644996124646,0.2562559346836255,0.41512232467564886,1.2265082667399902,0.5011623409797837,0.18415724405372558,0.0011267393211605273,0.5415604390894141,0.6822830563438862,0.2128516988458166,0.5499302526014034,0.43214619548370187,1.5538895193650883,0.43874152573497477,0.5682241060303713,0.1962663117189793,0.23355798331519767,0.28002887247525005,1.2880835387633185,0.3991541536853014,1.2466674044192232,0.4075179867405491,0.44738044152302814,1.1747485602476426,0.332817487335192,0.1808857220617264,0.9051728290730255,0.27109143331650176,0.11987355141387321,0.24272607561411208,0.09783735005941807,0.5567887690393155,0.9256599512834236,0.9940029819052474,1.2455203150172236,1.1758407050616495,0.6021928371113074,0.625934126279951,0.17715107239404493,0.20968979107309307,0.19977703511930275,0.04540513717797615,0.270860073607082,-0.004295980020977098,0.033990262423469975,0.25501279726654236,-0.04822732001090726,0.6042508189176135,0.25343132753079367,0.04671798549401628,0.2791423854555972,0.5771179942268869,1.3689485100827696,1.5896846131092766,0.21286546620386448,0.4724609378312725,0.4376029585574838,0.2618651938714588,0.21168444776680484,0.3602203548786744,0.16575033421192398,2.1920793775095992,0.27097267702859856,0.49027374790820605,0.2856264540769848,0.19533426942203494,0.32380011799672165,0.2606203827331564,0.39463936012908296,0.5731796429725613,0.5887830255607235,0.31421911433302613,0.3537152500660502,0.26786162443439265,0.04234199354765383,0.9466395344034648,0.9496742672308158,1.5747400756108965,0.10582349454498337,0.5788220752500112,0.2991153507282177,0.9769606392515079,0.4758271595916027,0.3287159308252538,0.49774037592015347,0.1783061049389322,0.8412910153456675,1.218799121696097,0.06787436220552398,0.46053926708718596,0.29186480327670583,1.0077573715282815,0.09179274254689714,0.37518440157218363,0.2352815884087174,0.32792971497150725,1.4550570234434643,0.6209859263480141,0.3328408448627031,0.5248543949776054],[-0.3141561604796769,1.1514427709433215,-0.24235784137603136,0.9445990632131063,-0.23881743179093834,0.6918907819206254,-0.02032312257391628,-0.4705205506709045,-0.16970850438568863,-0.27849327522342754,0.1998191405253768,-0.36297276735592165,-0.22521304512615187,-0.3453851239710358,-0.36909748085367505,-0.38302769085069643,-0.39589751260181777,-0.31486201895128985,-0.32561358186990513,-0.38546943319134624,-0.42394698816644083,-0.21667708760821994,-0.2381965534980432,0.5432195170494751,-0.3883134434873536,-0.08897934057973955,-0.3625350121698692,-0.21318689456119486,-0.3137260741801162,-0.21457629805586595,-0.7225551179641341,-0.4595029630396827,-0.06803398267046412,-0.4178257825257424,-0.48167473617647283,-0.19634740553388716,-0.39176628845090716,-0.2392162220458306,-0.44107803179500543,-0.29035770741013117,-0.4767476151549718,-0.4843554251554276,-0.290495731576798,-0.36704184609642676,-0.31655836349441646,-0.3566326209290931,-0.3696056596876991,-0.3611045410968669,-0.3685627898773366,-0.396180252764919,-0.4499258514811834,-0.11706404485321328,-0.4197808592202493,-0.4043841825509049,-0.4001920337305795,-0.42647871597166487,-0.4063387188136759,-0.3588894235814468,-0.2899070059886547,-0.2970657389822132,-0.34040342952645586,-0.3502611905642466,-0.28381147526193,-0.3983269239648074,-0.41088824615244335,-0.3809674148673023,-0.429048374153664,-0.30568150312121745,-0.4234141692647515,-0.41741155629690274,-0.40778731807653323,-0.46774301761749953,-0.4033994453762353,-0.40431973726251536,-0.4056268650857622,-0.37716373699331285,-0.36384268929538316,-0.25321827306631334,-0.18552037202236477,-0.5702059751043157,-0.20785027602248876,-0.24747071814053037,-0.6025035037686663,-0.2835510443496484,-0.19513423531393534,-0.4283679809825747,1.2571902022482913,-0.3366590610770019,-0.233320127881722,-0.2977328464590878,-0.3894354277247974,-0.47500955356151414,-0.3838934367233839,-0.3437605278828502,-0.3064507679695605,-0.31579290033940943,-0.44570410270420985,-0.6191540385108909,-0.4667510123747747,-0.5190432023240232,-0.16004054340550256,-0.009160807782614482,-0.056064369035719805,-0.43281827324433886,-0.10522635274764575,-0.40358529457344616,-0.050056170274183666,-0.13240967751404617,-0.3894562934412773,-0.3667112827057999,-0.21789276800964297,-0.18598807342106635,-0.20000212273405324,-0.41339697125121955,-0.2735308313445003,-0.6183117927108164,-0.37085950791155353,-0.4117760656479051,-0.36573043448839976,-0.4512475631417715,-0.23595019081543178,-0.17183948750142208,-0.32182848752828314,-0.3940662988201333,-0.23018003250339167],[1.2007918813071417,0.8453894601477574,0.9232185168384542,0.8939114391478029,1.1694112348465195,0.9096747693425072,1.0851597389798089,0.8964421246129085,0.7677628260527853,1.501483589416794,1.224620750533303,0.8446928483030005,0.7867260761449526,0.895270804275445,0.7634784887512709,0.6515656261459184,1.725657260711877,0.8910600189655616,1.00110383257961,1.6076202842445144,0.1333559326370412,1.0808797797102212,0.8536353906012987,0.8132905812217576,1.7214030968367477,1.1926779607194051,1.5149937725837448,0.7171311430116795,1.0502617537361767,0.8470131300636041,0.4710266919237828,0.7997782380301692,0.901665964417232,1.0910364128413585,0.414232827086857,1.320651766959047,1.7841109031678213,1.1708015363677131,0.6155254997821784,1.1613525632947235,0.8619684527539686,0.8123483501604961,1.8770436322621356,1.1184810282313293,1.2578323439468593,1.1301884976612793,1.3874224226418361,1.3556626011722988,1.037735749012689,1.0013868433352937,0.870715528755815,1.1632365783746204,1.0776838004067233,1.3388946654921725,1.2846471442207572,1.5257871497661595,1.1905991629555528,1.1708467920513714,0.9624117807777036,1.257573774977218,1.1144156793894529,1.7667753791265581,1.701774579606879,1.0026389141944032,1.6607691807585847,1.822214043976924,0.635359023828742,0.6878530445222963,2.3072831658684763,1.4530562079167475,1.7999175241889955,0.8737071864024882,0.8554564273687928,2.1174536796159087,1.2506356470482758,1.6720650872833231,1.530084523615,1.0957198433201512,1.1889498818764481,0.21266068810728805,1.8374996370055392,1.4659496897637307,0.26340991621729165,0.2940782528428609,0.3732318020974694,0.33129335234192914,0.698474499879535,1.8598439393016424,0.8171899729188071,0.364879894275997,0.4776874096211126,0.4731544159656892,2.0535950220101675,1.0299842739652205,1.865786142516447,1.267819294195528,0.8094263326458793,0.46335348365008466,0.7412677666342964,0.47102365722778927,1.5344348835139328,1.4752722358793453,1.205758762907456,1.8686606731244069,1.4932393184349875,1.4308468809576866,1.1214561363467292,0.7155380344428014,0.317582405761612,0.9931787974922575,0.8255555215954882,1.3630421198674847,1.233233788628491,1.4158399793537944,0.6972620978632399,0.2611988146795013,0.9509196580776919,0.7259270783947206,1.342151156381117,1.2866994087432373,0.8903334314767453,1.233062509845816,1.4282377139189906,1.8861718140774022,1.5229872808577212],[2.6023520544997787,2.6577090328885666,2.963662647829626,2.579676908256738,3.280526765419354,2.6516206142777055,2.7209232632218456,3.2667303309338034,3.110309330949752,3.003982840104561,2.163284070336824,3.2721589833151667,2.771040077610427,3.138981658362006,2.814631262270873,2.757621074122962,3.5714640193394565,3.066941465799354,3.026933757751467,3.560516326088419,1.747315632556446,2.8504584590661914,2.7744469692191895,2.8480628357618745,3.588937705637514,2.4573423554230485,3.4015621628355817,2.683658688276562,3.174730759567065,3.0184000192411693,2.3807036649159032,3.4587830295204474,2.9471224190741157,3.297010651665289,2.3525838777155723,2.60424575086276,3.619895469438835,2.9648244313290864,2.601958960254787,3.018482505250426,3.148250012522796,3.0886751862366304,3.242866128748453,2.950838535085049,3.166332327990596,3.2853971747224673,3.3844742174027203,3.2759422835765015,3.061463946761675,3.2237539255544805,3.163082412239296,3.101105512717832,3.2594659745237724,3.4137592173113607,3.2144476186680424,3.561940799870749,3.129712506754511,3.2608404656754018,2.8371861649329775,3.4132768760894314,3.428268536298269,3.588178180084555,3.516222202930555,3.1772382413762394,3.3338207386830745,3.639152268305554,2.7125299062956447,2.8863033278917496,3.5737796980043006,3.5100464272308143,3.669729641307991,3.5634016799828125,3.005757583507627,3.54790451147306,3.3089022208663383,3.5952429052511556,3.5152722533414567,3.287590938264318,3.1725562182248326,1.9458342381644709,3.2470091628100413,3.094623437561584,2.283424018833659,2.076780580852073,2.5720883133905175,2.477465487336204,2.2663680163533564,3.4243884988321867,2.920308806622866,2.290026927717017,2.6099890182901953,2.7538731534770697,3.527787338138482,3.1743422554113,3.236096214286765,3.223905551562274,2.963086046333006,2.518186184047634,3.067132726138171,2.727623068397126,3.1078357495699533,3.1323631506232408,2.951960451361771,3.607393711588227,2.934157232539739,3.2171068919204995,3.0591372079415518,2.846271560565307,2.2849042180825534,2.959641427357654,2.9795927204354005,3.109583246664188,3.142614472501482,3.379151551404313,2.8179090488881116,1.9524783579277871,3.1979810454392568,3.506771504916503,3.2219066348053214,3.164701764486481,2.960609599638156,3.1835385014690494,3.3539387005885586,3.490789537419074,2.879733180161206],[-0.8495191349813191,-0.4956516508624882,-0.7410319234554499,-0.635573778747828,-0.49056398807186447,-0.4446331034078837,-0.8702179334648231,-0.6023621529463852,-0.7889763891009965,-0.565247726685201,-0.7213995937488149,-0.5767088710919126,-0.6265637294816823,-0.6107164233163841,-0.6744655693245838,-0.6528197702281546,-0.6106956970476151,-0.6792635566572782,-0.6201065048743726,-0.5987255563806544,-0.8293293937907067,-0.5883024991030883,-0.7375112196658604,-0.9812605688703818,-0.5809324572929508,-0.46301002091807814,-0.6269162452654816,-0.8226577436457583,-0.7010315407888063,-0.7567241712616505,-1.0236242440182355,-0.6252803193749319,-0.5396513650489877,-0.6920557031729957,-0.695671030586929,-0.5000342871514154,-0.5553109367436128,-0.8306391615425152,-0.6860213022999522,-0.7058215597054822,-0.6207957894496012,-0.6714066067936101,-0.5521453758674774,-0.7503985531617271,-0.6903877413346677,-0.6783656130492614,-0.6103726539198492,-0.6548481686470091,-0.6891751572309678,-0.6557254466764769,-0.6186069002899324,-0.6803199905151351,-0.6510305388248322,-0.620067649543482,-0.6780050448647535,-0.5516486704475115,-0.7472640617232551,-0.6742056779803005,-0.7574567826763035,-0.6098564492224622,-0.5839205497595843,-0.5842675504832251,-0.6109311928951827,-0.7147809669620103,-0.682297976204044,-0.5395990767948409,-0.7287746418269999,-0.7810129813745113,-0.5589828121412623,-0.5944185503875113,-0.5506564487982946,-0.5993879672167295,-0.5785175614665171,-0.5255120797364223,-0.5866948102244345,-0.5730140796928641,-0.6363975117740608,-0.5420676006892334,-0.5438972963052865,-0.8415369530680549,-0.5973551489905428,-0.5676102248899869,-0.8574792359777104,-0.7786410928560821,-0.8746961006571624,-0.9276166543424882,-0.5312428641959315,-0.5613059801253026,-0.7786026415407986,-0.7406810598314306,-0.7633138173616599,-0.7418034942492382,-0.4782790417836907,-0.6535735949019083,-0.5986508306594878,-0.6321105023721068,-0.6597377983229956,-0.6966897620132477,-0.746090040380929,-0.6962890871301777,0.4882702236301971,0.49520477873174756,-0.5432916232069025,-0.5934824481222511,-0.5537382161966476,-0.727431118694242,-0.6951464516641332,-0.7341011415821288,-0.9310484158919835,-0.599508143050901,-0.6647585827818304,-0.657125265024198,-0.6388897148944975,-0.5937156928975316,-0.7544472224007761,-0.9562660686857469,-0.27858366415042035,-0.5734012342404116,-0.6307132159317625,-0.639992957748268,-0.7159801054194709,-0.5314980348253668,-0.6125189088710128,-0.5453020132776362,-0.5027294790508905],[0.05471323482038215,0.2223736149054587,-0.13859993840521143,0.21852454813102157,0.19418269074846933,0.19604349250832714,0.3163302290061999,-0.24974686568630886,-0.06105366926070509,2.0923702302099105,0.5798941775762968,-0.01785610628940491,-0.056326881723971815,-0.12061091089762851,-0.08718975770340351,0.08062786533509479,0.18972254809326697,-0.20916311375382865,0.4431598271472522,0.19886912112692118,-0.4769364462100506,1.7030143351904183,-0.26186373356388354,-0.004029744562781212,0.31387873605635624,2.9259544334605225,0.31325718200449726,-0.3410895129635191,-0.12828725659929002,-0.09326948739398533,-0.4317313293339632,0.022528119326636092,-0.12773451025355637,0.05997950735520188,-0.3326773162364823,2.841239028438749,0.3034481004447568,0.07014672554965572,-0.06122775143730672,0.4336059912520975,0.009725873819235516,-0.07988532775739682,1.5698279993504074,-0.0697371502744956,0.18755828468062707,0.10654616413264421,0.30460724286602797,0.31382369194769405,0.08946852956408047,0.00827324286446195,-0.030603163458846828,0.802240218006425,0.15420883800725818,0.3225995426920077,0.5825742104199724,0.4238457586654953,0.34391134172228127,0.22126464563254375,0.17916786316722025,0.20289602847771948,0.136210386400084,0.390410673888961,0.39313727201334175,0.006378642965346855,0.31626624342287496,0.4110842651876015,-0.20004313794732556,-0.22309921840434654,0.3089092069755232,0.44399658919981483,0.22873005307995517,0.03853086219815327,0.08977419192829388,0.23811797840041385,0.159533354583209,0.2021982351035917,0.17557574229508166,0.14160210853428115,0.18703071426406642,-0.3859739475510749,1.6278807983166008,1.940465544923238,-0.3023446429440099,-0.1701050285344256,-0.3455986109520811,-0.3818627022804072,0.04716940838818409,1.3572349707451579,0.18879439131846304,-0.1687313102837607,-0.2950359247640279,-0.2322695155993185,0.2417960402514177,0.011846244047781786,0.7391925674786163,0.20780187100085792,-0.09951638225384185,-0.2170564969793699,-0.11292157690031247,-0.26658917721802294,0.829850024809322,0.6931484867189187,1.452146121925194,0.30675151396057065,2.045670200751906,0.41082290690092127,0.3313977642488184,-0.22216712908657424,-0.3256480261410504,0.3180166933272878,-0.13898523566139423,0.5779986626325495,0.11742108439762614,0.2566101754711196,0.031185094539106926,-0.3287444249732782,0.20319614005656703,0.11954510690486311,0.390142524222518,0.9155096797447254,-0.08647687610964257,0.20853601357435797,0.25019380352666737,0.42862140555016204,2.4031828511791167],[-0.3550619105421349,-0.6428269953928243,-0.6125849042491843,-0.5979863882553046,-0.5866031697572284,-0.6226588275697215,-0.6507736475422014,-0.4100265417136163,-0.6880826136277975,-0.5312762090454405,-0.5919661923084064,-0.48958026256668086,-0.559245468545149,-0.5325340883343294,-0.5836141546025082,-0.5521104894076136,-0.5254941332610296,-0.32861831737008296,-0.5201367380129149,-0.5313775833720435,-0.12610968950753076,-0.511913933472803,-0.3875301763913543,-0.5217844031141172,-0.5211459321672903,-0.5332224701478411,-0.5258333072770716,-0.5962998538686217,-0.6572770811313916,-0.6200259417500942,-0.3857171823071871,-0.49987223280079,-0.5814193536532786,-0.5898901437363463,-0.5031359030134668,-0.5354666658957438,-0.5114469005697115,-0.6761340634275517,-0.5960832957314508,-0.5755080939462811,-0.5626011660919623,-0.5818317252198387,-0.5207491652124375,-0.6141912272256383,-0.552426700916136,-0.6057396145463311,-0.5205481744776101,-0.557450034531904,-0.5640359932817636,-0.5408866104565642,-0.5582877053862958,-0.5730606152411651,-0.57373276043674,-0.5304487205218527,-0.5793140377795305,-0.4097383084077462,-0.5997500055455116,-0.6076072987484991,-0.5816354081250767,-0.5764868562366259,-0.5518270894584424,-0.5174910550581241,-0.5450477818930061,-0.5442873243762032,-0.521439577843942,-0.47463254275456995,-0.5848581409974327,-0.5557299817065255,-0.40631943907747214,-0.486544293429384,-0.4808279242782392,-0.4877054150197603,-0.47200261304256486,-0.4612354469059012,-0.49554692559539404,-0.5065260897726221,-0.5413864250183231,-0.571765257625867,-0.6028288744277613,-0.594711087327959,-0.5277731973924263,-0.5381615785209649,-0.6137992859225695,-0.4802635269010443,-0.6049948227059789,-0.6048401621267779,-0.6417452758372191,-0.5093840088533161,-0.6125936055309882,-0.5738317120440366,-0.6158533400501057,-0.6143020882988881,-0.4721215465793836,-0.5583780106251236,-0.5090428114345767,-0.566540032486009,-0.5668971803909467,-0.5489638046034941,-0.6359471517065726,-0.6041259630599636,-0.5550085853987227,-0.5231774770852344,-0.5416423771931935,-0.4794617403843958,-0.5639974944272634,-0.5409899108013548,-0.5666955077214312,-0.5096270367528057,-0.5109274414474628,-0.5039416008652372,-0.5240401500941202,-0.49706084886752083,-0.6035352408137064,-0.4909140600770327,-0.6163569343189893,-0.3743663670256768,-0.5519935715908149,-0.4691501246055653,-0.5606737938117791,-0.47645180399969517,-0.5887594291419677,-0.5976402357945292,-0.5607911767712334,-0.49037176909227526,-0.5589197417219128],[-0.09096864698100306,-0.3740633945321701,-0.22022428448437018,-0.37072237645548844,-0.462505191295372,-0.35427526676255533,-0.1917478353417055,-0.05943052596254539,-0.5535575796635323,-0.5098480209957453,-0.45159602999209764,-0.3762402620617137,-0.3263872735512341,-0.33854416966010603,-0.2048557566440832,-0.31299205445111544,-0.4296329105254915,-0.2022849645444321,-0.27068827670987744,-0.40901921460285395,0.517333729593445,-0.4409958662345938,-0.17138389472810459,0.30601894424026665,-0.41930421849026284,-0.5543235519642327,-0.4760337938546334,-0.27644415854622034,-0.3615306086264127,-0.009290424458887345,0.42986559946623704,-0.3722306688740518,-0.23656068283941808,-0.2554307287609029,0.9939150969205011,-0.5583407331863861,-0.43385445271493384,-0.17677923034183848,0.1052046134831785,-0.2054387222156968,-0.14744755538303855,-0.16666338228322408,-0.456690415517106,-0.216826053213743,-0.42914591630997523,-0.3696824634352348,-0.3161118937209695,-0.34514601738501044,-0.2694883124246161,-0.22005140459997075,-0.2708680839325928,-0.3572327411638157,-0.2307825695698339,-0.41430813552283585,-0.21309486157052904,-0.3717531395109766,-0.19238976082222703,-0.31954653595780386,-0.25918728627152593,-0.4724743999057094,-0.4717803791921221,-0.45850745977340057,-0.40937284572900434,-0.1390551600761437,-0.5898820315091283,-0.4195666547149854,0.3176731262681889,0.13681346653042195,-0.45700903032844825,-0.48240150768361734,-0.38804291077273734,-0.39567990806593495,-0.291096870551194,-0.4392183998729517,-0.4926579276673737,-0.4234813674998505,-0.43274055853554766,-0.4641994241362771,-0.47536728150657637,1.727950343407174,-0.5738359358304415,-0.47406169159106043,1.4305441936406662,0.4484666448785775,0.571187960084217,0.7938955280691836,-0.2723958115232169,-0.45687262407875806,0.16136744073096604,0.4351161086938522,-0.21838916415110463,-0.25726670862780887,-0.384157329374997,-0.2529131255501936,-0.2389200868145551,-0.3199240296017573,-0.18049427090572034,-0.29023933775878746,-0.2708461414178269,-0.08886968951325488,-0.5140382482629264,-0.5153601000267455,-0.5525873734659895,-0.38304517992198134,-0.5200792469051176,-0.25588613746715255,-0.32966618125173947,-0.12366462993106825,0.7336729643228789,-0.2107793777892066,-0.17310928254532987,-0.40672251472286375,-0.3175415534692618,-0.48901771927743126,0.17752628324416772,0.5437280866734187,-0.48784740099902996,-0.4068870480926158,-0.29796724842390193,-0.3882369609969623,-0.18317337401676673,-0.4433662790362468,-0.34918392601472936,-0.4409685140632829,-0.5409157414198843],[-0.8509544244571948,-0.7061996673300781,-0.3170064975725853,-0.6508881363047399,-0.5982023435274285,-0.7037037342766387,-0.7194468005485748,-0.3375010400151706,-0.3689090354481584,-0.6168147483332478,-0.8351961387302913,-0.19276051820356555,-0.16202836161554604,-0.4929542812496641,-0.04628745411333828,-0.18508446823267902,-0.5380162042138474,-0.34700683872581656,-0.4982998835870737,-0.5132055072907955,-0.7627662814699161,-0.5228832748082094,-0.4893199950816056,-1.0212381935011474,-0.4830715514494303,-0.6977362142207699,-0.5315783577593759,-0.22448991665256304,-0.4798701534408761,-0.48357879574342666,-0.8115277850666894,-0.21705399609291667,-0.30191233815061935,-0.5220066743346797,-0.3552923092475082,-0.65320083577405,-0.4859401181012172,-0.7848520342929209,-0.20588140624703377,-0.42249738790469654,-0.17945160159619944,-0.20882975291315672,-0.6059424989926637,-0.5998075334858309,-0.43942209537863486,-0.5991965685120018,-0.49208949098330995,-0.5086043175156421,-0.5932542440472994,-0.40222511061518174,-0.25460606202687086,-0.590567368880214,-0.37868542210798045,-0.4045358586880305,-0.4105312210091938,-0.4990359609609101,-0.5783193920572195,-0.5025052922429866,-0.403199589342605,-0.6003198338847963,-0.5424921258082794,-0.5442409063547975,-0.5622117967833526,-0.45560213202097694,-0.49473335726678225,-0.4642744898596642,-0.41787349333495105,-0.3920998285625807,-0.4295088122010859,-0.5027594157624239,-0.4687559774841682,-0.26655411377941857,-0.41814186832624073,-0.43849545205992946,-0.4393559158953992,-0.48223372230434614,-0.5548301569468258,-0.5708860843051956,-0.6378584631800027,-0.519898822712045,-0.6749480116213574,-0.6239225808911945,-0.5350184462850913,-0.7640967318541304,-0.7426559342808304,-0.6916256034843661,-0.8249078697296552,-0.5629402630187965,-0.7654319159288607,-0.7736215376850448,0.138440957040604,0.18969567992563818,-0.41309755683524024,-0.3853642593482632,-0.5376134842309251,-0.49416250987547505,-0.1942035064629852,0.37439144300001204,0.02221480375354203,0.24215505647274815,-0.740577540365979,-0.7127247430466213,-0.7352538637722438,-0.43316433767795864,-0.6571084475217677,-0.5861758726721283,-0.6305665344832273,-0.3913811172872637,-0.7299665779145956,-0.44727353978783096,-0.11413628468505978,-0.6943495478513322,-0.6397763162450725,-0.4651304790298202,-0.5444157005177777,-0.9179335829392412,-0.5037787859902684,-0.2921389301772953,-0.5196654140819976,-0.46957792012935234,-0.2951319611090804,-0.6342233846813959,-0.510435691313086,-0.5018271488521229,-0.6518292741447268],[-0.501461437081458,-0.3964768903973021,-0.2090258892483018,-0.38506146511462785,-0.33287124353410186,-0.4078297085090422,-0.5361462793661496,0.050788043904001975,-0.13963439823502352,-0.3102000250205374,-0.36943474374256463,0.13358749181573323,0.12574736203711973,-0.07028103275293078,-0.022558751280863702,-0.022725695176908207,-0.3037611138740103,-0.16045458771993884,-0.2386469288470259,-0.2561387344997582,-0.2730706002393155,-0.20902405876956429,-0.1973549595791152,-0.6914672098802552,-0.20884969743809334,-0.1867352373131995,-0.37420209336260557,-0.3610185255982998,-0.38114389215459327,-0.28158211606048966,-0.6031160527325219,0.07259801460424403,-0.12062863677365693,-0.2835971426342355,-0.011990561600539807,-0.24348592459754423,-0.2104826529695659,-0.5988815143700699,-0.024056064118636155,-0.12599838122735496,0.09183363283052837,0.018477398365925532,-0.2813476006557537,-0.25547441291461664,-0.3547603928243364,-0.33404914348096454,-0.22438416239486147,-0.3078217227658099,-0.383303313771315,-0.152427081700484,0.006329695180370593,-0.36493216259949374,-0.06056194568639573,-0.20189653948825348,-0.12271868052277247,-0.1607450619230534,-0.19667588351988544,-0.2350268777902586,-0.27443821095378845,-0.351511765506051,-0.2898330127497976,-0.2662133194206202,-0.25785420351237504,-0.31958512900602803,-0.35027133619126205,-0.19993757018411276,-0.23324849809435824,-0.25464681732257144,-0.07839791913714009,-0.32834166276291943,-0.1660134732046086,0.06398959846451639,-0.16476825650006058,-0.20728359694973153,-0.27533305853204665,-0.25372333578573825,-0.37794000579782194,-0.31327807840287875,-0.37713622184574075,-0.1443357935909147,-0.23157489715778748,-0.27309104048157945,-0.2401695685242355,-0.48920830891724454,-0.39376698855606035,-0.3598635365224467,-0.45400749437507354,-0.17178402949402724,-0.3840236228644728,-0.4368557585112237,-0.0975578003613197,0.09237956367006882,-0.15668186368445342,-0.149240627882333,-0.24952586686774506,-0.24404987504462836,-0.03574750268441877,0.22993014763246292,-0.013560194570053178,0.2236135029920242,-0.4620492078632875,-0.47839645294771743,-0.39266048728814723,-0.16169935892282716,-0.3261438269201335,-0.27435344362303393,-0.3480028134260472,-0.09367394527533413,-0.35394074753933735,-0.17303822379133166,-0.18189985851745932,-0.4804488181730236,-0.3993280376065668,-0.31372263729322125,-0.2941935452262811,-0.6179347518674081,-0.14666338381043004,0.11710059812721844,-0.19190548745758187,0.05942472605911366,-0.1926649051007615,-0.372480746813174,-0.25050149361215135,-0.1768772388989256,-0.20695264939768818],[-0.9507070430305571,-1.1770814300187813,-0.915347394059598,-1.0777923273404417,-0.7632928565635148,-1.0289022812288602,-1.0297668378179763,-0.7146841306348133,-0.8135530779983142,-0.7703398761283193,-0.8966589271237813,-0.6864084004885832,-0.846430681136968,-0.7987205069685438,-0.7919782325442135,-0.7983307041068957,-0.7347656479392591,-0.8988028497898537,-0.7827786954947736,-0.7251203186486953,-1.163711146272796,-0.7694808707204476,-1.0579606488759108,-1.3096101258377357,-0.7303057605782819,-0.8588887240220611,-0.7426885421885036,-0.9679114924514985,-0.869223410673158,-0.9498241254213655,-1.1668792251914408,-0.7105191490852139,-0.8471622362736128,-0.7889631746915216,-0.8017461168529316,-0.7748370524254659,-0.6920991149275418,-0.9792885869891946,-0.7996873479706066,-0.8345696985486569,-0.7480927822525107,-0.7676755334329525,-0.7487537743018539,-0.8181895271354279,-0.8285489670597317,-0.7760128720795924,-0.7673965652617674,-0.7848777987026162,-0.7889902444741475,-0.7797056158147158,-0.7364988152864614,-0.9104372807440023,-0.7704680526312265,-0.7629032346766011,-0.8367339870146243,-0.69785442139064,-0.9433541751411273,-0.7977407075373689,-0.7591997454971334,-0.7189882017579785,-0.7064690841902126,-0.7010456022164367,-0.7431205137276063,-0.8537407199852535,-0.7677578820509554,-0.7053131680522295,-0.8594409268286646,-0.9564888282756884,-0.6536727523960182,-0.6930362704449413,-0.6714215861468009,-0.6726343163848717,-0.679735040774163,-0.7086150440164143,-0.6904098358403632,-0.7198812266772546,-0.7378640030908297,-0.7497978550618307,-0.7751419857882668,-0.9130727681387464,-0.7658410406462033,-0.7834688027749178,-0.9154063239464443,-1.0188412148033135,-1.1271441995962237,-1.0815263108104731,-1.1475749117222152,-0.7296639096780183,-1.1007064860393454,-1.1132090337699763,-0.8316759648789216,-0.7991869876794205,-0.7222038160914546,-0.7818194447540137,-0.7999442071792154,-0.7966349666758462,-0.7676295895136862,-0.7660638304100934,-0.8928655472017066,-0.7614331658344837,-0.9039341887537429,-0.9581517783520216,-0.8213145193966952,-0.6955714560400855,-0.80957991982878,-0.8960729868241202,-0.8527327918322496,-0.9237023572768772,-1.1202784368661398,-0.752572334773626,-0.832610131855956,-0.8865824114063835,-0.8345297589837222,-0.7099913261362513,-0.9509794197683319,-1.1059512835188232,-0.7360194708295419,-0.6769333707053623,-0.8054414312385667,-0.7923640502075338,-0.8812279055900484,-0.782588836480539,-0.7765109058171004,-0.7356280532768292,-0.7885263134749436],[-0.7275195295318833,-0.5860990324067378,-0.5286353282091573,-0.654815570514688,-0.5235985667781871,-0.6726266704777831,-0.654388024016221,-0.46639787134001837,-0.5871888381545985,-0.6381122766997129,-0.775541079407198,-0.5403041600089467,-0.5789291705733751,-0.5204402583917928,-0.46428062969541073,-0.449285784833903,-0.5216835070742591,-0.5588257602968244,-0.5033830920715546,-0.49937296948763343,-0.8006158943582088,-0.5881891208980711,-0.7201273617413936,-0.7454814227147116,-0.5148956918305692,-0.7490884044818997,-0.5998246564982175,-0.5790478727817966,-0.4855584607286315,-0.5341804914286571,-0.759312512757008,-0.49987223280079,-0.4952816196193792,-0.5433820613045847,-0.488520771475729,-0.634587624155194,-0.4962204432683798,-0.5231105210479371,-0.5323604031851584,-0.5578981661409836,-0.4116607346540492,-0.49561914938676516,-0.6297189060881703,-0.5346431470646168,-0.609229281644685,-0.5247943414457356,-0.5438489327481709,-0.5787932439071389,-0.4948248138314305,-0.5198978946691264,-0.5099765939597097,-0.6114245912131747,-0.49160099743707214,-0.5635141184152294,-0.5702927232552205,-0.5421523782233191,-0.5374226379837289,-0.4919121890456737,-0.6907884547795557,-0.5299680342035229,-0.5046336621159516,-0.5063385490794506,-0.5768936310587877,-0.5923625666169686,-0.6895024450109057,-0.5073887784051268,-0.6191809892263367,-0.560517360530692,-0.5261312002161429,-0.6329658771313247,-0.4957085396517631,-0.5299966890574369,-0.44391283018385885,-0.5279438132893153,-0.6028009736731477,-0.5395296342628931,-0.5565998628700991,-0.5046005051048058,-0.533510752696076,-0.6175779747789911,-0.6507612225418646,-0.6664595145353372,-0.6439213716663111,-0.7453345061616129,-0.6181884301858371,-0.5891787841992158,-0.7650427035632874,-0.6390549794190615,-0.7302617365475321,-0.7515385357720074,-0.4710698635687822,-0.5540887239598201,-0.5292103235450305,-0.48948586501035296,-0.7205090790257316,-0.5010557714743343,-0.45607459726044935,-0.5282876116695323,-0.5329102558499165,-0.38889712578499525,-0.7021869789943365,-0.817728523782868,-0.6903743813385868,-0.526586688475576,-0.6544102421030172,-0.5796140851656769,-0.559204898959504,-0.5373107456657911,-0.6027889994994468,-0.48453332764244944,-0.5294390865179478,-0.7256846157834272,-0.5160904469334063,-0.600036828896203,-0.5910841183697632,-0.7887342539313467,-0.5189740673845518,-0.5295438708767866,-0.5363758771877456,-0.7720288104244363,-0.4960401023574429,-0.5297461424458738,-0.5065192482582419,-0.5601847438551201,-0.6421604591677115],[-0.5043320160332093,-0.67525714206494,-0.5530612108641272,-0.6560807842199061,-0.44037779019682266,-0.606702538419227,-0.4499175834859664,-0.4075865886402347,-0.3799038699548532,-0.3451297136706501,-0.26277872858915546,-0.39436171824523447,-0.4145702586376871,-0.4604597482727476,-0.4787708553346278,-0.5351870993822564,-0.38416785000836806,-0.6179216953408233,-0.47997558333871093,-0.3837751445621988,-0.6654014152124459,-0.48498660978123675,-0.6030481258404666,-0.7067475464057922,-0.37162381363584684,-0.2949483073361986,-0.33950035478584367,-0.584203637244526,-0.4806892696903129,-0.5710562888466402,-0.6497592994256797,-0.3593631724844668,-0.5670957031741111,-0.4254315182605205,-0.5687501514434161,-0.31076259309943355,-0.38233443541846235,-0.4730903774116315,-0.4739477516843904,-0.3965390498805914,-0.4139681424802789,-0.43025286914601785,-0.3652746060507279,-0.5446491948836132,-0.42279003282757366,-0.4233499407417425,-0.41486701661828573,-0.409980340155941,-0.5020158959904054,-0.4399145973675435,-0.3803037475381465,-0.4800019019811257,-0.41184681925994554,-0.3511241904002364,-0.41150943583713107,-0.3643929325792676,-0.5688542044332239,-0.44635672785607045,-0.46572838053988147,-0.4109743598825568,-0.38762097822204783,-0.38039373777370605,-0.3895418069864654,-0.4712451715387518,-0.3296516496061061,-0.4110234743358537,-0.4992106615797258,-0.618548984610812,-0.2858387537140818,-0.31329169892087644,-0.38754054728698156,-0.33911342058954796,-0.4545643250262541,-0.417990023181481,-0.39110965049746016,-0.3559628755659656,-0.38059456468273195,-0.4238596808412835,-0.44330191584552525,-0.5573732143855274,-0.2852377306781061,-0.3670649431169473,-0.5016138255564547,-0.6601045506901763,-0.6657582812177518,-0.634078489984349,-0.6574870228991008,-0.34914391072238155,-0.5965282149493937,-0.6189178409498214,-0.5394320110860439,-0.46903538164275543,-0.43236172040300086,-0.4491784225282833,-0.4112099015561715,-0.454375390151794,-0.4521990811788733,-0.5092437497566726,-0.522496300858459,-0.5129810852217687,-0.5558393606448061,-0.6286638119608942,-0.36507309942246946,-0.37917828603327336,-0.4000319719183427,-0.4284572196727502,-0.48106154509296317,-0.6527668340005672,-0.6841156091041136,-0.4934642058747824,-0.570069543963932,-0.4735595479184495,-0.4646376831612771,-0.3618963474304648,-0.6100682822680125,-0.6631796530763985,-0.46171572330713073,-0.3595786135134924,-0.4615491332050343,-0.38451360723385997,-0.5416799709759833,-0.4567781721113281,-0.4300314137116246,-0.41953985219445744,-0.29988440898136887],[-0.435438121191175,-0.5362141278927492,-0.6472001200817327,-0.5411044887582037,-0.7102810076918972,-0.5135936174376066,-0.832525150235761,-0.5470845953873611,-0.6725604943242285,-0.7452967701759318,-0.7741852826044004,-0.6031629611455345,-0.6171155525081338,-0.7127199384882835,-0.6869815975552832,-0.6974703215896997,-0.6583966614067774,-0.43375574099943015,-0.6558698274889695,-0.661696617097301,1.2014981115259633,-0.6815844172809246,-0.30856976148142684,0.4684169394070206,-0.6765908974940077,-0.7101541075020976,-0.7172306170654966,-0.5312579021849592,-0.7761854566746307,-0.5490864821688812,0.2664794289688172,-0.6427147769183333,-0.5344478513983526,-0.7093414662065823,-0.5458274714526484,-0.6827577188025467,-0.6505634441465873,-0.815118101457907,-0.7073294847231322,-0.7483462742575339,-0.715579308337455,-0.6960278547402652,-0.7302828464755926,-0.7420184881133176,-0.7150605803647775,-0.7300574891985893,-0.6633145894587116,-0.6964215518134288,-0.702888383673664,-0.6321989676267351,-0.6682292985622497,-0.6810411178830301,-0.6629578704207856,-0.6948873211855725,-0.7120659417208458,-0.6371153004652431,-0.6833293981498505,-0.7226371411007684,-0.8204213145787874,-0.7085270312529267,-0.6908625687337385,-0.6646440997829403,-0.6989165738407751,-0.6334991141013349,-0.7456476157126556,-0.6593511527137231,-0.6030572326164795,-0.5611004387208148,-0.6570173735196163,-0.6967583045134036,-0.6269243598175832,-0.6311445917648766,-0.623555475056751,-0.6449299139420022,-0.7088994225796932,-0.667751564813771,-0.6891769799062301,-0.6997463134570947,-0.7216095282961745,-0.5902059692032781,-0.7333865805650154,-0.7354675091934121,-0.575567407863205,-0.027715734325319097,-0.10121760928867278,-0.19240509807036554,-0.32504924135089014,-0.7043727121131291,-0.351603375204318,-0.024946431161094657,-0.7223134362249675,-0.80390343919423,-0.6697771426376402,-0.6292196932148436,-0.6943192956290788,-0.6253241397775319,-0.6709241910016722,-0.7886444095353412,-0.7041891861800058,-0.7213190003219085,-0.7222130349262411,-0.7019155303237723,-0.774335996581954,-0.6476039162844398,-0.7392741379571602,-0.6288471375344414,-0.6546688087329617,-0.31176362886309655,-0.1558517926435736,-0.6409465987022992,-0.5556723801670586,-0.6855712841398588,-0.6897447698909582,-0.7071967186421018,-0.5714379910977266,0.28683759203126247,-0.6822839082518336,-0.6163958298001619,-0.6428170108299799,-0.5798464738827683,-0.6013985373720687,-0.6956966271863434,-0.6617322760063112,-0.6680999790590753,-0.715421181384361],[-0.556720081902673,-0.6175374314742018,-0.5847150489163245,-0.7088507391750478,-0.5352636449448088,-0.7248361376598605,-0.5552508407288248,-0.2515137282566886,-0.47141969834881253,-0.4341960644056633,-0.47853119314100945,-0.2459922957426579,-0.257691153472725,-0.4657126239043544,-0.47014572102557,-0.5641230742916842,-0.4873777770193204,-0.575529836948216,-0.5569281252648225,-0.46216090966952017,-0.6904604692626259,-0.5245272587809577,-0.5383299077843192,-1.0455801249429912,-0.45157480460973887,-0.4712263713598589,-0.5014236496591297,-0.6746278139754714,-0.6332951776062149,-0.6481221859471367,-0.7710856636564369,-0.30322621932368665,-0.5229777406630819,-0.5058036164585457,-0.5036743552280151,-0.4162075581980613,-0.44022128237700253,-0.6506654148341717,-0.4343562076867467,-0.4241931587303918,-0.37992638545953855,-0.4012606237364556,-0.4685895356888701,-0.6081875985342405,-0.5402487614354191,-0.5395660381714377,-0.5001304486465195,-0.5293458860346336,-0.6394348480781913,-0.45895118756859354,-0.35792927041452777,-0.6129001287505597,-0.41932110524903965,-0.3992055258690458,-0.4517792795872138,-0.4143587537686614,-0.5609963128208502,-0.5087281006912631,-0.7236868780227221,-0.5300193983794889,-0.47408396841328637,-0.46230577702700676,-0.5281478287702032,-0.5465176191193315,-0.4842992989947756,-0.44177302167628624,-0.5482204960275097,-0.6376064349300898,-0.3612042163658263,-0.4845699970974171,-0.4049710379291144,-0.2641876345462634,-0.49977190844583597,-0.3726414785464507,-0.49041895427315796,-0.4707470598589396,-0.5182394759536911,-0.5100493351038509,-0.5546249608257849,-0.5904790066653799,-0.4206529383269865,-0.4591410440974227,-0.6071376708061651,-0.6738489718370205,-0.7217855729418832,-0.7232863746904451,-0.7597696060253172,-0.39905651778105583,-0.6501518835122836,-0.6579924860015015,-0.49352849158661305,-0.5814441427457152,-0.4562000232653896,-0.4863267985509454,-0.6356628386002119,-0.5258839273081447,-0.4589946536986451,-0.2744601378881324,-0.53278773873237,-0.3937041952059237,-0.6324893083492359,-0.6771122475579493,-0.5385937709254284,-0.3724826915567168,-0.5586925481802288,-0.5932484580084233,-0.6086854502133704,-0.5118803618968859,-0.7903829110556484,-0.5170409050615146,-0.5063897810162225,-0.686237987712882,-0.6494990456626133,-0.45089128846439186,-0.6410150699925561,-0.7641009188286741,-0.43947487891342174,-0.3096818755227453,-0.5575123548458267,-0.3816494889545505,-0.5780967065617473,-0.5627593974273585,-0.5250531011913396,-0.4218865068083346,-0.3986619118729921],[-0.9758246088583822,-0.6891416085300661,-0.7708102222467581,-0.7224254278872846,-0.6502256264527221,-0.6834476022005321,-0.950250555389544,-0.6686615674920641,-0.8044985084045656,-0.49560611552369194,-0.9122957835827133,-0.6289698563354592,-0.7180929439129338,-0.7102767405200944,-0.6540910853900761,-0.7329792203036188,-0.6068245046168165,-0.5102576046549632,-0.5881889055326789,-0.6073381902454872,-0.7880863673331188,-0.5619704109878619,-0.8212888482175076,-0.3263382382525971,-0.582636391860938,-0.812951855643014,-0.6374261480435358,-0.9749510939294559,-0.7506335803380334,-0.6830562709273139,-0.7680300367054401,-0.6543821959244337,-0.6391895455272643,-0.6746949011681005,-0.624133807796949,-0.6671495317101084,-0.5716949994380478,-0.8752974844223197,-0.6862229570231999,-0.8108289069889226,-0.670629805229083,-0.6799804864323894,-0.5324954526480505,-0.8026801530159834,-0.6984785641403494,-0.6966444549484889,-0.5621494316315258,-0.6306020421403996,-0.6521207770696055,-0.6494853762675754,-0.6456792948529819,-0.7408170295479195,-0.68262220456081,-0.6490377917344681,-0.6856813140006499,-0.4523671409838276,-0.7181541450683251,-0.7033955623462292,-0.8672634403885937,-0.6459654649264791,-0.6303541544793874,-0.5707944920183058,-0.6500123344916644,-0.5451546612207532,-0.7646525075652391,-0.508480652926812,-0.6622042803783815,-0.6664227728524763,-0.5490232736843257,-0.5676199050945833,-0.5319167684660102,-0.6129379692775375,-0.5432262369621562,-0.5740153057373678,-0.6305353537821425,-0.5883342096290224,-0.6428428611878007,-0.6572699745339577,-0.6816395677252824,-0.746656434987653,-0.704115944099387,-0.5355439210659407,-0.7385356153485766,-0.3985969398750858,-0.5947938480864436,-0.6291490994495947,-0.7777601740960391,-0.5434628259110905,-0.6126297888431089,-0.5309538833295555,-0.7734864205165368,-0.7884963642458523,-0.5314973931923446,-0.6517975769247292,-0.6607703995424575,-0.6532799535754069,-0.6683798771198619,-0.8000707266830569,-0.8392030497163138,-0.7050744208994607,-0.5874525450089263,-0.621811543181231,-0.7343542750374934,-0.5604558641311463,-0.5854154526947452,-0.6322655537803173,-0.6854346529223285,-0.790541571381471,-0.6213847797132714,-0.5454722330121525,-0.6124996468845254,-0.6150118226615595,-0.6956322013312929,-0.5556225312213273,-0.5794997593284901,-0.6733597558484212,-0.6088312850414045,-0.6417036853804833,-0.643539625450769,-0.8974771910581927,-0.7217018638749896,-0.6577499771550598,-0.6176669645948992,-0.542430449079076,-0.6983284946778673],[0.282924261484621,0.34723463833112794,0.42216436446890176,0.21264657612552876,-0.1328514003945722,0.005362780399545542,0.48155886781852686,-0.17385591147285412,0.5071205727470213,-0.19783269744286797,0.020311643834977997,0.034404878954141696,0.10055222344099031,-0.18046926111826417,0.11868261477124065,-0.01887260191220634,0.002113560029102027,-0.05279049703407862,-0.13358443438407516,-0.04257531386300664,-0.41063436570228273,-0.2081453776806816,0.3874128877113821,-0.20622768602860841,-0.0885474524808215,-0.044909824573824475,0.3724774891088182,1.2790103201325873,0.24898403595379945,0.06850361480578633,-0.22655496671261585,0.16767081176252488,0.04616355884508534,0.05141970469950023,-0.30960079275584357,-0.17167929374986107,-0.1959731217355539,0.33238209070642255,-0.11970762117915734,-0.06377663631530395,-0.15514890358227296,0.025156160223584308,-0.2726579679431627,0.05433784268106001,0.5478251080033129,-0.057818414710336205,-0.12499837615141114,0.09842122439114699,-0.08275908267528817,0.03165836109587913,0.01579780571214649,0.11126706835671413,-0.06702477293882862,0.16301457841630648,-0.10191802911205158,-0.23666896307979954,-0.12131155941939177,-0.11535039886641427,0.09289120353613502,-0.11992781746786565,-0.18783587116138858,-0.20852276830733707,-0.11798068524442702,0.13201858016157383,0.38706878169720554,-0.16901096211043395,-0.05516879019044016,0.10959292154942438,-0.21812875718968414,0.2250115239196799,-0.2000980745563426,0.04356917282358046,-0.24145901936530617,-0.12098991708626083,0.35793528729000307,-0.01494914921124679,0.12421404993098939,-0.15749061056901997,-0.08708934493077419,-0.3110251642041099,-0.1296925414598812,-0.21553529718923545,-0.25185153126459686,-0.4281947145140574,-0.24408329975104226,-0.2569660301026902,0.1708545638743973,-0.2623661682301399,-0.30192368766258526,-0.3782744617696938,0.7544892954669749,0.5621381345450951,-0.17330710073608246,-0.030186181412122703,-0.24584631052276076,-0.06028014161470898,-0.04773905798392139,-0.055999836230614566,0.7260756440585231,0.12607498602254522,-0.20359065630545242,-0.07227888921782166,-0.21854008996202146,-0.1000246583398938,-0.12284853051078375,0.03574013123274393,-0.058799152109871626,0.1824656860718278,-0.25202310233309627,-0.18574833833986973,0.314317772539203,0.09897214541530888,-0.04501623720321381,0.23085986356074217,-0.06137157004575787,-0.3802733402390728,-0.232314295198969,0.026509978720386514,-0.06893454436479687,-0.013610290063278773,0.31288722419186,-0.14365220020684277,-0.11317881183169398,-0.18160142516107297,-0.17045565125456366]],\"type\":\"heatmap\"}],                        {\"template\":{\"data\":{\"bar\":[{\"error_x\":{\"color\":\"#2a3f5f\"},\"error_y\":{\"color\":\"#2a3f5f\"},\"marker\":{\"line\":{\"color\":\"#E5ECF6\",\"width\":0.5},\"pattern\":{\"fillmode\":\"overlay\",\"size\":10,\"solidity\":0.2}},\"type\":\"bar\"}],\"barpolar\":[{\"marker\":{\"line\":{\"color\":\"#E5ECF6\",\"width\":0.5},\"pattern\":{\"fillmode\":\"overlay\",\"size\":10,\"solidity\":0.2}},\"type\":\"barpolar\"}],\"carpet\":[{\"aaxis\":{\"endlinecolor\":\"#2a3f5f\",\"gridcolor\":\"white\",\"linecolor\":\"white\",\"minorgridcolor\":\"white\",\"startlinecolor\":\"#2a3f5f\"},\"baxis\":{\"endlinecolor\":\"#2a3f5f\",\"gridcolor\":\"white\",\"linecolor\":\"white\",\"minorgridcolor\":\"white\",\"startlinecolor\":\"#2a3f5f\"},\"type\":\"carpet\"}],\"choropleth\":[{\"colorbar\":{\"outlinewidth\":0,\"ticks\":\"\"},\"type\":\"choropleth\"}],\"contour\":[{\"colorbar\":{\"outlinewidth\":0,\"ticks\":\"\"},\"colorscale\":[[0.0,\"#0d0887\"],[0.1111111111111111,\"#46039f\"],[0.2222222222222222,\"#7201a8\"],[0.3333333333333333,\"#9c179e\"],[0.4444444444444444,\"#bd3786\"],[0.5555555555555556,\"#d8576b\"],[0.6666666666666666,\"#ed7953\"],[0.7777777777777778,\"#fb9f3a\"],[0.8888888888888888,\"#fdca26\"],[1.0,\"#f0f921\"]],\"type\":\"contour\"}],\"contourcarpet\":[{\"colorbar\":{\"outlinewidth\":0,\"ticks\":\"\"},\"type\":\"contourcarpet\"}],\"heatmap\":[{\"colorbar\":{\"outlinewidth\":0,\"ticks\":\"\"},\"colorscale\":[[0.0,\"#0d0887\"],[0.1111111111111111,\"#46039f\"],[0.2222222222222222,\"#7201a8\"],[0.3333333333333333,\"#9c179e\"],[0.4444444444444444,\"#bd3786\"],[0.5555555555555556,\"#d8576b\"],[0.6666666666666666,\"#ed7953\"],[0.7777777777777778,\"#fb9f3a\"],[0.8888888888888888,\"#fdca26\"],[1.0,\"#f0f921\"]],\"type\":\"heatmap\"}],\"heatmapgl\":[{\"colorbar\":{\"outlinewidth\":0,\"ticks\":\"\"},\"colorscale\":[[0.0,\"#0d0887\"],[0.1111111111111111,\"#46039f\"],[0.2222222222222222,\"#7201a8\"],[0.3333333333333333,\"#9c179e\"],[0.4444444444444444,\"#bd3786\"],[0.5555555555555556,\"#d8576b\"],[0.6666666666666666,\"#ed7953\"],[0.7777777777777778,\"#fb9f3a\"],[0.8888888888888888,\"#fdca26\"],[1.0,\"#f0f921\"]],\"type\":\"heatmapgl\"}],\"histogram\":[{\"marker\":{\"pattern\":{\"fillmode\":\"overlay\",\"size\":10,\"solidity\":0.2}},\"type\":\"histogram\"}],\"histogram2d\":[{\"colorbar\":{\"outlinewidth\":0,\"ticks\":\"\"},\"colorscale\":[[0.0,\"#0d0887\"],[0.1111111111111111,\"#46039f\"],[0.2222222222222222,\"#7201a8\"],[0.3333333333333333,\"#9c179e\"],[0.4444444444444444,\"#bd3786\"],[0.5555555555555556,\"#d8576b\"],[0.6666666666666666,\"#ed7953\"],[0.7777777777777778,\"#fb9f3a\"],[0.8888888888888888,\"#fdca26\"],[1.0,\"#f0f921\"]],\"type\":\"histogram2d\"}],\"histogram2dcontour\":[{\"colorbar\":{\"outlinewidth\":0,\"ticks\":\"\"},\"colorscale\":[[0.0,\"#0d0887\"],[0.1111111111111111,\"#46039f\"],[0.2222222222222222,\"#7201a8\"],[0.3333333333333333,\"#9c179e\"],[0.4444444444444444,\"#bd3786\"],[0.5555555555555556,\"#d8576b\"],[0.6666666666666666,\"#ed7953\"],[0.7777777777777778,\"#fb9f3a\"],[0.8888888888888888,\"#fdca26\"],[1.0,\"#f0f921\"]],\"type\":\"histogram2dcontour\"}],\"mesh3d\":[{\"colorbar\":{\"outlinewidth\":0,\"ticks\":\"\"},\"type\":\"mesh3d\"}],\"parcoords\":[{\"line\":{\"colorbar\":{\"outlinewidth\":0,\"ticks\":\"\"}},\"type\":\"parcoords\"}],\"pie\":[{\"automargin\":true,\"type\":\"pie\"}],\"scatter\":[{\"marker\":{\"colorbar\":{\"outlinewidth\":0,\"ticks\":\"\"}},\"type\":\"scatter\"}],\"scatter3d\":[{\"line\":{\"colorbar\":{\"outlinewidth\":0,\"ticks\":\"\"}},\"marker\":{\"colorbar\":{\"outlinewidth\":0,\"ticks\":\"\"}},\"type\":\"scatter3d\"}],\"scattercarpet\":[{\"marker\":{\"colorbar\":{\"outlinewidth\":0,\"ticks\":\"\"}},\"type\":\"scattercarpet\"}],\"scattergeo\":[{\"marker\":{\"colorbar\":{\"outlinewidth\":0,\"ticks\":\"\"}},\"type\":\"scattergeo\"}],\"scattergl\":[{\"marker\":{\"colorbar\":{\"outlinewidth\":0,\"ticks\":\"\"}},\"type\":\"scattergl\"}],\"scattermapbox\":[{\"marker\":{\"colorbar\":{\"outlinewidth\":0,\"ticks\":\"\"}},\"type\":\"scattermapbox\"}],\"scatterpolar\":[{\"marker\":{\"colorbar\":{\"outlinewidth\":0,\"ticks\":\"\"}},\"type\":\"scatterpolar\"}],\"scatterpolargl\":[{\"marker\":{\"colorbar\":{\"outlinewidth\":0,\"ticks\":\"\"}},\"type\":\"scatterpolargl\"}],\"scatterternary\":[{\"marker\":{\"colorbar\":{\"outlinewidth\":0,\"ticks\":\"\"}},\"type\":\"scatterternary\"}],\"surface\":[{\"colorbar\":{\"outlinewidth\":0,\"ticks\":\"\"},\"colorscale\":[[0.0,\"#0d0887\"],[0.1111111111111111,\"#46039f\"],[0.2222222222222222,\"#7201a8\"],[0.3333333333333333,\"#9c179e\"],[0.4444444444444444,\"#bd3786\"],[0.5555555555555556,\"#d8576b\"],[0.6666666666666666,\"#ed7953\"],[0.7777777777777778,\"#fb9f3a\"],[0.8888888888888888,\"#fdca26\"],[1.0,\"#f0f921\"]],\"type\":\"surface\"}],\"table\":[{\"cells\":{\"fill\":{\"color\":\"#EBF0F8\"},\"line\":{\"color\":\"white\"}},\"header\":{\"fill\":{\"color\":\"#C8D4E3\"},\"line\":{\"color\":\"white\"}},\"type\":\"table\"}]},\"layout\":{\"annotationdefaults\":{\"arrowcolor\":\"#2a3f5f\",\"arrowhead\":0,\"arrowwidth\":1},\"autotypenumbers\":\"strict\",\"coloraxis\":{\"colorbar\":{\"outlinewidth\":0,\"ticks\":\"\"}},\"colorscale\":{\"diverging\":[[0,\"#8e0152\"],[0.1,\"#c51b7d\"],[0.2,\"#de77ae\"],[0.3,\"#f1b6da\"],[0.4,\"#fde0ef\"],[0.5,\"#f7f7f7\"],[0.6,\"#e6f5d0\"],[0.7,\"#b8e186\"],[0.8,\"#7fbc41\"],[0.9,\"#4d9221\"],[1,\"#276419\"]],\"sequential\":[[0.0,\"#0d0887\"],[0.1111111111111111,\"#46039f\"],[0.2222222222222222,\"#7201a8\"],[0.3333333333333333,\"#9c179e\"],[0.4444444444444444,\"#bd3786\"],[0.5555555555555556,\"#d8576b\"],[0.6666666666666666,\"#ed7953\"],[0.7777777777777778,\"#fb9f3a\"],[0.8888888888888888,\"#fdca26\"],[1.0,\"#f0f921\"]],\"sequentialminus\":[[0.0,\"#0d0887\"],[0.1111111111111111,\"#46039f\"],[0.2222222222222222,\"#7201a8\"],[0.3333333333333333,\"#9c179e\"],[0.4444444444444444,\"#bd3786\"],[0.5555555555555556,\"#d8576b\"],[0.6666666666666666,\"#ed7953\"],[0.7777777777777778,\"#fb9f3a\"],[0.8888888888888888,\"#fdca26\"],[1.0,\"#f0f921\"]]},\"colorway\":[\"#636efa\",\"#EF553B\",\"#00cc96\",\"#ab63fa\",\"#FFA15A\",\"#19d3f3\",\"#FF6692\",\"#B6E880\",\"#FF97FF\",\"#FECB52\"],\"font\":{\"color\":\"#2a3f5f\"},\"geo\":{\"bgcolor\":\"white\",\"lakecolor\":\"white\",\"landcolor\":\"#E5ECF6\",\"showlakes\":true,\"showland\":true,\"subunitcolor\":\"white\"},\"hoverlabel\":{\"align\":\"left\"},\"hovermode\":\"closest\",\"mapbox\":{\"style\":\"light\"},\"paper_bgcolor\":\"white\",\"plot_bgcolor\":\"#E5ECF6\",\"polar\":{\"angularaxis\":{\"gridcolor\":\"white\",\"linecolor\":\"white\",\"ticks\":\"\"},\"bgcolor\":\"#E5ECF6\",\"radialaxis\":{\"gridcolor\":\"white\",\"linecolor\":\"white\",\"ticks\":\"\"}},\"scene\":{\"xaxis\":{\"backgroundcolor\":\"#E5ECF6\",\"gridcolor\":\"white\",\"gridwidth\":2,\"linecolor\":\"white\",\"showbackground\":true,\"ticks\":\"\",\"zerolinecolor\":\"white\"},\"yaxis\":{\"backgroundcolor\":\"#E5ECF6\",\"gridcolor\":\"white\",\"gridwidth\":2,\"linecolor\":\"white\",\"showbackground\":true,\"ticks\":\"\",\"zerolinecolor\":\"white\"},\"zaxis\":{\"backgroundcolor\":\"#E5ECF6\",\"gridcolor\":\"white\",\"gridwidth\":2,\"linecolor\":\"white\",\"showbackground\":true,\"ticks\":\"\",\"zerolinecolor\":\"white\"}},\"shapedefaults\":{\"line\":{\"color\":\"#2a3f5f\"}},\"ternary\":{\"aaxis\":{\"gridcolor\":\"white\",\"linecolor\":\"white\",\"ticks\":\"\"},\"baxis\":{\"gridcolor\":\"white\",\"linecolor\":\"white\",\"ticks\":\"\"},\"bgcolor\":\"#E5ECF6\",\"caxis\":{\"gridcolor\":\"white\",\"linecolor\":\"white\",\"ticks\":\"\"}},\"title\":{\"x\":0.05},\"xaxis\":{\"automargin\":true,\"gridcolor\":\"white\",\"linecolor\":\"white\",\"ticks\":\"\",\"title\":{\"standoff\":15},\"zerolinecolor\":\"white\",\"zerolinewidth\":2},\"yaxis\":{\"automargin\":true,\"gridcolor\":\"white\",\"linecolor\":\"white\",\"ticks\":\"\",\"title\":{\"standoff\":15},\"zerolinecolor\":\"white\",\"zerolinewidth\":2}}},\"width\":3000,\"height\":700},                        {\"responsive\": true}                    ).then(function(){\n",
       "                            \n",
       "var gd = document.getElementById('fbab834c-33e0-421b-b276-fb935b9a57d1');\n",
       "var x = new MutationObserver(function (mutations, observer) {{\n",
       "        var display = window.getComputedStyle(gd).display;\n",
       "        if (!display || display === 'none') {{\n",
       "            console.log([gd, 'removed!']);\n",
       "            Plotly.purge(gd);\n",
       "            observer.disconnect();\n",
       "        }}\n",
       "}});\n",
       "\n",
       "// Listen for the removal of the full notebook cells\n",
       "var notebookContainer = gd.closest('#notebook-container');\n",
       "if (notebookContainer) {{\n",
       "    x.observe(notebookContainer, {childList: true});\n",
       "}}\n",
       "\n",
       "// Listen for the clearing of the current output cell\n",
       "var outputEl = gd.closest('.output');\n",
       "if (outputEl) {{\n",
       "    x.observe(outputEl, {childList: true});\n",
       "}}\n",
       "\n",
       "                        })                };                });            </script>        </div>"
      ]
     },
     "metadata": {},
     "output_type": "display_data"
    }
   ],
   "source": [
    "fig = go.Figure(data = go.Heatmap(z = std_job_skill, x =job_skill.columns , y = job_skill.index, colorscale= 'magma', ygap = 1))\n",
    "fig.update_layout(width = 3000, height = 700)\n",
    "fig.show()\n",
    "fig.write_html('../reports/figures/std_skills_heatmap.html')"
   ]
  },
  {
   "cell_type": "code",
   "execution_count": 106,
   "id": "5fa8a800",
   "metadata": {},
   "outputs": [],
   "source": [
    "non_backend_full_job_skill = job_skill.drop([\"Developer, full-stack\", \"Developer, back-end\"])"
   ]
  },
  {
   "cell_type": "code",
   "execution_count": 107,
   "id": "fa75ca4b",
   "metadata": {},
   "outputs": [],
   "source": [
    "ss = StandardScaler()\n",
    "std_job_skill = ss.fit_transform(non_backend_full_job_skill)"
   ]
  },
  {
   "cell_type": "code",
   "execution_count": 108,
   "id": "308edd4c",
   "metadata": {},
   "outputs": [
    {
     "data": {
      "application/vnd.plotly.v1+json": {
       "config": {
        "plotlyServerURL": "https://plot.ly"
       },
       "data": [
        {
         "colorscale": [
          [
           0,
           "#000004"
          ],
          [
           0.1111111111111111,
           "#180f3d"
          ],
          [
           0.2222222222222222,
           "#440f76"
          ],
          [
           0.3333333333333333,
           "#721f81"
          ],
          [
           0.4444444444444444,
           "#9e2f7f"
          ],
          [
           0.5555555555555556,
           "#cd4071"
          ],
          [
           0.6666666666666666,
           "#f1605d"
          ],
          [
           0.7777777777777778,
           "#fd9668"
          ],
          [
           0.8888888888888888,
           "#feca8d"
          ],
          [
           1,
           "#fcfdbf"
          ]
         ],
         "type": "heatmap",
         "x": [
          "APL",
          "Assembly",
          "Bash/Shell",
          "C",
          "C#",
          "C++",
          "COBOL",
          "Clojure",
          "Crystal",
          "Dart",
          "Delphi",
          "Elixir",
          "Erlang",
          "F#",
          "Go",
          "Groovy",
          "HTML/CSS",
          "Haskell",
          "Java",
          "JavaScript",
          "Julia",
          "Kotlin",
          "LISP",
          "Matlab",
          "Node.js",
          "Objective-C",
          "PHP",
          "Perl",
          "PowerShell",
          "Python",
          "R",
          "Ruby",
          "Rust",
          "SQL",
          "Scala",
          "Swift",
          "TypeScript",
          "VBA",
          "Cassandra",
          "Couchbase",
          "DynamoDB",
          "Elasticsearch",
          "Firebase",
          "IBM DB2",
          "MariaDB",
          "Microsoft SQL Server",
          "MongoDB",
          "MySQL",
          "Oracle",
          "PostgreSQL",
          "Redis",
          "SQLite",
          "AWS",
          "DigitalOcean",
          "Google Cloud Platform",
          "Heroku",
          "IBM Cloud or Watson",
          "Microsoft Azure",
          "Oracle Cloud Infrastructure",
          "ASP.NET",
          "ASP.NET Core ",
          "Angular",
          "Angular.js",
          "Django",
          "Drupal",
          "Express",
          "FastAPI",
          "Flask",
          "Gatsby",
          "Laravel",
          "React.js",
          "Ruby on Rails",
          "Spring",
          "Svelte",
          "Symfony",
          "Vue.js",
          "jQuery",
          ".NET Core / .NET 5",
          ".NET Framework",
          "Apache Spark",
          "Cordova",
          "Flutter",
          "Hadoop",
          "Keras",
          "NumPy",
          "Pandas",
          "Qt",
          "React Native",
          "TensorFlow",
          "Torch/PyTorch",
          "Ansible",
          "Chef",
          "Deno",
          "Docker",
          "Flow",
          "Git",
          "Kubernetes",
          "Pulumi",
          "Puppet",
          "Terraform",
          "Unity 3D",
          "Unreal Engine",
          "Xamarin",
          "Yarn",
          "Android Studio",
          "Atom",
          "Eclipse",
          "Emacs",
          "IPython/Jupyter",
          "IntelliJ",
          "Neovim",
          "NetBeans",
          "Notepad++",
          "PHPStorm",
          "PyCharm",
          "RStudio",
          "Rider",
          "RubyMine",
          "Sublime Text",
          "TextMate",
          "Vim",
          "Visual Studio",
          "Visual Studio Code",
          "Webstorm",
          "Xcode"
         ],
         "y": [
          "Academic researcher",
          "Data or business analyst",
          "Data scientist or machine learning specialist",
          "Database administrator",
          "Designer",
          "DevOps specialist",
          "Developer, QA or test",
          "Developer, desktop or enterprise applications",
          "Developer, embedded applications or devices",
          "Developer, front-end",
          "Developer, game or graphics",
          "Developer, mobile",
          "Educator",
          "Engineer, data",
          "Engineer, site reliability",
          "Engineering manager",
          "Marketing or sales professional",
          "Other (please specify):",
          "Product manager",
          "Scientist",
          "Senior Executive (C-Suite, VP, etc.)",
          "Student",
          "System administrator"
         ],
         "ygap": 1,
         "z": [
          [
           -0.18633375861148738,
           -0.40253059970144606,
           -0.6952855501075637,
           -0.3214408788392563,
           -0.7858205351394206,
           -0.30324159406024553,
           -0.5534957533946038,
           -0.6597257097162578,
           -0.8985391787077461,
           -0.5856335975223157,
           -0.7162913906887439,
           -0.9081211681623468,
           -0.7972461750826799,
           -0.818101438888643,
           -0.8525116265475685,
           -0.8057114493660199,
           -0.6833491269296829,
           0.08026447911966905,
           -0.7131556190650572,
           -0.7085396558052854,
           1.640077454797566,
           -0.6366634116623094,
           -0.19464779491563303,
           1.5468333986927427,
           -0.7448265259829631,
           -0.6151310640596005,
           -0.7828261089023825,
           -0.6297861301686555,
           -0.8679181719387324,
           -0.42834434668075994,
           0.9273249921722625,
           -0.8996250123536141,
           -0.4882662278343178,
           -0.8734867613656444,
           -0.5820736536796209,
           -0.5780667998644545,
           -0.6955352043498886,
           -0.860310233046151,
           -0.9365942084470714,
           -0.6323724659173562,
           -1.0269909472664105,
           -0.9083377306482435,
           -0.6441624922664614,
           -0.7826647214190641,
           -0.7676484796842923,
           -0.8445790135421752,
           -0.6858671018448074,
           -0.7484592964748209,
           -0.7708569302784996,
           -0.7774598771864094,
           -0.9258026623619062,
           -0.6462184208845149,
           -0.8777216991859107,
           -0.8024982587018457,
           -0.7853328307278717,
           -0.6192560551337273,
           -0.5952449305741657,
           -0.8647173774204331,
           -0.8099433583859311,
           -0.7997954663234831,
           -0.7967915939602028,
           -0.6708914887204828,
           -0.7346000912059111,
           -0.5565905906121179,
           -0.7334599947125143,
           -0.6810140039480369,
           -0.49561633353888157,
           -0.40092729595550036,
           -0.6218251725845596,
           -0.7277105339645371,
           -0.6472523142019623,
           -0.8917132312148275,
           -0.7084025423554273,
           -0.6618297487912388,
           -0.8086848089851836,
           -0.7019617279420759,
           -0.7368968161805045,
           -0.7922418746442533,
           -0.7759886887252373,
           -0.3642507613693955,
           -0.6749353771002977,
           -0.6084708465274004,
           -0.38648368088866947,
           0.6206031579325352,
           0.5711337056091066,
           0.3944197664732315,
           -0.06418693613246397,
           -0.6654198481816535,
           0.1793371304142532,
           0.6360658660867531,
           -0.7462249033447323,
           -0.8662729009560288,
           -0.6775491429834368,
           -0.7332341621750893,
           -0.7221546498310064,
           -0.6697728368943013,
           -0.839532853840611,
           -0.8035589920252759,
           -0.8436846770246623,
           -0.825153001325772,
           -0.6354467475873313,
           -0.649569344693799,
           -0.7227542547572532,
           -0.7123172392869404,
           -0.6199174398733424,
           -0.5385419139461773,
           -0.6722284856798829,
           0.00998756496929856,
           0.3700144007212671,
           -0.7334364552674969,
           -0.6488912295815397,
           -0.5155928686136317,
           -0.7578499964864742,
           -0.7715760124471456,
           -0.3743962907473309,
           0.8482490943641047,
           -0.8021273210677154,
           -0.863507885500914,
           -0.6729321442328992,
           -0.544490805280716,
           -0.6682144026848685,
           -0.742405526788514,
           -0.709269481409478,
           -0.6489009171940856,
           -0.6397612186381155
          ],
          [
           1.001990796082576,
           -0.7165747778964827,
           -0.4378567521573299,
           -0.6735273140476742,
           -0.21867756379169456,
           -0.6611994139913887,
           -0.08905940172633185,
           -0.2394975086270207,
           -0.2175237156638877,
           -0.46034997206263756,
           0.04901571307190676,
           -0.7099184911526706,
           -0.7296469830883922,
           -0.16283240658832834,
           -0.550370616167,
           -0.5479445929868246,
           -0.2654941772670212,
           -0.6588877484579193,
           -0.41132817777718444,
           -0.2994985801214077,
           0.4455396550992451,
           -0.4765856340414189,
           -0.3743226825300635,
           -0.22682316629614555,
           -0.36793977798271216,
           -0.49860453708636837,
           -0.29984803863394227,
           -0.31475046618085645,
           -0.09838625209468009,
           -0.08556325246171029,
           1.493820963241934,
           -0.5731700259695558,
           -0.6917511066502665,
           0.04016282457901391,
           0.12650479914530238,
           -0.4664594750157241,
           -0.3792036490634134,
           0.7666925242065827,
           -0.20035829221383572,
           -0.44521156633569653,
           -0.4465490340044428,
           -0.3840396835759017,
           -0.37876482830681896,
           0.25981948524499027,
           -0.3533897231926332,
           0.14779891932667524,
           -0.3511580329789761,
           -0.23779575104964823,
           0.26584988297465295,
           -0.2763132125318552,
           -0.49367919346954514,
           -0.33715399773221183,
           -0.3483018809775762,
           -0.44273591897275255,
           -0.32017730978854736,
           -0.4138633834352862,
           0.1357071319510986,
           -0.1458892378121069,
           0.04772368785917267,
           -0.09970058250971812,
           -0.19177183957164218,
           -0.33295873823389077,
           -0.2979795894936255,
           -0.07142419148147514,
           -0.021838313299458,
           -0.4003804094790306,
           -0.013391277489901075,
           0.02803571452272032,
           -0.46267081221013917,
           -0.38496357422776173,
           -0.390733638781653,
           -0.4877686052999282,
           -0.38468594310536786,
           -0.45129174180122295,
           -0.3287832094775628,
           -0.3956220045374108,
           -0.17687964417844101,
           -0.21743811163877416,
           -0.14129587567987753,
           0.747872820907137,
           -0.3795608281717441,
           -0.3932036137028938,
           0.9135624445477949,
           0.28149187165156936,
           0.4922830508053171,
           0.8579591367045879,
           -0.5866011585177937,
           -0.39386512527414397,
           0.07739832946574858,
           0.23518769685290888,
           -0.5574061128400586,
           -0.5029279022397494,
           -0.5344017649634547,
           -0.4142474954055865,
           -0.2199640645984122,
           -0.33097605324725293,
           -0.43350734579596156,
           -0.5219928159046813,
           -0.5995459756982904,
           -0.5052196161770841,
           -0.5712139771476192,
           -0.5449736919150336,
           -0.35985469353686794,
           -0.424446362198657,
           -0.40744817574082426,
           -0.21703899242170946,
           -0.2198349155137848,
           -0.6016769168782701,
           0.6742937674687435,
           -0.44447058752567226,
           -0.7244628746162826,
           -0.1523313135572289,
           -0.03678040655816018,
           -0.3877613582840036,
           0.012348470058688008,
           1.7048700716514522,
           -0.432578650744663,
           -0.56001618433877,
           -0.2923656954515128,
           -0.6801100000181786,
           -0.4564539567876196,
           -0.17292700807160155,
           -0.2934451255745478,
           -0.43987806816636443,
           -0.4659627077503884
          ],
          [
           -0.3096625772608172,
           -0.4223929555932636,
           -0.18870650145395385,
           -0.14290043476168418,
           -0.6111421734552339,
           0.026177051117029195,
           -0.46383934463777216,
           0.13039085587340152,
           -0.6227344518320184,
           -0.5022834805326382,
           -0.6556131504549416,
           -0.6231767300123814,
           -0.6828866397539977,
           -0.3941038297531453,
           -0.3771419074244592,
           -0.5785194050764297,
           -0.5007598393304322,
           0.39735215651433486,
           -0.4018133624311286,
           -0.4935725043621451,
           3.2232264425677988,
           -0.5038140923779167,
           0.41969512889734395,
           1.831412623672303,
           -0.5388856208002577,
           -0.5137140671064732,
           -0.7256218497641465,
           -0.29329896626947566,
           -0.5427518640218859,
           0.9207533084067245,
           3.3251706917664086,
           -0.6002115289288893,
           -0.16194306491177965,
           -0.2860611344222369,
           1.3752777305884654,
           -0.46058240218371016,
           -0.5351590452387661,
           -0.2799662914253939,
           0.2073293486970766,
           -0.543861528047845,
           -0.23926408509381214,
           -0.16813482194505178,
           -0.46389813591333434,
           -0.2236141295677814,
           -0.6247560569578127,
           -0.4280319373024936,
           -0.2691824472116746,
           -0.3957449140130174,
           -0.23222623139382084,
           -0.12199388812095768,
           -0.4180131783631706,
           -0.259458894233225,
           -0.11483024651247627,
           -0.4838462515585451,
           -0.01301807498614501,
           -0.2651272134168657,
           0.5858331894641553,
           -0.28639233957798726,
           -0.10944485460544734,
           -0.64038736432928,
           -0.6536644578189277,
           -0.5349804493147641,
           -0.5478717934573477,
           0.4819131163627396,
           -0.6473675913578625,
           -0.5495044158025976,
           2.1858785938158083,
           1.6083142617659432,
           -0.5439384596397213,
           -0.6764260300007894,
           -0.44617369185214345,
           -0.5989842507845646,
           -0.5542917284136688,
           -0.4939117144551753,
           -0.7884117381148946,
           -0.5364905158528447,
           -0.5852615810612511,
           -0.6228837218254757,
           -0.6207850684427393,
           2.346853879836496,
           -0.6063813986956764,
           -0.4874614507848297,
           2.1229982681202015,
           4.07022498414093,
           3.313456782364078,
           3.3257993791389695,
           0.141800873924331,
           -0.48805125444466946,
           3.1162581256093196,
           3.919655038868683,
           -0.42659879932476485,
           -0.41473736857074944,
           -0.5392997436815777,
           -0.13478564838365825,
           -0.3133176414271016,
           -0.20684256157530154,
           -0.175500622025686,
           -0.48249087276215086,
           -0.4403152913461271,
           -0.34966689063995504,
           -0.42491405531089355,
           -0.37816860620467574,
           -0.6268009008063274,
           -0.49851401191374123,
           -0.5293647980199024,
           0.041088416303513266,
           -0.3351707363697875,
           0.4314923556824786,
           3.3633414576547653,
           -0.356994952525888,
           -0.08612017230546053,
           -0.4551006277518219,
           -0.3250050024122735,
           -0.6881349486965979,
           1.4808284323396046,
           3.4609503853907135,
           -0.8206782797248873,
           -0.623313486652974,
           -0.12303359784596488,
           -0.3251560582361779,
           -0.00863131219921513,
           -0.5313488277970491,
           -0.29225616870520227,
           -0.5593359644507989,
           -0.5045007696367624
          ],
          [
           0.33010566948258124,
           0.25464750626247035,
           0.5981637441220338,
           0.20621632572165305,
           0.5930275101428778,
           0.12634259372877737,
           1.0813202044777135,
           -0.060754610594272306,
           1.3157414247400392,
           0.12730065896148424,
           0.9389259190100887,
           0.40851090054478806,
           0.4358037480612447,
           0.4095893951193949,
           0.2841952447505855,
           -0.13276286248292993,
           0.5038329393275954,
           -0.003860823046262696,
           0.20026665415630432,
           0.4328492941054534,
           -0.41558740937828753,
           -0.057788353382036584,
           0.26270646446655366,
           -0.25753125010789346,
           0.29740439271709174,
           0.002642674716955171,
           1.0228201884152717,
           1.3043945643203076,
           0.8555320911403969,
           0.35647478045595105,
           0.2332544528580201,
           0.46579298246799217,
           0.05064597876605128,
           1.0298532223283101,
           -0.1847449802847679,
           -0.018546642672915222,
           0.1782051560613749,
           1.412242431225372,
           0.2383341650856796,
           0.28890856540554233,
           0.10789965505831738,
           0.3741645568741751,
           0.09790713486421544,
           0.758470138780682,
           1.0241913440621149,
           0.916906096243729,
           0.21952572117564303,
           0.6764590369712087,
           0.5073867938581598,
           0.5730066493327649,
           0.5202560138633868,
           0.4380190226485796,
           0.35838431286228795,
           0.5224183047252031,
           0.22287218703530776,
           0.08936151533426104,
           0.29184346546700046,
           0.42847622340637753,
           0.7503346720491272,
           0.7844010278031117,
           0.5661259822515425,
           0.18338166857895596,
           0.37733139218953765,
           0.5676490605791275,
           0.9999425791465413,
           0.16752781414426315,
           0.165538113186096,
           0.2532148158256085,
           -0.06121614709574736,
           1.0132775482393421,
           0.09847194617689355,
           0.6694723859484687,
           -0.0017528927729805592,
           0.06003148203348919,
           1.0093978513276807,
           0.4171279378421343,
           0.8853633006460625,
           0.5469637868501401,
           0.6944585022486865,
           -0.01817524949209252,
           0.2696630436331885,
           0.1271719213692638,
           0.17563892076891588,
           -0.2681405898963679,
           -0.08134240814807847,
           0.04042610317099991,
           -0.03344408564556842,
           0.06593085996722516,
           -0.01656969168959258,
           -0.17825692526744363,
           0.40798319199586686,
           0.36839457040996937,
           0.12287537914595546,
           0.2942514798334109,
           0.19403875438099316,
           0.3218696691398533,
           0.16766377616194164,
           0.25196967473675747,
           0.48421364679479234,
           0.08797228216779429,
           0.17326268159437103,
           0.20927539129701933,
           0.43796467461687666,
           0.18093977087790628,
           0.2168486269685108,
           0.5886658303487201,
           0.3501078454538211,
           0.11492200496625923,
           -0.008999146373812909,
           0.07631575609244638,
           0.25091952876055135,
           0.8845611545935891,
           0.6484963405055337,
           1.0120835183911394,
           0.20597209218591098,
           0.07657380538601614,
           0.3361549775122896,
           0.2720708692618595,
           0.40528724600150207,
           0.4768389328656067,
           0.5189122547728786,
           0.5606453706545133,
           0.2848138079253789,
           0.15985978767917838,
           0.04556442535379183
          ],
          [
           0.2941347640431934,
           0.014109684517467136,
           -0.35144232747095183,
           -0.1318316471500202,
           0.019810386592525885,
           -0.10475511403425528,
           0.5369200287830782,
           -0.5536959089784642,
           -0.09203910059246657,
           -0.04689462429756275,
           0.15884108884563383,
           -0.5377832864027704,
           -0.4450188062703387,
           -0.20838586872685289,
           -0.5440012540123028,
           -0.4725670859540359,
           0.10696256910651701,
           -0.7153307930735231,
           -0.1469475499891912,
           0.022333402383759013,
           -0.6947439852253998,
           -0.3319405927339946,
           -0.03629795709382434,
           -0.31577071940603607,
           -0.008879050486366136,
           -0.05367466444888981,
           0.19146230467424094,
           -0.07842939690919856,
           -0.04967811258229479,
           -0.39253139653847113,
           -0.4681159936309798,
           -0.43867412967181846,
           -0.5758428584833187,
           -0.030386479571561334,
           -0.6415561461688549,
           -0.1703234750336632,
           -0.06348010701738797,
           0.4007362491856791,
           -0.3423637772201997,
           -0.1111718348715046,
           -0.49435013274366363,
           -0.4928995889341223,
           0.05737391993690956,
           0.19824900548917476,
           -0.11792051162944339,
           0.020448049381456605,
           -0.1708166588943761,
           0.03174810231066536,
           0.04831664025348216,
           -0.3351103387518581,
           -0.4210886015419861,
           -0.17140582190693834,
           -0.31716602691109597,
           -0.2198203027826675,
           -0.2430290052490084,
           -0.08343567354645497,
           -0.2047212673540645,
           -0.1830927598414109,
           -0.20323898478594637,
           0.116567690787608,
           -0.03512470891889077,
           0.010855821846912308,
           0.09792980079092092,
           -0.22711076166502428,
           0.2919458410326283,
           -0.05516061502355586,
           -0.4668295861430587,
           -0.5958848057382768,
           0.05223298783676635,
           0.10868333958035548,
           -0.09312571184053012,
           -0.4027276314231073,
           -0.3005985825684622,
           0.08704742098353546,
           -0.050662018475786524,
           0.07327326100022281,
           0.14906543979261533,
           -0.004722549146673262,
           0.09164280313005828,
           -0.5211066822763776,
           0.05676870216788291,
           -0.0764009152677608,
           -0.5380654008294766,
           -0.5227286426598557,
           -0.625812271782192,
           -0.5982503165234415,
           -0.09889315061941226,
           -0.14021319001610855,
           -0.4902706439286119,
           -0.5629068937538103,
           -0.5798763811422741,
           -0.47389286500103245,
           0.02112382125978716,
           -0.39071438333711134,
           -0.157974337692405,
           -0.16752957878034258,
           -0.5073140418916909,
           -0.49581129544974833,
           -0.33941663987544946,
           -0.6707773336652334,
           0.14332122088150295,
           0.08195556742148048,
           0.0014247803566405585,
           -0.11065469421242141,
           -0.05574420787348155,
           0.11306547117282247,
           0.14753637870214356,
           -0.4139638836712718,
           -0.6384884787381954,
           -0.3362558955483272,
           -0.7974116425999281,
           0.27789278995740824,
           0.0745123761449755,
           0.012499444109834943,
           -0.5951540190896145,
           -0.41935696009592327,
           -0.325345060458084,
           -0.5633696837991252,
           -0.03257172331571147,
           -0.24478912802138528,
           -0.5093591519504463,
           0.08243622696636409,
           -0.10222714429643882,
           -0.0890203194034066,
           -0.08909245180909031
          ],
          [
           0.10400283529214324,
           0.35990235283879485,
           2.2753066925299663,
           0.6810943113049939,
           0.6592233729225146,
           0.42520343959642215,
           0.3406451879910954,
           1.2432173883874924,
           1.8111442279907537,
           0.20638635136099223,
           -0.1767924244771325,
           1.7828959034826335,
           1.7461098906272123,
           1.441049930684558,
           2.6590253805283757,
           3.1036264053385345,
           0.6629757694502167,
           1.687992476068587,
           1.0832852645477402,
           0.7360002734649422,
           -0.18343007624441796,
           0.6851455387019,
           1.5249679224042951,
           -0.21835197076187027,
           0.908044141772234,
           0.23649699161903098,
           0.6383071524337953,
           1.5564940095598405,
           1.7219944232809166,
           1.6059640066035146,
           0.053421818965582006,
           2.0146306453887615,
           1.7934820760571086,
           0.975399716474125,
           1.346704569543788,
           0.15171729257688626,
           0.812337631965412,
           0.04421910725899983,
           2.128942775478007,
           1.3110317798119704,
           2.3486771208414257,
           2.4536887714119704,
           0.23733326045864384,
           0.6748934799486436,
           1.2241943314737544,
           0.7165335736348956,
           1.0496022461215193,
           0.8167804427614305,
           0.8259677364240035,
           1.5800777708726261,
           2.092433552688899,
           0.7449332885992077,
           1.6357264231351722,
           1.3507258048841506,
           1.254250375827464,
           0.5300688950086132,
           1.4272142279186992,
           1.3743200894551573,
           1.5480072746652631,
           0.580721841130656,
           0.9533425157061239,
           0.6458959211717161,
           0.6445936703624285,
           1.4837391721114528,
           0.809859614897718,
           0.7660475023683809,
           1.8362983541985607,
           1.9972407245995298,
           0.6241117949413912,
           0.7046307560596137,
           0.6697647247292434,
           1.584303867490199,
           1.5919591940227387,
           0.6173516708909094,
           1.3313912347596915,
           0.8776371812198506,
           0.5902150801027972,
           0.8032716524314018,
           0.4731431826647679,
           0.8375201869825855,
           0.2201903072536469,
           0.2588217119261957,
           0.9340556156235912,
           0.09994744566276945,
           0.4758775889614823,
           0.5596228574197625,
           0.2588807888448078,
           0.3054352264486031,
           0.5012196362803621,
           0.21787761605559944,
           3.354525629560244,
           3.360902894415294,
           0.7537666379028966,
           1.860173743375216,
           0.7283311624756268,
           1.07595864307201,
           2.695334087147921,
           3.6082568670910553,
           2.8039817498036768,
           3.5317720003311845,
           0.16630292317200943,
           0.37624164134139687,
           0.2781651519204002,
           0.8624141052985701,
           0.12856647908484742,
           0.7863390047135873,
           0.6706615536485185,
           1.514546264873907,
           0.5988053313060252,
           1.3496838113878136,
           2.3957772372954245,
           0.2936063941201534,
           0.6751621966249695,
           0.8808703097799966,
           1.4574908677348817,
           -0.15033791278260708,
           1.3849628352519108,
           1.6046677173205,
           0.9242486145187826,
           0.8507683998372112,
           2.1043921267063763,
           0.49320810679660265,
           0.9261673108127416,
           0.8029851158644443,
           0.17539272780890588
          ],
          [
           -0.4188599687732446,
           -0.4982452595895748,
           -0.1972799010685079,
           -0.35424228602991914,
           -0.1809930276774444,
           -0.36348709588822886,
           -0.36529806654467795,
           -0.6033061827181658,
           -0.45084667181231136,
           -0.31548876098445383,
           -0.34651237317536926,
           -0.17171507682367448,
           -0.024683980862248964,
           -0.1225351131580951,
           -0.31282032059462916,
           0.38988479170225,
           -0.20879282760270604,
           -0.3335313447819867,
           -0.1306301884991736,
           -0.20024515596719375,
           -0.7963128184714677,
           -0.14817307338351576,
           -0.7350336311499429,
           -0.7906871190463444,
           -0.18638008020502006,
           -0.17935848234339752,
           -0.2158576581531989,
           -0.18426861548022613,
           -0.05056886825085047,
           -0.39542142741145847,
           -0.640532848806204,
           -0.2442243748392431,
           -0.5002239369066407,
           -0.2211216893837859,
           -0.5197158745443816,
           -0.26087604381430496,
           -0.2037791622511604,
           -0.19978790801583332,
           -0.35863702339101344,
           -0.2854534338963004,
           -0.2965372909564731,
           -0.2892178537980709,
           -0.26912858224508446,
           -0.11451966733884601,
           -0.22256244587845664,
           -0.22471708690204736,
           -0.22971818140163677,
           -0.2316809734936513,
           -0.08854298386564376,
           -0.34611271945225347,
           -0.2738924852593682,
           -0.3249766651188794,
           -0.3415893942203289,
           -0.2382167073187756,
           -0.3912742045668065,
           -0.2817848418599933,
           -0.4153407711132202,
           -0.25189040368274024,
           -0.1250772096355305,
           -0.18041884381035778,
           -0.17348580382950168,
           -0.18767153002854414,
           -0.0875648269143776,
           -0.32940581424089505,
           -0.1568674511925435,
           -0.22660191816504202,
           -0.4783066553662299,
           -0.5275331688423234,
           -0.13334274943694813,
           -0.19163978965237724,
           -0.20090129675549392,
           -0.16523254985505098,
           0.041179034261707194,
           -0.19487321780121472,
           0.0020796424601995196,
           -0.2022436657239511,
           -0.16907591407909123,
           -0.17402197861149157,
           -0.16657206955232767,
           -0.5185175886713105,
           -0.2673815907823637,
           -0.3241916190342772,
           -0.5221450861094366,
           -0.629840779767985,
           -0.6849502628850341,
           -0.6617550741635139,
           -0.4416705776510003,
           -0.19671613445127772,
           -0.707910295312255,
           -0.6752559758517321,
           -0.199301510158781,
           -0.16997471820324828,
           -0.24873900617744182,
           -0.24462730873249594,
           -0.22439190223455557,
           -0.27324624591826213,
           -0.2621025057384231,
           -0.1949534726781505,
           -0.15473607245144116,
           -0.3503912339486262,
           -0.3063081721964816,
           -0.30628931323190317,
           -0.19968696917519224,
           -0.20440828979877898,
           -0.24713349367876083,
           -0.3554751317757585,
           -0.0836645471272652,
           -0.5224323851189073,
           -0.6103295949739175,
           -0.1060172121533726,
           -0.4079144005119689,
           -0.16619625840670993,
           -0.1432744642715597,
           -0.07635247360405878,
           -0.2375532982923645,
           -0.7092834659776113,
           -0.11472381033824204,
           0.06666902731510463,
           -0.31378675405239964,
           -0.207954285006272,
           -0.28053161299908597,
           -0.21383108867229486,
           -0.27758940971245416,
           -0.14658558782264552,
           -0.29777741496044174
          ],
          [
           2.5012067477884914,
           2.703191158564011,
           1.5134988982081645,
           2.585015770654386,
           3.022239027892512,
           3.08421923373734,
           2.772676239944429,
           1.4382538567171035,
           1.8510117359040699,
           0.8622677758278268,
           3.53084956825915,
           0.6287360972222061,
           1.25512628561607,
           3.0519404929018323,
           1.171330770775954,
           1.6455711337585062,
           1.4292841546447175,
           1.8465363147659197,
           2.1541722634616445,
           1.4190350459215886,
           0.278361140750127,
           1.192410734534019,
           2.0322318727904904,
           1.5007712729751208,
           1.0877205007743291,
           1.1716853269543024,
           1.0011616197126063,
           1.1864999573693304,
           2.621698137416173,
           1.7963154995081114,
           0.49118450636611755,
           0.7340731565645371,
           1.9723041799113916,
           2.091181757642349,
           1.1116498862328574,
           0.9421550590029921,
           1.3087297750225693,
           2.741532760770617,
           1.80604731198344,
           1.7448175836740014,
           1.1457929433515388,
           1.2223384162814201,
           0.7845655526252057,
           2.8848757190927423,
           1.305103726944721,
           2.8642770912174083,
           1.463436430745957,
           1.5019858548305682,
           2.9056242524322062,
           1.5120278780085596,
           1.1668372249405636,
           2.1569456578568733,
           1.2980851878434019,
           0.8277423045005069,
           1.0657676035472223,
           0.7962824754978567,
           1.6729369823043807,
           2.385393855824718,
           2.424264148513709,
           2.8115337487796865,
           2.8873582773432838,
           1.5935183886730067,
           1.6306414625431347,
           1.1226113276548801,
           0.8338748642545418,
           0.863411341359456,
           0.7378863849383389,
           1.23887648879112,
           0.37955753387825736,
           0.604344042811133,
           1.0099685090802764,
           0.6347508827952442,
           2.29915166107344,
           0.8720234747001819,
           0.6818610500795752,
           1.0759027382457125,
           1.6434200313938703,
           3.1062058502040775,
           3.196268702076494,
           0.6960909488057949,
           1.0344515344771124,
           1.0186061303214813,
           0.8859559413630446,
           0.5158054576677104,
           1.0053344967968612,
           0.6470326202572049,
           3.3205259199125736,
           0.815097025094117,
           1.2648577034957027,
           0.6701866984276035,
           0.7654024270165105,
           0.9819293292579961,
           0.901495996014026,
           1.6005234358973641,
           1.3873409973216322,
           1.8771094654532143,
           1.376948359497669,
           1.005262543966407,
           0.9540229927051354,
           0.5675780954216783,
           1.965182982901779,
           1.9854675165277962,
           2.6463646221489654,
           0.6774759011970328,
           1.1660709245487066,
           1.1557184339865247,
           2.518921691621307,
           1.8944578708214523,
           0.8827826456966672,
           1.8847062873379865,
           1.0604049586554767,
           2.019946082823313,
           2.78093681476805,
           0.7055159240994515,
           1.7217413301132398,
           0.5336137738107044,
           2.735110655569007,
           1.07565317744947,
           1.3855650136384299,
           0.9573662031082208,
           1.3634959300332952,
           3.0761344047206443,
           1.834139955244622,
           1.066783225247564,
           0.9894300663547559
          ],
          [
           -0.1182459733155032,
           2.1848931473397326,
           0.03901025021303707,
           2.027706813914263,
           0.024040599733640314,
           1.5978154832639064,
           0.3325680340490385,
           -0.5561277851421751,
           0.18115136346927316,
           -0.08417603321465107,
           0.47857735103703497,
           -0.239805112122917,
           0.12118795975700346,
           -0.17434591899696641,
           -0.23647768406438457,
           -0.24991585534111968,
           -0.28375310602694626,
           -0.10632112696630777,
           -0.13255502470711134,
           -0.26637455095021484,
           -0.29761615585645707,
           0.05024080081222728,
           0.05490066010440932,
           1.1439221610937742,
           -0.2707215383958955,
           0.11275909804529434,
           -0.21270634975996275,
           0.06304413143197399,
           -0.11911656583561216,
           0.12638536304777842,
           -0.6778434854771865,
           -0.49506989571200727,
           0.491858266923237,
           -0.33794641363648315,
           -0.5109103091909906,
           -0.007248968685160297,
           -0.2780074453560635,
           -0.015996052135189766,
           -0.436063415698464,
           -0.058832549629781336,
           -0.5033082495580798,
           -0.5175680805872611,
           -0.10103096849973564,
           -0.21307925660575974,
           -0.11695927751692474,
           -0.19778613370352055,
           -0.2322246291679032,
           -0.20989707845041214,
           -0.220611553250755,
           -0.30987552063168516,
           -0.4529298363502397,
           0.2519684009382595,
           -0.3593790598281509,
           -0.30771944996667366,
           -0.2913829240050168,
           -0.3647130970413664,
           -0.299061253412853,
           -0.20291126575613438,
           -0.0655052620884568,
           -0.08933309940688366,
           -0.16966810753759204,
           -0.19704769882817214,
           -0.06945455067925002,
           -0.31493593917910395,
           -0.29801368090293323,
           -0.2584104791469038,
           -0.3804693439555901,
           -0.08769603431247369,
           -0.32655689425026896,
           -0.3318666597836197,
           -0.3152055071898759,
           -0.5394769361496535,
           -0.33844776421858347,
           -0.29338823655871105,
           -0.3100939722690152,
           -0.25047717728612506,
           -0.21952145507845952,
           0.00015148923195314155,
           0.10250767154238478,
           -0.541495794416281,
           0.01514389597607579,
           -0.03223323867984619,
           -0.6303693531956664,
           -0.11464713844841778,
           0.07666351215686609,
           -0.3097119141316559,
           2.0291119635710655,
           -0.1752327892719089,
           0.01954790424817937,
           -0.12125016879553513,
           -0.2505082653747231,
           -0.39682790634873716,
           -0.2561649739113703,
           -0.17655815054695884,
           -0.1122200154522568,
           -0.11182418155863315,
           -0.4165568893290742,
           -0.6372833708904386,
           -0.39639735153188127,
           -0.5056723307450036,
           0.130271673839575,
           0.3842998580423803,
           0.2434069147255906,
           -0.35586306690518854,
           0.16720939606065166,
           -0.2955077771552179,
           0.42762391028445124,
           0.353471152886811,
           -0.24841251302143474,
           -0.23449391258216024,
           0.12207069362539309,
           0.1209621549203193,
           0.10072658755949493,
           -0.32439741055534543,
           -0.011826566960080028,
           -0.5252101069735542,
           -0.23078041754713452,
           -0.3923412113210109,
           -0.2205444496123419,
           -0.3804083227588478,
           0.07243039654551726,
           0.13817381946676155,
           -0.12881896323247394,
           -0.27367330207758256,
           -0.035706522696329554
          ],
          [
           2.5937033617754888,
           1.7022535388188744,
           2.4493149513735077,
           1.9411812912425965,
           2.6728358186654453,
           1.9697644595987756,
           2.0618866930434216,
           3.3949414180388637,
           2.0758383379070326,
           2.556471975507156,
           1.7478944871456157,
           3.11480890420412,
           2.7341762758670267,
           2.367637385831909,
           2.4139843562247765,
           1.8228142276046821,
           3.8227376112881633,
           2.982227894005998,
           2.9159918121691826,
           3.8016935905110643,
           0.3758293689272543,
           2.3001764790219688,
           2.420166289230738,
           1.5463039489718504,
           3.8687548936882092,
           1.6840357539996726,
           3.4703986878364645,
           1.7265104427417761,
           2.3080711642965253,
           2.60323945737605,
           0.8610464698871629,
           2.8651926562346377,
           2.846847538882641,
           2.9937418119666264,
           1.5821186636854694,
           1.9226562196372377,
           3.912419807823393,
           2.1524006607517894,
           2.256559284922809,
           2.9908214056327225,
           2.7769779026323254,
           2.625071820779948,
           3.263530886298045,
           2.567424880503823,
           3.0112279846575682,
           2.64181980236094,
           3.601559240457788,
           3.4251789395909222,
           2.628081839305195,
           3.18290930180561,
           2.9381484145943793,
           2.637857260435355,
           3.233172215270681,
           3.4679548626558745,
           3.2651825949348443,
           3.9581985461175875,
           2.970660278903762,
           2.879433530843569,
           2.363002216639059,
           2.8342005441349523,
           2.763514154956686,
           3.782875507480585,
           3.6411288586509483,
           3.1846845924766507,
           3.4805365905414964,
           3.9974666715060123,
           2.1284932476999523,
           2.1983414083595254,
           4.274018400915905,
           3.547497284029096,
           4.0987845100715745,
           3.215252997142897,
           2.9567010033001235,
           4.17472201134334,
           3.321953380836186,
           3.8909681968746765,
           3.5301310427096277,
           2.5830394897801905,
           2.4978831604328353,
           0.6957673121051615,
           3.0796836937943337,
           2.5959944710089586,
           0.8886657821664556,
           0.6206957354062673,
           1.0270924037515492,
           0.9136165207219941,
           1.2573271630202554,
           3.404669760586937,
           1.8274826678022018,
           0.7777089310724294,
           1.255929852698862,
           1.239717043059688,
           4.121996002836648,
           3.129586164304778,
           3.5909281942423177,
           3.3701384567843884,
           2.545693734541887,
           1.1903704868319855,
           1.8242738616397305,
           1.3871272777262906,
           2.939766654483099,
           2.8631684795989156,
           2.102678043315746,
           4.059330892728203,
           2.501321716480514,
           3.492984624968163,
           2.8131555441596703,
           2.501772738575883,
           0.865246197995253,
           3.0992718348349912,
           2.593312665206195,
           2.9844327278712854,
           2.8082048638273744,
           3.590141845584894,
           2.280782082235467,
           0.49793950884089505,
           2.612832690273868,
           2.9242697549702643,
           3.4816958777537304,
           3.0061648199033852,
           2.651181564569277,
           2.675241584123408,
           3.5148547094390095,
           3.931210483770465,
           2.3446299152737127
          ],
          [
           -1.076613668236337,
           -0.4125399758988974,
           -0.9922018843777407,
           -0.6697027329623431,
           -0.44947985220524556,
           -0.34323124258731247,
           -0.9969315048135278,
           -0.9372027799956673,
           -1.070426958727453,
           -0.5095846923309587,
           -0.6624422512930632,
           -0.8335142647981603,
           -0.9151635626215877,
           -0.7179839396830945,
           -0.9511021759561922,
           -0.7904240433212174,
           -0.6995174132312751,
           -1.039608667234508,
           -0.809244317490858,
           -0.7016487050079007,
           -0.787480746015288,
           -0.5941496635376333,
           -1.026778461291556,
           -1.127417141533787,
           -0.6486594522243866,
           -0.3457922448375817,
           -0.7313369344773035,
           -1.0267275210908176,
           -0.8083185199335527,
           -1.1385303792461363,
           -1.0660131527063539,
           -0.9374297451092612,
           -0.6535000259245973,
           -0.9434679785175235,
           -1.0108507747651565,
           -0.39359518369065827,
           -0.5929709708515267,
           -0.9255161984441833,
           -1.0602708793452558,
           -0.9316106831108735,
           -0.8562727374834789,
           -0.9708979144352576,
           -0.5071764933231752,
           -0.9306211594634571,
           -0.8597280784628031,
           -0.812248023455512,
           -0.7575711663738799,
           -0.8318686840745918,
           -0.8700656394171871,
           -0.9585281088046902,
           -0.8860607714563508,
           -0.7976804560717363,
           -0.9141676660157532,
           -0.774856722294275,
           -0.8778247571739732,
           -0.6418775258589623,
           -0.9971040184757493,
           -0.8382583315426076,
           -0.9721818538332808,
           -0.677542878306519,
           -0.660643303906686,
           -0.6369679891051621,
           -0.6807627305178342,
           -1.1054399158168466,
           -0.7930450001921813,
           -0.5648386503977962,
           -1.0869676215458834,
           -1.1813928358428705,
           -0.5549578016640714,
           -0.6989804715345842,
           -0.6008518964660509,
           -0.9079522111511049,
           -0.7968324426383703,
           -0.5081183720064927,
           -0.7071610712675648,
           -0.6462863159201077,
           -0.7591334654687029,
           -0.552924632808565,
           -0.5220582641526178,
           -0.9703144227555202,
           -0.5684497361216266,
           -0.5232974974709331,
           -1.0776624508087074,
           -0.7449145796170816,
           -1.059708452272581,
           -1.1136821458549713,
           -0.4413492238131582,
           -0.5413666293715177,
           -0.9188868729625504,
           -0.722192925705975,
           -0.9000409883241683,
           -0.8573181698450226,
           -0.4256982372838215,
           -0.9221745916893652,
           -0.6103517495183862,
           -0.8073265753448597,
           -0.9217007616464643,
           -0.7681909731651033,
           -0.9098994170522945,
           -0.8445291848327251,
           1.2051918626766078,
           1.2265446676291727,
           -0.4745126920799158,
           -0.6640837853999935,
           -0.4877168154958646,
           -0.9643182464143457,
           -0.8859630356349784,
           -1.1709326613177407,
           -1.1014758399160327,
           -0.8051945967225439,
           -0.9362601964923951,
           -0.7499617882174517,
           -0.7283613609613113,
           -0.7102767326781851,
           -1.1475508233937506,
           -0.9183580516613299,
           -0.032262536795081585,
           -0.863507885500914,
           -0.7949577723871285,
           -0.7481986492279334,
           -1.0266512898703979,
           -0.5113220944274284,
           -0.7340423737916635,
           -0.5525602305814721,
           -0.40575641686290526
          ],
          [
           0.5420770765361168,
           0.7197707064377886,
           0.2535720500905006,
           0.7882725718374477,
           0.838488339331133,
           0.7509676782503357,
           0.8591984710711487,
           0.08199652021555534,
           0.40074943984426015,
           3.43306967876216,
           0.9493374989764054,
           0.7188486521891904,
           0.5572789878103783,
           0.28619457734855647,
           0.4232447002404552,
           0.678983262450496,
           0.8497756500379787,
           0.1643897812856008,
           1.6339415319890183,
           0.9263108740229751,
           -0.36164868116376075,
           3.378944406869966,
           0.003629795709382434,
           0.32856959091977794,
           1.1070502723936333,
           3.8089851122816776,
           1.112979655665825,
           -0.16565367754059818,
           0.21086792047024003,
           0.4094131162442525,
           -0.30288317408805665,
           0.7911805411036558,
           0.3468710444213222,
           0.7170858241086737,
           -0.16282091960897774,
           3.8571261247223654,
           1.0608757109417437,
           0.4597579549702542,
           0.5319377854727819,
           1.4620210267658422,
           0.6887087042553023,
           0.4626896245183218,
           2.786655579239415,
           0.34339614407702873,
           0.8846798137313906,
           0.686816062939606,
           1.2388881985092661,
           1.2191933167655944,
           0.7072076524111552,
           0.7009303539899615,
           0.6237864234605812,
           1.9651268259612904,
           1.0176734171110728,
           1.266815673989862,
           1.7831607967635894,
           1.5181644538001875,
           1.2370716203583503,
           0.9660712412888037,
           0.8441288022296262,
           0.8508559505492307,
           0.7912727973266473,
           1.1953784801999146,
           1.1956000584862283,
           0.6960208398706325,
           1.0282624486710978,
           1.271592704998562,
           0.15932920688503616,
           0.10231869181047146,
           0.9072337530897505,
           1.45470018968647,
           0.957419921857547,
           0.8775877340791812,
           0.9524708693761655,
           0.8448910877374199,
           0.9292558680435699,
           0.9204003405783697,
           0.8484349349973537,
           0.7561363736533601,
           0.7517758080616391,
           -0.2503306427464429,
           2.7656126053008836,
           3.323857704961161,
           -0.10381341208285148,
           0.029773720573778976,
           -0.1749449238671464,
           -0.23482166065754204,
           0.3576435350082841,
           2.5855080622841746,
           0.7460097563344683,
           0.05376473465033873,
           -0.08650957515158159,
           0.022144967451065273,
           0.8676841429276284,
           0.6792684234714534,
           1.6703536195651296,
           1.0394282764170222,
           0.40048551678111693,
           0.041598861256769946,
           0.25403859812730883,
           -0.02303332988605917,
           1.7715422042962814,
           1.5570927167035147,
           2.4657248852022113,
           1.0629394219668047,
           3.307992608350427,
           1.3864182840355055,
           1.2043724109429623,
           0.12606789107992603,
           -0.14790792565741603,
           1.4441143117420583,
           0.3089506835160806,
           1.5332351669589384,
           0.7003602074534271,
           1.1094076942844828,
           0.7077855626817242,
           -0.18835147381601045,
           1.0042157203736142,
           1.1565563519305389,
           1.4179903089245987,
           2.2828624479702517,
           0.4146661152017755,
           0.825081820214632,
           1.0621431617285702,
           1.2434078173706888,
           3.5397021554463106
          ],
          [
           -0.19147245938854277,
           -0.644632386477301,
           -0.7265852629860943,
           -0.6055397608719656,
           -0.6301238990884397,
           -0.6472778653309651,
           -0.6536524622761094,
           -0.381275888971364,
           -0.8665144592363938,
           -0.4591869471744095,
           -0.5021263103063383,
           -0.5914912680414468,
           -0.7413370689219908,
           -0.5577959409542169,
           -0.7384910730458754,
           -0.5886605556210017,
           -0.5346008929550339,
           -0.14155309112127065,
           -0.5795326145844706,
           -0.5641856791382985,
           0.06229079673287067,
           -0.4616935349873416,
           -0.26860488249430015,
           -0.44283865242016535,
           -0.5313522656978703,
           -0.4318707794975724,
           -0.5330448597334181,
           -0.6219855847463351,
           -0.7304583767229818,
           -0.819592039729232,
           -0.24355694435034508,
           -0.6027911459875099,
           -0.7549367284528816,
           -0.7178782643061303,
           -0.5610481200807074,
           -0.43867176172260974,
           -0.5084951312565441,
           -0.6879104343481919,
           -0.831075054328953,
           -0.6578570393596612,
           -0.7136771403228538,
           -0.7538077799321848,
           -0.458441741596197,
           -0.675677233782533,
           -0.5856106263755875,
           -0.6735432297967755,
           -0.561576780258773,
           -0.6256382566586633,
           -0.6165752889447749,
           -0.6715241107179234,
           -0.7311760972266941,
           -0.5977985346698722,
           -0.7287234015884224,
           -0.5807558825969715,
           -0.669495655250103,
           -0.3276447325120608,
           -0.6950697995433489,
           -0.7040658050211658,
           -0.63122751574471,
           -0.6147906280971267,
           -0.5959369992393512,
           -0.5114315068434763,
           -0.5576424602000051,
           -0.6795458391318294,
           -0.49965115191777565,
           -0.4393430464523326,
           -0.7477355590970688,
           -0.6630360523168427,
           -0.2977563412320811,
           -0.47524846667702986,
           -0.4612397507431084,
           -0.5953518473777657,
           -0.5180216521257429,
           -0.39423221557052174,
           -0.5072812631558099,
           -0.511915583364345,
           -0.5710277366198351,
           -0.6097884138925397,
           -0.6247620202766853,
           -0.5802243195920764,
           -0.46419536941201733,
           -0.47812601005147504,
           -0.6501850640706099,
           -0.36506920489395767,
           -0.6087105569158072,
           -0.5938957045709794,
           -0.5939922967881623,
           -0.45674320872595514,
           -0.6331842347513476,
           -0.49583033066423615,
           -0.6438603477457505,
           -0.6372488689048414,
           -0.41463828533967273,
           -0.6930706567137564,
           -0.4575913510714399,
           -0.6631536982289207,
           -0.7025863408308557,
           -0.5187775414628474,
           -0.7074264534984123,
           -0.6683326749984684,
           -0.52459809521451,
           -0.47406138494637906,
           -0.4720825610896007,
           -0.4453446390473402,
           -0.5026976237474293,
           -0.5792775188440277,
           -0.6244004481617909,
           -0.6022206186399124,
           -0.4397420714555017,
           -0.5709135547641664,
           -0.6029908811873357,
           -0.45407359480000853,
           -0.661574400221807,
           -0.49028280180003486,
           -0.8214390653645957,
           -0.24142425325880054,
           -0.6204636649493126,
           -0.5595969969062256,
           -0.6431306349179542,
           -0.42952144677899884,
           -0.7353654529337784,
           -0.6307661882355091,
           -0.6263441761788526,
           -0.4512658561820398,
           -0.4820478972456408
          ],
          [
           0.2812880121005549,
           -0.22079786311646965,
           0.0847804100600478,
           -0.21759225360462012,
           -0.3967029073018179,
           -0.18891087568651627,
           0.06440652317274931,
           0.6320869084469525,
           -0.5946311265816481,
           -0.42739760022950923,
           -0.3282641201161261,
           -0.2766591246281176,
           -0.14006004539385278,
           -0.16032946910818963,
           0.14788192370745196,
           -0.10960471273189241,
           -0.3490514900993588,
           0.18200576336308225,
           -0.006347014254830293,
           -0.3144416874471019,
           0.8398286040358443,
           -0.33872313289723777,
           0.1996387640160339,
           0.7905144723982271,
           -0.3315285616545066,
           -0.45774012635017597,
           -0.4353542995430971,
           -0.05006377719167023,
           -0.20418373218267907,
           0.6053493985385412,
           0.8079773034421006,
           -0.26219274193722125,
           0.08257849731145893,
           0.020634833998834555,
           2.936378673953951,
           -0.46777183108500875,
           -0.3590632104735165,
           0.0800227155474369,
           0.9560699698826218,
           0.11955946446635397,
           0.303583108422409,
           0.25237776925327365,
           -0.359006580562154,
           0.06808479733619606,
           -0.34066165770273105,
           -0.22270938087953507,
           -0.11550279691530069,
           -0.17610656289357482,
           -0.019919593837029695,
           0.13030382344453123,
           0.006845928882678046,
           -0.19559509042578205,
           0.09404469352055099,
           -0.32921320832773876,
           0.10356477183661554,
           -0.24353399136095946,
           0.13899806169733542,
           -0.12363724209724047,
           -0.005933314541383087,
           -0.4191929267004829,
           -0.4345481438928266,
           -0.40054528833120917,
           -0.304098592908219,
           0.3327263831053426,
           -0.6244851367820208,
           -0.3329724823086873,
           1.3796615180569782,
           0.9304467884176438,
           -0.38315624192079456,
           -0.4666562984736794,
           -0.2757293892472868,
           -0.3377717116779979,
           -0.04448743163739389,
           -0.35522213131075664,
           -0.5009459285088446,
           -0.3440840670248058,
           -0.3559274720191349,
           -0.40382603710576453,
           -0.4026267106239118,
           3.090571017892022,
           -0.5332109907688584,
           -0.37980273910178786,
           2.936119874193738,
           0.81723771213968,
           1.3581172001601731,
           1.6585726883812137,
           -0.08378952024083292,
           -0.3711591506943233,
           0.6988077947468284,
           0.8729975969999262,
           0.046647570343028834,
           -0.021000555174691585,
           -0.25663897185183376,
           0.04208116465707333,
           0.0029037630874709005,
           -0.12090748983025529,
           0.209368486691832,
           -0.08195954229370306,
           -0.03627024505506513,
           0.3167289533375013,
           -0.45666795311291825,
           -0.4610070738907858,
           -0.48820979402532805,
           -0.26037756992253125,
           -0.43856729897364355,
           0.009522379838844406,
           -0.14174144982780554,
           0.37562699967373403,
           1.5206316466785696,
           0.1477726037415239,
           0.22813328437914293,
           -0.2870780368351482,
           -0.1213132404950025,
           -0.4862246613275253,
           1.0533825122109948,
           0.8266106057758597,
           -0.4824626310362045,
           -0.3780888386145014,
           -0.07365159620845424,
           -0.2576255127084702,
           0.1932687673345291,
           -0.35216776403472716,
           -0.18577354639911037,
           -0.3601635520566369,
           -0.45760323778756495
          ],
          [
           -1.0791830186248648,
           -0.7445697519487295,
           -0.11535630475165817,
           -0.6958448695573707,
           -0.651941262101953,
           -0.7856928628872273,
           -0.7610786097054663,
           -0.17164816365948765,
           -0.2214451098848696,
           -0.5860858849788487,
           -0.8033904144929841,
           0.2330049019681927,
           0.2843408968259234,
           -0.4767007665977227,
           0.518964551213159,
           0.14664853908841155,
           -0.5588386683714994,
           -0.1886488799406598,
           -0.5293556343457301,
           -0.5270949033826332,
           -0.7070458004322216,
           -0.48071413674947994,
           -0.489114971839283,
           -1.18698023513416,
           -0.45664649426586246,
           -0.6335601120386677,
           -0.5443147931397372,
           0.04283362738323505,
           -0.4147664700080456,
           -0.5012395172811764,
           -0.7925563125090898,
           0.15188027212757205,
           -0.07613291401209908,
           -0.567986142670996,
           -0.21565431172932456,
           -0.5884515304996637,
           -0.4593727282052106,
           -0.8551024354769238,
           0.1633059353718226,
           -0.3364225807809105,
           0.22516287270276553,
           0.15018502380130677,
           -0.590683049828929,
           -0.6487547806573666,
           -0.3610795960927824,
           -0.6610469905876905,
           -0.49948076550038845,
           -0.5222125269029336,
           -0.6757617529821479,
           -0.3249827650796287,
           0.048602752215733375,
           -0.6304230352875948,
           -0.2607874409546859,
           -0.30804795719053274,
           -0.3132081506795853,
           -0.5253769516240018,
           -0.6511907362601914,
           -0.4922903240239802,
           -0.2852032246734095,
           -0.659609064367765,
           -0.5771159996856055,
           -0.5617198936692588,
           -0.5897178813248904,
           -0.4580097305654769,
           -0.4509409763355384,
           -0.41933443551212923,
           -0.3541285293450332,
           -0.28653715982797484,
           -0.3368249175002315,
           -0.5088787500354561,
           -0.4371036200349564,
           0.023652427298490927,
           -0.3770371515072339,
           -0.3539412031708838,
           -0.38405900427233497,
           -0.462821254957941,
           -0.597644030351546,
           -0.6081050110790382,
           -0.6858102809029274,
           -0.46198904496067866,
           -0.6847068195889475,
           -0.6096754195252525,
           -0.511983183096645,
           -0.7263990848706461,
           -0.8389092124964067,
           -0.73365153192031,
           -0.8470048851158533,
           -0.5440302148510736,
           -0.8962199679257419,
           -0.7668828939182596,
           0.6665626193865037,
           0.750463097812898,
           -0.3086207459893328,
           -0.2766844185961286,
           -0.506297565069017,
           -0.5040138340276875,
           0.17701313107417102,
           1.0401712379063175,
           0.5024564833330175,
           0.9495786478321251,
           -0.8322774154697448,
           -0.7905881369610098,
           -0.7573652112859831,
           -0.35652696244043675,
           -0.6386601449963994,
           -0.6725961356418919,
           -0.754459990829198,
           -0.3026409479750143,
           -0.7847512522191658,
           -0.431992002395106,
           0.36780148735007784,
           -0.8187729959889501,
           -0.7300362100753761,
           -0.43510633046328195,
           -0.6515438283019834,
           -0.8737652204490682,
           -0.5167366583113453,
           -0.04357726744407198,
           -0.5542351997735061,
           -0.41612695840986674,
           -0.06307282506740378,
           -0.696830531474936,
           -0.5215030241774543,
           -0.47239020295111755,
           -0.6081944114860817
          ],
          [
           -0.4535461990183686,
           -0.2561434728137198,
           0.10793766139988821,
           -0.24206957255073885,
           -0.15286908316783748,
           -0.28037545038549966,
           -0.47433964476244617,
           0.9506626858930756,
           0.24193297389449278,
           -0.13121392869409698,
           -0.22649932238083773,
           1.1395237217607481,
           1.0274237441616274,
           0.38931560153027134,
           0.5744946240829844,
           0.4719221587941606,
           -0.10541348884533472,
           0.2891396951812346,
           0.06727797069878808,
           -0.0023994320895113683,
           -0.1152969458681736,
           0.06351098808813777,
           0.14337693052060616,
           -0.6956508941461934,
           0.0814044145391443,
           -0.007086946886900162,
           -0.23559339461592366,
           -0.20128798731074315,
           -0.2390851588324514,
           -0.02994968539233274,
           -0.5238502055525408,
           0.9247869142777309,
           0.36412819274160635,
           -0.04155885721258516,
           0.5863709570907699,
           -0.06721793515551598,
           0.07111882408716834,
           -0.5691075523001962,
           0.6266652079197292,
           0.2864423163627386,
           0.8898991966446497,
           0.7010776309441495,
           -0.08683078701600558,
           -0.004254663669685986,
           -0.1928636264020183,
           -0.1546550698405843,
           0.0846444291262672,
           -0.09707624776229128,
           -0.25047095497688676,
           0.29930981200136936,
           0.7186208088969869,
           -0.20994325482926712,
           0.5024191519420934,
           0.1308376938851884,
           0.2943419174860628,
           0.22370220398207744,
           0.13022224904070392,
           0.04666579832293275,
           -0.03550804027397288,
           -0.1917200443354972,
           -0.06770886835302409,
           -0.0390418912788857,
           -0.02094664457807725,
           -0.11823849315197575,
           -0.18745291027906455,
           0.09128417559006939,
           0.08105935775652429,
           0.02973038320609107,
           0.25471339753419975,
           -0.1471350434115856,
           0.16818670959054072,
           0.9488469420890299,
           0.28618710061483904,
           0.055722905563007664,
           -0.02437037969088057,
           -0.0010069021712310502,
           -0.24743173466848095,
           -0.11484841227178227,
           -0.23143328399874472,
           0.131560664000955,
           -0.020402611344838978,
           -0.07153243273477476,
           0.0052576802544443855,
           -0.3764562341630155,
           -0.2554926954134016,
           -0.199395078002616,
           -0.33465974964957645,
           0.09348368681312295,
           -0.2398137976153037,
           -0.3099966267200439,
           0.25656589382864997,
           0.5824940506094798,
           0.15194725282771784,
           0.2915861952202276,
           -0.015176573926781204,
           0.04592058354245097,
           0.5509873275633459,
           0.7962697052472054,
           0.4366921837137366,
           0.9141310971640307,
           -0.3704684451526274,
           -0.3992811339612524,
           -0.2525607282978052,
           0.16425578742688574,
           -0.1553788256060275,
           -0.028616533113326195,
           -0.17908003847372048,
           0.4516093208632431,
           -0.19247187340043623,
           0.2402949099912957,
           0.20731419778605759,
           -0.4233653095407876,
           -0.27581336663513506,
           -0.11109585168449158,
           -0.060623292951773475,
           -0.5247714889616303,
           0.2515445075393349,
           1.149430165577284,
           0.15626254464311187,
           0.614690542331258,
           0.1715368550659551,
           -0.2241578394113243,
           0.019685298873772208,
           0.12683520243371985,
           -0.0041698941362193235
          ],
          [
           -1.25775287062754,
           -1.4871403485971528,
           -1.3526702443621517,
           -1.4245850490635092,
           -0.9624667981749683,
           -1.341093046694829,
           -1.246515561623086,
           -1.2618582478510674,
           -1.120097952193224,
           -0.813844925590177,
           -0.8795180959671273,
           -1.138234026731404,
           -1.4828951224533122,
           -1.103186017876442,
           -1.2261061151847055,
           -1.0819442813636897,
           -0.9396677539356507,
           -1.60188205436065,
           -1.1830343851891303,
           -0.9596313242206939,
           -1.1915480608855147,
           -0.9083090600843733,
           -1.7209768907109466,
           -1.6166286836381847,
           -0.9417449244732744,
           -0.8311286636651889,
           -0.9584447868169671,
           -1.2864502266294364,
           -1.1076124245682595,
           -1.589062759662105,
           -1.2507123913819636,
           -1.1648808078297073,
           -1.4003133107142163,
           -1.1574474146930647,
           -1.2586645425677356,
           -0.7431954287561856,
           -0.8564053742188764,
           -1.1541168125767194,
           -1.3499346611857401,
           -1.2020759948050141,
           -1.168191427873971,
           -1.2042114713768812,
           -0.8123617779556077,
           -1.0575078515838068,
           -1.1342432825965783,
           -0.9987396820121484,
           -1.1001927468155719,
           -1.1071929130933087,
           -1.0722578280910584,
           -1.2683780288962534,
           -1.1887778564194147,
           -1.2265127702750322,
           -1.2007089140921412,
           -1.0842166679627048,
           -1.212889308079339,
           -0.965621619397156,
           -1.3985974475166398,
           -1.087175466184348,
           -0.9755618224884339,
           -0.8827675282986519,
           -0.907723635257603,
           -0.8565049044020071,
           -0.927792819981182,
           -1.4525621592777818,
           -0.9489175620553403,
           -0.8849479231462636,
           -1.3949670038136093,
           -1.5851476496559511,
           -0.7144878214256856,
           -0.9035143505627774,
           -0.8423045129953951,
           -1.1129693328466066,
           -1.0617767141892192,
           -0.8325425354324795,
           -0.9345995850936187,
           -0.943101517467648,
           -0.9600197931027301,
           -0.9506774836265911,
           -0.9250628832430453,
           -1.0833715101767838,
           -0.8208914904937509,
           -0.8544045002555613,
           -1.1792814809366228,
           -1.0506979753544636,
           -1.4818553630074385,
           -1.3615321428159393,
           -1.292722658202865,
           -0.8157595991015048,
           -1.4732296988902158,
           -1.227597352062034,
           -1.0188054129454642,
           -0.9563629230425148,
           -0.863830333585599,
           -1.2308194628630142,
           -0.9535091663194977,
           -1.1690742556014242,
           -1.1763376637275083,
           -0.8853188278319085,
           -1.179713221654687,
           -0.9690709624673707,
           -1.1031280140733162,
           -1.2004290383730292,
           -0.8841738647806063,
           -0.8599329682982189,
           -0.8613021125033085,
           -1.3125995536286357,
           -1.2068535609952962,
           -1.651293167728698,
           -1.3995325961888136,
           -1.180430924240275,
           -1.33378999954934,
           -1.1741263973163898,
           -1.097938459288481,
           -0.9591048195452193,
           -1.611678035257535,
           -1.0924894023951122,
           -1.0163682704377373,
           -1.1653228369328803,
           -1.1737228158748387,
           -1.0451098080770282,
           -1.4050044411272553,
           -0.9647589747820675,
           -1.0754770699803746,
           -0.9035318572245867,
           -0.793792751815917
          ],
          [
           -0.858218885211482,
           -0.5551735867125794,
           -0.5529852612670556,
           -0.702549135224598,
           -0.511615949992311,
           -0.732616958619362,
           -0.6593064700355492,
           -0.5442115919399918,
           -0.6626019597453345,
           -0.6176813944423777,
           -0.7295017824739628,
           -0.7323904499973051,
           -0.7921635290680717,
           -0.5330168599008437,
           -0.45922594082654355,
           -0.38265897515589026,
           -0.5272250282071775,
           -0.7311492259594248,
           -0.5410358904257159,
           -0.49886149980810834,
           -0.7527833185088671,
           -0.5939530681705828,
           -0.9891193308067133,
           -0.7761272517218086,
           -0.5190886643684026,
           -0.6965164871224374,
           -0.678191987845609,
           -0.5911379733035231,
           -0.4248886935143601,
           -0.619301183889834,
           -0.7252349463418819,
           -0.6027911459875099,
           -0.5457447612160515,
           -0.6151847041459992,
           -0.5269040911593948,
           -0.5647720622930056,
           -0.47917115934735455,
           -0.4525830816887374,
           -0.6686851872770434,
           -0.6208633037176055,
           -0.3438243993866701,
           -0.5448663964256444,
           -0.6275899654274543,
           -0.5267843625859602,
           -0.6984727695868292,
           -0.5189498660633299,
           -0.612418353086275,
           -0.6708302845334533,
           -0.4763764448595175,
           -0.619069335452124,
           -0.6071251915915411,
           -0.6692912616255658,
           -0.5316819769419977,
           -0.6523704573982494,
           -0.6504523562856963,
           -0.620849840571187,
           -0.5674548571614993,
           -0.47094573128543826,
           -0.842898052773674,
           -0.5273109647728993,
           -0.5007863903843036,
           -0.49046535161097476,
           -0.6171547030871001,
           -0.799638064243593,
           -0.8061854196515754,
           -0.5026181408786168,
           -0.8286394896866364,
           -0.6740513987587526,
           -0.4996106519508583,
           -0.7789279116141963,
           -0.49099141249243833,
           -0.7137254642816823,
           -0.4444945586985191,
           -0.5124269484769742,
           -0.7424805619243963,
           -0.5786150046495159,
           -0.6011477459063561,
           -0.4811842687215539,
           -0.5039569833826475,
           -0.6163637511628047,
           -0.6484678478397032,
           -0.6749231235755809,
           -0.7030269597371259,
           -0.7025140966477443,
           -0.6307730745678609,
           -0.5686752436796364,
           -0.7643098308444826,
           -0.6680834336612094,
           -0.8356918588714068,
           -0.7369231386921471,
           -0.39233041629306364,
           -0.5333197169195277,
           -0.5171798397932803,
           -0.5272703019056428,
           -0.8180911319474461,
           -0.5191703726211538,
           -0.441032436335073,
           -0.4838688475229368,
           -0.518016261786716,
           -0.2568604042164642,
           -0.7686246248985628,
           -0.9659349323744102,
           -0.6912361922161969,
           -0.535749891934185,
           -0.6347201701664932,
           -0.659044649550376,
           -0.6091474422329828,
           -0.6723581458917669,
           -0.5844334786549833,
           -0.5233342412381643,
           -0.6157774068114353,
           -0.8766976544712264,
           -0.49638534939865436,
           -0.7238038675865505,
           -0.7617551979903162,
           -0.7234654483631502,
           -0.5494270671645324,
           -0.7356557185748727,
           -0.5904591105702526,
           -1.0054844466516792,
           -0.5230742791019499,
           -0.5081584077848356,
           -0.5133489095287335,
           -0.5800047996992497,
           -0.5950667239993372
          ],
          [
           -0.45868489979542404,
           -0.6957740429861541,
           -0.6034957399485684,
           -0.7047088986610203,
           -0.35508256848484593,
           -0.6200264338281858,
           -0.33945117393009583,
           -0.3742234480966025,
           -0.2436663438037671,
           -0.18303314871403603,
           -0.09439540452864817,
           -0.3269963124400988,
           -0.3677625868482956,
           -0.410122629626033,
           -0.49313606610084726,
           -0.5547558135018357,
           -0.26104911970374356,
           -0.8825028678904387,
           -0.4872498422970921,
           -0.26291636162016196,
           -0.5893899780695405,
           -0.41500213531284175,
           -0.7354873556136158,
           -0.7184172321445583,
           -0.2379748029411381,
           -0.1397531991088805,
           -0.16751979212135612,
           -0.6003567997117198,
           -0.4162240701929549,
           -0.7053381840680916,
           -0.5839875360874476,
           -0.2278571493638571,
           -0.7201506656970333,
           -0.3547404855354374,
           -0.7143368393958632,
           -0.15280637445668965,
           -0.2598430497976281,
           -0.37565957175994386,
           -0.5198278091461263,
           -0.2818910741678061,
           -0.3494782927859328,
           -0.3864472690976044,
           -0.2171064376686509,
           -0.5455130256295543,
           -0.3280330302244687,
           -0.3252062348908948,
           -0.3309835857622631,
           -0.3133865038056835,
           -0.4909431870306126,
           -0.41917592951619415,
           -0.2741576079471971,
           -0.4243800865193927,
           -0.3403445903381164,
           -0.19236648478873072,
           -0.3152730867118703,
           -0.22723624995209693,
           -0.6318108166434635,
           -0.3791536711122497,
           -0.40645960017702765,
           -0.3035407549446402,
           -0.2648673494664219,
           -0.25369538532592456,
           -0.2670391448085438,
           -0.49708613113341543,
           -0.14984412355045348,
           -0.3164696536272375,
           -0.5458520299747294,
           -0.8075771687693395,
           -0.09477505235172272,
           -0.11592130736035165,
           -0.27472498532122247,
           -0.17944165729929365,
           -0.47237563774978186,
           -0.31760942320358015,
           -0.2782589156680146,
           -0.20763071307171263,
           -0.2526873080006961,
           -0.3265852521978939,
           -0.3467443874314552,
           -0.5212145611765887,
           -0.10080542552309858,
           -0.21567966814442335,
           -0.45338287572288044,
           -0.5940132974336324,
           -0.7103199823942004,
           -0.6409799463069759,
           -0.6157372398154787,
           -0.1955808357222867,
           -0.6055355923438117,
           -0.5569981642508826,
           -0.5110948409143595,
           -0.3865163977966695,
           -0.34322259564316954,
           -0.4302637679198305,
           -0.29080946677670616,
           -0.41653202197595435,
           -0.4318857774643012,
           -0.4517161031045981,
           -0.4988725444317883,
           -0.4940828378062652,
           -0.5259755474022689,
           -0.6502140020298778,
           -0.21191126445980749,
           -0.25295925894171417,
           -0.2632718086600155,
           -0.3468735897056945,
           -0.45002538984633245,
           -0.9648696936553153,
           -0.712531257921944,
           -0.5452282578052745,
           -0.7120042086235701,
           -0.4106301009383013,
           -0.3991876451947829,
           -0.21418685877561186,
           -0.8065878878888629,
           -0.5774056503924965,
           -0.4262441770568482,
           -0.24017617330739452,
           -0.42825431217011856,
           -0.250370164841857,
           -0.6275718161157486,
           -0.37638787451080347,
           -0.35409967153608807,
           -0.3206479276422434,
           -0.13034658696858378
          ],
          [
           -0.3353560811460942,
           -0.47650614566073507,
           -0.7981663454822121,
           -0.5084403963761489,
           -0.8627546312772709,
           -0.4610075442544966,
           -0.9379682810365124,
           -0.7774285160398635,
           -0.8351433054685385,
           -0.7766927416606695,
           -0.7278224953826214,
           -0.9069975702201151,
           -0.8907668617514689,
           -0.9269792192746769,
           -0.9803922709351873,
           -0.8798780727516956,
           -0.7918476089027849,
           -0.41082596001991545,
           -0.8914216996865634,
           -0.8301780751081995,
           1.6665736721661055,
           -0.7558985017784533,
           -0.09755075968965292,
           1.032472994845965,
           -0.8363509506668125,
           -0.6487841081952883,
           -0.9085045605851737,
           -0.505686543904469,
           -0.9420533368989797,
           -0.6540791905438232,
           0.5973228392562421,
           -0.9839518044767986,
           -0.6408629015640743,
           -0.9816363237424195,
           -0.6607846256140152,
           -0.6260533848326459,
           -0.7764136322722104,
           -0.9016471262518919,
           -1.1145721323573394,
           -1.0209437039946525,
           -1.0885229299752694,
           -1.0305689955962285,
           -0.7836902898046874,
           -0.9149359041644471,
           -0.9087510182012544,
           -0.9109717747693916,
           -0.8730889207779818,
           -0.9198960026411312,
           -0.8978440779760195,
           -0.8997309825846872,
           -1.013478735226931,
           -0.7990243043227832,
           -0.942782398295474,
           -0.9369046428636149,
           -0.9497246826314544,
           -0.8311266934489402,
           -0.8661981463476629,
           -0.9358453970873231,
           -1.0942832215006872,
           -0.8630950681252612,
           -0.8762580365204623,
           -0.7880718946213889,
           -0.8451862738841696,
           -0.9023973908856174,
           -0.9085900678523718,
           -0.7961632748859594,
           -0.7906334571771185,
           -0.6753930114664211,
           -0.7201227122335919,
           -0.9112338766829751,
           -0.7533386743321815,
           -0.9968392592233599,
           -0.9147225273347716,
           -0.71970441111095,
           -0.9751457268341966,
           -0.8377486430480233,
           -0.8636278003959657,
           -0.854840969964925,
           -0.8317685131590871,
           -0.5731043121781418,
           -0.772265099526612,
           -0.7807749757618445,
           -0.5831165041861858,
           0.21104041414138233,
           0.2337120845558044,
           0.07027333926183389,
           -0.156522605539098,
           -0.7745395221719841,
           -0.18401833906315943,
           0.248836029789249,
           -0.8288117064511322,
           -0.964503587688884,
           -0.769662742746847,
           -0.8635628950344784,
           -0.7734437691163338,
           -0.7924050806215273,
           -0.9481019210463099,
           -0.923442796213653,
           -0.8328741072242325,
           -0.8923811146618128,
           -0.8018284723719128,
           -0.7725377315508068,
           -0.8149519517231465,
           -0.767911274108161,
           -0.7586401694777272,
           -0.7607213685483968,
           -0.80353906353388,
           -0.10092759440572723,
           0.11953861545196463,
           -0.9067808249685619,
           -0.6779068069593043,
           -0.8025458753502983,
           -0.8244299534028919,
           -0.9531244020067842,
           -0.7153592262522186,
           0.5277655336517193,
           -0.9007641256351172,
           -0.9888449278316889,
           -0.8211956320993664,
           -0.6309968759980276,
           -0.7643040918929592,
           -0.8078431019195028,
           -0.8365056120543707,
           -0.7790063952731766,
           -0.6945353629793596
          ],
          [
           -0.5524661889766852,
           -0.6047512781905807,
           -0.6689529655771477,
           -0.7947890319884647,
           -0.5335572752956738,
           -0.8217844777893756,
           -0.5042251143480567,
           0.07688958027176253,
           -0.42862543789341384,
           -0.3151656985155016,
           -0.36162595699744177,
           0.08513941277049775,
           0.037324300515969834,
           -0.4208852607906295,
           -0.4729514677232855,
           -0.612726868107374,
           -0.46082270676190706,
           -0.7739308967190226,
           -0.6640722957626449,
           -0.4229084738605498,
           -0.6196713693478713,
           -0.48356476957171257,
           -0.5952864963387192,
           -1.223247541015276,
           -0.39484670328058014,
           -0.35586526485098485,
           -0.48516099575822796,
           -0.7620408321016313,
           -0.6877830824203599,
           -0.8851449697334105,
           -0.7404141184036792,
           -0.07806145533912842,
           -0.6130068747478676,
           -0.5322084968989462,
           -0.5623060579883347,
           -0.28695198832139585,
           -0.37132481082258584,
           -0.6487434567962956,
           -0.41893368288708116,
           -0.3399849405094047,
           -0.2660650083500573,
           -0.31618281164114154,
           -0.37747698368538285,
           -0.6644400359563766,
           -0.5614140435432214,
           -0.5471615972417352,
           -0.5170258998642533,
           -0.5661306427868908,
           -0.7693083065260908,
           -0.46675197327876017,
           -0.21670552149466957,
           -0.6720409818930925,
           -0.3582760690464436,
           -0.2965032747520568,
           -0.40027962004093853,
           -0.33787580677188295,
           -0.6157218267729725,
           -0.5048289833331913,
           -0.9066949611396892,
           -0.5274075562303792,
           -0.4391926024390352,
           -0.40768593540314807,
           -0.5260605070924257,
           -0.6851171279256741,
           -0.4319100240150364,
           -0.3758684359625421,
           -0.6613753169096002,
           -0.8514267209515576,
           -0.22174792522321157,
           -0.4711537615176207,
           -0.309574757907394,
           0.030276221746183007,
           -0.5907098458293005,
           -0.23726029442973562,
           -0.49603604415744645,
           -0.4396069684490306,
           -0.5252007297608983,
           -0.4916174512749992,
           -0.540754037722508,
           -0.5735358277789864,
           -0.30369750302364457,
           -0.35691585214259575,
           -0.6384988756058997,
           -0.6115104399690139,
           -0.8040095297410871,
           -0.7846367801970537,
           -0.7570258105200613,
           -0.2769293561880674,
           -0.6978222771365324,
           -0.6100102866926427,
           -0.4313474181163006,
           -0.5805355718684692,
           -0.3860404095983739,
           -0.5196674854284059,
           -0.6734484358334293,
           -0.5737612069748095,
           -0.4479241017446296,
           -0.05531869691850813,
           -0.5177910415825404,
           -0.2660505099452294,
           -0.653063636093934,
           -0.7311184977077518,
           -0.4675905007741698,
           -0.24011432358582466,
           -0.49495123255642703,
           -0.6872025278363402,
           -0.7099038914914182,
           -0.6079294871371563,
           -0.8799131942261228,
           -0.6030264529170722,
           -0.5611887781854714,
           -0.8037783148924743,
           -0.7484030947419741,
           -0.4046346791960171,
           -0.8796713138878638,
           -0.6948090715841231,
           -0.3783962775935329,
           -0.0947181342144885,
           -0.6362774626050562,
           -0.24478912802138528,
           -0.7109519679431182,
           -0.5677759933374695,
           -0.551936770907718,
           -0.32497528708820006,
           -0.264460249476842
          ],
          [
           -1.302716502426775,
           -0.7176695534180789,
           -1.0537806673235455,
           -0.8179614938584117,
           -0.7497939946519077,
           -0.7510978144660745,
           -1.1221273909154097,
           -1.1288346216960832,
           -1.1017981124953085,
           -0.40626931476003286,
           -0.8988858737539314,
           -0.9786831189344991,
           -1.1515066023008642,
           -0.9219733443143995,
           -0.9034216691220853,
           -0.9510174870195887,
           -0.6920243161960358,
           -0.6067588219021068,
           -0.735903683340685,
           -0.7192278341023361,
           -0.7376426228697017,
           -0.5484903895401487,
           -1.2082682467606778,
           -0.15164130592945238,
           -0.6520027435392057,
           -0.7748113244993439,
           -0.7519539690500011,
           -1.2990374703790895,
           -0.8965843089086151,
           -0.9666516512459041,
           -0.7364744859601593,
           -1.0150851138049786,
           -0.8952359854662153,
           -0.9051339412513411,
           -0.8437247384661003,
           -0.6061968669147737,
           -0.6245243246423653,
           -0.994194028888367,
           -1.0607847713295973,
           -1.1522029586060945,
           -0.9783821494701521,
           -0.9916772294764151,
           -0.4766749101838981,
           -1.0284784238662361,
           -0.8758038903445806,
           -0.8471578773124712,
           -0.6523495062253233,
           -0.780530030844034,
           -0.7950057819176239,
           -0.9429329912064233,
           -0.9555759402050943,
           -0.9104189870403301,
           -0.9899588897302116,
           -0.837601602051358,
           -0.8940287690939879,
           -0.4220379603564507,
           -0.9375016241827937,
           -0.8970745426443677,
           -1.1851198791079274,
           -0.7454466729148354,
           -0.7542619709375915,
           -0.6116393108895003,
           -0.7537959970791116,
           -0.6817124514405468,
           -0.943253588150429,
           -0.5047273106928263,
           -0.9300516259372803,
           -0.9177306331884381,
           -0.5381783490360837,
           -0.6433998834691611,
           -0.5633845863755904,
           -0.9458787761338578,
           -0.7044547789499387,
           -0.5940570053906916,
           -0.8032997745352631,
           -0.6772479540270875,
           -0.7718941567791192,
           -0.7735091247312194,
           -0.7621103568098693,
           -0.8203627514620504,
           -0.7284090190657432,
           -0.474110766725301,
           -0.8690047089460544,
           -0.26110470189272245,
           -0.5916523578633318,
           -0.6330418516019669,
           -0.7818771739798515,
           -0.512285515775055,
           -0.6332465064684816,
           -0.4376584726002011,
           -0.9177136830019457,
           -0.9379107498440779,
           -0.5212878219439641,
           -0.9179003103742143,
           -0.7162508663161485,
           -0.8538728436916782,
           -0.94209705081813,
           -0.9427344428646562,
           -1.0810667722257656,
           -0.8613248953025374,
           -0.5783912280206797,
           -0.6387713343144812,
           -0.7560396852912658,
           -0.6007250593186957,
           -0.5339725651938607,
           -0.7677811247757135,
           -0.8661870563392682,
           -1.3139262246296612,
           -0.6137237461419331,
           -0.6727257533646616,
           -0.8124931856437381,
           -0.6721126904699953,
           -0.8355517042614569,
           -0.6287579459935632,
           -0.7343977657981768,
           -0.5892483367144414,
           -0.7427416302444517,
           -1.062621915959503,
           -0.8227620714851717,
           -1.24993385938834,
           -1.0397518899397566,
           -0.7393164553969257,
           -0.7447607312406893,
           -0.547264909154183,
           -0.6713280257901493
          ],
          [
           0.9506037883120219,
           0.9166739038220272,
           1.4131810503373377,
           0.7782386708724027,
           0.22335646652541652,
           0.4253078512113753,
           1.1176673972169695,
           0.30135175018227517,
           1.5490643808884628,
           0.03548630528525807,
           0.2562397401434346,
           0.8640175063255292,
           0.9623658751746437,
           0.1635506408217596,
           0.905028636181323,
           0.4796415420445065,
           0.48663887051140065,
           0.5648837411695665,
           0.30869180282388786,
           0.4335019425819585,
           -0.28152916673984385,
           0.06503460218277934,
           1.4101756330950757,
           0.027312699732113057,
           0.3174495410806147,
           0.16678711448082043,
           1.2291507701622426,
           2.7311852361119824,
           0.8822142723030418,
           0.7868550537035216,
           -0.03834844265994053,
           1.1784789091462142,
           0.7691955875665434,
           0.6981850962562213,
           -0.10890929499637897,
           0.024133459058603382,
           0.09906209926283663,
           0.8630367792372862,
           0.382909110013751,
           0.41715351563133546,
           0.2847123213625322,
           0.7172640136054433,
           -0.07334230913885864,
           0.5756315658175951,
           1.6005009135228667,
           0.3729043031955953,
           0.3015013069429445,
           0.7631009762477176,
           0.35833175768881476,
           0.759374192756282,
           0.7429325593708991,
           0.6774721063966547,
           0.48691425295352236,
           0.9211791448867089,
           0.3382504878392354,
           0.05558354654680778,
           0.2845302882531409,
           0.28780813928116544,
           0.6768203537995469,
           0.24377864028853632,
           0.13793608413538302,
           0.06941346865570006,
           0.24044336418887308,
           1.0098701085905506,
           1.1574010537030757,
           0.15102498546281337,
           0.5008190534433271,
           0.8678146583280666,
           0.019300181559447252,
           1.0005235485624937,
           0.10003942503120607,
           0.8916900061291063,
           0.08544333144574733,
           0.20861914625874373,
           1.364334974923911,
           0.48155035973289056,
           0.7467475540088876,
           0.18344665139041755,
           0.2740495939468152,
           -0.13187961031462286,
           0.13224732485579935,
           0.01675272989947729,
           -0.015235490821351887,
           -0.2987837337017186,
           -0.005189733806670319,
           -0.033693021103198766,
           0.5284966587943413,
           -0.054148813291442006,
           -0.09851927143805446,
           -0.230520053828551,
           1.736813176299435,
           1.393304249387854,
           0.12208538257851627,
           0.5781104323462128,
           -0.00890380394224476,
           0.4499837424834255,
           0.5226858927748358,
           0.31351921405186295,
           1.7963465563219536,
           0.7276579666380021,
           0.05806418020757361,
           0.27889838359351654,
           0.00400219201303534,
           0.2825735178174275,
           0.14147713106985113,
           0.6117926179899299,
           0.4098207172445176,
           1.1512175626564511,
           -0.03194109408354826,
           0.20913610889062628,
           1.3825270464933723,
           0.6477273559054169,
           0.39350526752151466,
           1.0543024183946161,
           0.48920526261595776,
           -0.24829593544560807,
           0.0672791925848652,
           0.8853420830743134,
           0.42283136712252095,
           0.47237410340922936,
           1.3290544803839999,
           0.18907634370206433,
           0.30559393470155316,
           0.11812354460172819,
           0.045383353802250524
          ]
         ]
        }
       ],
       "layout": {
        "height": 700,
        "template": {
         "data": {
          "bar": [
           {
            "error_x": {
             "color": "#2a3f5f"
            },
            "error_y": {
             "color": "#2a3f5f"
            },
            "marker": {
             "line": {
              "color": "#E5ECF6",
              "width": 0.5
             },
             "pattern": {
              "fillmode": "overlay",
              "size": 10,
              "solidity": 0.2
             }
            },
            "type": "bar"
           }
          ],
          "barpolar": [
           {
            "marker": {
             "line": {
              "color": "#E5ECF6",
              "width": 0.5
             },
             "pattern": {
              "fillmode": "overlay",
              "size": 10,
              "solidity": 0.2
             }
            },
            "type": "barpolar"
           }
          ],
          "carpet": [
           {
            "aaxis": {
             "endlinecolor": "#2a3f5f",
             "gridcolor": "white",
             "linecolor": "white",
             "minorgridcolor": "white",
             "startlinecolor": "#2a3f5f"
            },
            "baxis": {
             "endlinecolor": "#2a3f5f",
             "gridcolor": "white",
             "linecolor": "white",
             "minorgridcolor": "white",
             "startlinecolor": "#2a3f5f"
            },
            "type": "carpet"
           }
          ],
          "choropleth": [
           {
            "colorbar": {
             "outlinewidth": 0,
             "ticks": ""
            },
            "type": "choropleth"
           }
          ],
          "contour": [
           {
            "colorbar": {
             "outlinewidth": 0,
             "ticks": ""
            },
            "colorscale": [
             [
              0,
              "#0d0887"
             ],
             [
              0.1111111111111111,
              "#46039f"
             ],
             [
              0.2222222222222222,
              "#7201a8"
             ],
             [
              0.3333333333333333,
              "#9c179e"
             ],
             [
              0.4444444444444444,
              "#bd3786"
             ],
             [
              0.5555555555555556,
              "#d8576b"
             ],
             [
              0.6666666666666666,
              "#ed7953"
             ],
             [
              0.7777777777777778,
              "#fb9f3a"
             ],
             [
              0.8888888888888888,
              "#fdca26"
             ],
             [
              1,
              "#f0f921"
             ]
            ],
            "type": "contour"
           }
          ],
          "contourcarpet": [
           {
            "colorbar": {
             "outlinewidth": 0,
             "ticks": ""
            },
            "type": "contourcarpet"
           }
          ],
          "heatmap": [
           {
            "colorbar": {
             "outlinewidth": 0,
             "ticks": ""
            },
            "colorscale": [
             [
              0,
              "#0d0887"
             ],
             [
              0.1111111111111111,
              "#46039f"
             ],
             [
              0.2222222222222222,
              "#7201a8"
             ],
             [
              0.3333333333333333,
              "#9c179e"
             ],
             [
              0.4444444444444444,
              "#bd3786"
             ],
             [
              0.5555555555555556,
              "#d8576b"
             ],
             [
              0.6666666666666666,
              "#ed7953"
             ],
             [
              0.7777777777777778,
              "#fb9f3a"
             ],
             [
              0.8888888888888888,
              "#fdca26"
             ],
             [
              1,
              "#f0f921"
             ]
            ],
            "type": "heatmap"
           }
          ],
          "heatmapgl": [
           {
            "colorbar": {
             "outlinewidth": 0,
             "ticks": ""
            },
            "colorscale": [
             [
              0,
              "#0d0887"
             ],
             [
              0.1111111111111111,
              "#46039f"
             ],
             [
              0.2222222222222222,
              "#7201a8"
             ],
             [
              0.3333333333333333,
              "#9c179e"
             ],
             [
              0.4444444444444444,
              "#bd3786"
             ],
             [
              0.5555555555555556,
              "#d8576b"
             ],
             [
              0.6666666666666666,
              "#ed7953"
             ],
             [
              0.7777777777777778,
              "#fb9f3a"
             ],
             [
              0.8888888888888888,
              "#fdca26"
             ],
             [
              1,
              "#f0f921"
             ]
            ],
            "type": "heatmapgl"
           }
          ],
          "histogram": [
           {
            "marker": {
             "pattern": {
              "fillmode": "overlay",
              "size": 10,
              "solidity": 0.2
             }
            },
            "type": "histogram"
           }
          ],
          "histogram2d": [
           {
            "colorbar": {
             "outlinewidth": 0,
             "ticks": ""
            },
            "colorscale": [
             [
              0,
              "#0d0887"
             ],
             [
              0.1111111111111111,
              "#46039f"
             ],
             [
              0.2222222222222222,
              "#7201a8"
             ],
             [
              0.3333333333333333,
              "#9c179e"
             ],
             [
              0.4444444444444444,
              "#bd3786"
             ],
             [
              0.5555555555555556,
              "#d8576b"
             ],
             [
              0.6666666666666666,
              "#ed7953"
             ],
             [
              0.7777777777777778,
              "#fb9f3a"
             ],
             [
              0.8888888888888888,
              "#fdca26"
             ],
             [
              1,
              "#f0f921"
             ]
            ],
            "type": "histogram2d"
           }
          ],
          "histogram2dcontour": [
           {
            "colorbar": {
             "outlinewidth": 0,
             "ticks": ""
            },
            "colorscale": [
             [
              0,
              "#0d0887"
             ],
             [
              0.1111111111111111,
              "#46039f"
             ],
             [
              0.2222222222222222,
              "#7201a8"
             ],
             [
              0.3333333333333333,
              "#9c179e"
             ],
             [
              0.4444444444444444,
              "#bd3786"
             ],
             [
              0.5555555555555556,
              "#d8576b"
             ],
             [
              0.6666666666666666,
              "#ed7953"
             ],
             [
              0.7777777777777778,
              "#fb9f3a"
             ],
             [
              0.8888888888888888,
              "#fdca26"
             ],
             [
              1,
              "#f0f921"
             ]
            ],
            "type": "histogram2dcontour"
           }
          ],
          "mesh3d": [
           {
            "colorbar": {
             "outlinewidth": 0,
             "ticks": ""
            },
            "type": "mesh3d"
           }
          ],
          "parcoords": [
           {
            "line": {
             "colorbar": {
              "outlinewidth": 0,
              "ticks": ""
             }
            },
            "type": "parcoords"
           }
          ],
          "pie": [
           {
            "automargin": true,
            "type": "pie"
           }
          ],
          "scatter": [
           {
            "marker": {
             "colorbar": {
              "outlinewidth": 0,
              "ticks": ""
             }
            },
            "type": "scatter"
           }
          ],
          "scatter3d": [
           {
            "line": {
             "colorbar": {
              "outlinewidth": 0,
              "ticks": ""
             }
            },
            "marker": {
             "colorbar": {
              "outlinewidth": 0,
              "ticks": ""
             }
            },
            "type": "scatter3d"
           }
          ],
          "scattercarpet": [
           {
            "marker": {
             "colorbar": {
              "outlinewidth": 0,
              "ticks": ""
             }
            },
            "type": "scattercarpet"
           }
          ],
          "scattergeo": [
           {
            "marker": {
             "colorbar": {
              "outlinewidth": 0,
              "ticks": ""
             }
            },
            "type": "scattergeo"
           }
          ],
          "scattergl": [
           {
            "marker": {
             "colorbar": {
              "outlinewidth": 0,
              "ticks": ""
             }
            },
            "type": "scattergl"
           }
          ],
          "scattermapbox": [
           {
            "marker": {
             "colorbar": {
              "outlinewidth": 0,
              "ticks": ""
             }
            },
            "type": "scattermapbox"
           }
          ],
          "scatterpolar": [
           {
            "marker": {
             "colorbar": {
              "outlinewidth": 0,
              "ticks": ""
             }
            },
            "type": "scatterpolar"
           }
          ],
          "scatterpolargl": [
           {
            "marker": {
             "colorbar": {
              "outlinewidth": 0,
              "ticks": ""
             }
            },
            "type": "scatterpolargl"
           }
          ],
          "scatterternary": [
           {
            "marker": {
             "colorbar": {
              "outlinewidth": 0,
              "ticks": ""
             }
            },
            "type": "scatterternary"
           }
          ],
          "surface": [
           {
            "colorbar": {
             "outlinewidth": 0,
             "ticks": ""
            },
            "colorscale": [
             [
              0,
              "#0d0887"
             ],
             [
              0.1111111111111111,
              "#46039f"
             ],
             [
              0.2222222222222222,
              "#7201a8"
             ],
             [
              0.3333333333333333,
              "#9c179e"
             ],
             [
              0.4444444444444444,
              "#bd3786"
             ],
             [
              0.5555555555555556,
              "#d8576b"
             ],
             [
              0.6666666666666666,
              "#ed7953"
             ],
             [
              0.7777777777777778,
              "#fb9f3a"
             ],
             [
              0.8888888888888888,
              "#fdca26"
             ],
             [
              1,
              "#f0f921"
             ]
            ],
            "type": "surface"
           }
          ],
          "table": [
           {
            "cells": {
             "fill": {
              "color": "#EBF0F8"
             },
             "line": {
              "color": "white"
             }
            },
            "header": {
             "fill": {
              "color": "#C8D4E3"
             },
             "line": {
              "color": "white"
             }
            },
            "type": "table"
           }
          ]
         },
         "layout": {
          "annotationdefaults": {
           "arrowcolor": "#2a3f5f",
           "arrowhead": 0,
           "arrowwidth": 1
          },
          "autotypenumbers": "strict",
          "coloraxis": {
           "colorbar": {
            "outlinewidth": 0,
            "ticks": ""
           }
          },
          "colorscale": {
           "diverging": [
            [
             0,
             "#8e0152"
            ],
            [
             0.1,
             "#c51b7d"
            ],
            [
             0.2,
             "#de77ae"
            ],
            [
             0.3,
             "#f1b6da"
            ],
            [
             0.4,
             "#fde0ef"
            ],
            [
             0.5,
             "#f7f7f7"
            ],
            [
             0.6,
             "#e6f5d0"
            ],
            [
             0.7,
             "#b8e186"
            ],
            [
             0.8,
             "#7fbc41"
            ],
            [
             0.9,
             "#4d9221"
            ],
            [
             1,
             "#276419"
            ]
           ],
           "sequential": [
            [
             0,
             "#0d0887"
            ],
            [
             0.1111111111111111,
             "#46039f"
            ],
            [
             0.2222222222222222,
             "#7201a8"
            ],
            [
             0.3333333333333333,
             "#9c179e"
            ],
            [
             0.4444444444444444,
             "#bd3786"
            ],
            [
             0.5555555555555556,
             "#d8576b"
            ],
            [
             0.6666666666666666,
             "#ed7953"
            ],
            [
             0.7777777777777778,
             "#fb9f3a"
            ],
            [
             0.8888888888888888,
             "#fdca26"
            ],
            [
             1,
             "#f0f921"
            ]
           ],
           "sequentialminus": [
            [
             0,
             "#0d0887"
            ],
            [
             0.1111111111111111,
             "#46039f"
            ],
            [
             0.2222222222222222,
             "#7201a8"
            ],
            [
             0.3333333333333333,
             "#9c179e"
            ],
            [
             0.4444444444444444,
             "#bd3786"
            ],
            [
             0.5555555555555556,
             "#d8576b"
            ],
            [
             0.6666666666666666,
             "#ed7953"
            ],
            [
             0.7777777777777778,
             "#fb9f3a"
            ],
            [
             0.8888888888888888,
             "#fdca26"
            ],
            [
             1,
             "#f0f921"
            ]
           ]
          },
          "colorway": [
           "#636efa",
           "#EF553B",
           "#00cc96",
           "#ab63fa",
           "#FFA15A",
           "#19d3f3",
           "#FF6692",
           "#B6E880",
           "#FF97FF",
           "#FECB52"
          ],
          "font": {
           "color": "#2a3f5f"
          },
          "geo": {
           "bgcolor": "white",
           "lakecolor": "white",
           "landcolor": "#E5ECF6",
           "showlakes": true,
           "showland": true,
           "subunitcolor": "white"
          },
          "hoverlabel": {
           "align": "left"
          },
          "hovermode": "closest",
          "mapbox": {
           "style": "light"
          },
          "paper_bgcolor": "white",
          "plot_bgcolor": "#E5ECF6",
          "polar": {
           "angularaxis": {
            "gridcolor": "white",
            "linecolor": "white",
            "ticks": ""
           },
           "bgcolor": "#E5ECF6",
           "radialaxis": {
            "gridcolor": "white",
            "linecolor": "white",
            "ticks": ""
           }
          },
          "scene": {
           "xaxis": {
            "backgroundcolor": "#E5ECF6",
            "gridcolor": "white",
            "gridwidth": 2,
            "linecolor": "white",
            "showbackground": true,
            "ticks": "",
            "zerolinecolor": "white"
           },
           "yaxis": {
            "backgroundcolor": "#E5ECF6",
            "gridcolor": "white",
            "gridwidth": 2,
            "linecolor": "white",
            "showbackground": true,
            "ticks": "",
            "zerolinecolor": "white"
           },
           "zaxis": {
            "backgroundcolor": "#E5ECF6",
            "gridcolor": "white",
            "gridwidth": 2,
            "linecolor": "white",
            "showbackground": true,
            "ticks": "",
            "zerolinecolor": "white"
           }
          },
          "shapedefaults": {
           "line": {
            "color": "#2a3f5f"
           }
          },
          "ternary": {
           "aaxis": {
            "gridcolor": "white",
            "linecolor": "white",
            "ticks": ""
           },
           "baxis": {
            "gridcolor": "white",
            "linecolor": "white",
            "ticks": ""
           },
           "bgcolor": "#E5ECF6",
           "caxis": {
            "gridcolor": "white",
            "linecolor": "white",
            "ticks": ""
           }
          },
          "title": {
           "x": 0.05
          },
          "xaxis": {
           "automargin": true,
           "gridcolor": "white",
           "linecolor": "white",
           "ticks": "",
           "title": {
            "standoff": 15
           },
           "zerolinecolor": "white",
           "zerolinewidth": 2
          },
          "yaxis": {
           "automargin": true,
           "gridcolor": "white",
           "linecolor": "white",
           "ticks": "",
           "title": {
            "standoff": 15
           },
           "zerolinecolor": "white",
           "zerolinewidth": 2
          }
         }
        },
        "width": 3000
       }
      },
      "text/html": [
       "<div>                            <div id=\"e5358438-4317-48d7-b2dd-d48327749a7c\" class=\"plotly-graph-div\" style=\"height:700px; width:3000px;\"></div>            <script type=\"text/javascript\">                require([\"plotly\"], function(Plotly) {                    window.PLOTLYENV=window.PLOTLYENV || {};                                    if (document.getElementById(\"e5358438-4317-48d7-b2dd-d48327749a7c\")) {                    Plotly.newPlot(                        \"e5358438-4317-48d7-b2dd-d48327749a7c\",                        [{\"colorscale\":[[0.0,\"#000004\"],[0.1111111111111111,\"#180f3d\"],[0.2222222222222222,\"#440f76\"],[0.3333333333333333,\"#721f81\"],[0.4444444444444444,\"#9e2f7f\"],[0.5555555555555556,\"#cd4071\"],[0.6666666666666666,\"#f1605d\"],[0.7777777777777778,\"#fd9668\"],[0.8888888888888888,\"#feca8d\"],[1.0,\"#fcfdbf\"]],\"x\":[\"APL\",\"Assembly\",\"Bash/Shell\",\"C\",\"C#\",\"C++\",\"COBOL\",\"Clojure\",\"Crystal\",\"Dart\",\"Delphi\",\"Elixir\",\"Erlang\",\"F#\",\"Go\",\"Groovy\",\"HTML/CSS\",\"Haskell\",\"Java\",\"JavaScript\",\"Julia\",\"Kotlin\",\"LISP\",\"Matlab\",\"Node.js\",\"Objective-C\",\"PHP\",\"Perl\",\"PowerShell\",\"Python\",\"R\",\"Ruby\",\"Rust\",\"SQL\",\"Scala\",\"Swift\",\"TypeScript\",\"VBA\",\"Cassandra\",\"Couchbase\",\"DynamoDB\",\"Elasticsearch\",\"Firebase\",\"IBM DB2\",\"MariaDB\",\"Microsoft SQL Server\",\"MongoDB\",\"MySQL\",\"Oracle\",\"PostgreSQL\",\"Redis\",\"SQLite\",\"AWS\",\"DigitalOcean\",\"Google Cloud Platform\",\"Heroku\",\"IBM Cloud or Watson\",\"Microsoft Azure\",\"Oracle Cloud Infrastructure\",\"ASP.NET\",\"ASP.NET Core \",\"Angular\",\"Angular.js\",\"Django\",\"Drupal\",\"Express\",\"FastAPI\",\"Flask\",\"Gatsby\",\"Laravel\",\"React.js\",\"Ruby on Rails\",\"Spring\",\"Svelte\",\"Symfony\",\"Vue.js\",\"jQuery\",\".NET Core / .NET 5\",\".NET Framework\",\"Apache Spark\",\"Cordova\",\"Flutter\",\"Hadoop\",\"Keras\",\"NumPy\",\"Pandas\",\"Qt\",\"React Native\",\"TensorFlow\",\"Torch/PyTorch\",\"Ansible\",\"Chef\",\"Deno\",\"Docker\",\"Flow\",\"Git\",\"Kubernetes\",\"Pulumi\",\"Puppet\",\"Terraform\",\"Unity 3D\",\"Unreal Engine\",\"Xamarin\",\"Yarn\",\"Android Studio\",\"Atom\",\"Eclipse\",\"Emacs\",\"IPython/Jupyter\",\"IntelliJ\",\"Neovim\",\"NetBeans\",\"Notepad++\",\"PHPStorm\",\"PyCharm\",\"RStudio\",\"Rider\",\"RubyMine\",\"Sublime Text\",\"TextMate\",\"Vim\",\"Visual Studio\",\"Visual Studio Code\",\"Webstorm\",\"Xcode\"],\"y\":[\"Academic researcher\",\"Data or business analyst\",\"Data scientist or machine learning specialist\",\"Database administrator\",\"Designer\",\"DevOps specialist\",\"Developer, QA or test\",\"Developer, desktop or enterprise applications\",\"Developer, embedded applications or devices\",\"Developer, front-end\",\"Developer, game or graphics\",\"Developer, mobile\",\"Educator\",\"Engineer, data\",\"Engineer, site reliability\",\"Engineering manager\",\"Marketing or sales professional\",\"Other (please specify):\",\"Product manager\",\"Scientist\",\"Senior Executive (C-Suite, VP, etc.)\",\"Student\",\"System administrator\"],\"ygap\":1,\"z\":[[-0.18633375861148738,-0.40253059970144606,-0.6952855501075637,-0.3214408788392563,-0.7858205351394206,-0.30324159406024553,-0.5534957533946038,-0.6597257097162578,-0.8985391787077461,-0.5856335975223157,-0.7162913906887439,-0.9081211681623468,-0.7972461750826799,-0.818101438888643,-0.8525116265475685,-0.8057114493660199,-0.6833491269296829,0.08026447911966905,-0.7131556190650572,-0.7085396558052854,1.640077454797566,-0.6366634116623094,-0.19464779491563303,1.5468333986927427,-0.7448265259829631,-0.6151310640596005,-0.7828261089023825,-0.6297861301686555,-0.8679181719387324,-0.42834434668075994,0.9273249921722625,-0.8996250123536141,-0.4882662278343178,-0.8734867613656444,-0.5820736536796209,-0.5780667998644545,-0.6955352043498886,-0.860310233046151,-0.9365942084470714,-0.6323724659173562,-1.0269909472664105,-0.9083377306482435,-0.6441624922664614,-0.7826647214190641,-0.7676484796842923,-0.8445790135421752,-0.6858671018448074,-0.7484592964748209,-0.7708569302784996,-0.7774598771864094,-0.9258026623619062,-0.6462184208845149,-0.8777216991859107,-0.8024982587018457,-0.7853328307278717,-0.6192560551337273,-0.5952449305741657,-0.8647173774204331,-0.8099433583859311,-0.7997954663234831,-0.7967915939602028,-0.6708914887204828,-0.7346000912059111,-0.5565905906121179,-0.7334599947125143,-0.6810140039480369,-0.49561633353888157,-0.40092729595550036,-0.6218251725845596,-0.7277105339645371,-0.6472523142019623,-0.8917132312148275,-0.7084025423554273,-0.6618297487912388,-0.8086848089851836,-0.7019617279420759,-0.7368968161805045,-0.7922418746442533,-0.7759886887252373,-0.3642507613693955,-0.6749353771002977,-0.6084708465274004,-0.38648368088866947,0.6206031579325352,0.5711337056091066,0.3944197664732315,-0.06418693613246397,-0.6654198481816535,0.1793371304142532,0.6360658660867531,-0.7462249033447323,-0.8662729009560288,-0.6775491429834368,-0.7332341621750893,-0.7221546498310064,-0.6697728368943013,-0.839532853840611,-0.8035589920252759,-0.8436846770246623,-0.825153001325772,-0.6354467475873313,-0.649569344693799,-0.7227542547572532,-0.7123172392869404,-0.6199174398733424,-0.5385419139461773,-0.6722284856798829,0.00998756496929856,0.3700144007212671,-0.7334364552674969,-0.6488912295815397,-0.5155928686136317,-0.7578499964864742,-0.7715760124471456,-0.3743962907473309,0.8482490943641047,-0.8021273210677154,-0.863507885500914,-0.6729321442328992,-0.544490805280716,-0.6682144026848685,-0.742405526788514,-0.709269481409478,-0.6489009171940856,-0.6397612186381155],[1.001990796082576,-0.7165747778964827,-0.4378567521573299,-0.6735273140476742,-0.21867756379169456,-0.6611994139913887,-0.08905940172633185,-0.2394975086270207,-0.2175237156638877,-0.46034997206263756,0.04901571307190676,-0.7099184911526706,-0.7296469830883922,-0.16283240658832834,-0.550370616167,-0.5479445929868246,-0.2654941772670212,-0.6588877484579193,-0.41132817777718444,-0.2994985801214077,0.4455396550992451,-0.4765856340414189,-0.3743226825300635,-0.22682316629614555,-0.36793977798271216,-0.49860453708636837,-0.29984803863394227,-0.31475046618085645,-0.09838625209468009,-0.08556325246171029,1.493820963241934,-0.5731700259695558,-0.6917511066502665,0.04016282457901391,0.12650479914530238,-0.4664594750157241,-0.3792036490634134,0.7666925242065827,-0.20035829221383572,-0.44521156633569653,-0.4465490340044428,-0.3840396835759017,-0.37876482830681896,0.25981948524499027,-0.3533897231926332,0.14779891932667524,-0.3511580329789761,-0.23779575104964823,0.26584988297465295,-0.2763132125318552,-0.49367919346954514,-0.33715399773221183,-0.3483018809775762,-0.44273591897275255,-0.32017730978854736,-0.4138633834352862,0.1357071319510986,-0.1458892378121069,0.04772368785917267,-0.09970058250971812,-0.19177183957164218,-0.33295873823389077,-0.2979795894936255,-0.07142419148147514,-0.021838313299458,-0.4003804094790306,-0.013391277489901075,0.02803571452272032,-0.46267081221013917,-0.38496357422776173,-0.390733638781653,-0.4877686052999282,-0.38468594310536786,-0.45129174180122295,-0.3287832094775628,-0.3956220045374108,-0.17687964417844101,-0.21743811163877416,-0.14129587567987753,0.747872820907137,-0.3795608281717441,-0.3932036137028938,0.9135624445477949,0.28149187165156936,0.4922830508053171,0.8579591367045879,-0.5866011585177937,-0.39386512527414397,0.07739832946574858,0.23518769685290888,-0.5574061128400586,-0.5029279022397494,-0.5344017649634547,-0.4142474954055865,-0.2199640645984122,-0.33097605324725293,-0.43350734579596156,-0.5219928159046813,-0.5995459756982904,-0.5052196161770841,-0.5712139771476192,-0.5449736919150336,-0.35985469353686794,-0.424446362198657,-0.40744817574082426,-0.21703899242170946,-0.2198349155137848,-0.6016769168782701,0.6742937674687435,-0.44447058752567226,-0.7244628746162826,-0.1523313135572289,-0.03678040655816018,-0.3877613582840036,0.012348470058688008,1.7048700716514522,-0.432578650744663,-0.56001618433877,-0.2923656954515128,-0.6801100000181786,-0.4564539567876196,-0.17292700807160155,-0.2934451255745478,-0.43987806816636443,-0.4659627077503884],[-0.3096625772608172,-0.4223929555932636,-0.18870650145395385,-0.14290043476168418,-0.6111421734552339,0.026177051117029195,-0.46383934463777216,0.13039085587340152,-0.6227344518320184,-0.5022834805326382,-0.6556131504549416,-0.6231767300123814,-0.6828866397539977,-0.3941038297531453,-0.3771419074244592,-0.5785194050764297,-0.5007598393304322,0.39735215651433486,-0.4018133624311286,-0.4935725043621451,3.2232264425677988,-0.5038140923779167,0.41969512889734395,1.831412623672303,-0.5388856208002577,-0.5137140671064732,-0.7256218497641465,-0.29329896626947566,-0.5427518640218859,0.9207533084067245,3.3251706917664086,-0.6002115289288893,-0.16194306491177965,-0.2860611344222369,1.3752777305884654,-0.46058240218371016,-0.5351590452387661,-0.2799662914253939,0.2073293486970766,-0.543861528047845,-0.23926408509381214,-0.16813482194505178,-0.46389813591333434,-0.2236141295677814,-0.6247560569578127,-0.4280319373024936,-0.2691824472116746,-0.3957449140130174,-0.23222623139382084,-0.12199388812095768,-0.4180131783631706,-0.259458894233225,-0.11483024651247627,-0.4838462515585451,-0.01301807498614501,-0.2651272134168657,0.5858331894641553,-0.28639233957798726,-0.10944485460544734,-0.64038736432928,-0.6536644578189277,-0.5349804493147641,-0.5478717934573477,0.4819131163627396,-0.6473675913578625,-0.5495044158025976,2.1858785938158083,1.6083142617659432,-0.5439384596397213,-0.6764260300007894,-0.44617369185214345,-0.5989842507845646,-0.5542917284136688,-0.4939117144551753,-0.7884117381148946,-0.5364905158528447,-0.5852615810612511,-0.6228837218254757,-0.6207850684427393,2.346853879836496,-0.6063813986956764,-0.4874614507848297,2.1229982681202015,4.07022498414093,3.313456782364078,3.3257993791389695,0.141800873924331,-0.48805125444466946,3.1162581256093196,3.919655038868683,-0.42659879932476485,-0.41473736857074944,-0.5392997436815777,-0.13478564838365825,-0.3133176414271016,-0.20684256157530154,-0.175500622025686,-0.48249087276215086,-0.4403152913461271,-0.34966689063995504,-0.42491405531089355,-0.37816860620467574,-0.6268009008063274,-0.49851401191374123,-0.5293647980199024,0.041088416303513266,-0.3351707363697875,0.4314923556824786,3.3633414576547653,-0.356994952525888,-0.08612017230546053,-0.4551006277518219,-0.3250050024122735,-0.6881349486965979,1.4808284323396046,3.4609503853907135,-0.8206782797248873,-0.623313486652974,-0.12303359784596488,-0.3251560582361779,-0.00863131219921513,-0.5313488277970491,-0.29225616870520227,-0.5593359644507989,-0.5045007696367624],[0.33010566948258124,0.25464750626247035,0.5981637441220338,0.20621632572165305,0.5930275101428778,0.12634259372877737,1.0813202044777135,-0.060754610594272306,1.3157414247400392,0.12730065896148424,0.9389259190100887,0.40851090054478806,0.4358037480612447,0.4095893951193949,0.2841952447505855,-0.13276286248292993,0.5038329393275954,-0.003860823046262696,0.20026665415630432,0.4328492941054534,-0.41558740937828753,-0.057788353382036584,0.26270646446655366,-0.25753125010789346,0.29740439271709174,0.002642674716955171,1.0228201884152717,1.3043945643203076,0.8555320911403969,0.35647478045595105,0.2332544528580201,0.46579298246799217,0.05064597876605128,1.0298532223283101,-0.1847449802847679,-0.018546642672915222,0.1782051560613749,1.412242431225372,0.2383341650856796,0.28890856540554233,0.10789965505831738,0.3741645568741751,0.09790713486421544,0.758470138780682,1.0241913440621149,0.916906096243729,0.21952572117564303,0.6764590369712087,0.5073867938581598,0.5730066493327649,0.5202560138633868,0.4380190226485796,0.35838431286228795,0.5224183047252031,0.22287218703530776,0.08936151533426104,0.29184346546700046,0.42847622340637753,0.7503346720491272,0.7844010278031117,0.5661259822515425,0.18338166857895596,0.37733139218953765,0.5676490605791275,0.9999425791465413,0.16752781414426315,0.165538113186096,0.2532148158256085,-0.06121614709574736,1.0132775482393421,0.09847194617689355,0.6694723859484687,-0.0017528927729805592,0.06003148203348919,1.0093978513276807,0.4171279378421343,0.8853633006460625,0.5469637868501401,0.6944585022486865,-0.01817524949209252,0.2696630436331885,0.1271719213692638,0.17563892076891588,-0.2681405898963679,-0.08134240814807847,0.04042610317099991,-0.03344408564556842,0.06593085996722516,-0.01656969168959258,-0.17825692526744363,0.40798319199586686,0.36839457040996937,0.12287537914595546,0.2942514798334109,0.19403875438099316,0.3218696691398533,0.16766377616194164,0.25196967473675747,0.48421364679479234,0.08797228216779429,0.17326268159437103,0.20927539129701933,0.43796467461687666,0.18093977087790628,0.2168486269685108,0.5886658303487201,0.3501078454538211,0.11492200496625923,-0.008999146373812909,0.07631575609244638,0.25091952876055135,0.8845611545935891,0.6484963405055337,1.0120835183911394,0.20597209218591098,0.07657380538601614,0.3361549775122896,0.2720708692618595,0.40528724600150207,0.4768389328656067,0.5189122547728786,0.5606453706545133,0.2848138079253789,0.15985978767917838,0.04556442535379183],[0.2941347640431934,0.014109684517467136,-0.35144232747095183,-0.1318316471500202,0.019810386592525885,-0.10475511403425528,0.5369200287830782,-0.5536959089784642,-0.09203910059246657,-0.04689462429756275,0.15884108884563383,-0.5377832864027704,-0.4450188062703387,-0.20838586872685289,-0.5440012540123028,-0.4725670859540359,0.10696256910651701,-0.7153307930735231,-0.1469475499891912,0.022333402383759013,-0.6947439852253998,-0.3319405927339946,-0.03629795709382434,-0.31577071940603607,-0.008879050486366136,-0.05367466444888981,0.19146230467424094,-0.07842939690919856,-0.04967811258229479,-0.39253139653847113,-0.4681159936309798,-0.43867412967181846,-0.5758428584833187,-0.030386479571561334,-0.6415561461688549,-0.1703234750336632,-0.06348010701738797,0.4007362491856791,-0.3423637772201997,-0.1111718348715046,-0.49435013274366363,-0.4928995889341223,0.05737391993690956,0.19824900548917476,-0.11792051162944339,0.020448049381456605,-0.1708166588943761,0.03174810231066536,0.04831664025348216,-0.3351103387518581,-0.4210886015419861,-0.17140582190693834,-0.31716602691109597,-0.2198203027826675,-0.2430290052490084,-0.08343567354645497,-0.2047212673540645,-0.1830927598414109,-0.20323898478594637,0.116567690787608,-0.03512470891889077,0.010855821846912308,0.09792980079092092,-0.22711076166502428,0.2919458410326283,-0.05516061502355586,-0.4668295861430587,-0.5958848057382768,0.05223298783676635,0.10868333958035548,-0.09312571184053012,-0.4027276314231073,-0.3005985825684622,0.08704742098353546,-0.050662018475786524,0.07327326100022281,0.14906543979261533,-0.004722549146673262,0.09164280313005828,-0.5211066822763776,0.05676870216788291,-0.0764009152677608,-0.5380654008294766,-0.5227286426598557,-0.625812271782192,-0.5982503165234415,-0.09889315061941226,-0.14021319001610855,-0.4902706439286119,-0.5629068937538103,-0.5798763811422741,-0.47389286500103245,0.02112382125978716,-0.39071438333711134,-0.157974337692405,-0.16752957878034258,-0.5073140418916909,-0.49581129544974833,-0.33941663987544946,-0.6707773336652334,0.14332122088150295,0.08195556742148048,0.0014247803566405585,-0.11065469421242141,-0.05574420787348155,0.11306547117282247,0.14753637870214356,-0.4139638836712718,-0.6384884787381954,-0.3362558955483272,-0.7974116425999281,0.27789278995740824,0.0745123761449755,0.012499444109834943,-0.5951540190896145,-0.41935696009592327,-0.325345060458084,-0.5633696837991252,-0.03257172331571147,-0.24478912802138528,-0.5093591519504463,0.08243622696636409,-0.10222714429643882,-0.0890203194034066,-0.08909245180909031],[0.10400283529214324,0.35990235283879485,2.2753066925299663,0.6810943113049939,0.6592233729225146,0.42520343959642215,0.3406451879910954,1.2432173883874924,1.8111442279907537,0.20638635136099223,-0.1767924244771325,1.7828959034826335,1.7461098906272123,1.441049930684558,2.6590253805283757,3.1036264053385345,0.6629757694502167,1.687992476068587,1.0832852645477402,0.7360002734649422,-0.18343007624441796,0.6851455387019,1.5249679224042951,-0.21835197076187027,0.908044141772234,0.23649699161903098,0.6383071524337953,1.5564940095598405,1.7219944232809166,1.6059640066035146,0.053421818965582006,2.0146306453887615,1.7934820760571086,0.975399716474125,1.346704569543788,0.15171729257688626,0.812337631965412,0.04421910725899983,2.128942775478007,1.3110317798119704,2.3486771208414257,2.4536887714119704,0.23733326045864384,0.6748934799486436,1.2241943314737544,0.7165335736348956,1.0496022461215193,0.8167804427614305,0.8259677364240035,1.5800777708726261,2.092433552688899,0.7449332885992077,1.6357264231351722,1.3507258048841506,1.254250375827464,0.5300688950086132,1.4272142279186992,1.3743200894551573,1.5480072746652631,0.580721841130656,0.9533425157061239,0.6458959211717161,0.6445936703624285,1.4837391721114528,0.809859614897718,0.7660475023683809,1.8362983541985607,1.9972407245995298,0.6241117949413912,0.7046307560596137,0.6697647247292434,1.584303867490199,1.5919591940227387,0.6173516708909094,1.3313912347596915,0.8776371812198506,0.5902150801027972,0.8032716524314018,0.4731431826647679,0.8375201869825855,0.2201903072536469,0.2588217119261957,0.9340556156235912,0.09994744566276945,0.4758775889614823,0.5596228574197625,0.2588807888448078,0.3054352264486031,0.5012196362803621,0.21787761605559944,3.354525629560244,3.360902894415294,0.7537666379028966,1.860173743375216,0.7283311624756268,1.07595864307201,2.695334087147921,3.6082568670910553,2.8039817498036768,3.5317720003311845,0.16630292317200943,0.37624164134139687,0.2781651519204002,0.8624141052985701,0.12856647908484742,0.7863390047135873,0.6706615536485185,1.514546264873907,0.5988053313060252,1.3496838113878136,2.3957772372954245,0.2936063941201534,0.6751621966249695,0.8808703097799966,1.4574908677348817,-0.15033791278260708,1.3849628352519108,1.6046677173205,0.9242486145187826,0.8507683998372112,2.1043921267063763,0.49320810679660265,0.9261673108127416,0.8029851158644443,0.17539272780890588],[-0.4188599687732446,-0.4982452595895748,-0.1972799010685079,-0.35424228602991914,-0.1809930276774444,-0.36348709588822886,-0.36529806654467795,-0.6033061827181658,-0.45084667181231136,-0.31548876098445383,-0.34651237317536926,-0.17171507682367448,-0.024683980862248964,-0.1225351131580951,-0.31282032059462916,0.38988479170225,-0.20879282760270604,-0.3335313447819867,-0.1306301884991736,-0.20024515596719375,-0.7963128184714677,-0.14817307338351576,-0.7350336311499429,-0.7906871190463444,-0.18638008020502006,-0.17935848234339752,-0.2158576581531989,-0.18426861548022613,-0.05056886825085047,-0.39542142741145847,-0.640532848806204,-0.2442243748392431,-0.5002239369066407,-0.2211216893837859,-0.5197158745443816,-0.26087604381430496,-0.2037791622511604,-0.19978790801583332,-0.35863702339101344,-0.2854534338963004,-0.2965372909564731,-0.2892178537980709,-0.26912858224508446,-0.11451966733884601,-0.22256244587845664,-0.22471708690204736,-0.22971818140163677,-0.2316809734936513,-0.08854298386564376,-0.34611271945225347,-0.2738924852593682,-0.3249766651188794,-0.3415893942203289,-0.2382167073187756,-0.3912742045668065,-0.2817848418599933,-0.4153407711132202,-0.25189040368274024,-0.1250772096355305,-0.18041884381035778,-0.17348580382950168,-0.18767153002854414,-0.0875648269143776,-0.32940581424089505,-0.1568674511925435,-0.22660191816504202,-0.4783066553662299,-0.5275331688423234,-0.13334274943694813,-0.19163978965237724,-0.20090129675549392,-0.16523254985505098,0.041179034261707194,-0.19487321780121472,0.0020796424601995196,-0.2022436657239511,-0.16907591407909123,-0.17402197861149157,-0.16657206955232767,-0.5185175886713105,-0.2673815907823637,-0.3241916190342772,-0.5221450861094366,-0.629840779767985,-0.6849502628850341,-0.6617550741635139,-0.4416705776510003,-0.19671613445127772,-0.707910295312255,-0.6752559758517321,-0.199301510158781,-0.16997471820324828,-0.24873900617744182,-0.24462730873249594,-0.22439190223455557,-0.27324624591826213,-0.2621025057384231,-0.1949534726781505,-0.15473607245144116,-0.3503912339486262,-0.3063081721964816,-0.30628931323190317,-0.19968696917519224,-0.20440828979877898,-0.24713349367876083,-0.3554751317757585,-0.0836645471272652,-0.5224323851189073,-0.6103295949739175,-0.1060172121533726,-0.4079144005119689,-0.16619625840670993,-0.1432744642715597,-0.07635247360405878,-0.2375532982923645,-0.7092834659776113,-0.11472381033824204,0.06666902731510463,-0.31378675405239964,-0.207954285006272,-0.28053161299908597,-0.21383108867229486,-0.27758940971245416,-0.14658558782264552,-0.29777741496044174],[2.5012067477884914,2.703191158564011,1.5134988982081645,2.585015770654386,3.022239027892512,3.08421923373734,2.772676239944429,1.4382538567171035,1.8510117359040699,0.8622677758278268,3.53084956825915,0.6287360972222061,1.25512628561607,3.0519404929018323,1.171330770775954,1.6455711337585062,1.4292841546447175,1.8465363147659197,2.1541722634616445,1.4190350459215886,0.278361140750127,1.192410734534019,2.0322318727904904,1.5007712729751208,1.0877205007743291,1.1716853269543024,1.0011616197126063,1.1864999573693304,2.621698137416173,1.7963154995081114,0.49118450636611755,0.7340731565645371,1.9723041799113916,2.091181757642349,1.1116498862328574,0.9421550590029921,1.3087297750225693,2.741532760770617,1.80604731198344,1.7448175836740014,1.1457929433515388,1.2223384162814201,0.7845655526252057,2.8848757190927423,1.305103726944721,2.8642770912174083,1.463436430745957,1.5019858548305682,2.9056242524322062,1.5120278780085596,1.1668372249405636,2.1569456578568733,1.2980851878434019,0.8277423045005069,1.0657676035472223,0.7962824754978567,1.6729369823043807,2.385393855824718,2.424264148513709,2.8115337487796865,2.8873582773432838,1.5935183886730067,1.6306414625431347,1.1226113276548801,0.8338748642545418,0.863411341359456,0.7378863849383389,1.23887648879112,0.37955753387825736,0.604344042811133,1.0099685090802764,0.6347508827952442,2.29915166107344,0.8720234747001819,0.6818610500795752,1.0759027382457125,1.6434200313938703,3.1062058502040775,3.196268702076494,0.6960909488057949,1.0344515344771124,1.0186061303214813,0.8859559413630446,0.5158054576677104,1.0053344967968612,0.6470326202572049,3.3205259199125736,0.815097025094117,1.2648577034957027,0.6701866984276035,0.7654024270165105,0.9819293292579961,0.901495996014026,1.6005234358973641,1.3873409973216322,1.8771094654532143,1.376948359497669,1.005262543966407,0.9540229927051354,0.5675780954216783,1.965182982901779,1.9854675165277962,2.6463646221489654,0.6774759011970328,1.1660709245487066,1.1557184339865247,2.518921691621307,1.8944578708214523,0.8827826456966672,1.8847062873379865,1.0604049586554767,2.019946082823313,2.78093681476805,0.7055159240994515,1.7217413301132398,0.5336137738107044,2.735110655569007,1.07565317744947,1.3855650136384299,0.9573662031082208,1.3634959300332952,3.0761344047206443,1.834139955244622,1.066783225247564,0.9894300663547559],[-0.1182459733155032,2.1848931473397326,0.03901025021303707,2.027706813914263,0.024040599733640314,1.5978154832639064,0.3325680340490385,-0.5561277851421751,0.18115136346927316,-0.08417603321465107,0.47857735103703497,-0.239805112122917,0.12118795975700346,-0.17434591899696641,-0.23647768406438457,-0.24991585534111968,-0.28375310602694626,-0.10632112696630777,-0.13255502470711134,-0.26637455095021484,-0.29761615585645707,0.05024080081222728,0.05490066010440932,1.1439221610937742,-0.2707215383958955,0.11275909804529434,-0.21270634975996275,0.06304413143197399,-0.11911656583561216,0.12638536304777842,-0.6778434854771865,-0.49506989571200727,0.491858266923237,-0.33794641363648315,-0.5109103091909906,-0.007248968685160297,-0.2780074453560635,-0.015996052135189766,-0.436063415698464,-0.058832549629781336,-0.5033082495580798,-0.5175680805872611,-0.10103096849973564,-0.21307925660575974,-0.11695927751692474,-0.19778613370352055,-0.2322246291679032,-0.20989707845041214,-0.220611553250755,-0.30987552063168516,-0.4529298363502397,0.2519684009382595,-0.3593790598281509,-0.30771944996667366,-0.2913829240050168,-0.3647130970413664,-0.299061253412853,-0.20291126575613438,-0.0655052620884568,-0.08933309940688366,-0.16966810753759204,-0.19704769882817214,-0.06945455067925002,-0.31493593917910395,-0.29801368090293323,-0.2584104791469038,-0.3804693439555901,-0.08769603431247369,-0.32655689425026896,-0.3318666597836197,-0.3152055071898759,-0.5394769361496535,-0.33844776421858347,-0.29338823655871105,-0.3100939722690152,-0.25047717728612506,-0.21952145507845952,0.00015148923195314155,0.10250767154238478,-0.541495794416281,0.01514389597607579,-0.03223323867984619,-0.6303693531956664,-0.11464713844841778,0.07666351215686609,-0.3097119141316559,2.0291119635710655,-0.1752327892719089,0.01954790424817937,-0.12125016879553513,-0.2505082653747231,-0.39682790634873716,-0.2561649739113703,-0.17655815054695884,-0.1122200154522568,-0.11182418155863315,-0.4165568893290742,-0.6372833708904386,-0.39639735153188127,-0.5056723307450036,0.130271673839575,0.3842998580423803,0.2434069147255906,-0.35586306690518854,0.16720939606065166,-0.2955077771552179,0.42762391028445124,0.353471152886811,-0.24841251302143474,-0.23449391258216024,0.12207069362539309,0.1209621549203193,0.10072658755949493,-0.32439741055534543,-0.011826566960080028,-0.5252101069735542,-0.23078041754713452,-0.3923412113210109,-0.2205444496123419,-0.3804083227588478,0.07243039654551726,0.13817381946676155,-0.12881896323247394,-0.27367330207758256,-0.035706522696329554],[2.5937033617754888,1.7022535388188744,2.4493149513735077,1.9411812912425965,2.6728358186654453,1.9697644595987756,2.0618866930434216,3.3949414180388637,2.0758383379070326,2.556471975507156,1.7478944871456157,3.11480890420412,2.7341762758670267,2.367637385831909,2.4139843562247765,1.8228142276046821,3.8227376112881633,2.982227894005998,2.9159918121691826,3.8016935905110643,0.3758293689272543,2.3001764790219688,2.420166289230738,1.5463039489718504,3.8687548936882092,1.6840357539996726,3.4703986878364645,1.7265104427417761,2.3080711642965253,2.60323945737605,0.8610464698871629,2.8651926562346377,2.846847538882641,2.9937418119666264,1.5821186636854694,1.9226562196372377,3.912419807823393,2.1524006607517894,2.256559284922809,2.9908214056327225,2.7769779026323254,2.625071820779948,3.263530886298045,2.567424880503823,3.0112279846575682,2.64181980236094,3.601559240457788,3.4251789395909222,2.628081839305195,3.18290930180561,2.9381484145943793,2.637857260435355,3.233172215270681,3.4679548626558745,3.2651825949348443,3.9581985461175875,2.970660278903762,2.879433530843569,2.363002216639059,2.8342005441349523,2.763514154956686,3.782875507480585,3.6411288586509483,3.1846845924766507,3.4805365905414964,3.9974666715060123,2.1284932476999523,2.1983414083595254,4.274018400915905,3.547497284029096,4.0987845100715745,3.215252997142897,2.9567010033001235,4.17472201134334,3.321953380836186,3.8909681968746765,3.5301310427096277,2.5830394897801905,2.4978831604328353,0.6957673121051615,3.0796836937943337,2.5959944710089586,0.8886657821664556,0.6206957354062673,1.0270924037515492,0.9136165207219941,1.2573271630202554,3.404669760586937,1.8274826678022018,0.7777089310724294,1.255929852698862,1.239717043059688,4.121996002836648,3.129586164304778,3.5909281942423177,3.3701384567843884,2.545693734541887,1.1903704868319855,1.8242738616397305,1.3871272777262906,2.939766654483099,2.8631684795989156,2.102678043315746,4.059330892728203,2.501321716480514,3.492984624968163,2.8131555441596703,2.501772738575883,0.865246197995253,3.0992718348349912,2.593312665206195,2.9844327278712854,2.8082048638273744,3.590141845584894,2.280782082235467,0.49793950884089505,2.612832690273868,2.9242697549702643,3.4816958777537304,3.0061648199033852,2.651181564569277,2.675241584123408,3.5148547094390095,3.931210483770465,2.3446299152737127],[-1.076613668236337,-0.4125399758988974,-0.9922018843777407,-0.6697027329623431,-0.44947985220524556,-0.34323124258731247,-0.9969315048135278,-0.9372027799956673,-1.070426958727453,-0.5095846923309587,-0.6624422512930632,-0.8335142647981603,-0.9151635626215877,-0.7179839396830945,-0.9511021759561922,-0.7904240433212174,-0.6995174132312751,-1.039608667234508,-0.809244317490858,-0.7016487050079007,-0.787480746015288,-0.5941496635376333,-1.026778461291556,-1.127417141533787,-0.6486594522243866,-0.3457922448375817,-0.7313369344773035,-1.0267275210908176,-0.8083185199335527,-1.1385303792461363,-1.0660131527063539,-0.9374297451092612,-0.6535000259245973,-0.9434679785175235,-1.0108507747651565,-0.39359518369065827,-0.5929709708515267,-0.9255161984441833,-1.0602708793452558,-0.9316106831108735,-0.8562727374834789,-0.9708979144352576,-0.5071764933231752,-0.9306211594634571,-0.8597280784628031,-0.812248023455512,-0.7575711663738799,-0.8318686840745918,-0.8700656394171871,-0.9585281088046902,-0.8860607714563508,-0.7976804560717363,-0.9141676660157532,-0.774856722294275,-0.8778247571739732,-0.6418775258589623,-0.9971040184757493,-0.8382583315426076,-0.9721818538332808,-0.677542878306519,-0.660643303906686,-0.6369679891051621,-0.6807627305178342,-1.1054399158168466,-0.7930450001921813,-0.5648386503977962,-1.0869676215458834,-1.1813928358428705,-0.5549578016640714,-0.6989804715345842,-0.6008518964660509,-0.9079522111511049,-0.7968324426383703,-0.5081183720064927,-0.7071610712675648,-0.6462863159201077,-0.7591334654687029,-0.552924632808565,-0.5220582641526178,-0.9703144227555202,-0.5684497361216266,-0.5232974974709331,-1.0776624508087074,-0.7449145796170816,-1.059708452272581,-1.1136821458549713,-0.4413492238131582,-0.5413666293715177,-0.9188868729625504,-0.722192925705975,-0.9000409883241683,-0.8573181698450226,-0.4256982372838215,-0.9221745916893652,-0.6103517495183862,-0.8073265753448597,-0.9217007616464643,-0.7681909731651033,-0.9098994170522945,-0.8445291848327251,1.2051918626766078,1.2265446676291727,-0.4745126920799158,-0.6640837853999935,-0.4877168154958646,-0.9643182464143457,-0.8859630356349784,-1.1709326613177407,-1.1014758399160327,-0.8051945967225439,-0.9362601964923951,-0.7499617882174517,-0.7283613609613113,-0.7102767326781851,-1.1475508233937506,-0.9183580516613299,-0.032262536795081585,-0.863507885500914,-0.7949577723871285,-0.7481986492279334,-1.0266512898703979,-0.5113220944274284,-0.7340423737916635,-0.5525602305814721,-0.40575641686290526],[0.5420770765361168,0.7197707064377886,0.2535720500905006,0.7882725718374477,0.838488339331133,0.7509676782503357,0.8591984710711487,0.08199652021555534,0.40074943984426015,3.43306967876216,0.9493374989764054,0.7188486521891904,0.5572789878103783,0.28619457734855647,0.4232447002404552,0.678983262450496,0.8497756500379787,0.1643897812856008,1.6339415319890183,0.9263108740229751,-0.36164868116376075,3.378944406869966,0.003629795709382434,0.32856959091977794,1.1070502723936333,3.8089851122816776,1.112979655665825,-0.16565367754059818,0.21086792047024003,0.4094131162442525,-0.30288317408805665,0.7911805411036558,0.3468710444213222,0.7170858241086737,-0.16282091960897774,3.8571261247223654,1.0608757109417437,0.4597579549702542,0.5319377854727819,1.4620210267658422,0.6887087042553023,0.4626896245183218,2.786655579239415,0.34339614407702873,0.8846798137313906,0.686816062939606,1.2388881985092661,1.2191933167655944,0.7072076524111552,0.7009303539899615,0.6237864234605812,1.9651268259612904,1.0176734171110728,1.266815673989862,1.7831607967635894,1.5181644538001875,1.2370716203583503,0.9660712412888037,0.8441288022296262,0.8508559505492307,0.7912727973266473,1.1953784801999146,1.1956000584862283,0.6960208398706325,1.0282624486710978,1.271592704998562,0.15932920688503616,0.10231869181047146,0.9072337530897505,1.45470018968647,0.957419921857547,0.8775877340791812,0.9524708693761655,0.8448910877374199,0.9292558680435699,0.9204003405783697,0.8484349349973537,0.7561363736533601,0.7517758080616391,-0.2503306427464429,2.7656126053008836,3.323857704961161,-0.10381341208285148,0.029773720573778976,-0.1749449238671464,-0.23482166065754204,0.3576435350082841,2.5855080622841746,0.7460097563344683,0.05376473465033873,-0.08650957515158159,0.022144967451065273,0.8676841429276284,0.6792684234714534,1.6703536195651296,1.0394282764170222,0.40048551678111693,0.041598861256769946,0.25403859812730883,-0.02303332988605917,1.7715422042962814,1.5570927167035147,2.4657248852022113,1.0629394219668047,3.307992608350427,1.3864182840355055,1.2043724109429623,0.12606789107992603,-0.14790792565741603,1.4441143117420583,0.3089506835160806,1.5332351669589384,0.7003602074534271,1.1094076942844828,0.7077855626817242,-0.18835147381601045,1.0042157203736142,1.1565563519305389,1.4179903089245987,2.2828624479702517,0.4146661152017755,0.825081820214632,1.0621431617285702,1.2434078173706888,3.5397021554463106],[-0.19147245938854277,-0.644632386477301,-0.7265852629860943,-0.6055397608719656,-0.6301238990884397,-0.6472778653309651,-0.6536524622761094,-0.381275888971364,-0.8665144592363938,-0.4591869471744095,-0.5021263103063383,-0.5914912680414468,-0.7413370689219908,-0.5577959409542169,-0.7384910730458754,-0.5886605556210017,-0.5346008929550339,-0.14155309112127065,-0.5795326145844706,-0.5641856791382985,0.06229079673287067,-0.4616935349873416,-0.26860488249430015,-0.44283865242016535,-0.5313522656978703,-0.4318707794975724,-0.5330448597334181,-0.6219855847463351,-0.7304583767229818,-0.819592039729232,-0.24355694435034508,-0.6027911459875099,-0.7549367284528816,-0.7178782643061303,-0.5610481200807074,-0.43867176172260974,-0.5084951312565441,-0.6879104343481919,-0.831075054328953,-0.6578570393596612,-0.7136771403228538,-0.7538077799321848,-0.458441741596197,-0.675677233782533,-0.5856106263755875,-0.6735432297967755,-0.561576780258773,-0.6256382566586633,-0.6165752889447749,-0.6715241107179234,-0.7311760972266941,-0.5977985346698722,-0.7287234015884224,-0.5807558825969715,-0.669495655250103,-0.3276447325120608,-0.6950697995433489,-0.7040658050211658,-0.63122751574471,-0.6147906280971267,-0.5959369992393512,-0.5114315068434763,-0.5576424602000051,-0.6795458391318294,-0.49965115191777565,-0.4393430464523326,-0.7477355590970688,-0.6630360523168427,-0.2977563412320811,-0.47524846667702986,-0.4612397507431084,-0.5953518473777657,-0.5180216521257429,-0.39423221557052174,-0.5072812631558099,-0.511915583364345,-0.5710277366198351,-0.6097884138925397,-0.6247620202766853,-0.5802243195920764,-0.46419536941201733,-0.47812601005147504,-0.6501850640706099,-0.36506920489395767,-0.6087105569158072,-0.5938957045709794,-0.5939922967881623,-0.45674320872595514,-0.6331842347513476,-0.49583033066423615,-0.6438603477457505,-0.6372488689048414,-0.41463828533967273,-0.6930706567137564,-0.4575913510714399,-0.6631536982289207,-0.7025863408308557,-0.5187775414628474,-0.7074264534984123,-0.6683326749984684,-0.52459809521451,-0.47406138494637906,-0.4720825610896007,-0.4453446390473402,-0.5026976237474293,-0.5792775188440277,-0.6244004481617909,-0.6022206186399124,-0.4397420714555017,-0.5709135547641664,-0.6029908811873357,-0.45407359480000853,-0.661574400221807,-0.49028280180003486,-0.8214390653645957,-0.24142425325880054,-0.6204636649493126,-0.5595969969062256,-0.6431306349179542,-0.42952144677899884,-0.7353654529337784,-0.6307661882355091,-0.6263441761788526,-0.4512658561820398,-0.4820478972456408],[0.2812880121005549,-0.22079786311646965,0.0847804100600478,-0.21759225360462012,-0.3967029073018179,-0.18891087568651627,0.06440652317274931,0.6320869084469525,-0.5946311265816481,-0.42739760022950923,-0.3282641201161261,-0.2766591246281176,-0.14006004539385278,-0.16032946910818963,0.14788192370745196,-0.10960471273189241,-0.3490514900993588,0.18200576336308225,-0.006347014254830293,-0.3144416874471019,0.8398286040358443,-0.33872313289723777,0.1996387640160339,0.7905144723982271,-0.3315285616545066,-0.45774012635017597,-0.4353542995430971,-0.05006377719167023,-0.20418373218267907,0.6053493985385412,0.8079773034421006,-0.26219274193722125,0.08257849731145893,0.020634833998834555,2.936378673953951,-0.46777183108500875,-0.3590632104735165,0.0800227155474369,0.9560699698826218,0.11955946446635397,0.303583108422409,0.25237776925327365,-0.359006580562154,0.06808479733619606,-0.34066165770273105,-0.22270938087953507,-0.11550279691530069,-0.17610656289357482,-0.019919593837029695,0.13030382344453123,0.006845928882678046,-0.19559509042578205,0.09404469352055099,-0.32921320832773876,0.10356477183661554,-0.24353399136095946,0.13899806169733542,-0.12363724209724047,-0.005933314541383087,-0.4191929267004829,-0.4345481438928266,-0.40054528833120917,-0.304098592908219,0.3327263831053426,-0.6244851367820208,-0.3329724823086873,1.3796615180569782,0.9304467884176438,-0.38315624192079456,-0.4666562984736794,-0.2757293892472868,-0.3377717116779979,-0.04448743163739389,-0.35522213131075664,-0.5009459285088446,-0.3440840670248058,-0.3559274720191349,-0.40382603710576453,-0.4026267106239118,3.090571017892022,-0.5332109907688584,-0.37980273910178786,2.936119874193738,0.81723771213968,1.3581172001601731,1.6585726883812137,-0.08378952024083292,-0.3711591506943233,0.6988077947468284,0.8729975969999262,0.046647570343028834,-0.021000555174691585,-0.25663897185183376,0.04208116465707333,0.0029037630874709005,-0.12090748983025529,0.209368486691832,-0.08195954229370306,-0.03627024505506513,0.3167289533375013,-0.45666795311291825,-0.4610070738907858,-0.48820979402532805,-0.26037756992253125,-0.43856729897364355,0.009522379838844406,-0.14174144982780554,0.37562699967373403,1.5206316466785696,0.1477726037415239,0.22813328437914293,-0.2870780368351482,-0.1213132404950025,-0.4862246613275253,1.0533825122109948,0.8266106057758597,-0.4824626310362045,-0.3780888386145014,-0.07365159620845424,-0.2576255127084702,0.1932687673345291,-0.35216776403472716,-0.18577354639911037,-0.3601635520566369,-0.45760323778756495],[-1.0791830186248648,-0.7445697519487295,-0.11535630475165817,-0.6958448695573707,-0.651941262101953,-0.7856928628872273,-0.7610786097054663,-0.17164816365948765,-0.2214451098848696,-0.5860858849788487,-0.8033904144929841,0.2330049019681927,0.2843408968259234,-0.4767007665977227,0.518964551213159,0.14664853908841155,-0.5588386683714994,-0.1886488799406598,-0.5293556343457301,-0.5270949033826332,-0.7070458004322216,-0.48071413674947994,-0.489114971839283,-1.18698023513416,-0.45664649426586246,-0.6335601120386677,-0.5443147931397372,0.04283362738323505,-0.4147664700080456,-0.5012395172811764,-0.7925563125090898,0.15188027212757205,-0.07613291401209908,-0.567986142670996,-0.21565431172932456,-0.5884515304996637,-0.4593727282052106,-0.8551024354769238,0.1633059353718226,-0.3364225807809105,0.22516287270276553,0.15018502380130677,-0.590683049828929,-0.6487547806573666,-0.3610795960927824,-0.6610469905876905,-0.49948076550038845,-0.5222125269029336,-0.6757617529821479,-0.3249827650796287,0.048602752215733375,-0.6304230352875948,-0.2607874409546859,-0.30804795719053274,-0.3132081506795853,-0.5253769516240018,-0.6511907362601914,-0.4922903240239802,-0.2852032246734095,-0.659609064367765,-0.5771159996856055,-0.5617198936692588,-0.5897178813248904,-0.4580097305654769,-0.4509409763355384,-0.41933443551212923,-0.3541285293450332,-0.28653715982797484,-0.3368249175002315,-0.5088787500354561,-0.4371036200349564,0.023652427298490927,-0.3770371515072339,-0.3539412031708838,-0.38405900427233497,-0.462821254957941,-0.597644030351546,-0.6081050110790382,-0.6858102809029274,-0.46198904496067866,-0.6847068195889475,-0.6096754195252525,-0.511983183096645,-0.7263990848706461,-0.8389092124964067,-0.73365153192031,-0.8470048851158533,-0.5440302148510736,-0.8962199679257419,-0.7668828939182596,0.6665626193865037,0.750463097812898,-0.3086207459893328,-0.2766844185961286,-0.506297565069017,-0.5040138340276875,0.17701313107417102,1.0401712379063175,0.5024564833330175,0.9495786478321251,-0.8322774154697448,-0.7905881369610098,-0.7573652112859831,-0.35652696244043675,-0.6386601449963994,-0.6725961356418919,-0.754459990829198,-0.3026409479750143,-0.7847512522191658,-0.431992002395106,0.36780148735007784,-0.8187729959889501,-0.7300362100753761,-0.43510633046328195,-0.6515438283019834,-0.8737652204490682,-0.5167366583113453,-0.04357726744407198,-0.5542351997735061,-0.41612695840986674,-0.06307282506740378,-0.696830531474936,-0.5215030241774543,-0.47239020295111755,-0.6081944114860817],[-0.4535461990183686,-0.2561434728137198,0.10793766139988821,-0.24206957255073885,-0.15286908316783748,-0.28037545038549966,-0.47433964476244617,0.9506626858930756,0.24193297389449278,-0.13121392869409698,-0.22649932238083773,1.1395237217607481,1.0274237441616274,0.38931560153027134,0.5744946240829844,0.4719221587941606,-0.10541348884533472,0.2891396951812346,0.06727797069878808,-0.0023994320895113683,-0.1152969458681736,0.06351098808813777,0.14337693052060616,-0.6956508941461934,0.0814044145391443,-0.007086946886900162,-0.23559339461592366,-0.20128798731074315,-0.2390851588324514,-0.02994968539233274,-0.5238502055525408,0.9247869142777309,0.36412819274160635,-0.04155885721258516,0.5863709570907699,-0.06721793515551598,0.07111882408716834,-0.5691075523001962,0.6266652079197292,0.2864423163627386,0.8898991966446497,0.7010776309441495,-0.08683078701600558,-0.004254663669685986,-0.1928636264020183,-0.1546550698405843,0.0846444291262672,-0.09707624776229128,-0.25047095497688676,0.29930981200136936,0.7186208088969869,-0.20994325482926712,0.5024191519420934,0.1308376938851884,0.2943419174860628,0.22370220398207744,0.13022224904070392,0.04666579832293275,-0.03550804027397288,-0.1917200443354972,-0.06770886835302409,-0.0390418912788857,-0.02094664457807725,-0.11823849315197575,-0.18745291027906455,0.09128417559006939,0.08105935775652429,0.02973038320609107,0.25471339753419975,-0.1471350434115856,0.16818670959054072,0.9488469420890299,0.28618710061483904,0.055722905563007664,-0.02437037969088057,-0.0010069021712310502,-0.24743173466848095,-0.11484841227178227,-0.23143328399874472,0.131560664000955,-0.020402611344838978,-0.07153243273477476,0.0052576802544443855,-0.3764562341630155,-0.2554926954134016,-0.199395078002616,-0.33465974964957645,0.09348368681312295,-0.2398137976153037,-0.3099966267200439,0.25656589382864997,0.5824940506094798,0.15194725282771784,0.2915861952202276,-0.015176573926781204,0.04592058354245097,0.5509873275633459,0.7962697052472054,0.4366921837137366,0.9141310971640307,-0.3704684451526274,-0.3992811339612524,-0.2525607282978052,0.16425578742688574,-0.1553788256060275,-0.028616533113326195,-0.17908003847372048,0.4516093208632431,-0.19247187340043623,0.2402949099912957,0.20731419778605759,-0.4233653095407876,-0.27581336663513506,-0.11109585168449158,-0.060623292951773475,-0.5247714889616303,0.2515445075393349,1.149430165577284,0.15626254464311187,0.614690542331258,0.1715368550659551,-0.2241578394113243,0.019685298873772208,0.12683520243371985,-0.0041698941362193235],[-1.25775287062754,-1.4871403485971528,-1.3526702443621517,-1.4245850490635092,-0.9624667981749683,-1.341093046694829,-1.246515561623086,-1.2618582478510674,-1.120097952193224,-0.813844925590177,-0.8795180959671273,-1.138234026731404,-1.4828951224533122,-1.103186017876442,-1.2261061151847055,-1.0819442813636897,-0.9396677539356507,-1.60188205436065,-1.1830343851891303,-0.9596313242206939,-1.1915480608855147,-0.9083090600843733,-1.7209768907109466,-1.6166286836381847,-0.9417449244732744,-0.8311286636651889,-0.9584447868169671,-1.2864502266294364,-1.1076124245682595,-1.589062759662105,-1.2507123913819636,-1.1648808078297073,-1.4003133107142163,-1.1574474146930647,-1.2586645425677356,-0.7431954287561856,-0.8564053742188764,-1.1541168125767194,-1.3499346611857401,-1.2020759948050141,-1.168191427873971,-1.2042114713768812,-0.8123617779556077,-1.0575078515838068,-1.1342432825965783,-0.9987396820121484,-1.1001927468155719,-1.1071929130933087,-1.0722578280910584,-1.2683780288962534,-1.1887778564194147,-1.2265127702750322,-1.2007089140921412,-1.0842166679627048,-1.212889308079339,-0.965621619397156,-1.3985974475166398,-1.087175466184348,-0.9755618224884339,-0.8827675282986519,-0.907723635257603,-0.8565049044020071,-0.927792819981182,-1.4525621592777818,-0.9489175620553403,-0.8849479231462636,-1.3949670038136093,-1.5851476496559511,-0.7144878214256856,-0.9035143505627774,-0.8423045129953951,-1.1129693328466066,-1.0617767141892192,-0.8325425354324795,-0.9345995850936187,-0.943101517467648,-0.9600197931027301,-0.9506774836265911,-0.9250628832430453,-1.0833715101767838,-0.8208914904937509,-0.8544045002555613,-1.1792814809366228,-1.0506979753544636,-1.4818553630074385,-1.3615321428159393,-1.292722658202865,-0.8157595991015048,-1.4732296988902158,-1.227597352062034,-1.0188054129454642,-0.9563629230425148,-0.863830333585599,-1.2308194628630142,-0.9535091663194977,-1.1690742556014242,-1.1763376637275083,-0.8853188278319085,-1.179713221654687,-0.9690709624673707,-1.1031280140733162,-1.2004290383730292,-0.8841738647806063,-0.8599329682982189,-0.8613021125033085,-1.3125995536286357,-1.2068535609952962,-1.651293167728698,-1.3995325961888136,-1.180430924240275,-1.33378999954934,-1.1741263973163898,-1.097938459288481,-0.9591048195452193,-1.611678035257535,-1.0924894023951122,-1.0163682704377373,-1.1653228369328803,-1.1737228158748387,-1.0451098080770282,-1.4050044411272553,-0.9647589747820675,-1.0754770699803746,-0.9035318572245867,-0.793792751815917],[-0.858218885211482,-0.5551735867125794,-0.5529852612670556,-0.702549135224598,-0.511615949992311,-0.732616958619362,-0.6593064700355492,-0.5442115919399918,-0.6626019597453345,-0.6176813944423777,-0.7295017824739628,-0.7323904499973051,-0.7921635290680717,-0.5330168599008437,-0.45922594082654355,-0.38265897515589026,-0.5272250282071775,-0.7311492259594248,-0.5410358904257159,-0.49886149980810834,-0.7527833185088671,-0.5939530681705828,-0.9891193308067133,-0.7761272517218086,-0.5190886643684026,-0.6965164871224374,-0.678191987845609,-0.5911379733035231,-0.4248886935143601,-0.619301183889834,-0.7252349463418819,-0.6027911459875099,-0.5457447612160515,-0.6151847041459992,-0.5269040911593948,-0.5647720622930056,-0.47917115934735455,-0.4525830816887374,-0.6686851872770434,-0.6208633037176055,-0.3438243993866701,-0.5448663964256444,-0.6275899654274543,-0.5267843625859602,-0.6984727695868292,-0.5189498660633299,-0.612418353086275,-0.6708302845334533,-0.4763764448595175,-0.619069335452124,-0.6071251915915411,-0.6692912616255658,-0.5316819769419977,-0.6523704573982494,-0.6504523562856963,-0.620849840571187,-0.5674548571614993,-0.47094573128543826,-0.842898052773674,-0.5273109647728993,-0.5007863903843036,-0.49046535161097476,-0.6171547030871001,-0.799638064243593,-0.8061854196515754,-0.5026181408786168,-0.8286394896866364,-0.6740513987587526,-0.4996106519508583,-0.7789279116141963,-0.49099141249243833,-0.7137254642816823,-0.4444945586985191,-0.5124269484769742,-0.7424805619243963,-0.5786150046495159,-0.6011477459063561,-0.4811842687215539,-0.5039569833826475,-0.6163637511628047,-0.6484678478397032,-0.6749231235755809,-0.7030269597371259,-0.7025140966477443,-0.6307730745678609,-0.5686752436796364,-0.7643098308444826,-0.6680834336612094,-0.8356918588714068,-0.7369231386921471,-0.39233041629306364,-0.5333197169195277,-0.5171798397932803,-0.5272703019056428,-0.8180911319474461,-0.5191703726211538,-0.441032436335073,-0.4838688475229368,-0.518016261786716,-0.2568604042164642,-0.7686246248985628,-0.9659349323744102,-0.6912361922161969,-0.535749891934185,-0.6347201701664932,-0.659044649550376,-0.6091474422329828,-0.6723581458917669,-0.5844334786549833,-0.5233342412381643,-0.6157774068114353,-0.8766976544712264,-0.49638534939865436,-0.7238038675865505,-0.7617551979903162,-0.7234654483631502,-0.5494270671645324,-0.7356557185748727,-0.5904591105702526,-1.0054844466516792,-0.5230742791019499,-0.5081584077848356,-0.5133489095287335,-0.5800047996992497,-0.5950667239993372],[-0.45868489979542404,-0.6957740429861541,-0.6034957399485684,-0.7047088986610203,-0.35508256848484593,-0.6200264338281858,-0.33945117393009583,-0.3742234480966025,-0.2436663438037671,-0.18303314871403603,-0.09439540452864817,-0.3269963124400988,-0.3677625868482956,-0.410122629626033,-0.49313606610084726,-0.5547558135018357,-0.26104911970374356,-0.8825028678904387,-0.4872498422970921,-0.26291636162016196,-0.5893899780695405,-0.41500213531284175,-0.7354873556136158,-0.7184172321445583,-0.2379748029411381,-0.1397531991088805,-0.16751979212135612,-0.6003567997117198,-0.4162240701929549,-0.7053381840680916,-0.5839875360874476,-0.2278571493638571,-0.7201506656970333,-0.3547404855354374,-0.7143368393958632,-0.15280637445668965,-0.2598430497976281,-0.37565957175994386,-0.5198278091461263,-0.2818910741678061,-0.3494782927859328,-0.3864472690976044,-0.2171064376686509,-0.5455130256295543,-0.3280330302244687,-0.3252062348908948,-0.3309835857622631,-0.3133865038056835,-0.4909431870306126,-0.41917592951619415,-0.2741576079471971,-0.4243800865193927,-0.3403445903381164,-0.19236648478873072,-0.3152730867118703,-0.22723624995209693,-0.6318108166434635,-0.3791536711122497,-0.40645960017702765,-0.3035407549446402,-0.2648673494664219,-0.25369538532592456,-0.2670391448085438,-0.49708613113341543,-0.14984412355045348,-0.3164696536272375,-0.5458520299747294,-0.8075771687693395,-0.09477505235172272,-0.11592130736035165,-0.27472498532122247,-0.17944165729929365,-0.47237563774978186,-0.31760942320358015,-0.2782589156680146,-0.20763071307171263,-0.2526873080006961,-0.3265852521978939,-0.3467443874314552,-0.5212145611765887,-0.10080542552309858,-0.21567966814442335,-0.45338287572288044,-0.5940132974336324,-0.7103199823942004,-0.6409799463069759,-0.6157372398154787,-0.1955808357222867,-0.6055355923438117,-0.5569981642508826,-0.5110948409143595,-0.3865163977966695,-0.34322259564316954,-0.4302637679198305,-0.29080946677670616,-0.41653202197595435,-0.4318857774643012,-0.4517161031045981,-0.4988725444317883,-0.4940828378062652,-0.5259755474022689,-0.6502140020298778,-0.21191126445980749,-0.25295925894171417,-0.2632718086600155,-0.3468735897056945,-0.45002538984633245,-0.9648696936553153,-0.712531257921944,-0.5452282578052745,-0.7120042086235701,-0.4106301009383013,-0.3991876451947829,-0.21418685877561186,-0.8065878878888629,-0.5774056503924965,-0.4262441770568482,-0.24017617330739452,-0.42825431217011856,-0.250370164841857,-0.6275718161157486,-0.37638787451080347,-0.35409967153608807,-0.3206479276422434,-0.13034658696858378],[-0.3353560811460942,-0.47650614566073507,-0.7981663454822121,-0.5084403963761489,-0.8627546312772709,-0.4610075442544966,-0.9379682810365124,-0.7774285160398635,-0.8351433054685385,-0.7766927416606695,-0.7278224953826214,-0.9069975702201151,-0.8907668617514689,-0.9269792192746769,-0.9803922709351873,-0.8798780727516956,-0.7918476089027849,-0.41082596001991545,-0.8914216996865634,-0.8301780751081995,1.6665736721661055,-0.7558985017784533,-0.09755075968965292,1.032472994845965,-0.8363509506668125,-0.6487841081952883,-0.9085045605851737,-0.505686543904469,-0.9420533368989797,-0.6540791905438232,0.5973228392562421,-0.9839518044767986,-0.6408629015640743,-0.9816363237424195,-0.6607846256140152,-0.6260533848326459,-0.7764136322722104,-0.9016471262518919,-1.1145721323573394,-1.0209437039946525,-1.0885229299752694,-1.0305689955962285,-0.7836902898046874,-0.9149359041644471,-0.9087510182012544,-0.9109717747693916,-0.8730889207779818,-0.9198960026411312,-0.8978440779760195,-0.8997309825846872,-1.013478735226931,-0.7990243043227832,-0.942782398295474,-0.9369046428636149,-0.9497246826314544,-0.8311266934489402,-0.8661981463476629,-0.9358453970873231,-1.0942832215006872,-0.8630950681252612,-0.8762580365204623,-0.7880718946213889,-0.8451862738841696,-0.9023973908856174,-0.9085900678523718,-0.7961632748859594,-0.7906334571771185,-0.6753930114664211,-0.7201227122335919,-0.9112338766829751,-0.7533386743321815,-0.9968392592233599,-0.9147225273347716,-0.71970441111095,-0.9751457268341966,-0.8377486430480233,-0.8636278003959657,-0.854840969964925,-0.8317685131590871,-0.5731043121781418,-0.772265099526612,-0.7807749757618445,-0.5831165041861858,0.21104041414138233,0.2337120845558044,0.07027333926183389,-0.156522605539098,-0.7745395221719841,-0.18401833906315943,0.248836029789249,-0.8288117064511322,-0.964503587688884,-0.769662742746847,-0.8635628950344784,-0.7734437691163338,-0.7924050806215273,-0.9481019210463099,-0.923442796213653,-0.8328741072242325,-0.8923811146618128,-0.8018284723719128,-0.7725377315508068,-0.8149519517231465,-0.767911274108161,-0.7586401694777272,-0.7607213685483968,-0.80353906353388,-0.10092759440572723,0.11953861545196463,-0.9067808249685619,-0.6779068069593043,-0.8025458753502983,-0.8244299534028919,-0.9531244020067842,-0.7153592262522186,0.5277655336517193,-0.9007641256351172,-0.9888449278316889,-0.8211956320993664,-0.6309968759980276,-0.7643040918929592,-0.8078431019195028,-0.8365056120543707,-0.7790063952731766,-0.6945353629793596],[-0.5524661889766852,-0.6047512781905807,-0.6689529655771477,-0.7947890319884647,-0.5335572752956738,-0.8217844777893756,-0.5042251143480567,0.07688958027176253,-0.42862543789341384,-0.3151656985155016,-0.36162595699744177,0.08513941277049775,0.037324300515969834,-0.4208852607906295,-0.4729514677232855,-0.612726868107374,-0.46082270676190706,-0.7739308967190226,-0.6640722957626449,-0.4229084738605498,-0.6196713693478713,-0.48356476957171257,-0.5952864963387192,-1.223247541015276,-0.39484670328058014,-0.35586526485098485,-0.48516099575822796,-0.7620408321016313,-0.6877830824203599,-0.8851449697334105,-0.7404141184036792,-0.07806145533912842,-0.6130068747478676,-0.5322084968989462,-0.5623060579883347,-0.28695198832139585,-0.37132481082258584,-0.6487434567962956,-0.41893368288708116,-0.3399849405094047,-0.2660650083500573,-0.31618281164114154,-0.37747698368538285,-0.6644400359563766,-0.5614140435432214,-0.5471615972417352,-0.5170258998642533,-0.5661306427868908,-0.7693083065260908,-0.46675197327876017,-0.21670552149466957,-0.6720409818930925,-0.3582760690464436,-0.2965032747520568,-0.40027962004093853,-0.33787580677188295,-0.6157218267729725,-0.5048289833331913,-0.9066949611396892,-0.5274075562303792,-0.4391926024390352,-0.40768593540314807,-0.5260605070924257,-0.6851171279256741,-0.4319100240150364,-0.3758684359625421,-0.6613753169096002,-0.8514267209515576,-0.22174792522321157,-0.4711537615176207,-0.309574757907394,0.030276221746183007,-0.5907098458293005,-0.23726029442973562,-0.49603604415744645,-0.4396069684490306,-0.5252007297608983,-0.4916174512749992,-0.540754037722508,-0.5735358277789864,-0.30369750302364457,-0.35691585214259575,-0.6384988756058997,-0.6115104399690139,-0.8040095297410871,-0.7846367801970537,-0.7570258105200613,-0.2769293561880674,-0.6978222771365324,-0.6100102866926427,-0.4313474181163006,-0.5805355718684692,-0.3860404095983739,-0.5196674854284059,-0.6734484358334293,-0.5737612069748095,-0.4479241017446296,-0.05531869691850813,-0.5177910415825404,-0.2660505099452294,-0.653063636093934,-0.7311184977077518,-0.4675905007741698,-0.24011432358582466,-0.49495123255642703,-0.6872025278363402,-0.7099038914914182,-0.6079294871371563,-0.8799131942261228,-0.6030264529170722,-0.5611887781854714,-0.8037783148924743,-0.7484030947419741,-0.4046346791960171,-0.8796713138878638,-0.6948090715841231,-0.3783962775935329,-0.0947181342144885,-0.6362774626050562,-0.24478912802138528,-0.7109519679431182,-0.5677759933374695,-0.551936770907718,-0.32497528708820006,-0.264460249476842],[-1.302716502426775,-0.7176695534180789,-1.0537806673235455,-0.8179614938584117,-0.7497939946519077,-0.7510978144660745,-1.1221273909154097,-1.1288346216960832,-1.1017981124953085,-0.40626931476003286,-0.8988858737539314,-0.9786831189344991,-1.1515066023008642,-0.9219733443143995,-0.9034216691220853,-0.9510174870195887,-0.6920243161960358,-0.6067588219021068,-0.735903683340685,-0.7192278341023361,-0.7376426228697017,-0.5484903895401487,-1.2082682467606778,-0.15164130592945238,-0.6520027435392057,-0.7748113244993439,-0.7519539690500011,-1.2990374703790895,-0.8965843089086151,-0.9666516512459041,-0.7364744859601593,-1.0150851138049786,-0.8952359854662153,-0.9051339412513411,-0.8437247384661003,-0.6061968669147737,-0.6245243246423653,-0.994194028888367,-1.0607847713295973,-1.1522029586060945,-0.9783821494701521,-0.9916772294764151,-0.4766749101838981,-1.0284784238662361,-0.8758038903445806,-0.8471578773124712,-0.6523495062253233,-0.780530030844034,-0.7950057819176239,-0.9429329912064233,-0.9555759402050943,-0.9104189870403301,-0.9899588897302116,-0.837601602051358,-0.8940287690939879,-0.4220379603564507,-0.9375016241827937,-0.8970745426443677,-1.1851198791079274,-0.7454466729148354,-0.7542619709375915,-0.6116393108895003,-0.7537959970791116,-0.6817124514405468,-0.943253588150429,-0.5047273106928263,-0.9300516259372803,-0.9177306331884381,-0.5381783490360837,-0.6433998834691611,-0.5633845863755904,-0.9458787761338578,-0.7044547789499387,-0.5940570053906916,-0.8032997745352631,-0.6772479540270875,-0.7718941567791192,-0.7735091247312194,-0.7621103568098693,-0.8203627514620504,-0.7284090190657432,-0.474110766725301,-0.8690047089460544,-0.26110470189272245,-0.5916523578633318,-0.6330418516019669,-0.7818771739798515,-0.512285515775055,-0.6332465064684816,-0.4376584726002011,-0.9177136830019457,-0.9379107498440779,-0.5212878219439641,-0.9179003103742143,-0.7162508663161485,-0.8538728436916782,-0.94209705081813,-0.9427344428646562,-1.0810667722257656,-0.8613248953025374,-0.5783912280206797,-0.6387713343144812,-0.7560396852912658,-0.6007250593186957,-0.5339725651938607,-0.7677811247757135,-0.8661870563392682,-1.3139262246296612,-0.6137237461419331,-0.6727257533646616,-0.8124931856437381,-0.6721126904699953,-0.8355517042614569,-0.6287579459935632,-0.7343977657981768,-0.5892483367144414,-0.7427416302444517,-1.062621915959503,-0.8227620714851717,-1.24993385938834,-1.0397518899397566,-0.7393164553969257,-0.7447607312406893,-0.547264909154183,-0.6713280257901493],[0.9506037883120219,0.9166739038220272,1.4131810503373377,0.7782386708724027,0.22335646652541652,0.4253078512113753,1.1176673972169695,0.30135175018227517,1.5490643808884628,0.03548630528525807,0.2562397401434346,0.8640175063255292,0.9623658751746437,0.1635506408217596,0.905028636181323,0.4796415420445065,0.48663887051140065,0.5648837411695665,0.30869180282388786,0.4335019425819585,-0.28152916673984385,0.06503460218277934,1.4101756330950757,0.027312699732113057,0.3174495410806147,0.16678711448082043,1.2291507701622426,2.7311852361119824,0.8822142723030418,0.7868550537035216,-0.03834844265994053,1.1784789091462142,0.7691955875665434,0.6981850962562213,-0.10890929499637897,0.024133459058603382,0.09906209926283663,0.8630367792372862,0.382909110013751,0.41715351563133546,0.2847123213625322,0.7172640136054433,-0.07334230913885864,0.5756315658175951,1.6005009135228667,0.3729043031955953,0.3015013069429445,0.7631009762477176,0.35833175768881476,0.759374192756282,0.7429325593708991,0.6774721063966547,0.48691425295352236,0.9211791448867089,0.3382504878392354,0.05558354654680778,0.2845302882531409,0.28780813928116544,0.6768203537995469,0.24377864028853632,0.13793608413538302,0.06941346865570006,0.24044336418887308,1.0098701085905506,1.1574010537030757,0.15102498546281337,0.5008190534433271,0.8678146583280666,0.019300181559447252,1.0005235485624937,0.10003942503120607,0.8916900061291063,0.08544333144574733,0.20861914625874373,1.364334974923911,0.48155035973289056,0.7467475540088876,0.18344665139041755,0.2740495939468152,-0.13187961031462286,0.13224732485579935,0.01675272989947729,-0.015235490821351887,-0.2987837337017186,-0.005189733806670319,-0.033693021103198766,0.5284966587943413,-0.054148813291442006,-0.09851927143805446,-0.230520053828551,1.736813176299435,1.393304249387854,0.12208538257851627,0.5781104323462128,-0.00890380394224476,0.4499837424834255,0.5226858927748358,0.31351921405186295,1.7963465563219536,0.7276579666380021,0.05806418020757361,0.27889838359351654,0.00400219201303534,0.2825735178174275,0.14147713106985113,0.6117926179899299,0.4098207172445176,1.1512175626564511,-0.03194109408354826,0.20913610889062628,1.3825270464933723,0.6477273559054169,0.39350526752151466,1.0543024183946161,0.48920526261595776,-0.24829593544560807,0.0672791925848652,0.8853420830743134,0.42283136712252095,0.47237410340922936,1.3290544803839999,0.18907634370206433,0.30559393470155316,0.11812354460172819,0.045383353802250524]],\"type\":\"heatmap\"}],                        {\"template\":{\"data\":{\"bar\":[{\"error_x\":{\"color\":\"#2a3f5f\"},\"error_y\":{\"color\":\"#2a3f5f\"},\"marker\":{\"line\":{\"color\":\"#E5ECF6\",\"width\":0.5},\"pattern\":{\"fillmode\":\"overlay\",\"size\":10,\"solidity\":0.2}},\"type\":\"bar\"}],\"barpolar\":[{\"marker\":{\"line\":{\"color\":\"#E5ECF6\",\"width\":0.5},\"pattern\":{\"fillmode\":\"overlay\",\"size\":10,\"solidity\":0.2}},\"type\":\"barpolar\"}],\"carpet\":[{\"aaxis\":{\"endlinecolor\":\"#2a3f5f\",\"gridcolor\":\"white\",\"linecolor\":\"white\",\"minorgridcolor\":\"white\",\"startlinecolor\":\"#2a3f5f\"},\"baxis\":{\"endlinecolor\":\"#2a3f5f\",\"gridcolor\":\"white\",\"linecolor\":\"white\",\"minorgridcolor\":\"white\",\"startlinecolor\":\"#2a3f5f\"},\"type\":\"carpet\"}],\"choropleth\":[{\"colorbar\":{\"outlinewidth\":0,\"ticks\":\"\"},\"type\":\"choropleth\"}],\"contour\":[{\"colorbar\":{\"outlinewidth\":0,\"ticks\":\"\"},\"colorscale\":[[0.0,\"#0d0887\"],[0.1111111111111111,\"#46039f\"],[0.2222222222222222,\"#7201a8\"],[0.3333333333333333,\"#9c179e\"],[0.4444444444444444,\"#bd3786\"],[0.5555555555555556,\"#d8576b\"],[0.6666666666666666,\"#ed7953\"],[0.7777777777777778,\"#fb9f3a\"],[0.8888888888888888,\"#fdca26\"],[1.0,\"#f0f921\"]],\"type\":\"contour\"}],\"contourcarpet\":[{\"colorbar\":{\"outlinewidth\":0,\"ticks\":\"\"},\"type\":\"contourcarpet\"}],\"heatmap\":[{\"colorbar\":{\"outlinewidth\":0,\"ticks\":\"\"},\"colorscale\":[[0.0,\"#0d0887\"],[0.1111111111111111,\"#46039f\"],[0.2222222222222222,\"#7201a8\"],[0.3333333333333333,\"#9c179e\"],[0.4444444444444444,\"#bd3786\"],[0.5555555555555556,\"#d8576b\"],[0.6666666666666666,\"#ed7953\"],[0.7777777777777778,\"#fb9f3a\"],[0.8888888888888888,\"#fdca26\"],[1.0,\"#f0f921\"]],\"type\":\"heatmap\"}],\"heatmapgl\":[{\"colorbar\":{\"outlinewidth\":0,\"ticks\":\"\"},\"colorscale\":[[0.0,\"#0d0887\"],[0.1111111111111111,\"#46039f\"],[0.2222222222222222,\"#7201a8\"],[0.3333333333333333,\"#9c179e\"],[0.4444444444444444,\"#bd3786\"],[0.5555555555555556,\"#d8576b\"],[0.6666666666666666,\"#ed7953\"],[0.7777777777777778,\"#fb9f3a\"],[0.8888888888888888,\"#fdca26\"],[1.0,\"#f0f921\"]],\"type\":\"heatmapgl\"}],\"histogram\":[{\"marker\":{\"pattern\":{\"fillmode\":\"overlay\",\"size\":10,\"solidity\":0.2}},\"type\":\"histogram\"}],\"histogram2d\":[{\"colorbar\":{\"outlinewidth\":0,\"ticks\":\"\"},\"colorscale\":[[0.0,\"#0d0887\"],[0.1111111111111111,\"#46039f\"],[0.2222222222222222,\"#7201a8\"],[0.3333333333333333,\"#9c179e\"],[0.4444444444444444,\"#bd3786\"],[0.5555555555555556,\"#d8576b\"],[0.6666666666666666,\"#ed7953\"],[0.7777777777777778,\"#fb9f3a\"],[0.8888888888888888,\"#fdca26\"],[1.0,\"#f0f921\"]],\"type\":\"histogram2d\"}],\"histogram2dcontour\":[{\"colorbar\":{\"outlinewidth\":0,\"ticks\":\"\"},\"colorscale\":[[0.0,\"#0d0887\"],[0.1111111111111111,\"#46039f\"],[0.2222222222222222,\"#7201a8\"],[0.3333333333333333,\"#9c179e\"],[0.4444444444444444,\"#bd3786\"],[0.5555555555555556,\"#d8576b\"],[0.6666666666666666,\"#ed7953\"],[0.7777777777777778,\"#fb9f3a\"],[0.8888888888888888,\"#fdca26\"],[1.0,\"#f0f921\"]],\"type\":\"histogram2dcontour\"}],\"mesh3d\":[{\"colorbar\":{\"outlinewidth\":0,\"ticks\":\"\"},\"type\":\"mesh3d\"}],\"parcoords\":[{\"line\":{\"colorbar\":{\"outlinewidth\":0,\"ticks\":\"\"}},\"type\":\"parcoords\"}],\"pie\":[{\"automargin\":true,\"type\":\"pie\"}],\"scatter\":[{\"marker\":{\"colorbar\":{\"outlinewidth\":0,\"ticks\":\"\"}},\"type\":\"scatter\"}],\"scatter3d\":[{\"line\":{\"colorbar\":{\"outlinewidth\":0,\"ticks\":\"\"}},\"marker\":{\"colorbar\":{\"outlinewidth\":0,\"ticks\":\"\"}},\"type\":\"scatter3d\"}],\"scattercarpet\":[{\"marker\":{\"colorbar\":{\"outlinewidth\":0,\"ticks\":\"\"}},\"type\":\"scattercarpet\"}],\"scattergeo\":[{\"marker\":{\"colorbar\":{\"outlinewidth\":0,\"ticks\":\"\"}},\"type\":\"scattergeo\"}],\"scattergl\":[{\"marker\":{\"colorbar\":{\"outlinewidth\":0,\"ticks\":\"\"}},\"type\":\"scattergl\"}],\"scattermapbox\":[{\"marker\":{\"colorbar\":{\"outlinewidth\":0,\"ticks\":\"\"}},\"type\":\"scattermapbox\"}],\"scatterpolar\":[{\"marker\":{\"colorbar\":{\"outlinewidth\":0,\"ticks\":\"\"}},\"type\":\"scatterpolar\"}],\"scatterpolargl\":[{\"marker\":{\"colorbar\":{\"outlinewidth\":0,\"ticks\":\"\"}},\"type\":\"scatterpolargl\"}],\"scatterternary\":[{\"marker\":{\"colorbar\":{\"outlinewidth\":0,\"ticks\":\"\"}},\"type\":\"scatterternary\"}],\"surface\":[{\"colorbar\":{\"outlinewidth\":0,\"ticks\":\"\"},\"colorscale\":[[0.0,\"#0d0887\"],[0.1111111111111111,\"#46039f\"],[0.2222222222222222,\"#7201a8\"],[0.3333333333333333,\"#9c179e\"],[0.4444444444444444,\"#bd3786\"],[0.5555555555555556,\"#d8576b\"],[0.6666666666666666,\"#ed7953\"],[0.7777777777777778,\"#fb9f3a\"],[0.8888888888888888,\"#fdca26\"],[1.0,\"#f0f921\"]],\"type\":\"surface\"}],\"table\":[{\"cells\":{\"fill\":{\"color\":\"#EBF0F8\"},\"line\":{\"color\":\"white\"}},\"header\":{\"fill\":{\"color\":\"#C8D4E3\"},\"line\":{\"color\":\"white\"}},\"type\":\"table\"}]},\"layout\":{\"annotationdefaults\":{\"arrowcolor\":\"#2a3f5f\",\"arrowhead\":0,\"arrowwidth\":1},\"autotypenumbers\":\"strict\",\"coloraxis\":{\"colorbar\":{\"outlinewidth\":0,\"ticks\":\"\"}},\"colorscale\":{\"diverging\":[[0,\"#8e0152\"],[0.1,\"#c51b7d\"],[0.2,\"#de77ae\"],[0.3,\"#f1b6da\"],[0.4,\"#fde0ef\"],[0.5,\"#f7f7f7\"],[0.6,\"#e6f5d0\"],[0.7,\"#b8e186\"],[0.8,\"#7fbc41\"],[0.9,\"#4d9221\"],[1,\"#276419\"]],\"sequential\":[[0.0,\"#0d0887\"],[0.1111111111111111,\"#46039f\"],[0.2222222222222222,\"#7201a8\"],[0.3333333333333333,\"#9c179e\"],[0.4444444444444444,\"#bd3786\"],[0.5555555555555556,\"#d8576b\"],[0.6666666666666666,\"#ed7953\"],[0.7777777777777778,\"#fb9f3a\"],[0.8888888888888888,\"#fdca26\"],[1.0,\"#f0f921\"]],\"sequentialminus\":[[0.0,\"#0d0887\"],[0.1111111111111111,\"#46039f\"],[0.2222222222222222,\"#7201a8\"],[0.3333333333333333,\"#9c179e\"],[0.4444444444444444,\"#bd3786\"],[0.5555555555555556,\"#d8576b\"],[0.6666666666666666,\"#ed7953\"],[0.7777777777777778,\"#fb9f3a\"],[0.8888888888888888,\"#fdca26\"],[1.0,\"#f0f921\"]]},\"colorway\":[\"#636efa\",\"#EF553B\",\"#00cc96\",\"#ab63fa\",\"#FFA15A\",\"#19d3f3\",\"#FF6692\",\"#B6E880\",\"#FF97FF\",\"#FECB52\"],\"font\":{\"color\":\"#2a3f5f\"},\"geo\":{\"bgcolor\":\"white\",\"lakecolor\":\"white\",\"landcolor\":\"#E5ECF6\",\"showlakes\":true,\"showland\":true,\"subunitcolor\":\"white\"},\"hoverlabel\":{\"align\":\"left\"},\"hovermode\":\"closest\",\"mapbox\":{\"style\":\"light\"},\"paper_bgcolor\":\"white\",\"plot_bgcolor\":\"#E5ECF6\",\"polar\":{\"angularaxis\":{\"gridcolor\":\"white\",\"linecolor\":\"white\",\"ticks\":\"\"},\"bgcolor\":\"#E5ECF6\",\"radialaxis\":{\"gridcolor\":\"white\",\"linecolor\":\"white\",\"ticks\":\"\"}},\"scene\":{\"xaxis\":{\"backgroundcolor\":\"#E5ECF6\",\"gridcolor\":\"white\",\"gridwidth\":2,\"linecolor\":\"white\",\"showbackground\":true,\"ticks\":\"\",\"zerolinecolor\":\"white\"},\"yaxis\":{\"backgroundcolor\":\"#E5ECF6\",\"gridcolor\":\"white\",\"gridwidth\":2,\"linecolor\":\"white\",\"showbackground\":true,\"ticks\":\"\",\"zerolinecolor\":\"white\"},\"zaxis\":{\"backgroundcolor\":\"#E5ECF6\",\"gridcolor\":\"white\",\"gridwidth\":2,\"linecolor\":\"white\",\"showbackground\":true,\"ticks\":\"\",\"zerolinecolor\":\"white\"}},\"shapedefaults\":{\"line\":{\"color\":\"#2a3f5f\"}},\"ternary\":{\"aaxis\":{\"gridcolor\":\"white\",\"linecolor\":\"white\",\"ticks\":\"\"},\"baxis\":{\"gridcolor\":\"white\",\"linecolor\":\"white\",\"ticks\":\"\"},\"bgcolor\":\"#E5ECF6\",\"caxis\":{\"gridcolor\":\"white\",\"linecolor\":\"white\",\"ticks\":\"\"}},\"title\":{\"x\":0.05},\"xaxis\":{\"automargin\":true,\"gridcolor\":\"white\",\"linecolor\":\"white\",\"ticks\":\"\",\"title\":{\"standoff\":15},\"zerolinecolor\":\"white\",\"zerolinewidth\":2},\"yaxis\":{\"automargin\":true,\"gridcolor\":\"white\",\"linecolor\":\"white\",\"ticks\":\"\",\"title\":{\"standoff\":15},\"zerolinecolor\":\"white\",\"zerolinewidth\":2}}},\"width\":3000,\"height\":700},                        {\"responsive\": true}                    ).then(function(){\n",
       "                            \n",
       "var gd = document.getElementById('e5358438-4317-48d7-b2dd-d48327749a7c');\n",
       "var x = new MutationObserver(function (mutations, observer) {{\n",
       "        var display = window.getComputedStyle(gd).display;\n",
       "        if (!display || display === 'none') {{\n",
       "            console.log([gd, 'removed!']);\n",
       "            Plotly.purge(gd);\n",
       "            observer.disconnect();\n",
       "        }}\n",
       "}});\n",
       "\n",
       "// Listen for the removal of the full notebook cells\n",
       "var notebookContainer = gd.closest('#notebook-container');\n",
       "if (notebookContainer) {{\n",
       "    x.observe(notebookContainer, {childList: true});\n",
       "}}\n",
       "\n",
       "// Listen for the clearing of the current output cell\n",
       "var outputEl = gd.closest('.output');\n",
       "if (outputEl) {{\n",
       "    x.observe(outputEl, {childList: true});\n",
       "}}\n",
       "\n",
       "                        })                };                });            </script>        </div>"
      ]
     },
     "metadata": {},
     "output_type": "display_data"
    }
   ],
   "source": [
    "fig = go.Figure(data = go.Heatmap(z = std_job_skill, x =non_backend_full_job_skill.columns , y = non_backend_full_job_skill.index, colorscale= 'magma', ygap = 1))\n",
    "fig.update_layout(width = 3000, height = 700)\n",
    "fig.show()\n",
    "fig.write_html('../reports/figures/std_skills_heatmap_dropped.html')"
   ]
  },
  {
   "cell_type": "markdown",
   "id": "9e8b1acf",
   "metadata": {},
   "source": [
    "TODO\n",
    "1. drop marketing\n",
    "2. student/ other/ educator = not specified\n",
    "3. merge scientist & researcher\n",
    "4. subclustering on frontend & backend & fullstack\n"
   ]
  },
  {
   "cell_type": "code",
   "execution_count": null,
   "id": "6c5c364f",
   "metadata": {},
   "outputs": [],
   "source": []
  }
 ],
 "metadata": {
  "kernelspec": {
   "display_name": "Python 3 (ipykernel)",
   "language": "python",
   "name": "python3"
  },
  "language_info": {
   "codemirror_mode": {
    "name": "ipython",
    "version": 3
   },
   "file_extension": ".py",
   "mimetype": "text/x-python",
   "name": "python",
   "nbconvert_exporter": "python",
   "pygments_lexer": "ipython3",
   "version": "3.9.7"
  }
 },
 "nbformat": 4,
 "nbformat_minor": 5
}
