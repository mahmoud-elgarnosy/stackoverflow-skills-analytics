{
 "cells": [
  {
   "cell_type": "code",
   "execution_count": 1,
   "id": "ef99c0b2",
   "metadata": {},
   "outputs": [],
   "source": [
    "import pandas as pd\n",
    "import numpy as np\n",
    "#import sklearn.preprocessing.LabelBinarizer\n",
    "from sklearn.preprocessing import MultiLabelBinarizer\n",
    "from sklearn.preprocessing import OrdinalEncoder\n",
    "import itertools\n",
    "import plotly.express as px"
   ]
  },
  {
   "cell_type": "code",
   "execution_count": 2,
   "id": "ff183db5",
   "metadata": {},
   "outputs": [],
   "source": [
    "encoded_df = pd.read_csv('../data/processed/04__encoded.csv',index_col = 0, header = [0,1])\n"
   ]
  },
  {
   "cell_type": "code",
   "execution_count": 3,
   "id": "927e15e8",
   "metadata": {},
   "outputs": [
    {
     "data": {
      "text/html": [
       "<div>\n",
       "<style scoped>\n",
       "    .dataframe tbody tr th:only-of-type {\n",
       "        vertical-align: middle;\n",
       "    }\n",
       "\n",
       "    .dataframe tbody tr th {\n",
       "        vertical-align: top;\n",
       "    }\n",
       "\n",
       "    .dataframe thead tr th {\n",
       "        text-align: left;\n",
       "    }\n",
       "</style>\n",
       "<table border=\"1\" class=\"dataframe\">\n",
       "  <thead>\n",
       "    <tr>\n",
       "      <th></th>\n",
       "      <th colspan=\"10\" halign=\"left\">LanguageHaveWorkedWith</th>\n",
       "      <th>...</th>\n",
       "      <th colspan=\"10\" halign=\"left\">DevType</th>\n",
       "    </tr>\n",
       "    <tr>\n",
       "      <th></th>\n",
       "      <th>APL</th>\n",
       "      <th>Assembly</th>\n",
       "      <th>Bash/Shell</th>\n",
       "      <th>C</th>\n",
       "      <th>C#</th>\n",
       "      <th>C++</th>\n",
       "      <th>COBOL</th>\n",
       "      <th>Clojure</th>\n",
       "      <th>Crystal</th>\n",
       "      <th>Dart</th>\n",
       "      <th>...</th>\n",
       "      <th>Engineer, data</th>\n",
       "      <th>Engineer, site reliability</th>\n",
       "      <th>Engineering manager</th>\n",
       "      <th>Marketing or sales professional</th>\n",
       "      <th>Other (please specify):</th>\n",
       "      <th>Product manager</th>\n",
       "      <th>Scientist</th>\n",
       "      <th>Senior Executive (C-Suite, VP, etc.)</th>\n",
       "      <th>Student</th>\n",
       "      <th>System administrator</th>\n",
       "    </tr>\n",
       "  </thead>\n",
       "  <tbody>\n",
       "    <tr>\n",
       "      <th>0</th>\n",
       "      <td>0.0</td>\n",
       "      <td>0.0</td>\n",
       "      <td>19.5</td>\n",
       "      <td>0.0</td>\n",
       "      <td>0.0</td>\n",
       "      <td>0.0</td>\n",
       "      <td>0.0</td>\n",
       "      <td>0.0</td>\n",
       "      <td>0.0</td>\n",
       "      <td>0.0</td>\n",
       "      <td>...</td>\n",
       "      <td>13.0</td>\n",
       "      <td>0.0</td>\n",
       "      <td>0.0</td>\n",
       "      <td>0.0</td>\n",
       "      <td>13.0</td>\n",
       "      <td>0.0</td>\n",
       "      <td>0.0</td>\n",
       "      <td>0.0</td>\n",
       "      <td>0.0</td>\n",
       "      <td>0.0</td>\n",
       "    </tr>\n",
       "    <tr>\n",
       "      <th>1</th>\n",
       "      <td>0.0</td>\n",
       "      <td>0.0</td>\n",
       "      <td>0.0</td>\n",
       "      <td>0.0</td>\n",
       "      <td>0.0</td>\n",
       "      <td>0.0</td>\n",
       "      <td>0.0</td>\n",
       "      <td>0.0</td>\n",
       "      <td>0.0</td>\n",
       "      <td>0.0</td>\n",
       "      <td>...</td>\n",
       "      <td>0.0</td>\n",
       "      <td>0.0</td>\n",
       "      <td>0.0</td>\n",
       "      <td>0.0</td>\n",
       "      <td>0.0</td>\n",
       "      <td>0.0</td>\n",
       "      <td>0.0</td>\n",
       "      <td>0.0</td>\n",
       "      <td>0.0</td>\n",
       "      <td>0.0</td>\n",
       "    </tr>\n",
       "    <tr>\n",
       "      <th>2</th>\n",
       "      <td>0.0</td>\n",
       "      <td>0.0</td>\n",
       "      <td>0.0</td>\n",
       "      <td>0.0</td>\n",
       "      <td>0.0</td>\n",
       "      <td>9.0</td>\n",
       "      <td>0.0</td>\n",
       "      <td>0.0</td>\n",
       "      <td>0.0</td>\n",
       "      <td>0.0</td>\n",
       "      <td>...</td>\n",
       "      <td>0.0</td>\n",
       "      <td>0.0</td>\n",
       "      <td>0.0</td>\n",
       "      <td>0.0</td>\n",
       "      <td>0.0</td>\n",
       "      <td>0.0</td>\n",
       "      <td>0.0</td>\n",
       "      <td>0.0</td>\n",
       "      <td>0.0</td>\n",
       "      <td>0.0</td>\n",
       "    </tr>\n",
       "    <tr>\n",
       "      <th>3</th>\n",
       "      <td>0.0</td>\n",
       "      <td>0.0</td>\n",
       "      <td>0.0</td>\n",
       "      <td>0.0</td>\n",
       "      <td>31.5</td>\n",
       "      <td>0.0</td>\n",
       "      <td>0.0</td>\n",
       "      <td>0.0</td>\n",
       "      <td>0.0</td>\n",
       "      <td>0.0</td>\n",
       "      <td>...</td>\n",
       "      <td>0.0</td>\n",
       "      <td>0.0</td>\n",
       "      <td>0.0</td>\n",
       "      <td>0.0</td>\n",
       "      <td>0.0</td>\n",
       "      <td>0.0</td>\n",
       "      <td>0.0</td>\n",
       "      <td>0.0</td>\n",
       "      <td>0.0</td>\n",
       "      <td>0.0</td>\n",
       "    </tr>\n",
       "    <tr>\n",
       "      <th>4</th>\n",
       "      <td>0.0</td>\n",
       "      <td>0.0</td>\n",
       "      <td>10.0</td>\n",
       "      <td>0.0</td>\n",
       "      <td>0.0</td>\n",
       "      <td>5.0</td>\n",
       "      <td>0.0</td>\n",
       "      <td>5.0</td>\n",
       "      <td>0.0</td>\n",
       "      <td>0.0</td>\n",
       "      <td>...</td>\n",
       "      <td>0.0</td>\n",
       "      <td>0.0</td>\n",
       "      <td>0.0</td>\n",
       "      <td>0.0</td>\n",
       "      <td>0.0</td>\n",
       "      <td>0.0</td>\n",
       "      <td>0.0</td>\n",
       "      <td>0.0</td>\n",
       "      <td>0.0</td>\n",
       "      <td>0.0</td>\n",
       "    </tr>\n",
       "  </tbody>\n",
       "</table>\n",
       "<p>5 rows × 150 columns</p>\n",
       "</div>"
      ],
      "text/plain": [
       "  LanguageHaveWorkedWith                                                    \\\n",
       "                     APL Assembly Bash/Shell    C    C#  C++ COBOL Clojure   \n",
       "0                    0.0      0.0       19.5  0.0   0.0  0.0   0.0     0.0   \n",
       "1                    0.0      0.0        0.0  0.0   0.0  0.0   0.0     0.0   \n",
       "2                    0.0      0.0        0.0  0.0   0.0  9.0   0.0     0.0   \n",
       "3                    0.0      0.0        0.0  0.0  31.5  0.0   0.0     0.0   \n",
       "4                    0.0      0.0       10.0  0.0   0.0  5.0   0.0     5.0   \n",
       "\n",
       "                ...        DevType                             \\\n",
       "  Crystal Dart  ... Engineer, data Engineer, site reliability   \n",
       "0     0.0  0.0  ...           13.0                        0.0   \n",
       "1     0.0  0.0  ...            0.0                        0.0   \n",
       "2     0.0  0.0  ...            0.0                        0.0   \n",
       "3     0.0  0.0  ...            0.0                        0.0   \n",
       "4     0.0  0.0  ...            0.0                        0.0   \n",
       "\n",
       "                                                                               \\\n",
       "  Engineering manager Marketing or sales professional Other (please specify):   \n",
       "0                 0.0                             0.0                    13.0   \n",
       "1                 0.0                             0.0                     0.0   \n",
       "2                 0.0                             0.0                     0.0   \n",
       "3                 0.0                             0.0                     0.0   \n",
       "4                 0.0                             0.0                     0.0   \n",
       "\n",
       "                                                                          \\\n",
       "  Product manager Scientist Senior Executive (C-Suite, VP, etc.) Student   \n",
       "0             0.0       0.0                                  0.0     0.0   \n",
       "1             0.0       0.0                                  0.0     0.0   \n",
       "2             0.0       0.0                                  0.0     0.0   \n",
       "3             0.0       0.0                                  0.0     0.0   \n",
       "4             0.0       0.0                                  0.0     0.0   \n",
       "\n",
       "                        \n",
       "  System administrator  \n",
       "0                  0.0  \n",
       "1                  0.0  \n",
       "2                  0.0  \n",
       "3                  0.0  \n",
       "4                  0.0  \n",
       "\n",
       "[5 rows x 150 columns]"
      ]
     },
     "execution_count": 3,
     "metadata": {},
     "output_type": "execute_result"
    }
   ],
   "source": [
    "encoded_df.head()\n"
   ]
  },
  {
   "cell_type": "code",
   "execution_count": 4,
   "id": "bb86c4fc",
   "metadata": {},
   "outputs": [
    {
     "data": {
      "text/html": [
       "<div>\n",
       "<style scoped>\n",
       "    .dataframe tbody tr th:only-of-type {\n",
       "        vertical-align: middle;\n",
       "    }\n",
       "\n",
       "    .dataframe tbody tr th {\n",
       "        vertical-align: top;\n",
       "    }\n",
       "\n",
       "    .dataframe thead th {\n",
       "        text-align: right;\n",
       "    }\n",
       "</style>\n",
       "<table border=\"1\" class=\"dataframe\">\n",
       "  <thead>\n",
       "    <tr style=\"text-align: right;\">\n",
       "      <th></th>\n",
       "      <th>job</th>\n",
       "      <th>freq</th>\n",
       "    </tr>\n",
       "  </thead>\n",
       "  <tbody>\n",
       "    <tr>\n",
       "      <th>0</th>\n",
       "      <td>Developer, full-stack</td>\n",
       "      <td>452081.0</td>\n",
       "    </tr>\n",
       "    <tr>\n",
       "      <th>1</th>\n",
       "      <td>Developer, back-end</td>\n",
       "      <td>409476.0</td>\n",
       "    </tr>\n",
       "    <tr>\n",
       "      <th>2</th>\n",
       "      <td>Developer, front-end</td>\n",
       "      <td>236163.0</td>\n",
       "    </tr>\n",
       "    <tr>\n",
       "      <th>3</th>\n",
       "      <td>Developer, desktop or enterprise applications</td>\n",
       "      <td>166113.0</td>\n",
       "    </tr>\n",
       "    <tr>\n",
       "      <th>4</th>\n",
       "      <td>Developer, mobile</td>\n",
       "      <td>118092.0</td>\n",
       "    </tr>\n",
       "    <tr>\n",
       "      <th>5</th>\n",
       "      <td>DevOps specialist</td>\n",
       "      <td>114661.0</td>\n",
       "    </tr>\n",
       "    <tr>\n",
       "      <th>6</th>\n",
       "      <td>System administrator</td>\n",
       "      <td>88650.0</td>\n",
       "    </tr>\n",
       "    <tr>\n",
       "      <th>7</th>\n",
       "      <td>Database administrator</td>\n",
       "      <td>85747.0</td>\n",
       "    </tr>\n",
       "    <tr>\n",
       "      <th>8</th>\n",
       "      <td>Engineering manager</td>\n",
       "      <td>66940.0</td>\n",
       "    </tr>\n",
       "    <tr>\n",
       "      <th>9</th>\n",
       "      <td>Designer</td>\n",
       "      <td>60220.0</td>\n",
       "    </tr>\n",
       "    <tr>\n",
       "      <th>10</th>\n",
       "      <td>Developer, embedded applications or devices</td>\n",
       "      <td>59460.0</td>\n",
       "    </tr>\n",
       "    <tr>\n",
       "      <th>11</th>\n",
       "      <td>Engineer, data</td>\n",
       "      <td>59376.0</td>\n",
       "    </tr>\n",
       "    <tr>\n",
       "      <th>12</th>\n",
       "      <td>Data scientist or machine learning specialist</td>\n",
       "      <td>54849.0</td>\n",
       "    </tr>\n",
       "    <tr>\n",
       "      <th>13</th>\n",
       "      <td>Data or business analyst</td>\n",
       "      <td>52351.0</td>\n",
       "    </tr>\n",
       "    <tr>\n",
       "      <th>14</th>\n",
       "      <td>Developer, QA or test</td>\n",
       "      <td>50694.0</td>\n",
       "    </tr>\n",
       "    <tr>\n",
       "      <th>15</th>\n",
       "      <td>Product manager</td>\n",
       "      <td>44808.0</td>\n",
       "    </tr>\n",
       "    <tr>\n",
       "      <th>16</th>\n",
       "      <td>Other (please specify):</td>\n",
       "      <td>38931.0</td>\n",
       "    </tr>\n",
       "    <tr>\n",
       "      <th>17</th>\n",
       "      <td>Engineer, site reliability</td>\n",
       "      <td>38418.0</td>\n",
       "    </tr>\n",
       "    <tr>\n",
       "      <th>18</th>\n",
       "      <td>Senior Executive (C-Suite, VP, etc.)</td>\n",
       "      <td>36749.0</td>\n",
       "    </tr>\n",
       "    <tr>\n",
       "      <th>19</th>\n",
       "      <td>Educator</td>\n",
       "      <td>31757.0</td>\n",
       "    </tr>\n",
       "    <tr>\n",
       "      <th>20</th>\n",
       "      <td>Academic researcher</td>\n",
       "      <td>31123.0</td>\n",
       "    </tr>\n",
       "    <tr>\n",
       "      <th>21</th>\n",
       "      <td>Scientist</td>\n",
       "      <td>24618.0</td>\n",
       "    </tr>\n",
       "    <tr>\n",
       "      <th>22</th>\n",
       "      <td>Developer, game or graphics</td>\n",
       "      <td>24224.0</td>\n",
       "    </tr>\n",
       "    <tr>\n",
       "      <th>23</th>\n",
       "      <td>Student</td>\n",
       "      <td>19366.0</td>\n",
       "    </tr>\n",
       "    <tr>\n",
       "      <th>24</th>\n",
       "      <td>Marketing or sales professional</td>\n",
       "      <td>6748.0</td>\n",
       "    </tr>\n",
       "  </tbody>\n",
       "</table>\n",
       "</div>"
      ],
      "text/plain": [
       "                                              job      freq\n",
       "0                           Developer, full-stack  452081.0\n",
       "1                             Developer, back-end  409476.0\n",
       "2                            Developer, front-end  236163.0\n",
       "3   Developer, desktop or enterprise applications  166113.0\n",
       "4                               Developer, mobile  118092.0\n",
       "5                               DevOps specialist  114661.0\n",
       "6                            System administrator   88650.0\n",
       "7                          Database administrator   85747.0\n",
       "8                             Engineering manager   66940.0\n",
       "9                                        Designer   60220.0\n",
       "10    Developer, embedded applications or devices   59460.0\n",
       "11                                 Engineer, data   59376.0\n",
       "12  Data scientist or machine learning specialist   54849.0\n",
       "13                       Data or business analyst   52351.0\n",
       "14                          Developer, QA or test   50694.0\n",
       "15                                Product manager   44808.0\n",
       "16                        Other (please specify):   38931.0\n",
       "17                     Engineer, site reliability   38418.0\n",
       "18           Senior Executive (C-Suite, VP, etc.)   36749.0\n",
       "19                                       Educator   31757.0\n",
       "20                            Academic researcher   31123.0\n",
       "21                                      Scientist   24618.0\n",
       "22                    Developer, game or graphics   24224.0\n",
       "23                                        Student   19366.0\n",
       "24                Marketing or sales professional    6748.0"
      ]
     },
     "execution_count": 4,
     "metadata": {},
     "output_type": "execute_result"
    }
   ],
   "source": [
    "job_freq = encoded_df.DevType.sum().sort_values(ascending=False).reset_index()\n",
    "job_freq.columns = ['job','freq']\n",
    "job_freq"
   ]
  },
  {
   "cell_type": "code",
   "execution_count": 5,
   "id": "635d677c",
   "metadata": {},
   "outputs": [
    {
     "name": "stderr",
     "output_type": "stream",
     "text": [
      "/home/mahmoudelgarnosy/.local/lib/python3.8/site-packages/pandas/core/generic.py:4150: PerformanceWarning: dropping on a non-lexsorted multi-index without a level parameter may impact performance.\n",
      "  obj = obj._drop_axis(labels, axis, level=level, errors=errors)\n"
     ]
    }
   ],
   "source": [
    "skills_freq = encoded_df.drop('DevType', axis=1).sum().reset_index()\n",
    "skills_freq.columns = ['group', 'skill', 'freq']\n",
    "# encoded_df.drop('DevType').sum()"
   ]
  },
  {
   "cell_type": "code",
   "execution_count": 6,
   "id": "7d3d002a",
   "metadata": {},
   "outputs": [
    {
     "data": {
      "text/html": [
       "<div>\n",
       "<style scoped>\n",
       "    .dataframe tbody tr th:only-of-type {\n",
       "        vertical-align: middle;\n",
       "    }\n",
       "\n",
       "    .dataframe tbody tr th {\n",
       "        vertical-align: top;\n",
       "    }\n",
       "\n",
       "    .dataframe thead th {\n",
       "        text-align: right;\n",
       "    }\n",
       "</style>\n",
       "<table border=\"1\" class=\"dataframe\">\n",
       "  <thead>\n",
       "    <tr style=\"text-align: right;\">\n",
       "      <th></th>\n",
       "      <th>group</th>\n",
       "      <th>skill</th>\n",
       "      <th>freq</th>\n",
       "    </tr>\n",
       "  </thead>\n",
       "  <tbody>\n",
       "    <tr>\n",
       "      <th>95</th>\n",
       "      <td>ToolsTechHaveWorkedWith</td>\n",
       "      <td>Git</td>\n",
       "      <td>1069717.5</td>\n",
       "    </tr>\n",
       "    <tr>\n",
       "      <th>122</th>\n",
       "      <td>NEWCollabToolsHaveWorkedWith</td>\n",
       "      <td>Visual Studio Code</td>\n",
       "      <td>830016.5</td>\n",
       "    </tr>\n",
       "    <tr>\n",
       "      <th>19</th>\n",
       "      <td>LanguageHaveWorkedWith</td>\n",
       "      <td>JavaScript</td>\n",
       "      <td>764392.5</td>\n",
       "    </tr>\n",
       "    <tr>\n",
       "      <th>93</th>\n",
       "      <td>ToolsTechHaveWorkedWith</td>\n",
       "      <td>Docker</td>\n",
       "      <td>691857.5</td>\n",
       "    </tr>\n",
       "    <tr>\n",
       "      <th>16</th>\n",
       "      <td>LanguageHaveWorkedWith</td>\n",
       "      <td>HTML/CSS</td>\n",
       "      <td>618080.5</td>\n",
       "    </tr>\n",
       "    <tr>\n",
       "      <th>...</th>\n",
       "      <td>...</td>\n",
       "      <td>...</td>\n",
       "      <td>...</td>\n",
       "    </tr>\n",
       "    <tr>\n",
       "      <th>119</th>\n",
       "      <td>NEWCollabToolsHaveWorkedWith</td>\n",
       "      <td>TextMate</td>\n",
       "      <td>12543.5</td>\n",
       "    </tr>\n",
       "    <tr>\n",
       "      <th>97</th>\n",
       "      <td>ToolsTechHaveWorkedWith</td>\n",
       "      <td>Pulumi</td>\n",
       "      <td>12528.5</td>\n",
       "    </tr>\n",
       "    <tr>\n",
       "      <th>8</th>\n",
       "      <td>LanguageHaveWorkedWith</td>\n",
       "      <td>Crystal</td>\n",
       "      <td>10610.0</td>\n",
       "    </tr>\n",
       "    <tr>\n",
       "      <th>6</th>\n",
       "      <td>LanguageHaveWorkedWith</td>\n",
       "      <td>COBOL</td>\n",
       "      <td>6842.0</td>\n",
       "    </tr>\n",
       "    <tr>\n",
       "      <th>0</th>\n",
       "      <td>LanguageHaveWorkedWith</td>\n",
       "      <td>APL</td>\n",
       "      <td>6329.5</td>\n",
       "    </tr>\n",
       "  </tbody>\n",
       "</table>\n",
       "<p>125 rows × 3 columns</p>\n",
       "</div>"
      ],
      "text/plain": [
       "                            group               skill       freq\n",
       "95        ToolsTechHaveWorkedWith                 Git  1069717.5\n",
       "122  NEWCollabToolsHaveWorkedWith  Visual Studio Code   830016.5\n",
       "19         LanguageHaveWorkedWith          JavaScript   764392.5\n",
       "93        ToolsTechHaveWorkedWith              Docker   691857.5\n",
       "16         LanguageHaveWorkedWith            HTML/CSS   618080.5\n",
       "..                            ...                 ...        ...\n",
       "119  NEWCollabToolsHaveWorkedWith            TextMate    12543.5\n",
       "97        ToolsTechHaveWorkedWith              Pulumi    12528.5\n",
       "8          LanguageHaveWorkedWith             Crystal    10610.0\n",
       "6          LanguageHaveWorkedWith               COBOL     6842.0\n",
       "0          LanguageHaveWorkedWith                 APL     6329.5\n",
       "\n",
       "[125 rows x 3 columns]"
      ]
     },
     "execution_count": 6,
     "metadata": {},
     "output_type": "execute_result"
    }
   ],
   "source": [
    "skills_freq.sort_values('freq',ascending=False)"
   ]
  },
  {
   "cell_type": "code",
   "execution_count": 16,
   "id": "67ade388",
   "metadata": {},
   "outputs": [
    {
     "data": {
      "application/vnd.plotly.v1+json": {
       "config": {
        "plotlyServerURL": "https://plot.ly"
       },
       "data": [
        {
         "branchvalues": "total",
         "customdata": [
          [
           295579
          ],
          [
           261076.5
          ],
          [
           6329.5
          ],
          [
           165445.5
          ],
          [
           236632.5
          ],
          [
           551194.5
          ],
          [
           206591
          ],
          [
           252636
          ],
          [
           111827
          ],
          [
           125892.5
          ],
          [
           58386
          ],
          [
           41949
          ],
          [
           98057.5
          ],
          [
           345418
          ],
          [
           159005
          ],
          [
           379025
          ],
          [
           199536.5
          ],
          [
           6842
          ],
          [
           52425
          ],
          [
           22477
          ],
          [
           40014.5
          ],
          [
           53839.5
          ],
          [
           27336.5
          ],
          [
           10610
          ],
          [
           69050
          ],
          [
           31665.5
          ],
          [
           33735.5
          ],
          [
           151852.5
          ],
          [
           118277.5
          ],
          [
           691857.5
          ],
          [
           25183.5
          ],
          [
           113865
          ],
          [
           149706.5
          ],
          [
           218405
          ],
          [
           39337.5
          ],
          [
           76295.5
          ],
          [
           17255.5
          ],
          [
           200074.5
          ],
          [
           26062.5
          ],
          [
           46147.5
          ],
          [
           143651.5
          ],
          [
           132340.5
          ],
          [
           15103.5
          ],
          [
           95262.5
          ],
          [
           41104.5
          ],
          [
           1069717.5
          ],
          [
           185347.5
          ],
          [
           271615
          ],
          [
           46570
          ],
          [
           618080.5
          ],
          [
           42511.5
          ],
          [
           27345.5
          ],
          [
           141224.5
          ],
          [
           21999
          ],
          [
           26348
          ],
          [
           119385.5
          ],
          [
           337730
          ],
          [
           364881.5
          ],
          [
           764392.5
          ],
          [
           18387.5
          ],
          [
           57566
          ],
          [
           121360
          ],
          [
           322057
          ],
          [
           19433
          ],
          [
           87755.5
          ],
          [
           191544.5
          ],
          [
           28837
          ],
          [
           333437.5
          ],
          [
           346087.5
          ],
          [
           296385.5
          ],
          [
           452678
          ],
          [
           53373.5
          ],
          [
           58436
          ],
          [
           414333.5
          ],
          [
           346387
          ],
          [
           186119
          ],
          [
           34601.5
          ],
          [
           139185.5
          ],
          [
           17929.5
          ],
          [
           223534.5
          ],
          [
           87225.5
          ],
          [
           168714
          ],
          [
           38306.5
          ],
          [
           512607
          ],
          [
           144148.5
          ],
          [
           12528.5
          ],
          [
           29468.5
          ],
          [
           177501.5
          ],
          [
           509298
          ],
          [
           56899.5
          ],
          [
           53763
          ],
          [
           36553
          ],
          [
           110432.5
          ],
          [
           402280
          ],
          [
           309529
          ],
          [
           59024
          ],
          [
           101883.5
          ],
          [
           84802
          ],
          [
           22533.5
          ],
          [
           133495
          ],
          [
           615660
          ],
          [
           327642.5
          ],
          [
           48137.5
          ],
          [
           165642
          ],
          [
           200422
          ],
          [
           46602
          ],
          [
           73487
          ],
          [
           40414.5
          ],
          [
           120374
          ],
          [
           146228.5
          ],
          [
           12543.5
          ],
          [
           73116
          ],
          [
           453302.5
          ],
          [
           77778
          ],
          [
           37109
          ],
          [
           50230
          ],
          [
           313964
          ],
          [
           389549
          ],
          [
           830016.5
          ],
          [
           219819
          ],
          [
           98789
          ],
          [
           56319.5
          ],
          [
           142556.5
          ],
          [
           202822
          ],
          [
           296722
          ],
          [
           323025.8179516802
          ],
          [
           406018.3224648159
          ],
          [
           173687.6515558816
          ],
          [
           363982.4041446267
          ],
          [
           357615.39133843995
          ],
          [
           639636.3726444021
          ],
          [
           216932.01668564157
          ]
         ],
         "domain": {
          "x": [
           0,
           1
          ],
          "y": [
           0,
           1
          ]
         },
         "hovertemplate": "labels=%{label}<br>freq_sum=%{value}<br>parent=%{parent}<br>id=%{id}<br>freq=%{color}<extra></extra>",
         "ids": [
          "MiscTechHaveWorkedWith/.NET Core / .NET 5",
          "MiscTechHaveWorkedWith/.NET Framework",
          "LanguageHaveWorkedWith/APL",
          "WebframeHaveWorkedWith/ASP.NET",
          "WebframeHaveWorkedWith/ASP.NET Core ",
          "PlatformHaveWorkedWith/AWS",
          "NEWCollabToolsHaveWorkedWith/Android Studio",
          "WebframeHaveWorkedWith/Angular",
          "WebframeHaveWorkedWith/Angular.js",
          "ToolsTechHaveWorkedWith/Ansible",
          "MiscTechHaveWorkedWith/Apache Spark",
          "LanguageHaveWorkedWith/Assembly",
          "NEWCollabToolsHaveWorkedWith/Atom",
          "LanguageHaveWorkedWith/Bash/Shell",
          "LanguageHaveWorkedWith/C",
          "LanguageHaveWorkedWith/C#",
          "LanguageHaveWorkedWith/C++",
          "LanguageHaveWorkedWith/COBOL",
          "DatabaseHaveWorkedWith/Cassandra",
          "ToolsTechHaveWorkedWith/Chef",
          "LanguageHaveWorkedWith/Clojure",
          "MiscTechHaveWorkedWith/Cordova",
          "DatabaseHaveWorkedWith/Couchbase",
          "LanguageHaveWorkedWith/Crystal",
          "LanguageHaveWorkedWith/Dart",
          "LanguageHaveWorkedWith/Delphi",
          "ToolsTechHaveWorkedWith/Deno",
          "PlatformHaveWorkedWith/DigitalOcean",
          "WebframeHaveWorkedWith/Django",
          "ToolsTechHaveWorkedWith/Docker",
          "WebframeHaveWorkedWith/Drupal",
          "DatabaseHaveWorkedWith/DynamoDB",
          "NEWCollabToolsHaveWorkedWith/Eclipse",
          "DatabaseHaveWorkedWith/Elasticsearch",
          "LanguageHaveWorkedWith/Elixir",
          "NEWCollabToolsHaveWorkedWith/Emacs",
          "LanguageHaveWorkedWith/Erlang",
          "WebframeHaveWorkedWith/Express",
          "LanguageHaveWorkedWith/F#",
          "WebframeHaveWorkedWith/FastAPI",
          "DatabaseHaveWorkedWith/Firebase",
          "WebframeHaveWorkedWith/Flask",
          "ToolsTechHaveWorkedWith/Flow",
          "MiscTechHaveWorkedWith/Flutter",
          "WebframeHaveWorkedWith/Gatsby",
          "ToolsTechHaveWorkedWith/Git",
          "LanguageHaveWorkedWith/Go",
          "PlatformHaveWorkedWith/Google Cloud Platform",
          "LanguageHaveWorkedWith/Groovy",
          "LanguageHaveWorkedWith/HTML/CSS",
          "MiscTechHaveWorkedWith/Hadoop",
          "LanguageHaveWorkedWith/Haskell",
          "PlatformHaveWorkedWith/Heroku",
          "PlatformHaveWorkedWith/IBM Cloud or Watson",
          "DatabaseHaveWorkedWith/IBM DB2",
          "NEWCollabToolsHaveWorkedWith/IPython/Jupyter",
          "NEWCollabToolsHaveWorkedWith/IntelliJ",
          "LanguageHaveWorkedWith/Java",
          "LanguageHaveWorkedWith/JavaScript",
          "LanguageHaveWorkedWith/Julia",
          "MiscTechHaveWorkedWith/Keras",
          "LanguageHaveWorkedWith/Kotlin",
          "ToolsTechHaveWorkedWith/Kubernetes",
          "LanguageHaveWorkedWith/LISP",
          "WebframeHaveWorkedWith/Laravel",
          "DatabaseHaveWorkedWith/MariaDB",
          "LanguageHaveWorkedWith/Matlab",
          "PlatformHaveWorkedWith/Microsoft Azure",
          "DatabaseHaveWorkedWith/Microsoft SQL Server",
          "DatabaseHaveWorkedWith/MongoDB",
          "DatabaseHaveWorkedWith/MySQL",
          "NEWCollabToolsHaveWorkedWith/Neovim",
          "NEWCollabToolsHaveWorkedWith/NetBeans",
          "LanguageHaveWorkedWith/Node.js",
          "NEWCollabToolsHaveWorkedWith/Notepad++",
          "MiscTechHaveWorkedWith/NumPy",
          "LanguageHaveWorkedWith/Objective-C",
          "DatabaseHaveWorkedWith/Oracle",
          "PlatformHaveWorkedWith/Oracle Cloud Infrastructure",
          "LanguageHaveWorkedWith/PHP",
          "NEWCollabToolsHaveWorkedWith/PHPStorm",
          "MiscTechHaveWorkedWith/Pandas",
          "LanguageHaveWorkedWith/Perl",
          "DatabaseHaveWorkedWith/PostgreSQL",
          "LanguageHaveWorkedWith/PowerShell",
          "ToolsTechHaveWorkedWith/Pulumi",
          "ToolsTechHaveWorkedWith/Puppet",
          "NEWCollabToolsHaveWorkedWith/PyCharm",
          "LanguageHaveWorkedWith/Python",
          "MiscTechHaveWorkedWith/Qt",
          "LanguageHaveWorkedWith/R",
          "NEWCollabToolsHaveWorkedWith/RStudio",
          "MiscTechHaveWorkedWith/React Native",
          "WebframeHaveWorkedWith/React.js",
          "DatabaseHaveWorkedWith/Redis",
          "NEWCollabToolsHaveWorkedWith/Rider",
          "LanguageHaveWorkedWith/Ruby",
          "WebframeHaveWorkedWith/Ruby on Rails",
          "NEWCollabToolsHaveWorkedWith/RubyMine",
          "LanguageHaveWorkedWith/Rust",
          "LanguageHaveWorkedWith/SQL",
          "DatabaseHaveWorkedWith/SQLite",
          "LanguageHaveWorkedWith/Scala",
          "WebframeHaveWorkedWith/Spring",
          "NEWCollabToolsHaveWorkedWith/Sublime Text",
          "WebframeHaveWorkedWith/Svelte",
          "LanguageHaveWorkedWith/Swift",
          "WebframeHaveWorkedWith/Symfony",
          "MiscTechHaveWorkedWith/TensorFlow",
          "ToolsTechHaveWorkedWith/Terraform",
          "NEWCollabToolsHaveWorkedWith/TextMate",
          "MiscTechHaveWorkedWith/Torch/PyTorch",
          "LanguageHaveWorkedWith/TypeScript",
          "ToolsTechHaveWorkedWith/Unity 3D",
          "ToolsTechHaveWorkedWith/Unreal Engine",
          "LanguageHaveWorkedWith/VBA",
          "NEWCollabToolsHaveWorkedWith/Vim",
          "NEWCollabToolsHaveWorkedWith/Visual Studio",
          "NEWCollabToolsHaveWorkedWith/Visual Studio Code",
          "WebframeHaveWorkedWith/Vue.js",
          "NEWCollabToolsHaveWorkedWith/Webstorm",
          "ToolsTechHaveWorkedWith/Xamarin",
          "NEWCollabToolsHaveWorkedWith/Xcode",
          "ToolsTechHaveWorkedWith/Yarn",
          "WebframeHaveWorkedWith/jQuery",
          "DatabaseHaveWorkedWith",
          "LanguageHaveWorkedWith",
          "MiscTechHaveWorkedWith",
          "NEWCollabToolsHaveWorkedWith",
          "PlatformHaveWorkedWith",
          "ToolsTechHaveWorkedWith",
          "WebframeHaveWorkedWith"
         ],
         "labels": [
          ".NET Core / .NET 5",
          ".NET Framework",
          "APL",
          "ASP.NET",
          "ASP.NET Core ",
          "AWS",
          "Android Studio",
          "Angular",
          "Angular.js",
          "Ansible",
          "Apache Spark",
          "Assembly",
          "Atom",
          "Bash/Shell",
          "C",
          "C#",
          "C++",
          "COBOL",
          "Cassandra",
          "Chef",
          "Clojure",
          "Cordova",
          "Couchbase",
          "Crystal",
          "Dart",
          "Delphi",
          "Deno",
          "DigitalOcean",
          "Django",
          "Docker",
          "Drupal",
          "DynamoDB",
          "Eclipse",
          "Elasticsearch",
          "Elixir",
          "Emacs",
          "Erlang",
          "Express",
          "F#",
          "FastAPI",
          "Firebase",
          "Flask",
          "Flow",
          "Flutter",
          "Gatsby",
          "Git",
          "Go",
          "Google Cloud Platform",
          "Groovy",
          "HTML/CSS",
          "Hadoop",
          "Haskell",
          "Heroku",
          "IBM Cloud or Watson",
          "IBM DB2",
          "IPython/Jupyter",
          "IntelliJ",
          "Java",
          "JavaScript",
          "Julia",
          "Keras",
          "Kotlin",
          "Kubernetes",
          "LISP",
          "Laravel",
          "MariaDB",
          "Matlab",
          "Microsoft Azure",
          "Microsoft SQL Server",
          "MongoDB",
          "MySQL",
          "Neovim",
          "NetBeans",
          "Node.js",
          "Notepad++",
          "NumPy",
          "Objective-C",
          "Oracle",
          "Oracle Cloud Infrastructure",
          "PHP",
          "PHPStorm",
          "Pandas",
          "Perl",
          "PostgreSQL",
          "PowerShell",
          "Pulumi",
          "Puppet",
          "PyCharm",
          "Python",
          "Qt",
          "R",
          "RStudio",
          "React Native",
          "React.js",
          "Redis",
          "Rider",
          "Ruby",
          "Ruby on Rails",
          "RubyMine",
          "Rust",
          "SQL",
          "SQLite",
          "Scala",
          "Spring",
          "Sublime Text",
          "Svelte",
          "Swift",
          "Symfony",
          "TensorFlow",
          "Terraform",
          "TextMate",
          "Torch/PyTorch",
          "TypeScript",
          "Unity 3D",
          "Unreal Engine",
          "VBA",
          "Vim",
          "Visual Studio",
          "Visual Studio Code",
          "Vue.js",
          "Webstorm",
          "Xamarin",
          "Xcode",
          "Yarn",
          "jQuery",
          "DatabaseHaveWorkedWith",
          "LanguageHaveWorkedWith",
          "MiscTechHaveWorkedWith",
          "NEWCollabToolsHaveWorkedWith",
          "PlatformHaveWorkedWith",
          "ToolsTechHaveWorkedWith",
          "WebframeHaveWorkedWith"
         ],
         "marker": {
          "coloraxis": "coloraxis",
          "colors": [
           295579,
           261076.5,
           6329.5,
           165445.5,
           236632.5,
           551194.5,
           206591,
           252636,
           111827,
           125892.5,
           58386,
           41949,
           98057.5,
           345418,
           159005,
           379025,
           199536.5,
           6842,
           52425,
           22477,
           40014.5,
           53839.5,
           27336.5,
           10610,
           69050,
           31665.5,
           33735.5,
           151852.5,
           118277.5,
           691857.5,
           25183.5,
           113865,
           149706.5,
           218405,
           39337.5,
           76295.5,
           17255.5,
           200074.5,
           26062.5,
           46147.5,
           143651.5,
           132340.5,
           15103.5,
           95262.5,
           41104.5,
           1069717.5,
           185347.5,
           271615,
           46570,
           618080.5,
           42511.5,
           27345.5,
           141224.5,
           21999,
           26348,
           119385.5,
           337730,
           364881.5,
           764392.5,
           18387.5,
           57566,
           121360,
           322057,
           19433,
           87755.5,
           191544.5,
           28837,
           333437.5,
           346087.5,
           296385.5,
           452678,
           53373.5,
           58436,
           414333.5,
           346387,
           186119,
           34601.5,
           139185.5,
           17929.5,
           223534.5,
           87225.5,
           168714,
           38306.5,
           512607,
           144148.5,
           12528.5,
           29468.5,
           177501.5,
           509298,
           56899.5,
           53763,
           36553,
           110432.5,
           402280,
           309529,
           59024,
           101883.5,
           84802,
           22533.5,
           133495,
           615660,
           327642.5,
           48137.5,
           165642,
           200422,
           46602,
           73487,
           40414.5,
           120374,
           146228.5,
           12543.5,
           73116,
           453302.5,
           77778,
           37109,
           50230,
           313964,
           389549,
           830016.5,
           219819,
           98789,
           56319.5,
           142556.5,
           202822,
           296722,
           323025.8179516802,
           406018.3224648159,
           173687.6515558816,
           363982.4041446267,
           357615.39133843995,
           639636.3726444021,
           216932.01668564157
          ]
         },
         "name": "",
         "parents": [
          "MiscTechHaveWorkedWith",
          "MiscTechHaveWorkedWith",
          "LanguageHaveWorkedWith",
          "WebframeHaveWorkedWith",
          "WebframeHaveWorkedWith",
          "PlatformHaveWorkedWith",
          "NEWCollabToolsHaveWorkedWith",
          "WebframeHaveWorkedWith",
          "WebframeHaveWorkedWith",
          "ToolsTechHaveWorkedWith",
          "MiscTechHaveWorkedWith",
          "LanguageHaveWorkedWith",
          "NEWCollabToolsHaveWorkedWith",
          "LanguageHaveWorkedWith",
          "LanguageHaveWorkedWith",
          "LanguageHaveWorkedWith",
          "LanguageHaveWorkedWith",
          "LanguageHaveWorkedWith",
          "DatabaseHaveWorkedWith",
          "ToolsTechHaveWorkedWith",
          "LanguageHaveWorkedWith",
          "MiscTechHaveWorkedWith",
          "DatabaseHaveWorkedWith",
          "LanguageHaveWorkedWith",
          "LanguageHaveWorkedWith",
          "LanguageHaveWorkedWith",
          "ToolsTechHaveWorkedWith",
          "PlatformHaveWorkedWith",
          "WebframeHaveWorkedWith",
          "ToolsTechHaveWorkedWith",
          "WebframeHaveWorkedWith",
          "DatabaseHaveWorkedWith",
          "NEWCollabToolsHaveWorkedWith",
          "DatabaseHaveWorkedWith",
          "LanguageHaveWorkedWith",
          "NEWCollabToolsHaveWorkedWith",
          "LanguageHaveWorkedWith",
          "WebframeHaveWorkedWith",
          "LanguageHaveWorkedWith",
          "WebframeHaveWorkedWith",
          "DatabaseHaveWorkedWith",
          "WebframeHaveWorkedWith",
          "ToolsTechHaveWorkedWith",
          "MiscTechHaveWorkedWith",
          "WebframeHaveWorkedWith",
          "ToolsTechHaveWorkedWith",
          "LanguageHaveWorkedWith",
          "PlatformHaveWorkedWith",
          "LanguageHaveWorkedWith",
          "LanguageHaveWorkedWith",
          "MiscTechHaveWorkedWith",
          "LanguageHaveWorkedWith",
          "PlatformHaveWorkedWith",
          "PlatformHaveWorkedWith",
          "DatabaseHaveWorkedWith",
          "NEWCollabToolsHaveWorkedWith",
          "NEWCollabToolsHaveWorkedWith",
          "LanguageHaveWorkedWith",
          "LanguageHaveWorkedWith",
          "LanguageHaveWorkedWith",
          "MiscTechHaveWorkedWith",
          "LanguageHaveWorkedWith",
          "ToolsTechHaveWorkedWith",
          "LanguageHaveWorkedWith",
          "WebframeHaveWorkedWith",
          "DatabaseHaveWorkedWith",
          "LanguageHaveWorkedWith",
          "PlatformHaveWorkedWith",
          "DatabaseHaveWorkedWith",
          "DatabaseHaveWorkedWith",
          "DatabaseHaveWorkedWith",
          "NEWCollabToolsHaveWorkedWith",
          "NEWCollabToolsHaveWorkedWith",
          "LanguageHaveWorkedWith",
          "NEWCollabToolsHaveWorkedWith",
          "MiscTechHaveWorkedWith",
          "LanguageHaveWorkedWith",
          "DatabaseHaveWorkedWith",
          "PlatformHaveWorkedWith",
          "LanguageHaveWorkedWith",
          "NEWCollabToolsHaveWorkedWith",
          "MiscTechHaveWorkedWith",
          "LanguageHaveWorkedWith",
          "DatabaseHaveWorkedWith",
          "LanguageHaveWorkedWith",
          "ToolsTechHaveWorkedWith",
          "ToolsTechHaveWorkedWith",
          "NEWCollabToolsHaveWorkedWith",
          "LanguageHaveWorkedWith",
          "MiscTechHaveWorkedWith",
          "LanguageHaveWorkedWith",
          "NEWCollabToolsHaveWorkedWith",
          "MiscTechHaveWorkedWith",
          "WebframeHaveWorkedWith",
          "DatabaseHaveWorkedWith",
          "NEWCollabToolsHaveWorkedWith",
          "LanguageHaveWorkedWith",
          "WebframeHaveWorkedWith",
          "NEWCollabToolsHaveWorkedWith",
          "LanguageHaveWorkedWith",
          "LanguageHaveWorkedWith",
          "DatabaseHaveWorkedWith",
          "LanguageHaveWorkedWith",
          "WebframeHaveWorkedWith",
          "NEWCollabToolsHaveWorkedWith",
          "WebframeHaveWorkedWith",
          "LanguageHaveWorkedWith",
          "WebframeHaveWorkedWith",
          "MiscTechHaveWorkedWith",
          "ToolsTechHaveWorkedWith",
          "NEWCollabToolsHaveWorkedWith",
          "MiscTechHaveWorkedWith",
          "LanguageHaveWorkedWith",
          "ToolsTechHaveWorkedWith",
          "ToolsTechHaveWorkedWith",
          "LanguageHaveWorkedWith",
          "NEWCollabToolsHaveWorkedWith",
          "NEWCollabToolsHaveWorkedWith",
          "NEWCollabToolsHaveWorkedWith",
          "WebframeHaveWorkedWith",
          "NEWCollabToolsHaveWorkedWith",
          "ToolsTechHaveWorkedWith",
          "NEWCollabToolsHaveWorkedWith",
          "ToolsTechHaveWorkedWith",
          "WebframeHaveWorkedWith",
          "",
          "",
          "",
          "",
          "",
          "",
          ""
         ],
         "type": "treemap",
         "values": [
          295579,
          261076.5,
          6329.5,
          165445.5,
          236632.5,
          551194.5,
          206591,
          252636,
          111827,
          125892.5,
          58386,
          41949,
          98057.5,
          345418,
          159005,
          379025,
          199536.5,
          6842,
          52425,
          22477,
          40014.5,
          53839.5,
          27336.5,
          10610,
          69050,
          31665.5,
          33735.5,
          151852.5,
          118277.5,
          691857.5,
          25183.5,
          113865,
          149706.5,
          218405,
          39337.5,
          76295.5,
          17255.5,
          200074.5,
          26062.5,
          46147.5,
          143651.5,
          132340.5,
          15103.5,
          95262.5,
          41104.5,
          1069717.5,
          185347.5,
          271615,
          46570,
          618080.5,
          42511.5,
          27345.5,
          141224.5,
          21999,
          26348,
          119385.5,
          337730,
          364881.5,
          764392.5,
          18387.5,
          57566,
          121360,
          322057,
          19433,
          87755.5,
          191544.5,
          28837,
          333437.5,
          346087.5,
          296385.5,
          452678,
          53373.5,
          58436,
          414333.5,
          346387,
          186119,
          34601.5,
          139185.5,
          17929.5,
          223534.5,
          87225.5,
          168714,
          38306.5,
          512607,
          144148.5,
          12528.5,
          29468.5,
          177501.5,
          509298,
          56899.5,
          53763,
          36553,
          110432.5,
          402280,
          309529,
          59024,
          101883.5,
          84802,
          22533.5,
          133495,
          615660,
          327642.5,
          48137.5,
          165642,
          200422,
          46602,
          73487,
          40414.5,
          120374,
          146228.5,
          12543.5,
          73116,
          453302.5,
          77778,
          37109,
          50230,
          313964,
          389549,
          830016.5,
          219819,
          98789,
          56319.5,
          142556.5,
          202822,
          296722,
          3157690.5,
          6460916.5,
          1579876,
          3816640.5,
          1489252.5,
          2843094.5,
          2673706
         ]
        }
       ],
       "layout": {
        "coloraxis": {
         "colorbar": {
          "title": {
           "text": "freq"
          }
         },
         "colorscale": [
          [
           0,
           "rgb(247,251,255)"
          ],
          [
           0.125,
           "rgb(222,235,247)"
          ],
          [
           0.25,
           "rgb(198,219,239)"
          ],
          [
           0.375,
           "rgb(158,202,225)"
          ],
          [
           0.5,
           "rgb(107,174,214)"
          ],
          [
           0.625,
           "rgb(66,146,198)"
          ],
          [
           0.75,
           "rgb(33,113,181)"
          ],
          [
           0.875,
           "rgb(8,81,156)"
          ],
          [
           1,
           "rgb(8,48,107)"
          ]
         ]
        },
        "height": 750,
        "legend": {
         "tracegroupgap": 0
        },
        "margin": {
         "t": 60
        },
        "template": {
         "data": {
          "bar": [
           {
            "error_x": {
             "color": "#2a3f5f"
            },
            "error_y": {
             "color": "#2a3f5f"
            },
            "marker": {
             "line": {
              "color": "#E5ECF6",
              "width": 0.5
             },
             "pattern": {
              "fillmode": "overlay",
              "size": 10,
              "solidity": 0.2
             }
            },
            "type": "bar"
           }
          ],
          "barpolar": [
           {
            "marker": {
             "line": {
              "color": "#E5ECF6",
              "width": 0.5
             },
             "pattern": {
              "fillmode": "overlay",
              "size": 10,
              "solidity": 0.2
             }
            },
            "type": "barpolar"
           }
          ],
          "carpet": [
           {
            "aaxis": {
             "endlinecolor": "#2a3f5f",
             "gridcolor": "white",
             "linecolor": "white",
             "minorgridcolor": "white",
             "startlinecolor": "#2a3f5f"
            },
            "baxis": {
             "endlinecolor": "#2a3f5f",
             "gridcolor": "white",
             "linecolor": "white",
             "minorgridcolor": "white",
             "startlinecolor": "#2a3f5f"
            },
            "type": "carpet"
           }
          ],
          "choropleth": [
           {
            "colorbar": {
             "outlinewidth": 0,
             "ticks": ""
            },
            "type": "choropleth"
           }
          ],
          "contour": [
           {
            "colorbar": {
             "outlinewidth": 0,
             "ticks": ""
            },
            "colorscale": [
             [
              0,
              "#0d0887"
             ],
             [
              0.1111111111111111,
              "#46039f"
             ],
             [
              0.2222222222222222,
              "#7201a8"
             ],
             [
              0.3333333333333333,
              "#9c179e"
             ],
             [
              0.4444444444444444,
              "#bd3786"
             ],
             [
              0.5555555555555556,
              "#d8576b"
             ],
             [
              0.6666666666666666,
              "#ed7953"
             ],
             [
              0.7777777777777778,
              "#fb9f3a"
             ],
             [
              0.8888888888888888,
              "#fdca26"
             ],
             [
              1,
              "#f0f921"
             ]
            ],
            "type": "contour"
           }
          ],
          "contourcarpet": [
           {
            "colorbar": {
             "outlinewidth": 0,
             "ticks": ""
            },
            "type": "contourcarpet"
           }
          ],
          "heatmap": [
           {
            "colorbar": {
             "outlinewidth": 0,
             "ticks": ""
            },
            "colorscale": [
             [
              0,
              "#0d0887"
             ],
             [
              0.1111111111111111,
              "#46039f"
             ],
             [
              0.2222222222222222,
              "#7201a8"
             ],
             [
              0.3333333333333333,
              "#9c179e"
             ],
             [
              0.4444444444444444,
              "#bd3786"
             ],
             [
              0.5555555555555556,
              "#d8576b"
             ],
             [
              0.6666666666666666,
              "#ed7953"
             ],
             [
              0.7777777777777778,
              "#fb9f3a"
             ],
             [
              0.8888888888888888,
              "#fdca26"
             ],
             [
              1,
              "#f0f921"
             ]
            ],
            "type": "heatmap"
           }
          ],
          "heatmapgl": [
           {
            "colorbar": {
             "outlinewidth": 0,
             "ticks": ""
            },
            "colorscale": [
             [
              0,
              "#0d0887"
             ],
             [
              0.1111111111111111,
              "#46039f"
             ],
             [
              0.2222222222222222,
              "#7201a8"
             ],
             [
              0.3333333333333333,
              "#9c179e"
             ],
             [
              0.4444444444444444,
              "#bd3786"
             ],
             [
              0.5555555555555556,
              "#d8576b"
             ],
             [
              0.6666666666666666,
              "#ed7953"
             ],
             [
              0.7777777777777778,
              "#fb9f3a"
             ],
             [
              0.8888888888888888,
              "#fdca26"
             ],
             [
              1,
              "#f0f921"
             ]
            ],
            "type": "heatmapgl"
           }
          ],
          "histogram": [
           {
            "marker": {
             "pattern": {
              "fillmode": "overlay",
              "size": 10,
              "solidity": 0.2
             }
            },
            "type": "histogram"
           }
          ],
          "histogram2d": [
           {
            "colorbar": {
             "outlinewidth": 0,
             "ticks": ""
            },
            "colorscale": [
             [
              0,
              "#0d0887"
             ],
             [
              0.1111111111111111,
              "#46039f"
             ],
             [
              0.2222222222222222,
              "#7201a8"
             ],
             [
              0.3333333333333333,
              "#9c179e"
             ],
             [
              0.4444444444444444,
              "#bd3786"
             ],
             [
              0.5555555555555556,
              "#d8576b"
             ],
             [
              0.6666666666666666,
              "#ed7953"
             ],
             [
              0.7777777777777778,
              "#fb9f3a"
             ],
             [
              0.8888888888888888,
              "#fdca26"
             ],
             [
              1,
              "#f0f921"
             ]
            ],
            "type": "histogram2d"
           }
          ],
          "histogram2dcontour": [
           {
            "colorbar": {
             "outlinewidth": 0,
             "ticks": ""
            },
            "colorscale": [
             [
              0,
              "#0d0887"
             ],
             [
              0.1111111111111111,
              "#46039f"
             ],
             [
              0.2222222222222222,
              "#7201a8"
             ],
             [
              0.3333333333333333,
              "#9c179e"
             ],
             [
              0.4444444444444444,
              "#bd3786"
             ],
             [
              0.5555555555555556,
              "#d8576b"
             ],
             [
              0.6666666666666666,
              "#ed7953"
             ],
             [
              0.7777777777777778,
              "#fb9f3a"
             ],
             [
              0.8888888888888888,
              "#fdca26"
             ],
             [
              1,
              "#f0f921"
             ]
            ],
            "type": "histogram2dcontour"
           }
          ],
          "mesh3d": [
           {
            "colorbar": {
             "outlinewidth": 0,
             "ticks": ""
            },
            "type": "mesh3d"
           }
          ],
          "parcoords": [
           {
            "line": {
             "colorbar": {
              "outlinewidth": 0,
              "ticks": ""
             }
            },
            "type": "parcoords"
           }
          ],
          "pie": [
           {
            "automargin": true,
            "type": "pie"
           }
          ],
          "scatter": [
           {
            "marker": {
             "colorbar": {
              "outlinewidth": 0,
              "ticks": ""
             }
            },
            "type": "scatter"
           }
          ],
          "scatter3d": [
           {
            "line": {
             "colorbar": {
              "outlinewidth": 0,
              "ticks": ""
             }
            },
            "marker": {
             "colorbar": {
              "outlinewidth": 0,
              "ticks": ""
             }
            },
            "type": "scatter3d"
           }
          ],
          "scattercarpet": [
           {
            "marker": {
             "colorbar": {
              "outlinewidth": 0,
              "ticks": ""
             }
            },
            "type": "scattercarpet"
           }
          ],
          "scattergeo": [
           {
            "marker": {
             "colorbar": {
              "outlinewidth": 0,
              "ticks": ""
             }
            },
            "type": "scattergeo"
           }
          ],
          "scattergl": [
           {
            "marker": {
             "colorbar": {
              "outlinewidth": 0,
              "ticks": ""
             }
            },
            "type": "scattergl"
           }
          ],
          "scattermapbox": [
           {
            "marker": {
             "colorbar": {
              "outlinewidth": 0,
              "ticks": ""
             }
            },
            "type": "scattermapbox"
           }
          ],
          "scatterpolar": [
           {
            "marker": {
             "colorbar": {
              "outlinewidth": 0,
              "ticks": ""
             }
            },
            "type": "scatterpolar"
           }
          ],
          "scatterpolargl": [
           {
            "marker": {
             "colorbar": {
              "outlinewidth": 0,
              "ticks": ""
             }
            },
            "type": "scatterpolargl"
           }
          ],
          "scatterternary": [
           {
            "marker": {
             "colorbar": {
              "outlinewidth": 0,
              "ticks": ""
             }
            },
            "type": "scatterternary"
           }
          ],
          "surface": [
           {
            "colorbar": {
             "outlinewidth": 0,
             "ticks": ""
            },
            "colorscale": [
             [
              0,
              "#0d0887"
             ],
             [
              0.1111111111111111,
              "#46039f"
             ],
             [
              0.2222222222222222,
              "#7201a8"
             ],
             [
              0.3333333333333333,
              "#9c179e"
             ],
             [
              0.4444444444444444,
              "#bd3786"
             ],
             [
              0.5555555555555556,
              "#d8576b"
             ],
             [
              0.6666666666666666,
              "#ed7953"
             ],
             [
              0.7777777777777778,
              "#fb9f3a"
             ],
             [
              0.8888888888888888,
              "#fdca26"
             ],
             [
              1,
              "#f0f921"
             ]
            ],
            "type": "surface"
           }
          ],
          "table": [
           {
            "cells": {
             "fill": {
              "color": "#EBF0F8"
             },
             "line": {
              "color": "white"
             }
            },
            "header": {
             "fill": {
              "color": "#C8D4E3"
             },
             "line": {
              "color": "white"
             }
            },
            "type": "table"
           }
          ]
         },
         "layout": {
          "annotationdefaults": {
           "arrowcolor": "#2a3f5f",
           "arrowhead": 0,
           "arrowwidth": 1
          },
          "autotypenumbers": "strict",
          "coloraxis": {
           "colorbar": {
            "outlinewidth": 0,
            "ticks": ""
           }
          },
          "colorscale": {
           "diverging": [
            [
             0,
             "#8e0152"
            ],
            [
             0.1,
             "#c51b7d"
            ],
            [
             0.2,
             "#de77ae"
            ],
            [
             0.3,
             "#f1b6da"
            ],
            [
             0.4,
             "#fde0ef"
            ],
            [
             0.5,
             "#f7f7f7"
            ],
            [
             0.6,
             "#e6f5d0"
            ],
            [
             0.7,
             "#b8e186"
            ],
            [
             0.8,
             "#7fbc41"
            ],
            [
             0.9,
             "#4d9221"
            ],
            [
             1,
             "#276419"
            ]
           ],
           "sequential": [
            [
             0,
             "#0d0887"
            ],
            [
             0.1111111111111111,
             "#46039f"
            ],
            [
             0.2222222222222222,
             "#7201a8"
            ],
            [
             0.3333333333333333,
             "#9c179e"
            ],
            [
             0.4444444444444444,
             "#bd3786"
            ],
            [
             0.5555555555555556,
             "#d8576b"
            ],
            [
             0.6666666666666666,
             "#ed7953"
            ],
            [
             0.7777777777777778,
             "#fb9f3a"
            ],
            [
             0.8888888888888888,
             "#fdca26"
            ],
            [
             1,
             "#f0f921"
            ]
           ],
           "sequentialminus": [
            [
             0,
             "#0d0887"
            ],
            [
             0.1111111111111111,
             "#46039f"
            ],
            [
             0.2222222222222222,
             "#7201a8"
            ],
            [
             0.3333333333333333,
             "#9c179e"
            ],
            [
             0.4444444444444444,
             "#bd3786"
            ],
            [
             0.5555555555555556,
             "#d8576b"
            ],
            [
             0.6666666666666666,
             "#ed7953"
            ],
            [
             0.7777777777777778,
             "#fb9f3a"
            ],
            [
             0.8888888888888888,
             "#fdca26"
            ],
            [
             1,
             "#f0f921"
            ]
           ]
          },
          "colorway": [
           "#636efa",
           "#EF553B",
           "#00cc96",
           "#ab63fa",
           "#FFA15A",
           "#19d3f3",
           "#FF6692",
           "#B6E880",
           "#FF97FF",
           "#FECB52"
          ],
          "font": {
           "color": "#2a3f5f"
          },
          "geo": {
           "bgcolor": "white",
           "lakecolor": "white",
           "landcolor": "#E5ECF6",
           "showlakes": true,
           "showland": true,
           "subunitcolor": "white"
          },
          "hoverlabel": {
           "align": "left"
          },
          "hovermode": "closest",
          "mapbox": {
           "style": "light"
          },
          "paper_bgcolor": "white",
          "plot_bgcolor": "#E5ECF6",
          "polar": {
           "angularaxis": {
            "gridcolor": "white",
            "linecolor": "white",
            "ticks": ""
           },
           "bgcolor": "#E5ECF6",
           "radialaxis": {
            "gridcolor": "white",
            "linecolor": "white",
            "ticks": ""
           }
          },
          "scene": {
           "xaxis": {
            "backgroundcolor": "#E5ECF6",
            "gridcolor": "white",
            "gridwidth": 2,
            "linecolor": "white",
            "showbackground": true,
            "ticks": "",
            "zerolinecolor": "white"
           },
           "yaxis": {
            "backgroundcolor": "#E5ECF6",
            "gridcolor": "white",
            "gridwidth": 2,
            "linecolor": "white",
            "showbackground": true,
            "ticks": "",
            "zerolinecolor": "white"
           },
           "zaxis": {
            "backgroundcolor": "#E5ECF6",
            "gridcolor": "white",
            "gridwidth": 2,
            "linecolor": "white",
            "showbackground": true,
            "ticks": "",
            "zerolinecolor": "white"
           }
          },
          "shapedefaults": {
           "line": {
            "color": "#2a3f5f"
           }
          },
          "ternary": {
           "aaxis": {
            "gridcolor": "white",
            "linecolor": "white",
            "ticks": ""
           },
           "baxis": {
            "gridcolor": "white",
            "linecolor": "white",
            "ticks": ""
           },
           "bgcolor": "#E5ECF6",
           "caxis": {
            "gridcolor": "white",
            "linecolor": "white",
            "ticks": ""
           }
          },
          "title": {
           "x": 0.05
          },
          "xaxis": {
           "automargin": true,
           "gridcolor": "white",
           "linecolor": "white",
           "ticks": "",
           "title": {
            "standoff": 15
           },
           "zerolinecolor": "white",
           "zerolinewidth": 2
          },
          "yaxis": {
           "automargin": true,
           "gridcolor": "white",
           "linecolor": "white",
           "ticks": "",
           "title": {
            "standoff": 15
           },
           "zerolinecolor": "white",
           "zerolinewidth": 2
          }
         }
        },
        "width": 1500
       }
      },
      "text/html": [
       "<div>                            <div id=\"d9a1ecc5-98b2-476f-83ca-64e486846b9e\" class=\"plotly-graph-div\" style=\"height:750px; width:1500px;\"></div>            <script type=\"text/javascript\">                require([\"plotly\"], function(Plotly) {                    window.PLOTLYENV=window.PLOTLYENV || {};                                    if (document.getElementById(\"d9a1ecc5-98b2-476f-83ca-64e486846b9e\")) {                    Plotly.newPlot(                        \"d9a1ecc5-98b2-476f-83ca-64e486846b9e\",                        [{\"branchvalues\":\"total\",\"customdata\":[[295579.0],[261076.5],[6329.5],[165445.5],[236632.5],[551194.5],[206591.0],[252636.0],[111827.0],[125892.5],[58386.0],[41949.0],[98057.5],[345418.0],[159005.0],[379025.0],[199536.5],[6842.0],[52425.0],[22477.0],[40014.5],[53839.5],[27336.5],[10610.0],[69050.0],[31665.5],[33735.5],[151852.5],[118277.5],[691857.5],[25183.5],[113865.0],[149706.5],[218405.0],[39337.5],[76295.5],[17255.5],[200074.5],[26062.5],[46147.5],[143651.5],[132340.5],[15103.5],[95262.5],[41104.5],[1069717.5],[185347.5],[271615.0],[46570.0],[618080.5],[42511.5],[27345.5],[141224.5],[21999.0],[26348.0],[119385.5],[337730.0],[364881.5],[764392.5],[18387.5],[57566.0],[121360.0],[322057.0],[19433.0],[87755.5],[191544.5],[28837.0],[333437.5],[346087.5],[296385.5],[452678.0],[53373.5],[58436.0],[414333.5],[346387.0],[186119.0],[34601.5],[139185.5],[17929.5],[223534.5],[87225.5],[168714.0],[38306.5],[512607.0],[144148.5],[12528.5],[29468.5],[177501.5],[509298.0],[56899.5],[53763.0],[36553.0],[110432.5],[402280.0],[309529.0],[59024.0],[101883.5],[84802.0],[22533.5],[133495.0],[615660.0],[327642.5],[48137.5],[165642.0],[200422.0],[46602.0],[73487.0],[40414.5],[120374.0],[146228.5],[12543.5],[73116.0],[453302.5],[77778.0],[37109.0],[50230.0],[313964.0],[389549.0],[830016.5],[219819.0],[98789.0],[56319.5],[142556.5],[202822.0],[296722.0],[323025.8179516802],[406018.3224648159],[173687.6515558816],[363982.4041446267],[357615.39133843995],[639636.3726444021],[216932.01668564157]],\"domain\":{\"x\":[0.0,1.0],\"y\":[0.0,1.0]},\"hovertemplate\":\"labels=%{label}<br>freq_sum=%{value}<br>parent=%{parent}<br>id=%{id}<br>freq=%{color}<extra></extra>\",\"ids\":[\"MiscTechHaveWorkedWith/.NET Core / .NET 5\",\"MiscTechHaveWorkedWith/.NET Framework\",\"LanguageHaveWorkedWith/APL\",\"WebframeHaveWorkedWith/ASP.NET\",\"WebframeHaveWorkedWith/ASP.NET Core \",\"PlatformHaveWorkedWith/AWS\",\"NEWCollabToolsHaveWorkedWith/Android Studio\",\"WebframeHaveWorkedWith/Angular\",\"WebframeHaveWorkedWith/Angular.js\",\"ToolsTechHaveWorkedWith/Ansible\",\"MiscTechHaveWorkedWith/Apache Spark\",\"LanguageHaveWorkedWith/Assembly\",\"NEWCollabToolsHaveWorkedWith/Atom\",\"LanguageHaveWorkedWith/Bash/Shell\",\"LanguageHaveWorkedWith/C\",\"LanguageHaveWorkedWith/C#\",\"LanguageHaveWorkedWith/C++\",\"LanguageHaveWorkedWith/COBOL\",\"DatabaseHaveWorkedWith/Cassandra\",\"ToolsTechHaveWorkedWith/Chef\",\"LanguageHaveWorkedWith/Clojure\",\"MiscTechHaveWorkedWith/Cordova\",\"DatabaseHaveWorkedWith/Couchbase\",\"LanguageHaveWorkedWith/Crystal\",\"LanguageHaveWorkedWith/Dart\",\"LanguageHaveWorkedWith/Delphi\",\"ToolsTechHaveWorkedWith/Deno\",\"PlatformHaveWorkedWith/DigitalOcean\",\"WebframeHaveWorkedWith/Django\",\"ToolsTechHaveWorkedWith/Docker\",\"WebframeHaveWorkedWith/Drupal\",\"DatabaseHaveWorkedWith/DynamoDB\",\"NEWCollabToolsHaveWorkedWith/Eclipse\",\"DatabaseHaveWorkedWith/Elasticsearch\",\"LanguageHaveWorkedWith/Elixir\",\"NEWCollabToolsHaveWorkedWith/Emacs\",\"LanguageHaveWorkedWith/Erlang\",\"WebframeHaveWorkedWith/Express\",\"LanguageHaveWorkedWith/F#\",\"WebframeHaveWorkedWith/FastAPI\",\"DatabaseHaveWorkedWith/Firebase\",\"WebframeHaveWorkedWith/Flask\",\"ToolsTechHaveWorkedWith/Flow\",\"MiscTechHaveWorkedWith/Flutter\",\"WebframeHaveWorkedWith/Gatsby\",\"ToolsTechHaveWorkedWith/Git\",\"LanguageHaveWorkedWith/Go\",\"PlatformHaveWorkedWith/Google Cloud Platform\",\"LanguageHaveWorkedWith/Groovy\",\"LanguageHaveWorkedWith/HTML/CSS\",\"MiscTechHaveWorkedWith/Hadoop\",\"LanguageHaveWorkedWith/Haskell\",\"PlatformHaveWorkedWith/Heroku\",\"PlatformHaveWorkedWith/IBM Cloud or Watson\",\"DatabaseHaveWorkedWith/IBM DB2\",\"NEWCollabToolsHaveWorkedWith/IPython/Jupyter\",\"NEWCollabToolsHaveWorkedWith/IntelliJ\",\"LanguageHaveWorkedWith/Java\",\"LanguageHaveWorkedWith/JavaScript\",\"LanguageHaveWorkedWith/Julia\",\"MiscTechHaveWorkedWith/Keras\",\"LanguageHaveWorkedWith/Kotlin\",\"ToolsTechHaveWorkedWith/Kubernetes\",\"LanguageHaveWorkedWith/LISP\",\"WebframeHaveWorkedWith/Laravel\",\"DatabaseHaveWorkedWith/MariaDB\",\"LanguageHaveWorkedWith/Matlab\",\"PlatformHaveWorkedWith/Microsoft Azure\",\"DatabaseHaveWorkedWith/Microsoft SQL Server\",\"DatabaseHaveWorkedWith/MongoDB\",\"DatabaseHaveWorkedWith/MySQL\",\"NEWCollabToolsHaveWorkedWith/Neovim\",\"NEWCollabToolsHaveWorkedWith/NetBeans\",\"LanguageHaveWorkedWith/Node.js\",\"NEWCollabToolsHaveWorkedWith/Notepad++\",\"MiscTechHaveWorkedWith/NumPy\",\"LanguageHaveWorkedWith/Objective-C\",\"DatabaseHaveWorkedWith/Oracle\",\"PlatformHaveWorkedWith/Oracle Cloud Infrastructure\",\"LanguageHaveWorkedWith/PHP\",\"NEWCollabToolsHaveWorkedWith/PHPStorm\",\"MiscTechHaveWorkedWith/Pandas\",\"LanguageHaveWorkedWith/Perl\",\"DatabaseHaveWorkedWith/PostgreSQL\",\"LanguageHaveWorkedWith/PowerShell\",\"ToolsTechHaveWorkedWith/Pulumi\",\"ToolsTechHaveWorkedWith/Puppet\",\"NEWCollabToolsHaveWorkedWith/PyCharm\",\"LanguageHaveWorkedWith/Python\",\"MiscTechHaveWorkedWith/Qt\",\"LanguageHaveWorkedWith/R\",\"NEWCollabToolsHaveWorkedWith/RStudio\",\"MiscTechHaveWorkedWith/React Native\",\"WebframeHaveWorkedWith/React.js\",\"DatabaseHaveWorkedWith/Redis\",\"NEWCollabToolsHaveWorkedWith/Rider\",\"LanguageHaveWorkedWith/Ruby\",\"WebframeHaveWorkedWith/Ruby on Rails\",\"NEWCollabToolsHaveWorkedWith/RubyMine\",\"LanguageHaveWorkedWith/Rust\",\"LanguageHaveWorkedWith/SQL\",\"DatabaseHaveWorkedWith/SQLite\",\"LanguageHaveWorkedWith/Scala\",\"WebframeHaveWorkedWith/Spring\",\"NEWCollabToolsHaveWorkedWith/Sublime Text\",\"WebframeHaveWorkedWith/Svelte\",\"LanguageHaveWorkedWith/Swift\",\"WebframeHaveWorkedWith/Symfony\",\"MiscTechHaveWorkedWith/TensorFlow\",\"ToolsTechHaveWorkedWith/Terraform\",\"NEWCollabToolsHaveWorkedWith/TextMate\",\"MiscTechHaveWorkedWith/Torch/PyTorch\",\"LanguageHaveWorkedWith/TypeScript\",\"ToolsTechHaveWorkedWith/Unity 3D\",\"ToolsTechHaveWorkedWith/Unreal Engine\",\"LanguageHaveWorkedWith/VBA\",\"NEWCollabToolsHaveWorkedWith/Vim\",\"NEWCollabToolsHaveWorkedWith/Visual Studio\",\"NEWCollabToolsHaveWorkedWith/Visual Studio Code\",\"WebframeHaveWorkedWith/Vue.js\",\"NEWCollabToolsHaveWorkedWith/Webstorm\",\"ToolsTechHaveWorkedWith/Xamarin\",\"NEWCollabToolsHaveWorkedWith/Xcode\",\"ToolsTechHaveWorkedWith/Yarn\",\"WebframeHaveWorkedWith/jQuery\",\"DatabaseHaveWorkedWith\",\"LanguageHaveWorkedWith\",\"MiscTechHaveWorkedWith\",\"NEWCollabToolsHaveWorkedWith\",\"PlatformHaveWorkedWith\",\"ToolsTechHaveWorkedWith\",\"WebframeHaveWorkedWith\"],\"labels\":[\".NET Core / .NET 5\",\".NET Framework\",\"APL\",\"ASP.NET\",\"ASP.NET Core \",\"AWS\",\"Android Studio\",\"Angular\",\"Angular.js\",\"Ansible\",\"Apache Spark\",\"Assembly\",\"Atom\",\"Bash/Shell\",\"C\",\"C#\",\"C++\",\"COBOL\",\"Cassandra\",\"Chef\",\"Clojure\",\"Cordova\",\"Couchbase\",\"Crystal\",\"Dart\",\"Delphi\",\"Deno\",\"DigitalOcean\",\"Django\",\"Docker\",\"Drupal\",\"DynamoDB\",\"Eclipse\",\"Elasticsearch\",\"Elixir\",\"Emacs\",\"Erlang\",\"Express\",\"F#\",\"FastAPI\",\"Firebase\",\"Flask\",\"Flow\",\"Flutter\",\"Gatsby\",\"Git\",\"Go\",\"Google Cloud Platform\",\"Groovy\",\"HTML/CSS\",\"Hadoop\",\"Haskell\",\"Heroku\",\"IBM Cloud or Watson\",\"IBM DB2\",\"IPython/Jupyter\",\"IntelliJ\",\"Java\",\"JavaScript\",\"Julia\",\"Keras\",\"Kotlin\",\"Kubernetes\",\"LISP\",\"Laravel\",\"MariaDB\",\"Matlab\",\"Microsoft Azure\",\"Microsoft SQL Server\",\"MongoDB\",\"MySQL\",\"Neovim\",\"NetBeans\",\"Node.js\",\"Notepad++\",\"NumPy\",\"Objective-C\",\"Oracle\",\"Oracle Cloud Infrastructure\",\"PHP\",\"PHPStorm\",\"Pandas\",\"Perl\",\"PostgreSQL\",\"PowerShell\",\"Pulumi\",\"Puppet\",\"PyCharm\",\"Python\",\"Qt\",\"R\",\"RStudio\",\"React Native\",\"React.js\",\"Redis\",\"Rider\",\"Ruby\",\"Ruby on Rails\",\"RubyMine\",\"Rust\",\"SQL\",\"SQLite\",\"Scala\",\"Spring\",\"Sublime Text\",\"Svelte\",\"Swift\",\"Symfony\",\"TensorFlow\",\"Terraform\",\"TextMate\",\"Torch/PyTorch\",\"TypeScript\",\"Unity 3D\",\"Unreal Engine\",\"VBA\",\"Vim\",\"Visual Studio\",\"Visual Studio Code\",\"Vue.js\",\"Webstorm\",\"Xamarin\",\"Xcode\",\"Yarn\",\"jQuery\",\"DatabaseHaveWorkedWith\",\"LanguageHaveWorkedWith\",\"MiscTechHaveWorkedWith\",\"NEWCollabToolsHaveWorkedWith\",\"PlatformHaveWorkedWith\",\"ToolsTechHaveWorkedWith\",\"WebframeHaveWorkedWith\"],\"marker\":{\"coloraxis\":\"coloraxis\",\"colors\":[295579.0,261076.5,6329.5,165445.5,236632.5,551194.5,206591.0,252636.0,111827.0,125892.5,58386.0,41949.0,98057.5,345418.0,159005.0,379025.0,199536.5,6842.0,52425.0,22477.0,40014.5,53839.5,27336.5,10610.0,69050.0,31665.5,33735.5,151852.5,118277.5,691857.5,25183.5,113865.0,149706.5,218405.0,39337.5,76295.5,17255.5,200074.5,26062.5,46147.5,143651.5,132340.5,15103.5,95262.5,41104.5,1069717.5,185347.5,271615.0,46570.0,618080.5,42511.5,27345.5,141224.5,21999.0,26348.0,119385.5,337730.0,364881.5,764392.5,18387.5,57566.0,121360.0,322057.0,19433.0,87755.5,191544.5,28837.0,333437.5,346087.5,296385.5,452678.0,53373.5,58436.0,414333.5,346387.0,186119.0,34601.5,139185.5,17929.5,223534.5,87225.5,168714.0,38306.5,512607.0,144148.5,12528.5,29468.5,177501.5,509298.0,56899.5,53763.0,36553.0,110432.5,402280.0,309529.0,59024.0,101883.5,84802.0,22533.5,133495.0,615660.0,327642.5,48137.5,165642.0,200422.0,46602.0,73487.0,40414.5,120374.0,146228.5,12543.5,73116.0,453302.5,77778.0,37109.0,50230.0,313964.0,389549.0,830016.5,219819.0,98789.0,56319.5,142556.5,202822.0,296722.0,323025.8179516802,406018.3224648159,173687.6515558816,363982.4041446267,357615.39133843995,639636.3726444021,216932.01668564157]},\"name\":\"\",\"parents\":[\"MiscTechHaveWorkedWith\",\"MiscTechHaveWorkedWith\",\"LanguageHaveWorkedWith\",\"WebframeHaveWorkedWith\",\"WebframeHaveWorkedWith\",\"PlatformHaveWorkedWith\",\"NEWCollabToolsHaveWorkedWith\",\"WebframeHaveWorkedWith\",\"WebframeHaveWorkedWith\",\"ToolsTechHaveWorkedWith\",\"MiscTechHaveWorkedWith\",\"LanguageHaveWorkedWith\",\"NEWCollabToolsHaveWorkedWith\",\"LanguageHaveWorkedWith\",\"LanguageHaveWorkedWith\",\"LanguageHaveWorkedWith\",\"LanguageHaveWorkedWith\",\"LanguageHaveWorkedWith\",\"DatabaseHaveWorkedWith\",\"ToolsTechHaveWorkedWith\",\"LanguageHaveWorkedWith\",\"MiscTechHaveWorkedWith\",\"DatabaseHaveWorkedWith\",\"LanguageHaveWorkedWith\",\"LanguageHaveWorkedWith\",\"LanguageHaveWorkedWith\",\"ToolsTechHaveWorkedWith\",\"PlatformHaveWorkedWith\",\"WebframeHaveWorkedWith\",\"ToolsTechHaveWorkedWith\",\"WebframeHaveWorkedWith\",\"DatabaseHaveWorkedWith\",\"NEWCollabToolsHaveWorkedWith\",\"DatabaseHaveWorkedWith\",\"LanguageHaveWorkedWith\",\"NEWCollabToolsHaveWorkedWith\",\"LanguageHaveWorkedWith\",\"WebframeHaveWorkedWith\",\"LanguageHaveWorkedWith\",\"WebframeHaveWorkedWith\",\"DatabaseHaveWorkedWith\",\"WebframeHaveWorkedWith\",\"ToolsTechHaveWorkedWith\",\"MiscTechHaveWorkedWith\",\"WebframeHaveWorkedWith\",\"ToolsTechHaveWorkedWith\",\"LanguageHaveWorkedWith\",\"PlatformHaveWorkedWith\",\"LanguageHaveWorkedWith\",\"LanguageHaveWorkedWith\",\"MiscTechHaveWorkedWith\",\"LanguageHaveWorkedWith\",\"PlatformHaveWorkedWith\",\"PlatformHaveWorkedWith\",\"DatabaseHaveWorkedWith\",\"NEWCollabToolsHaveWorkedWith\",\"NEWCollabToolsHaveWorkedWith\",\"LanguageHaveWorkedWith\",\"LanguageHaveWorkedWith\",\"LanguageHaveWorkedWith\",\"MiscTechHaveWorkedWith\",\"LanguageHaveWorkedWith\",\"ToolsTechHaveWorkedWith\",\"LanguageHaveWorkedWith\",\"WebframeHaveWorkedWith\",\"DatabaseHaveWorkedWith\",\"LanguageHaveWorkedWith\",\"PlatformHaveWorkedWith\",\"DatabaseHaveWorkedWith\",\"DatabaseHaveWorkedWith\",\"DatabaseHaveWorkedWith\",\"NEWCollabToolsHaveWorkedWith\",\"NEWCollabToolsHaveWorkedWith\",\"LanguageHaveWorkedWith\",\"NEWCollabToolsHaveWorkedWith\",\"MiscTechHaveWorkedWith\",\"LanguageHaveWorkedWith\",\"DatabaseHaveWorkedWith\",\"PlatformHaveWorkedWith\",\"LanguageHaveWorkedWith\",\"NEWCollabToolsHaveWorkedWith\",\"MiscTechHaveWorkedWith\",\"LanguageHaveWorkedWith\",\"DatabaseHaveWorkedWith\",\"LanguageHaveWorkedWith\",\"ToolsTechHaveWorkedWith\",\"ToolsTechHaveWorkedWith\",\"NEWCollabToolsHaveWorkedWith\",\"LanguageHaveWorkedWith\",\"MiscTechHaveWorkedWith\",\"LanguageHaveWorkedWith\",\"NEWCollabToolsHaveWorkedWith\",\"MiscTechHaveWorkedWith\",\"WebframeHaveWorkedWith\",\"DatabaseHaveWorkedWith\",\"NEWCollabToolsHaveWorkedWith\",\"LanguageHaveWorkedWith\",\"WebframeHaveWorkedWith\",\"NEWCollabToolsHaveWorkedWith\",\"LanguageHaveWorkedWith\",\"LanguageHaveWorkedWith\",\"DatabaseHaveWorkedWith\",\"LanguageHaveWorkedWith\",\"WebframeHaveWorkedWith\",\"NEWCollabToolsHaveWorkedWith\",\"WebframeHaveWorkedWith\",\"LanguageHaveWorkedWith\",\"WebframeHaveWorkedWith\",\"MiscTechHaveWorkedWith\",\"ToolsTechHaveWorkedWith\",\"NEWCollabToolsHaveWorkedWith\",\"MiscTechHaveWorkedWith\",\"LanguageHaveWorkedWith\",\"ToolsTechHaveWorkedWith\",\"ToolsTechHaveWorkedWith\",\"LanguageHaveWorkedWith\",\"NEWCollabToolsHaveWorkedWith\",\"NEWCollabToolsHaveWorkedWith\",\"NEWCollabToolsHaveWorkedWith\",\"WebframeHaveWorkedWith\",\"NEWCollabToolsHaveWorkedWith\",\"ToolsTechHaveWorkedWith\",\"NEWCollabToolsHaveWorkedWith\",\"ToolsTechHaveWorkedWith\",\"WebframeHaveWorkedWith\",\"\",\"\",\"\",\"\",\"\",\"\",\"\"],\"values\":[295579.0,261076.5,6329.5,165445.5,236632.5,551194.5,206591.0,252636.0,111827.0,125892.5,58386.0,41949.0,98057.5,345418.0,159005.0,379025.0,199536.5,6842.0,52425.0,22477.0,40014.5,53839.5,27336.5,10610.0,69050.0,31665.5,33735.5,151852.5,118277.5,691857.5,25183.5,113865.0,149706.5,218405.0,39337.5,76295.5,17255.5,200074.5,26062.5,46147.5,143651.5,132340.5,15103.5,95262.5,41104.5,1069717.5,185347.5,271615.0,46570.0,618080.5,42511.5,27345.5,141224.5,21999.0,26348.0,119385.5,337730.0,364881.5,764392.5,18387.5,57566.0,121360.0,322057.0,19433.0,87755.5,191544.5,28837.0,333437.5,346087.5,296385.5,452678.0,53373.5,58436.0,414333.5,346387.0,186119.0,34601.5,139185.5,17929.5,223534.5,87225.5,168714.0,38306.5,512607.0,144148.5,12528.5,29468.5,177501.5,509298.0,56899.5,53763.0,36553.0,110432.5,402280.0,309529.0,59024.0,101883.5,84802.0,22533.5,133495.0,615660.0,327642.5,48137.5,165642.0,200422.0,46602.0,73487.0,40414.5,120374.0,146228.5,12543.5,73116.0,453302.5,77778.0,37109.0,50230.0,313964.0,389549.0,830016.5,219819.0,98789.0,56319.5,142556.5,202822.0,296722.0,3157690.5,6460916.5,1579876.0,3816640.5,1489252.5,2843094.5,2673706.0],\"type\":\"treemap\"}],                        {\"template\":{\"data\":{\"bar\":[{\"error_x\":{\"color\":\"#2a3f5f\"},\"error_y\":{\"color\":\"#2a3f5f\"},\"marker\":{\"line\":{\"color\":\"#E5ECF6\",\"width\":0.5},\"pattern\":{\"fillmode\":\"overlay\",\"size\":10,\"solidity\":0.2}},\"type\":\"bar\"}],\"barpolar\":[{\"marker\":{\"line\":{\"color\":\"#E5ECF6\",\"width\":0.5},\"pattern\":{\"fillmode\":\"overlay\",\"size\":10,\"solidity\":0.2}},\"type\":\"barpolar\"}],\"carpet\":[{\"aaxis\":{\"endlinecolor\":\"#2a3f5f\",\"gridcolor\":\"white\",\"linecolor\":\"white\",\"minorgridcolor\":\"white\",\"startlinecolor\":\"#2a3f5f\"},\"baxis\":{\"endlinecolor\":\"#2a3f5f\",\"gridcolor\":\"white\",\"linecolor\":\"white\",\"minorgridcolor\":\"white\",\"startlinecolor\":\"#2a3f5f\"},\"type\":\"carpet\"}],\"choropleth\":[{\"colorbar\":{\"outlinewidth\":0,\"ticks\":\"\"},\"type\":\"choropleth\"}],\"contour\":[{\"colorbar\":{\"outlinewidth\":0,\"ticks\":\"\"},\"colorscale\":[[0.0,\"#0d0887\"],[0.1111111111111111,\"#46039f\"],[0.2222222222222222,\"#7201a8\"],[0.3333333333333333,\"#9c179e\"],[0.4444444444444444,\"#bd3786\"],[0.5555555555555556,\"#d8576b\"],[0.6666666666666666,\"#ed7953\"],[0.7777777777777778,\"#fb9f3a\"],[0.8888888888888888,\"#fdca26\"],[1.0,\"#f0f921\"]],\"type\":\"contour\"}],\"contourcarpet\":[{\"colorbar\":{\"outlinewidth\":0,\"ticks\":\"\"},\"type\":\"contourcarpet\"}],\"heatmap\":[{\"colorbar\":{\"outlinewidth\":0,\"ticks\":\"\"},\"colorscale\":[[0.0,\"#0d0887\"],[0.1111111111111111,\"#46039f\"],[0.2222222222222222,\"#7201a8\"],[0.3333333333333333,\"#9c179e\"],[0.4444444444444444,\"#bd3786\"],[0.5555555555555556,\"#d8576b\"],[0.6666666666666666,\"#ed7953\"],[0.7777777777777778,\"#fb9f3a\"],[0.8888888888888888,\"#fdca26\"],[1.0,\"#f0f921\"]],\"type\":\"heatmap\"}],\"heatmapgl\":[{\"colorbar\":{\"outlinewidth\":0,\"ticks\":\"\"},\"colorscale\":[[0.0,\"#0d0887\"],[0.1111111111111111,\"#46039f\"],[0.2222222222222222,\"#7201a8\"],[0.3333333333333333,\"#9c179e\"],[0.4444444444444444,\"#bd3786\"],[0.5555555555555556,\"#d8576b\"],[0.6666666666666666,\"#ed7953\"],[0.7777777777777778,\"#fb9f3a\"],[0.8888888888888888,\"#fdca26\"],[1.0,\"#f0f921\"]],\"type\":\"heatmapgl\"}],\"histogram\":[{\"marker\":{\"pattern\":{\"fillmode\":\"overlay\",\"size\":10,\"solidity\":0.2}},\"type\":\"histogram\"}],\"histogram2d\":[{\"colorbar\":{\"outlinewidth\":0,\"ticks\":\"\"},\"colorscale\":[[0.0,\"#0d0887\"],[0.1111111111111111,\"#46039f\"],[0.2222222222222222,\"#7201a8\"],[0.3333333333333333,\"#9c179e\"],[0.4444444444444444,\"#bd3786\"],[0.5555555555555556,\"#d8576b\"],[0.6666666666666666,\"#ed7953\"],[0.7777777777777778,\"#fb9f3a\"],[0.8888888888888888,\"#fdca26\"],[1.0,\"#f0f921\"]],\"type\":\"histogram2d\"}],\"histogram2dcontour\":[{\"colorbar\":{\"outlinewidth\":0,\"ticks\":\"\"},\"colorscale\":[[0.0,\"#0d0887\"],[0.1111111111111111,\"#46039f\"],[0.2222222222222222,\"#7201a8\"],[0.3333333333333333,\"#9c179e\"],[0.4444444444444444,\"#bd3786\"],[0.5555555555555556,\"#d8576b\"],[0.6666666666666666,\"#ed7953\"],[0.7777777777777778,\"#fb9f3a\"],[0.8888888888888888,\"#fdca26\"],[1.0,\"#f0f921\"]],\"type\":\"histogram2dcontour\"}],\"mesh3d\":[{\"colorbar\":{\"outlinewidth\":0,\"ticks\":\"\"},\"type\":\"mesh3d\"}],\"parcoords\":[{\"line\":{\"colorbar\":{\"outlinewidth\":0,\"ticks\":\"\"}},\"type\":\"parcoords\"}],\"pie\":[{\"automargin\":true,\"type\":\"pie\"}],\"scatter\":[{\"marker\":{\"colorbar\":{\"outlinewidth\":0,\"ticks\":\"\"}},\"type\":\"scatter\"}],\"scatter3d\":[{\"line\":{\"colorbar\":{\"outlinewidth\":0,\"ticks\":\"\"}},\"marker\":{\"colorbar\":{\"outlinewidth\":0,\"ticks\":\"\"}},\"type\":\"scatter3d\"}],\"scattercarpet\":[{\"marker\":{\"colorbar\":{\"outlinewidth\":0,\"ticks\":\"\"}},\"type\":\"scattercarpet\"}],\"scattergeo\":[{\"marker\":{\"colorbar\":{\"outlinewidth\":0,\"ticks\":\"\"}},\"type\":\"scattergeo\"}],\"scattergl\":[{\"marker\":{\"colorbar\":{\"outlinewidth\":0,\"ticks\":\"\"}},\"type\":\"scattergl\"}],\"scattermapbox\":[{\"marker\":{\"colorbar\":{\"outlinewidth\":0,\"ticks\":\"\"}},\"type\":\"scattermapbox\"}],\"scatterpolar\":[{\"marker\":{\"colorbar\":{\"outlinewidth\":0,\"ticks\":\"\"}},\"type\":\"scatterpolar\"}],\"scatterpolargl\":[{\"marker\":{\"colorbar\":{\"outlinewidth\":0,\"ticks\":\"\"}},\"type\":\"scatterpolargl\"}],\"scatterternary\":[{\"marker\":{\"colorbar\":{\"outlinewidth\":0,\"ticks\":\"\"}},\"type\":\"scatterternary\"}],\"surface\":[{\"colorbar\":{\"outlinewidth\":0,\"ticks\":\"\"},\"colorscale\":[[0.0,\"#0d0887\"],[0.1111111111111111,\"#46039f\"],[0.2222222222222222,\"#7201a8\"],[0.3333333333333333,\"#9c179e\"],[0.4444444444444444,\"#bd3786\"],[0.5555555555555556,\"#d8576b\"],[0.6666666666666666,\"#ed7953\"],[0.7777777777777778,\"#fb9f3a\"],[0.8888888888888888,\"#fdca26\"],[1.0,\"#f0f921\"]],\"type\":\"surface\"}],\"table\":[{\"cells\":{\"fill\":{\"color\":\"#EBF0F8\"},\"line\":{\"color\":\"white\"}},\"header\":{\"fill\":{\"color\":\"#C8D4E3\"},\"line\":{\"color\":\"white\"}},\"type\":\"table\"}]},\"layout\":{\"annotationdefaults\":{\"arrowcolor\":\"#2a3f5f\",\"arrowhead\":0,\"arrowwidth\":1},\"autotypenumbers\":\"strict\",\"coloraxis\":{\"colorbar\":{\"outlinewidth\":0,\"ticks\":\"\"}},\"colorscale\":{\"diverging\":[[0,\"#8e0152\"],[0.1,\"#c51b7d\"],[0.2,\"#de77ae\"],[0.3,\"#f1b6da\"],[0.4,\"#fde0ef\"],[0.5,\"#f7f7f7\"],[0.6,\"#e6f5d0\"],[0.7,\"#b8e186\"],[0.8,\"#7fbc41\"],[0.9,\"#4d9221\"],[1,\"#276419\"]],\"sequential\":[[0.0,\"#0d0887\"],[0.1111111111111111,\"#46039f\"],[0.2222222222222222,\"#7201a8\"],[0.3333333333333333,\"#9c179e\"],[0.4444444444444444,\"#bd3786\"],[0.5555555555555556,\"#d8576b\"],[0.6666666666666666,\"#ed7953\"],[0.7777777777777778,\"#fb9f3a\"],[0.8888888888888888,\"#fdca26\"],[1.0,\"#f0f921\"]],\"sequentialminus\":[[0.0,\"#0d0887\"],[0.1111111111111111,\"#46039f\"],[0.2222222222222222,\"#7201a8\"],[0.3333333333333333,\"#9c179e\"],[0.4444444444444444,\"#bd3786\"],[0.5555555555555556,\"#d8576b\"],[0.6666666666666666,\"#ed7953\"],[0.7777777777777778,\"#fb9f3a\"],[0.8888888888888888,\"#fdca26\"],[1.0,\"#f0f921\"]]},\"colorway\":[\"#636efa\",\"#EF553B\",\"#00cc96\",\"#ab63fa\",\"#FFA15A\",\"#19d3f3\",\"#FF6692\",\"#B6E880\",\"#FF97FF\",\"#FECB52\"],\"font\":{\"color\":\"#2a3f5f\"},\"geo\":{\"bgcolor\":\"white\",\"lakecolor\":\"white\",\"landcolor\":\"#E5ECF6\",\"showlakes\":true,\"showland\":true,\"subunitcolor\":\"white\"},\"hoverlabel\":{\"align\":\"left\"},\"hovermode\":\"closest\",\"mapbox\":{\"style\":\"light\"},\"paper_bgcolor\":\"white\",\"plot_bgcolor\":\"#E5ECF6\",\"polar\":{\"angularaxis\":{\"gridcolor\":\"white\",\"linecolor\":\"white\",\"ticks\":\"\"},\"bgcolor\":\"#E5ECF6\",\"radialaxis\":{\"gridcolor\":\"white\",\"linecolor\":\"white\",\"ticks\":\"\"}},\"scene\":{\"xaxis\":{\"backgroundcolor\":\"#E5ECF6\",\"gridcolor\":\"white\",\"gridwidth\":2,\"linecolor\":\"white\",\"showbackground\":true,\"ticks\":\"\",\"zerolinecolor\":\"white\"},\"yaxis\":{\"backgroundcolor\":\"#E5ECF6\",\"gridcolor\":\"white\",\"gridwidth\":2,\"linecolor\":\"white\",\"showbackground\":true,\"ticks\":\"\",\"zerolinecolor\":\"white\"},\"zaxis\":{\"backgroundcolor\":\"#E5ECF6\",\"gridcolor\":\"white\",\"gridwidth\":2,\"linecolor\":\"white\",\"showbackground\":true,\"ticks\":\"\",\"zerolinecolor\":\"white\"}},\"shapedefaults\":{\"line\":{\"color\":\"#2a3f5f\"}},\"ternary\":{\"aaxis\":{\"gridcolor\":\"white\",\"linecolor\":\"white\",\"ticks\":\"\"},\"baxis\":{\"gridcolor\":\"white\",\"linecolor\":\"white\",\"ticks\":\"\"},\"bgcolor\":\"#E5ECF6\",\"caxis\":{\"gridcolor\":\"white\",\"linecolor\":\"white\",\"ticks\":\"\"}},\"title\":{\"x\":0.05},\"xaxis\":{\"automargin\":true,\"gridcolor\":\"white\",\"linecolor\":\"white\",\"ticks\":\"\",\"title\":{\"standoff\":15},\"zerolinecolor\":\"white\",\"zerolinewidth\":2},\"yaxis\":{\"automargin\":true,\"gridcolor\":\"white\",\"linecolor\":\"white\",\"ticks\":\"\",\"title\":{\"standoff\":15},\"zerolinecolor\":\"white\",\"zerolinewidth\":2}}},\"coloraxis\":{\"colorbar\":{\"title\":{\"text\":\"freq\"}},\"colorscale\":[[0.0,\"rgb(247,251,255)\"],[0.125,\"rgb(222,235,247)\"],[0.25,\"rgb(198,219,239)\"],[0.375,\"rgb(158,202,225)\"],[0.5,\"rgb(107,174,214)\"],[0.625,\"rgb(66,146,198)\"],[0.75,\"rgb(33,113,181)\"],[0.875,\"rgb(8,81,156)\"],[1.0,\"rgb(8,48,107)\"]]},\"legend\":{\"tracegroupgap\":0},\"margin\":{\"t\":60},\"width\":1500,\"height\":750},                        {\"responsive\": true}                    ).then(function(){\n",
       "                            \n",
       "var gd = document.getElementById('d9a1ecc5-98b2-476f-83ca-64e486846b9e');\n",
       "var x = new MutationObserver(function (mutations, observer) {{\n",
       "        var display = window.getComputedStyle(gd).display;\n",
       "        if (!display || display === 'none') {{\n",
       "            console.log([gd, 'removed!']);\n",
       "            Plotly.purge(gd);\n",
       "            observer.disconnect();\n",
       "        }}\n",
       "}});\n",
       "\n",
       "// Listen for the removal of the full notebook cells\n",
       "var notebookContainer = gd.closest('#notebook-container');\n",
       "if (notebookContainer) {{\n",
       "    x.observe(notebookContainer, {childList: true});\n",
       "}}\n",
       "\n",
       "// Listen for the clearing of the current output cell\n",
       "var outputEl = gd.closest('.output');\n",
       "if (outputEl) {{\n",
       "    x.observe(outputEl, {childList: true});\n",
       "}}\n",
       "\n",
       "                        })                };                });            </script>        </div>"
      ]
     },
     "metadata": {},
     "output_type": "display_data"
    }
   ],
   "source": [
    "fig = px.treemap(skills_freq,path = ['group','skill'],color = 'freq', values = 'freq',color_continuous_scale='Blues')\n",
    "fig.update_layout(width = 1500, height = 750)\n",
    "# fig.show()\n",
    "fig.write_html('../reports/figures/treemap.treemap.html')"
   ]
  },
  {
   "cell_type": "code",
   "execution_count": null,
   "id": "b52e1944",
   "metadata": {},
   "outputs": [],
   "source": []
  }
 ],
 "metadata": {
  "kernelspec": {
   "display_name": "Python 3",
   "language": "python",
   "name": "python3"
  },
  "language_info": {
   "codemirror_mode": {
    "name": "ipython",
    "version": 3
   },
   "file_extension": ".py",
   "mimetype": "text/x-python",
   "name": "python",
   "nbconvert_exporter": "python",
   "pygments_lexer": "ipython3",
   "version": "3.8.8"
  }
 },
 "nbformat": 4,
 "nbformat_minor": 5
}
