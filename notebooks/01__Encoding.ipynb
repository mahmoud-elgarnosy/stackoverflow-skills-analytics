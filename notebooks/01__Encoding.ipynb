{
 "cells": [
  {
   "cell_type": "code",
   "execution_count": 1,
   "id": "5c7943ec",
   "metadata": {},
   "outputs": [],
   "source": [
    "import pandas as pd\n",
    "import numpy as np"
   ]
  },
  {
   "cell_type": "code",
   "execution_count": 2,
   "id": "66813670",
   "metadata": {},
   "outputs": [],
   "source": [
    "df = pd.read_pickle('../data/processed/02__cleaning.pkl')"
   ]
  },
  {
   "cell_type": "code",
   "execution_count": 3,
   "id": "dbf73b20",
   "metadata": {},
   "outputs": [
    {
     "name": "stdout",
     "output_type": "stream",
     "text": [
      "<class 'pandas.core.frame.DataFrame'>\n",
      "Int64Index: 56463 entries, 4 to 83438\n",
      "Data columns (total 48 columns):\n",
      " #   Column                        Non-Null Count  Dtype  \n",
      "---  ------                        --------------  -----  \n",
      " 0   ResponseId                    56463 non-null  int64  \n",
      " 1   MainBranch                    56463 non-null  object \n",
      " 2   Employment                    56463 non-null  object \n",
      " 3   Country                       56463 non-null  object \n",
      " 4   US_State                      10528 non-null  object \n",
      " 5   UK_Country                    3074 non-null   object \n",
      " 6   EdLevel                       56408 non-null  object \n",
      " 7   Age1stCode                    56435 non-null  object \n",
      " 8   LearnCode                     56277 non-null  object \n",
      " 9   YearsCode                     55830 non-null  float64\n",
      " 10  YearsCodePro                  52954 non-null  float64\n",
      " 11  DevType                       56463 non-null  object \n",
      " 12  OrgSize                       52786 non-null  object \n",
      " 13  Currency                      52917 non-null  object \n",
      " 14  CompTotal                     41797 non-null  float64\n",
      " 15  CompFreq                      45825 non-null  object \n",
      " 16  LanguageHaveWorkedWith        56463 non-null  object \n",
      " 17  LanguageWantToWorkWith        55211 non-null  object \n",
      " 18  DatabaseHaveWorkedWith        52494 non-null  object \n",
      " 19  DatabaseWantToWorkWith        47412 non-null  object \n",
      " 20  PlatformHaveWorkedWith        41552 non-null  object \n",
      " 21  PlatformWantToWorkWith        35618 non-null  object \n",
      " 22  WebframeHaveWorkedWith        47936 non-null  object \n",
      " 23  WebframeWantToWorkWith        43130 non-null  object \n",
      " 24  MiscTechHaveWorkedWith        34184 non-null  object \n",
      " 25  MiscTechWantToWorkWith        29431 non-null  object \n",
      " 26  ToolsTechHaveWorkedWith       53203 non-null  object \n",
      " 27  ToolsTechWantToWorkWith       50871 non-null  object \n",
      " 28  NEWCollabToolsHaveWorkedWith  56258 non-null  object \n",
      " 29  NEWCollabToolsWantToWorkWith  53703 non-null  object \n",
      " 30  OpSys                         56449 non-null  object \n",
      " 31  NEWStuck                      56369 non-null  object \n",
      " 32  NEWSOSites                    56383 non-null  object \n",
      " 33  SOVisitFreq                   56247 non-null  object \n",
      " 34  SOAccount                     56290 non-null  object \n",
      " 35  SOPartFreq                    47555 non-null  object \n",
      " 36  SOComm                        56183 non-null  object \n",
      " 37  NEWOtherComms                 56168 non-null  object \n",
      " 38  Age                           56058 non-null  object \n",
      " 39  Gender                        55945 non-null  object \n",
      " 40  Trans                         55028 non-null  object \n",
      " 41  Sexuality                     50673 non-null  object \n",
      " 42  Ethnicity                     54290 non-null  object \n",
      " 43  Accessibility                 52993 non-null  object \n",
      " 44  MentalHealth                  52627 non-null  object \n",
      " 45  SurveyLength                  55603 non-null  object \n",
      " 46  SurveyEase                    55745 non-null  object \n",
      " 47  ConvertedCompYearly           41532 non-null  float64\n",
      "dtypes: float64(4), int64(1), object(43)\n",
      "memory usage: 21.1+ MB\n"
     ]
    }
   ],
   "source": [
    "df.info()"
   ]
  },
  {
   "cell_type": "code",
   "execution_count": null,
   "id": "19bb23ce",
   "metadata": {},
   "outputs": [],
   "source": []
  }
 ],
 "metadata": {
  "kernelspec": {
   "display_name": "Python 3 (ipykernel)",
   "language": "python",
   "name": "python3"
  },
  "language_info": {
   "codemirror_mode": {
    "name": "ipython",
    "version": 3
   },
   "file_extension": ".py",
   "mimetype": "text/x-python",
   "name": "python",
   "nbconvert_exporter": "python",
   "pygments_lexer": "ipython3",
   "version": "3.9.7"
  }
 },
 "nbformat": 4,
 "nbformat_minor": 5
}
