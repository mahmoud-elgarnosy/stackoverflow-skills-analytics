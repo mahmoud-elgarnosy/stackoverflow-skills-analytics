{
 "cells": [
  {
   "cell_type": "code",
   "execution_count": 2,
   "id": "5c7943ec",
   "metadata": {},
   "outputs": [],
   "source": [
    "import pandas as pd\n",
    "import numpy as np\n",
    "#import sklearn.preprocessing.LabelBinarizer\n",
    "from sklearn.preprocessing import MultiLabelBinarizer"
   ]
  },
  {
   "cell_type": "code",
   "execution_count": 3,
   "id": "b95d23b3",
   "metadata": {},
   "outputs": [],
   "source": [
    "df = pd.read_pickle('../data/processed/02__cleaning.pkl')"
   ]
  },
  {
   "cell_type": "code",
   "execution_count": 4,
   "id": "b04e4914",
   "metadata": {},
   "outputs": [
    {
     "name": "stdout",
     "output_type": "stream",
     "text": [
      "<class 'pandas.core.frame.DataFrame'>\n",
      "Int64Index: 56463 entries, 4 to 83438\n",
      "Data columns (total 17 columns):\n",
      " #   Column                        Non-Null Count  Dtype  \n",
      "---  ------                        --------------  -----  \n",
      " 0   YearsCodePro                  52954 non-null  float64\n",
      " 1   OrgSize                       52786 non-null  object \n",
      " 2   LanguageHaveWorkedWith        56463 non-null  object \n",
      " 3   LanguageWantToWorkWith        55211 non-null  object \n",
      " 4   DatabaseHaveWorkedWith        52494 non-null  object \n",
      " 5   DatabaseWantToWorkWith        47412 non-null  object \n",
      " 6   PlatformHaveWorkedWith        41552 non-null  object \n",
      " 7   PlatformWantToWorkWith        35618 non-null  object \n",
      " 8   WebframeHaveWorkedWith        47936 non-null  object \n",
      " 9   WebframeWantToWorkWith        43130 non-null  object \n",
      " 10  MiscTechHaveWorkedWith        34184 non-null  object \n",
      " 11  MiscTechWantToWorkWith        29431 non-null  object \n",
      " 12  ToolsTechHaveWorkedWith       53203 non-null  object \n",
      " 13  ToolsTechWantToWorkWith       50871 non-null  object \n",
      " 14  NEWCollabToolsHaveWorkedWith  56258 non-null  object \n",
      " 15  NEWCollabToolsWantToWorkWith  53703 non-null  object \n",
      " 16  DevType                       56463 non-null  object \n",
      "dtypes: float64(1), object(16)\n",
      "memory usage: 7.8+ MB\n"
     ]
    }
   ],
   "source": [
    "df.info()"
   ]
  },
  {
   "cell_type": "code",
   "execution_count": 5,
   "id": "9efd3ab7",
   "metadata": {},
   "outputs": [],
   "source": [
    "X_COL =['YearsCodePro', 'OrgSize', 'LanguageHaveWorkedWith', 'LanguageWantToWorkWith',\n",
    "       'DatabaseHaveWorkedWith', 'DatabaseWantToWorkWith',\n",
    "       'PlatformHaveWorkedWith', 'PlatformWantToWorkWith',\n",
    "       'WebframeHaveWorkedWith', 'WebframeWantToWorkWith',\n",
    "       'MiscTechHaveWorkedWith', 'MiscTechWantToWorkWith',\n",
    "       'ToolsTechHaveWorkedWith', 'ToolsTechWantToWorkWith',\n",
    "       'NEWCollabToolsHaveWorkedWith', 'NEWCollabToolsWantToWorkWith' ]\n",
    "Y_COL = ['DevType']"
   ]
  },
  {
   "cell_type": "code",
   "execution_count": 6,
   "id": "26c435f3",
   "metadata": {},
   "outputs": [],
   "source": [
    "df_encoded = {}"
   ]
  },
  {
   "cell_type": "code",
   "execution_count": 7,
   "id": "23b8cff7",
   "metadata": {},
   "outputs": [],
   "source": [
    "df2 = df.copy()"
   ]
  },
  {
   "cell_type": "code",
   "execution_count": null,
   "id": "611ece42",
   "metadata": {},
   "outputs": [],
   "source": [
    "mlb = "
   ]
  }
 ],
 "metadata": {
  "kernelspec": {
   "display_name": "Python 3 (ipykernel)",
   "language": "python",
   "name": "python3"
  },
  "language_info": {
   "codemirror_mode": {
    "name": "ipython",
    "version": 3
   },
   "file_extension": ".py",
   "mimetype": "text/x-python",
   "name": "python",
   "nbconvert_exporter": "python",
   "pygments_lexer": "ipython3",
   "version": "3.9.7"
  }
 },
 "nbformat": 4,
 "nbformat_minor": 5
}
