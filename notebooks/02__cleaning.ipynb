{
 "cells": [
  {
   "cell_type": "code",
   "execution_count": 2,
   "id": "7ffe9ceb",
   "metadata": {},
   "outputs": [],
   "source": [
    "import pandas as pd\n",
    "import numpy as np"
   ]
  },
  {
   "cell_type": "code",
   "execution_count": 38,
   "id": "e7e08ab1",
   "metadata": {},
   "outputs": [],
   "source": [
    "df = pd.read_pickle('../data/processed/01__cleaning.pkl')"
   ]
  },
  {
   "cell_type": "code",
   "execution_count": 39,
   "id": "30751b2c",
   "metadata": {
    "scrolled": true
   },
   "outputs": [
    {
     "data": {
      "text/html": [
       "<div>\n",
       "<style scoped>\n",
       "    .dataframe tbody tr th:only-of-type {\n",
       "        vertical-align: middle;\n",
       "    }\n",
       "\n",
       "    .dataframe tbody tr th {\n",
       "        vertical-align: top;\n",
       "    }\n",
       "\n",
       "    .dataframe thead th {\n",
       "        text-align: right;\n",
       "    }\n",
       "</style>\n",
       "<table border=\"1\" class=\"dataframe\">\n",
       "  <thead>\n",
       "    <tr style=\"text-align: right;\">\n",
       "      <th></th>\n",
       "      <th>ResponseId</th>\n",
       "      <th>MainBranch</th>\n",
       "      <th>Employment</th>\n",
       "      <th>Country</th>\n",
       "      <th>US_State</th>\n",
       "      <th>UK_Country</th>\n",
       "      <th>EdLevel</th>\n",
       "      <th>Age1stCode</th>\n",
       "      <th>LearnCode</th>\n",
       "      <th>YearsCode</th>\n",
       "      <th>...</th>\n",
       "      <th>Age</th>\n",
       "      <th>Gender</th>\n",
       "      <th>Trans</th>\n",
       "      <th>Sexuality</th>\n",
       "      <th>Ethnicity</th>\n",
       "      <th>Accessibility</th>\n",
       "      <th>MentalHealth</th>\n",
       "      <th>SurveyLength</th>\n",
       "      <th>SurveyEase</th>\n",
       "      <th>ConvertedCompYearly</th>\n",
       "    </tr>\n",
       "  </thead>\n",
       "  <tbody>\n",
       "    <tr>\n",
       "      <th>0</th>\n",
       "      <td>1</td>\n",
       "      <td>I am a developer by profession</td>\n",
       "      <td>Independent contractor, freelancer, or self-em...</td>\n",
       "      <td>Slovakia</td>\n",
       "      <td>NaN</td>\n",
       "      <td>NaN</td>\n",
       "      <td>Secondary school (e.g. American high school, G...</td>\n",
       "      <td>18 - 24 years</td>\n",
       "      <td>Coding Bootcamp;Other online resources (ex: vi...</td>\n",
       "      <td>NaN</td>\n",
       "      <td>...</td>\n",
       "      <td>25-34 years old</td>\n",
       "      <td>Man</td>\n",
       "      <td>No</td>\n",
       "      <td>Straight / Heterosexual</td>\n",
       "      <td>White or of European descent</td>\n",
       "      <td>None of the above</td>\n",
       "      <td>None of the above</td>\n",
       "      <td>Appropriate in length</td>\n",
       "      <td>Easy</td>\n",
       "      <td>62268.0</td>\n",
       "    </tr>\n",
       "    <tr>\n",
       "      <th>1</th>\n",
       "      <td>2</td>\n",
       "      <td>I am a student who is learning to code</td>\n",
       "      <td>Student, full-time</td>\n",
       "      <td>Netherlands</td>\n",
       "      <td>NaN</td>\n",
       "      <td>NaN</td>\n",
       "      <td>Bachelor’s degree (B.A., B.S., B.Eng., etc.)</td>\n",
       "      <td>11 - 17 years</td>\n",
       "      <td>Other online resources (ex: videos, blogs, etc...</td>\n",
       "      <td>7.0</td>\n",
       "      <td>...</td>\n",
       "      <td>18-24 years old</td>\n",
       "      <td>Man</td>\n",
       "      <td>No</td>\n",
       "      <td>Straight / Heterosexual</td>\n",
       "      <td>White or of European descent</td>\n",
       "      <td>None of the above</td>\n",
       "      <td>None of the above</td>\n",
       "      <td>Appropriate in length</td>\n",
       "      <td>Easy</td>\n",
       "      <td>NaN</td>\n",
       "    </tr>\n",
       "    <tr>\n",
       "      <th>2</th>\n",
       "      <td>3</td>\n",
       "      <td>I am not primarily a developer, but I write co...</td>\n",
       "      <td>Student, full-time</td>\n",
       "      <td>Russian Federation</td>\n",
       "      <td>NaN</td>\n",
       "      <td>NaN</td>\n",
       "      <td>Bachelor’s degree (B.A., B.S., B.Eng., etc.)</td>\n",
       "      <td>11 - 17 years</td>\n",
       "      <td>Other online resources (ex: videos, blogs, etc...</td>\n",
       "      <td>NaN</td>\n",
       "      <td>...</td>\n",
       "      <td>18-24 years old</td>\n",
       "      <td>Man</td>\n",
       "      <td>No</td>\n",
       "      <td>Prefer not to say</td>\n",
       "      <td>Prefer not to say</td>\n",
       "      <td>None of the above</td>\n",
       "      <td>None of the above</td>\n",
       "      <td>Appropriate in length</td>\n",
       "      <td>Easy</td>\n",
       "      <td>NaN</td>\n",
       "    </tr>\n",
       "    <tr>\n",
       "      <th>3</th>\n",
       "      <td>4</td>\n",
       "      <td>I am a developer by profession</td>\n",
       "      <td>Employed full-time</td>\n",
       "      <td>Austria</td>\n",
       "      <td>NaN</td>\n",
       "      <td>NaN</td>\n",
       "      <td>Master’s degree (M.A., M.S., M.Eng., MBA, etc.)</td>\n",
       "      <td>11 - 17 years</td>\n",
       "      <td>NaN</td>\n",
       "      <td>NaN</td>\n",
       "      <td>...</td>\n",
       "      <td>35-44 years old</td>\n",
       "      <td>Man</td>\n",
       "      <td>No</td>\n",
       "      <td>Straight / Heterosexual</td>\n",
       "      <td>White or of European descent</td>\n",
       "      <td>I am deaf / hard of hearing</td>\n",
       "      <td>NaN</td>\n",
       "      <td>Appropriate in length</td>\n",
       "      <td>Neither easy nor difficult</td>\n",
       "      <td>NaN</td>\n",
       "    </tr>\n",
       "    <tr>\n",
       "      <th>4</th>\n",
       "      <td>5</td>\n",
       "      <td>I am a developer by profession</td>\n",
       "      <td>Independent contractor, freelancer, or self-em...</td>\n",
       "      <td>United Kingdom of Great Britain and Northern I...</td>\n",
       "      <td>NaN</td>\n",
       "      <td>England</td>\n",
       "      <td>Master’s degree (M.A., M.S., M.Eng., MBA, etc.)</td>\n",
       "      <td>5 - 10 years</td>\n",
       "      <td>Friend or family member</td>\n",
       "      <td>17.0</td>\n",
       "      <td>...</td>\n",
       "      <td>25-34 years old</td>\n",
       "      <td>Man</td>\n",
       "      <td>No</td>\n",
       "      <td>NaN</td>\n",
       "      <td>White or of European descent</td>\n",
       "      <td>None of the above</td>\n",
       "      <td>NaN</td>\n",
       "      <td>Appropriate in length</td>\n",
       "      <td>Easy</td>\n",
       "      <td>NaN</td>\n",
       "    </tr>\n",
       "    <tr>\n",
       "      <th>...</th>\n",
       "      <td>...</td>\n",
       "      <td>...</td>\n",
       "      <td>...</td>\n",
       "      <td>...</td>\n",
       "      <td>...</td>\n",
       "      <td>...</td>\n",
       "      <td>...</td>\n",
       "      <td>...</td>\n",
       "      <td>...</td>\n",
       "      <td>...</td>\n",
       "      <td>...</td>\n",
       "      <td>...</td>\n",
       "      <td>...</td>\n",
       "      <td>...</td>\n",
       "      <td>...</td>\n",
       "      <td>...</td>\n",
       "      <td>...</td>\n",
       "      <td>...</td>\n",
       "      <td>...</td>\n",
       "      <td>...</td>\n",
       "      <td>...</td>\n",
       "    </tr>\n",
       "    <tr>\n",
       "      <th>83434</th>\n",
       "      <td>83435</td>\n",
       "      <td>I am a developer by profession</td>\n",
       "      <td>Employed full-time</td>\n",
       "      <td>United States of America</td>\n",
       "      <td>Texas</td>\n",
       "      <td>NaN</td>\n",
       "      <td>Bachelor’s degree (B.A., B.S., B.Eng., etc.)</td>\n",
       "      <td>11 - 17 years</td>\n",
       "      <td>Other online resources (ex: videos, blogs, etc...</td>\n",
       "      <td>6.0</td>\n",
       "      <td>...</td>\n",
       "      <td>25-34 years old</td>\n",
       "      <td>Man</td>\n",
       "      <td>No</td>\n",
       "      <td>Straight / Heterosexual</td>\n",
       "      <td>White or of European descent</td>\n",
       "      <td>None of the above</td>\n",
       "      <td>I have a concentration and/or memory disorder ...</td>\n",
       "      <td>Appropriate in length</td>\n",
       "      <td>Easy</td>\n",
       "      <td>160500.0</td>\n",
       "    </tr>\n",
       "    <tr>\n",
       "      <th>83435</th>\n",
       "      <td>83436</td>\n",
       "      <td>I am a developer by profession</td>\n",
       "      <td>Independent contractor, freelancer, or self-em...</td>\n",
       "      <td>Benin</td>\n",
       "      <td>NaN</td>\n",
       "      <td>NaN</td>\n",
       "      <td>Bachelor’s degree (B.A., B.S., B.Eng., etc.)</td>\n",
       "      <td>11 - 17 years</td>\n",
       "      <td>Other online resources (ex: videos, blogs, etc...</td>\n",
       "      <td>4.0</td>\n",
       "      <td>...</td>\n",
       "      <td>18-24 years old</td>\n",
       "      <td>Man</td>\n",
       "      <td>No</td>\n",
       "      <td>Straight / Heterosexual</td>\n",
       "      <td>Black or of African descent</td>\n",
       "      <td>None of the above</td>\n",
       "      <td>None of the above</td>\n",
       "      <td>Appropriate in length</td>\n",
       "      <td>Easy</td>\n",
       "      <td>3960.0</td>\n",
       "    </tr>\n",
       "    <tr>\n",
       "      <th>83436</th>\n",
       "      <td>83437</td>\n",
       "      <td>I am a developer by profession</td>\n",
       "      <td>Employed full-time</td>\n",
       "      <td>United States of America</td>\n",
       "      <td>New Jersey</td>\n",
       "      <td>NaN</td>\n",
       "      <td>Secondary school (e.g. American high school, G...</td>\n",
       "      <td>11 - 17 years</td>\n",
       "      <td>School</td>\n",
       "      <td>10.0</td>\n",
       "      <td>...</td>\n",
       "      <td>25-34 years old</td>\n",
       "      <td>Man</td>\n",
       "      <td>No</td>\n",
       "      <td>NaN</td>\n",
       "      <td>White or of European descent</td>\n",
       "      <td>None of the above</td>\n",
       "      <td>None of the above</td>\n",
       "      <td>Appropriate in length</td>\n",
       "      <td>Neither easy nor difficult</td>\n",
       "      <td>90000.0</td>\n",
       "    </tr>\n",
       "    <tr>\n",
       "      <th>83437</th>\n",
       "      <td>83438</td>\n",
       "      <td>I am a developer by profession</td>\n",
       "      <td>Employed full-time</td>\n",
       "      <td>Canada</td>\n",
       "      <td>NaN</td>\n",
       "      <td>NaN</td>\n",
       "      <td>Bachelor’s degree (B.A., B.S., B.Eng., etc.)</td>\n",
       "      <td>11 - 17 years</td>\n",
       "      <td>Online Courses or Certification;Books / Physic...</td>\n",
       "      <td>5.0</td>\n",
       "      <td>...</td>\n",
       "      <td>25-34 years old</td>\n",
       "      <td>Man</td>\n",
       "      <td>No</td>\n",
       "      <td>Straight / Heterosexual</td>\n",
       "      <td>White or of European descent</td>\n",
       "      <td>None of the above</td>\n",
       "      <td>I have a mood or emotional disorder (e.g. depr...</td>\n",
       "      <td>Appropriate in length</td>\n",
       "      <td>Neither easy nor difficult</td>\n",
       "      <td>816816.0</td>\n",
       "    </tr>\n",
       "    <tr>\n",
       "      <th>83438</th>\n",
       "      <td>83439</td>\n",
       "      <td>I am a developer by profession</td>\n",
       "      <td>Employed full-time</td>\n",
       "      <td>Brazil</td>\n",
       "      <td>NaN</td>\n",
       "      <td>NaN</td>\n",
       "      <td>Professional degree (JD, MD, etc.)</td>\n",
       "      <td>11 - 17 years</td>\n",
       "      <td>School</td>\n",
       "      <td>14.0</td>\n",
       "      <td>...</td>\n",
       "      <td>18-24 years old</td>\n",
       "      <td>Man</td>\n",
       "      <td>No</td>\n",
       "      <td>Straight / Heterosexual</td>\n",
       "      <td>Hispanic or Latino/a/x</td>\n",
       "      <td>None of the above</td>\n",
       "      <td>None of the above</td>\n",
       "      <td>Appropriate in length</td>\n",
       "      <td>Easy</td>\n",
       "      <td>21168.0</td>\n",
       "    </tr>\n",
       "  </tbody>\n",
       "</table>\n",
       "<p>83439 rows × 48 columns</p>\n",
       "</div>"
      ],
      "text/plain": [
       "       ResponseId                                         MainBranch  \\\n",
       "0               1                     I am a developer by profession   \n",
       "1               2             I am a student who is learning to code   \n",
       "2               3  I am not primarily a developer, but I write co...   \n",
       "3               4                     I am a developer by profession   \n",
       "4               5                     I am a developer by profession   \n",
       "...           ...                                                ...   \n",
       "83434       83435                     I am a developer by profession   \n",
       "83435       83436                     I am a developer by profession   \n",
       "83436       83437                     I am a developer by profession   \n",
       "83437       83438                     I am a developer by profession   \n",
       "83438       83439                     I am a developer by profession   \n",
       "\n",
       "                                              Employment  \\\n",
       "0      Independent contractor, freelancer, or self-em...   \n",
       "1                                     Student, full-time   \n",
       "2                                     Student, full-time   \n",
       "3                                     Employed full-time   \n",
       "4      Independent contractor, freelancer, or self-em...   \n",
       "...                                                  ...   \n",
       "83434                                 Employed full-time   \n",
       "83435  Independent contractor, freelancer, or self-em...   \n",
       "83436                                 Employed full-time   \n",
       "83437                                 Employed full-time   \n",
       "83438                                 Employed full-time   \n",
       "\n",
       "                                                 Country    US_State  \\\n",
       "0                                               Slovakia         NaN   \n",
       "1                                            Netherlands         NaN   \n",
       "2                                     Russian Federation         NaN   \n",
       "3                                                Austria         NaN   \n",
       "4      United Kingdom of Great Britain and Northern I...         NaN   \n",
       "...                                                  ...         ...   \n",
       "83434                           United States of America       Texas   \n",
       "83435                                              Benin         NaN   \n",
       "83436                           United States of America  New Jersey   \n",
       "83437                                             Canada         NaN   \n",
       "83438                                             Brazil         NaN   \n",
       "\n",
       "      UK_Country                                            EdLevel  \\\n",
       "0            NaN  Secondary school (e.g. American high school, G...   \n",
       "1            NaN       Bachelor’s degree (B.A., B.S., B.Eng., etc.)   \n",
       "2            NaN       Bachelor’s degree (B.A., B.S., B.Eng., etc.)   \n",
       "3            NaN    Master’s degree (M.A., M.S., M.Eng., MBA, etc.)   \n",
       "4        England    Master’s degree (M.A., M.S., M.Eng., MBA, etc.)   \n",
       "...          ...                                                ...   \n",
       "83434        NaN       Bachelor’s degree (B.A., B.S., B.Eng., etc.)   \n",
       "83435        NaN       Bachelor’s degree (B.A., B.S., B.Eng., etc.)   \n",
       "83436        NaN  Secondary school (e.g. American high school, G...   \n",
       "83437        NaN       Bachelor’s degree (B.A., B.S., B.Eng., etc.)   \n",
       "83438        NaN                 Professional degree (JD, MD, etc.)   \n",
       "\n",
       "          Age1stCode                                          LearnCode  \\\n",
       "0      18 - 24 years  Coding Bootcamp;Other online resources (ex: vi...   \n",
       "1      11 - 17 years  Other online resources (ex: videos, blogs, etc...   \n",
       "2      11 - 17 years  Other online resources (ex: videos, blogs, etc...   \n",
       "3      11 - 17 years                                                NaN   \n",
       "4       5 - 10 years                            Friend or family member   \n",
       "...              ...                                                ...   \n",
       "83434  11 - 17 years  Other online resources (ex: videos, blogs, etc...   \n",
       "83435  11 - 17 years  Other online resources (ex: videos, blogs, etc...   \n",
       "83436  11 - 17 years                                             School   \n",
       "83437  11 - 17 years  Online Courses or Certification;Books / Physic...   \n",
       "83438  11 - 17 years                                             School   \n",
       "\n",
       "       YearsCode  ...              Age Gender Trans                Sexuality  \\\n",
       "0            NaN  ...  25-34 years old    Man    No  Straight / Heterosexual   \n",
       "1            7.0  ...  18-24 years old    Man    No  Straight / Heterosexual   \n",
       "2            NaN  ...  18-24 years old    Man    No        Prefer not to say   \n",
       "3            NaN  ...  35-44 years old    Man    No  Straight / Heterosexual   \n",
       "4           17.0  ...  25-34 years old    Man    No                      NaN   \n",
       "...          ...  ...              ...    ...   ...                      ...   \n",
       "83434        6.0  ...  25-34 years old    Man    No  Straight / Heterosexual   \n",
       "83435        4.0  ...  18-24 years old    Man    No  Straight / Heterosexual   \n",
       "83436       10.0  ...  25-34 years old    Man    No                      NaN   \n",
       "83437        5.0  ...  25-34 years old    Man    No  Straight / Heterosexual   \n",
       "83438       14.0  ...  18-24 years old    Man    No  Straight / Heterosexual   \n",
       "\n",
       "                          Ethnicity                Accessibility  \\\n",
       "0      White or of European descent            None of the above   \n",
       "1      White or of European descent            None of the above   \n",
       "2                 Prefer not to say            None of the above   \n",
       "3      White or of European descent  I am deaf / hard of hearing   \n",
       "4      White or of European descent            None of the above   \n",
       "...                             ...                          ...   \n",
       "83434  White or of European descent            None of the above   \n",
       "83435   Black or of African descent            None of the above   \n",
       "83436  White or of European descent            None of the above   \n",
       "83437  White or of European descent            None of the above   \n",
       "83438        Hispanic or Latino/a/x            None of the above   \n",
       "\n",
       "                                            MentalHealth  \\\n",
       "0                                      None of the above   \n",
       "1                                      None of the above   \n",
       "2                                      None of the above   \n",
       "3                                                    NaN   \n",
       "4                                                    NaN   \n",
       "...                                                  ...   \n",
       "83434  I have a concentration and/or memory disorder ...   \n",
       "83435                                  None of the above   \n",
       "83436                                  None of the above   \n",
       "83437  I have a mood or emotional disorder (e.g. depr...   \n",
       "83438                                  None of the above   \n",
       "\n",
       "                SurveyLength                  SurveyEase ConvertedCompYearly  \n",
       "0      Appropriate in length                        Easy             62268.0  \n",
       "1      Appropriate in length                        Easy                 NaN  \n",
       "2      Appropriate in length                        Easy                 NaN  \n",
       "3      Appropriate in length  Neither easy nor difficult                 NaN  \n",
       "4      Appropriate in length                        Easy                 NaN  \n",
       "...                      ...                         ...                 ...  \n",
       "83434  Appropriate in length                        Easy            160500.0  \n",
       "83435  Appropriate in length                        Easy              3960.0  \n",
       "83436  Appropriate in length  Neither easy nor difficult             90000.0  \n",
       "83437  Appropriate in length  Neither easy nor difficult            816816.0  \n",
       "83438  Appropriate in length                        Easy             21168.0  \n",
       "\n",
       "[83439 rows x 48 columns]"
      ]
     },
     "execution_count": 39,
     "metadata": {},
     "output_type": "execute_result"
    }
   ],
   "source": [
    "df"
   ]
  },
  {
   "cell_type": "code",
   "execution_count": 40,
   "id": "2c68affc",
   "metadata": {
    "scrolled": true
   },
   "outputs": [
    {
     "data": {
      "text/plain": [
       "Index(['ResponseId', 'MainBranch', 'Employment', 'Country', 'US_State',\n",
       "       'UK_Country', 'EdLevel', 'Age1stCode', 'LearnCode', 'YearsCode',\n",
       "       'YearsCodePro', 'DevType', 'OrgSize', 'Currency', 'CompTotal',\n",
       "       'CompFreq', 'LanguageHaveWorkedWith', 'LanguageWantToWorkWith',\n",
       "       'DatabaseHaveWorkedWith', 'DatabaseWantToWorkWith',\n",
       "       'PlatformHaveWorkedWith', 'PlatformWantToWorkWith',\n",
       "       'WebframeHaveWorkedWith', 'WebframeWantToWorkWith',\n",
       "       'MiscTechHaveWorkedWith', 'MiscTechWantToWorkWith',\n",
       "       'ToolsTechHaveWorkedWith', 'ToolsTechWantToWorkWith',\n",
       "       'NEWCollabToolsHaveWorkedWith', 'NEWCollabToolsWantToWorkWith', 'OpSys',\n",
       "       'NEWStuck', 'NEWSOSites', 'SOVisitFreq', 'SOAccount', 'SOPartFreq',\n",
       "       'SOComm', 'NEWOtherComms', 'Age', 'Gender', 'Trans', 'Sexuality',\n",
       "       'Ethnicity', 'Accessibility', 'MentalHealth', 'SurveyLength',\n",
       "       'SurveyEase', 'ConvertedCompYearly'],\n",
       "      dtype='object')"
      ]
     },
     "execution_count": 40,
     "metadata": {},
     "output_type": "execute_result"
    }
   ],
   "source": [
    "df.columns"
   ]
  },
  {
   "cell_type": "code",
   "execution_count": 73,
   "id": "4e24099d",
   "metadata": {},
   "outputs": [],
   "source": [
    "X_COL =['YearsCodePro', 'OrgSize', 'LanguageHaveWorkedWith', 'LanguageWantToWorkWith',\n",
    "       'DatabaseHaveWorkedWith', 'DatabaseWantToWorkWith',\n",
    "       'PlatformHaveWorkedWith', 'PlatformWantToWorkWith',\n",
    "       'WebframeHaveWorkedWith', 'WebframeWantToWorkWith',\n",
    "       'MiscTechHaveWorkedWith', 'MiscTechWantToWorkWith',\n",
    "       'ToolsTechHaveWorkedWith', 'ToolsTechWantToWorkWith',\n",
    "       'NEWCollabToolsHaveWorkedWith', 'NEWCollabToolsWantToWorkWith' ]\n",
    "Y_COL = ['DevType']"
   ]
  },
  {
   "cell_type": "code",
   "execution_count": 49,
   "id": "062ab4a4",
   "metadata": {},
   "outputs": [
    {
     "data": {
      "text/plain": [
       "16"
      ]
     },
     "execution_count": 49,
     "metadata": {},
     "output_type": "execute_result"
    }
   ],
   "source": [
    "len(X_COL)"
   ]
  },
  {
   "cell_type": "code",
   "execution_count": 50,
   "id": "e9e90c81",
   "metadata": {},
   "outputs": [],
   "source": [
    "df_copy = df.copy()"
   ]
  },
  {
   "cell_type": "code",
   "execution_count": 51,
   "id": "d3ddd54b",
   "metadata": {},
   "outputs": [
    {
     "data": {
      "text/plain": [
       "Index(['ResponseId', 'MainBranch', 'Employment', 'Country', 'US_State',\n",
       "       'UK_Country', 'EdLevel', 'Age1stCode', 'LearnCode', 'YearsCode',\n",
       "       'YearsCodePro', 'DevType', 'OrgSize', 'Currency', 'CompTotal',\n",
       "       'CompFreq', 'LanguageHaveWorkedWith', 'LanguageWantToWorkWith',\n",
       "       'DatabaseHaveWorkedWith', 'DatabaseWantToWorkWith',\n",
       "       'PlatformHaveWorkedWith', 'PlatformWantToWorkWith',\n",
       "       'WebframeHaveWorkedWith', 'WebframeWantToWorkWith',\n",
       "       'MiscTechHaveWorkedWith', 'MiscTechWantToWorkWith',\n",
       "       'ToolsTechHaveWorkedWith', 'ToolsTechWantToWorkWith',\n",
       "       'NEWCollabToolsHaveWorkedWith', 'NEWCollabToolsWantToWorkWith', 'OpSys',\n",
       "       'NEWStuck', 'NEWSOSites', 'SOVisitFreq', 'SOAccount', 'SOPartFreq',\n",
       "       'SOComm', 'NEWOtherComms', 'Age', 'Gender', 'Trans', 'Sexuality',\n",
       "       'Ethnicity', 'Accessibility', 'MentalHealth', 'SurveyLength',\n",
       "       'SurveyEase', 'ConvertedCompYearly'],\n",
       "      dtype='object')"
      ]
     },
     "execution_count": 51,
     "metadata": {},
     "output_type": "execute_result"
    }
   ],
   "source": [
    "df_copy.columns"
   ]
  },
  {
   "cell_type": "code",
   "execution_count": 52,
   "id": "17adf691",
   "metadata": {},
   "outputs": [
    {
     "name": "stdout",
     "output_type": "stream",
     "text": [
      "YearsCodePro 22223\n",
      "OrgSize 22713\n",
      "LanguageHaveWorkedWith 1082\n",
      "LanguageWantToWorkWith 6618\n",
      "DatabaseHaveWorkedWith 13893\n",
      "DatabaseWantToWorkWith 25140\n",
      "PlatformHaveWorkedWith 31304\n",
      "PlatformWantToWorkWith 41820\n",
      "WebframeHaveWorkedWith 21732\n",
      "WebframeWantToWorkWith 31344\n",
      "MiscTechHaveWorkedWith 36384\n",
      "MiscTechWantToWorkWith 45418\n",
      "ToolsTechHaveWorkedWith 10902\n",
      "ToolsTechWantToWorkWith 17959\n",
      "NEWCollabToolsHaveWorkedWith 2205\n",
      "NEWCollabToolsWantToWorkWith 10417\n"
     ]
    }
   ],
   "source": [
    "for col in X_COL:\n",
    "    print(col, df[col].isna().sum())\n"
   ]
  },
  {
   "cell_type": "code",
   "execution_count": 53,
   "id": "78088ef2",
   "metadata": {},
   "outputs": [
    {
     "data": {
      "text/plain": [
       "Int64Index([    1,     2,     5,     6,     7,    14,    15,    18,    20,\n",
       "               21,\n",
       "            ...\n",
       "            83383, 83388, 83391, 83397, 83398, 83406, 83410, 83414, 83417,\n",
       "            83418],\n",
       "           dtype='int64', length=16955)"
      ]
     },
     "execution_count": 53,
     "metadata": {},
     "output_type": "execute_result"
    }
   ],
   "source": [
    "df[df['DevType'].isna()].index"
   ]
  },
  {
   "cell_type": "code",
   "execution_count": 54,
   "id": "1e43ee34",
   "metadata": {},
   "outputs": [
    {
     "data": {
      "text/plain": [
       "16955"
      ]
     },
     "execution_count": 54,
     "metadata": {},
     "output_type": "execute_result"
    }
   ],
   "source": [
    "df['DevType'].isna().sum()"
   ]
  },
  {
   "cell_type": "code",
   "execution_count": 55,
   "id": "699d5e38",
   "metadata": {},
   "outputs": [],
   "source": [
    "df_copy.drop(df_copy[df_copy['DevType'].isna()].index, axis = 0, inplace = True)"
   ]
  },
  {
   "cell_type": "code",
   "execution_count": 56,
   "id": "8e7283ce",
   "metadata": {},
   "outputs": [
    {
     "data": {
      "text/plain": [
       "0"
      ]
     },
     "execution_count": 56,
     "metadata": {},
     "output_type": "execute_result"
    }
   ],
   "source": [
    "df_copy['DevType'].isna().sum()"
   ]
  },
  {
   "cell_type": "code",
   "execution_count": 57,
   "id": "07b2bced",
   "metadata": {},
   "outputs": [
    {
     "data": {
      "text/plain": [
       "Index(['ResponseId', 'MainBranch', 'Employment', 'Country', 'US_State',\n",
       "       'UK_Country', 'EdLevel', 'Age1stCode', 'LearnCode', 'YearsCode',\n",
       "       'YearsCodePro', 'DevType', 'OrgSize', 'Currency', 'CompTotal',\n",
       "       'CompFreq', 'LanguageHaveWorkedWith', 'LanguageWantToWorkWith',\n",
       "       'DatabaseHaveWorkedWith', 'DatabaseWantToWorkWith',\n",
       "       'PlatformHaveWorkedWith', 'PlatformWantToWorkWith',\n",
       "       'WebframeHaveWorkedWith', 'WebframeWantToWorkWith',\n",
       "       'MiscTechHaveWorkedWith', 'MiscTechWantToWorkWith',\n",
       "       'ToolsTechHaveWorkedWith', 'ToolsTechWantToWorkWith',\n",
       "       'NEWCollabToolsHaveWorkedWith', 'NEWCollabToolsWantToWorkWith', 'OpSys',\n",
       "       'NEWStuck', 'NEWSOSites', 'SOVisitFreq', 'SOAccount', 'SOPartFreq',\n",
       "       'SOComm', 'NEWOtherComms', 'Age', 'Gender', 'Trans', 'Sexuality',\n",
       "       'Ethnicity', 'Accessibility', 'MentalHealth', 'SurveyLength',\n",
       "       'SurveyEase', 'ConvertedCompYearly'],\n",
       "      dtype='object')"
      ]
     },
     "execution_count": 57,
     "metadata": {},
     "output_type": "execute_result"
    }
   ],
   "source": [
    "df_copy.columns"
   ]
  },
  {
   "cell_type": "code",
   "execution_count": 65,
   "id": "7b9b8436",
   "metadata": {},
   "outputs": [],
   "source": [
    "df_copy.drop(df_copy[df_copy['LanguageHaveWorkedWith'].isna()].index, axis = 0, inplace = True)"
   ]
  },
  {
   "cell_type": "code",
   "execution_count": 66,
   "id": "60206473",
   "metadata": {},
   "outputs": [
    {
     "data": {
      "text/plain": [
       "Index(['ResponseId', 'MainBranch', 'Employment', 'Country', 'US_State',\n",
       "       'UK_Country', 'EdLevel', 'Age1stCode', 'LearnCode', 'YearsCode',\n",
       "       'YearsCodePro', 'DevType', 'OrgSize', 'Currency', 'CompTotal',\n",
       "       'CompFreq', 'LanguageHaveWorkedWith', 'LanguageWantToWorkWith',\n",
       "       'DatabaseHaveWorkedWith', 'DatabaseWantToWorkWith',\n",
       "       'PlatformHaveWorkedWith', 'PlatformWantToWorkWith',\n",
       "       'WebframeHaveWorkedWith', 'WebframeWantToWorkWith',\n",
       "       'MiscTechHaveWorkedWith', 'MiscTechWantToWorkWith',\n",
       "       'ToolsTechHaveWorkedWith', 'ToolsTechWantToWorkWith',\n",
       "       'NEWCollabToolsHaveWorkedWith', 'NEWCollabToolsWantToWorkWith', 'OpSys',\n",
       "       'NEWStuck', 'NEWSOSites', 'SOVisitFreq', 'SOAccount', 'SOPartFreq',\n",
       "       'SOComm', 'NEWOtherComms', 'Age', 'Gender', 'Trans', 'Sexuality',\n",
       "       'Ethnicity', 'Accessibility', 'MentalHealth', 'SurveyLength',\n",
       "       'SurveyEase', 'ConvertedCompYearly'],\n",
       "      dtype='object')"
      ]
     },
     "execution_count": 66,
     "metadata": {},
     "output_type": "execute_result"
    }
   ],
   "source": [
    "df_copy.columns"
   ]
  },
  {
   "cell_type": "code",
   "execution_count": 59,
   "id": "b8b49808",
   "metadata": {},
   "outputs": [
    {
     "data": {
      "text/plain": [
       "0"
      ]
     },
     "execution_count": 59,
     "metadata": {},
     "output_type": "execute_result"
    }
   ],
   "source": [
    "df_copy['LanguageHaveWorkedWith'].isna().sum()"
   ]
  },
  {
   "cell_type": "code",
   "execution_count": 67,
   "id": "a8b9ca55",
   "metadata": {
    "scrolled": true
   },
   "outputs": [
    {
     "name": "stdout",
     "output_type": "stream",
     "text": [
      "YearsCodePro 3509\n",
      "OrgSize 3677\n",
      "LanguageHaveWorkedWith 0\n",
      "LanguageWantToWorkWith 1252\n",
      "DatabaseHaveWorkedWith 3969\n",
      "DatabaseWantToWorkWith 9051\n",
      "PlatformHaveWorkedWith 14911\n",
      "PlatformWantToWorkWith 20845\n",
      "WebframeHaveWorkedWith 8527\n",
      "WebframeWantToWorkWith 13333\n",
      "MiscTechHaveWorkedWith 22279\n",
      "MiscTechWantToWorkWith 27032\n",
      "ToolsTechHaveWorkedWith 3260\n",
      "ToolsTechWantToWorkWith 5592\n",
      "NEWCollabToolsHaveWorkedWith 205\n",
      "NEWCollabToolsWantToWorkWith 2760\n",
      "DevType 0\n"
     ]
    }
   ],
   "source": [
    "for col in X_COL:\n",
    "    print(col, df_copy[col].isna().sum())"
   ]
  },
  {
   "cell_type": "code",
   "execution_count": 68,
   "id": "c9267175",
   "metadata": {},
   "outputs": [],
   "source": [
    "df_copy.dropna(axis = 0,thresh = 10,  subset=X_COL, inplace = True)"
   ]
  },
  {
   "cell_type": "code",
   "execution_count": 69,
   "id": "516af573",
   "metadata": {
    "scrolled": true
   },
   "outputs": [
    {
     "name": "stdout",
     "output_type": "stream",
     "text": [
      "YearsCodePro 3509\n",
      "OrgSize 3677\n",
      "LanguageHaveWorkedWith 0\n",
      "LanguageWantToWorkWith 1252\n",
      "DatabaseHaveWorkedWith 3969\n",
      "DatabaseWantToWorkWith 9051\n",
      "PlatformHaveWorkedWith 14911\n",
      "PlatformWantToWorkWith 20845\n",
      "WebframeHaveWorkedWith 8527\n",
      "WebframeWantToWorkWith 13333\n",
      "MiscTechHaveWorkedWith 22279\n",
      "MiscTechWantToWorkWith 27032\n",
      "ToolsTechHaveWorkedWith 3260\n",
      "ToolsTechWantToWorkWith 5592\n",
      "NEWCollabToolsHaveWorkedWith 205\n",
      "NEWCollabToolsWantToWorkWith 2760\n",
      "DevType 0\n"
     ]
    }
   ],
   "source": [
    "for col in X_COL:\n",
    "    print(col, df_copy[col].isna().sum())\n"
   ]
  },
  {
   "cell_type": "code",
   "execution_count": 70,
   "id": "d90c4e24",
   "metadata": {},
   "outputs": [
    {
     "data": {
      "text/plain": [
       "Index(['ResponseId', 'MainBranch', 'Employment', 'Country', 'US_State',\n",
       "       'UK_Country', 'EdLevel', 'Age1stCode', 'LearnCode', 'YearsCode',\n",
       "       'YearsCodePro', 'DevType', 'OrgSize', 'Currency', 'CompTotal',\n",
       "       'CompFreq', 'LanguageHaveWorkedWith', 'LanguageWantToWorkWith',\n",
       "       'DatabaseHaveWorkedWith', 'DatabaseWantToWorkWith',\n",
       "       'PlatformHaveWorkedWith', 'PlatformWantToWorkWith',\n",
       "       'WebframeHaveWorkedWith', 'WebframeWantToWorkWith',\n",
       "       'MiscTechHaveWorkedWith', 'MiscTechWantToWorkWith',\n",
       "       'ToolsTechHaveWorkedWith', 'ToolsTechWantToWorkWith',\n",
       "       'NEWCollabToolsHaveWorkedWith', 'NEWCollabToolsWantToWorkWith', 'OpSys',\n",
       "       'NEWStuck', 'NEWSOSites', 'SOVisitFreq', 'SOAccount', 'SOPartFreq',\n",
       "       'SOComm', 'NEWOtherComms', 'Age', 'Gender', 'Trans', 'Sexuality',\n",
       "       'Ethnicity', 'Accessibility', 'MentalHealth', 'SurveyLength',\n",
       "       'SurveyEase', 'ConvertedCompYearly'],\n",
       "      dtype='object')"
      ]
     },
     "execution_count": 70,
     "metadata": {},
     "output_type": "execute_result"
    }
   ],
   "source": [
    "df_copy.columns"
   ]
  },
  {
   "cell_type": "code",
   "execution_count": 74,
   "id": "8b7acb9b",
   "metadata": {},
   "outputs": [],
   "source": [
    "X_COL.extend(Y_COL)"
   ]
  },
  {
   "cell_type": "code",
   "execution_count": 75,
   "id": "8afab6e9",
   "metadata": {},
   "outputs": [
    {
     "data": {
      "text/plain": [
       "['YearsCodePro',\n",
       " 'OrgSize',\n",
       " 'LanguageHaveWorkedWith',\n",
       " 'LanguageWantToWorkWith',\n",
       " 'DatabaseHaveWorkedWith',\n",
       " 'DatabaseWantToWorkWith',\n",
       " 'PlatformHaveWorkedWith',\n",
       " 'PlatformWantToWorkWith',\n",
       " 'WebframeHaveWorkedWith',\n",
       " 'WebframeWantToWorkWith',\n",
       " 'MiscTechHaveWorkedWith',\n",
       " 'MiscTechWantToWorkWith',\n",
       " 'ToolsTechHaveWorkedWith',\n",
       " 'ToolsTechWantToWorkWith',\n",
       " 'NEWCollabToolsHaveWorkedWith',\n",
       " 'NEWCollabToolsWantToWorkWith',\n",
       " 'DevType']"
      ]
     },
     "execution_count": 75,
     "metadata": {},
     "output_type": "execute_result"
    }
   ],
   "source": [
    "X_COL"
   ]
  },
  {
   "cell_type": "code",
   "execution_count": 76,
   "id": "2a500b1a",
   "metadata": {},
   "outputs": [
    {
     "data": {
      "text/plain": [
       "Index(['ResponseId', 'MainBranch', 'Employment', 'Country', 'US_State',\n",
       "       'UK_Country', 'EdLevel', 'Age1stCode', 'LearnCode', 'YearsCode',\n",
       "       'YearsCodePro', 'DevType', 'OrgSize', 'Currency', 'CompTotal',\n",
       "       'CompFreq', 'LanguageHaveWorkedWith', 'LanguageWantToWorkWith',\n",
       "       'DatabaseHaveWorkedWith', 'DatabaseWantToWorkWith',\n",
       "       'PlatformHaveWorkedWith', 'PlatformWantToWorkWith',\n",
       "       'WebframeHaveWorkedWith', 'WebframeWantToWorkWith',\n",
       "       'MiscTechHaveWorkedWith', 'MiscTechWantToWorkWith',\n",
       "       'ToolsTechHaveWorkedWith', 'ToolsTechWantToWorkWith',\n",
       "       'NEWCollabToolsHaveWorkedWith', 'NEWCollabToolsWantToWorkWith', 'OpSys',\n",
       "       'NEWStuck', 'NEWSOSites', 'SOVisitFreq', 'SOAccount', 'SOPartFreq',\n",
       "       'SOComm', 'NEWOtherComms', 'Age', 'Gender', 'Trans', 'Sexuality',\n",
       "       'Ethnicity', 'Accessibility', 'MentalHealth', 'SurveyLength',\n",
       "       'SurveyEase', 'ConvertedCompYearly'],\n",
       "      dtype='object')"
      ]
     },
     "execution_count": 76,
     "metadata": {},
     "output_type": "execute_result"
    }
   ],
   "source": [
    "df_copy.columns"
   ]
  },
  {
   "cell_type": "code",
   "execution_count": 77,
   "id": "5132f127",
   "metadata": {},
   "outputs": [],
   "source": [
    "df_copy = df_copy[X_COL]"
   ]
  },
  {
   "cell_type": "code",
   "execution_count": 78,
   "id": "3ea525bc",
   "metadata": {},
   "outputs": [
    {
     "data": {
      "text/plain": [
       "Index(['YearsCodePro', 'OrgSize', 'LanguageHaveWorkedWith',\n",
       "       'LanguageWantToWorkWith', 'DatabaseHaveWorkedWith',\n",
       "       'DatabaseWantToWorkWith', 'PlatformHaveWorkedWith',\n",
       "       'PlatformWantToWorkWith', 'WebframeHaveWorkedWith',\n",
       "       'WebframeWantToWorkWith', 'MiscTechHaveWorkedWith',\n",
       "       'MiscTechWantToWorkWith', 'ToolsTechHaveWorkedWith',\n",
       "       'ToolsTechWantToWorkWith', 'NEWCollabToolsHaveWorkedWith',\n",
       "       'NEWCollabToolsWantToWorkWith', 'DevType'],\n",
       "      dtype='object')"
      ]
     },
     "execution_count": 78,
     "metadata": {},
     "output_type": "execute_result"
    }
   ],
   "source": [
    "df_copy.columns"
   ]
  },
  {
   "cell_type": "code",
   "execution_count": 79,
   "id": "6272cee5",
   "metadata": {},
   "outputs": [],
   "source": [
    "df_copy.to_pickle('../data/processed/02__cleaning.pkl')"
   ]
  },
  {
   "cell_type": "code",
   "execution_count": null,
   "id": "3ccbda88",
   "metadata": {},
   "outputs": [],
   "source": []
  }
 ],
 "metadata": {
  "kernelspec": {
   "display_name": "Python 3 (ipykernel)",
   "language": "python",
   "name": "python3"
  },
  "language_info": {
   "codemirror_mode": {
    "name": "ipython",
    "version": 3
   },
   "file_extension": ".py",
   "mimetype": "text/x-python",
   "name": "python",
   "nbconvert_exporter": "python",
   "pygments_lexer": "ipython3",
   "version": "3.9.7"
  }
 },
 "nbformat": 4,
 "nbformat_minor": 5
}
